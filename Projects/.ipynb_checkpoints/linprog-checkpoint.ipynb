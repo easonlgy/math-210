{
 "cells": [
  {
   "cell_type": "markdown",
   "metadata": {
    "deletable": true,
    "editable": true
   },
   "source": [
    "# MATH 210 Introduction to Mathematical Computing\n",
    "\n",
    "## Project 1"
   ]
  },
  {
   "cell_type": "code",
   "execution_count": 1,
   "metadata": {
    "collapsed": true,
    "deletable": true,
    "editable": true
   },
   "outputs": [],
   "source": [
    "import numpy as np\n",
    "import matplotlib.pyplot as plt\n",
    "%matplotlib inline\n",
    "import scipy.optimize as spi\n",
    "import numpy.linalg as la"
   ]
  },
  {
   "cell_type": "code",
   "execution_count": 2,
   "metadata": {
    "collapsed": true,
    "deletable": true,
    "editable": true
   },
   "outputs": [],
   "source": [
    "spi.linprog?"
   ]
  },
  {
   "cell_type": "markdown",
   "metadata": {
    "deletable": true,
    "editable": true
   },
   "source": [
    "## The following are the documentation of `scipy.optimize.linprog`\n",
    "\n",
    "Signature: spi.linprog(c, A_ub=None, b_ub=None, A_eq=None, b_eq=None, bounds=None, method='simplex', callback=None, options=None)\n",
    "Docstring:\n",
    "Minimize a linear objective function subject to linear\n",
    "equality and inequality constraints.\n",
    "\n",
    "Linear Programming is intended to solve the following problem form:\n",
    "\n",
    "Minimize:     c^T * x\n",
    "\n",
    "Subject to:   A_ub * x <= b_ub\n",
    "              A_eq * x == b_eq\n",
    "\n",
    "Parameters\n",
    "----------\n",
    "A `scipy.optimize.OptimizeInput` consisting of the following fields:\n",
    "    \n",
    "    c : array_like\n",
    "        Coefficients of the linear objective function to be minimized.\n",
    "    A_ub : array_like, optional\n",
    "        2-D array which, when matrix-multiplied by x, gives the values of the\n",
    "        upper-bound inequality constraints at x.\n",
    "    b_ub : array_like, optional\n",
    "        1-D array of values representing the upper-bound of each inequality\n",
    "        constraint (row) in A_ub.\n",
    "    A_eq : array_like, optional\n",
    "        2-D array which, when matrix-multiplied by x, gives the values of the\n",
    "        equality constraints at x.\n",
    "    b_eq : array_like, optional\n",
    "        1-D array of values representing the RHS of each equality constraint\n",
    "        (row) in A_eq.\n",
    "    bounds : sequence, optional\n",
    "        ``(min, max)`` pairs for each element in ``x``, defining\n",
    "        the bounds on that parameter. Use None for one of ``min`` or\n",
    "        ``max`` when there is no bound in that direction. By default\n",
    "        bounds are ``(0, None)`` (non-negative)\n",
    "        If a sequence containing a single tuple is provided, then ``min`` and\n",
    "        ``max`` will be applied to all variables in the problem.\n",
    "    method : str, optional\n",
    "        Type of solver.  At this time only 'simplex' is supported\n",
    "        :ref:`(see here) <optimize.linprog-simplex>`.\n",
    "    callback : callable, optional\n",
    "        If a callback function is provide, it will be called within each\n",
    "        iteration of the simplex algorithm. The callback must have the signature\n",
    "        `callback(xk, **kwargs)` where xk is the current solution vector\n",
    "        and kwargs is a dictionary containing the following::\n",
    "\n",
    "            \"tableau\" : The current Simplex algorithm tableau\n",
    "            \"nit\" : The current iteration.\n",
    "            \"pivot\" : The pivot (row, column) used for the next iteration.\n",
    "            \"phase\" : Whether the algorithm is in Phase 1 or Phase 2.\n",
    "            \"basis\" : The indices of the columns of the basic variables.\n",
    "\n",
    "    options : dict, optional\n",
    "        A dictionary of solver options. All methods accept the following\n",
    "        generic options:\n",
    "\n",
    "            maxiter : int\n",
    "                Maximum number of iterations to perform.\n",
    "            disp : bool\n",
    "                Set to True to print convergence messages.\n",
    "\n",
    "        For method-specific options, see `show_options('linprog')`.\n",
    "\n",
    "Returns\n",
    "-------\n",
    "A `scipy.optimize.OptimizeResult` consisting of the following fields:\n",
    "\n",
    "    x : ndarray\n",
    "        The independent variable vector which optimizes the linear\n",
    "        programming problem.\n",
    "    fun : float\n",
    "        Value of the objective function.\n",
    "    slack : ndarray\n",
    "        The values of the slack variables.  Each slack variable corresponds\n",
    "        to an inequality constraint.  If the slack is zero, then the\n",
    "        corresponding constraint is active.\n",
    "    success : bool\n",
    "        Returns True if the algorithm succeeded in finding an optimal\n",
    "        solution.\n",
    "    status : int\n",
    "        An integer representing the exit status of the optimization::\n",
    "\n",
    "             0 : Optimization terminated successfully\n",
    "             1 : Iteration limit reached\n",
    "             2 : Problem appears to be infeasible\n",
    "             3 : Problem appears to be unbounded\n",
    "\n",
    "    nit : int\n",
    "        The number of iterations performed.\n",
    "    message : str\n",
    "        A string descriptor of the exit status of the optimization.\n",
    "\n",
    "See Also\n",
    "--------\n",
    "show_options : Additional options accepted by the solvers\n",
    "\n",
    "Notes\n",
    "-----\n",
    "This section describes the available solvers that can be selected by the\n",
    "'method' parameter. The default method is :ref:`Simplex <optimize.linprog-simplex>`.\n",
    "\n",
    "Method *Simplex* uses the Simplex algorithm (as it relates to Linear\n",
    "Programming, NOT the Nelder-Mead Simplex) [1]_, [2]_. This algorithm\n",
    "should be reasonably reliable and fast.\n",
    "\n",
    ".. versionadded:: 0.15.0\n",
    "\n",
    "References\n",
    "----------\n",
    ".. [1] Dantzig, George B., Linear programming and extensions. Rand\n",
    "       Corporation Research Study Princeton Univ. Press, Princeton, NJ, 1963\n",
    ".. [2] Hillier, S.H. and Lieberman, G.J. (1995), \"Introduction to\n",
    "       Mathematical Programming\", McGraw-Hill, Chapter 4.\n",
    ".. [3] Bland, Robert G. New finite pivoting rules for the simplex method.\n",
    "       Mathematics of Operations Research (2), 1977: pp. 103-107.\n",
    "\n",
    "Examples\n",
    "--------\n",
    "Consider the following problem:\n",
    "\n",
    "Minimize: f = -1*x[0] + 4*x[1]\n",
    "\n",
    "Subject to: -3*x[0] + 1*x[1] <= 6\n",
    "             1*x[0] + 2*x[1] <= 4\n",
    "                        x[1] >= -3\n",
    "\n",
    "where:  -inf <= x[0] <= inf\n",
    "\n",
    "This problem deviates from the standard linear programming problem.\n",
    "In standard form, linear programming problems assume the variables x are\n",
    "non-negative.  Since the variables don't have standard bounds where\n",
    "0 <= x <= inf, the bounds of the variables must be explicitly set.\n",
    "\n",
    "There are two upper-bound constraints, which can be expressed as\n",
    "\n",
    "dot(A_ub, x) <= b_ub\n",
    "\n",
    "The input for this problem is as follows:\n",
    "\n",
    ">>> c = [-1, 4]\n",
    ">>> A = [[-3, 1], [1, 2]]\n",
    ">>> b = [6, 4]\n",
    ">>> x0_bounds = (None, None)\n",
    ">>> x1_bounds = (-3, None)\n",
    ">>> from scipy.optimize import linprog\n",
    ">>> res = linprog(c, A_ub=A, b_ub=b, bounds=(x0_bounds, x1_bounds),\n",
    "...               options={\"disp\": True})\n",
    "Optimization terminated successfully.\n",
    "     Current function value: -22.000000\n",
    "     Iterations: 1\n",
    ">>> print(res)\n",
    "     fun: -22.0\n",
    " message: 'Optimization terminated successfully.'\n",
    "     nit: 1\n",
    "   slack: array([ 39.,   0.])\n",
    "  status: 0\n",
    " success: True\n",
    "       x: array([ 10.,  -3.])\n",
    "\n",
    "Note the actual objective value is 11.428571.  In this case we minimized\n",
    "the negative of the objective function.\n",
    "File:      /opt/conda/lib/python3.5/site-packages/scipy/optimize/_linprog.py\n",
    "Type:      function"
   ]
  },
  {
   "cell_type": "markdown",
   "metadata": {
    "deletable": true,
    "editable": true
   },
   "source": [
    "## Introduction\n",
    "The package I gonna use is `scipy.optimize.linprog`, which is a subpackage of `scipy.optimize`. It is designed to solve the linear programing problem using the so called `Simplex` method. I learned this method also in MATH 340 last semester and I thought it is a interesting topic and sufficient way to solve it with computer (we can solve it by hand but just with small amount of variables). We used software called `Lindo` to deal with the problem when it came to a large amount of variables and statistic analysis. So this time, I will try use Python to solve the problem.\n",
    "\n",
    "`Linear Programming` might best be called `Linear Optimization`: it means finding maxima and minima of linear functions of several variables subject to constraints that are linear equations or linear inequalities. The word “programming” has the old-fashioned meaning of “planning” and was chosen in the forties, before the advent of computers.\n",
    "\n",
    "The `Linear Programming problem` can be use to solve the question such as entering an industry or not for a company, how to allocate resources to maximize the profits, etc."
   ]
  },
  {
   "cell_type": "markdown",
   "metadata": {
    "deletable": true,
    "editable": true
   },
   "source": [
    "## Learning outcomes\n",
    "\n",
    "The main learning outcome is to let people who read this notebook know how to use `scipy.optimize.linprog` to deal with the linear programming problem.\n",
    "\n",
    "Furthermore, I will give some simple examples to show how it works in the real world problem. Actually I tried to find some firms' annual report to see whether they properly allocate their resources to maximize the profit, but it seems most resources are classified and I cannot give the whole linear system."
   ]
  },
  {
   "cell_type": "markdown",
   "metadata": {
    "deletable": true,
    "editable": true
   },
   "source": [
    "## Standard form\n",
    "The standard form of this kind of problem is:\n",
    "\n",
    "$$\n",
    "max \\ \\ c_1x_1 + c_2x_2 + \\cdots + c_nx_n\n",
    "$$\n",
    "$$\n",
    "s.t \\ \\ a_{11}x_1 + a_{12}x_2 + \\cdots + a_{1n}x_n \\leq b_1 \n",
    "\\\\ a_{21}x_1 + a_{22}x_2 + \\cdots + a_{2n}x_n \\leq b_2\n",
    "\\\\ \\cdots \\\\\n",
    "\\\\ a_{m1}x_1 + a_{m2}x_2 + \\cdots + a_{mn}x_n \\leq b_m\n",
    "$$\n",
    "$$\n",
    "x_1, \\cdots ,x_n \\geq 0\n",
    "$$"
   ]
  },
  {
   "cell_type": "markdown",
   "metadata": {
    "deletable": true,
    "editable": true
   },
   "source": [
    "## Matrix formula\n",
    "Also, we usually write the standard form in matrix formula:\n",
    "\n",
    "$$\n",
    "max \\ \\ c^Tx\n",
    "$$\n",
    "$$\n",
    "s.t \\ \\ \n",
    "\\begin{pmatrix} a_{11} & \\cdots & a_{1n} \\\\\n",
    "a_{21} & \\cdots & a_{2n} \\\\\n",
    "\\vdots & \\vdots & \\vdots \\\\\n",
    "a_{m1} & \\cdots & a_{mn} \\end{pmatrix}\n",
    "\\begin{pmatrix} x_1 \\\\ \\vdots \\\\ x_n \\end{pmatrix} \\ \\ \\leq \\ \\\n",
    "\\begin{pmatrix} b_1 \\\\ \\vdots \\\\ b_m \\end{pmatrix}\n",
    "\\\\ x \\geq 0\n",
    "$$\n",
    "where \n",
    "$$\n",
    "c = \\begin{pmatrix} c_1 \\\\ \\vdots \\\\ c_n \\end{pmatrix}\n",
    "$$"
   ]
  },
  {
   "cell_type": "markdown",
   "metadata": {
    "deletable": true,
    "editable": true
   },
   "source": [
    "The function you are trying to maximize or minimize is called the `objective function`. Each of the inequalities or equations the variables must satisfy is called a `constraint`. Constraint that simply specify that a variable is non-negative, such as $c \\geq 0$, are called `positivity constraints`. We’ll almost always assume that each variable has a positivity constraint and the Simplex Method relies on this."
   ]
  },
  {
   "cell_type": "markdown",
   "metadata": {
    "deletable": true,
    "editable": true
   },
   "source": [
    "## Simplex Method\n",
    "\n",
    "The way to solve this kind of problem is called [`Simplex Method`](http://www.math.ubc.ca/~oantolin/math340/simplex-intro.html). The procedure is:\n",
    "* Transform all equations into standard form\n",
    "* If any b < 0, introduce new variable $x_0$ and do the `Phase 1` which make sure everything is in standard form\n",
    "* Now everything is feasible and do the `Phase 2` to solve the linear system\n"
   ]
  },
  {
   "cell_type": "markdown",
   "metadata": {
    "deletable": true,
    "editable": true
   },
   "source": [
    "## Simple Example\n",
    " \n",
    "Let me introduce a simple example with `scipy.optimize.linprog`:\n",
    "\n",
    "$$\n",
    "maximize \\ \\ x_1 + 2x_2 - x_3 \\\\\n",
    "s.t. \\ \\ 2x_1 + x_2 + x_3 \\leq 14 \\\\\n",
    "         4x_1 + 2x_2 + 3x_3 \\leq 28 \\\\\n",
    "         2x_1 + 5x_2 + 5x_3 \\leq 30 \\\\\n",
    "         x_1 \\ , x_2 \\ , x_3 \\geq 0\n",
    "$$"
   ]
  },
  {
   "cell_type": "code",
   "execution_count": 5,
   "metadata": {
    "collapsed": false,
    "deletable": true,
    "editable": true
   },
   "outputs": [
    {
     "data": {
      "text/plain": [
       "     fun: -13.0\n",
       " message: 'Optimization terminated successfully.'\n",
       "     nit: 2\n",
       "   slack: array([ 0.,  0.,  0.])\n",
       "  status: 0\n",
       " success: True\n",
       "       x: array([ 5.,  4.,  0.])"
      ]
     },
     "execution_count": 5,
     "metadata": {},
     "output_type": "execute_result"
    }
   ],
   "source": [
    "A = np.array([[2,1,1],[4,2,3],[2,5,5]])\n",
    "spi.linprog([-1,-2,1],A,[14,28,30])"
   ]
  },
  {
   "cell_type": "markdown",
   "metadata": {
    "deletable": true,
    "editable": true
   },
   "source": [
    "Since the `scipy.optimize.linprog` always solve the `minimize` problem, so we convert our object function into minimize $-cx$. So the result above shows that the optimal solution to our linear programming is 13 with $x_1 = 5 \\ , x_2 = 4 \\ , x_3 = 0$ and slack variables $x_4 = x_5 = x_6 = 0$."
   ]
  },
  {
   "cell_type": "markdown",
   "metadata": {
    "collapsed": true,
    "deletable": true,
    "editable": true
   },
   "source": [
    "## Tollbooth Staffing Problem (Limitation of the method)\n",
    "\n",
    "The tollbooth staffing problem is a interesting application of linear programming.\n",
    "\n",
    "The problem is to minimize the total number of the tollbooth staff under the following constraints:\n",
    "  * every tollbooth requires one staff\n",
    "  * every shift is a 9-hour shift including a 1-hour rest (ie. 4-hour work - 1-hour rest - 4-hour work)\n",
    "  * $x_i$ is the number of works on the i-th shift starting at midnight + $(i-1)$hrs\n",
    "    * e.g. $x_6$ <--> 5am - 9am, 10am - 2pm\n",
    "  * number of workers' constraints:\n",
    "    * between midnight and 6am, 2 people should be available\n",
    "    * between 6am and 10am, 8 people should be available\n",
    "    * between 10am and 12pm, 4 people should be available\n",
    "    * between 12pm and 4pm, 3 people should be available\n",
    "    * between 4pm and 6pm, 6 people should be available\n",
    "    * between 10pm and midnight, 3 people should be available\n",
    "\n",
    "Then we can transform all these information into a linear system:\n",
    "$$\n",
    "min \\ \\\n",
    "\\begin{align}\n",
    "& x_1+x_2+x_3+x_4+x_5+x_6+x_7+x_8+x_9+\\\\\n",
    "& x_{10}+x_{11}+x_{12}+x_{13}+x_{14}+x_{15}+x_{16}+x_{17}+\\\\\n",
    "& x_{18}+x_{19}+x_{20}+x_{21}+x_{22}+x_{23}+x_{24}\n",
    "\\end{align}\n",
    "$$\n",
    "$$\n",
    "\\begin{align}\n",
    "  & subject \\ \\ to \\\\\n",
    "  & 12:00am) \\ \\ x_1+x_{17}+x_{18}+x_{19}+x_{20}+x_{22}+x_{23}+x_{24} > 2 \\\\\n",
    "  & 1:00am) \\ \\ x_1+ x_2+x_{18}+x_{19}+x_{20}+x_{21}+x_{23}+x_{24} > 2 \\\\\n",
    "  & 2:00am) \\ \\ x_1+ x_2+ x_3+x_{19}+x_{20}+x_{21}+x_{22}+x_{24} > 2 \\\\\n",
    "  & 3:00am) \\ \\ x_1+ x_2+ x_3+ x_4+x_{20}+x_{21}+x_{22}+x_{23} > 2 \\\\\n",
    "  & 4:00am) \\ \\ x_2+ x_3+ x_4+ x_5+x_{21}+x_{22}+x_{23}+x_{24} > 2 \\\\\n",
    "  & 5:00am) \\ \\ x_1+ x_3+ x_4+ x_5+ x_6+x_{22}+x_{23}+x_{24} > 2 \\\\\n",
    "  & 6:00am) \\ \\ x_1+ x_2+ x_4+ x_5+ x_6+ x_7+x_{23}+x_{24} > 8 \\\\\n",
    "  & 7:00am) \\ \\ x_1+ x_2+ x_3+ x_5+ x_6+ x_7+ x_8+x_{24} > 8 \\\\\n",
    "  & 8:00am) \\ \\ x_1+ x_2+ x_3+ x_4+ x_6+ x_7+ x_8+ x_{9} > 8 \\\\\n",
    "  & 9:00am) \\ \\ x_2+ x_3+ x_4+ x_5+ x_7+ x_8+ x_{9}+x_{10} > 8 \\\\\n",
    "  & 10:00am) \\ \\ x_3+ x_4+ x_5+ x_6+ x_8+ x_{9}+x_{10}+x_{11} > 4 \\\\\n",
    "  & 11:00am) \\ \\ x_4+ x_5+ x_6+ x_7+ x_{9}+x_{10}+x_{11}+x_{12} > 4 \\\\\n",
    "  & 12:00pm) \\ \\ x_5+ x_6+ x_7+ x_8+x_{10}+x_{11}+x_{12}+x_{13} > 3 \\\\\n",
    "  & 1:00pm) \\ \\ x_6+ x_7+ x_8+ x_{9}+x_{11}+x_{12}+x_{13}+x_{14} > 3 \\\\\n",
    "  & 2:00pm) \\ \\ x_7+ x_8+ x_{9}+x_{10}+x_{12}+x_{13}+x_{14}+x_{15} > 3 \\\\\n",
    "  & 3:00pm) \\ \\ x_8+ x_{9}+x_{10}+x_{11}+x_{13}+x_{14}+x_{15}+x_{16} > 3 \\\\\n",
    "  & 4:00pm) \\ \\ x_{9}+x_{10}+x_{11}+x_{12}+x_{14}+x_{15}+x_{16}+x_{17} > 6 \\\\\n",
    "  & 5:00pm) \\ \\ x_{10}+x_{11}+x_{12}+x_{13}+x_{15}+x_{16}+x_{17}+x_{18} > 6 \\\\\n",
    "  & 6:00pm) \\ \\ x_{11}+x_{12}+x_{13}+x_{14}+x_{16}+x_{17}+x_{18}+x_{19} > 5 \\\\\n",
    "  & 7:00pm) \\ \\ x_{12}+x_{13}+x_{14}+x_{15}+x_{17}+x_{18}+x_{19}+x_{20} > 5 \\\\\n",
    "  & 8:00pm) \\ \\ x_{13}+x_{14}+x_{15}+x_{16}+x_{18}+x_{19}+x_{20}+x_{21} > 5 \\\\\n",
    "  & 9:00pm) \\ \\ x_{14}+x_{15}+x_{16}+x_{17}+x_{19}+x_{20}+x_{21}+x_{22} > 5 \\\\\n",
    "  & 10:00pm) \\ \\ x_{15}+x_{16}+x_{17}+x_{18}+x_{20}+x_{21}+x_{22}+x_{23} > 3 \\\\\n",
    "  & 11:00pm) \\ \\ x_{16}+x_{17}+x_{18}+x_{19}+x_{21}+x_{22}+x_{23}+x_{24} > 3 \\\\\n",
    "\\end{align}\n",
    "$$\n",
    "\n",
    "And then we can transform it into `Python Language` and solve it with `scipy.optimize.linprog`."
   ]
  },
  {
   "cell_type": "code",
   "execution_count": 3,
   "metadata": {
    "collapsed": false,
    "deletable": true,
    "editable": true
   },
   "outputs": [
    {
     "data": {
      "text/plain": [
       "     fun: 15.874999999999993\n",
       " message: 'Optimization terminated successfully.'\n",
       "     nit: 41\n",
       "   slack: array([ 0.   ,  2.625,  3.   ,  3.375,  4.25 ,  1.5  ,  0.   ,  0.   ,\n",
       "        0.   ,  0.   ,  0.   ,  0.375,  0.   ,  0.125,  0.75 ,  1.5  ,\n",
       "        0.   ,  0.   ,  0.   ,  0.   ,  0.   ,  0.   ,  3.   ,  1.5  ])\n",
       "  status: 0\n",
       " success: True\n",
       "       x: array([ 0.5  ,  4.125,  0.375,  0.375,  1.375,  0.875,  0.75 ,  0.   ,\n",
       "        1.   ,  0.   ,  0.   ,  0.   ,  0.   ,  0.5  ,  1.5  ,  1.5  ,\n",
       "        1.5  ,  1.5  ,  0.   ,  0.   ,  0.   ,  0.   ,  0.   ,  0.   ])"
      ]
     },
     "execution_count": 3,
     "metadata": {},
     "output_type": "execute_result"
    }
   ],
   "source": [
    "A = np.array([[-1,0,0,0,0,0,0,0,0,0,0,0,0,0,0,0,0,-1,-1,-1,-1,-1,-1,-1],\n",
    "              [-1,-1,0,0,0,0,0,0,0,0,0,0,0,0,0,0,0,0,-1,-1,-1,-1,-1,-1],\n",
    "              [-1,-1,-1,0,0,0,0,0,0,0,0,0,0,0,0,0,0,0,0,-1,-1,-1,-1,-1],\n",
    "              [-1,-1,-1,-1,0,0,0,0,0,0,0,0,0,0,0,0,0,0,0,0,-1,-1,-1,-1],\n",
    "              [0,-1,-1,-1,-1,0,0,0,0,0,0,0,0,0,0,0,0,0,0,0,-1,-1,-1,-1],\n",
    "              [-1,0,-1,-1,-1,-1,0,0,0,0,0,0,0,0,0,0,0,0,0,0,0,-1,-1,-1],\n",
    "              [-1,-1,0,-1,-1,-1,-1,0,0,0,0,0,0,0,0,0,0,0,0,0,0,0,-1,-1],\n",
    "              [-1,-1,-1,0,-1,-1,-1,-1,0,0,0,0,0,0,0,0,0,0,0,0,0,0,0,-1],\n",
    "              [-1,-1,-1,-1,0,-1,-1,-1,-1,0,0,0,0,0,0,0,0,0,0,0,0,0,0,0],\n",
    "              [0,-1,-1,-1,-1,0,-1,-1,-1,-1,0,0,0,0,0,0,0,0,0,0,0,0,0,0],\n",
    "              [0,0,-1,-1,-1,-1,0,-1,-1,-1,-1,0,0,0,0,0,0,0,0,0,0,0,0,0],\n",
    "              [0,0,0,-1,-1,-1,-1,0,-1,-1,-1,-1,0,0,0,0,0,0,0,0,0,0,0,0],\n",
    "              [0,0,0,0,-1,-1,-1,-1,0,-1,-1,-1,-1,0,0,0,0,0,0,0,0,0,0,0],\n",
    "              [0,0,0,0,0,-1,-1,-1,-1,0,-1,-1,-1,-1,0,0,0,0,0,0,0,0,0,0],\n",
    "              [0,0,0,0,0,0,-1,-1,-1,-1,0,-1,-1,-1,-1,0,0,0,0,0,0,0,0,0],\n",
    "              [0,0,0,0,0,0,0,-1,-1,-1,-1,0,-1,-1,-1,-1,0,0,0,0,0,0,0,0],\n",
    "              [0,0,0,0,0,0,0,0,-1,-1,-1,-1,0,-1,-1,-1,-1,0,0,0,0,0,0,0],\n",
    "              [0,0,0,0,0,0,0,0,0,-1,-1,-1,-1,0,-1,-1,-1,-1,0,0,0,0,0,0],\n",
    "              [0,0,0,0,0,0,0,0,0,0,-1,-1,-1,-1,0,-1,-1,-1,-1,0,0,0,0,0],\n",
    "              [0,0,0,0,0,0,0,0,0,0,0,-1,-1,-1,-1,0,-1,-1,-1,-1,0,0,0,0],\n",
    "              [0,0,0,0,0,0,0,0,0,0,0,0,-1,-1,-1,-1,0,-1,-1,-1,-1,0,0,0],\n",
    "              [0,0,0,0,0,0,0,0,0,0,0,0,0,-1,-1,-1,-1,0,-1,-1,-1,-1,0,0],\n",
    "              [0,0,0,0,0,0,0,0,0,0,0,0,0,0,-1,-1,-1,-1,0,-1,-1,-1,-1,0],\n",
    "              [0,0,0,0,0,0,0,0,0,0,0,0,0,0,0,-1,-1,-1,-1,0,-1,-1,-1,-1]])\n",
    "c = np.array([1,1,1,1,1,1,1,1,1,1,1,1,1,1,1,1,1,1,1,1,1,1,1,1])\n",
    "b = np.array([-2,-2,-2,-2,-2,-2,-8,-8,-8,-8,-4,-4,-3,-3,-3,-3,-6,-6,-5,-5,-5,-5,-3,-3])\n",
    "spi.linprog(c,A,b)"
   ]
  },
  {
   "cell_type": "markdown",
   "metadata": {
    "collapsed": true,
    "deletable": true,
    "editable": true
   },
   "source": [
    "So from the above result we can get the solution with\n",
    "\n",
    "$$\n",
    "x_8 = x_{10} = x_{11} = x_{12} = x_{13} = x_{19} = x_{20} = x_{21} = x_{22} = x_{23} = x_{24} = 0 \\\\ \n",
    "x_2 = 4.125 \\\\ \n",
    "x_3 = x_4 = 0.375 \\\\ \n",
    "x_5 = 1.375 \\\\ \n",
    "x_6 = 0.875 \\\\\n",
    "x_1 = x_{14} = 0.5 \\\\\n",
    "x_7 =  0.75 \\\\\n",
    "x_9 = 1 \\\\\n",
    "x_{15} = x_{16} = x_{17} = x_{18} = 1.5 \n",
    "$$\n",
    "\n",
    "But as we all know, we can not have say 4.125 people at $x_2$. So it will involve the integer programming problem. But the default method for `scipy.optimize.linprog` is `Simplex` and for now it can only support `Simplex` method. Thus, this kind of question can not be solved with `scipy.optimize.linprog` and it is kind of the limitation."
   ]
  },
  {
   "cell_type": "markdown",
   "metadata": {
    "deletable": true,
    "editable": true
   },
   "source": [
    "## The Career Points Problem\n",
    "\n",
    "A student wants to take on extra curricular activities that will boost their chance of finding a job after graduation. We quantify the boost in terms of career points. There are limits on the students time, money and loss of self esteem. The activities of networking, taking professional exams and doing sports will all contribute to landing a job after graduation; each unit of the activities will result in some number of career points. The student wishes to maximize the number of career points. The activities (for this student) have different costs in terms of time, money and self esteem. The student has 34 hours to spend on these activities and has `$1800` to spend (the costs are given in units of `$100` below). A student can only lose 9 units of self esteem before affecting their success in UBC courses.\n",
    "\n",
    "\n",
    "|               | networking | exams | sports | available |\n",
    "|---------------|------------|-------|--------|-----------|\n",
    "| hours         | 5          | 6     | 4      | 34        |\n",
    "| money         | 3          | 3     | 2      | 18        |\n",
    "| self esteem   | 1          | 2     | 1      | 9         |\n",
    "| career points | 7          | 8     | 5      |           |"
   ]
  },
  {
   "cell_type": "markdown",
   "metadata": {
    "collapsed": true,
    "deletable": true,
    "editable": true
   },
   "source": [
    "Let $x_1$ denote the units of networking, $x_2$ denote the units of professional exams and $x_3$ denote the units of sports. And therefore we can obtain the following data:\n",
    "\n",
    "$$\n",
    "A = \\begin{pmatrix} 5 & 6 & 4 \\\\ 3 & 3 & 2 \\\\ 1 & 2 & 1 \\end{pmatrix} \\ ,\n",
    "x = \\begin{pmatrix} x_1 \\\\ x_2 \\\\ x_3 \\end{pmatrix} \\ ,\n",
    "b = \\begin{pmatrix} 34 \\\\ 18 \\\\ 9 \\end{pmatrix} \\ ,\n",
    "c = \\begin{pmatrix} 7 & 8 & 5 \\end{pmatrix}\n",
    "$$"
   ]
  },
  {
   "cell_type": "code",
   "execution_count": 4,
   "metadata": {
    "collapsed": false,
    "deletable": true,
    "editable": true
   },
   "outputs": [
    {
     "data": {
      "text/plain": [
       "     fun: -45.0\n",
       " message: 'Optimization terminated successfully.'\n",
       "     nit: 2\n",
       "   slack: array([ 1.,  0.,  0.])\n",
       "  status: 0\n",
       " success: True\n",
       "       x: array([ 3.,  3.,  0.])"
      ]
     },
     "execution_count": 4,
     "metadata": {},
     "output_type": "execute_result"
    }
   ],
   "source": [
    "A = np.array([[5,6,4],[3,3,2],[1,2,1]])\n",
    "b = np.array([34,18,9])\n",
    "c = np.array([-7,-8,-5])\n",
    "spi.linprog(c,A,b)"
   ]
  },
  {
   "cell_type": "markdown",
   "metadata": {
    "deletable": true,
    "editable": true
   },
   "source": [
    "As the result above, we obtain the solution with 3 units of networking and 3 units of exams but no sports. But as the matter of fact that we can also get the solution with 2 units of networking, 2 units of exams and 1 unit of sports, which gives us the same optimum value. That means the optimum solution to certain problems are sometimes not single."
   ]
  },
  {
   "cell_type": "markdown",
   "metadata": {
    "deletable": true,
    "editable": true
   },
   "source": [
    "## The Construction Problem\n",
    "\n",
    "We wish to create water supply for a small community at minimum total cost. We can construct roof collections sytems, wells and dams. We are not concerned with integrality in this question. We seek a total supply of water of 100 litres per hour. We have a limited availability of maintenance time which is required for wells and dams. As well, we impose a maximum on the number of each water system.\n",
    "\n",
    "|              | roof | well | dam |    constraint    |\n",
    "|:------------:|:----:|:----:|:---:|:----------------:|\n",
    "|    supply    |   1  |   5  |  50 | total $\\geq$ 100 |\n",
    "| maintainance |   0  |   1  |  10 |  total $\\leq$ 21 |\n",
    "|     upper    |  20  |  10  |  2  |                  |"
   ]
  },
  {
   "cell_type": "markdown",
   "metadata": {
    "deletable": true,
    "editable": true
   },
   "source": [
    "Then we can obtain:\n",
    "\n",
    "$$\n",
    "A = \\begin{pmatrix} -1 & -5 & -50 \\\\ 0 & 1 & 10 \\\\ 1 & 0 & 0 \\\\ 0 & 1 & 0 \\\\ 0 & 0 & 1 \\end{pmatrix} \\ ,\n",
    "x = \\begin{pmatrix} x_1 \\\\ x_2 \\\\ x_3 \\end{pmatrix} \\ ,\n",
    "b = \\begin{pmatrix} -100 \\\\ 21 \\\\ 20 \\\\ 10 \\\\ 2 \\end{pmatrix} \\ ,\n",
    "c = \\begin{pmatrix} -10 \\\\ -30 \\\\ -300 \\end{pmatrix}\n",
    "$$"
   ]
  },
  {
   "cell_type": "code",
   "execution_count": 6,
   "metadata": {
    "collapsed": false,
    "deletable": true,
    "editable": true
   },
   "outputs": [
    {
     "data": {
      "text/plain": [
       "     fun: 600.0\n",
       " message: 'Optimization terminated successfully.'\n",
       "     nit: 1\n",
       "   slack: array([  1.,  20.,  10.,   0.,   0.])\n",
       "  status: 0\n",
       " success: True\n",
       "       x: array([ 0.,  0.,  2.])"
      ]
     },
     "execution_count": 6,
     "metadata": {},
     "output_type": "execute_result"
    }
   ],
   "source": [
    "A = np.array([[-1,-5,-50],[0,1,10],[1,0,0],[0,1,0],[0,0,1]])\n",
    "b = np.array([-100,21,20,10,2])\n",
    "c = np.array([10,30,300])\n",
    "spi.linprog(c,A,b)"
   ]
  },
  {
   "cell_type": "markdown",
   "metadata": {
    "deletable": true,
    "editable": true
   },
   "source": [
    "From the above result, we get the optimum solution with 2 units of dam and nothing else. But also, this can also be obtain by 10 units of well and 1 unit of dam."
   ]
  },
  {
   "cell_type": "markdown",
   "metadata": {
    "collapsed": true,
    "deletable": true,
    "editable": true
   },
   "source": [
    "## Conclusion\n",
    "\n",
    "So it seems not that difficult to deal with the linear programming problem with `scipy.optimize.linprog`, we just need to pay attention to the following:\n",
    "\n",
    "* First transfering all the things into the standard form\n",
    "* The standard form is to maximize the object function but minimize in the `scipy.optimize.linprog`, so we need to times `-1` to the standard form\n",
    "* Then constructing right matrix A, b and c\n",
    "* Use `scipy.optimize.linprg(c,A,b)` to compute"
   ]
  },
  {
   "cell_type": "markdown",
   "metadata": {
    "deletable": true,
    "editable": true
   },
   "source": [
    "## Reference\n",
    "\n",
    "Omar Antolín Camarena, my instructor for [MATH 340](http://www.math.ubc.ca/~oantolin/math340/) last term\n",
    "\n",
    "Wikipedia page of [Linear Programming](https://en.wikipedia.org/wiki/Linear_programming)\n",
    "\n",
    "`Microeconomics`, Pindyck, Robert and Rubinfeld, David, Prentice Hall, 8-th edition"
   ]
  }
 ],
 "metadata": {
  "kernelspec": {
   "display_name": "Python 3",
   "language": "python",
   "name": "python3"
  },
  "language_info": {
   "codemirror_mode": {
    "name": "ipython",
    "version": 3
   },
   "file_extension": ".py",
   "mimetype": "text/x-python",
   "name": "python",
   "nbconvert_exporter": "python",
   "pygments_lexer": "ipython3",
   "version": "3.5.2"
  }
 },
 "nbformat": 4,
 "nbformat_minor": 2
}
