{
 "cells": [
  {
   "cell_type": "markdown",
   "metadata": {
    "deletable": true,
    "editable": true
   },
   "source": [
    "# MATH 210  Project 1    scipy special (scipy.special)  "
   ]
  },
  {
   "cell_type": "markdown",
   "metadata": {},
   "source": [
    "## Introduction: \n"
   ]
  },
  {
   "cell_type": "markdown",
   "metadata": {},
   "source": [
    "scipy.special is one interesting package in phthon. It conclude large range of different kind of functions, such as airy, elliptic, bessel, gamma, beta, hypergeometric, parabolic cyliner, mathieu, spheroidal wave, struvem, and kelvin. In fact, compre with numpy which we studied in class, most of these special functions can take array arguments and return array results following the same broadcasting rules as numpy. Such as bessel which i will introduce later, it also contains complex numbers as input. Therefore it is very useful to learn about this.\n"
   ]
  },
  {
   "cell_type": "markdown",
   "metadata": {},
   "source": [
    "### Goal:\n"
   ]
  },
  {
   "cell_type": "markdown",
   "metadata": {
    "deletable": true,
    "editable": true
   },
   "source": [
    "The main reason for me to learn more about scipy special package is that scipy.special package is the definiton of numerous pecial function of mathematical physices. As a MATH majot student, i think scipy special package can help me to solve math problems more conveniently."
   ]
  },
  {
   "cell_type": "markdown",
   "metadata": {
    "deletable": true,
    "editable": true
   },
   "source": [
    "The goal of this project is that i want to introduce the scipy special package by using several different examples. In fact, there are many availbale functions such as airy, elliptic, bessel, gamma, beta, hypergeometric, parabolic cylinder, mathieu, spheroidal wave, struve, and kelvin in this project, but i will mainly choose three of them to introduce.  The main source is come from [scipy.special](https://docs.scipy.org/doc/scipy-0.18.1/reference/special.html#gamma-and-related-functions)"
   ]
  },
  {
   "cell_type": "markdown",
   "metadata": {
    "deletable": true,
    "editable": true
   },
   "source": [
    "### contents\n",
    "* Bessel functions in SciPy\n",
    "* Gamma and Beta functions\n",
    "* Ellipse functons\n"
   ]
  },
  {
   "cell_type": "code",
   "execution_count": null,
   "metadata": {
    "collapsed": true,
    "deletable": true,
    "editable": true
   },
   "outputs": [],
   "source": [
    "import scipy.integrate as spi\n",
    "import numpy as np\n",
    "import matplotlib.pyplot as plt\n",
    "%matplotlib inline"
   ]
  },
  {
   "cell_type": "markdown",
   "metadata": {
    "deletable": true,
    "editable": true
   },
   "source": [
    "## 1 Bessel functions in SciPy"
   ]
  },
  {
   "cell_type": "markdown",
   "metadata": {
    "deletable": true,
    "editable": true
   },
   "source": [
    "  Phthon's scipy library has many functions for evaluating Bessel functions. All of them are contained in the scipy. special package\n",
    "  There are many differnt kinds of Bessel functions, each family of Bessel functions is indexed by a parameter which called the order. The order is denoted n when integer-valued and v(Greek nu) when more generally revalued.  "
   ]
  },
  {
   "cell_type": "markdown",
   "metadata": {
    "deletable": true,
    "editable": true
   },
   "source": [
    "* the following example is kind of scipy.special.jn problem. scipy.special.jn(v,z)= < ufunc 'jv'>\n",
    "\n",
    "* In Bessel functions, there are generally three different parameters\n",
    "* v: array_like\n",
    "*  Order (float)\n",
    "* x: array_like\n",
    "* Argument (float or complex)\n",
    "* returns:   J: ndarray \n",
    "*         value of the Bessel function $J_v(z)$\n"
   ]
  },
  {
   "cell_type": "markdown",
   "metadata": {
    "deletable": true,
    "editable": true
   },
   "source": [
    "### the rules about Bessel functions $J_n$\n"
   ]
  },
  {
   "cell_type": "markdown",
   "metadata": {
    "deletable": true,
    "editable": true
   },
   "source": [
    "* In scipy.jn problem, firstly we need to know more about Bessel function. if in relationship of function scipy.special.jn(v,z)  the value of v is possitive, then the computation is carried out using the AMDS zbesj routine, which is showed in the following:   \n",
    "* $ J_v(z) =exp(n\\pi i/2)I_v(-iz)$  \n",
    "* when $(\\mathcal{J}z > 0)$\n",
    "* $ J_v(z) = exp(-n\\pi i/2)I_v(iz)$\n",
    "* when $ (\\mathcal {J}z <0)$"
   ]
  },
  {
   "cell_type": "markdown",
   "metadata": {
    "deletable": true,
    "editable": true
   },
   "source": [
    "* as the value of v is negative, then the formula is looks like this:\n",
    "* $J_v(z) = J_v(z)cos(\\pi v)-Y_v(z)sin(\\pi v)$\n",
    "* $Y_v(z)$ is the Bessel unction of the second kind, is also compute using AMDS zbesj routine.  And the second term is equal to zero for integer v."
   ]
  },
  {
   "cell_type": "markdown",
   "metadata": {
    "deletable": true,
    "editable": true
   },
   "source": [
    "### the rules about zeros of Bessel Functions   jn_zeros(n, nt)"
   ]
  },
  {
   "cell_type": "markdown",
   "metadata": {
    "deletable": true,
    "editable": true
   },
   "source": [
    "* jn_zeros is used to compute zeros of integer-order Bessel function Jn(x)\n",
    "* therefore in jn_zeros, there are two different parameters\n",
    "* n : int\n",
    "*  this is  Order of Bessel Function\n",
    "* nt:int\n",
    "* this is Number of zeros to return\n"
   ]
  },
  {
   "cell_type": "markdown",
   "metadata": {
    "deletable": true,
    "editable": true
   },
   "source": [
    "### here is the source of data of jn_zeros(n,nt):\n"
   ]
  },
  {
   "cell_type": "code",
   "execution_count": null,
   "metadata": {
    "collapsed": false,
    "deletable": true,
    "editable": true
   },
   "outputs": [],
   "source": [
    "def jn_zeros(n,nt):  # there are two different parameters n and nt, which one is order of Bessel function \n",
    "                     #and another one is number of zeros to return\n",
    "                     # then start to compute nt zeros of the  Bessel function Jn(x).\n",
    "            return jnyn_zeros(n,nt)[0]"
   ]
  },
  {
   "cell_type": "markdown",
   "metadata": {
    "deletable": true,
    "editable": true
   },
   "source": [
    "###  Example\n",
    "\n"
   ]
  },
  {
   "cell_type": "markdown",
   "metadata": {
    "deletable": true,
    "editable": true
   },
   "source": [
    " Question:  Bessel functions are a family of solutions to Bessel’s differential equation with real or complex order alpha:   this is an exampe of a circulat drum head anchored at the edges.  this example combine jn and jn_zeros notes as previous\n",
    " "
   ]
  },
  {
   "cell_type": "markdown",
   "metadata": {
    "deletable": true,
    "editable": true
   },
   "source": [
    "$$ x^2\\frac{\\mathrm d^2 y}{\\mathrm d x^2} + x\\frac{\\mathrm d y}{\\mathrm d x} + (x^2 - \\alpha^2)y =0$$\n"
   ]
  },
  {
   "cell_type": "code",
   "execution_count": null,
   "metadata": {
    "collapsed": true,
    "deletable": true,
    "editable": true
   },
   "outputs": [],
   "source": [
    "from scipy import special  \n",
    "# start to import scipy.special package  in this question.\n",
    "def drumhead_height(n, k, distance, angle, t):   \n",
    "# import parameters into the equation, which are n, k ,distnace , andgle and time.\n",
    "    kth_zero = special.jn_zeros(n, k)[-1]\n",
    "# start the base and use the spicy.special (jn_zeros)package. this is the same as the source of jn_zeros\n",
    "    return np.cos(t) * np.cos(n*angle) * special.jn(n, distance*kth_zero)\n",
    "# using the spicy.spcial package and numpy package to write the equation\n",
    "theta = np.r_[0:2*np.pi:50j]\n",
    "# write the range of theta\n",
    "radius = np.r_[0:1:50j]\n",
    "# write the range of radius\n",
    "# then there are three equations about x, y and z.\n",
    "x = np.array([r * np.cos(theta) for r in radius])\n",
    "y = np.array([r * np.sin(theta) for r in radius])\n",
    "z = np.array([drumhead_height(1, 1, r, theta, 0.5) for r in radius])\n",
    "\n",
    "\n",
    "    "
   ]
  },
  {
   "cell_type": "code",
   "execution_count": null,
   "metadata": {
    "collapsed": false,
    "deletable": true,
    "editable": true
   },
   "outputs": [],
   "source": [
    "    # here are the code about how to draw picture\n",
    "    import matplotlib.pyplot as plt\n",
    "    from mpl_toolkits.mplot3d import Axes3D\n",
    "    from matplotlib import cm\n",
    "    fig = plt.figure()\n",
    "    ax = Axes3D(fig)\n",
    "    ax.plot_surface(x, y, z, rstride=1, cstride=1, cmap=cm.jet)\n",
    "    ax.set_xlabel('X')\n",
    "    ax.set_ylabel('Y')\n",
    "    ax.set_zlabel('Z')\n",
    "    plt.show()\n",
    "    "
   ]
  },
  {
   "cell_type": "markdown",
   "metadata": {
    "deletable": true,
    "editable": true
   },
   "source": [
    "## 2 Gamma and beta functions"
   ]
  },
  {
   "cell_type": "markdown",
   "metadata": {
    "deletable": true,
    "editable": true
   },
   "source": [
    "\n",
    "The gamma function is often referred to as the generalized factorial since z*gamma(z) = gamma(z+1) and gamma(n+1) = n! for natural number n.\n",
    "More specifically, the scipy function for gamma function  $\\Gamma (z)$ and the beta function $B(x,y)$ are called gamma and beta. "
   ]
  },
  {
   "cell_type": "markdown",
   "metadata": {
    "deletable": true,
    "editable": true
   },
   "source": [
    "* Here are more clearly functions to show gamma(z):\n",
    "* $\\Gamma (z) = \\int_0^\\infty t^{z-1}e^{-t}dt$\n",
    "* beta(x,y) compute\n",
    "* $B(x,y)=\\int_0^1 t^{x-1}(1-t)^{y-1}dt = \\frac{\\Gamma(x)\\Gamma(y)}{\\Gamma(x+y)}$"
   ]
  },
  {
   "cell_type": "markdown",
   "metadata": {
    "deletable": true,
    "editable": true
   },
   "source": [
    "## scipy.special.gammaln(x)\n"
   ]
  },
  {
   "cell_type": "markdown",
   "metadata": {
    "deletable": true,
    "editable": true
   },
   "source": [
    "Logarithms\n",
    "it is important to introduce Logarithms, the gamma and beta functions usually are not as useful in prctice as their logarithms. However, scipy special can be used to show as gammaln and betaln. In this case, gammaln actualy returns the natural logarithm of the absoloute value of the gamma functins.\n",
    "for example: gammaln(z) computes $log| \\Gamma(z) |$. Similarly betaln(x, y) computes $log | B(x, y) |$."
   ]
  },
  {
   "cell_type": "markdown",
   "metadata": {
    "deletable": true,
    "editable": true
   },
   "source": [
    "* gammain(x) is Logarithm of the absolute value of the Gamma function for real inputes\n",
    "* there are one parametwers: which is x: array-like, this is values on the real line at which to compute gammaln\n",
    "* returns is gammaln: ndarray, this is the values of gammaln at x"
   ]
  },
  {
   "cell_type": "markdown",
   "metadata": {
    "deletable": true,
    "editable": true
   },
   "source": [
    "## here is the data source of gammaln(x):\n"
   ]
  },
  {
   "cell_type": "code",
   "execution_count": null,
   "metadata": {
    "collapsed": false,
    "deletable": true,
    "editable": true
   },
   "outputs": [],
   "source": [
    "def gammaln(x):\n",
    "    \"\"\"\n",
    "    Logarithm of the absolute value of the Gamma function for real inputs.\n",
    "    Parameters\n",
    "    ----------\n",
    "    x : array-like\n",
    "        Values on the real line at which to compute ``gammaln``\n",
    "    Returns\n",
    "    -------\n",
    "    gammaln : ndarray\n",
    "        Values of ``gammaln`` at x.\n",
    "    See Also\n",
    "    --------\n",
    "    gammasgn : sign of the gamma function\n",
    "    loggamma : principal branch of the logarithm of the gamma function\n",
    "    Notes\n",
    "   `.\n",
    "    \"\"\"\n",
    "    if np.iscomplexobj(x):\n",
    "        warnings.warn((\"Use of gammaln for complex arguments is \"\n",
    "                       \"deprecated as of scipy 0.18.0. Use \"\n",
    "                       \"scipy.special.loggamma instead.\"),\n",
    "                      DeprecationWarning)\n",
    "    return _gammaln(x)\n",
    "\n",
    "\n"
   ]
  },
  {
   "cell_type": "markdown",
   "metadata": {
    "collapsed": false,
    "deletable": true,
    "editable": true
   },
   "source": [
    "\n",
    "## 3. Ellipse function\n"
   ]
  },
  {
   "cell_type": "markdown",
   "metadata": {},
   "source": [
    "### scipy.special.ellipj(u,m)\n",
    "* scipy.special.ellipj can be used in elliptic functions of parameter m between o and 1 and real argument u.\n",
    "* there are two different Parameters:\t\n",
    "* m : array_like which is Parameter.\n",
    "* u : array_like which is Argument.\n",
    "* the Returns:\t\n",
    "* sn, cn, dn, ph : ndarrays\n",
    "* The returned functions:  sn(u|m), cn(u|m), dn(u|m)\n",
    "* The value ph is such that if u = ellipk(ph, m), then sn(u|m) = sin(ph) and cn(u|m) = cos(ph).\n",
    "\n"
   ]
  },
  {
   "cell_type": "markdown",
   "metadata": {},
   "source": [
    "### scipy.special.ellipk\n",
    "* scipy.special.ellipk is kind of complete elliptic integral of the first kind.\n",
    "* This function is defined as\n",
    "* $$ K(m)=\\int_0^{\\pi/2} [1-msin(t)^2]^{-1/2}dt$$\n",
    "\n",
    "* Parameters:\t\n",
    "* m : array_like which is the parameter of the elliptic integral.\n",
    "* Returns:\t\n",
    "* K : array_like which is value of the elliptic integral.\n"
   ]
  },
  {
   "cell_type": "markdown",
   "metadata": {},
   "source": [
    "### the resource of scipy.special.ellipk is as this:"
   ]
  },
  {
   "cell_type": "code",
   "execution_count": null,
   "metadata": {
    "collapsed": true
   },
   "outputs": [],
   "source": [
    "def ellipk(m):\n",
    "    \"\"\"Complete elliptic integral of the first kind.\n",
    "    This function is defined as\n",
    "    .. math:: K(m) = \\\\int_0^{\\\\pi/2} [1 - m \\\\sin(t)^2]^{-1/2} dt\n",
    "    Parameters\n",
    "    ----------\n",
    "    m : array_like\n",
    "        The parameter of the elliptic integral.\n",
    "    Returns\n",
    "    -------\n",
    "    K : array_like\n",
    "        Value of the elliptic integral.\n",
    "    Notes\n",
    "    -----\n",
    "    For more precision around point m = 1, use `ellipkm1`, which this\n",
    "    function calls.\n",
    "   \n",
    "    --------\n",
    "    ellipkm1 : Complete elliptic integral of the first kind around m = 1\n",
    "    ellipkinc : Incomplete elliptic integral of the first kind\n",
    "    ellipe : Complete elliptic integral of the second kind\n",
    "    ellipeinc : Incomplete elliptic integral of the second kind\n",
    "    \"\"\"\n",
    "    return ellipkm1(1 - asarray(m))\n"
   ]
  },
  {
   "cell_type": "markdown",
   "metadata": {},
   "source": [
    "### example"
   ]
  },
  {
   "cell_type": "code",
   "execution_count": null,
   "metadata": {
    "collapsed": false
   },
   "outputs": [],
   "source": [
    "from scipy.special import ellipj\n",
    "from scipy.special import ellipk\n",
    "# import scipy.special ellipj and ellipk\n",
    "ellipj(ellipk(0.5),0.5)[2]\n",
    "# use that  special ellipj and ellipk to calculate the direct answer\n"
   ]
  },
  {
   "cell_type": "code",
   "execution_count": null,
   "metadata": {
    "collapsed": false
   },
   "outputs": [],
   "source": [
    "import matplotlib.pyplot as plt\n",
    "import numpy as np\n",
    "A=np.linspace(0,2*ellipk(0.5),1001)\n",
    "plt.plot(A,ellipj(A,0.5)[2])\n",
    "\n"
   ]
  }
 ],
 "metadata": {
  "kernelspec": {
   "display_name": "Python 3",
   "language": "python",
   "name": "python3"
  },
  "language_info": {
   "codemirror_mode": {
    "name": "ipython",
    "version": 3
   },
   "file_extension": ".py",
   "mimetype": "text/x-python",
   "name": "python",
   "nbconvert_exporter": "python",
   "pygments_lexer": "ipython3",
   "version": "3.5.2"
  }
 },
 "nbformat": 4,
 "nbformat_minor": 2
}
