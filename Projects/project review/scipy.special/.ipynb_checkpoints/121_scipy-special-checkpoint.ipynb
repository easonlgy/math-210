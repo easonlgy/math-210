{
 "cells": [
  {
   "cell_type": "markdown",
   "metadata": {
    "collapsed": false,
    "deletable": true,
    "editable": true
   },
   "source": [
    "# MATH 210 Project I\n",
    "\n",
    "## Gamma Function and Related Functions|"
   ]
  },
  {
   "cell_type": "markdown",
   "metadata": {
    "deletable": true,
    "editable": true
   },
   "source": [
    "## Introduction\n",
    "\n",
    "The goal of this project is to explore the python package `scipy.special` and especially the gamma function and related functions. In the class, we have implemented the gamma function $\\Gamma(x)$ using infinite integral. In this project, we will use other methods to implement the gamma function, study related functions, and use `matplotlib.pyplot` to visualize results. By the end of the project, the reader will have an overall knowledge of the gamma and related functions, and learn to use the following functions in `scipy.special` package:\n",
    "\n",
    "* `scipy.special.gamma`\n",
    "* `scipy.special.gammainc`\n",
    "* `scipy.special.digamma`\n",
    "* `scipy.special.polygamma`"
   ]
  },
  {
   "cell_type": "markdown",
   "metadata": {
    "deletable": true,
    "editable": true
   },
   "source": [
    "## Contents\n",
    "\n",
    "1. Gamma function: `gamma`\n",
    "2. Incomplete gamma function: `gammainc`\n",
    "3. Digamma and polygamma functions: `digamma`, `polygamma`"
   ]
  },
  {
   "cell_type": "code",
   "execution_count": 27,
   "metadata": {
    "collapsed": false,
    "deletable": true,
    "editable": true
   },
   "outputs": [],
   "source": [
    "import scipy.special as special\n",
    "import scipy.integrate as integrate\n",
    "import math\n",
    "import matplotlib.pyplot as plt\n",
    "import numpy as np\n",
    "%matplotlib inline"
   ]
  },
  {
   "cell_type": "markdown",
   "metadata": {
    "deletable": true,
    "editable": true
   },
   "source": [
    "## 1. Gamma function\n",
    "\n",
    "### Formula for gamma function\n",
    "\n",
    "The gamma function is given by\n",
    "$$\\Gamma(z)=\\int_0^\\infty x^{z-1}e^{-x}dx,$$\n",
    "where $z$ is any complex number except non-positive integers. For this project, we will only discuss z in real numbers. \n",
    "\n",
    "### Implement the gamma function without integral\n",
    "\n",
    "By Euler's formula for the gamma function, we can use infinite product to replace the integral:\n",
    "$$\\Gamma(x)=\\lim_{n\\rightarrow\\infty}\\frac{n!}{x(x+1)\\cdots(x+n)}n^x$$\n",
    "The function we implement takes two parameters $x$ and $N$, where $x$ is the input of the gamma function and $N$ is the max number of products. As $N$ becomes larger, the result is more accurate."
   ]
  },
  {
   "cell_type": "code",
   "execution_count": 4,
   "metadata": {
    "collapsed": false,
    "deletable": true,
    "editable": true
   },
   "outputs": [],
   "source": [
    "def gamma_euler(x,N):\n",
    "    if x <=0 and int(x) == x:\n",
    "        return np.inf\n",
    "    gamma = 1/x\n",
    "    for n in range(1,N+1):\n",
    "        gamma *= n/(x+n)\n",
    "    gamma *= N**x\n",
    "    return gamma"
   ]
  },
  {
   "cell_type": "markdown",
   "metadata": {
    "deletable": true,
    "editable": true
   },
   "source": [
    "Compare our function with the implementation in class and `scipy.special.gamma`, we see that our result is close to both methods:"
   ]
  },
  {
   "cell_type": "code",
   "execution_count": 7,
   "metadata": {
    "collapsed": false,
    "deletable": true,
    "editable": true
   },
   "outputs": [
    {
     "data": {
      "text/plain": [
       "3.3207352103951466"
      ]
     },
     "execution_count": 7,
     "metadata": {},
     "output_type": "execute_result"
    }
   ],
   "source": [
    "gamma_euler(3.5,10000)"
   ]
  },
  {
   "cell_type": "code",
   "execution_count": 8,
   "metadata": {
    "collapsed": false,
    "deletable": true,
    "editable": true
   },
   "outputs": [
    {
     "data": {
      "text/plain": [
       "3.323350970440101"
      ]
     },
     "execution_count": 8,
     "metadata": {},
     "output_type": "execute_result"
    }
   ],
   "source": [
    "def gamma_in_class(x):\n",
    "    def f(t):\n",
    "        return t**(x - 1) * np.exp(-t)\n",
    "    I, err = integrate.quad(f,0,np.inf)\n",
    "    return I\n",
    "gamma_in_class(3.5)"
   ]
  },
  {
   "cell_type": "code",
   "execution_count": 9,
   "metadata": {
    "collapsed": false,
    "deletable": true,
    "editable": true
   },
   "outputs": [
    {
     "data": {
      "text/plain": [
       "3.323350970447843"
      ]
     },
     "execution_count": 9,
     "metadata": {},
     "output_type": "execute_result"
    }
   ],
   "source": [
    "special.gamma(3.5)"
   ]
  },
  {
   "cell_type": "markdown",
   "metadata": {
    "deletable": true,
    "editable": true
   },
   "source": [
    "### Plot of gamma function\n",
    "\n",
    "Then we use `matplotlib.pyplot` to visualize our function `gamma_euler` in the range from -4 to 4. Since the gamma function is not defined on non-positive integers, we remove the points where derivatives are very large."
   ]
  },
  {
   "cell_type": "code",
   "execution_count": 56,
   "metadata": {
    "collapsed": false,
    "deletable": true,
    "editable": true
   },
   "outputs": [
    {
     "data": {
      "image/png": "[encoded data removed]",
      "text/plain": [
       "<matplotlib.figure.Figure at 0x7f47c38a9668>"
      ]
     },
     "metadata": {},
     "output_type": "display_data"
    }
   ],
   "source": [
    "X = np.linspace(-4,4,1000)\n",
    "y = []\n",
    "for x in X:\n",
    "    y.append(gamma_euler(x,10000))\n",
    "    if len(y) > 1 and y[-1]*y[-2] < 0: # remove straight lines\n",
    "        y[-1] = np.nan\n",
    "\n",
    "plt.plot(X,y,'r')\n",
    "plt.ylim((-5,5))\n",
    "plt.axhline(0, color='black', linewidth=1)\n",
    "plt.axvline(0, color='black', linewidth=1)\n",
    "plt.title('gamma function')\n",
    "plt.show()"
   ]
  },
  {
   "cell_type": "markdown",
   "metadata": {
    "deletable": true,
    "editable": true
   },
   "source": [
    "### Example 1:\n",
    "\n",
    "One of the best-known value of the gamma function is:\n",
    "$$\\Gamma\\left(\\frac{1}{2}\\right)=\\sqrt\\pi$$\n",
    "We can check by first calculate $\\sqrt\\pi$ and then use our function and `scipy.special.gamma`. The results correspond to each other."
   ]
  },
  {
   "cell_type": "code",
   "execution_count": 52,
   "metadata": {
    "collapsed": false,
    "deletable": true,
    "editable": true
   },
   "outputs": [
    {
     "data": {
      "text/plain": [
       "1.7724538509055159"
      ]
     },
     "execution_count": 52,
     "metadata": {},
     "output_type": "execute_result"
    }
   ],
   "source": [
    "np.pi ** 0.5"
   ]
  },
  {
   "cell_type": "code",
   "execution_count": 61,
   "metadata": {
    "collapsed": false,
    "deletable": true,
    "editable": true
   },
   "outputs": [
    {
     "data": {
      "text/plain": [
       "1.7723873873477372"
      ]
     },
     "execution_count": 61,
     "metadata": {},
     "output_type": "execute_result"
    }
   ],
   "source": [
    "gamma_euler(1/2,10000)"
   ]
  },
  {
   "cell_type": "code",
   "execution_count": 60,
   "metadata": {
    "collapsed": false,
    "deletable": true,
    "editable": true
   },
   "outputs": [
    {
     "data": {
      "text/plain": [
       "1.7724538509055159"
      ]
     },
     "execution_count": 60,
     "metadata": {},
     "output_type": "execute_result"
    }
   ],
   "source": [
    "special.gamma(1/2)"
   ]
  },
  {
   "cell_type": "markdown",
   "metadata": {
    "deletable": true,
    "editable": true
   },
   "source": [
    "### Example 2: The complement formula\n",
    "\n",
    "The complement formula is a interesting indetity of the gamma function about the complementary values $x$ and $1-x$. The formula is:\n",
    "$$\\Gamma(x)\\Gamma(1-x)=\\frac{\\pi}{\\sin\\pi x}$$\n",
    "For $x=\\frac{1}{6}$, we expect the result of the complement function to be:"
   ]
  },
  {
   "cell_type": "code",
   "execution_count": 62,
   "metadata": {
    "collapsed": false,
    "deletable": true,
    "editable": true
   },
   "outputs": [
    {
     "data": {
      "text/plain": [
       "6.2831853071795871"
      ]
     },
     "execution_count": 62,
     "metadata": {},
     "output_type": "execute_result"
    }
   ],
   "source": [
    "np.pi / np.sin(np.pi/6)"
   ]
  },
  {
   "cell_type": "markdown",
   "metadata": {
    "deletable": true,
    "editable": true
   },
   "source": [
    "Check the results calculated by our gamma function and `scipy.special.gamma`, and the results are the same."
   ]
  },
  {
   "cell_type": "code",
   "execution_count": 64,
   "metadata": {
    "collapsed": false,
    "deletable": true,
    "editable": true
   },
   "outputs": [
    {
     "data": {
      "text/plain": [
       "6.282644301092257"
      ]
     },
     "execution_count": 64,
     "metadata": {},
     "output_type": "execute_result"
    }
   ],
   "source": [
    "gamma_euler(1/6, 10000) * gamma_euler(1-1/6, 10000)"
   ]
  },
  {
   "cell_type": "code",
   "execution_count": 65,
   "metadata": {
    "collapsed": false,
    "deletable": true,
    "editable": true
   },
   "outputs": [
    {
     "data": {
      "text/plain": [
       "6.2831853071795889"
      ]
     },
     "execution_count": 65,
     "metadata": {},
     "output_type": "execute_result"
    }
   ],
   "source": [
    "special.gamma(1/6) * special.gamma(1-1/6)"
   ]
  },
  {
   "cell_type": "markdown",
   "metadata": {
    "deletable": true,
    "editable": true
   },
   "source": [
    "## 2. Incomplete gamma function\n",
    "\n",
    "### Formula\n",
    "\n",
    "The incomplete gamma function is defined as:\n",
    "$$\\Gamma(a,x)=\\frac{1}{\\Gamma(a)}\\int_0^x t^{a-1}e^{-t}dt,\\quad a>0,x>0$$\n",
    "\n",
    "### Implementation with integral\n",
    "\n",
    "There are several methods to implement the incomplete gamma function. We can directly use `scipy.integrate.quad` to compute the integral:"
   ]
  },
  {
   "cell_type": "code",
   "execution_count": 19,
   "metadata": {
    "collapsed": true,
    "deletable": true,
    "editable": true
   },
   "outputs": [],
   "source": [
    "def inc_gamma_integral(a,x):\n",
    "    def f(t):\n",
    "        return t**(a-1) * np.exp(-t)\n",
    "    I, err = integrate.quad(f,0,x)\n",
    "    return 1 / gamma_euler(a,100000) * I"
   ]
  },
  {
   "cell_type": "markdown",
   "metadata": {
    "deletable": true,
    "editable": true
   },
   "source": [
    "Compare our function with `scipy.special.gammainc` and we get the same results:"
   ]
  },
  {
   "cell_type": "code",
   "execution_count": 20,
   "metadata": {
    "collapsed": false,
    "deletable": true,
    "editable": true
   },
   "outputs": [
    {
     "data": {
      "text/plain": [
       "0.9005026623062158"
      ]
     },
     "execution_count": 20,
     "metadata": {},
     "output_type": "execute_result"
    }
   ],
   "source": [
    "inc_gamma_integral(5,8)"
   ]
  },
  {
   "cell_type": "code",
   "execution_count": 74,
   "metadata": {
    "collapsed": false,
    "deletable": true,
    "editable": true
   },
   "outputs": [
    {
     "data": {
      "text/plain": [
       "0.90036759951295409"
      ]
     },
     "execution_count": 74,
     "metadata": {},
     "output_type": "execute_result"
    }
   ],
   "source": [
    "special.gammainc(5,8)"
   ]
  },
  {
   "cell_type": "markdown",
   "metadata": {
    "deletable": true,
    "editable": true
   },
   "source": [
    "### Implementation without integral\n",
    "\n",
    "We can also approximate the general incomplete gamma function without integral. For $x\\leq a+1$, we use series expansion:\n",
    "$$\\Gamma(a,x)=\\frac{x^a e^{-x}}{\\Gamma(a)}\\sum_{n=0}^\\infty\\frac{x^n}{a(a+1)\\cdots(a+n)}.$$\n",
    "For $x>a+1$, we use the continued-fraction expansion:\n",
    "$$\\Gamma(a,x)=1-\\frac{x^a e^{-x}}{\\Gamma(a)}\\cfrac{1}{x+\\cfrac{1-a}{1+\\cfrac{1}{x+\\cfrac{2-a}{1+\\cfrac{2}{x+\\cdots}}}}}.$$\n",
    "When implete this function, we introduce a constant N to limit the number of sum or fraction and avoid infinite loops, and the result is expected to be more accurate when N becomes large."
   ]
  },
  {
   "cell_type": "code",
   "execution_count": 17,
   "metadata": {
    "collapsed": true,
    "deletable": true,
    "editable": true
   },
   "outputs": [],
   "source": [
    "def inc_gamma(a,x,N):\n",
    "    gamma = 0\n",
    "    if x <= a + 1:\n",
    "        for n in range(N):\n",
    "            gamma += x**n / np.prod([(a + k) for k in range(n+1)])\n",
    "        gamma *= x**a * np.exp(-x) / gamma_euler(a,100000)\n",
    "    else:\n",
    "        frac = x\n",
    "        for n in range(N,0,-1):\n",
    "            frac = n / frac + 1\n",
    "            frac = (n-a) / frac + x\n",
    "        gamma = 1 - x**a * np.exp(-x) / gamma_euler(a,100000) / frac\n",
    "    return gamma"
   ]
  },
  {
   "cell_type": "markdown",
   "metadata": {
    "deletable": true,
    "editable": true
   },
   "source": [
    "We check our functions by comparing with `scipy.special.gammainc`. For $x\\leq a+1$,"
   ]
  },
  {
   "cell_type": "code",
   "execution_count": 26,
   "metadata": {
    "collapsed": false,
    "deletable": true,
    "editable": true
   },
   "outputs": [
    {
     "data": {
      "text/plain": [
       "0.98734801308956732"
      ]
     },
     "execution_count": 26,
     "metadata": {},
     "output_type": "execute_result"
    }
   ],
   "source": [
    "inc_gamma(4.5,10.5,20)"
   ]
  },
  {
   "cell_type": "code",
   "execution_count": 21,
   "metadata": {
    "collapsed": false,
    "deletable": true,
    "editable": true
   },
   "outputs": [
    {
     "data": {
      "text/plain": [
       "0.9874717686863252"
      ]
     },
     "execution_count": 21,
     "metadata": {},
     "output_type": "execute_result"
    }
   ],
   "source": [
    "inc_gamma_integral(4.5,10.5)"
   ]
  },
  {
   "cell_type": "code",
   "execution_count": 80,
   "metadata": {
    "collapsed": false,
    "deletable": true,
    "editable": true
   },
   "outputs": [
    {
     "data": {
      "text/plain": [
       "0.98734957864998441"
      ]
     },
     "execution_count": 80,
     "metadata": {},
     "output_type": "execute_result"
    }
   ],
   "source": [
    "special.gammainc(4.5,10.5)"
   ]
  },
  {
   "cell_type": "markdown",
   "metadata": {
    "deletable": true,
    "editable": true
   },
   "source": [
    "For $x>a+1$,"
   ]
  },
  {
   "cell_type": "code",
   "execution_count": 24,
   "metadata": {
    "collapsed": false,
    "deletable": true,
    "editable": true
   },
   "outputs": [
    {
     "data": {
      "text/plain": [
       "0.25773532367255136"
      ]
     },
     "execution_count": 24,
     "metadata": {},
     "output_type": "execute_result"
    }
   ],
   "source": [
    "inc_gamma(8.1,6.1,20)"
   ]
  },
  {
   "cell_type": "code",
   "execution_count": 22,
   "metadata": {
    "collapsed": false,
    "deletable": true,
    "editable": true
   },
   "outputs": [
    {
     "data": {
      "text/plain": [
       "0.2577353237502151"
      ]
     },
     "execution_count": 22,
     "metadata": {},
     "output_type": "execute_result"
    }
   ],
   "source": [
    "inc_gamma_integral(8.1,6.1)"
   ]
  },
  {
   "cell_type": "code",
   "execution_count": 16,
   "metadata": {
    "collapsed": false,
    "deletable": true,
    "editable": true
   },
   "outputs": [
    {
     "data": {
      "text/plain": [
       "0.25764035562014465"
      ]
     },
     "execution_count": 16,
     "metadata": {},
     "output_type": "execute_result"
    }
   ],
   "source": [
    "special.gammainc(8.1,6.1)"
   ]
  },
  {
   "cell_type": "markdown",
   "metadata": {
    "collapsed": false,
    "deletable": true,
    "editable": true
   },
   "source": [
    "In both cases, the approximation method is slightly more accurate than the integration method.\n",
    "\n",
    "### Example: Error function\n",
    "\n",
    "In mathematics, the error function can be represented by the incomplete gamma function:\n",
    "$$\\text{erf}(z)=\\frac{1}{\\sqrt\\pi}\\Gamma\\left(\\frac{1}{2},z^2\\right)$$\n",
    "We first check the value of $\\text{erf}(0.8)$ by using `scipy.special.erf`."
   ]
  },
  {
   "cell_type": "code",
   "execution_count": 83,
   "metadata": {
    "collapsed": false,
    "deletable": true,
    "editable": true
   },
   "outputs": [
    {
     "data": {
      "text/plain": [
       "0.74210096470766052"
      ]
     },
     "execution_count": 83,
     "metadata": {},
     "output_type": "execute_result"
    }
   ],
   "source": [
    "special.erf(0.8)"
   ]
  },
  {
   "cell_type": "markdown",
   "metadata": {
    "deletable": true,
    "editable": true
   },
   "source": [
    "Then we calculate the same value using our incomplete gamma functions and `special.gammainc`. We get all results as expected."
   ]
  },
  {
   "cell_type": "code",
   "execution_count": 84,
   "metadata": {
    "collapsed": false,
    "deletable": true,
    "editable": true
   },
   "outputs": [
    {
     "data": {
      "text/plain": [
       "0.4186872042976432"
      ]
     },
     "execution_count": 84,
     "metadata": {},
     "output_type": "execute_result"
    }
   ],
   "source": [
    "1 / np.pi**0.5 * inc_gamma_integral(0.5, 0.8**2)"
   ]
  },
  {
   "cell_type": "code",
   "execution_count": 86,
   "metadata": {
    "collapsed": false,
    "deletable": true,
    "editable": true
   },
   "outputs": [
    {
     "data": {
      "text/plain": [
       "0.41868720429764594"
      ]
     },
     "execution_count": 86,
     "metadata": {},
     "output_type": "execute_result"
    }
   ],
   "source": [
    "1 / np.pi**0.5 * inc_gamma(0.5, 0.8**2, 20)"
   ]
  },
  {
   "cell_type": "code",
   "execution_count": 87,
   "metadata": {
    "collapsed": false,
    "deletable": true,
    "editable": true
   },
   "outputs": [
    {
     "data": {
      "text/plain": [
       "0.41868563422880323"
      ]
     },
     "execution_count": 87,
     "metadata": {},
     "output_type": "execute_result"
    }
   ],
   "source": [
    "1 / np.pi**0.5 * special.gammainc(0.5, 0.8**2)"
   ]
  },
  {
   "cell_type": "markdown",
   "metadata": {
    "collapsed": true,
    "deletable": true,
    "editable": true
   },
   "source": [
    "## 3. Digamma and polygamma functions\n",
    "\n",
    "### Digamma function\n",
    "\n",
    "The digamma or psi function, denoted as $\\psi(x)$, is defined by the logarithmic derivative of $\\Gamma(x)$:\n",
    "$$\\psi(x)=\\frac{d}{dx}\\ln(\\Gamma(x))$$\n",
    "\n",
    "### Implementation\n",
    "\n",
    "We derive the digamma function from the Weierstrass formula:\n",
    "$$\\psi(x)=-\\gamma+\\sum_{p=1}^\\infty\\left(\\frac{x-1}{p(x+p-1)}\\right)$$\n",
    "where $\\gamma$ is the Euler–Mascheroni constant, which is defined by `numpy.euler_gamma`."
   ]
  },
  {
   "cell_type": "code",
   "execution_count": 28,
   "metadata": {
    "collapsed": false,
    "deletable": true,
    "editable": true
   },
   "outputs": [
    {
     "data": {
      "text/plain": [
       "0.5772156649015329"
      ]
     },
     "execution_count": 28,
     "metadata": {},
     "output_type": "execute_result"
    }
   ],
   "source": [
    "np.euler_gamma"
   ]
  },
  {
   "cell_type": "markdown",
   "metadata": {
    "deletable": true,
    "editable": true
   },
   "source": [
    "Then we write the function with an additional parameter $N$ to avoid infinite sum."
   ]
  },
  {
   "cell_type": "code",
   "execution_count": 53,
   "metadata": {
    "collapsed": true,
    "deletable": true,
    "editable": true
   },
   "outputs": [],
   "source": [
    "def my_digamma(x,N):\n",
    "    if x<=0 and int(x)==x:\n",
    "        return np.inf\n",
    "    return -np.euler_gamma + np.sum([(x-1) / (p * (x+p-1)) for p in range(1,N+1)])"
   ]
  },
  {
   "cell_type": "markdown",
   "metadata": {
    "deletable": true,
    "editable": true
   },
   "source": [
    "Compare our implementation with `scipy.special.digamma` and we got the same result."
   ]
  },
  {
   "cell_type": "code",
   "execution_count": 35,
   "metadata": {
    "collapsed": false,
    "deletable": true,
    "editable": true
   },
   "outputs": [
    {
     "data": {
      "text/plain": [
       "2.4706471839397106"
      ]
     },
     "execution_count": 35,
     "metadata": {},
     "output_type": "execute_result"
    }
   ],
   "source": [
    "my_digamma(12.34,10000)"
   ]
  },
  {
   "cell_type": "code",
   "execution_count": 32,
   "metadata": {
    "collapsed": false,
    "deletable": true,
    "editable": true
   },
   "outputs": [
    {
     "data": {
      "text/plain": [
       "2.4717804848135008"
      ]
     },
     "execution_count": 32,
     "metadata": {},
     "output_type": "execute_result"
    }
   ],
   "source": [
    "special.digamma(12.34)"
   ]
  },
  {
   "cell_type": "markdown",
   "metadata": {
    "deletable": true,
    "editable": true
   },
   "source": [
    "### Plot of the digamma function\n",
    "\n",
    "We also visualize the digamma funciton using `matlibplot`. We choose the range $[-4,4]$. Like the gamma function, the digamma function is not defined on zero and negative integers."
   ]
  },
  {
   "cell_type": "code",
   "execution_count": 60,
   "metadata": {
    "collapsed": false,
    "deletable": true,
    "editable": true
   },
   "outputs": [
    {
     "data": {
      "image/png": "[encoded data removed]",
      "text/plain": [
       "<matplotlib.figure.Figure at 0x7f47c1dbb780>"
      ]
     },
     "metadata": {},
     "output_type": "display_data"
    }
   ],
   "source": [
    "X = np.linspace(-4,4,1000)\n",
    "y = []\n",
    "for x in X:\n",
    "    y.append(my_digamma(x,10000))\n",
    "    if abs(y[-1]) > 10: # remove the values out of the range\n",
    "        y[-1] = np.nan\n",
    "\n",
    "plt.plot(X,y,'r')\n",
    "plt.ylim((-4,4))\n",
    "plt.axhline(0, color='black', linewidth=1)\n",
    "plt.axvline(0, color='black', linewidth=1)\n",
    "plt.title('dugamma function')\n",
    "plt.show()"
   ]
  },
  {
   "cell_type": "markdown",
   "metadata": {
    "deletable": true,
    "editable": true
   },
   "source": [
    "### Polygamma function\n",
    "\n",
    "If we continue to differentiate the digamma function, we get polygamma functions:\n",
    "$$\\psi^{(1)}(x)=\\psi'(x)=\\sum_{p=1}^\\infty\\frac{1}{(p+x-1)^2}$$\n",
    "$$\\psi^{(2)}(x)=\\psi''(x)=-\\sum_{p=1}^\\infty\\frac{2}{(p+x-1)^3}$$\n",
    "$$\\vdots$$\n",
    "$$\\psi^{(n)}(x)=\\sum_{p=1}^\\infty\\frac{(-1)^{n+1}n!}{(p+x-1)^{n+1}}$$\n",
    "\n",
    "Our function of the polygamma function takes three parameters $n,x,N$, where $N$ is the number of sums, and returns $\\psi^{(n)}(x)$."
   ]
  },
  {
   "cell_type": "code",
   "execution_count": 48,
   "metadata": {
    "collapsed": true,
    "deletable": true,
    "editable": true
   },
   "outputs": [],
   "source": [
    "def my_polygamma(n,x,N):\n",
    "    if not int(n) == n:\n",
    "        return None\n",
    "    return np.sum([(-1)**(n+1) * math.factorial(n) / (p+x-1)**(n+1) for p in range(1,N+1)])"
   ]
  },
  {
   "cell_type": "markdown",
   "metadata": {
    "deletable": true,
    "editable": true
   },
   "source": [
    "Check the results of our function and compare with `scipy.special.polygamma`:"
   ]
  },
  {
   "cell_type": "code",
   "execution_count": 49,
   "metadata": {
    "collapsed": false,
    "deletable": true,
    "editable": true
   },
   "outputs": [
    {
     "data": {
      "text/plain": [
       "97.40909103400044"
      ]
     },
     "execution_count": 49,
     "metadata": {},
     "output_type": "execute_result"
    }
   ],
   "source": [
    "my_polygamma(3,0.5,10000)"
   ]
  },
  {
   "cell_type": "code",
   "execution_count": 50,
   "metadata": {
    "collapsed": false,
    "deletable": true,
    "editable": true
   },
   "outputs": [
    {
     "data": {
      "text/plain": [
       "-2.228398747634885"
      ]
     },
     "execution_count": 50,
     "metadata": {},
     "output_type": "execute_result"
    }
   ],
   "source": [
    "my_polygamma(8,3,10000)"
   ]
  },
  {
   "cell_type": "code",
   "execution_count": 51,
   "metadata": {
    "collapsed": false,
    "deletable": true,
    "editable": true
   },
   "outputs": [
    {
     "data": {
      "text/plain": [
       "array(97.40909103400242)"
      ]
     },
     "execution_count": 51,
     "metadata": {},
     "output_type": "execute_result"
    }
   ],
   "source": [
    "special.polygamma(3,0.5)"
   ]
  },
  {
   "cell_type": "code",
   "execution_count": 52,
   "metadata": {
    "collapsed": false,
    "deletable": true,
    "editable": true
   },
   "outputs": [
    {
     "data": {
      "text/plain": [
       "array(-2.2283987476348854)"
      ]
     },
     "execution_count": 52,
     "metadata": {},
     "output_type": "execute_result"
    }
   ],
   "source": [
    "special.polygamma(8,3)"
   ]
  },
  {
   "cell_type": "markdown",
   "metadata": {
    "deletable": true,
    "editable": true
   },
   "source": [
    "Note that `scipy.special.polygamma` can take an array as input $x$. For example,"
   ]
  },
  {
   "cell_type": "code",
   "execution_count": 69,
   "metadata": {
    "collapsed": false,
    "deletable": true,
    "editable": true
   },
   "outputs": [
    {
     "data": {
      "text/plain": [
       "array([ -0.313756  , -24.88626612,  -0.067996  ])"
      ]
     },
     "execution_count": 69,
     "metadata": {},
     "output_type": "execute_result"
    }
   ],
   "source": [
    "special.polygamma(4,[-1.5,1,3.5])"
   ]
  },
  {
   "cell_type": "markdown",
   "metadata": {
    "deletable": true,
    "editable": true
   },
   "source": [
    "### Example\n",
    "\n",
    "By Gauss's digamma theorem, the digamma function has values in closed form for rational numbers. For example,\n",
    "$$\\psi\\left(\\frac{1}{6}\\right)=-\\frac{\\pi\\sqrt{3}}{2}-2\\ln2-\\frac{3\\ln3}{2}-\\gamma$$\n",
    "We first calculate the values:"
   ]
  },
  {
   "cell_type": "code",
   "execution_count": 63,
   "metadata": {
    "collapsed": false,
    "deletable": true,
    "editable": true
   },
   "outputs": [
    {
     "data": {
      "text/plain": [
       "-6.3321275053749142"
      ]
     },
     "execution_count": 63,
     "metadata": {},
     "output_type": "execute_result"
    }
   ],
   "source": [
    "-np.pi*3**0.5/2 - 2*np.log(2) - 3*np.log(3)/2 - np.euler_gamma"
   ]
  },
  {
   "cell_type": "markdown",
   "metadata": {
    "deletable": true,
    "editable": true
   },
   "source": [
    "Then we apply our function and `scipy.special.digamma`:"
   ]
  },
  {
   "cell_type": "code",
   "execution_count": 66,
   "metadata": {
    "collapsed": false,
    "deletable": true,
    "editable": true
   },
   "outputs": [
    {
     "data": {
      "text/plain": [
       "-6.3320441727360386"
      ]
     },
     "execution_count": 66,
     "metadata": {},
     "output_type": "execute_result"
    }
   ],
   "source": [
    "my_digamma(1/6,10000)"
   ]
  },
  {
   "cell_type": "code",
   "execution_count": 67,
   "metadata": {
    "collapsed": false,
    "deletable": true,
    "editable": true
   },
   "outputs": [
    {
     "data": {
      "text/plain": [
       "-6.3321275053749151"
      ]
     },
     "execution_count": 67,
     "metadata": {},
     "output_type": "execute_result"
    }
   ],
   "source": [
    "special.digamma(1/6)"
   ]
  },
  {
   "cell_type": "markdown",
   "metadata": {
    "deletable": true,
    "editable": true
   },
   "source": [
    "The results are the same."
   ]
  },
  {
   "cell_type": "code",
   "execution_count": null,
   "metadata": {
    "collapsed": true,
    "deletable": true,
    "editable": true
   },
   "outputs": [],
   "source": []
  }
 ],
 "metadata": {
  "kernelspec": {
   "display_name": "Python 3",
   "language": "python",
   "name": "python3"
  },
  "language_info": {
   "codemirror_mode": {
    "name": "ipython",
    "version": 3
   },
   "file_extension": ".py",
   "mimetype": "text/x-python",
   "name": "python",
   "nbconvert_exporter": "python",
   "pygments_lexer": "ipython3",
   "version": "3.5.2"
  }
 },
 "nbformat": 4,
 "nbformat_minor": 2
}
