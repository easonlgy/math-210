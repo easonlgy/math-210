{
 "cells": [
  {
   "cell_type": "markdown",
   "metadata": {
    "deletable": true,
    "editable": true
   },
   "source": [
    "# MATH210 Project 1\n",
    "## project1-intro-scipy-special"
   ]
  },
  {
   "cell_type": "markdown",
   "metadata": {
    "collapsed": true,
    "deletable": true,
    "editable": true
   },
   "source": [
    "SciPy is the one of the core scientific computing packages in Python and Scipy Special Module is a module that helps solving special functions in mathematical physics. \n",
    "Our goal in this notebook is to explore **three functions** in the subpackage `scipy.special`. In particular, we will explore the **Bessel functions** and **Gaussian cumulative distribution function **, and also we will plot graphs of **sigmoid function** using `scipy.special`.\n",
    "\n",
    "By the end of the notebook, the reader will be able to implement the following functions:\n",
    "\n",
    " * `scipy.special.jn`\n",
    " * `scipy.special.ndtr`\n",
    " * `scipy.special.expit, scipy.special.erf`\n",
    " "
   ]
  },
  {
   "cell_type": "markdown",
   "metadata": {
    "deletable": true,
    "editable": true
   },
   "source": [
    "## Contents\n",
    "1. Bessel functions: jn,jn_zeros\n",
    "2. Gaussian cumulative distribution function: ndtr\n",
    "3. Sigmoid functions: expit,erf\n",
    "4. Exercises"
   ]
  },
  {
   "cell_type": "code",
   "execution_count": null,
   "metadata": {
    "collapsed": true,
    "deletable": true,
    "editable": true
   },
   "outputs": [],
   "source": [
    "from scipy import special\n",
    "import numpy as np\n",
    "import matplotlib.pyplot as plt\n",
    "%matplotlib inline"
   ]
  },
  {
   "cell_type": "markdown",
   "metadata": {
    "deletable": true,
    "editable": true
   },
   "source": [
    "## 1. Bessel functions\n",
    "Bessel functions are a family of solutions to Bessel’s differential equation with real or complex order alpha:\n",
    "$$\n",
    "x^2 \\frac{d^2y}{dx^2} + x \\frac{dy}{dx} + (x^2 - \\alpha^2)y = 0\n",
    "$$"
   ]
  },
  {
   "cell_type": "markdown",
   "metadata": {
    "deletable": true,
    "editable": true
   },
   "source": [
    "### Example: circular drum head \n",
    "(Bessel functions are the radial part of the modes of vibration of a circular drum.)\n",
    "\n",
    "![circular drum](https://upload.wikimedia.org/wikipedia/commons/e/e9/Drum_vibration_mode12.gif)"
   ]
  },
  {
   "cell_type": "code",
   "execution_count": null,
   "metadata": {
    "collapsed": true,
    "deletable": true,
    "editable": true
   },
   "outputs": [],
   "source": [
    "from mpl_toolkits.mplot3d import Axes3D\n",
    "from matplotlib import cm"
   ]
  },
  {
   "cell_type": "markdown",
   "metadata": {},
   "source": [
    "(Reference: [Tutorial of `scipy.special`: https://docs.scipy.org/doc/scipy-0.18.1/reference/tutorial/special.html](https://docs.scipy.org/doc/scipy-0.18.1/reference/tutorial/special.html) )"
   ]
  },
  {
   "cell_type": "code",
   "execution_count": null,
   "metadata": {
    "collapsed": false,
    "deletable": true,
    "editable": true
   },
   "outputs": [],
   "source": [
    "def drumhead_height(n, k, distance, angle, t):\n",
    "    kth_zero = special.jn_zeros(n, k)[-1]\n",
    "    return np.cos(t) * np.cos(n*angle) * special.jn(n, distance*kth_zero)\n",
    "\n",
    "theta = np.r_[0:2*np.pi:30j]\n",
    "radius = np.r_[0:1:30j]\n",
    "x = np.array([r * np.cos(theta) for r in radius])\n",
    "y = np.array([r * np.sin(theta) for r in radius])\n",
    "z = np.array([drumhead_height(1, 1, r, theta, 0.3) for r in radius])\n",
    "\n",
    "fig = plt.figure()\n",
    "ax = Axes3D(fig)\n",
    "ax.plot_surface(x, y, z, rstride=1, cstride=1, cmap=cm.jet)\n",
    "ax.set_xlabel('X')\n",
    "ax.set_ylabel('Y')\n",
    "ax.set_zlabel('Z')\n",
    "plt.show()"
   ]
  },
  {
   "cell_type": "markdown",
   "metadata": {
    "collapsed": true,
    "deletable": true,
    "editable": true
   },
   "source": [
    "### ( 2&3: Sigmoid functions )"
   ]
  },
  {
   "cell_type": "markdown",
   "metadata": {
    "deletable": true,
    "editable": true
   },
   "source": [
    "## 2. Gaussian cumulative distribution function"
   ]
  },
  {
   "cell_type": "markdown",
   "metadata": {
    "deletable": true,
    "editable": true
   },
   "source": [
    "Gaussian cumulative distribution function returns the area under the standard Gaussian probability density function, integrated from minus infinity to x (the value of the normal CDF evaluated at x). The x could be real or complex, and the function is as follows:\n",
    "$$\n",
    "\\frac{1}{\\sqrt{2\\pi}} \\int_{-\\infty}^{x}exp(-t^2 / 2) dt\n",
    "$$"
   ]
  },
  {
   "cell_type": "code",
   "execution_count": null,
   "metadata": {
    "collapsed": false,
    "deletable": true,
    "editable": true
   },
   "outputs": [],
   "source": [
    "from scipy.special import ndtr"
   ]
  },
  {
   "cell_type": "code",
   "execution_count": null,
   "metadata": {
    "collapsed": false,
    "deletable": true,
    "editable": true
   },
   "outputs": [],
   "source": [
    "x=0.5\n",
    "ndtr(x)"
   ]
  },
  {
   "cell_type": "markdown",
   "metadata": {
    "deletable": true,
    "editable": true
   },
   "source": [
    "To test our ndtr function, we can calculate it by building our own ndtr function using `scipy.integrate.quad` :\n"
   ]
  },
  {
   "cell_type": "code",
   "execution_count": null,
   "metadata": {
    "collapsed": true
   },
   "outputs": [],
   "source": [
    "import scipy.integrate as spi"
   ]
  },
  {
   "cell_type": "code",
   "execution_count": null,
   "metadata": {
    "collapsed": false,
    "deletable": true,
    "editable": true
   },
   "outputs": [],
   "source": [
    "x = 0.5\n",
    "def f(t):\n",
    "    \n",
    "    return (1/(2*np.pi)**(0.5)) * (np.exp((-t**2 / 2)))\n",
    "\n",
    "I, abserr = spi.quad(f,-np.inf,x)\n",
    "print(I)    "
   ]
  },
  {
   "cell_type": "markdown",
   "metadata": {
    "deletable": true,
    "editable": true
   },
   "source": [
    "## 3. Sigmoid function\n",
    "A sigmoid function is a mathematical function having an \"S\" shaped curve (sigmoid curve). Often, sigmoid function refers to the special case of the logistic function shown in the first figure and defined by the formula\n",
    "\n",
    "$$ {\\displaystyle S(t)={\\frac {1}{1+e^{-t}}}.}  $$\n",
    "\n",
    "There are many subfunctions which are sigmoid functions. Sigmoid functions include the ordinary arctangent, the hyperbolic tangent, the Gudermannian function, and the error function,etc.\n",
    "\n",
    "In this part, we will plot 2 examples of sigmoid functions: erf and expit. The expit function, also known as the logistic function, is defined as $ expit(x) = 1/(1+e^{-x}) $. It is the inverse of the logit function. And the erf function returns the error function of complex argument. It is defined as $ \\frac{2}{\\sqrt{\\pi}} \\int e^{-t^2} $. "
   ]
  },
  {
   "cell_type": "markdown",
   "metadata": {
    "deletable": true,
    "editable": true
   },
   "source": [
    "The sigmoid functions all have a \"S\" shaped curve, for instance: (this graph is normalized to make them easier to be compared)\n",
    "\n",
    "\n",
    "![sigmoid](https://upload.wikimedia.org/wikipedia/commons/thumb/6/6f/Gjl-t%28x%29.svg/700px-Gjl-t%28x%29.svg.png)"
   ]
  },
  {
   "cell_type": "code",
   "execution_count": null,
   "metadata": {
    "collapsed": true,
    "deletable": true,
    "editable": true
   },
   "outputs": [],
   "source": [
    "from scipy.special import expit\n",
    "from scipy.special import erf"
   ]
  },
  {
   "cell_type": "code",
   "execution_count": null,
   "metadata": {
    "collapsed": false,
    "deletable": true,
    "editable": true,
    "scrolled": true
   },
   "outputs": [],
   "source": [
    "x = np.linspace(-10,10,1000)\n",
    "y1 = expit(x)\n",
    "y2 = erf(0.4*x)\n",
    "plt.plot(x,y1,x,y2);"
   ]
  },
  {
   "cell_type": "markdown",
   "metadata": {},
   "source": [
    "## 4. Exercises"
   ]
  },
  {
   "cell_type": "markdown",
   "metadata": {},
   "source": [
    " **Exercise1. **   As we know, The random variable X is Gaussian, in other words, Normal, with the parameters ($\\mu, \\sigma^2$) if it has the PDF:\n",
    " $$\n",
    " f_X(x) = \\frac{1}{\\sqrt{2\\pi\\sigma^2}} e^ - \\frac{(x-\\mu)^2}{2\\sigma^2}\n",
    " $$\n",
    " According to the Figure(PDF) below, find the value of its CDF when x=3. (using `scipy.special.ndtr`)\n",
    " ![Gaussian Distributin PDF](http://images.books24x7.com/bookimages/id_19477/fig343_01.jpg)"
   ]
  },
  {
   "cell_type": "markdown",
   "metadata": {},
   "source": [
    "** Exercise2.** Use `scipy.special` to calculate CDF of some distributions. For instance, Gamma distribution cumulative density function with `i.e` a = 1,b=2.\n",
    "$$\n",
    " F = \\int_0^x \\frac{a^b}{\\Gamma(b)} t^{b-1} e^{-at} dt\n",
    "$$\n",
    "(Hint:  `scipy.special.gdtr` )"
   ]
  }
 ],
 "metadata": {
  "kernelspec": {
   "display_name": "Python 3",
   "language": "python",
   "name": "python3"
  },
  "language_info": {
   "codemirror_mode": {
    "name": "ipython",
    "version": 3
   },
   "file_extension": ".py",
   "mimetype": "text/x-python",
   "name": "python",
   "nbconvert_exporter": "python",
   "pygments_lexer": "ipython3",
   "version": "3.5.2"
  }
 },
 "nbformat": 4,
 "nbformat_minor": 2
}
