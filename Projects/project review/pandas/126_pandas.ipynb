{
 "cells": [
  {
   "cell_type": "markdown",
   "metadata": {
    "deletable": true,
    "editable": true
   },
   "source": [
    "<h1 style=\"text-align: center\">Project about `pandas`</h1>"
   ]
  },
  {
   "cell_type": "markdown",
   "metadata": {
    "deletable": true,
    "editable": true
   },
   "source": [
    "## Introduction"
   ]
  },
  {
   "cell_type": "markdown",
   "metadata": {
    "deletable": true,
    "editable": true
   },
   "source": [
    "  `pandas` is a useful and powerful tool built on the foundation of `NumPy` to do Data analysis. Since it has advanced processing data ability, it makes data analysis more convenient across various fields. It use `Series` to form the data and `DataFrame` to construct a shell frame for the data. (see the [documentation](http://pandas.pydata.org/pandas-docs/stable/))\n",
    "   \n",
    "   Speaking of the reason I choose this package, at first, I thought this name is cute(the same as the animal pandas). After I got acquaint myself with this package deeper, I found it is a useful ans basic part in Python. Thus, I decided to do this package.\n",
    "   \n",
    "   In this project, we would focus on the basis of `pandas` : [`Series`](http://pandas.pydata.org/pandas-docs/stable/dsintro.html#series)(used to form a array object) and [`DataFrame`](http://pandas.pydata.org/pandas-docs/stable/dsintro.html#dataframe)(used to construct a data table). I hope my readers could gain a basic knowledge about `pandas` and how it works. Enjoy!"
   ]
  },
  {
   "cell_type": "code",
   "execution_count": null,
   "metadata": {
    "collapsed": true,
    "deletable": true,
    "editable": true
   },
   "outputs": [],
   "source": [
    "from pandas import Series, DataFrame\n",
    "import pandas as pd"
   ]
  },
  {
   "cell_type": "markdown",
   "metadata": {
    "deletable": true,
    "editable": true
   },
   "source": [
    "### Part 1. Series"
   ]
  },
  {
   "cell_type": "markdown",
   "metadata": {
    "deletable": true,
    "editable": true
   },
   "source": [
    "  `Series` helps to form a 1D array objection, including ** *data object* ** and corresponding ** *index* **. It is like a list, but it is a \"stand\" list. Meanwhile, we could stipulate the elements in the series(see the [documentation](http://pandas.pydata.org/pandas-docs/stable/dsintro.html#series)). There are two ways to create a `Series`. The first way is the following:"
   ]
  },
  {
   "cell_type": "code",
   "execution_count": null,
   "metadata": {
    "collapsed": false,
    "deletable": true,
    "editable": true
   },
   "outputs": [],
   "source": [
    "s1 = Series([5,'Python','Pandas',7])\n",
    "s1"
   ]
  },
  {
   "cell_type": "code",
   "execution_count": null,
   "metadata": {
    "collapsed": false,
    "deletable": true,
    "editable": true
   },
   "outputs": [],
   "source": [
    "s2 = Series([5,'Python','Pandas',7],index=[\"number\",\"name\",\"project\",\"mark\"])\n",
    "s2"
   ]
  },
  {
   "cell_type": "markdown",
   "metadata": {
    "deletable": true,
    "editable": true
   },
   "source": [
    "The second way is:"
   ]
  },
  {
   "cell_type": "code",
   "execution_count": null,
   "metadata": {
    "collapsed": false,
    "deletable": true,
    "editable": true
   },
   "outputs": [],
   "source": [
    "s_1 = {\"name\":\"Xinyu\",\"age\":19,\"gender\":\"female\"}\n",
    "s_11 = Series(s_1)\n",
    "s_11"
   ]
  },
  {
   "cell_type": "markdown",
   "metadata": {
    "deletable": true,
    "editable": true
   },
   "source": [
    "Here we are going to introducce a interesting and convenient part about `pandas`: `pandas` could define the ** *index* ** by itself. It means if we input a new index based on the `Series` we have entered before, it would match the values with the same ** *index* ** in original `Series` automatically. If there does not exist the same ** *index* ** in the original `Series`, it would producr \"NAN\". For example:"
   ]
  },
  {
   "cell_type": "code",
   "execution_count": null,
   "metadata": {
    "collapsed": false,
    "deletable": true,
    "editable": true
   },
   "outputs": [],
   "source": [
    "s_22 = Series(s_1, index=[\"gender\",\"citizen\",\"age\",\"height\"])\n",
    "s_22"
   ]
  },
  {
   "cell_type": "markdown",
   "metadata": {
    "deletable": true,
    "editable": true
   },
   "source": [
    "To determine whether the jusgement values is \"NAN\" or not we could use `pd.isnull` and `pd.notnull`:"
   ]
  },
  {
   "cell_type": "code",
   "execution_count": null,
   "metadata": {
    "collapsed": false,
    "deletable": true,
    "editable": true
   },
   "outputs": [],
   "source": [
    "pd.isnull(s_22)"
   ]
  },
  {
   "cell_type": "code",
   "execution_count": null,
   "metadata": {
    "collapsed": false,
    "deletable": true,
    "editable": true
   },
   "outputs": [],
   "source": [
    "pd.notnull(s_22)"
   ]
  },
  {
   "cell_type": "markdown",
   "metadata": {
    "collapsed": true,
    "deletable": true,
    "editable": true
   },
   "source": [
    "`s.values` and `s.index` are used to display object's data values and index:"
   ]
  },
  {
   "cell_type": "code",
   "execution_count": null,
   "metadata": {
    "collapsed": false,
    "deletable": true,
    "editable": true
   },
   "outputs": [],
   "source": [
    "s1.values"
   ]
  },
  {
   "cell_type": "code",
   "execution_count": null,
   "metadata": {
    "collapsed": false,
    "deletable": true,
    "editable": true
   },
   "outputs": [],
   "source": [
    "s2.values"
   ]
  },
  {
   "cell_type": "code",
   "execution_count": null,
   "metadata": {
    "collapsed": false,
    "deletable": true,
    "editable": true
   },
   "outputs": [],
   "source": [
    "s1.index"
   ]
  },
  {
   "cell_type": "code",
   "execution_count": null,
   "metadata": {
    "collapsed": false,
    "deletable": true,
    "editable": true
   },
   "outputs": [],
   "source": [
    "s2.index"
   ]
  },
  {
   "cell_type": "markdown",
   "metadata": {
    "deletable": true,
    "editable": true
   },
   "source": [
    "Since every elements in the Series has a index, it provides a convenient way to look for a specific element and do some change on that element."
   ]
  },
  {
   "cell_type": "code",
   "execution_count": null,
   "metadata": {
    "collapsed": false,
    "deletable": true,
    "editable": true
   },
   "outputs": [],
   "source": [
    "s2[\"project\"]"
   ]
  },
  {
   "cell_type": "code",
   "execution_count": null,
   "metadata": {
    "collapsed": true,
    "deletable": true,
    "editable": true
   },
   "outputs": [],
   "source": [
    "s2[\"project\"] = \"package\""
   ]
  },
  {
   "cell_type": "code",
   "execution_count": null,
   "metadata": {
    "collapsed": false,
    "deletable": true,
    "editable": true
   },
   "outputs": [],
   "source": [
    "s2"
   ]
  },
  {
   "cell_type": "markdown",
   "metadata": {
    "deletable": true,
    "editable": true
   },
   "source": [
    "Calculation also could be done in `pandas` in order to produce the specific values we want:"
   ]
  },
  {
   "cell_type": "code",
   "execution_count": null,
   "metadata": {
    "collapsed": false,
    "deletable": true,
    "editable": true
   },
   "outputs": [],
   "source": [
    "s3 = Series([1,4,9,3,5],index = [\"a\",\"b\",\"c\",\"d\",\"e\"])\n",
    "s3"
   ]
  },
  {
   "cell_type": "code",
   "execution_count": null,
   "metadata": {
    "collapsed": false,
    "deletable": true,
    "editable": true
   },
   "outputs": [],
   "source": [
    "s3[s3>4]"
   ]
  },
  {
   "cell_type": "code",
   "execution_count": null,
   "metadata": {
    "collapsed": false,
    "deletable": true,
    "editable": true
   },
   "outputs": [],
   "source": [
    "s3 * 2"
   ]
  },
  {
   "cell_type": "code",
   "execution_count": null,
   "metadata": {
    "collapsed": false,
    "deletable": true,
    "editable": true
   },
   "outputs": [],
   "source": [
    "s4 = Series([3,6,8,4],index=[\"a\",\"b\",\"c\",\"d\"])\n",
    "s4"
   ]
  },
  {
   "cell_type": "code",
   "execution_count": null,
   "metadata": {
    "collapsed": false,
    "deletable": true,
    "editable": true
   },
   "outputs": [],
   "source": [
    "s3+s4"
   ]
  },
  {
   "cell_type": "markdown",
   "metadata": {
    "deletable": true,
    "editable": true
   },
   "source": [
    "### Part 2. DataFrame"
   ]
  },
  {
   "cell_type": "markdown",
   "metadata": {
    "deletable": true,
    "editable": true
   },
   "source": [
    "`DataFrame` is a two-dimension data structure. It is like ** Excel ** to put the data into a \"basket\". We call the columns of `DataFrame` \"columns\", however, we call the row of `DataFrame` \"index\".\n",
    "\n",
    "To form a `DataFrame`, except the elements in the `Series`, we also need a general term for every \"columns\", it is callaed \"key\"(see the [documentation](http://pandas.pydata.org/pandas-docs/stable/dsintro.html#dataframe)). There are also two ways to form a `DataFrame`. The first way is:"
   ]
  },
  {
   "cell_type": "code",
   "execution_count": null,
   "metadata": {
    "collapsed": false,
    "deletable": true,
    "editable": true
   },
   "outputs": [],
   "source": [
    "data = {\"Name\":[\"Katherine\",\"David\",\"Bill\"],\"Age\":[19,22,37],\"Gender\":[\"female\",\"male\",\"male\"]}\n",
    "F1 = DataFrame(data)\n",
    "F1"
   ]
  },
  {
   "cell_type": "markdown",
   "metadata": {
    "deletable": true,
    "editable": true
   },
   "source": [
    "According to the above example, we could find one interesting about `DataFrame` is that the order of `DataFrame` is not stipulated, we could adjust its order based on our own idea. For example:"
   ]
  },
  {
   "cell_type": "code",
   "execution_count": null,
   "metadata": {
    "collapsed": false,
    "deletable": true,
    "editable": true
   },
   "outputs": [],
   "source": [
    "F2 = DataFrame(data,columns=['Gender','Name','Age'])\n",
    "F2"
   ]
  },
  {
   "cell_type": "markdown",
   "metadata": {
    "deletable": true,
    "editable": true
   },
   "source": [
    "What do `Series` and `DataFrame` have in common? \n",
    "\n",
    "Both of them could custom the ** *index* **!"
   ]
  },
  {
   "cell_type": "code",
   "execution_count": null,
   "metadata": {
    "collapsed": false,
    "deletable": true,
    "editable": true
   },
   "outputs": [],
   "source": [
    "F3 = DataFrame(data, columns=['Gender', 'Name', 'Age','Height'], index=['a','b','c']) \n",
    "F3"
   ]
  },
  {
   "cell_type": "markdown",
   "metadata": {
    "deletable": true,
    "editable": true
   },
   "source": [
    "One flexible thing about `DataFrame` is that we could assignment the empty ** *index* **, like the above \"Height\"."
   ]
  },
  {
   "cell_type": "code",
   "execution_count": null,
   "metadata": {
    "collapsed": false,
    "deletable": true,
    "editable": true
   },
   "outputs": [],
   "source": [
    "assignment = Series([167, 182,184], index=[\"a\",\"b\",\"c\"]) \n",
    "F3['Height'] = assignment \n",
    "F3"
   ]
  },
  {
   "cell_type": "markdown",
   "metadata": {
    "deletable": true,
    "editable": true
   },
   "source": [
    "Moreover, we could be more specific:"
   ]
  },
  {
   "cell_type": "code",
   "execution_count": null,
   "metadata": {
    "collapsed": false,
    "deletable": true,
    "editable": true
   },
   "outputs": [],
   "source": [
    "F3[\"Name\"][\"c\"]= \"Jake\"\n",
    "F3"
   ]
  },
  {
   "cell_type": "markdown",
   "metadata": {
    "deletable": true,
    "editable": true
   },
   "source": [
    "Another way to form a `DataFrame` is:"
   ]
  },
  {
   "cell_type": "code",
   "execution_count": null,
   "metadata": {
    "collapsed": false,
    "deletable": true,
    "editable": true
   },
   "outputs": [],
   "source": [
    "data_1 = {\"Name\":{\"a\":\"Lily\",\"b\":\"Nancy\"}, \"Age\":{\"b\":59}} \n",
    "F4 = DataFrame(data_1) \n",
    "F4 "
   ]
  },
  {
   "cell_type": "markdown",
   "metadata": {
    "deletable": true,
    "editable": true
   },
   "source": [
    "In addition, if we stipulate more ** *index* ** than the `DataFrame` has, like the number of ** *index* ** is greater than the row of a `DataFrame`, it would display \"NAN\"."
   ]
  },
  {
   "cell_type": "code",
   "execution_count": null,
   "metadata": {
    "collapsed": false,
    "deletable": true,
    "editable": true
   },
   "outputs": [],
   "source": [
    "DataFrame(data_1, index=[\"a\",\"b\",\"c\"]) "
   ]
  },
  {
   "cell_type": "markdown",
   "metadata": {
    "deletable": true,
    "editable": true
   },
   "source": [
    "`DataFrame.columns` could be used to find the `Dataframe`'s property and method."
   ]
  },
  {
   "cell_type": "code",
   "execution_count": null,
   "metadata": {
    "collapsed": false,
    "deletable": true,
    "editable": true
   },
   "outputs": [],
   "source": [
    "F4.columns"
   ]
  },
  {
   "cell_type": "markdown",
   "metadata": {
    "deletable": true,
    "editable": true
   },
   "source": [
    "In addition, we could use `DataFrame['key']` to find all content in a columns, which produce a `Series`."
   ]
  },
  {
   "cell_type": "code",
   "execution_count": null,
   "metadata": {
    "collapsed": false,
    "deletable": true,
    "editable": true
   },
   "outputs": [],
   "source": [
    "F4['Name']"
   ]
  },
  {
   "cell_type": "markdown",
   "metadata": {
    "deletable": true,
    "editable": true
   },
   "source": [
    "In conclusion, `pandas` is a really convenient and useful tool to do ** *Data Analysis* **. To have further information about `pandas`, watch the video on Youtube is a good choice, [click here!](https://www.youtube.com/watch?v=6ohWS7J1hVA)"
   ]
  },
  {
   "cell_type": "code",
   "execution_count": null,
   "metadata": {
    "collapsed": true,
    "deletable": true,
    "editable": true
   },
   "outputs": [],
   "source": []
  }
 ],
 "metadata": {
  "kernelspec": {
   "display_name": "Python 3",
   "language": "python",
   "name": "python3"
  },
  "language_info": {
   "codemirror_mode": {
    "name": "ipython",
    "version": 3
   },
   "file_extension": ".py",
   "mimetype": "text/x-python",
   "name": "python",
   "nbconvert_exporter": "python",
   "pygments_lexer": "ipython3",
   "version": "3.5.2"
  }
 },
 "nbformat": 4,
 "nbformat_minor": 2
}
