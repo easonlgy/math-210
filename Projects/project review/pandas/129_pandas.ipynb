{
 "cells": [
  {
   "cell_type": "markdown",
   "metadata": {
    "deletable": true,
    "editable": true
   },
   "source": [
    "# MATH 210 Project1"
   ]
  },
  {
   "cell_type": "markdown",
   "metadata": {
    "deletable": true,
    "editable": true
   },
   "source": [
    "## Topic : Pandas (Sorting, Analysing and Plotting)"
   ]
  },
  {
   "cell_type": "markdown",
   "metadata": {
    "deletable": true,
    "editable": true
   },
   "source": [
    "**Introducation**: Pandas is an open source that you can us it in Python programming. It is useful for *sorting and organizing datas*. Although it can also be use for analysis data, it's not that convientient to use. Basicly, I will use two kinds of Data Forms: **Series** and **DataFrame**, here to teach you how to sorting a large database through Pandas and many different ways to *Plot* your data."
   ]
  },
  {
   "cell_type": "markdown",
   "metadata": {
    "deletable": true,
    "editable": true
   },
   "source": [
    "**Goals**: Aftering this lesson, you can use many basic functions in Pandas to help you **easier to understand and arrange** a large DataFrame. Also, the plotting can help you **see the data more intuitionistic**."
   ]
  },
  {
   "cell_type": "markdown",
   "metadata": {
    "deletable": true,
    "editable": true
   },
   "source": [
    "**Series**: A **Series** is a one-dimensional object just like array. It can be a row or a column in a table chart.  Each data in the Series is associated to a data label called index."
   ]
  },
  {
   "cell_type": "markdown",
   "metadata": {
    "deletable": true,
    "editable": true
   },
   "source": [
    "**DataFrame**: A DataFrame contains a group of **Serises**, it is like a chart of data which contains rows and columns."
   ]
  },
  {
   "cell_type": "markdown",
   "metadata": {
    "deletable": true,
    "editable": true
   },
   "source": [
    "**CSV**: **CSV**(Comma Separated Values) is a format for you to easily import and export a **DataFrame** into Python, there are many other forms like excel, htmal... But we are using **CSV** to import our data into Python here. "
   ]
  },
  {
   "cell_type": "markdown",
   "metadata": {
    "deletable": true,
    "editable": true
   },
   "source": [
    "## Contents\n",
    "1. Basic Functions used in Pandas\n",
    "     * Functions for organizing datas\n",
    "     * Functions for analysing datas\n",
    "2. Plotting\n",
    "     * Basic(line) Plot\n",
    "     * Bar Plot\n",
    "     * Histograms Plot\n",
    "     * Area Plot\n",
    "     * Scatter Plot\n",
    "     * Pie Plot\n",
    "3. Exericse\n"
   ]
  },
  {
   "cell_type": "code",
   "execution_count": null,
   "metadata": {
    "collapsed": true,
    "deletable": true,
    "editable": true
   },
   "outputs": [],
   "source": [
    "import numpy as np\n",
    "import pandas as pd\n",
    "import matplotlib.pyplot as plt\n",
    "%matplotlib inline\n",
    "import matplotlib \n",
    "matplotlib.style.use('ggplot')"
   ]
  },
  {
   "cell_type": "markdown",
   "metadata": {
    "deletable": true,
    "editable": true
   },
   "source": [
    "# 1. Basic Functions used in Pandas"
   ]
  },
  {
   "cell_type": "markdown",
   "metadata": {
    "deletable": true,
    "editable": true
   },
   "source": [
    "## Functions for Organizing Datas"
   ]
  },
  {
   "cell_type": "code",
   "execution_count": null,
   "metadata": {
    "collapsed": true,
    "deletable": true,
    "editable": true
   },
   "outputs": [],
   "source": [
    "# Reading a CSV is simply calling the read_csv function. Normally, you use the comma to separate column, but you can \n",
    "# change that using the sep parameter\n",
    "df = pd.read_csv('criminal.csv',sep=',')"
   ]
  },
  {
   "cell_type": "code",
   "execution_count": null,
   "metadata": {
    "collapsed": false,
    "deletable": true,
    "editable": true
   },
   "outputs": [],
   "source": [
    "# Now, you can see your DataFrame after importing it\n",
    "df"
   ]
  },
  {
   "cell_type": "code",
   "execution_count": null,
   "metadata": {
    "collapsed": false,
    "deletable": true,
    "editable": true
   },
   "outputs": [],
   "source": [
    "# In order to preliminary understand this DataFrame, we can use \"d.types\" to see what kinds of information this file \n",
    "# includes and what type this DataFrame includes\n",
    "df.dtypes"
   ]
  },
  {
   "cell_type": "markdown",
   "metadata": {
    "deletable": true,
    "editable": true
   },
   "source": [
    "From here, you see clearly that \"Post\" is float, \"Total Incidents\" is integer and others are object. You see that from the DataFrame, the type of 'CrimeDate' is date not object. In order to change it, you can add parse_dates=['CrimeDate'] after df = pd.read_csv('criminal.csv',sep=','). "
   ]
  },
  {
   "cell_type": "code",
   "execution_count": null,
   "metadata": {
    "collapsed": true,
    "deletable": true,
    "editable": true
   },
   "outputs": [],
   "source": [
    "df = pd.read_csv('criminal.csv',sep=',', parse_dates=['CrimeDate'] )"
   ]
  },
  {
   "cell_type": "code",
   "execution_count": null,
   "metadata": {
    "collapsed": false,
    "deletable": true,
    "editable": true
   },
   "outputs": [],
   "source": [
    "# Now, you can check again\n",
    "df.dtypes"
   ]
  },
  {
   "cell_type": "markdown",
   "metadata": {
    "deletable": true,
    "editable": true
   },
   "source": [
    "After we change, we can see it clear that the type of \"CrimeDate\" is datetime. You can use this method to change the type of each column."
   ]
  },
  {
   "cell_type": "markdown",
   "metadata": {
    "deletable": true,
    "editable": true
   },
   "source": [
    "**Next, we will run some basic functions, these functions will let you to see this large chart easier.**"
   ]
  },
  {
   "cell_type": "markdown",
   "metadata": {
    "deletable": true,
    "editable": true
   },
   "source": [
    "First, you may want to know how large(how many rows and columns) the DataFrame is. Easily, you could slide down to the end of the DataFrame, you can see this is a **499rows x 13 columns** chart. But sometimes, this chart is pretty large, you could use a simple way to do this: **df.shape**."
   ]
  },
  {
   "cell_type": "code",
   "execution_count": null,
   "metadata": {
    "collapsed": false,
    "deletable": true,
    "editable": true
   },
   "outputs": [],
   "source": [
    "# \n",
    "ou will get the same answer as before, this is a 499rows x 13 columns chart\n",
    "df.shape"
   ]
  },
  {
   "cell_type": "markdown",
   "metadata": {
    "deletable": true,
    "editable": true
   },
   "source": [
    "This is a large chart, you may only want some of them. There are many functions for you to use: **df.head(x)**, **df.tail(x)**, **df.iloc[a:b,c:d]**"
   ]
  },
  {
   "cell_type": "code",
   "execution_count": null,
   "metadata": {
    "collapsed": false,
    "deletable": true,
    "editable": true
   },
   "outputs": [],
   "source": [
    "# You will get the first 5 rows by default if you do not put any value for x, which means index #0-4 \n",
    "df.head()"
   ]
  },
  {
   "cell_type": "code",
   "execution_count": null,
   "metadata": {
    "collapsed": false,
    "deletable": true,
    "editable": true
   },
   "outputs": [],
   "source": [
    "# You will get the first x rows of the chart\n",
    "# For here, by entering x = 7, you will get the first 7 rows of the chart, which means index #0-6\n",
    "df.head(7)"
   ]
  },
  {
   "cell_type": "code",
   "execution_count": null,
   "metadata": {
    "collapsed": false,
    "deletable": true,
    "editable": true
   },
   "outputs": [],
   "source": [
    "# You will get the first 5 rows by default if you do not put any value for x, which means index #494-498\n",
    "df.tail()"
   ]
  },
  {
   "cell_type": "code",
   "execution_count": null,
   "metadata": {
    "collapsed": false,
    "deletable": true,
    "editable": true
   },
   "outputs": [],
   "source": [
    "# You will get the last x rows of the chart\n",
    "# For here, by entering x = 3, you will get the last 3 rows of the chart, which means index #496-498\n",
    "df.tail(3)"
   ]
  },
  {
   "cell_type": "code",
   "execution_count": null,
   "metadata": {
    "collapsed": false,
    "deletable": true,
    "editable": true
   },
   "outputs": [],
   "source": [
    "# When you are not wanting the first or last few rows and column, you may use \"df.iloc[a:b,c:d]\"\n",
    "# You will get the rows from #a to #b(not include #b) and the columns from #c to #d(not include #d) of the chart\n",
    "# Foe here, by entering a = 3, b = 7, c = 0, d = 8 \n",
    "# * All index numbers start from #0\n",
    "df.iloc[3:7,0:8]"
   ]
  },
  {
   "cell_type": "markdown",
   "metadata": {
    "deletable": true,
    "editable": true
   },
   "source": [
    "It is inconvenient to slide up and down to the chart to see what is the label of each column, you can use **df.columns**"
   ]
  },
  {
   "cell_type": "code",
   "execution_count": null,
   "metadata": {
    "collapsed": false,
    "deletable": true,
    "editable": true
   },
   "outputs": [],
   "source": [
    "# It will show you index labels of all columns\n",
    "df.columns"
   ]
  },
  {
   "cell_type": "markdown",
   "metadata": {
    "deletable": true,
    "editable": true
   },
   "source": [
    "When you see all columns' labels, you may want to see the data in some of columns. You can use **df[[\"labelofcolumn\"]]**"
   ]
  },
  {
   "cell_type": "code",
   "execution_count": null,
   "metadata": {
    "collapsed": false,
    "deletable": true,
    "editable": true
   },
   "outputs": [],
   "source": [
    "# For example, you want the datas in column \"Location\"\n",
    "# For here, by entering \"labelofcolumn\" = \"Location\"\n",
    "df[[\"Location\"]]"
   ]
  },
  {
   "cell_type": "markdown",
   "metadata": {
    "deletable": true,
    "editable": true
   },
   "source": [
    "How about seeing two columns at the same time? Just add the **second labelofcolumn** that you want to see *after* the **first labelofcolumn**: **df.[[\"labelofcolumn#1\",\"labelofcolumn#2\"]]**\n",
    "**NOTE**: **Order Matters** The functions will run from left to right, which means it will show the column **\"labelofcolumn#1\"** first and then **\"labelofcolumn#2\"**.\n",
    "It works for three columns, four columns...(just adding \"labelofcolumn#3\",\"labelofcolumn#4\")"
   ]
  },
  {
   "cell_type": "code",
   "execution_count": null,
   "metadata": {
    "collapsed": false,
    "deletable": true,
    "editable": true
   },
   "outputs": [],
   "source": [
    "# For example, you want to see columns \"CrimeCode\" and \"Location\" from left to right\n",
    "# For here, by entering \"labelofcolumn#1\" = \"CrimeCode\", \"labelofcolumn#2\" = \"Location\"\n",
    "df[[\"CrimeCode\",\"Location\"]]"
   ]
  },
  {
   "cell_type": "code",
   "execution_count": null,
   "metadata": {
    "collapsed": false,
    "deletable": true,
    "editable": true
   },
   "outputs": [],
   "source": [
    "# You can see type of single column by using \"(df.labelofcolumn).dtypes\"\n",
    "# For example, you want to see the type of \"Post\"\n",
    "# For here, by entering labelofcolumn = Post\n",
    "(df.Post).dtypes"
   ]
  },
  {
   "cell_type": "markdown",
   "metadata": {
    "deletable": true,
    "editable": true
   },
   "source": [
    "Before, you use **df.labelofcolumn** to get a column you want. But how about to find some specific rows of this column? You can use **df.labelofcolumn[x]** or **df.labelofcolumn[x:y]**, which x,y represent the index number ofthe rows you want. When you only want 1 row, use only **[x]**. When you want many rows, use **[x:y]**."
   ]
  },
  {
   "cell_type": "code",
   "execution_count": null,
   "metadata": {
    "collapsed": false,
    "deletable": true,
    "editable": true
   },
   "outputs": [],
   "source": [
    "# For example, you want to see what is in index #20 of column \"CrimeCode\"\n",
    "# For here, by entering labelofcolumn\" = \"CrimeCode\", [x] = [20]\n",
    "df.CrimeCode[20]"
   ]
  },
  {
   "cell_type": "code",
   "execution_count": null,
   "metadata": {
    "collapsed": false,
    "deletable": true,
    "editable": true
   },
   "outputs": [],
   "source": [
    "# For example, you want to see what is in index #20-#30 of column \"CrimeCode\"\n",
    "# For here, by entering labelofcolumn\" = \"CrimeCode\", [x] = [20] ,[y] = [31](since[20:30]not include index#30)\n",
    "df.CrimeCode[20:31]"
   ]
  },
  {
   "cell_type": "markdown",
   "metadata": {
    "deletable": true,
    "editable": true
   },
   "source": [
    "Now, how to find a exact Word or Number in a column? **df[(df.indexofcolumn == x)]** and **df[(df.indexofcolumn == \"Word\")]** can help you with it. **x** represent the Number you want to find in the column, **\"Word\"** represent the Word you want to find in the column.\n"
   ]
  },
  {
   "cell_type": "code",
   "execution_count": null,
   "metadata": {
    "collapsed": false,
    "deletable": true,
    "editable": true
   },
   "outputs": [],
   "source": [
    "# For example, you want to find Number 533 in colume \"Post\"\n",
    "# For here, by entering labelofcolumn = Post, x = 533\n",
    "# You will get the all result with Number 533 in \"Post\" column\n",
    "df[(df.Post == 533)] "
   ]
  },
  {
   "cell_type": "code",
   "execution_count": null,
   "metadata": {
    "collapsed": false,
    "deletable": true,
    "editable": true
   },
   "outputs": [],
   "source": [
    "# For example, you want to find Word \"HANDS\" in colume \"Weapon\"\n",
    "# For here, by entering labelofcolumn = Weapon, \"Word\" = \"HANDS\"\n",
    "# You will get the all result with criminals using \"HANDS\" as \"Weapon\"\n",
    "df[(df.Weapon == \"HANDS\")] "
   ]
  },
  {
   "cell_type": "markdown",
   "metadata": {
    "deletable": true,
    "editable": true
   },
   "source": [
    "How about searching Two Words in a column at the same time? You can use **df[df.labelofcolumn.isin([\"Word#1\",\"Word#2\"])]**  \n",
    "It works for Three Words, Four Words...(just adding \"Word#3\",\"Word#4\")"
   ]
  },
  {
   "cell_type": "code",
   "execution_count": null,
   "metadata": {
    "collapsed": false,
    "deletable": true,
    "editable": true
   },
   "outputs": [],
   "source": [
    "# For example, you want to find Word \"HANDS\", \"FIREARM\" and \"KNIFE \"in colume \"Weapon\"\n",
    "# For here, by entering labelofcolumn = Weapon, \"Word#1\" = \"HANDS\", \"Word#2\" = \"FIREARM\", \"Word#3\" = \"KNIFE\"\n",
    "# You will get the all result with criminals using \"HANDS\", \"FIREARM\" and \"KNIFE\" as \"Weapon\"\n",
    "df[df.Weapon.isin([\"HANDS\",\"FIREARM\",\"KNIFE\"])]"
   ]
  },
  {
   "cell_type": "markdown",
   "metadata": {
    "deletable": true,
    "editable": true
   },
   "source": [
    "There is a way for you to find a specific string instead of the word in a column in Pandas, too. You can use **df[df.labelofcolumn.str.contains(\"str\")]**, **\"str\"** represent the string you want to find in the column."
   ]
  },
  {
   "cell_type": "code",
   "execution_count": null,
   "metadata": {
    "collapsed": false,
    "deletable": true,
    "editable": true
   },
   "outputs": [],
   "source": [
    "# For example, you want to find all rows contain string \"RE\" in \"Location\" column\n",
    "# For here, by entering labelofcolumn = Location, \"str\" = \"RE\"\n",
    "df[df.Location.str.contains(\"RE\")]"
   ]
  },
  {
   "cell_type": "markdown",
   "metadata": {
    "deletable": true,
    "editable": true
   },
   "source": [
    "Before, we know how to find a exact Number in a column. Now, we are learning how to find the number larger and smaller than a number. The most simple one is **df[(df.labelofcolumn >or< x)]**. **x** represent the range we want."
   ]
  },
  {
   "cell_type": "code",
   "execution_count": null,
   "metadata": {
    "collapsed": false,
    "deletable": true,
    "editable": true
   },
   "outputs": [],
   "source": [
    "# For example, we want the rows with the number in \"Post\" column lsmall than 700,  just change > to <\n",
    "# For here, by entering labelofcolumn = Post, x = 700\n",
    "df[(df.Post > 700)]\n",
    "# We also can do it with the number in \"Post\" column small than 700, just change > to <"
   ]
  },
  {
   "cell_type": "markdown",
   "metadata": {
    "deletable": true,
    "editable": true
   },
   "source": [
    "**Now, it's time for us to look inside the DataFrame!**"
   ]
  },
  {
   "cell_type": "markdown",
   "metadata": {
    "deletable": true,
    "editable": true
   },
   "source": [
    "From the DataFrame, you can see the numbers in one column are different in each row. You can use **df.sort_values(by=[\"labelofcolumn\"])** to arrange them from small to large order.\n"
   ]
  },
  {
   "cell_type": "code",
   "execution_count": null,
   "metadata": {
    "collapsed": false,
    "deletable": true,
    "editable": true
   },
   "outputs": [],
   "source": [
    "# For example, you want to sort numbers in \"Post\" column \n",
    "# For here, by entering \"labelofcolumn\" = \"Post\"\n",
    "# You will get the result of all numbers in column 'Post' are sorted from small to large by default\n",
    "df.sort_values(by=[\"Post\"])"
   ]
  },
  {
   "cell_type": "markdown",
   "metadata": {
    "deletable": true,
    "editable": true
   },
   "source": [
    "If you want to arrange those numbers from large to small, you can add **ascending=False** at the end of the function."
   ]
  },
  {
   "cell_type": "code",
   "execution_count": null,
   "metadata": {
    "collapsed": false,
    "deletable": true,
    "editable": true
   },
   "outputs": [],
   "source": [
    "# You will get the result of all numbers in column 'Post' are sorted from large to small\n",
    "df.sort_values(by=[\"Post\"],ascending=False)"
   ]
  },
  {
   "cell_type": "markdown",
   "metadata": {
    "deletable": true,
    "editable": true
   },
   "source": [
    "How about arranging two columns of number at the same time? Just add the **second labelofcolumn** that you want to arrange *after* the **first labelofcolumn**: **df.sort_values(by=[\"labelofcolumn#1\",\"labelofcolumn#2\"])**\n",
    "**NOTE**: **Order Matters** The functions will run from left to right, which means it will sort the numbers in **\"labelofcolumn#1\"** first and then **\"labelofcolumn#2\"**.\n",
    "It works for three columns, four columns...(just adding \"labelofcolumn#3\",\"labelofcolumn#4\")"
   ]
  },
  {
   "cell_type": "code",
   "execution_count": null,
   "metadata": {
    "collapsed": false,
    "deletable": true,
    "editable": true
   },
   "outputs": [],
   "source": [
    "# For example, you want to sort numbers in \"Post\" and \"Total Incidents\" columns from large to small\n",
    "df.sort_values(by=[\"Post\",\"Total Incidents\"],ascending=False)"
   ]
  },
  {
   "cell_type": "markdown",
   "metadata": {
    "deletable": true,
    "editable": true
   },
   "source": [
    "There are two symbols you can use to apply more than one function. **&** means **and**, **|** means **or**. Also, for some of functions, you don not need to use & or |, just simply put them together and use **.** to separate them. **ORDER MATTERS**, the system will do the function from left to right **->**. I will put some example here:"
   ]
  },
  {
   "cell_type": "code",
   "execution_count": null,
   "metadata": {
    "collapsed": false,
    "deletable": true,
    "editable": true
   },
   "outputs": [],
   "source": [
    "# We know how to find the number larger or smaller than x. Now, here is the method to find numbers in a range by using\n",
    "# \"&\"(and): df[(df.labelofcolumn > x) & (df.labelofcolumn < y)]. It means you are finding numbers that x < numbers < y\n",
    "# For example, in \"Post\" column, you want to keep all numbers which larger than 400 and small than 1000\n",
    "# For here, by entering labelofcolumn = Post, x = 400, y = 1000\n",
    "df[(df.Post > 400) & (df.Post < 1000)]"
   ]
  },
  {
   "cell_type": "code",
   "execution_count": null,
   "metadata": {
    "collapsed": false,
    "deletable": true,
    "editable": true
   },
   "outputs": [],
   "source": [
    "# We know how to find the number larger or smaller than x. Now, here is the method to find numbers in a range by using\n",
    "# \"|\"(or): df[(df.labelofcolumn > x) | (df.labelofcolumn < y)]. It means you are finding numbers that numbers > x or \n",
    "# numbers < y\n",
    "# For example, in \"Post\" column, you want to keep all numbers which larger than 900 or smaller than 200\n",
    "# For here, by entering labelofcolumn = Post, x = 900, y = 200\n",
    "df[(df.Post > 900) | (df.Post < 200)]"
   ]
  },
  {
   "cell_type": "markdown",
   "metadata": {
    "deletable": true,
    "editable": true
   },
   "source": [
    "**Now, we combine many functions we learn together in one line by using \".\"**"
   ]
  },
  {
   "cell_type": "code",
   "execution_count": null,
   "metadata": {
    "collapsed": false,
    "deletable": true,
    "editable": true
   },
   "outputs": [],
   "source": [
    "# First, I use \"&\" to find the number of column \"Post\" > 200 and(&) use \"HANDS\" as \"Weapon\". \n",
    "# Second, I add \"iloc[0:50]\" means I only want the first 50 rows. At last, I sort them in 'Alphabetical order' through\n",
    "# \"Premise\". \n",
    "# I simply use \".\" to separate the last two functions. And my whole functions start from left to right.\n",
    "df[(df.Post > 200) & (df.Weapon == \"HANDS\")].iloc[0:50].sort_values(by=\"Premise\")"
   ]
  },
  {
   "cell_type": "code",
   "execution_count": null,
   "metadata": {
    "collapsed": false,
    "deletable": true,
    "editable": true
   },
   "outputs": [],
   "source": [
    "# I use many functions together in one line. \n",
    "# First, I use \"|\" to find the number of \"Post\" > 200 or(|) criminals happened in \"EASTERN\" District\n",
    "# Second, I sort them in 'Alphabetical order' through \"Description\". At last,I add \"iloc[0:20,0:9]\" means I only want \n",
    "# the first 20 rows and from column #0 to column #9.\n",
    "# I simply use \".\" to separate the last two functions. And my whole functions start from left to right.\n",
    "df[(df.Post> 200) | (df.District == \"EASTERN\")].sort_values(by=\"Description\").iloc[0:20,0:9]"
   ]
  },
  {
   "cell_type": "markdown",
   "metadata": {
    "deletable": true,
    "editable": true
   },
   "source": [
    "Last function here is to teach you when you find there is a mistake in your DataFrame, how to change or correct a data in a specific row and column. We refer the data you want to change as **old** and we correct it with **new** data. You can use **df.iat[a,b] = x**, in [a,b], **a** represent the index# of the row(**old**), b represent the index# of the column(**old**), **x** = **new**."
   ]
  },
  {
   "cell_type": "code",
   "execution_count": null,
   "metadata": {
    "collapsed": false,
    "deletable": true,
    "editable": true
   },
   "outputs": [],
   "source": [
    "# For example, we want to change the data of the row index 0 and the column index 7(column:'Post') to x = 500.0\n",
    "# First, we see what the old data is in [0,7]. Note: Column#7 is \"Post\"\n",
    "df.Post[0]"
   ]
  },
  {
   "cell_type": "code",
   "execution_count": null,
   "metadata": {
    "collapsed": true,
    "deletable": true,
    "editable": true
   },
   "outputs": [],
   "source": [
    "# We see the old data is 923.0\n",
    "# Now, We change it to 500.0 by entering a = 0, b = 7 and x = 500.0\n",
    "df.iat[0,7] = 500.0"
   ]
  },
  {
   "cell_type": "code",
   "execution_count": null,
   "metadata": {
    "collapsed": false,
    "deletable": true,
    "editable": true
   },
   "outputs": [],
   "source": [
    "# Now, we need to check if we correct this data from 923.0 to 500.0\n",
    "df.Post[0]"
   ]
  },
  {
   "cell_type": "code",
   "execution_count": null,
   "metadata": {
    "collapsed": false,
    "deletable": true,
    "editable": true
   },
   "outputs": [],
   "source": [
    "# We also can check it with the method we learn before\n",
    "df.iloc[:1,7:8]"
   ]
  },
  {
   "cell_type": "code",
   "execution_count": null,
   "metadata": {
    "collapsed": false,
    "deletable": true,
    "editable": true
   },
   "outputs": [],
   "source": [
    "# And we can see the whole row\n",
    "df.head(1)"
   ]
  },
  {
   "cell_type": "markdown",
   "metadata": {
    "deletable": true,
    "editable": true
   },
   "source": [
    "SUCCESS!!! You can use this method to change the word, too."
   ]
  },
  {
   "cell_type": "code",
   "execution_count": null,
   "metadata": {
    "collapsed": false,
    "deletable": true,
    "editable": true
   },
   "outputs": [],
   "source": [
    "# For example, we want to change the data of the row index 56 and the column index 8(column:'District') to x = \"SOUTHERN\"\n",
    "# First, we see what the old data is in [56,8]. Note: Column#8 is \"District\"\n",
    "df.District[56]"
   ]
  },
  {
   "cell_type": "code",
   "execution_count": null,
   "metadata": {
    "collapsed": true,
    "deletable": true,
    "editable": true
   },
   "outputs": [],
   "source": [
    "# We see the old data is \"EASTERN\"\n",
    "# Now, We change it to \"SOUTHERN\" by entering a = 56, b = 8 and x = \"SOUTHERN\"\n",
    "df.iat[56,8] = \"SOUTHERN\""
   ]
  },
  {
   "cell_type": "code",
   "execution_count": null,
   "metadata": {
    "collapsed": false,
    "deletable": true,
    "editable": true
   },
   "outputs": [],
   "source": [
    "# Now, we need to check if we correct this data from \"EASTERN\" to \"SOUTHERN\"\n",
    "df.District[56]"
   ]
  },
  {
   "cell_type": "code",
   "execution_count": null,
   "metadata": {
    "collapsed": false,
    "deletable": true,
    "editable": true
   },
   "outputs": [],
   "source": [
    "# And we can see the whole row\n",
    "df.iloc[56:57]"
   ]
  },
  {
   "cell_type": "markdown",
   "metadata": {
    "deletable": true,
    "editable": true
   },
   "source": [
    "SUCCESS AGAIN!! This is the way when you want to change one data. How about A List of Data? There are couple ways you could use to change A List of Data, here, I will introduce three ways for you to change a A List of Data easily."
   ]
  },
  {
   "cell_type": "code",
   "execution_count": null,
   "metadata": {
    "collapsed": true,
    "deletable": true,
    "editable": true
   },
   "outputs": [],
   "source": [
    "# First, you need to define what you want to do to A List of Data\n",
    "# For example, you want to add 500 to all original numbers(x) in \"Post\" column\n",
    "def add500(x):\n",
    "    return x + 500"
   ]
  },
  {
   "cell_type": "code",
   "execution_count": null,
   "metadata": {
    "collapsed": false,
    "deletable": true,
    "editable": true
   },
   "outputs": [],
   "source": [
    "# Method1: You can use \"df.labelofcolumn.map(def)\" to change A List of Number\n",
    "# For here, by entering labelofcolumn = Post, def = add500\n",
    "df.Post.map(add500)"
   ]
  },
  {
   "cell_type": "code",
   "execution_count": null,
   "metadata": {
    "collapsed": false,
    "deletable": true,
    "editable": true
   },
   "outputs": [],
   "source": [
    "# Method2: You can use df.iloc[row#:row#,column#:column#].apply(def) to change A List of Number\n",
    "# First, you need to count which column is \"Post\" in. You can easily find that it is 7(start from 0).\n",
    "# For here, by entering [row#:row#,column#:column#] = [:,7:8], since we want all rows, so no enter for row# needed\n",
    "# and def = add500\n",
    "df.iloc[:,7:8].apply(add500)"
   ]
  },
  {
   "cell_type": "code",
   "execution_count": null,
   "metadata": {
    "collapsed": false,
    "deletable": true,
    "editable": true
   },
   "outputs": [],
   "source": [
    "# Method3: You can use lambda to do this, too! Use df.iloc[row#:row#,column#:column#].applymap(lambda x: fun)\n",
    "# First, you need to count which column is \"Post\" in. You can easily find that it is 7(start from 0).\n",
    "# For here, by entering [row#:row#,column#:column#] = [:,7:8], since we want all rows, so no enter for row# needed\n",
    "# and fun = add500\n",
    "df.iloc[:,7:8].applymap(lambda x: x+500)"
   ]
  },
  {
   "cell_type": "markdown",
   "metadata": {
    "deletable": true,
    "editable": true
   },
   "source": [
    "## Functions for Analysing Datas"
   ]
  },
  {
   "cell_type": "markdown",
   "metadata": {
    "deletable": true,
    "editable": true
   },
   "source": [
    "Above are all basic functions for you to sorting data of DaatFrame in Pandas. Now, I will introduce some functions for analysis data in DataFrame."
   ]
  },
  {
   "cell_type": "markdown",
   "metadata": {
    "deletable": true,
    "editable": true
   },
   "source": [
    "From before, we use **df.dtypes** to see the type of all column. "
   ]
  },
  {
   "cell_type": "code",
   "execution_count": null,
   "metadata": {
    "collapsed": false,
    "deletable": true,
    "editable": true
   },
   "outputs": [],
   "source": [
    "df.dtypes"
   ]
  },
  {
   "cell_type": "markdown",
   "metadata": {
    "deletable": true,
    "editable": true
   },
   "source": [
    "You can see from the result there are two columns with all numbers in it, which are **\"Post\"** and **\"Toal Incidents\"**. Now, you can use **df.describe()** to help you to analysis the **mean**, **maximun**, **minimum** of these numbers' columns."
   ]
  },
  {
   "cell_type": "code",
   "execution_count": null,
   "metadata": {
    "collapsed": false,
    "deletable": true,
    "editable": true
   },
   "outputs": [],
   "source": [
    "df.describe()"
   ]
  },
  {
   "cell_type": "code",
   "execution_count": null,
   "metadata": {
    "collapsed": false,
    "deletable": true,
    "editable": true
   },
   "outputs": [],
   "source": [
    "# You can use it in specific column for you want to analysis by using \"df.labelofcolumn.describe()\"\n",
    "# For example, you want to analysis the data in only \"Post\" column\n",
    "# For here, by entering labelofcolumn = Post \n",
    "df.Post.describe()"
   ]
  },
  {
   "cell_type": "code",
   "execution_count": null,
   "metadata": {
    "collapsed": false,
    "deletable": true,
    "editable": true
   },
   "outputs": [],
   "source": [
    "# Use \"df.values\" to see all values in the DataFrame\n",
    "df.values"
   ]
  },
  {
   "cell_type": "markdown",
   "metadata": {
    "deletable": true,
    "editable": true
   },
   "source": [
    "Here is the last function for you to summary your data. Use **df.groupby([df.labelofcolumn#1.dt.date,\n",
    "df.labelofcolumn#2]).labelofcolumn#3.sum()** to do a summary of your DataFrame. For my DataFrame, I can do a summary for the sum of “Post” for those crimes happened on the same \"CrimeDate\" in the same \"Neighborhood\"."
   ]
  },
  {
   "cell_type": "code",
   "execution_count": null,
   "metadata": {
    "collapsed": false,
    "deletable": true,
    "editable": true
   },
   "outputs": [],
   "source": [
    "# For here, by entering labelofcolumn#1 = CrimeDate, labelofcolumn#2 = \"Neighborhood\", labelofcolumn#3 = \"Post\"\n",
    "df.groupby([df.CrimeDate.dt.date,df.Neighborhood]).Post.sum()"
   ]
  },
  {
   "cell_type": "markdown",
   "metadata": {
    "deletable": true,
    "editable": true
   },
   "source": [
    "# 2. Plotting"
   ]
  },
  {
   "cell_type": "markdown",
   "metadata": {
    "deletable": true,
    "editable": true
   },
   "source": [
    "## Basic(line) Plot"
   ]
  },
  {
   "cell_type": "markdown",
   "metadata": {
    "deletable": true,
    "editable": true
   },
   "source": [
    "In order to plot a line graph, we need the data. I will show you two ways to plot: Create line plots with **Series** and **DataFrame**"
   ]
  },
  {
   "cell_type": "code",
   "execution_count": null,
   "metadata": {
    "collapsed": true,
    "deletable": true,
    "editable": true
   },
   "outputs": [],
   "source": [
    "# Series with random 100 datas, and the data start from the date 1/2/2017, periods should match the numbers of data\n",
    "se = pd.Series(np.random.randn(100), index=pd.date_range('1/2/2017', periods=100))"
   ]
  },
  {
   "cell_type": "code",
   "execution_count": null,
   "metadata": {
    "collapsed": false,
    "deletable": true,
    "editable": true
   },
   "outputs": [],
   "source": [
    "# By entering the Series name : se, we can simply see these Series\n",
    "se"
   ]
  },
  {
   "cell_type": "code",
   "execution_count": null,
   "metadata": {
    "collapsed": false,
    "deletable": true,
    "editable": true
   },
   "outputs": [],
   "source": [
    "# Add \"plot()\" at the end of the Series(se), you can get a line graph. \n",
    "# x-coord. represent the date and y-coord represent the number\n",
    "se.plot()"
   ]
  },
  {
   "cell_type": "code",
   "execution_count": null,
   "metadata": {
    "collapsed": true,
    "deletable": true,
    "editable": true
   },
   "outputs": [],
   "source": [
    "# DataFrame with random 100rows x 4 columns datas, and the data start from the date 1/2/2017, periods should match the\n",
    "# numbers of data, labeled the columns with \"ABCD\"\n",
    "da = pd.DataFrame(np.random.randn(100, 4), index=pd.date_range('1/1/2017', periods=100), columns=list('ABCD') )"
   ]
  },
  {
   "cell_type": "code",
   "execution_count": null,
   "metadata": {
    "collapsed": false,
    "deletable": true,
    "editable": true
   },
   "outputs": [],
   "source": [
    "# By entering the DataFrame name : da, we can simply see this DataFrame\n",
    "da"
   ]
  },
  {
   "cell_type": "code",
   "execution_count": null,
   "metadata": {
    "collapsed": false,
    "deletable": true,
    "editable": true
   },
   "outputs": [],
   "source": [
    "# Add \"plot()\" at the end of the DataFrame(da), you can get a line graph. \n",
    "# x-coord. represent the date and y-coord represent the number\n",
    "# From the plot, different colors represent different columns (Red = A, Blue = B, Purple = C, Black = D)\n",
    "da.plot()"
   ]
  },
  {
   "cell_type": "markdown",
   "metadata": {
    "deletable": true,
    "editable": true
   },
   "source": [
    "## Bar Plot"
   ]
  },
  {
   "cell_type": "markdown",
   "metadata": {
    "deletable": true,
    "editable": true
   },
   "source": [
    "Now, we introduce the bar plotting, it is a plotting we can always see from books and news. It used to present grouped data with bars, th lengths of bars represent different values. Since we are using the same **DataFrame** we created before(da), so it is no need to creat a new DataFrame. "
   ]
  },
  {
   "cell_type": "code",
   "execution_count": null,
   "metadata": {
    "collapsed": false,
    "deletable": true,
    "editable": true
   },
   "outputs": [],
   "source": [
    "# You can use \"df.ix[#].plot(kind='bar',color=''), plt.axhline(0, color='')\", \"#\" represent the index# of the row(date)\n",
    "# Since the DataFrame is large, we can use bar plotting to see the specific date's data.\n",
    "# For example, I want to choose 01/08/2017 's data. Since our DataFrame start from 01/01/2017, da.ix[7] is 01/08/2017\n",
    "# we choose barcolor = 'r' = red, turn \"on\" the plt.grid, axhlinecolor(x=0) = 'k' = black\n",
    "da.ix[7].plot(kind='bar',color='r'), plt.axhline(0, color='k'),plt.grid('on')"
   ]
  },
  {
   "cell_type": "markdown",
   "metadata": {
    "deletable": true,
    "editable": true
   },
   "source": [
    "To get horizontal bar plots,  you can use the **barh** method:"
   ]
  },
  {
   "cell_type": "code",
   "execution_count": null,
   "metadata": {
    "collapsed": false,
    "deletable": true,
    "editable": true
   },
   "outputs": [],
   "source": [
    "da.ix[7].plot.barh(),plt.grid('on')"
   ]
  },
  {
   "cell_type": "code",
   "execution_count": null,
   "metadata": {
    "collapsed": false,
    "deletable": true,
    "editable": true
   },
   "outputs": [],
   "source": [
    "# You can use \"df.plot.bar(figsize=(,))\"\n",
    "# Since the DataFrame is large, we can use bar plotting to see the specific some date's data.\n",
    "# For example, I want to choose 01/01/2017 to 01/08/2017 's data. Since our DataFrame start from 01/01/2017, so \n",
    "# da.head(8) will be the dates we want\n",
    "da.head(8).plot.bar(figsize=(20,20));plt.grid('on')"
   ]
  },
  {
   "cell_type": "code",
   "execution_count": null,
   "metadata": {
    "collapsed": false,
    "deletable": true,
    "editable": true
   },
   "outputs": [],
   "source": [
    "# We can see what is in da.head(8) using the basic functions we learned before\n",
    "da.head(8)"
   ]
  },
  {
   "cell_type": "markdown",
   "metadata": {
    "deletable": true,
    "editable": true
   },
   "source": [
    "To create a **stacked bar plot**, you can pass stacked=True:"
   ]
  },
  {
   "cell_type": "code",
   "execution_count": null,
   "metadata": {
    "collapsed": false,
    "deletable": true,
    "editable": true
   },
   "outputs": [],
   "source": [
    "da.head(8).plot.bar(stacked=True);plt.grid('on')"
   ]
  },
  {
   "cell_type": "code",
   "execution_count": null,
   "metadata": {
    "collapsed": false,
    "deletable": true,
    "editable": true
   },
   "outputs": [],
   "source": [
    "# You can apply barh method to get a horizontal stacked bar plot\n",
    "da.head(8).plot.barh(stacked=True);plt.grid('on')"
   ]
  },
  {
   "cell_type": "markdown",
   "metadata": {
    "deletable": true,
    "editable": true
   },
   "source": [
    "## Histograms Plot"
   ]
  },
  {
   "cell_type": "markdown",
   "metadata": {
    "deletable": true,
    "editable": true
   },
   "source": [
    "A Histograms is a plot to show you the frequency distribution of a group of data. So you will find all histograms are in the nearly same shape(high in the middle, and become lower to both sides). You could create histograms plots with **Series** and **DataFrame**."
   ]
  },
  {
   "cell_type": "code",
   "execution_count": null,
   "metadata": {
    "collapsed": false,
    "deletable": true,
    "editable": true
   },
   "outputs": [],
   "source": [
    "# Cause to plot a histogram need lots of datas, wo we can use \"da\" to plot this graph\n",
    "# alpha represent the darkness of the color of the bar, we set alpha = 0.5 \n",
    "da.plot.hist(alpha=0.5);plt.grid('on')"
   ]
  },
  {
   "cell_type": "code",
   "execution_count": null,
   "metadata": {
    "collapsed": false,
    "deletable": true,
    "editable": true
   },
   "outputs": [],
   "source": [
    "# Histogram can be stacked by stacked=True, Bin size can be changed\n",
    "da.plot.hist(stacked=True, bins=30),plt.grid('on')"
   ]
  },
  {
   "cell_type": "markdown",
   "metadata": {
    "deletable": true,
    "editable": true
   },
   "source": [
    "To get horizontal histograms,  you can use the **orientation='horizontal'** method:"
   ]
  },
  {
   "cell_type": "code",
   "execution_count": null,
   "metadata": {
    "collapsed": false,
    "deletable": true,
    "editable": true
   },
   "outputs": [],
   "source": [
    "# You can apply the method to get a horizontal stacked bar plot\n",
    "da.plot.hist(stacked=True, bins=30,orientation='horizontal'),plt.grid('on')"
   ]
  },
  {
   "cell_type": "markdown",
   "metadata": {
    "deletable": true,
    "editable": true
   },
   "source": [
    "There are four different colors in the plot since we have four columns in the DataFrame labeled by \"ABCD\". You can only plot one of the column as histograms:\n"
   ]
  },
  {
   "cell_type": "code",
   "execution_count": null,
   "metadata": {
    "collapsed": false,
    "deletable": true,
    "editable": true
   },
   "outputs": [],
   "source": [
    "# For example, you choose to only plot column \"A\"\n",
    "plt.figure(); da['A'].plot.hist(orientation='horizontal')"
   ]
  },
  {
   "cell_type": "markdown",
   "metadata": {
    "deletable": true,
    "editable": true
   },
   "source": [
    "To get cumulative histograms,  you can use the **cumulative='True'** method:"
   ]
  },
  {
   "cell_type": "code",
   "execution_count": null,
   "metadata": {
    "collapsed": false,
    "deletable": true,
    "editable": true
   },
   "outputs": [],
   "source": [
    "# For example, you want to get the cumulative histograms of column \"A\"\n",
    "plt.figure(); da['A'].plot.hist(cumulative=True)"
   ]
  },
  {
   "cell_type": "code",
   "execution_count": null,
   "metadata": {
    "collapsed": false,
    "deletable": true,
    "editable": true
   },
   "outputs": [],
   "source": [
    "# To get the four subplot\n",
    "plt.figure(); da.hist(color='b', alpha=0.4, bins=50,figsize=(10,10))"
   ]
  },
  {
   "cell_type": "code",
   "execution_count": null,
   "metadata": {
    "collapsed": false,
    "deletable": true,
    "editable": true
   },
   "outputs": [],
   "source": [
    "# To get the subplot by using \"subplots=True\"\n",
    "da.plot.hist(subplots=True);"
   ]
  },
  {
   "cell_type": "markdown",
   "metadata": {
    "deletable": true,
    "editable": true
   },
   "source": [
    "The **by** can be used to plot grouped histograms, I will show the example using **by** to plot through **Series** and **DataFrame**.\n"
   ]
  },
  {
   "cell_type": "code",
   "execution_count": null,
   "metadata": {
    "collapsed": false,
    "deletable": true,
    "editable": true
   },
   "outputs": [],
   "source": [
    "# Use \"by\" through \"Series\" to plot\n",
    "se.hist(by=np.random.randint(0,4,100), figsize= (10,10))"
   ]
  },
  {
   "cell_type": "code",
   "execution_count": null,
   "metadata": {
    "collapsed": false,
    "deletable": true,
    "editable": true
   },
   "outputs": [],
   "source": [
    "# Use \"by\" through \"DataFrame\" to plot\n",
    "da.hist(by=np.random.randint(0,4,100), figsize= (10,10))"
   ]
  },
  {
   "cell_type": "markdown",
   "metadata": {
    "deletable": true,
    "editable": true
   },
   "source": [
    "## Area Plot"
   ]
  },
  {
   "cell_type": "markdown",
   "metadata": {
    "deletable": true,
    "editable": true
   },
   "source": [
    "An area graph will disply, it is based on the line graph. The different area will show in different colors between the axis and line. The area of the different colors represent it's value. **Note**: In order to do a Area Plot, values in eaach column must be **either all positive or all negative**. You could create area plots with **Series** and **DataFrame**"
   ]
  },
  {
   "cell_type": "code",
   "execution_count": null,
   "metadata": {
    "collapsed": false,
    "deletable": true,
    "editable": true
   },
   "outputs": [],
   "source": [
    "# Here we creat a new DataFrame with all positive values in each column\n",
    "db = pd.DataFrame(np.random.randint(0,10, (10,4)), columns=['A', 'B', 'C', 'D'])\n",
    "db"
   ]
  },
  {
   "cell_type": "code",
   "execution_count": null,
   "metadata": {
    "collapsed": false,
    "deletable": true,
    "editable": true
   },
   "outputs": [],
   "source": [
    "# To do a area plot, the y-coord of this plot shows the sum the numbers\n",
    "# For example, For Grey(D) area will the values of sum(A+B+C+D), Blue(B) area will the the values of sum(A+B)\n",
    "db.plot.area()"
   ]
  },
  {
   "cell_type": "markdown",
   "metadata": {
    "deletable": true,
    "editable": true
   },
   "source": [
    "To produce an unstacked plot, you can use **stacked=False**."
   ]
  },
  {
   "cell_type": "code",
   "execution_count": null,
   "metadata": {
    "collapsed": false,
    "deletable": true,
    "editable": true
   },
   "outputs": [],
   "source": [
    "# This area plot show exactly what the number is in each column\n",
    "db.plot.area(stacked=False)"
   ]
  },
  {
   "cell_type": "markdown",
   "metadata": {
    "deletable": true,
    "editable": true
   },
   "source": [
    "## Scatter Plot"
   ]
  },
  {
   "cell_type": "markdown",
   "metadata": {
    "deletable": true,
    "editable": true
   },
   "source": [
    "Scatter Plot is using Cartesian coord. to show values for two variables for a set of data. You could use **DataFrame** to do a scatter plot."
   ]
  },
  {
   "cell_type": "code",
   "execution_count": null,
   "metadata": {
    "collapsed": false,
    "deletable": true,
    "editable": true
   },
   "outputs": [],
   "source": [
    "# Create a DataFrame \"dc\"\n",
    "dc = pd.DataFrame(np.random.rand(70,4),columns=['A', 'B', 'C', 'D'])\n",
    "dc"
   ]
  },
  {
   "cell_type": "code",
   "execution_count": null,
   "metadata": {
    "collapsed": false,
    "deletable": true,
    "editable": true
   },
   "outputs": [],
   "source": [
    "dc.plot.scatter(x='A',y='B')"
   ]
  },
  {
   "cell_type": "code",
   "execution_count": null,
   "metadata": {
    "collapsed": false,
    "deletable": true,
    "editable": true
   },
   "outputs": [],
   "source": [
    "# To plot multiple column groups in a single axes\n",
    "ax = dc.plot.scatter(x='A', y='B', color='DarkRed', label='Group 1');\n",
    "dc.plot.scatter(x='C', y='D', color='DarkBlue', label='Group 2', ax=ax);"
   ]
  },
  {
   "cell_type": "code",
   "execution_count": null,
   "metadata": {
    "collapsed": false,
    "deletable": true,
    "editable": true
   },
   "outputs": [],
   "source": [
    "# The \"c\" may provide colors for each point\n",
    "dc.plot.scatter(x='A', y='B', c='C', s=60);"
   ]
  },
  {
   "cell_type": "code",
   "execution_count": null,
   "metadata": {
    "collapsed": false,
    "deletable": true,
    "editable": true
   },
   "outputs": [],
   "source": [
    "# To careate a bubble chart\n",
    "dc.plot.scatter(x='A', y='B', s=dc['C']*400);"
   ]
  },
  {
   "cell_type": "markdown",
   "metadata": {
    "deletable": true,
    "editable": true
   },
   "source": [
    "## Pie Plot"
   ]
  },
  {
   "cell_type": "markdown",
   "metadata": {
    "deletable": true,
    "editable": true
   },
   "source": [
    "Pie plot is a graph that its shape like a pie. The area of each color represent the values of each column. You can use **DataFrame** and **Series** to create pie plot."
   ]
  },
  {
   "cell_type": "code",
   "execution_count": null,
   "metadata": {
    "collapsed": false,
    "deletable": true,
    "editable": true
   },
   "outputs": [],
   "source": [
    "# Create a DataFrame \"dp\"\n",
    "dp = pd.DataFrame(4 * np.random.rand(4, 2), index=['a', 'b', 'c', 'd'], columns=['x', 'y'])\n",
    "dp"
   ]
  },
  {
   "cell_type": "code",
   "execution_count": null,
   "metadata": {
    "collapsed": false,
    "deletable": true,
    "editable": true
   },
   "outputs": [],
   "source": [
    "# Do the subplot and set the size of pie plot by \"figsize=())\"\n",
    "dp.plot.pie(subplots=True, figsize=(9, 4))"
   ]
  },
  {
   "cell_type": "code",
   "execution_count": null,
   "metadata": {
    "collapsed": false,
    "deletable": true,
    "editable": true
   },
   "outputs": [],
   "source": [
    "# Create a Series \"dz\"\n",
    "dz = pd.Series(3 * np.random.rand(4), index=['A', 'B', 'C', 'D'], name='dz')\n",
    "dz"
   ]
  },
  {
   "cell_type": "code",
   "execution_count": null,
   "metadata": {
    "collapsed": false,
    "deletable": true,
    "editable": true
   },
   "outputs": [],
   "source": [
    "# Use the series to plot A, B, C, D\n",
    "dz.plot.pie(figsize=(6, 6))"
   ]
  },
  {
   "cell_type": "markdown",
   "metadata": {
    "deletable": true,
    "editable": true
   },
   "source": [
    "# 3. Exercise"
   ]
  },
  {
   "cell_type": "markdown",
   "metadata": {
    "deletable": true,
    "editable": true
   },
   "source": [
    "**Exercise1:** Create a random DataFrame with 50rows x 5columns, and label each columns with a string. Add values 30 to all datas in each columns and arrange them on order from large to samll in each column. Also change the data in row#43, column#2 into 56. Use(Show) at least two ways to check your answers!"
   ]
  },
  {
   "cell_type": "markdown",
   "metadata": {
    "deletable": true,
    "editable": true
   },
   "source": [
    "**Exercise2**: Import a csv. DataFrame from Internet, find its types of each column. Use two of \"&\"(and), \"|\",  \".\" and at least four basic functions we learned to sorting datas. For example: df[(df.Post> 200) | (df.District == \"EASTERN\")].sort_values(by=\"Description\").iloc[0:20,0:9]"
   ]
  },
  {
   "cell_type": "markdown",
   "metadata": {
    "deletable": true,
    "editable": true
   },
   "source": [
    "**Exercise 3**: For the DataFrame you import in **Exercise2**, choose at least three ways to plot. You can choose it from (Line Plotting, Bar Plotting, Histograms Plotting, Area Plotting, Scatter Plotting, Pir Plotting). And simple explain each plots with one sentence."
   ]
  }
 ],
 "metadata": {
  "kernelspec": {
   "display_name": "Python 3",
   "language": "python",
   "name": "python3"
  },
  "language_info": {
   "codemirror_mode": {
    "name": "ipython",
    "version": 3
   },
   "file_extension": ".py",
   "mimetype": "text/x-python",
   "name": "python",
   "nbconvert_exporter": "python",
   "pygments_lexer": "ipython3",
   "version": "3.5.2"
  }
 },
 "nbformat": 4,
 "nbformat_minor": 2
}
