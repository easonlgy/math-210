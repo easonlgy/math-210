{
 "cells": [
  {
   "cell_type": "markdown",
   "metadata": {
    "deletable": true,
    "editable": true
   },
   "source": [
    "# MATH 210 Project I: Data Analysis with `Pandas`"
   ]
  },
  {
   "cell_type": "markdown",
   "metadata": {
    "deletable": true,
    "editable": true
   },
   "source": [
    "`Pandas` is an open source Python library for data analysis, It is designed for cleaning data, analysis and modelling, organizing the results of the analysis for a suitable drawing or list display form in a fast and flexible way. `Pandas` makes Python be more efficiently  and be greater for analysis. (see the [documentation](http://pandas.pydata.org/pandas-docs/stable/dsintro.html)"
   ]
  },
  {
   "cell_type": "markdown",
   "metadata": {
    "deletable": true,
    "editable": true
   },
   "source": [
    "`Pandas` introduces two main data structures to Python: **Series** and **DataFrames**. Series is one-dimensional and  is mostly used for cases in finance, statistics social science and engineering. DataFrames is tow-dimensional and provides all the data frames and is designed to be integrated in a scientific computing environment."
   ]
  },
  {
   "cell_type": "markdown",
   "metadata": {
    "deletable": true,
    "editable": true
   },
   "source": [
    "**My goal** for this tutorial is to explore **three parts** of Pandas by introducing to basic pandas structures and `where` () Method and Masking and to provide explanation of the contents and examples for those who intended to have a better understanding of data analysis.\n",
    "\n",
    "\n",
    "**PART 1**: Introduction to pandas data structures, with the basics of the library's main data structures: Series \n",
    "\n",
    "**PART 2**: Introduction to pandas data structures, with the basics of the library's main data structures: DataFrames \n",
    "\n",
    "**PART 3**: Introduction to Index and Selecting Data, focusing more on the `where` ( ) Method and Masking\n",
    "\n",
    "* `Series` (see the [documentation](http://pandas.pydata.org/pandas-docs/stable/dsintro.html))\n",
    "* `DataFrames` (see the [documentation](http://pandas.pydata.org/pandas-docs/stable/dsintro.html))\n",
    "* ` where() Method and Masking` (see the [documentaion](http://pandas.pydata.org/pandas-docs/stable/indexing.html#the-where-method-and-masking))\n"
   ]
  },
  {
   "cell_type": "markdown",
   "metadata": {
    "deletable": true,
    "editable": true
   },
   "source": [
    "## Contents\n",
    "\n",
    "1. `series`\n",
    "2. `DataFrame`\n",
    "3. `where` ( ) Method and Masking\n",
    "4. Exercises"
   ]
  },
  {
   "cell_type": "code",
   "execution_count": null,
   "metadata": {
    "collapsed": true,
    "deletable": true,
    "editable": true
   },
   "outputs": [],
   "source": [
    "import numpy as np\n",
    "import pandas as pd\n",
    "import matplotlib.pyplot as plt\n",
    "%matplotlib inline"
   ]
  },
  {
   "cell_type": "markdown",
   "metadata": {
    "deletable": true,
    "editable": true
   },
   "source": [
    "## 1. Series\n",
    "\n",
    "\n",
    "\n",
    "Series is a one-dimensional object like array and list that can assign a labeled index to each corresponding item. The way to create a Series is to use the general method      $$s = pd.Series(data,index=index)$$\n",
    "\n",
    "#### The data  can be:\n",
    " * ndarray\n",
    " * Python dict\n",
    " * scalar value"
   ]
  },
  {
   "cell_type": "markdown",
   "metadata": {
    "deletable": true,
    "editable": true
   },
   "source": [
    "### From ndarray\n",
    "\n",
    "When `data` is an ndarray, if index is labelled, each item will be assigned to an index lable from 0 to N, where N is the length of the data minus one."
   ]
  },
  {
   "cell_type": "code",
   "execution_count": null,
   "metadata": {
    "collapsed": false,
    "deletable": true,
    "editable": true
   },
   "outputs": [],
   "source": [
    "# create an arbitrary list\n",
    "s = pd.Series(['a','b','c','d','e','f','g','h'])"
   ]
  },
  {
   "cell_type": "code",
   "execution_count": null,
   "metadata": {
    "collapsed": false,
    "deletable": true,
    "editable": true
   },
   "outputs": [],
   "source": [
    "s"
   ]
  },
  {
   "cell_type": "markdown",
   "metadata": {
    "deletable": true,
    "editable": true
   },
   "source": [
    "we can specify the index when we write the Series. The index should be the same length as the data"
   ]
  },
  {
   "cell_type": "code",
   "execution_count": null,
   "metadata": {
    "collapsed": false,
    "deletable": true,
    "editable": true
   },
   "outputs": [],
   "source": [
    "s = pd.Series([90,80,77], index=['Allen','Tom','Cindy'])"
   ]
  },
  {
   "cell_type": "code",
   "execution_count": null,
   "metadata": {
    "collapsed": false,
    "deletable": true,
    "editable": true
   },
   "outputs": [],
   "source": [
    "s"
   ]
  },
  {
   "cell_type": "code",
   "execution_count": null,
   "metadata": {
    "collapsed": true,
    "deletable": true,
    "editable": true
   },
   "outputs": [],
   "source": [
    "s = pd.Series(np.random.randn(5))"
   ]
  },
  {
   "cell_type": "code",
   "execution_count": null,
   "metadata": {
    "collapsed": false,
    "deletable": true,
    "editable": true
   },
   "outputs": [],
   "source": [
    "s"
   ]
  },
  {
   "cell_type": "markdown",
   "metadata": {
    "deletable": true,
    "editable": true
   },
   "source": [
    "### From dict\n",
    "\n",
    "If the data is a dictionary, if the index is indexed by the value of the data corresponding to the label will be pulled out. Otherwise, the index will be sorted by the key dictionary. NaN(not a number) represents the missing data introduced in pandas."
   ]
  },
  {
   "cell_type": "code",
   "execution_count": null,
   "metadata": {
    "collapsed": false,
    "deletable": true,
    "editable": true
   },
   "outputs": [],
   "source": [
    "d = {'Vancouver' : 1000, 'Victoria' : 500, 'Burnaby': 300, 'Richmond': 200, 'White Rock': None}\n",
    "cities = pd.Series(d)\n",
    "cities"
   ]
  },
  {
   "cell_type": "markdown",
   "metadata": {
    "collapsed": true,
    "deletable": true,
    "editable": true
   },
   "source": [
    "We can select items to see the index from the Series"
   ]
  },
  {
   "cell_type": "code",
   "execution_count": null,
   "metadata": {
    "collapsed": false,
    "deletable": true,
    "editable": true
   },
   "outputs": [],
   "source": [
    "cities['Burnaby']"
   ]
  },
  {
   "cell_type": "code",
   "execution_count": null,
   "metadata": {
    "collapsed": false,
    "deletable": true,
    "editable": true
   },
   "outputs": [],
   "source": [
    "cities[['Burnaby','Vancouver']]"
   ]
  },
  {
   "cell_type": "markdown",
   "metadata": {
    "deletable": true,
    "editable": true
   },
   "source": [
    "We can alse use boolean to select specify indexs"
   ]
  },
  {
   "cell_type": "code",
   "execution_count": null,
   "metadata": {
    "collapsed": false,
    "deletable": true,
    "editable": true
   },
   "outputs": [],
   "source": [
    "cities[cities < 600]"
   ]
  },
  {
   "cell_type": "markdown",
   "metadata": {
    "deletable": true,
    "editable": true
   },
   "source": [
    "We can also return a series of True/False values"
   ]
  },
  {
   "cell_type": "code",
   "execution_count": null,
   "metadata": {
    "collapsed": false,
    "deletable": true,
    "editable": true
   },
   "outputs": [],
   "source": [
    "less_than_600 = cities < 600\n",
    "print(less_than_600)\n",
    "print('\\n')\n",
    "print(cities[less_than_600])"
   ]
  },
  {
   "cell_type": "markdown",
   "metadata": {
    "deletable": true,
    "editable": true
   },
   "source": [
    "We can also change the value in a series"
   ]
  },
  {
   "cell_type": "code",
   "execution_count": null,
   "metadata": {
    "collapsed": false,
    "deletable": true,
    "editable": true
   },
   "outputs": [],
   "source": [
    "print('Old value:', cities['Victoria'])\n",
    "cities['Victoria'] = 880\n",
    "print('New value:', cities['Victoria'])"
   ]
  },
  {
   "cell_type": "markdown",
   "metadata": {
    "deletable": true,
    "editable": true
   },
   "source": [
    "The two Series can be added together, which returns the combination of the two Series and the addition of the shared index value. The value of a sequence that does not share an index will generate a NULL/NaN."
   ]
  },
  {
   "cell_type": "code",
   "execution_count": null,
   "metadata": {
    "collapsed": false,
    "deletable": true,
    "editable": true
   },
   "outputs": [],
   "source": [
    "print(cities[['Victoria', 'Richmond', 'White Rock']])\n",
    "print('\\n')\n",
    "print(cities[['Vancouver', 'Burnaby']])\n",
    "print('\\n')\n",
    "print(cities[['Victoria', 'Richmond', 'White Rock']] + cities[['Vancouver', 'Burnaby']])"
   ]
  },
  {
   "cell_type": "markdown",
   "metadata": {
    "deletable": true,
    "editable": true
   },
   "source": [
    "### From Scalar Value\n",
    "\n",
    "If the data is a scalar value, it must provide an index. This value will be repeated to match the index length"
   ]
  },
  {
   "cell_type": "code",
   "execution_count": null,
   "metadata": {
    "collapsed": false,
    "deletable": true,
    "editable": true
   },
   "outputs": [],
   "source": [
    "pd.Series(100., index=['Allen', 'Bob', 'Cindy', 'Tom', 'Elina'])"
   ]
  },
  {
   "cell_type": "markdown",
   "metadata": {
    "deletable": true,
    "editable": true
   },
   "source": [
    "## 2. DataFrames\n",
    "\n",
    "A data frame is a 2-dimensional data structure consisting of rows and columns, similar to a spreadsheet, database table, SQL table or R data object. You can also share an index (column names) as a set of series objects. Series, DataFrame accepts many different kinds of inputs:\n",
    "\n",
    " * Dict of 1D ndarrays, lists, dicts, or Series\n",
    " * Structured or record ndarray\n",
    " * Other DataFrame"
   ]
  },
  {
   "cell_type": "markdown",
   "metadata": {
    "deletable": true,
    "editable": true
   },
   "source": [
    "### From dict of Series or dicts"
   ]
  },
  {
   "cell_type": "markdown",
   "metadata": {
    "deletable": true,
    "editable": true
   },
   "source": [
    "The final indexes are the combination of various indexes. If there are any nested dictionaries, these will translate into a series. If the column is not passed, the list of columns sorted"
   ]
  },
  {
   "cell_type": "code",
   "execution_count": null,
   "metadata": {
    "collapsed": false,
    "deletable": true,
    "editable": true
   },
   "outputs": [],
   "source": [
    "d = {'first exam' : pd.Series([10., 7., 8.], index=['Allen', 'Bob', 'Cindy']),\n",
    "'second exam' : pd.Series([9., 9., 5., 6.], index=['Allen', 'Bob', 'Cindy','Tom'])}"
   ]
  },
  {
   "cell_type": "code",
   "execution_count": null,
   "metadata": {
    "collapsed": false,
    "deletable": true,
    "editable": true
   },
   "outputs": [],
   "source": [
    "df = pd.DataFrame(d)"
   ]
  },
  {
   "cell_type": "code",
   "execution_count": null,
   "metadata": {
    "collapsed": false,
    "deletable": true,
    "editable": true
   },
   "outputs": [],
   "source": [
    "df"
   ]
  },
  {
   "cell_type": "code",
   "execution_count": null,
   "metadata": {
    "collapsed": false,
    "deletable": true,
    "editable": true
   },
   "outputs": [],
   "source": [
    "pd.DataFrame(d, index=['Allen', 'Bob', 'Cindy'])"
   ]
  },
  {
   "cell_type": "code",
   "execution_count": null,
   "metadata": {
    "collapsed": false,
    "deletable": true,
    "editable": true
   },
   "outputs": [],
   "source": [
    "pd.DataFrame(d, index=['Allen', 'Bob', 'Cindy'], columns=['second exam', 'third exam'])"
   ]
  },
  {
   "cell_type": "markdown",
   "metadata": {
    "collapsed": true,
    "deletable": true,
    "editable": true
   },
   "source": [
    "### From dict of ndarrays / lists\n",
    "\n",
    "The ndarrays must be of the same length. If the index is passed, it must be the same as the length of the array. If not,the result will be range(n),which is the length of the array."
   ]
  },
  {
   "cell_type": "code",
   "execution_count": null,
   "metadata": {
    "collapsed": true,
    "deletable": true,
    "editable": true
   },
   "outputs": [],
   "source": [
    "d = {'round one' : [1., 2., 3., 4.], 'round two' : [4., 3., 2., 1.]}"
   ]
  },
  {
   "cell_type": "code",
   "execution_count": null,
   "metadata": {
    "collapsed": false,
    "deletable": true,
    "editable": true
   },
   "outputs": [],
   "source": [
    "pd.DataFrame(d)"
   ]
  },
  {
   "cell_type": "code",
   "execution_count": null,
   "metadata": {
    "collapsed": false,
    "deletable": true,
    "editable": true
   },
   "outputs": [],
   "source": [
    "pd.DataFrame(d, index=['a', 'b', 'c', 'd'])"
   ]
  },
  {
   "cell_type": "markdown",
   "metadata": {
    "deletable": true,
    "editable": true
   },
   "source": [
    "### From structured or record array\n",
    "\n",
    "Structure or record array is using the same method as a dict of arrays."
   ]
  },
  {
   "cell_type": "code",
   "execution_count": null,
   "metadata": {
    "collapsed": true,
    "deletable": true,
    "editable": true
   },
   "outputs": [],
   "source": [
    "data = np.zeros((2,), dtype=[('A', 'i4'),('B', 'f4'),('C', 'a10')])"
   ]
  },
  {
   "cell_type": "code",
   "execution_count": null,
   "metadata": {
    "collapsed": true,
    "deletable": true,
    "editable": true
   },
   "outputs": [],
   "source": [
    "data[:] = [(1,2.,'Hello'), (2,3.,\"World\")]"
   ]
  },
  {
   "cell_type": "code",
   "execution_count": null,
   "metadata": {
    "collapsed": false,
    "deletable": true,
    "editable": true
   },
   "outputs": [],
   "source": [
    "pd.DataFrame(data)"
   ]
  },
  {
   "cell_type": "markdown",
   "metadata": {
    "deletable": true,
    "editable": true
   },
   "source": [
    "### From  other DataFrame"
   ]
  },
  {
   "cell_type": "markdown",
   "metadata": {
    "deletable": true,
    "editable": true
   },
   "source": [
    "`Dataframe.from_items` works for a dict constructor that takes a sequence of form (key, value) pairs. The key represents the column or row and the value represents the column value or row value. We use `Dataframe.from_items` to construct a data frame in a particular sequence of columns. Passing a list of columns is not necessary.  "
   ]
  },
  {
   "cell_type": "code",
   "execution_count": null,
   "metadata": {
    "collapsed": false,
    "deletable": true,
    "editable": true
   },
   "outputs": [],
   "source": [
    "pd.DataFrame.from_items([('A', [10, 8, 9]), ('B', [4, 1, 6])])"
   ]
  },
  {
   "cell_type": "markdown",
   "metadata": {
    "deletable": true,
    "editable": true
   },
   "source": [
    "If you pass `orient='index'`, the keys will be the row labels. In this case, you also need to pass the column names."
   ]
  },
  {
   "cell_type": "code",
   "execution_count": null,
   "metadata": {
    "collapsed": false,
    "deletable": true,
    "editable": true
   },
   "outputs": [],
   "source": [
    "pd.DataFrame.from_items([('A', [10, 8, 9]), ('B', [4, 1, 6])], orient='index', columns=['one', 'two', 'three'])"
   ]
  },
  {
   "cell_type": "markdown",
   "metadata": {
    "deletable": true,
    "editable": true
   },
   "source": [
    "## 3. `where` ( ) Method and Masking\n",
    "\n",
    "To select a subset of data from a Boolean vector. In order to ensure that the selected output has the same shape as the original data, you can use the where `method` in `Series` and `DataFrame`. (see the [Sample CSV Data]( https://support.spatialkey.com/spatialkey-sample-csv-data/))"
   ]
  },
  {
   "cell_type": "code",
   "execution_count": null,
   "metadata": {
    "collapsed": false,
    "deletable": true,
    "editable": true
   },
   "outputs": [],
   "source": [
    "# Log in to your Python account \n",
    "# upload the data file e.g. “TechCrunchcontinentalUSA.csv“ from your local to the location where your script is\n",
    "df = pd.read_csv(\"TechCrunchcontinentalUSA.csv\",sep=\",\",parse_dates=['fundedDate'])"
   ]
  },
  {
   "cell_type": "code",
   "execution_count": null,
   "metadata": {
    "collapsed": false,
    "deletable": true,
    "editable": true
   },
   "outputs": [],
   "source": [
    "df"
   ]
  },
  {
   "cell_type": "code",
   "execution_count": null,
   "metadata": {
    "collapsed": false,
    "deletable": true,
    "editable": true
   },
   "outputs": [],
   "source": [
    "# Selecting values from a Series with a boolean vector returns a subset of the data. \n",
    "# To return only the selected rows when raisedAmt >6000000\n",
    "df[df > 6000000]"
   ]
  },
  {
   "cell_type": "code",
   "execution_count": null,
   "metadata": {
    "collapsed": false,
    "deletable": true,
    "editable": true
   },
   "outputs": [],
   "source": [
    "# select values from DataFrames with a boolean vector returns a subset of the data. \n",
    "# To return only the selected rows when raisedAmt < 4000000\n",
    "df.where(df < 4000000)"
   ]
  },
  {
   "cell_type": "code",
   "execution_count": null,
   "metadata": {
    "collapsed": false,
    "deletable": true,
    "editable": true
   },
   "outputs": [],
   "source": [
    "# To return only the selected rows when raisedAmt < 4000000\n",
    "# replace the non-selected rows with NaN \n",
    "df.where(df.raisedAmt <4000000)"
   ]
  },
  {
   "cell_type": "code",
   "execution_count": null,
   "metadata": {
    "collapsed": false,
    "deletable": true,
    "editable": true
   },
   "outputs": [],
   "source": [
    "# Based on the previous step, takes (-1*raisedAmt) for replacement of values where the condition is False\n",
    "df.where(df.raisedAmt <4000000, -1*df.raisedAmt,axis=0)"
   ]
  },
  {
   "cell_type": "code",
   "execution_count": null,
   "metadata": {
    "collapsed": false,
    "deletable": true,
    "editable": true,
    "scrolled": false
   },
   "outputs": [],
   "source": [
    "# when values in raisedAmt < 4000000, replace the values with 1\n",
    "df.raisedAmt.where(df.raisedAmt < 4000000,1)"
   ]
  },
  {
   "cell_type": "code",
   "execution_count": null,
   "metadata": {
    "collapsed": false,
    "deletable": true,
    "editable": true
   },
   "outputs": [],
   "source": [
    "# when values in raisedAmt < 4000000, replace the values with 1 and display the first 29 lines\n",
    "np.where(df.raisedAmt < 4000000,df.raisedAmt,1)[:29]"
   ]
  },
  {
   "cell_type": "code",
   "execution_count": null,
   "metadata": {
    "collapsed": false,
    "deletable": true,
    "editable": true,
    "scrolled": true
   },
   "outputs": [],
   "source": [
    "# from two previous steps, we can see the values in each array are the same, therefore produce all true \n",
    "# when writing DataFrames.where(),we can express df1.where(m, df2) as np.where(m, df1, df2).\n",
    "# df.where(df < 0, -df) == np.where(df < 0, df, -df)\n",
    "df.raisedAmt.where(df.raisedAmt < 4000000,1) == np.where(df.raisedAmt < 4000000,df.raisedAmt,1)"
   ]
  },
  {
   "cell_type": "code",
   "execution_count": null,
   "metadata": {
    "collapsed": false,
    "deletable": true,
    "editable": true,
    "scrolled": true
   },
   "outputs": [],
   "source": [
    "# set values based on some boolean criteria\n",
    "# set values to 0 when df2.raisedAmt < 4000000 \n",
    "df2 = df.copy()\n",
    "df2[df2.raisedAmt < 4000000] = 0\n",
    "df2"
   ]
  },
  {
   "cell_type": "markdown",
   "metadata": {
    "deletable": true,
    "editable": true
   },
   "source": [
    "By performing the `where`,we can use `axis` and `level` to align the input"
   ]
  },
  {
   "cell_type": "code",
   "execution_count": null,
   "metadata": {
    "collapsed": false,
    "deletable": true,
    "editable": true
   },
   "outputs": [],
   "source": [
    "df2 = df.copy()\n",
    "df2.where(df2.raisedAmt<100000,df2['raisedAmt'],axis='index')"
   ]
  },
  {
   "cell_type": "code",
   "execution_count": null,
   "metadata": {
    "collapsed": false,
    "deletable": true,
    "editable": true
   },
   "outputs": [],
   "source": [
    "df2 = df.copy()\n",
    "df2.where(df2.raisedAmt<1000000)"
   ]
  },
  {
   "cell_type": "markdown",
   "metadata": {
    "deletable": true,
    "editable": true
   },
   "source": [
    "We use `mask` to express the inverse boolean operation of `where`"
   ]
  },
  {
   "cell_type": "code",
   "execution_count": null,
   "metadata": {
    "collapsed": false,
    "deletable": true,
    "editable": true
   },
   "outputs": [],
   "source": [
    "# We obtain the values of raisedAmt < 1000000 by using mask\n",
    "df.raisedAmt.mask(df.raisedAmt >=1000000)"
   ]
  },
  {
   "cell_type": "markdown",
   "metadata": {
    "deletable": true,
    "editable": true
   },
   "source": [
    "## 4. Exercises"
   ]
  },
  {
   "cell_type": "markdown",
   "metadata": {
    "collapsed": true,
    "deletable": true,
    "editable": true
   },
   "source": [
    "**Exercise 1**. Create a DataFrame by using np.random.randn, the DataFrame is 100 by 8, and the index uses date.\n",
    "\n",
    "**Exercise 2**. Create two Series and return the combination of the two Series with some of the value that do not share an index.\n",
    "\n",
    "**Exercise 3**. Mask function can take a replacement value for all unmasked records. Use mask method to replace all raisedAmt that are less than 4000000 with -1."
   ]
  },
  {
   "cell_type": "code",
   "execution_count": null,
   "metadata": {
    "collapsed": true
   },
   "outputs": [],
   "source": []
  }
 ],
 "metadata": {
  "kernelspec": {
   "display_name": "Python 3",
   "language": "python",
   "name": "python3"
  },
  "language_info": {
   "codemirror_mode": {
    "name": "ipython",
    "version": 3
   },
   "file_extension": ".py",
   "mimetype": "text/x-python",
   "name": "python",
   "nbconvert_exporter": "python",
   "pygments_lexer": "ipython3",
   "version": "3.5.2"
  }
 },
 "nbformat": 4,
 "nbformat_minor": 2
}
