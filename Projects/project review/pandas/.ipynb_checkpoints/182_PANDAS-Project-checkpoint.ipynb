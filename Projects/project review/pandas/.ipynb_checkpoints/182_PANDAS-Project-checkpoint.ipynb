{
 "cells": [
  {
   "cell_type": "markdown",
   "metadata": {
    "deletable": true,
    "editable": true
   },
   "source": [
    "# MATH 210 Project I\n",
    "\n",
    "## Analyzing Data with `pandas`\n",
    "\n",
    "### by Geun Woo Park"
   ]
  },
  {
   "cell_type": "markdown",
   "metadata": {
    "deletable": true,
    "editable": true
   },
   "source": [
    "`Pandas` is simply Microsoft Excel in Python. However, regarding the user's ability and degree of understanding it, it can provide quicker, more flexible and expressive data analysis than Excel, which is known as one of the most powerful and effective data analysis/manipulation tools in the world. \n",
    "\n",
    "**Goal** in this notebook is pretty simple and basic. Learning the basic idea about `Pandas`. By the end of this project, the readers will be familiar with:\n",
    "* How to create an object\n",
    "* How to read/import a data from external source\n",
    "* How to play around with the data\n",
    "* How to plot the data with `Pandas` without using other packages"
   ]
  },
  {
   "cell_type": "code",
   "execution_count": null,
   "metadata": {
    "collapsed": true,
    "deletable": true,
    "editable": true
   },
   "outputs": [],
   "source": [
    "import pandas as pd\n",
    "import numpy as np\n",
    "import matplotlib.pyplot as plt\n",
    "%matplotlib inline"
   ]
  },
  {
   "cell_type": "markdown",
   "metadata": {
    "deletable": true,
    "editable": true
   },
   "source": [
    "### Contents"
   ]
  },
  {
   "cell_type": "markdown",
   "metadata": {
    "deletable": true,
    "editable": true
   },
   "source": [
    "1. Object creation and exploring basic data analyzing functions\n",
    "2. Importing data from external sources such as `xlsx`, and `csv` files\n",
    "3. Manipulation of the data\n",
    "4. Plotting the data with `pandas`\n",
    "5. Exercises"
   ]
  },
  {
   "cell_type": "markdown",
   "metadata": {
    "deletable": true,
    "editable": true
   },
   "source": [
    "#### 1. Object creation and exploring basic data analyzing functions\n",
    "\n",
    "In order to create a default integer index, we use `pd.Series(list_of_data)`. type of data in the list is not limited. It can be text, numbers, or even special letters such as `*`. \n",
    "\n",
    "For example:"
   ]
  },
  {
   "cell_type": "code",
   "execution_count": null,
   "metadata": {
    "collapsed": false,
    "deletable": true,
    "editable": true
   },
   "outputs": [],
   "source": [
    "S = pd.Series([1,2,np.pi,'A',0.2,'*']);\n",
    "print(S)"
   ]
  },
  {
   "cell_type": "markdown",
   "metadata": {
    "deletable": true,
    "editable": true
   },
   "source": [
    "If you are to create a table of numbers with an index(index can be any data type) and labeled column, use `pd.DataFrame( data , index , columns , datatype , copy)`. \n",
    "\n",
    "For example:"
   ]
  },
  {
   "cell_type": "code",
   "execution_count": null,
   "metadata": {
    "collapsed": false,
    "deletable": true,
    "editable": true
   },
   "outputs": [],
   "source": [
    "pd.DataFrame({'B : Type' : pd.Categorical([\"alcohol\" , \"food\" , \"food\" , \"pop\"]),\n",
    "                       'A : Menu' : pd.Categorical([\"Vodka(Bottle)\", \"Taco Platter\", \"Assorted BBQ Platter\", \"Coke(Bottle)\"]),\n",
    "                       'C : Price/CAD' : pd.Series([34.99, 19.00, 25.50, 7.90]),\n",
    "                       'D : Item sold' : pd.Series([2,4,5,3]),\n",
    "                       'E : Item left' : pd.Series([3,1,0,2])})"
   ]
  },
  {
   "cell_type": "markdown",
   "metadata": {
    "collapsed": true,
    "deletable": true,
    "editable": true
   },
   "source": [
    "I have created a random context table using `pd.DataFrame`. Now, you could notice that the order of the column does not follow the order of the index names written in the bracket, but the alphabetical order."
   ]
  },
  {
   "cell_type": "markdown",
   "metadata": {
    "deletable": true,
    "editable": true
   },
   "source": [
    "Now, we will explore the basic data analyzing functions that we can perform with `pandas` package.\n",
    "\n",
    "In order to see only portion of the table, you can use `table_name.head()` or `table_name.tail()`. `head()` will show the first five rows of the whole table and `tail()` will show the last five rows of the whole table in default. However, you can choose number of rows that you want to print by inserting the nth number of the row you want to print. If you put `.head(3)`, it will print top 3 rows, and if you put `.tail(6)`, it will print bottom 6 rows. \n",
    "\n",
    "On the other hand, if you want to print the table from the first row to the specific row, you can use `table_name[:n]`, where n is the nth row of the table.\n",
    "\n",
    "For example:"
   ]
  },
  {
   "cell_type": "code",
   "execution_count": null,
   "metadata": {
    "collapsed": false,
    "deletable": true,
    "editable": true
   },
   "outputs": [],
   "source": [
    "series = pd.Series(np.random.randn(1000))\n",
    "series.head()"
   ]
  },
  {
   "cell_type": "code",
   "execution_count": null,
   "metadata": {
    "collapsed": false,
    "deletable": true,
    "editable": true
   },
   "outputs": [],
   "source": [
    "series.tail()"
   ]
  },
  {
   "cell_type": "code",
   "execution_count": null,
   "metadata": {
    "collapsed": false,
    "deletable": true,
    "editable": true,
    "scrolled": true
   },
   "outputs": [],
   "source": [
    "series[:50]"
   ]
  },
  {
   "cell_type": "markdown",
   "metadata": {
    "deletable": true,
    "editable": true
   },
   "source": [
    "To compute the data statistically, you simply type `.describe()` after the name of the table. Then it will print the size , mean, standard deviation, minimum value, first, second, and third quartiles and the maximum value of the sample. For example:"
   ]
  },
  {
   "cell_type": "code",
   "execution_count": null,
   "metadata": {
    "collapsed": false,
    "deletable": true,
    "editable": true
   },
   "outputs": [],
   "source": [
    "series.describe()"
   ]
  },
  {
   "cell_type": "markdown",
   "metadata": {
    "deletable": true,
    "editable": true
   },
   "source": [
    "#### 2. Importing data from external sources such as `xlsx`, and `csv` files\n",
    "\n",
    "It is simple to import/read a csv(comma-separated values) files or xlsx files into the local notebook. For csv file, you use `read_csv` function. However, the most important point is that you need to upload the CSV file to the repository, and direct the location of the file in the repository.\n",
    "\n",
    "For example, I create a folder called, 'CSVfiles', in my server, and uploaded a sample CSV file containing insurance sales information. Thus, I could import the CSV file from my server by:"
   ]
  },
  {
   "cell_type": "code",
   "execution_count": null,
   "metadata": {
    "collapsed": false,
    "deletable": true,
    "editable": true
   },
   "outputs": [],
   "source": [
    "insurance_df = pd.read_csv('CSVfiles/insurance_sample.csv')"
   ]
  },
  {
   "cell_type": "code",
   "execution_count": null,
   "metadata": {
    "collapsed": false,
    "deletable": true,
    "editable": true
   },
   "outputs": [],
   "source": [
    "insurance_df[:40]"
   ]
  },
  {
   "cell_type": "code",
   "execution_count": null,
   "metadata": {
    "collapsed": false,
    "deletable": true,
    "editable": true
   },
   "outputs": [],
   "source": [
    "insurance_df.tail()"
   ]
  },
  {
   "cell_type": "markdown",
   "metadata": {
    "deletable": true,
    "editable": true
   },
   "source": [
    "Sometimes imported CSV file amy print broken. This is because the CSV file's content is not encoded. In that case, you can find solution in the [documentation](http://nbviewer.jupyter.org/github/jvns/pandas-cookbook/blob/v0.1/cookbook/Chapter%201%20-%20Reading%20from%20a%20CSV.ipynb)"
   ]
  },
  {
   "cell_type": "markdown",
   "metadata": {
    "deletable": true,
    "editable": true
   },
   "source": [
    "#### 3. Manipulation of the data\n",
    "\n",
    "With `pandas`, you cannot manipulate the real data since even if you are reading the data in your notebook, it's imported copy. Thus, what we can do is extracting few columns from the imported data, and create a new table that contain necessary data only. This helps the users to analyze the data faster and more accurately.\n",
    "\n",
    "For example, if I want to create a new table containing county and point_granularity, I do:"
   ]
  },
  {
   "cell_type": "code",
   "execution_count": null,
   "metadata": {
    "collapsed": false,
    "deletable": true,
    "editable": true
   },
   "outputs": [],
   "source": [
    "# Create new table, county_coordinate that extracted necessary columns from the insurance_df\n",
    "county_p = insurance_df[['county','point_granularity']]\n",
    "# Checking if the command goes as I planned\n",
    "county_p[:50]"
   ]
  },
  {
   "cell_type": "markdown",
   "metadata": {
    "deletable": true,
    "editable": true
   },
   "source": [
    "### 4. Expressing data with `pandas`\n",
    "\n",
    "Now, we will plot the data with `pandas` package. Since `pandas` is highly developed data analyzing tool, we can do anything with `pandas` if it's about data analyzing. This means that we can analyze and express the data using `pandas` without composing two packages, `numpy` and `matplotlib`."
   ]
  },
  {
   "cell_type": "markdown",
   "metadata": {
    "deletable": true,
    "editable": true
   },
   "source": [
    "#### 1. Bar plots"
   ]
  },
  {
   "cell_type": "code",
   "execution_count": null,
   "metadata": {
    "collapsed": false,
    "deletable": true,
    "editable": true,
    "scrolled": true
   },
   "outputs": [],
   "source": [
    "# Create a random set of data with multiple columns\n",
    "df1 = pd.DataFrame(np.random.rand(5,4), columns = [ 'a', 'b','c','d'])\n",
    "df1.plot.bar()\n",
    "df1"
   ]
  },
  {
   "cell_type": "markdown",
   "metadata": {
    "deletable": true,
    "editable": true
   },
   "source": [
    "#### 2. Histogram"
   ]
  },
  {
   "cell_type": "code",
   "execution_count": null,
   "metadata": {
    "collapsed": false,
    "deletable": true,
    "editable": true,
    "scrolled": true
   },
   "outputs": [],
   "source": [
    "# Create a random set of data\n",
    "df2 = pd.Series(np.random.randint(0,10, size = 100))\n",
    "# and create a histogram with the data\n",
    "df2.plot.hist(alpha = 0.7)\n",
    "df2[:5]"
   ]
  },
  {
   "cell_type": "markdown",
   "metadata": {
    "collapsed": true,
    "deletable": true,
    "editable": true
   },
   "source": [
    "#### 3. Pie plots"
   ]
  },
  {
   "cell_type": "code",
   "execution_count": null,
   "metadata": {
    "collapsed": false,
    "deletable": true,
    "editable": true
   },
   "outputs": [],
   "source": [
    "# Create a random set of data in a series form\n",
    "df3 = pd.Series(4 * np.random.rand(5), index = ['a','b','c','d','e'], name = 'data')\n",
    "# Create a pie plot for df3\n",
    "df3.plot.pie(figsize = (7,7))"
   ]
  },
  {
   "cell_type": "markdown",
   "metadata": {
    "collapsed": true,
    "deletable": true,
    "editable": true
   },
   "source": [
    "As you can notice on the codes above, creating the diagrams with the data is simple. you just need to insert type of data plot behind 'name of **DataFrame**.plot.**diagram type**(). In the bracket, you can put the settings of the diagrams, such as the color of the plots, and size of the plots.\n",
    "\n",
    "For more information abour the plots, reference the [pandas visualization documentation](http://pandas.pydata.org/pandas-docs/stable/visualization.html)"
   ]
  },
  {
   "cell_type": "markdown",
   "metadata": {
    "deletable": true,
    "editable": true
   },
   "source": [
    "### 5. Exercises using `pandas`"
   ]
  },
  {
   "cell_type": "markdown",
   "metadata": {
    "deletable": true,
    "editable": true
   },
   "source": [
    "In this section, we will do some simple exercises that can sharpen your `pandas` skills"
   ]
  },
  {
   "cell_type": "markdown",
   "metadata": {
    "deletable": true,
    "editable": true
   },
   "source": [
    "#### Exercises 1."
   ]
  },
  {
   "cell_type": "markdown",
   "metadata": {
    "deletable": true,
    "editable": true
   },
   "source": [
    "**a)** Import `pandas` as `pd`"
   ]
  },
  {
   "cell_type": "markdown",
   "metadata": {
    "deletable": true,
    "editable": true
   },
   "source": [
    " **b)** Create a data frame looks like the image below"
   ]
  },
  {
   "cell_type": "markdown",
   "metadata": {
    "deletable": true,
    "editable": true
   },
   "source": [
    "![image](https://sarahleejane.github.io/assets/simple_table_df.png)"
   ]
  },
  {
   "cell_type": "markdown",
   "metadata": {},
   "source": [
    "**c)** Show a statistical evaluation about the age of five subjects from above"
   ]
  },
  {
   "cell_type": "markdown",
   "metadata": {
    "deletable": true,
    "editable": true
   },
   "source": [
    "**d)** Create a bar graph that shows the age of five subjects from part (b)"
   ]
  }
 ],
 "metadata": {
  "kernelspec": {
   "display_name": "Python 3",
   "language": "python",
   "name": "python3"
  },
  "language_info": {
   "codemirror_mode": {
    "name": "ipython",
    "version": 3
   },
   "file_extension": ".py",
   "mimetype": "text/x-python",
   "name": "python",
   "nbconvert_exporter": "python",
   "pygments_lexer": "ipython3",
   "version": "3.5.2"
  }
 },
 "nbformat": 4,
 "nbformat_minor": 2
}
