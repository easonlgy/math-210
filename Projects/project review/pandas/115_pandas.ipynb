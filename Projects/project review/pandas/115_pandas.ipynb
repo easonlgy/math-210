{
 "cells": [
  {
   "cell_type": "markdown",
   "metadata": {
    "deletable": true,
    "editable": true
   },
   "source": [
    "# Project 1: Pandas Data Analysis\n",
    "\n",
    "1. Introduction\n",
    "    * initial setup\n",
    "2. Loading Data\n",
    "    * NumPy array\n",
    "    * `read_csv`\n",
    "3. Modifying Data\n",
    "    * Selecting Data\n",
    "4. Pandas DataStructures\n",
    "    * One-Dimensional Series\n",
    "        * Selecting columns\n",
    "    * Two-Dimensional DataFrames\n",
    "        * Slicing rows\n",
    "6. Applications in Data Analysis\n",
    "    * Plots\n",
    "        * Visualizing Data\n",
    "    * Calculations\n",
    "        * Computational Tools\n",
    "            * Creating Functions"
   ]
  },
  {
   "cell_type": "markdown",
   "metadata": {
    "deletable": true,
    "editable": true
   },
   "source": [
    "## 1. Introduction\n",
    "\n",
    "\n",
    "    \n",
    "Pandas is a powerful data analysis tool in Python package, which was started by Wes McKinney in 2009. It is flexible and provide fast datastructure which also works well for real world analysis. Some data that pandas works well for includes any form of observational and statstical data sets. Pandas is built on top of NumPY."
   ]
  },
  {
   "cell_type": "markdown",
   "metadata": {
    "deletable": true,
    "editable": true
   },
   "source": [
    "### Initial Setup"
   ]
  },
  {
   "cell_type": "code",
   "execution_count": 1,
   "metadata": {
    "collapsed": true,
    "deletable": true,
    "editable": true
   },
   "outputs": [],
   "source": [
    "import pandas as pd\n",
    "\n",
    "import numpy as np\n",
    "import matplotlib.pyplot as plt\n",
    "%matplotlib inline\n"
   ]
  },
  {
   "cell_type": "markdown",
   "metadata": {
    "collapsed": true,
    "deletable": true,
    "editable": true
   },
   "source": [
    "## 2. Loading Data"
   ]
  },
  {
   "cell_type": "markdown",
   "metadata": {
    "deletable": true,
    "editable": true
   },
   "source": [
    "There are different ways to import data."
   ]
  },
  {
   "cell_type": "markdown",
   "metadata": {
    "deletable": true,
    "editable": true
   },
   "source": [
    "### Creating DataFrame using NumPy"
   ]
  },
  {
   "cell_type": "markdown",
   "metadata": {
    "deletable": true,
    "editable": true
   },
   "source": [
    "A NumPy array is one of the many ways that can be served as an input to the **DataFrame**."
   ]
  },
  {
   "cell_type": "markdown",
   "metadata": {
    "deletable": true,
    "editable": true
   },
   "source": [
    "For example:\n",
    "\n",
    "First we create a table with column names ' ' , '`Column1`' , '`Column2`', '`Column3`' and with row names '`Row1`', '`Row2`','`Row3`'. This data is created with numpy array list to differentiate the different rows and columns."
   ]
  },
  {
   "cell_type": "code",
   "execution_count": 2,
   "metadata": {
    "collapsed": false,
    "deletable": true,
    "editable": true,
    "scrolled": false
   },
   "outputs": [
    {
     "data": {
      "text/plain": [
       "array([['', 'Column1', 'Column2', 'Column2'],\n",
       "       ['Row1', '1', '2', '3'],\n",
       "       ['Row2', '4', '5', '6']], \n",
       "      dtype='<U7')"
      ]
     },
     "execution_count": 2,
     "metadata": {},
     "output_type": "execute_result"
    }
   ],
   "source": [
    "my_data = np.array([['','Column1','Column2','Column2'],\n",
    "                ['Row1',1,2,3],\n",
    "                ['Row2',4,5,6]])\n",
    "my_data"
   ]
  },
  {
   "cell_type": "markdown",
   "metadata": {
    "deletable": true,
    "editable": true
   },
   "source": [
    "In order to display our numpy array list as an actual table, we have to use the `pd.DataFrame` function."
   ]
  },
  {
   "cell_type": "markdown",
   "metadata": {
    "deletable": true,
    "editable": true
   },
   "source": [
    "We can type in `pd.DataFrame?` to read its docstrings and what the parameters are."
   ]
  },
  {
   "cell_type": "code",
   "execution_count": 3,
   "metadata": {
    "collapsed": true,
    "deletable": true,
    "editable": true
   },
   "outputs": [],
   "source": [
    "pd.DataFrame?"
   ]
  },
  {
   "cell_type": "markdown",
   "metadata": {
    "deletable": true,
    "editable": true
   },
   "source": [
    "The following are the parameters of `pd.DataFrame`:\n",
    " * `data`\n",
    " * `index`\n",
    " * `columns`\n",
    " * `dtype`\n",
    " * `copy`"
   ]
  },
  {
   "cell_type": "code",
   "execution_count": 4,
   "metadata": {
    "collapsed": false,
    "deletable": true,
    "editable": true,
    "scrolled": false
   },
   "outputs": [
    {
     "name": "stdout",
     "output_type": "stream",
     "text": [
      "     Column1 Column2 Column2\n",
      "Row1       1       2       3\n",
      "Row2       4       5       6\n"
     ]
    }
   ],
   "source": [
    "print(pd.DataFrame(data = my_data[1:,1:],\n",
    "                  index = my_data[1:,0],\n",
    "                  columns = my_data [0,1:]))"
   ]
  },
  {
   "cell_type": "markdown",
   "metadata": {
    "collapsed": true,
    "deletable": true,
    "editable": true
   },
   "source": [
    "Or we can load **csv data files** using the pandas function `pd.read_csv` or `pd.read_table`, where they both use the same parsing code to convert data into a DataFrame object. "
   ]
  },
  {
   "cell_type": "markdown",
   "metadata": {
    "deletable": true,
    "editable": true
   },
   "source": [
    "### Loading csv data files\n",
    "\n",
    "#### What is a csv data file?\n",
    "\n",
    "CSV files are comma separated files that are allowed to be saved into a table structure. \n",
    "\n",
    "Please read more here : [bigcommerce-csvfiles](https://support.bigcommerce.com/articles/Public/What-is-a-CSV-file-and-how-do-I-save-my-spreadsheet-as-one)"
   ]
  },
  {
   "cell_type": "code",
   "execution_count": 5,
   "metadata": {
    "collapsed": true,
    "deletable": true,
    "editable": true
   },
   "outputs": [],
   "source": [
    "pd.read_csv?"
   ]
  },
  {
   "cell_type": "markdown",
   "metadata": {
    "deletable": true,
    "editable": true
   },
   "source": [
    "The following are some parameters of `pd.read_csv`:\n",
    " * sep\n",
    " * delimiter\n",
    " * header\n",
    " * engine\n",
    " * index_col\n",
    " * names\n",
    " * index_col\n",
    " * usecols\n",
    " * and many more\n",
    "\n",
    "Please read more here: [Pandas Parameters](http://pandas.pydata.org/pandas-docs/stable/generated/pandas.read_csv.html)\n",
    "\n"
   ]
  },
  {
   "cell_type": "markdown",
   "metadata": {
    "deletable": true,
    "editable": true
   },
   "source": [
    "Using the data that was provided to us in Stat 306: (There is a password to this website so I will not provide it)"
   ]
  },
  {
   "cell_type": "markdown",
   "metadata": {
    "deletable": true,
    "editable": true
   },
   "source": [
    "So first we can enter the data in excel notebook, then we can download as a csv file. After downloading, we will upload to jupyter notebook as csv file. Then we can call `pd.read_csv` as the following:"
   ]
  },
  {
   "cell_type": "markdown",
   "metadata": {
    "deletable": true,
    "editable": true
   },
   "source": [
    "Note: The following data is from Stat 306, which is password-protected."
   ]
  },
  {
   "cell_type": "code",
   "execution_count": 59,
   "metadata": {
    "collapsed": false,
    "deletable": true,
    "editable": true,
    "scrolled": false
   },
   "outputs": [
    {
     "data": {
      "text/html": [
       "<div>\n",
       "<table border=\"1\" class=\"dataframe\">\n",
       "  <thead>\n",
       "    <tr style=\"text-align: right;\">\n",
       "      <th></th>\n",
       "      <th>tar</th>\n",
       "      <th>nicot</th>\n",
       "      <th>weight</th>\n",
       "      <th>CO</th>\n",
       "    </tr>\n",
       "    <tr>\n",
       "      <th>brand</th>\n",
       "      <th></th>\n",
       "      <th></th>\n",
       "      <th></th>\n",
       "      <th></th>\n",
       "    </tr>\n",
       "  </thead>\n",
       "  <tbody>\n",
       "    <tr>\n",
       "      <th>alpine</th>\n",
       "      <td>14.1</td>\n",
       "      <td>0.86</td>\n",
       "      <td>0.9853</td>\n",
       "      <td>13.6</td>\n",
       "    </tr>\n",
       "    <tr>\n",
       "      <th>benson_hedges</th>\n",
       "      <td>16.0</td>\n",
       "      <td>1.06</td>\n",
       "      <td>1.0938</td>\n",
       "      <td>16.6</td>\n",
       "    </tr>\n",
       "    <tr>\n",
       "      <th>bull_durham</th>\n",
       "      <td>29.8</td>\n",
       "      <td>2.03</td>\n",
       "      <td>1.1650</td>\n",
       "      <td>23.5</td>\n",
       "    </tr>\n",
       "    <tr>\n",
       "      <th>camel_lights</th>\n",
       "      <td>8.0</td>\n",
       "      <td>0.67</td>\n",
       "      <td>0.9280</td>\n",
       "      <td>10.2</td>\n",
       "    </tr>\n",
       "    <tr>\n",
       "      <th>carlton</th>\n",
       "      <td>4.1</td>\n",
       "      <td>0.40</td>\n",
       "      <td>0.9262</td>\n",
       "      <td>5.4</td>\n",
       "    </tr>\n",
       "    <tr>\n",
       "      <th>chesterfield</th>\n",
       "      <td>15.0</td>\n",
       "      <td>1.04</td>\n",
       "      <td>0.8885</td>\n",
       "      <td>15.0</td>\n",
       "    </tr>\n",
       "    <tr>\n",
       "      <th>golden_lights</th>\n",
       "      <td>8.8</td>\n",
       "      <td>0.76</td>\n",
       "      <td>1.0267</td>\n",
       "      <td>9.0</td>\n",
       "    </tr>\n",
       "    <tr>\n",
       "      <th>kent</th>\n",
       "      <td>12.4</td>\n",
       "      <td>0.95</td>\n",
       "      <td>0.9225</td>\n",
       "      <td>12.3</td>\n",
       "    </tr>\n",
       "    <tr>\n",
       "      <th>kool</th>\n",
       "      <td>16.6</td>\n",
       "      <td>1.12</td>\n",
       "      <td>0.9372</td>\n",
       "      <td>16.3</td>\n",
       "    </tr>\n",
       "    <tr>\n",
       "      <th>L_and_M</th>\n",
       "      <td>14.9</td>\n",
       "      <td>1.02</td>\n",
       "      <td>0.8858</td>\n",
       "      <td>15.4</td>\n",
       "    </tr>\n",
       "    <tr>\n",
       "      <th>lark_lights</th>\n",
       "      <td>13.7</td>\n",
       "      <td>1.01</td>\n",
       "      <td>0.9643</td>\n",
       "      <td>13.0</td>\n",
       "    </tr>\n",
       "    <tr>\n",
       "      <th>marlboro</th>\n",
       "      <td>15.1</td>\n",
       "      <td>0.90</td>\n",
       "      <td>0.9316</td>\n",
       "      <td>14.4</td>\n",
       "    </tr>\n",
       "    <tr>\n",
       "      <th>merit</th>\n",
       "      <td>7.8</td>\n",
       "      <td>0.57</td>\n",
       "      <td>0.9705</td>\n",
       "      <td>10.0</td>\n",
       "    </tr>\n",
       "    <tr>\n",
       "      <th>multifilter</th>\n",
       "      <td>11.4</td>\n",
       "      <td>0.78</td>\n",
       "      <td>1.1240</td>\n",
       "      <td>10.2</td>\n",
       "    </tr>\n",
       "    <tr>\n",
       "      <th>newporrt_lights</th>\n",
       "      <td>9.0</td>\n",
       "      <td>0.74</td>\n",
       "      <td>0.8517</td>\n",
       "      <td>9.5</td>\n",
       "    </tr>\n",
       "    <tr>\n",
       "      <th>now</th>\n",
       "      <td>1.0</td>\n",
       "      <td>0.13</td>\n",
       "      <td>0.7851</td>\n",
       "      <td>1.5</td>\n",
       "    </tr>\n",
       "    <tr>\n",
       "      <th>old_gold</th>\n",
       "      <td>17.0</td>\n",
       "      <td>1.26</td>\n",
       "      <td>0.9186</td>\n",
       "      <td>18.5</td>\n",
       "    </tr>\n",
       "    <tr>\n",
       "      <th>pall_mall_light</th>\n",
       "      <td>12.8</td>\n",
       "      <td>1.08</td>\n",
       "      <td>1.0395</td>\n",
       "      <td>12.6</td>\n",
       "    </tr>\n",
       "    <tr>\n",
       "      <th>raleigh</th>\n",
       "      <td>15.8</td>\n",
       "      <td>0.96</td>\n",
       "      <td>0.9573</td>\n",
       "      <td>17.5</td>\n",
       "    </tr>\n",
       "    <tr>\n",
       "      <th>salem_ultra</th>\n",
       "      <td>4.5</td>\n",
       "      <td>0.42</td>\n",
       "      <td>0.9106</td>\n",
       "      <td>4.9</td>\n",
       "    </tr>\n",
       "    <tr>\n",
       "      <th>tareyton</th>\n",
       "      <td>14.5</td>\n",
       "      <td>1.01</td>\n",
       "      <td>1.0070</td>\n",
       "      <td>15.9</td>\n",
       "    </tr>\n",
       "    <tr>\n",
       "      <th>TRUE</th>\n",
       "      <td>7.3</td>\n",
       "      <td>0.61</td>\n",
       "      <td>0.9806</td>\n",
       "      <td>8.5</td>\n",
       "    </tr>\n",
       "    <tr>\n",
       "      <th>viceroy_rich</th>\n",
       "      <td>8.6</td>\n",
       "      <td>0.69</td>\n",
       "      <td>0.9693</td>\n",
       "      <td>10.6</td>\n",
       "    </tr>\n",
       "    <tr>\n",
       "      <th>virginia_slims</th>\n",
       "      <td>15.2</td>\n",
       "      <td>1.02</td>\n",
       "      <td>0.9496</td>\n",
       "      <td>13.9</td>\n",
       "    </tr>\n",
       "    <tr>\n",
       "      <th>winston_lights</th>\n",
       "      <td>12.0</td>\n",
       "      <td>0.82</td>\n",
       "      <td>1.1184</td>\n",
       "      <td>14.9</td>\n",
       "    </tr>\n",
       "  </tbody>\n",
       "</table>\n",
       "</div>"
      ],
      "text/plain": [
       "                  tar  nicot  weight    CO\n",
       "brand                                     \n",
       "alpine           14.1   0.86  0.9853  13.6\n",
       "benson_hedges    16.0   1.06  1.0938  16.6\n",
       "bull_durham      29.8   2.03  1.1650  23.5\n",
       "camel_lights      8.0   0.67  0.9280  10.2\n",
       "carlton           4.1   0.40  0.9262   5.4\n",
       "chesterfield     15.0   1.04  0.8885  15.0\n",
       "golden_lights     8.8   0.76  1.0267   9.0\n",
       "kent             12.4   0.95  0.9225  12.3\n",
       "kool             16.6   1.12  0.9372  16.3\n",
       "L_and_M          14.9   1.02  0.8858  15.4\n",
       "lark_lights      13.7   1.01  0.9643  13.0\n",
       "marlboro         15.1   0.90  0.9316  14.4\n",
       "merit             7.8   0.57  0.9705  10.0\n",
       "multifilter      11.4   0.78  1.1240  10.2\n",
       "newporrt_lights   9.0   0.74  0.8517   9.5\n",
       "now               1.0   0.13  0.7851   1.5\n",
       "old_gold         17.0   1.26  0.9186  18.5\n",
       "pall_mall_light  12.8   1.08  1.0395  12.6\n",
       "raleigh          15.8   0.96  0.9573  17.5\n",
       "salem_ultra       4.5   0.42  0.9106   4.9\n",
       "tareyton         14.5   1.01  1.0070  15.9\n",
       "TRUE              7.3   0.61  0.9806   8.5\n",
       "viceroy_rich      8.6   0.69  0.9693  10.6\n",
       "virginia_slims   15.2   1.02  0.9496  13.9\n",
       "winston_lights   12.0   0.82  1.1184  14.9"
      ]
     },
     "execution_count": 59,
     "metadata": {},
     "output_type": "execute_result"
    }
   ],
   "source": [
    "# Reading the csv data\n",
    "cig_data  = pd.read_csv('cigarette.csv', index_col = 0, engine ='c', sep = ',')\n",
    "cig_data"
   ]
  },
  {
   "cell_type": "markdown",
   "metadata": {
    "collapsed": true,
    "deletable": true,
    "editable": true
   },
   "source": [
    "index_col = 0: make the first column the index column"
   ]
  },
  {
   "cell_type": "markdown",
   "metadata": {
    "deletable": true,
    "editable": true
   },
   "source": [
    "## 3. Modifying Data"
   ]
  },
  {
   "cell_type": "markdown",
   "metadata": {
    "deletable": true,
    "editable": true
   },
   "source": [
    "### Selecting Data\n",
    "\n",
    "We can modify our data by selecting various columns from our DataFrame."
   ]
  },
  {
   "cell_type": "markdown",
   "metadata": {
    "deletable": true,
    "editable": true
   },
   "source": [
    "Remember that we always start counting from 0,1,2,..."
   ]
  },
  {
   "cell_type": "markdown",
   "metadata": {
    "collapsed": true,
    "deletable": true,
    "editable": true
   },
   "source": [
    "####  Examples\n",
    "\n"
   ]
  },
  {
   "cell_type": "markdown",
   "metadata": {
    "deletable": true,
    "editable": true
   },
   "source": [
    "We can select rows up to and including the 1st row from the DataFrame (including all the columns):"
   ]
  },
  {
   "cell_type": "code",
   "execution_count": 4,
   "metadata": {
    "collapsed": false,
    "deletable": true,
    "editable": true,
    "scrolled": true
   },
   "outputs": [
    {
     "data": {
      "text/html": [
       "<div>\n",
       "<table border=\"1\" class=\"dataframe\">\n",
       "  <thead>\n",
       "    <tr style=\"text-align: right;\">\n",
       "      <th></th>\n",
       "      <th>tar</th>\n",
       "      <th>nicot</th>\n",
       "      <th>weight</th>\n",
       "      <th>CO</th>\n",
       "    </tr>\n",
       "    <tr>\n",
       "      <th>brand</th>\n",
       "      <th></th>\n",
       "      <th></th>\n",
       "      <th></th>\n",
       "      <th></th>\n",
       "    </tr>\n",
       "  </thead>\n",
       "  <tbody>\n",
       "    <tr>\n",
       "      <th>alpine</th>\n",
       "      <td>14.1</td>\n",
       "      <td>0.86</td>\n",
       "      <td>0.9853</td>\n",
       "      <td>13.6</td>\n",
       "    </tr>\n",
       "  </tbody>\n",
       "</table>\n",
       "</div>"
      ],
      "text/plain": [
       "         tar  nicot  weight    CO\n",
       "brand                            \n",
       "alpine  14.1   0.86  0.9853  13.6"
      ]
     },
     "execution_count": 4,
     "metadata": {},
     "output_type": "execute_result"
    }
   ],
   "source": [
    "# Selecting various rows\n",
    "cig_data[:1]"
   ]
  },
  {
   "cell_type": "markdown",
   "metadata": {
    "deletable": true,
    "editable": true
   },
   "source": [
    "We can select rows up to and including the 2nd row from the DataFrame (including all the columns):"
   ]
  },
  {
   "cell_type": "code",
   "execution_count": 5,
   "metadata": {
    "collapsed": false,
    "deletable": true,
    "editable": true,
    "scrolled": true
   },
   "outputs": [
    {
     "data": {
      "text/html": [
       "<div>\n",
       "<table border=\"1\" class=\"dataframe\">\n",
       "  <thead>\n",
       "    <tr style=\"text-align: right;\">\n",
       "      <th></th>\n",
       "      <th>tar</th>\n",
       "      <th>nicot</th>\n",
       "      <th>weight</th>\n",
       "      <th>CO</th>\n",
       "    </tr>\n",
       "    <tr>\n",
       "      <th>brand</th>\n",
       "      <th></th>\n",
       "      <th></th>\n",
       "      <th></th>\n",
       "      <th></th>\n",
       "    </tr>\n",
       "  </thead>\n",
       "  <tbody>\n",
       "    <tr>\n",
       "      <th>alpine</th>\n",
       "      <td>14.1</td>\n",
       "      <td>0.86</td>\n",
       "      <td>0.9853</td>\n",
       "      <td>13.6</td>\n",
       "    </tr>\n",
       "    <tr>\n",
       "      <th>benson_hedges</th>\n",
       "      <td>16.0</td>\n",
       "      <td>1.06</td>\n",
       "      <td>1.0938</td>\n",
       "      <td>16.6</td>\n",
       "    </tr>\n",
       "  </tbody>\n",
       "</table>\n",
       "</div>"
      ],
      "text/plain": [
       "                tar  nicot  weight    CO\n",
       "brand                                   \n",
       "alpine         14.1   0.86  0.9853  13.6\n",
       "benson_hedges  16.0   1.06  1.0938  16.6"
      ]
     },
     "execution_count": 5,
     "metadata": {},
     "output_type": "execute_result"
    }
   ],
   "source": [
    "# selecting rows up to and including the 2nd row\n",
    "cig_data[:2]"
   ]
  },
  {
   "cell_type": "markdown",
   "metadata": {
    "deletable": true,
    "editable": true
   },
   "source": [
    "We can also select columns by typing the column names in single quotation marks in a numpy list, then we can select the rows we are interested in:"
   ]
  },
  {
   "cell_type": "code",
   "execution_count": 10,
   "metadata": {
    "collapsed": false,
    "deletable": true,
    "editable": true,
    "scrolled": false
   },
   "outputs": [
    {
     "data": {
      "text/html": [
       "<div>\n",
       "<table border=\"1\" class=\"dataframe\">\n",
       "  <thead>\n",
       "    <tr style=\"text-align: right;\">\n",
       "      <th></th>\n",
       "      <th>nicot</th>\n",
       "      <th>tar</th>\n",
       "    </tr>\n",
       "    <tr>\n",
       "      <th>brand</th>\n",
       "      <th></th>\n",
       "      <th></th>\n",
       "    </tr>\n",
       "  </thead>\n",
       "  <tbody>\n",
       "    <tr>\n",
       "      <th>alpine</th>\n",
       "      <td>0.86</td>\n",
       "      <td>14.1</td>\n",
       "    </tr>\n",
       "    <tr>\n",
       "      <th>benson_hedges</th>\n",
       "      <td>1.06</td>\n",
       "      <td>16.0</td>\n",
       "    </tr>\n",
       "  </tbody>\n",
       "</table>\n",
       "</div>"
      ],
      "text/plain": [
       "               nicot   tar\n",
       "brand                     \n",
       "alpine          0.86  14.1\n",
       "benson_hedges   1.06  16.0"
      ]
     },
     "execution_count": 10,
     "metadata": {},
     "output_type": "execute_result"
    }
   ],
   "source": [
    "# Selecting various columns and rows\n",
    "cig_data[['nicot','tar']][:2]"
   ]
  },
  {
   "cell_type": "markdown",
   "metadata": {
    "deletable": true,
    "editable": true
   },
   "source": [
    "Please note that we can also count the number of times the value that we are interested in have occured, which in the cigarette case it's not very helpul.\n",
    "(Side note: Maybe we should worry about the range of tar content for all the cigarette brands instead)."
   ]
  },
  {
   "cell_type": "code",
   "execution_count": 14,
   "metadata": {
    "collapsed": false,
    "deletable": true,
    "editable": true,
    "scrolled": true
   },
   "outputs": [
    {
     "data": {
      "text/plain": [
       "8.6     1\n",
       "29.8    1\n",
       "8.0     1\n",
       "15.0    1\n",
       "9.0     1\n",
       "1.0     1\n",
       "14.9    1\n",
       "17.0    1\n",
       "15.8    1\n",
       "4.5     1\n",
       "14.5    1\n",
       "14.1    1\n",
       "12.8    1\n",
       "13.7    1\n",
       "15.2    1\n",
       "12.0    1\n",
       "15.1    1\n",
       "16.6    1\n",
       "11.4    1\n",
       "7.8     1\n",
       "4.1     1\n",
       "8.8     1\n",
       "12.4    1\n",
       "7.3     1\n",
       "16.0    1\n",
       "Name: tar, dtype: int64"
      ]
     },
     "execution_count": 14,
     "metadata": {},
     "output_type": "execute_result"
    }
   ],
   "source": [
    "# Counting repeated values\n",
    "cig_data['tar'].value_counts()"
   ]
  },
  {
   "cell_type": "code",
   "execution_count": 15,
   "metadata": {
    "collapsed": false,
    "deletable": true,
    "editable": true
   },
   "outputs": [],
   "source": [
    "tar_counts = cig_data['tar'].value_counts()"
   ]
  },
  {
   "cell_type": "code",
   "execution_count": 16,
   "metadata": {
    "collapsed": false,
    "deletable": true,
    "editable": true,
    "scrolled": false
   },
   "outputs": [
    {
     "data": {
      "text/plain": [
       "<matplotlib.axes._subplots.AxesSubplot at 0x7fcb6df1e550>"
      ]
     },
     "execution_count": 16,
     "metadata": {},
     "output_type": "execute_result"
    },
    {
     "data": {
      "image/png": "[encoded data removed]",
      "text/plain": [
       "<matplotlib.figure.Figure at 0x7fcb6d284cf8>"
      ]
     },
     "metadata": {},
     "output_type": "display_data"
    }
   ],
   "source": [
    "tar_counts[:12].plot(kind='bar')"
   ]
  },
  {
   "cell_type": "markdown",
   "metadata": {
    "deletable": true,
    "editable": true
   },
   "source": [
    "As you can see, the plot of repition of tar contents in the cigarette brands is not so interesting regarding to their exact values. "
   ]
  },
  {
   "cell_type": "markdown",
   "metadata": {
    "collapsed": true,
    "deletable": true,
    "editable": true
   },
   "source": [
    "## 4. Pandas DataStructures"
   ]
  },
  {
   "cell_type": "markdown",
   "metadata": {
    "deletable": true,
    "editable": true
   },
   "source": [
    "### One-Dimensional Series\n",
    "\n",
    "Series is a one-dimensional labeled array that can hold any data types such as \n",
    " * integers\n",
    " * floats\n",
    " * strings\n",
    " * Python objects\n",
    " * and many more\n",
    " \n",
    "The docstrings of `pd.Series` tells us that it is a one-dimensional ndarray with axis labels."
   ]
  },
  {
   "cell_type": "markdown",
   "metadata": {
    "deletable": true,
    "editable": true
   },
   "source": [
    "The parameters of `pd.Series` includes:\n",
    " * data\n",
    " * index\n",
    " * dtype\n",
    " * copy\n",
    " * and etc\n",
    "\n",
    "The parameters that we mainly use are `data` and `index`, where data is the data we are trying to display (whether it was integers or strings etc) and index is the name we give to the individual data.\n",
    "\n",
    "Note that the number of items in the `index` should match the number of items in the `data`.\n",
    "Let's try a simple example of creating a Series."
   ]
  },
  {
   "cell_type": "code",
   "execution_count": 62,
   "metadata": {
    "collapsed": false,
    "deletable": true,
    "editable": true
   },
   "outputs": [
    {
     "data": {
      "text/plain": [
       "one      1\n",
       "two      2\n",
       "three    3\n",
       "dtype: int64"
      ]
     },
     "execution_count": 62,
     "metadata": {},
     "output_type": "execute_result"
    }
   ],
   "source": [
    "# Creating a randomly made-up Series \n",
    "s = pd.Series([1,2,3], index =['one','two','three'])\n",
    "s"
   ]
  },
  {
   "cell_type": "markdown",
   "metadata": {
    "deletable": true,
    "editable": true
   },
   "source": [
    "Series is very much like `ndarray`. We can convert series into a NumPy array by calling the command as follows:"
   ]
  },
  {
   "cell_type": "code",
   "execution_count": 65,
   "metadata": {
    "collapsed": true,
    "deletable": true,
    "editable": true
   },
   "outputs": [],
   "source": [
    "s.values?"
   ]
  },
  {
   "cell_type": "code",
   "execution_count": 66,
   "metadata": {
    "collapsed": false,
    "deletable": true,
    "editable": true
   },
   "outputs": [
    {
     "data": {
      "text/plain": [
       "array([1, 2, 3])"
      ]
     },
     "execution_count": 66,
     "metadata": {},
     "output_type": "execute_result"
    }
   ],
   "source": [
    "#Return Series as ndarray or ndarray-like\n",
    "s.values"
   ]
  },
  {
   "cell_type": "code",
   "execution_count": 69,
   "metadata": {
    "collapsed": false,
    "deletable": true,
    "editable": true
   },
   "outputs": [
    {
     "data": {
      "text/plain": [
       "Index(['one', 'two', 'three'], dtype='object')"
      ]
     },
     "execution_count": 69,
     "metadata": {},
     "output_type": "execute_result"
    }
   ],
   "source": [
    "# Show the index of the Series\n",
    "s.index"
   ]
  },
  {
   "cell_type": "markdown",
   "metadata": {
    "deletable": true,
    "editable": true
   },
   "source": [
    "We can also create a Series with random numbers using `np.random.randn()` from NumPy package."
   ]
  },
  {
   "cell_type": "code",
   "execution_count": 20,
   "metadata": {
    "collapsed": false,
    "deletable": true,
    "editable": true,
    "scrolled": true
   },
   "outputs": [
    {
     "data": {
      "text/plain": [
       "0    1.031365\n",
       "1   -0.491805\n",
       "2    0.104318\n",
       "dtype: float64"
      ]
     },
     "execution_count": 20,
     "metadata": {},
     "output_type": "execute_result"
    }
   ],
   "source": [
    "pd.Series(np.random.randn(3))"
   ]
  },
  {
   "cell_type": "markdown",
   "metadata": {
    "deletable": true,
    "editable": true
   },
   "source": [
    "In order to extract a series from our DataFrame `cig_data`, we can extract/select a column name with single-quotation marks:"
   ]
  },
  {
   "cell_type": "code",
   "execution_count": 70,
   "metadata": {
    "collapsed": false,
    "deletable": true,
    "editable": true,
    "scrolled": true
   },
   "outputs": [],
   "source": [
    "# Extracting certain category\n",
    "cig_data_SeriesCO = cig_data['CO']"
   ]
  },
  {
   "cell_type": "code",
   "execution_count": 17,
   "metadata": {
    "collapsed": false,
    "deletable": true,
    "editable": true,
    "scrolled": true
   },
   "outputs": [
    {
     "data": {
      "text/plain": [
       "brand\n",
       "alpine             13.6\n",
       "benson_hedges      16.6\n",
       "bull_durham        23.5\n",
       "camel_lights       10.2\n",
       "carlton             5.4\n",
       "chesterfield       15.0\n",
       "golden_lights       9.0\n",
       "kent               12.3\n",
       "kool               16.3\n",
       "L_and_M            15.4\n",
       "lark_lights        13.0\n",
       "marlboro           14.4\n",
       "merit              10.0\n",
       "multifilter        10.2\n",
       "newporrt_lights     9.5\n",
       "now                 1.5\n",
       "old_gold           18.5\n",
       "pall_mall_light    12.6\n",
       "raleigh            17.5\n",
       "salem_ultra         4.9\n",
       "tareyton           15.9\n",
       "TRUE                8.5\n",
       "viceroy_rich       10.6\n",
       "virginia_slims     13.9\n",
       "winston_lights     14.9\n",
       "Name: CO, dtype: float64"
      ]
     },
     "execution_count": 17,
     "metadata": {},
     "output_type": "execute_result"
    }
   ],
   "source": [
    "cig_data_SeriesCO"
   ]
  },
  {
   "cell_type": "code",
   "execution_count": 22,
   "metadata": {
    "collapsed": false,
    "deletable": true,
    "editable": true
   },
   "outputs": [
    {
     "data": {
      "text/plain": [
       "pandas.core.series.Series"
      ]
     },
     "execution_count": 22,
     "metadata": {},
     "output_type": "execute_result"
    }
   ],
   "source": [
    "# Check the datatype of the column\n",
    "type(cig_data_SeriesCO)"
   ]
  },
  {
   "cell_type": "code",
   "execution_count": 23,
   "metadata": {
    "collapsed": false,
    "deletable": true,
    "editable": true
   },
   "outputs": [
    {
     "data": {
      "text/plain": [
       "(25,)"
      ]
     },
     "execution_count": 23,
     "metadata": {},
     "output_type": "execute_result"
    }
   ],
   "source": [
    "# To show the shape of the data we selected (number of rows and columns)\n",
    "cig_data_SeriesCO.shape"
   ]
  },
  {
   "cell_type": "code",
   "execution_count": 24,
   "metadata": {
    "collapsed": false,
    "deletable": true,
    "editable": true
   },
   "outputs": [
    {
     "data": {
      "text/plain": [
       "dtype('float64')"
      ]
     },
     "execution_count": 24,
     "metadata": {},
     "output_type": "execute_result"
    }
   ],
   "source": [
    "# Show the type of Series we selected (which is a float in this case)\n",
    "cig_data_SeriesCO.dtype"
   ]
  },
  {
   "cell_type": "code",
   "execution_count": 25,
   "metadata": {
    "collapsed": false,
    "deletable": true,
    "editable": true
   },
   "outputs": [
    {
     "data": {
      "text/plain": [
       "brand\n",
       "alpine            13.6\n",
       "benson_hedges     16.6\n",
       "bull_durham       23.5\n",
       "chesterfield      15.0\n",
       "kool              16.3\n",
       "L_and_M           15.4\n",
       "marlboro          14.4\n",
       "old_gold          18.5\n",
       "raleigh           17.5\n",
       "tareyton          15.9\n",
       "virginia_slims    13.9\n",
       "winston_lights    14.9\n",
       "Name: CO, dtype: float64"
      ]
     },
     "execution_count": 25,
     "metadata": {},
     "output_type": "execute_result"
    }
   ],
   "source": [
    "# We can display all the data in the Series that exceeds the median of the Series\n",
    "cig_data_SeriesCO[cig_data_SeriesCO > cig_data_SeriesCO.median()]"
   ]
  },
  {
   "cell_type": "code",
   "execution_count": 26,
   "metadata": {
    "collapsed": false,
    "deletable": true,
    "editable": true
   },
   "outputs": [
    {
     "data": {
      "text/plain": [
       "brand\n",
       "alpine             8.061298e+05\n",
       "benson_hedges      1.619155e+07\n",
       "bull_durham        1.606646e+10\n",
       "camel_lights       2.690319e+04\n",
       "carlton            2.214064e+02\n",
       "chesterfield       3.269017e+06\n",
       "golden_lights      8.103084e+03\n",
       "kent               2.196960e+05\n",
       "kool               1.199499e+07\n",
       "L_and_M            4.876801e+06\n",
       "lark_lights        4.424134e+05\n",
       "marlboro           1.794075e+06\n",
       "merit              2.202647e+04\n",
       "multifilter        2.690319e+04\n",
       "newporrt_lights    1.335973e+04\n",
       "now                4.481689e+00\n",
       "old_gold           1.082550e+08\n",
       "pall_mall_light    2.965586e+05\n",
       "raleigh            3.982478e+07\n",
       "salem_ultra        1.342898e+02\n",
       "tareyton           8.040485e+06\n",
       "TRUE               4.914769e+03\n",
       "viceroy_rich       4.013484e+04\n",
       "virginia_slims     1.088161e+06\n",
       "winston_lights     2.957929e+06\n",
       "Name: CO, dtype: float64"
      ]
     },
     "execution_count": 26,
     "metadata": {},
     "output_type": "execute_result"
    }
   ],
   "source": [
    "# We can also convert all data into their exponents using the NumPy function\n",
    "np.exp(cig_data_SeriesCO)"
   ]
  },
  {
   "cell_type": "code",
   "execution_count": 27,
   "metadata": {
    "collapsed": false,
    "deletable": true,
    "editable": true,
    "scrolled": true
   },
   "outputs": [
    {
     "data": {
      "text/plain": [
       "brand\n",
       "benson_hedges    16.6\n",
       "bull_durham      23.5\n",
       "camel_lights     10.2\n",
       "Name: CO, dtype: float64"
      ]
     },
     "execution_count": 27,
     "metadata": {},
     "output_type": "execute_result"
    }
   ],
   "source": [
    "# We can also display certain data that we are interested in by picking their indexes\n",
    "cig_data_SeriesCO[[1,2,3]]"
   ]
  },
  {
   "cell_type": "markdown",
   "metadata": {
    "deletable": true,
    "editable": true
   },
   "source": [
    "A key difference between Series and ndarray is that :\n",
    " * operations between data in Series are aligned based on the label \n",
    " * we do not need to worry about whether the computations have the same label in Series"
   ]
  },
  {
   "cell_type": "code",
   "execution_count": 73,
   "metadata": {
    "collapsed": false,
    "deletable": true,
    "editable": true,
    "scrolled": true
   },
   "outputs": [
    {
     "data": {
      "text/plain": [
       "brand\n",
       "L_and_M            30.8\n",
       "TRUE               17.0\n",
       "alpine              NaN\n",
       "benson_hedges      33.2\n",
       "bull_durham        47.0\n",
       "camel_lights       20.4\n",
       "carlton            10.8\n",
       "chesterfield       30.0\n",
       "golden_lights      18.0\n",
       "kent               24.6\n",
       "kool               32.6\n",
       "lark_lights        26.0\n",
       "marlboro           28.8\n",
       "merit              20.0\n",
       "multifilter        20.4\n",
       "newporrt_lights    19.0\n",
       "now                 3.0\n",
       "old_gold           37.0\n",
       "pall_mall_light    25.2\n",
       "raleigh            35.0\n",
       "salem_ultra         9.8\n",
       "tareyton           31.8\n",
       "viceroy_rich       21.2\n",
       "virginia_slims     27.8\n",
       "winston_lights      NaN\n",
       "Name: CO, dtype: float64"
      ]
     },
     "execution_count": 73,
     "metadata": {},
     "output_type": "execute_result"
    }
   ],
   "source": [
    "cig_data_SeriesCO[1:] + cig_data_SeriesCO[:-1]"
   ]
  },
  {
   "cell_type": "markdown",
   "metadata": {
    "deletable": true,
    "editable": true
   },
   "source": [
    "#### Selecting colum:\n",
    " * syntax: data[col]\n",
    " * result: Series"
   ]
  },
  {
   "cell_type": "markdown",
   "metadata": {
    "deletable": true,
    "editable": true
   },
   "source": [
    "### Two Dimensional DataFrames\n",
    "\n",
    "For 2D DataFrames, each column of the DataFrame has its own dtypes, which in `cig_data` example, they are all floats:"
   ]
  },
  {
   "cell_type": "code",
   "execution_count": 29,
   "metadata": {
    "collapsed": false,
    "deletable": true,
    "editable": true
   },
   "outputs": [
    {
     "data": {
      "text/plain": [
       "tar       float64\n",
       "nicot     float64\n",
       "weight    float64\n",
       "CO        float64\n",
       "dtype: object"
      ]
     },
     "execution_count": 29,
     "metadata": {},
     "output_type": "execute_result"
    }
   ],
   "source": [
    "cig_data.dtypes"
   ]
  },
  {
   "cell_type": "markdown",
   "metadata": {
    "deletable": true,
    "editable": true
   },
   "source": [
    "In order to display all the column names, we call the data `.columns`."
   ]
  },
  {
   "cell_type": "code",
   "execution_count": 30,
   "metadata": {
    "collapsed": false,
    "deletable": true,
    "editable": true,
    "scrolled": true
   },
   "outputs": [
    {
     "data": {
      "text/plain": [
       "Index(['tar', 'nicot', 'weight', 'CO'], dtype='object')"
      ]
     },
     "execution_count": 30,
     "metadata": {},
     "output_type": "execute_result"
    }
   ],
   "source": [
    "cig_data.columns"
   ]
  },
  {
   "cell_type": "markdown",
   "metadata": {
    "deletable": true,
    "editable": true
   },
   "source": [
    "In order to display the index names (row names), we call the data `.index`."
   ]
  },
  {
   "cell_type": "code",
   "execution_count": 31,
   "metadata": {
    "collapsed": false,
    "deletable": true,
    "editable": true,
    "scrolled": true
   },
   "outputs": [
    {
     "data": {
      "text/plain": [
       "Index(['alpine', 'benson_hedges', 'bull_durham', 'camel_lights', 'carlton',\n",
       "       'chesterfield', 'golden_lights', 'kent', 'kool', 'L_and_M',\n",
       "       'lark_lights', 'marlboro', 'merit', 'multifilter', 'newporrt_lights',\n",
       "       'now', 'old_gold', 'pall_mall_light', 'raleigh', 'salem_ultra',\n",
       "       'tareyton', 'TRUE', 'viceroy_rich', 'virginia_slims', 'winston_lights'],\n",
       "      dtype='object', name='brand')"
      ]
     },
     "execution_count": 31,
     "metadata": {},
     "output_type": "execute_result"
    }
   ],
   "source": [
    "cig_data.index"
   ]
  },
  {
   "cell_type": "markdown",
   "metadata": {
    "deletable": true,
    "editable": true
   },
   "source": [
    "If you want a general description of your DataFrame, we call the data `.info()`."
   ]
  },
  {
   "cell_type": "code",
   "execution_count": 32,
   "metadata": {
    "collapsed": false,
    "deletable": true,
    "editable": true,
    "scrolled": true
   },
   "outputs": [
    {
     "name": "stdout",
     "output_type": "stream",
     "text": [
      "<class 'pandas.core.frame.DataFrame'>\n",
      "Index: 25 entries, alpine to winston_lights\n",
      "Data columns (total 4 columns):\n",
      "tar       25 non-null float64\n",
      "nicot     25 non-null float64\n",
      "weight    25 non-null float64\n",
      "CO        25 non-null float64\n",
      "dtypes: float64(4)\n",
      "memory usage: 1000.0+ bytes\n"
     ]
    }
   ],
   "source": [
    "cig_data.info()"
   ]
  },
  {
   "cell_type": "markdown",
   "metadata": {
    "deletable": true,
    "editable": true
   },
   "source": [
    "We can also slice certain rows of the Series ndarry-like: "
   ]
  },
  {
   "cell_type": "code",
   "execution_count": 33,
   "metadata": {
    "collapsed": false,
    "deletable": true,
    "editable": true
   },
   "outputs": [
    {
     "data": {
      "text/plain": [
       "brand\n",
       "bull_durham     23.5\n",
       "camel_lights    10.2\n",
       "carlton          5.4\n",
       "chesterfield    15.0\n",
       "Name: CO, dtype: float64"
      ]
     },
     "execution_count": 33,
     "metadata": {},
     "output_type": "execute_result"
    }
   ],
   "source": [
    "cig_data_SeriesCO[2:6]"
   ]
  },
  {
   "cell_type": "markdown",
   "metadata": {
    "deletable": true,
    "editable": true
   },
   "source": [
    "#### Slicing rows:\n",
    " * syntax data[2:4]\n",
    " * result: DataFrame"
   ]
  },
  {
   "cell_type": "markdown",
   "metadata": {
    "collapsed": true,
    "deletable": true,
    "editable": true
   },
   "source": [
    "## 5. Application in Data Analysis\n",
    "\n",
    "In this tutorial, we will be discussing time series as an application in data analysis that involves pandas.\n",
    "\n",
    "We start-off at defining what a time series is:\n",
    "* Time Series: \n",
    " * A series of data points that are graphed in time order. \n",
    " * A sequence taken at equally spaced discrete points in time"
   ]
  },
  {
   "cell_type": "markdown",
   "metadata": {
    "deletable": true,
    "editable": true
   },
   "source": [
    "First of all, we will import `datetime` to our notebook. Dates and times can be provided by the `datetime` module in both a simple and complex ways. Please read more at [datetime](https://docs.python.org/2/library/datetime.html). The purpose of the `datetime` module includes the functions for doing time parsing, where we can use it to work with dates and times, both separately and together, which is important for data analysis in time series.\n",
    "Other modules that are similar to `datetime` includes the `time` and `calendar` modules."
   ]
  },
  {
   "cell_type": "code",
   "execution_count": 34,
   "metadata": {
    "collapsed": true,
    "deletable": true,
    "editable": true
   },
   "outputs": [],
   "source": [
    "import datetime"
   ]
  },
  {
   "cell_type": "markdown",
   "metadata": {
    "deletable": true,
    "editable": true
   },
   "source": [
    "For example, we can initialize a time instance as follows, where `times` have attributes for *hour*, *minute*, *second* and *microsecond*."
   ]
  },
  {
   "cell_type": "code",
   "execution_count": 35,
   "metadata": {
    "collapsed": false,
    "deletable": true,
    "editable": true,
    "scrolled": true
   },
   "outputs": [
    {
     "name": "stdout",
     "output_type": "stream",
     "text": [
      "01:30:05.000002\n"
     ]
    }
   ],
   "source": [
    "# The following shows the time as 1 hour 30 minutes 5 seconds and 2 microseconds\n",
    "t = datetime.time(1,30,5,2)\n",
    "print(t)"
   ]
  },
  {
   "cell_type": "markdown",
   "metadata": {
    "deletable": true,
    "editable": true
   },
   "source": [
    "We can call the parameters as follows:"
   ]
  },
  {
   "cell_type": "code",
   "execution_count": 43,
   "metadata": {
    "collapsed": false,
    "deletable": true,
    "editable": true
   },
   "outputs": [
    {
     "data": {
      "text/plain": [
       "1"
      ]
     },
     "execution_count": 43,
     "metadata": {},
     "output_type": "execute_result"
    }
   ],
   "source": [
    "t.hour"
   ]
  },
  {
   "cell_type": "code",
   "execution_count": 44,
   "metadata": {
    "collapsed": false,
    "deletable": true,
    "editable": true
   },
   "outputs": [
    {
     "data": {
      "text/plain": [
       "30"
      ]
     },
     "execution_count": 44,
     "metadata": {},
     "output_type": "execute_result"
    }
   ],
   "source": [
    "t.minute"
   ]
  },
  {
   "cell_type": "code",
   "execution_count": 45,
   "metadata": {
    "collapsed": false,
    "deletable": true,
    "editable": true
   },
   "outputs": [
    {
     "data": {
      "text/plain": [
       "5"
      ]
     },
     "execution_count": 45,
     "metadata": {},
     "output_type": "execute_result"
    }
   ],
   "source": [
    "t.second"
   ]
  },
  {
   "cell_type": "code",
   "execution_count": 36,
   "metadata": {
    "collapsed": false,
    "deletable": true,
    "editable": true,
    "scrolled": true
   },
   "outputs": [
    {
     "data": {
      "text/plain": [
       "2"
      ]
     },
     "execution_count": 36,
     "metadata": {},
     "output_type": "execute_result"
    }
   ],
   "source": [
    "t.microsecond"
   ]
  },
  {
   "cell_type": "markdown",
   "metadata": {
    "deletable": true,
    "editable": true
   },
   "source": [
    "Okay, let's get back to the application."
   ]
  },
  {
   "cell_type": "markdown",
   "metadata": {
    "deletable": true,
    "editable": true
   },
   "source": [
    "Note: Please read more at [time series](http://wavedatalab.github.io/datawithpython/timeseries.html): this is where I got inspired to do data on Yahoo stocks."
   ]
  },
  {
   "cell_type": "markdown",
   "metadata": {
    "deletable": true,
    "editable": true
   },
   "source": [
    "### Plots"
   ]
  },
  {
   "cell_type": "markdown",
   "metadata": {
    "deletable": true,
    "editable": true
   },
   "source": [
    "In our data, it only includes stock prices from March 18, 2015 to March 18, 2017 where the time in sequence is provided monthly."
   ]
  },
  {
   "cell_type": "markdown",
   "metadata": {
    "deletable": true,
    "editable": true
   },
   "source": [
    "Note: The following data that involves Yahoo Stock are from [Yahoo](https://ca.finance.yahoo.com/quote/YHOO/history?period1=1363590000&period2=1426662000&interval=1mo&filter=history&frequency=1mo)."
   ]
  },
  {
   "cell_type": "code",
   "execution_count": 38,
   "metadata": {
    "collapsed": false,
    "deletable": true,
    "editable": true,
    "scrolled": true
   },
   "outputs": [
    {
     "data": {
      "text/html": [
       "<div>\n",
       "<table border=\"1\" class=\"dataframe\">\n",
       "  <thead>\n",
       "    <tr style=\"text-align: right;\">\n",
       "      <th></th>\n",
       "      <th>Open</th>\n",
       "      <th>High</th>\n",
       "      <th>Low</th>\n",
       "      <th>Close</th>\n",
       "      <th>Volume</th>\n",
       "      <th>Adj Close</th>\n",
       "    </tr>\n",
       "    <tr>\n",
       "      <th>Date</th>\n",
       "      <th></th>\n",
       "      <th></th>\n",
       "      <th></th>\n",
       "      <th></th>\n",
       "      <th></th>\n",
       "      <th></th>\n",
       "    </tr>\n",
       "  </thead>\n",
       "  <tbody>\n",
       "    <tr>\n",
       "      <th>2017-03-01</th>\n",
       "      <td>45.889999</td>\n",
       "      <td>47.000000</td>\n",
       "      <td>45.389999</td>\n",
       "      <td>46.590000</td>\n",
       "      <td>5595400</td>\n",
       "      <td>46.590000</td>\n",
       "    </tr>\n",
       "    <tr>\n",
       "      <th>2017-02-01</th>\n",
       "      <td>44.250000</td>\n",
       "      <td>46.720001</td>\n",
       "      <td>43.560001</td>\n",
       "      <td>45.660000</td>\n",
       "      <td>7393600</td>\n",
       "      <td>45.660000</td>\n",
       "    </tr>\n",
       "    <tr>\n",
       "      <th>2017-01-03</th>\n",
       "      <td>39.110001</td>\n",
       "      <td>45.080002</td>\n",
       "      <td>38.639999</td>\n",
       "      <td>44.070000</td>\n",
       "      <td>8554700</td>\n",
       "      <td>44.070000</td>\n",
       "    </tr>\n",
       "    <tr>\n",
       "      <th>2016-12-01</th>\n",
       "      <td>41.000000</td>\n",
       "      <td>41.799999</td>\n",
       "      <td>38.240002</td>\n",
       "      <td>38.669998</td>\n",
       "      <td>10912200</td>\n",
       "      <td>38.669998</td>\n",
       "    </tr>\n",
       "    <tr>\n",
       "      <th>2016-11-01</th>\n",
       "      <td>41.130001</td>\n",
       "      <td>42.160000</td>\n",
       "      <td>38.869999</td>\n",
       "      <td>41.020000</td>\n",
       "      <td>10192300</td>\n",
       "      <td>41.020000</td>\n",
       "    </tr>\n",
       "    <tr>\n",
       "      <th>2016-10-03</th>\n",
       "      <td>42.950001</td>\n",
       "      <td>44.080002</td>\n",
       "      <td>41.169998</td>\n",
       "      <td>41.549999</td>\n",
       "      <td>8704100</td>\n",
       "      <td>41.549999</td>\n",
       "    </tr>\n",
       "    <tr>\n",
       "      <th>2016-09-01</th>\n",
       "      <td>42.779999</td>\n",
       "      <td>44.919998</td>\n",
       "      <td>41.849998</td>\n",
       "      <td>43.099998</td>\n",
       "      <td>13472000</td>\n",
       "      <td>43.099998</td>\n",
       "    </tr>\n",
       "    <tr>\n",
       "      <th>2016-08-01</th>\n",
       "      <td>38.180000</td>\n",
       "      <td>43.290001</td>\n",
       "      <td>38.099998</td>\n",
       "      <td>42.750000</td>\n",
       "      <td>10369500</td>\n",
       "      <td>42.750000</td>\n",
       "    </tr>\n",
       "    <tr>\n",
       "      <th>2016-07-01</th>\n",
       "      <td>37.560001</td>\n",
       "      <td>39.419998</td>\n",
       "      <td>37.060001</td>\n",
       "      <td>38.189999</td>\n",
       "      <td>13611700</td>\n",
       "      <td>38.189999</td>\n",
       "    </tr>\n",
       "    <tr>\n",
       "      <th>2016-06-01</th>\n",
       "      <td>37.250000</td>\n",
       "      <td>37.779999</td>\n",
       "      <td>35.049999</td>\n",
       "      <td>37.560001</td>\n",
       "      <td>12374900</td>\n",
       "      <td>37.560001</td>\n",
       "    </tr>\n",
       "    <tr>\n",
       "      <th>2016-05-02</th>\n",
       "      <td>36.650002</td>\n",
       "      <td>38.080002</td>\n",
       "      <td>35.470001</td>\n",
       "      <td>37.939999</td>\n",
       "      <td>13390000</td>\n",
       "      <td>37.939999</td>\n",
       "    </tr>\n",
       "    <tr>\n",
       "      <th>2016-04-01</th>\n",
       "      <td>36.540001</td>\n",
       "      <td>38.189999</td>\n",
       "      <td>35.619999</td>\n",
       "      <td>36.599998</td>\n",
       "      <td>17384900</td>\n",
       "      <td>36.599998</td>\n",
       "    </tr>\n",
       "    <tr>\n",
       "      <th>2016-03-01</th>\n",
       "      <td>32.040001</td>\n",
       "      <td>37.279999</td>\n",
       "      <td>32.040001</td>\n",
       "      <td>36.810001</td>\n",
       "      <td>16053800</td>\n",
       "      <td>36.810001</td>\n",
       "    </tr>\n",
       "    <tr>\n",
       "      <th>2016-02-01</th>\n",
       "      <td>29.270000</td>\n",
       "      <td>32.459999</td>\n",
       "      <td>26.150000</td>\n",
       "      <td>31.790001</td>\n",
       "      <td>21073800</td>\n",
       "      <td>31.790001</td>\n",
       "    </tr>\n",
       "    <tr>\n",
       "      <th>2016-01-04</th>\n",
       "      <td>32.119999</td>\n",
       "      <td>32.459999</td>\n",
       "      <td>27.440001</td>\n",
       "      <td>29.510000</td>\n",
       "      <td>18803500</td>\n",
       "      <td>29.510000</td>\n",
       "    </tr>\n",
       "    <tr>\n",
       "      <th>2015-12-01</th>\n",
       "      <td>33.869999</td>\n",
       "      <td>36.389999</td>\n",
       "      <td>32.209999</td>\n",
       "      <td>33.259998</td>\n",
       "      <td>16814600</td>\n",
       "      <td>33.259998</td>\n",
       "    </tr>\n",
       "    <tr>\n",
       "      <th>2015-11-02</th>\n",
       "      <td>35.459999</td>\n",
       "      <td>35.480000</td>\n",
       "      <td>32.119999</td>\n",
       "      <td>33.810001</td>\n",
       "      <td>13888900</td>\n",
       "      <td>33.810001</td>\n",
       "    </tr>\n",
       "    <tr>\n",
       "      <th>2015-10-01</th>\n",
       "      <td>28.950001</td>\n",
       "      <td>35.700001</td>\n",
       "      <td>28.430000</td>\n",
       "      <td>35.619999</td>\n",
       "      <td>17400600</td>\n",
       "      <td>35.619999</td>\n",
       "    </tr>\n",
       "    <tr>\n",
       "      <th>2015-09-01</th>\n",
       "      <td>31.490000</td>\n",
       "      <td>32.830002</td>\n",
       "      <td>27.200001</td>\n",
       "      <td>28.910000</td>\n",
       "      <td>22885600</td>\n",
       "      <td>28.910000</td>\n",
       "    </tr>\n",
       "    <tr>\n",
       "      <th>2015-08-03</th>\n",
       "      <td>36.669998</td>\n",
       "      <td>37.709999</td>\n",
       "      <td>29.000000</td>\n",
       "      <td>32.240002</td>\n",
       "      <td>15718900</td>\n",
       "      <td>32.240002</td>\n",
       "    </tr>\n",
       "    <tr>\n",
       "      <th>2015-07-01</th>\n",
       "      <td>39.459999</td>\n",
       "      <td>39.980000</td>\n",
       "      <td>36.580002</td>\n",
       "      <td>36.669998</td>\n",
       "      <td>12849400</td>\n",
       "      <td>36.669998</td>\n",
       "    </tr>\n",
       "    <tr>\n",
       "      <th>2015-06-01</th>\n",
       "      <td>43.049999</td>\n",
       "      <td>43.779999</td>\n",
       "      <td>38.849998</td>\n",
       "      <td>39.290001</td>\n",
       "      <td>11994600</td>\n",
       "      <td>39.290001</td>\n",
       "    </tr>\n",
       "    <tr>\n",
       "      <th>2015-05-01</th>\n",
       "      <td>42.549999</td>\n",
       "      <td>45.070000</td>\n",
       "      <td>39.119999</td>\n",
       "      <td>42.939999</td>\n",
       "      <td>18233000</td>\n",
       "      <td>42.939999</td>\n",
       "    </tr>\n",
       "    <tr>\n",
       "      <th>2015-04-01</th>\n",
       "      <td>44.450001</td>\n",
       "      <td>46.169998</td>\n",
       "      <td>42.259998</td>\n",
       "      <td>42.570000</td>\n",
       "      <td>14137800</td>\n",
       "      <td>42.570000</td>\n",
       "    </tr>\n",
       "    <tr>\n",
       "      <th>2015-03-18</th>\n",
       "      <td>43.580002</td>\n",
       "      <td>45.669998</td>\n",
       "      <td>43.430000</td>\n",
       "      <td>44.439999</td>\n",
       "      <td>14417800</td>\n",
       "      <td>44.439999</td>\n",
       "    </tr>\n",
       "  </tbody>\n",
       "</table>\n",
       "</div>"
      ],
      "text/plain": [
       "                 Open       High        Low      Close    Volume  Adj Close\n",
       "Date                                                                       \n",
       "2017-03-01  45.889999  47.000000  45.389999  46.590000   5595400  46.590000\n",
       "2017-02-01  44.250000  46.720001  43.560001  45.660000   7393600  45.660000\n",
       "2017-01-03  39.110001  45.080002  38.639999  44.070000   8554700  44.070000\n",
       "2016-12-01  41.000000  41.799999  38.240002  38.669998  10912200  38.669998\n",
       "2016-11-01  41.130001  42.160000  38.869999  41.020000  10192300  41.020000\n",
       "2016-10-03  42.950001  44.080002  41.169998  41.549999   8704100  41.549999\n",
       "2016-09-01  42.779999  44.919998  41.849998  43.099998  13472000  43.099998\n",
       "2016-08-01  38.180000  43.290001  38.099998  42.750000  10369500  42.750000\n",
       "2016-07-01  37.560001  39.419998  37.060001  38.189999  13611700  38.189999\n",
       "2016-06-01  37.250000  37.779999  35.049999  37.560001  12374900  37.560001\n",
       "2016-05-02  36.650002  38.080002  35.470001  37.939999  13390000  37.939999\n",
       "2016-04-01  36.540001  38.189999  35.619999  36.599998  17384900  36.599998\n",
       "2016-03-01  32.040001  37.279999  32.040001  36.810001  16053800  36.810001\n",
       "2016-02-01  29.270000  32.459999  26.150000  31.790001  21073800  31.790001\n",
       "2016-01-04  32.119999  32.459999  27.440001  29.510000  18803500  29.510000\n",
       "2015-12-01  33.869999  36.389999  32.209999  33.259998  16814600  33.259998\n",
       "2015-11-02  35.459999  35.480000  32.119999  33.810001  13888900  33.810001\n",
       "2015-10-01  28.950001  35.700001  28.430000  35.619999  17400600  35.619999\n",
       "2015-09-01  31.490000  32.830002  27.200001  28.910000  22885600  28.910000\n",
       "2015-08-03  36.669998  37.709999  29.000000  32.240002  15718900  32.240002\n",
       "2015-07-01  39.459999  39.980000  36.580002  36.669998  12849400  36.669998\n",
       "2015-06-01  43.049999  43.779999  38.849998  39.290001  11994600  39.290001\n",
       "2015-05-01  42.549999  45.070000  39.119999  42.939999  18233000  42.939999\n",
       "2015-04-01  44.450001  46.169998  42.259998  42.570000  14137800  42.570000\n",
       "2015-03-18  43.580002  45.669998  43.430000  44.439999  14417800  44.439999"
      ]
     },
     "execution_count": 38,
     "metadata": {},
     "output_type": "execute_result"
    }
   ],
   "source": [
    "YS1517 = pd.read_csv('yahoostock1517.csv', parse_dates = True, engine ='c',\n",
    "                     index_col = 0, sep = ',')\n",
    "YS1517"
   ]
  },
  {
   "cell_type": "code",
   "execution_count": 39,
   "metadata": {
    "collapsed": false,
    "deletable": true,
    "editable": true,
    "scrolled": false
   },
   "outputs": [
    {
     "data": {
      "image/png": "[encoded data removed]",
      "text/plain": [
       "<matplotlib.figure.Figure at 0x7fcb6b915c50>"
      ]
     },
     "metadata": {},
     "output_type": "display_data"
    }
   ],
   "source": [
    "YS1517.Close.plot(figsize = (10,5), label = 'Adj_Close')\n",
    "plt.title('Yahoo stocks March 18 2015 - 2017')\n",
    "plt.xlabel('Time(monthly)')\n",
    "plt.ylabel('Stock Price')\n",
    "plt.legend()\n",
    "plt.grid()\n",
    "plt.show();"
   ]
  },
  {
   "cell_type": "markdown",
   "metadata": {
    "deletable": true,
    "editable": true
   },
   "source": [
    "We can look at the volumn for the time periods"
   ]
  },
  {
   "cell_type": "code",
   "execution_count": 40,
   "metadata": {
    "collapsed": false,
    "deletable": true,
    "editable": true,
    "scrolled": false
   },
   "outputs": [
    {
     "data": {
      "text/plain": [
       "<matplotlib.axes._subplots.AxesSubplot at 0x7fcb65f525f8>"
      ]
     },
     "execution_count": 40,
     "metadata": {},
     "output_type": "execute_result"
    },
    {
     "data": {
      "image/png": "[encoded data removed]",
      "text/plain": [
       "<matplotlib.figure.Figure at 0x7fcb6b915ac8>"
      ]
     },
     "metadata": {},
     "output_type": "display_data"
    }
   ],
   "source": [
    "YS1517.Volume.plot()"
   ]
  },
  {
   "cell_type": "code",
   "execution_count": 111,
   "metadata": {
    "collapsed": false,
    "deletable": true,
    "editable": true
   },
   "outputs": [
    {
     "data": {
      "text/plain": [
       "array([<matplotlib.axes._subplots.AxesSubplot object at 0x7fcacd4b00b8>,\n",
       "       <matplotlib.axes._subplots.AxesSubplot object at 0x7fcac82c0160>,\n",
       "       <matplotlib.axes._subplots.AxesSubplot object at 0x7fcac828c550>,\n",
       "       <matplotlib.axes._subplots.AxesSubplot object at 0x7fcac824ab38>,\n",
       "       <matplotlib.axes._subplots.AxesSubplot object at 0x7fcac8216e10>,\n",
       "       <matplotlib.axes._subplots.AxesSubplot object at 0x7fcac81da748>], dtype=object)"
      ]
     },
     "execution_count": 111,
     "metadata": {},
     "output_type": "execute_result"
    },
    {
     "data": {
      "image/png": "[encoded data removed]",
      "text/plain": [
       "<matplotlib.figure.Figure at 0x7fcad1802780>"
      ]
     },
     "metadata": {},
     "output_type": "display_data"
    }
   ],
   "source": [
    "YS1517.plot(subplots = True, figsize=(10,10))"
   ]
  },
  {
   "cell_type": "markdown",
   "metadata": {
    "deletable": true,
    "editable": true
   },
   "source": [
    "#### Moving Average\n",
    "\n",
    "A moving average, as known as a rolling average or a running average, is a calculation which is used to analyze data points by creating small subsets of the averages of the original dataset. \n",
    "\n",
    "Source: [Wikipedia](https://en.wikipedia.org/wiki/Moving_average)"
   ]
  },
  {
   "cell_type": "code",
   "execution_count": 41,
   "metadata": {
    "collapsed": false,
    "deletable": true,
    "editable": true,
    "scrolled": true
   },
   "outputs": [
    {
     "data": {
      "text/plain": [
       "Date\n",
       "2017-03-01    46.590000\n",
       "2017-02-01    45.660000\n",
       "2017-01-03    44.070000\n",
       "2016-12-01    38.669998\n",
       "2016-11-01    41.020000\n",
       "2016-10-03    41.549999\n",
       "2016-09-01    43.099998\n",
       "2016-08-01    42.750000\n",
       "2016-07-01    38.189999\n",
       "2016-06-01    37.560001\n",
       "2016-05-02    37.939999\n",
       "2016-04-01    36.599998\n",
       "2016-03-01    36.810001\n",
       "2016-02-01    31.790001\n",
       "2016-01-04    29.510000\n",
       "2015-12-01    33.259998\n",
       "2015-11-02    33.810001\n",
       "2015-10-01    35.619999\n",
       "2015-09-01    28.910000\n",
       "2015-08-03    32.240002\n",
       "2015-07-01    36.669998\n",
       "2015-06-01    39.290001\n",
       "2015-05-01    42.939999\n",
       "2015-04-01    42.570000\n",
       "2015-03-18    44.439999\n",
       "Name: Adj Close, dtype: float64"
      ]
     },
     "execution_count": 41,
     "metadata": {},
     "output_type": "execute_result"
    }
   ],
   "source": [
    "close_ys = YS1517['Adj Close']\n",
    "#movingaverage = pd.rolling_mean(close_ys, 20)\n",
    "close_ys"
   ]
  },
  {
   "cell_type": "markdown",
   "metadata": {
    "deletable": true,
    "editable": true
   },
   "source": [
    "In pandas, we can use `pd.rolling().mean` to get the moving average, which is different from previous versions of python."
   ]
  },
  {
   "cell_type": "code",
   "execution_count": 42,
   "metadata": {
    "collapsed": false,
    "deletable": true,
    "editable": true,
    "scrolled": true
   },
   "outputs": [
    {
     "data": {
      "text/plain": [
       "Date\n",
       "2017-03-01          NaN\n",
       "2017-02-01          NaN\n",
       "2017-01-03          NaN\n",
       "2016-12-01          NaN\n",
       "2016-11-01          NaN\n",
       "2016-10-03          NaN\n",
       "2016-09-01          NaN\n",
       "2016-08-01          NaN\n",
       "2016-07-01          NaN\n",
       "2016-06-01    41.915999\n",
       "2016-05-02    41.050999\n",
       "2016-04-01    40.144999\n",
       "2016-03-01    39.418999\n",
       "2016-02-01    38.731000\n",
       "2016-01-04    37.580000\n",
       "2015-12-01    36.751000\n",
       "2015-11-02    35.822000\n",
       "2015-10-01    35.109000\n",
       "2015-09-01    34.181000\n",
       "2015-08-03    33.649000\n",
       "2015-07-01    33.522000\n",
       "2015-06-01    33.791000\n",
       "2015-05-01    34.404000\n",
       "2015-04-01    35.482000\n",
       "2015-03-18    36.975000\n",
       "Name: Adj Close, dtype: float64"
      ]
     },
     "execution_count": 42,
     "metadata": {},
     "output_type": "execute_result"
    }
   ],
   "source": [
    "moving_average = close_ys.rolling(center=False,window=10).mean()\n",
    "moving_average"
   ]
  },
  {
   "cell_type": "markdown",
   "metadata": {
    "deletable": true,
    "editable": true
   },
   "source": [
    "Then we can plot it:"
   ]
  },
  {
   "cell_type": "code",
   "execution_count": 43,
   "metadata": {
    "collapsed": false,
    "deletable": true,
    "editable": true,
    "scrolled": false
   },
   "outputs": [
    {
     "data": {
      "image/png": "[encoded data removed]",
      "text/plain": [
       "<matplotlib.figure.Figure at 0x7fcb65ff4160>"
      ]
     },
     "metadata": {},
     "output_type": "display_data"
    }
   ],
   "source": [
    "# Labeling the plot\n",
    "YS1517.Close.plot(label='Yahoo')\n",
    "# Plot the moving average plot\n",
    "moving_average.plot(label='Moving average')\n",
    "\n",
    "plt.legend()\n",
    "# Customize the size of the plot\n",
    "plt.gcf().set_size_inches(15,5)"
   ]
  },
  {
   "cell_type": "markdown",
   "metadata": {
    "deletable": true,
    "editable": true
   },
   "source": [
    "### Other plots"
   ]
  },
  {
   "cell_type": "markdown",
   "metadata": {
    "deletable": true,
    "editable": true
   },
   "source": [
    "#### Kernel Density Estimation Plot (KDE)\n",
    "\n",
    "KDE can be used to estimate the probability density function of a random variable in statistics\n",
    "\n",
    "$$\n",
    "\\hat{f_h} (x) = \\frac{1}{n} \\sum_{i = 1}^n K_h(x-x_i) = \\frac{1}{nh} \\sum_{i=1}^n K_h \\left( \\frac{x-x_i}{h}\\right)\n",
    "$$\n",
    " \n",
    "Source: [Wikipedia](https://en.wikipedia.org/wiki/Kernel_density_estimation)"
   ]
  },
  {
   "cell_type": "markdown",
   "metadata": {
    "deletable": true,
    "editable": true
   },
   "source": [
    "We can also plot this with pandas:\n",
    "`Panda.Series.plot(kind = 'kde')`."
   ]
  },
  {
   "cell_type": "code",
   "execution_count": 44,
   "metadata": {
    "collapsed": false,
    "deletable": true,
    "editable": true,
    "scrolled": false
   },
   "outputs": [
    {
     "data": {
      "text/plain": [
       "<matplotlib.axes._subplots.AxesSubplot at 0x7fcb660c0128>"
      ]
     },
     "execution_count": 44,
     "metadata": {},
     "output_type": "execute_result"
    },
    {
     "data": {
      "image/png": "[encoded data removed]",
      "text/plain": [
       "<matplotlib.figure.Figure at 0x7fcb660d4160>"
      ]
     },
     "metadata": {},
     "output_type": "display_data"
    }
   ],
   "source": [
    "YS1517.Close.plot(kind='kde')"
   ]
  },
  {
   "cell_type": "markdown",
   "metadata": {
    "deletable": true,
    "editable": true
   },
   "source": [
    "### Calculations"
   ]
  },
  {
   "cell_type": "markdown",
   "metadata": {
    "deletable": true,
    "editable": true
   },
   "source": [
    "#### Computational Tools"
   ]
  },
  {
   "cell_type": "markdown",
   "metadata": {
    "deletable": true,
    "editable": true
   },
   "source": [
    "There are many statistical computation tools that can be done with pandas.\n",
    "\n",
    "Please read more here: [Computational tools](http://pandas.pydata.org/pandas-docs/stable/computation.html)."
   ]
  },
  {
   "cell_type": "markdown",
   "metadata": {
    "deletable": true,
    "editable": true
   },
   "source": [
    "#### Some basic knowledge"
   ]
  },
  {
   "cell_type": "markdown",
   "metadata": {
    "deletable": true,
    "editable": true
   },
   "source": [
    "##### Percent Change\n",
    "\n",
    "`Series` and ` DataFrame` both have a method called `pct_change` which is used to compute the percent change over a given number of periods."
   ]
  },
  {
   "cell_type": "markdown",
   "metadata": {
    "deletable": true,
    "editable": true
   },
   "source": [
    "For example, we can create a random DataFrame as follows:"
   ]
  },
  {
   "cell_type": "code",
   "execution_count": 46,
   "metadata": {
    "collapsed": false,
    "deletable": true,
    "editable": true,
    "scrolled": true
   },
   "outputs": [
    {
     "data": {
      "text/html": [
       "<div>\n",
       "<table border=\"1\" class=\"dataframe\">\n",
       "  <thead>\n",
       "    <tr style=\"text-align: right;\">\n",
       "      <th></th>\n",
       "      <th>0</th>\n",
       "      <th>1</th>\n",
       "      <th>2</th>\n",
       "      <th>3</th>\n",
       "      <th>4</th>\n",
       "    </tr>\n",
       "  </thead>\n",
       "  <tbody>\n",
       "    <tr>\n",
       "      <th>0</th>\n",
       "      <td>0.857251</td>\n",
       "      <td>1.577662</td>\n",
       "      <td>-1.904832</td>\n",
       "      <td>0.007216</td>\n",
       "      <td>-1.706931</td>\n",
       "    </tr>\n",
       "    <tr>\n",
       "      <th>1</th>\n",
       "      <td>1.287024</td>\n",
       "      <td>-0.359841</td>\n",
       "      <td>0.086249</td>\n",
       "      <td>-0.744737</td>\n",
       "      <td>-0.392634</td>\n",
       "    </tr>\n",
       "    <tr>\n",
       "      <th>2</th>\n",
       "      <td>1.250404</td>\n",
       "      <td>0.438697</td>\n",
       "      <td>-2.245407</td>\n",
       "      <td>0.299637</td>\n",
       "      <td>-2.242804</td>\n",
       "    </tr>\n",
       "    <tr>\n",
       "      <th>3</th>\n",
       "      <td>0.076988</td>\n",
       "      <td>-0.233839</td>\n",
       "      <td>1.241716</td>\n",
       "      <td>-0.956453</td>\n",
       "      <td>-0.033833</td>\n",
       "    </tr>\n",
       "    <tr>\n",
       "      <th>4</th>\n",
       "      <td>1.178253</td>\n",
       "      <td>0.053777</td>\n",
       "      <td>-0.243006</td>\n",
       "      <td>0.163901</td>\n",
       "      <td>1.659275</td>\n",
       "    </tr>\n",
       "    <tr>\n",
       "      <th>5</th>\n",
       "      <td>0.618761</td>\n",
       "      <td>0.431767</td>\n",
       "      <td>-0.211102</td>\n",
       "      <td>-1.179516</td>\n",
       "      <td>0.619935</td>\n",
       "    </tr>\n",
       "    <tr>\n",
       "      <th>6</th>\n",
       "      <td>0.838800</td>\n",
       "      <td>-0.065579</td>\n",
       "      <td>-0.630630</td>\n",
       "      <td>-0.000901</td>\n",
       "      <td>0.412926</td>\n",
       "    </tr>\n",
       "    <tr>\n",
       "      <th>7</th>\n",
       "      <td>0.773027</td>\n",
       "      <td>1.224873</td>\n",
       "      <td>1.124376</td>\n",
       "      <td>-0.005158</td>\n",
       "      <td>0.057868</td>\n",
       "    </tr>\n",
       "    <tr>\n",
       "      <th>8</th>\n",
       "      <td>-0.249546</td>\n",
       "      <td>-0.022563</td>\n",
       "      <td>-1.885427</td>\n",
       "      <td>-0.367285</td>\n",
       "      <td>-1.173697</td>\n",
       "    </tr>\n",
       "    <tr>\n",
       "      <th>9</th>\n",
       "      <td>-0.820632</td>\n",
       "      <td>-0.731699</td>\n",
       "      <td>0.455547</td>\n",
       "      <td>1.481665</td>\n",
       "      <td>-0.148701</td>\n",
       "    </tr>\n",
       "  </tbody>\n",
       "</table>\n",
       "</div>"
      ],
      "text/plain": [
       "          0         1         2         3         4\n",
       "0  0.857251  1.577662 -1.904832  0.007216 -1.706931\n",
       "1  1.287024 -0.359841  0.086249 -0.744737 -0.392634\n",
       "2  1.250404  0.438697 -2.245407  0.299637 -2.242804\n",
       "3  0.076988 -0.233839  1.241716 -0.956453 -0.033833\n",
       "4  1.178253  0.053777 -0.243006  0.163901  1.659275\n",
       "5  0.618761  0.431767 -0.211102 -1.179516  0.619935\n",
       "6  0.838800 -0.065579 -0.630630 -0.000901  0.412926\n",
       "7  0.773027  1.224873  1.124376 -0.005158  0.057868\n",
       "8 -0.249546 -0.022563 -1.885427 -0.367285 -1.173697\n",
       "9 -0.820632 -0.731699  0.455547  1.481665 -0.148701"
      ]
     },
     "execution_count": 46,
     "metadata": {},
     "output_type": "execute_result"
    }
   ],
   "source": [
    "dataframe = pd.DataFrame(np.random.randn(10,5))\n",
    "dataframe"
   ]
  },
  {
   "cell_type": "code",
   "execution_count": 47,
   "metadata": {
    "collapsed": false,
    "deletable": true,
    "editable": true,
    "scrolled": true
   },
   "outputs": [
    {
     "data": {
      "text/html": [
       "<div>\n",
       "<table border=\"1\" class=\"dataframe\">\n",
       "  <thead>\n",
       "    <tr style=\"text-align: right;\">\n",
       "      <th></th>\n",
       "      <th>0</th>\n",
       "      <th>1</th>\n",
       "      <th>2</th>\n",
       "      <th>3</th>\n",
       "      <th>4</th>\n",
       "    </tr>\n",
       "  </thead>\n",
       "  <tbody>\n",
       "    <tr>\n",
       "      <th>0</th>\n",
       "      <td>NaN</td>\n",
       "      <td>NaN</td>\n",
       "      <td>NaN</td>\n",
       "      <td>NaN</td>\n",
       "      <td>NaN</td>\n",
       "    </tr>\n",
       "    <tr>\n",
       "      <th>1</th>\n",
       "      <td>0.501339</td>\n",
       "      <td>-1.228085</td>\n",
       "      <td>-1.045279</td>\n",
       "      <td>-104.209972</td>\n",
       "      <td>-0.769977</td>\n",
       "    </tr>\n",
       "    <tr>\n",
       "      <th>2</th>\n",
       "      <td>-0.028453</td>\n",
       "      <td>-2.219142</td>\n",
       "      <td>-27.034158</td>\n",
       "      <td>-1.402340</td>\n",
       "      <td>4.712203</td>\n",
       "    </tr>\n",
       "    <tr>\n",
       "      <th>3</th>\n",
       "      <td>-0.938429</td>\n",
       "      <td>-1.533029</td>\n",
       "      <td>-1.553002</td>\n",
       "      <td>-4.192037</td>\n",
       "      <td>-0.984915</td>\n",
       "    </tr>\n",
       "    <tr>\n",
       "      <th>4</th>\n",
       "      <td>14.304326</td>\n",
       "      <td>-1.229976</td>\n",
       "      <td>-1.195702</td>\n",
       "      <td>-1.171363</td>\n",
       "      <td>-50.043158</td>\n",
       "    </tr>\n",
       "    <tr>\n",
       "      <th>5</th>\n",
       "      <td>-0.474849</td>\n",
       "      <td>7.028816</td>\n",
       "      <td>-0.131291</td>\n",
       "      <td>-8.196537</td>\n",
       "      <td>-0.626382</td>\n",
       "    </tr>\n",
       "    <tr>\n",
       "      <th>6</th>\n",
       "      <td>0.355613</td>\n",
       "      <td>-1.151885</td>\n",
       "      <td>1.987332</td>\n",
       "      <td>-0.999236</td>\n",
       "      <td>-0.333920</td>\n",
       "    </tr>\n",
       "    <tr>\n",
       "      <th>7</th>\n",
       "      <td>-0.078414</td>\n",
       "      <td>-19.677789</td>\n",
       "      <td>-2.782940</td>\n",
       "      <td>4.722238</td>\n",
       "      <td>-0.859860</td>\n",
       "    </tr>\n",
       "    <tr>\n",
       "      <th>8</th>\n",
       "      <td>-1.322817</td>\n",
       "      <td>-1.018421</td>\n",
       "      <td>-2.676865</td>\n",
       "      <td>70.211692</td>\n",
       "      <td>-21.282435</td>\n",
       "    </tr>\n",
       "    <tr>\n",
       "      <th>9</th>\n",
       "      <td>2.288501</td>\n",
       "      <td>31.428687</td>\n",
       "      <td>-1.241615</td>\n",
       "      <td>-5.034105</td>\n",
       "      <td>-0.873306</td>\n",
       "    </tr>\n",
       "  </tbody>\n",
       "</table>\n",
       "</div>"
      ],
      "text/plain": [
       "           0          1          2           3          4\n",
       "0        NaN        NaN        NaN         NaN        NaN\n",
       "1   0.501339  -1.228085  -1.045279 -104.209972  -0.769977\n",
       "2  -0.028453  -2.219142 -27.034158   -1.402340   4.712203\n",
       "3  -0.938429  -1.533029  -1.553002   -4.192037  -0.984915\n",
       "4  14.304326  -1.229976  -1.195702   -1.171363 -50.043158\n",
       "5  -0.474849   7.028816  -0.131291   -8.196537  -0.626382\n",
       "6   0.355613  -1.151885   1.987332   -0.999236  -0.333920\n",
       "7  -0.078414 -19.677789  -2.782940    4.722238  -0.859860\n",
       "8  -1.322817  -1.018421  -2.676865   70.211692 -21.282435\n",
       "9   2.288501  31.428687  -1.241615   -5.034105  -0.873306"
      ]
     },
     "execution_count": 47,
     "metadata": {},
     "output_type": "execute_result"
    }
   ],
   "source": [
    "dataframe.pct_change()"
   ]
  },
  {
   "cell_type": "markdown",
   "metadata": {
    "deletable": true,
    "editable": true
   },
   "source": [
    "##### Covariance"
   ]
  },
  {
   "cell_type": "markdown",
   "metadata": {
    "deletable": true,
    "editable": true
   },
   "source": [
    "The `Series` object has a method called `cov` which functions to compute the covariance between series. When `NA/null` values are present, the covariance is computed without them."
   ]
  },
  {
   "cell_type": "code",
   "execution_count": 48,
   "metadata": {
    "collapsed": true,
    "deletable": true,
    "editable": true
   },
   "outputs": [],
   "source": [
    "# First, we can create two random Series:\n",
    "series1 = pd.Series(np.random.randn(1000))\n",
    "series2 = pd.Series(np.random.randn(1000))"
   ]
  },
  {
   "cell_type": "code",
   "execution_count": 49,
   "metadata": {
    "collapsed": true,
    "deletable": true,
    "editable": true
   },
   "outputs": [],
   "source": [
    "series1.cov?"
   ]
  },
  {
   "cell_type": "code",
   "execution_count": 50,
   "metadata": {
    "collapsed": false,
    "deletable": true,
    "editable": true
   },
   "outputs": [
    {
     "data": {
      "text/plain": [
       "0.022512711720114115"
      ]
     },
     "execution_count": 50,
     "metadata": {},
     "output_type": "execute_result"
    }
   ],
   "source": [
    "# Then we can compute covariance with Series, excluding missing values if present\n",
    "series1.cov(series2)"
   ]
  },
  {
   "cell_type": "markdown",
   "metadata": {
    "deletable": true,
    "editable": true
   },
   "source": [
    "Please note that `DataFrame` also has a method called `cov` which functions to compute pairwise covariances among the Series in DataFrame. It also excludes the missing values."
   ]
  },
  {
   "cell_type": "markdown",
   "metadata": {
    "deletable": true,
    "editable": true
   },
   "source": [
    "##### Correlation\n",
    "\n",
    "In statistics, once we know what the covariance of, let's say, two random variables X and Y, we can compute the correlation with this formula (the covariance can be normalized to produce the correlation coefficient):\n",
    "\n",
    "$$\n",
    "\\rho = \\frac{cov(X,Y)}{\\sqrt{(var(X)var(Y)}}\n",
    "$$\n",
    "\n",
    "Please see: [Wikipedia](https://en.wikipedia.org/wiki/Correlation_coefficient) for more information on corselations.\n",
    "\n",
    "In Pandas, There are many methods that can be used to compute the correlation:\n",
    "\n",
    "* *Pearson (default)*: `Standard correlation coefficient`\n",
    "* *Kendall*: `Kendall Tau correlation coefficient`\n",
    "* *Spearman*: `Spearman rank correlation coefficient`"
   ]
  },
  {
   "cell_type": "markdown",
   "metadata": {
    "deletable": true,
    "editable": true
   },
   "source": [
    "Back to our application with Yahoo Stocks, we can calculate the correlation between the Yahoo stocks in March 18, 2013-2015 with 2015-2017."
   ]
  },
  {
   "cell_type": "markdown",
   "metadata": {
    "deletable": true,
    "editable": true
   },
   "source": [
    "But first, let's import another csv:"
   ]
  },
  {
   "cell_type": "code",
   "execution_count": 51,
   "metadata": {
    "collapsed": false,
    "deletable": true,
    "editable": true
   },
   "outputs": [
    {
     "data": {
      "text/html": [
       "<div>\n",
       "<table border=\"1\" class=\"dataframe\">\n",
       "  <thead>\n",
       "    <tr style=\"text-align: right;\">\n",
       "      <th></th>\n",
       "      <th>Open</th>\n",
       "      <th>High</th>\n",
       "      <th>Low</th>\n",
       "      <th>Close</th>\n",
       "      <th>Volume</th>\n",
       "      <th>Adj Close</th>\n",
       "    </tr>\n",
       "    <tr>\n",
       "      <th>Date</th>\n",
       "      <th></th>\n",
       "      <th></th>\n",
       "      <th></th>\n",
       "      <th></th>\n",
       "      <th></th>\n",
       "      <th></th>\n",
       "    </tr>\n",
       "  </thead>\n",
       "  <tbody>\n",
       "    <tr>\n",
       "      <th>2015-03-02</th>\n",
       "      <td>44.060001</td>\n",
       "      <td>44.709999</td>\n",
       "      <td>41.970001</td>\n",
       "      <td>44.669998</td>\n",
       "      <td>15079000</td>\n",
       "      <td>44.669998</td>\n",
       "    </tr>\n",
       "    <tr>\n",
       "      <th>2015-02-02</th>\n",
       "      <td>44.430000</td>\n",
       "      <td>45.250000</td>\n",
       "      <td>42.540001</td>\n",
       "      <td>44.279999</td>\n",
       "      <td>14482200</td>\n",
       "      <td>44.279999</td>\n",
       "    </tr>\n",
       "    <tr>\n",
       "      <th>2015-01-02</th>\n",
       "      <td>50.660000</td>\n",
       "      <td>50.779999</td>\n",
       "      <td>41.799999</td>\n",
       "      <td>43.990002</td>\n",
       "      <td>25550700</td>\n",
       "      <td>43.990002</td>\n",
       "    </tr>\n",
       "    <tr>\n",
       "      <th>2014-12-01</th>\n",
       "      <td>51.430000</td>\n",
       "      <td>51.680000</td>\n",
       "      <td>48.290001</td>\n",
       "      <td>50.509998</td>\n",
       "      <td>16338000</td>\n",
       "      <td>50.509998</td>\n",
       "    </tr>\n",
       "    <tr>\n",
       "      <th>2014-11-03</th>\n",
       "      <td>46.049999</td>\n",
       "      <td>52.619999</td>\n",
       "      <td>45.740002</td>\n",
       "      <td>51.740002</td>\n",
       "      <td>25212800</td>\n",
       "      <td>51.740002</td>\n",
       "    </tr>\n",
       "    <tr>\n",
       "      <th>2014-10-01</th>\n",
       "      <td>40.660000</td>\n",
       "      <td>46.520000</td>\n",
       "      <td>36.200001</td>\n",
       "      <td>46.049999</td>\n",
       "      <td>32909600</td>\n",
       "      <td>46.049999</td>\n",
       "    </tr>\n",
       "    <tr>\n",
       "      <th>2014-09-02</th>\n",
       "      <td>38.900002</td>\n",
       "      <td>44.009998</td>\n",
       "      <td>37.900002</td>\n",
       "      <td>40.750000</td>\n",
       "      <td>59553900</td>\n",
       "      <td>40.750000</td>\n",
       "    </tr>\n",
       "    <tr>\n",
       "      <th>2014-08-01</th>\n",
       "      <td>35.689999</td>\n",
       "      <td>38.720001</td>\n",
       "      <td>35.150002</td>\n",
       "      <td>38.509998</td>\n",
       "      <td>14516900</td>\n",
       "      <td>38.509998</td>\n",
       "    </tr>\n",
       "    <tr>\n",
       "      <th>2014-07-01</th>\n",
       "      <td>35.500000</td>\n",
       "      <td>36.990002</td>\n",
       "      <td>32.930000</td>\n",
       "      <td>35.810001</td>\n",
       "      <td>24392600</td>\n",
       "      <td>35.810001</td>\n",
       "    </tr>\n",
       "    <tr>\n",
       "      <th>2014-06-02</th>\n",
       "      <td>34.689999</td>\n",
       "      <td>37.060001</td>\n",
       "      <td>33.020000</td>\n",
       "      <td>35.130001</td>\n",
       "      <td>17672000</td>\n",
       "      <td>35.130001</td>\n",
       "    </tr>\n",
       "    <tr>\n",
       "      <th>2014-05-01</th>\n",
       "      <td>36.259998</td>\n",
       "      <td>37.169998</td>\n",
       "      <td>33.099998</td>\n",
       "      <td>34.650002</td>\n",
       "      <td>20377100</td>\n",
       "      <td>34.650002</td>\n",
       "    </tr>\n",
       "    <tr>\n",
       "      <th>2014-04-01</th>\n",
       "      <td>36.160000</td>\n",
       "      <td>37.299999</td>\n",
       "      <td>32.150002</td>\n",
       "      <td>35.950001</td>\n",
       "      <td>29490300</td>\n",
       "      <td>35.950001</td>\n",
       "    </tr>\n",
       "    <tr>\n",
       "      <th>2014-03-03</th>\n",
       "      <td>37.650002</td>\n",
       "      <td>40.150002</td>\n",
       "      <td>35.049999</td>\n",
       "      <td>35.900002</td>\n",
       "      <td>19714800</td>\n",
       "      <td>35.900002</td>\n",
       "    </tr>\n",
       "    <tr>\n",
       "      <th>2014-02-03</th>\n",
       "      <td>35.939999</td>\n",
       "      <td>39.380001</td>\n",
       "      <td>34.660000</td>\n",
       "      <td>38.669998</td>\n",
       "      <td>15895000</td>\n",
       "      <td>38.669998</td>\n",
       "    </tr>\n",
       "    <tr>\n",
       "      <th>2014-01-02</th>\n",
       "      <td>40.369999</td>\n",
       "      <td>41.720001</td>\n",
       "      <td>34.450001</td>\n",
       "      <td>36.009998</td>\n",
       "      <td>22947000</td>\n",
       "      <td>36.009998</td>\n",
       "    </tr>\n",
       "    <tr>\n",
       "      <th>2013-12-02</th>\n",
       "      <td>37.040001</td>\n",
       "      <td>41.049999</td>\n",
       "      <td>36.250000</td>\n",
       "      <td>40.439999</td>\n",
       "      <td>15105900</td>\n",
       "      <td>40.439999</td>\n",
       "    </tr>\n",
       "    <tr>\n",
       "      <th>2013-11-01</th>\n",
       "      <td>33.150002</td>\n",
       "      <td>37.349998</td>\n",
       "      <td>32.060001</td>\n",
       "      <td>36.980000</td>\n",
       "      <td>16738800</td>\n",
       "      <td>36.980000</td>\n",
       "    </tr>\n",
       "    <tr>\n",
       "      <th>2013-10-01</th>\n",
       "      <td>33.360001</td>\n",
       "      <td>35.060001</td>\n",
       "      <td>31.700001</td>\n",
       "      <td>32.939999</td>\n",
       "      <td>24592600</td>\n",
       "      <td>32.939999</td>\n",
       "    </tr>\n",
       "    <tr>\n",
       "      <th>2013-09-03</th>\n",
       "      <td>27.379999</td>\n",
       "      <td>33.849998</td>\n",
       "      <td>27.370001</td>\n",
       "      <td>33.169998</td>\n",
       "      <td>19355900</td>\n",
       "      <td>33.169998</td>\n",
       "    </tr>\n",
       "    <tr>\n",
       "      <th>2013-08-01</th>\n",
       "      <td>28.350000</td>\n",
       "      <td>28.600000</td>\n",
       "      <td>26.750000</td>\n",
       "      <td>27.120001</td>\n",
       "      <td>12955200</td>\n",
       "      <td>27.120001</td>\n",
       "    </tr>\n",
       "    <tr>\n",
       "      <th>2013-07-01</th>\n",
       "      <td>25.260000</td>\n",
       "      <td>29.830000</td>\n",
       "      <td>24.820000</td>\n",
       "      <td>28.090000</td>\n",
       "      <td>22433900</td>\n",
       "      <td>28.090000</td>\n",
       "    </tr>\n",
       "    <tr>\n",
       "      <th>2013-06-03</th>\n",
       "      <td>26.370001</td>\n",
       "      <td>27.120001</td>\n",
       "      <td>23.820000</td>\n",
       "      <td>25.129999</td>\n",
       "      <td>17054000</td>\n",
       "      <td>25.129999</td>\n",
       "    </tr>\n",
       "    <tr>\n",
       "      <th>2013-05-01</th>\n",
       "      <td>24.670000</td>\n",
       "      <td>27.680000</td>\n",
       "      <td>24.180000</td>\n",
       "      <td>26.299999</td>\n",
       "      <td>18279000</td>\n",
       "      <td>26.299999</td>\n",
       "    </tr>\n",
       "    <tr>\n",
       "      <th>2013-04-01</th>\n",
       "      <td>23.309999</td>\n",
       "      <td>25.370001</td>\n",
       "      <td>22.700001</td>\n",
       "      <td>24.730000</td>\n",
       "      <td>18242700</td>\n",
       "      <td>24.730000</td>\n",
       "    </tr>\n",
       "    <tr>\n",
       "      <th>2013-03-18</th>\n",
       "      <td>21.900000</td>\n",
       "      <td>23.879999</td>\n",
       "      <td>21.870001</td>\n",
       "      <td>23.530001</td>\n",
       "      <td>19777000</td>\n",
       "      <td>23.530001</td>\n",
       "    </tr>\n",
       "  </tbody>\n",
       "</table>\n",
       "</div>"
      ],
      "text/plain": [
       "                 Open       High        Low      Close    Volume  Adj Close\n",
       "Date                                                                       \n",
       "2015-03-02  44.060001  44.709999  41.970001  44.669998  15079000  44.669998\n",
       "2015-02-02  44.430000  45.250000  42.540001  44.279999  14482200  44.279999\n",
       "2015-01-02  50.660000  50.779999  41.799999  43.990002  25550700  43.990002\n",
       "2014-12-01  51.430000  51.680000  48.290001  50.509998  16338000  50.509998\n",
       "2014-11-03  46.049999  52.619999  45.740002  51.740002  25212800  51.740002\n",
       "2014-10-01  40.660000  46.520000  36.200001  46.049999  32909600  46.049999\n",
       "2014-09-02  38.900002  44.009998  37.900002  40.750000  59553900  40.750000\n",
       "2014-08-01  35.689999  38.720001  35.150002  38.509998  14516900  38.509998\n",
       "2014-07-01  35.500000  36.990002  32.930000  35.810001  24392600  35.810001\n",
       "2014-06-02  34.689999  37.060001  33.020000  35.130001  17672000  35.130001\n",
       "2014-05-01  36.259998  37.169998  33.099998  34.650002  20377100  34.650002\n",
       "2014-04-01  36.160000  37.299999  32.150002  35.950001  29490300  35.950001\n",
       "2014-03-03  37.650002  40.150002  35.049999  35.900002  19714800  35.900002\n",
       "2014-02-03  35.939999  39.380001  34.660000  38.669998  15895000  38.669998\n",
       "2014-01-02  40.369999  41.720001  34.450001  36.009998  22947000  36.009998\n",
       "2013-12-02  37.040001  41.049999  36.250000  40.439999  15105900  40.439999\n",
       "2013-11-01  33.150002  37.349998  32.060001  36.980000  16738800  36.980000\n",
       "2013-10-01  33.360001  35.060001  31.700001  32.939999  24592600  32.939999\n",
       "2013-09-03  27.379999  33.849998  27.370001  33.169998  19355900  33.169998\n",
       "2013-08-01  28.350000  28.600000  26.750000  27.120001  12955200  27.120001\n",
       "2013-07-01  25.260000  29.830000  24.820000  28.090000  22433900  28.090000\n",
       "2013-06-03  26.370001  27.120001  23.820000  25.129999  17054000  25.129999\n",
       "2013-05-01  24.670000  27.680000  24.180000  26.299999  18279000  26.299999\n",
       "2013-04-01  23.309999  25.370001  22.700001  24.730000  18242700  24.730000\n",
       "2013-03-18  21.900000  23.879999  21.870001  23.530001  19777000  23.530001"
      ]
     },
     "execution_count": 51,
     "metadata": {},
     "output_type": "execute_result"
    }
   ],
   "source": [
    "YS1315 = pd.read_csv('yahoostocks1315.csv',parse_dates = True,engine ='c',index_col = 0, sep = ',')\n",
    "YS1315"
   ]
  },
  {
   "cell_type": "code",
   "execution_count": 52,
   "metadata": {
    "collapsed": false,
    "deletable": true,
    "editable": true
   },
   "outputs": [
    {
     "data": {
      "text/plain": [
       "nan"
      ]
     },
     "execution_count": 52,
     "metadata": {},
     "output_type": "execute_result"
    }
   ],
   "source": [
    "# Let's say we want to focus on the Adj_Close cateogory:\n",
    "YS1517['Adj Close'].corr(YS1315['Adj Close'],method = 'pearson')"
   ]
  },
  {
   "cell_type": "code",
   "execution_count": 53,
   "metadata": {
    "collapsed": false,
    "deletable": true,
    "editable": true
   },
   "outputs": [
    {
     "data": {
      "text/plain": [
       "0.024018225549581041"
      ]
     },
     "execution_count": 53,
     "metadata": {},
     "output_type": "execute_result"
    }
   ],
   "source": [
    "# Or using the series example, we can compute the correlation between\n",
    "# Series 1 and Series 2 :\n",
    "# The default method is pearson\n",
    "series1.corr(series2, method='pearson')"
   ]
  },
  {
   "cell_type": "markdown",
   "metadata": {
    "deletable": true,
    "editable": true
   },
   "source": [
    "##### Data Ranking"
   ]
  },
  {
   "cell_type": "markdown",
   "metadata": {
    "deletable": true,
    "editable": true
   },
   "source": [
    "The `rank` method produces a data ranking which displays the mean of the ties rank data."
   ]
  },
  {
   "cell_type": "code",
   "execution_count": 54,
   "metadata": {
    "collapsed": false,
    "deletable": true,
    "editable": true
   },
   "outputs": [
    {
     "data": {
      "text/plain": [
       "Date\n",
       "2017-03-01    25.0\n",
       "2017-02-01    24.0\n",
       "2017-01-03    22.0\n",
       "2016-12-01    14.0\n",
       "2016-11-01    16.0\n",
       "2016-10-03    17.0\n",
       "2016-09-01    21.0\n",
       "2016-08-01    19.0\n",
       "2016-07-01    13.0\n",
       "2016-06-01    11.0\n",
       "2016-05-02    12.0\n",
       "2016-04-01     8.0\n",
       "2016-03-01    10.0\n",
       "2016-02-01     3.0\n",
       "2016-01-04     2.0\n",
       "2015-12-01     5.0\n",
       "2015-11-02     6.0\n",
       "2015-10-01     7.0\n",
       "2015-09-01     1.0\n",
       "2015-08-03     4.0\n",
       "2015-07-01     9.0\n",
       "2015-06-01    15.0\n",
       "2015-05-01    20.0\n",
       "2015-04-01    18.0\n",
       "2015-03-18    23.0\n",
       "Name: Adj Close, dtype: float64"
      ]
     },
     "execution_count": 54,
     "metadata": {},
     "output_type": "execute_result"
    }
   ],
   "source": [
    "YS1517['Adj Close'].rank()"
   ]
  },
  {
   "cell_type": "markdown",
   "metadata": {
    "deletable": true,
    "editable": true
   },
   "source": [
    "##### Other Common Methods\n",
    "\n",
    " * `count()`\n",
    " * `sum()`\n",
    " * `mean()`\n",
    " * `median()`\n",
    " * `quantile()`\n",
    " * `std()`\n",
    " * `var()`\n",
    " * and many more"
   ]
  },
  {
   "cell_type": "markdown",
   "metadata": {
    "deletable": true,
    "editable": true
   },
   "source": [
    "#### Application - Calculation of CAPM model\n",
    "\n",
    "Note: The following is inspired by [chiwang](https://github.com/chiwang0503/Pandas-Tutorial/blob/master/Project_Pandas_Tutorial.ipynb)."
   ]
  },
  {
   "cell_type": "markdown",
   "metadata": {
    "deletable": true,
    "editable": true
   },
   "source": [
    "**Captial Asset Pricing Model**\n",
    "\n",
    "The formula for caluclating the expected return of an asset is:\n",
    "$$\\bar{r_a} = r_f + \\beta_a(\\bar{r_m} - r_f)$$\n",
    "\n",
    "where\n",
    "\n",
    "$\\bar{r_f} = \\mathrm{Risk \\ free \\ rate}\\\\\n",
    "\\beta_a = \\mathrm{Beta \\ of \\ the \\ security} \\\\\n",
    "\\bar{r_m} = \\mathrm{Expected \\ market \\ return}$"
   ]
  },
  {
   "cell_type": "markdown",
   "metadata": {
    "deletable": true,
    "editable": true
   },
   "source": [
    "The following example is taken from [investopedia](http://www.investopedia.com/terms/c/capm.asp)."
   ]
  },
  {
   "cell_type": "markdown",
   "metadata": {
    "deletable": true,
    "editable": true
   },
   "source": [
    "\"The risk-free rate is 2% and the beta (risk measure) of a stock is 2. The expected market return over the period is 10%, so that means that the market risk premium is 8% (10% - 2%) after subtracting the risk-free rate from the expected market return.\" \n",
    "\n",
    "Read more: Capital Asset Pricing Model - CAPM Definition | Investopedia http://www.investopedia.com/terms/c/capm.asp#ixzz4boRPrXDp \n",
    "Follow us: Investopedia on Facebook"
   ]
  },
  {
   "cell_type": "markdown",
   "metadata": {
    "deletable": true,
    "editable": true
   },
   "source": [
    "Using the formula given above, we can calculate the expected stock return:\n",
    "\n",
    "$2\\% + 2 * (10\\%-2\\%)$\n",
    "\n",
    "which is equal to\n",
    "\n",
    "$18\\%$"
   ]
  },
  {
   "cell_type": "markdown",
   "metadata": {
    "deletable": true,
    "editable": true
   },
   "source": [
    "In order to calculate $\\beta_a$, we use the following formula:\n",
    "\n",
    "$$\n",
    "\\beta = \\frac{\\mathrm{cov(Stock, Market \\ Returns)}}{\\mathrm{Variance \\ of \\ the \\ market}}\n",
    "$$"
   ]
  },
  {
   "cell_type": "markdown",
   "metadata": {
    "deletable": true,
    "editable": true
   },
   "source": [
    "Some computational tools involves in calculating $\\beta$ are:\n",
    " * `Series.pct_change()` (or DataFrame)\n",
    " * `Series.cov(Series)` (or DataFrame)\n",
    " * `Series.var()` (or DataFrame)"
   ]
  },
  {
   "cell_type": "code",
   "execution_count": 55,
   "metadata": {
    "collapsed": true,
    "deletable": true,
    "editable": true
   },
   "outputs": [],
   "source": [
    "def beta(stock,market_returns):\n",
    "    beta_a = (stock.pct_change()).cov(market_returns.pct_change())/((market_returns.pct_change()).var())\n",
    "    return float(beta_a)"
   ]
  },
  {
   "cell_type": "code",
   "execution_count": 56,
   "metadata": {
    "collapsed": false,
    "deletable": true,
    "editable": true,
    "scrolled": true
   },
   "outputs": [
    {
     "data": {
      "text/plain": [
       "nan"
      ]
     },
     "execution_count": 56,
     "metadata": {},
     "output_type": "execute_result"
    }
   ],
   "source": [
    "beta(YS1517['Adj Close'],YS1315['Adj Close'])"
   ]
  },
  {
   "cell_type": "markdown",
   "metadata": {
    "deletable": true,
    "editable": true
   },
   "source": [
    "In order to calculate the expected return:"
   ]
  },
  {
   "cell_type": "code",
   "execution_count": 57,
   "metadata": {
    "collapsed": true,
    "deletable": true,
    "editable": true
   },
   "outputs": [],
   "source": [
    "def r_a (r_f,b,r_m):\n",
    "    r_a = r_f + b* (r_m - r_f)\n",
    "    return r_a"
   ]
  },
  {
   "cell_type": "markdown",
   "metadata": {
    "deletable": true,
    "editable": true
   },
   "source": [
    "#### Exercise:"
   ]
  },
  {
   "cell_type": "markdown",
   "metadata": {
    "deletable": true,
    "editable": true
   },
   "source": [
    "The risk-free rate is 2% and the beta (risk measure) of a stock is 2. The expected market return over the period is 10%, so that means that the market risk premium is 8% (10% - 2%) after subtracting the risk-free rate from the expected market return. \n",
    "\n",
    "Given that the beta of security is 2, the expected market return rate and the risk free rate are 20% and 5% respectively. Calculate the expected return of the stock."
   ]
  },
  {
   "cell_type": "code",
   "execution_count": null,
   "metadata": {
    "collapsed": true,
    "deletable": true,
    "editable": true
   },
   "outputs": [],
   "source": []
  }
 ],
 "metadata": {
  "kernelspec": {
   "display_name": "Python 3",
   "language": "python",
   "name": "python3"
  },
  "language_info": {
   "codemirror_mode": {
    "name": "ipython",
    "version": 3
   },
   "file_extension": ".py",
   "mimetype": "text/x-python",
   "name": "python",
   "nbconvert_exporter": "python",
   "pygments_lexer": "ipython3",
   "version": "3.5.2"
  }
 },
 "nbformat": 4,
 "nbformat_minor": 2
}
