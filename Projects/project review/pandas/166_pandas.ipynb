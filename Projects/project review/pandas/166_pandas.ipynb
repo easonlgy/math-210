{
 "cells": [
  {
   "cell_type": "markdown",
   "metadata": {
    "deletable": true,
    "editable": true
   },
   "source": [
    "pandas "
   ]
  },
  {
   "cell_type": "code",
   "execution_count": null,
   "metadata": {
    "collapsed": false,
    "deletable": true,
    "editable": true
   },
   "outputs": [],
   "source": [
    "from pandas import DataFrame, read_csv\n",
    "import numpy as np \n",
    "import matplotlib.pyplot as plt \n",
    "import pandas as pd \n",
    "import sys \n",
    "%matplotlib inline "
   ]
  },
  {
   "cell_type": "markdown",
   "metadata": {
    "deletable": true,
    "editable": true
   },
   "source": [
    "### Why did I choose Pandas?\n",
    " I chose this package because I found this contains less programming then other softwars, such as R. Pandas kind of allow people to focus more on research and less on programming, therefore, it is easy to lean, easy to use and easy to maintain. "
   ]
  },
  {
   "cell_type": "markdown",
   "metadata": {
    "collapsed": false,
    "deletable": true,
    "editable": true
   },
   "source": [
    "# What is Pandas? \n",
    "**Pandas** is a programming language for data manuoulation and analysis. It offers data structures and operations for amnioulating numerial tables and time series. Python has always been great for prepping and munging data, but it's never been great for analysis. However, pandas makes Python great for analysis. (see the [documentation](http://pandas.pydata.org/pandas-docs/stable/tutorials.html) ). \n",
    "\n",
    "\n",
    "# Data Structures\n",
    "\n",
    "**Pandas** introduces two new data structures to Python - *Series* and *DataFrame*. Both are built in fucntions of **Numpy**\n",
    "\n",
    "# Our goal\n",
    "\n",
    "This notebook gives you an introduction to DataFram and Time Series. I have also demonstrated how people can determine the outliers in a data.  \n"
   ]
  },
  {
   "cell_type": "markdown",
   "metadata": {
    "deletable": true,
    "editable": true
   },
   "source": [
    "Content:\n",
    "* DataFrame\n",
    "* Outliers\n",
    "* Time Series\n",
    "\n",
    "for more information, please click [here](http://www.gregreda.com/2013/10/26/intro-to-pandas-data-structures/)"
   ]
  },
  {
   "cell_type": "markdown",
   "metadata": {
    "deletable": true,
    "editable": true
   },
   "source": [
    "# Create simple data from python \n"
   ]
  },
  {
   "cell_type": "code",
   "execution_count": null,
   "metadata": {
    "collapsed": true,
    "deletable": true,
    "editable": true
   },
   "outputs": [],
   "source": [
    "# the inital set of  names and money\n",
    "names = ['Bob', 'Jessica', 'Mary', 'John', 'Mel', 'Eason', 'Jerry', 'Andy', 'Amy', 'Tracy', 'May', 'Henry', 'Peter']\n",
    "money = [9681, 1255, 3377, 5578, 8973, 8651,1234,4657,7891]"
   ]
  },
  {
   "cell_type": "code",
   "execution_count": null,
   "metadata": {
    "collapsed": false,
    "deletable": true,
    "editable": true
   },
   "outputs": [],
   "source": [
    "zip? # use to emerge the (two) list together. "
   ]
  },
  {
   "cell_type": "code",
   "execution_count": null,
   "metadata": {
    "collapsed": false,
    "deletable": true,
    "editable": true
   },
   "outputs": [],
   "source": [
    "zip?"
   ]
  },
  {
   "cell_type": "code",
   "execution_count": null,
   "metadata": {
    "collapsed": false,
    "deletable": true,
    "editable": true
   },
   "outputs": [],
   "source": [
    "MoneyDataSet = list(zip(names,money))\n",
    "MoneyDataSet   "
   ]
  },
  {
   "cell_type": "code",
   "execution_count": null,
   "metadata": {
    "collapsed": false,
    "deletable": true,
    "editable": true
   },
   "outputs": [],
   "source": [
    "df = pd.DataFrame(data=MoneyDataSet)  # use the built in function (DataFrame) to convert the information into a table\n",
    "df"
   ]
  },
  {
   "cell_type": "code",
   "execution_count": null,
   "metadata": {
    "collapsed": false,
    "deletable": true,
    "editable": true
   },
   "outputs": [],
   "source": [
    "# lets create names for each column\n",
    "df = pd.DataFrame(data=MoneyDataSet, columns= ['Names', 'Saving'])\n",
    "df\n"
   ]
  },
  {
   "cell_type": "code",
   "execution_count": null,
   "metadata": {
    "collapsed": true,
    "deletable": true,
    "editable": true
   },
   "outputs": [],
   "source": []
  },
  {
   "cell_type": "code",
   "execution_count": null,
   "metadata": {
    "collapsed": false,
    "deletable": true,
    "editable": true
   },
   "outputs": [],
   "source": [
    "df.to_csv #export the MoneyDataSet data to a csv file"
   ]
  },
  {
   "cell_type": "code",
   "execution_count": null,
   "metadata": {
    "collapsed": false,
    "deletable": true,
    "editable": true
   },
   "outputs": [],
   "source": [
    "df.to_csv('account_list.csv', index=False,header=False) \n",
    "#export the Moneydata to a csv file, file name is 'account_list.csv'\n",
    " #index and hearder False, means that im not exporting the index and heaerder names. \n",
    "# so in this case, iam not exporting Names and Savings, but just the numbercial data itself\n"
   ]
  },
  {
   "cell_type": "code",
   "execution_count": null,
   "metadata": {
    "collapsed": true,
    "deletable": true,
    "editable": true
   },
   "outputs": [],
   "source": []
  },
  {
   "cell_type": "markdown",
   "metadata": {
    "deletable": true,
    "editable": true
   },
   "source": [
    "# Get Data \n",
    "*from the ones that you just created perivously "
   ]
  },
  {
   "cell_type": "code",
   "execution_count": null,
   "metadata": {
    "collapsed": false,
    "deletable": true,
    "editable": true
   },
   "outputs": [],
   "source": []
  },
  {
   "cell_type": "code",
   "execution_count": null,
   "metadata": {
    "collapsed": false,
    "deletable": true,
    "editable": true
   },
   "outputs": [],
   "source": []
  },
  {
   "cell_type": "code",
   "execution_count": null,
   "metadata": {
    "collapsed": false,
    "deletable": true,
    "editable": true
   },
   "outputs": [],
   "source": [
    "dataset = pd.read_csv('account_list.csv')\n",
    "dataset"
   ]
  },
  {
   "cell_type": "markdown",
   "metadata": {
    "deletable": true,
    "editable": true
   },
   "source": [
    "# setting the index column to Name "
   ]
  },
  {
   "cell_type": "code",
   "execution_count": null,
   "metadata": {
    "collapsed": false,
    "deletable": true,
    "editable": true
   },
   "outputs": [],
   "source": [
    "pd.read_csv('account_list.csv' , index_col = 'Name' , names=['Name', 'Saving'])"
   ]
  },
  {
   "cell_type": "markdown",
   "metadata": {
    "deletable": true,
    "editable": true
   },
   "source": [
    "\n"
   ]
  },
  {
   "cell_type": "code",
   "execution_count": null,
   "metadata": {
    "collapsed": false,
    "deletable": true,
    "editable": true
   },
   "outputs": [],
   "source": [
    "pd.read_csv('account_list.csv' , names=['Name', 'Saving '])"
   ]
  },
  {
   "cell_type": "markdown",
   "metadata": {
    "deletable": true,
    "editable": true
   },
   "source": [
    "# Prepare data"
   ]
  },
  {
   "cell_type": "markdown",
   "metadata": {
    "deletable": true,
    "editable": true
   },
   "source": [
    "The ** Name** column is just composed of alpha numberic strings, so we wont have to worry about that. On the other hand, the ** Saving** column contains integers representing the total money one has. \n",
    "\n"
   ]
  },
  {
   "cell_type": "markdown",
   "metadata": {
    "deletable": true,
    "editable": true
   },
   "source": [
    "check data type of the columns"
   ]
  },
  {
   "cell_type": "code",
   "execution_count": null,
   "metadata": {
    "collapsed": false,
    "deletable": true,
    "editable": true
   },
   "outputs": [],
   "source": [
    "df.dtypes "
   ]
  },
  {
   "cell_type": "markdown",
   "metadata": {
    "deletable": true,
    "editable": true
   },
   "source": [
    "check data type of Births column \n"
   ]
  },
  {
   "cell_type": "code",
   "execution_count": null,
   "metadata": {
    "collapsed": false,
    "deletable": true,
    "editable": true
   },
   "outputs": [],
   "source": [
    "df.Saving.dtype "
   ]
  },
  {
   "cell_type": "markdown",
   "metadata": {
    "deletable": true,
    "editable": true
   },
   "source": [
    "\n"
   ]
  },
  {
   "cell_type": "markdown",
   "metadata": {
    "deletable": true,
    "editable": true
   },
   "source": [
    "# Analyze Data"
   ]
  },
  {
   "cell_type": "markdown",
   "metadata": {
    "deletable": true,
    "editable": true
   },
   "source": [
    "to find the richest name with the highest amount of money, we can do: \n",
    "\n",
    "* sort the dataframe and select the top row\n",
    "* use the **max()** attribute to find the maximum value i\n",
    "n the specific column  "
   ]
  },
  {
   "cell_type": "markdown",
   "metadata": {
    "deletable": true,
    "editable": true
   },
   "source": [
    "#### Method 1"
   ]
  },
  {
   "cell_type": "code",
   "execution_count": null,
   "metadata": {
    "collapsed": false,
    "deletable": true,
    "editable": true
   },
   "outputs": [],
   "source": [
    "Sorted = df.sort_values(['Saving'], ascending=False)\n",
    "Sorted.head() #greatest to lowest \n"
   ]
  },
  {
   "cell_type": "code",
   "execution_count": null,
   "metadata": {
    "collapsed": false,
    "deletable": true,
    "editable": true
   },
   "outputs": [],
   "source": [
    "Sorted.head(2)  #the first 2 "
   ]
  },
  {
   "cell_type": "markdown",
   "metadata": {
    "deletable": true,
    "editable": true
   },
   "source": [
    "#### Method  2"
   ]
  },
  {
   "cell_type": "code",
   "execution_count": null,
   "metadata": {
    "collapsed": false,
    "deletable": true,
    "editable": true
   },
   "outputs": [],
   "source": [
    "df['Saving'].max()"
   ]
  },
  {
   "cell_type": "markdown",
   "metadata": {
    "deletable": true,
    "editable": true
   },
   "source": []
  },
  {
   "cell_type": "markdown",
   "metadata": {
    "deletable": true,
    "editable": true
   },
   "source": [
    "## Present Data\n",
    "\n"
   ]
  },
  {
   "cell_type": "code",
   "execution_count": null,
   "metadata": {
    "collapsed": false,
    "deletable": true,
    "editable": true
   },
   "outputs": [],
   "source": [
    "df['Saving'].plot.bar()\n",
    "print('The richist people on earch')\n",
    "df.sort_values(by='Saving', ascending=False) # top to bottom"
   ]
  },
  {
   "cell_type": "code",
   "execution_count": null,
   "metadata": {
    "collapsed": false,
    "deletable": true,
    "editable": true
   },
   "outputs": [],
   "source": []
  },
  {
   "cell_type": "markdown",
   "metadata": {
    "deletable": true,
    "editable": true
   },
   "source": [
    "# Outliers \n",
    "\n",
    "\n"
   ]
  },
  {
   "cell_type": "code",
   "execution_count": null,
   "metadata": {
    "collapsed": true,
    "deletable": true,
    "editable": true
   },
   "outputs": [],
   "source": [
    "\n",
    "import pandas as pd\n",
    "import sys "
   ]
  },
  {
   "cell_type": "markdown",
   "metadata": {
    "deletable": true,
    "editable": true
   },
   "source": [
    "In order to find the outliers, first we must go over **mean**, **variance** , **standard deviation** and ** 1.96 standard deviation ** \n"
   ]
  },
  {
   "cell_type": "markdown",
   "metadata": {
    "deletable": true,
    "editable": true
   },
   "source": [
    "### Mean\n",
    "\n",
    "It is the average of the numbers \n",
    "\n",
    "*How???* \n",
    "\n",
    "** add up** all the numbers, then **divide by how many** numbers there are. \n",
    "\n",
    "Example:\n",
    "\n",
    "$$ \n",
    "6, 11 ,7\n",
    "$$\n",
    "\n",
    "$$mean = \\frac{(6+11+7)}{3} = 8$$"
   ]
  },
  {
   "cell_type": "markdown",
   "metadata": {
    "deletable": true,
    "editable": true
   },
   "source": [
    "### Variance \n",
    "The average of the ** Squared** differenes from the Mean. \n",
    "\n",
    "Symbol: $\\sigma^2$\n",
    "\n",
    "*HOW???* \n",
    "\n",
    "* work out the mean \n",
    "\n",
    "* then for each number: subtract the mean and square the reuslt (the squared difference)\n",
    "\n",
    "* then work out the average of those squared differences \n",
    "\n",
    "Example:\n",
    "\n",
    "$$\n",
    "600,470,170,430,300\n",
    "$$\n",
    "\n",
    "$$ Mean = \\frac{600+470+170+430+300}{5} = \\frac{1970}{5} = 394$$ \n",
    "\n",
    "$$ Variance: \\sigma^2 = \\frac{(600-394)^2+(470-394)^2+(170-394)^2+(430-394)^2+(300-394)^2}{5} $$\n",
    "\n",
    "$$ variance  = \\frac{108520}{5} = 21704 $$\n",
    "\n"
   ]
  },
  {
   "cell_type": "markdown",
   "metadata": {
    "deletable": true,
    "editable": true
   },
   "source": [
    "\n",
    "### Standard Deviation \n",
    "\n",
    "It is a measure of **how spread out numbers are**. \n",
    "\n",
    "It is the *square root of* the *Variance*.  \n",
    "\n",
    "Symbol : $\\sigma$\n",
    "\n",
    "$$\n",
    "\\sigma = \\sqrt{\\frac{1}{N} \\sum_{i=1}^N (x_i-\\mu)^2}\n",
    "$$\n",
    "\n",
    "* $\\mu$ is mean, \n",
    "* $x_i$ = the individual x values,  \n",
    "* $N$ = the number of the individual x values \n",
    "\n",
    "Continuous from the perivous example:\n",
    "\n",
    "$$ \\sqrt(21704)$$"
   ]
  },
  {
   "cell_type": "markdown",
   "metadata": {
    "deletable": true,
    "editable": true
   },
   "source": [
    "### 1.96 standard deviation (need explanation...........)\n",
    "\n",
    "95% of the area under the normal distribtion lies within 1.96 standard deviations of the mean. 1.96 is the approximate value of the 97.5 percentile point of the normal distribution. \n",
    "\n",
    "\n",
    "![pic](https://upload.wikimedia.org/wikipedia/en/b/bf/NormalDist1.96.png)\n",
    "\n",
    "\n"
   ]
  },
  {
   "cell_type": "markdown",
   "metadata": {
    "deletable": true,
    "editable": true
   },
   "source": [
    "Lets use our money data for analysis\n",
    "\n",
    "\n",
    "in this case, we determine the outliers by setting wether the x mean is in the 97.5 % of the normal distribution. "
   ]
  },
  {
   "cell_type": "code",
   "execution_count": null,
   "metadata": {
    "collapsed": false,
    "deletable": true,
    "editable": true
   },
   "outputs": [],
   "source": [
    "\n",
    "#make a copy of the original df\n",
    "\n",
    "newdf = df.copy()\n",
    "newdf['x-mean'] = abs(   newdf['Saving'] - newdf['Saving'].mean()   )\n",
    "newdf['1.96 std'] = 1.96*newdf['Saving'].std()\n",
    "newdf['Outilers'] = newdf['x-mean'] > newdf['1.96 std']\n",
    "newdf\n"
   ]
  },
  {
   "cell_type": "markdown",
   "metadata": {
    "collapsed": true,
    "deletable": true,
    "editable": true
   },
   "source": [
    "x_mean = $ \\left|(9681+1255+3377+5578+8973+8651+1234+4657+7891) - \\frac{(9681+1255+3377+5578+8973+8651+1234+4657+7891)}{9}\\right|$ "
   ]
  },
  {
   "cell_type": "code",
   "execution_count": null,
   "metadata": {
    "collapsed": true,
    "deletable": true,
    "editable": true
   },
   "outputs": [],
   "source": []
  },
  {
   "cell_type": "code",
   "execution_count": null,
   "metadata": {
    "collapsed": true,
    "deletable": true,
    "editable": true
   },
   "outputs": [],
   "source": []
  },
  {
   "cell_type": "markdown",
   "metadata": {
    "collapsed": true,
    "deletable": true,
    "editable": true
   },
   "source": [
    "## time series (another way of creating data)\n"
   ]
  },
  {
   "cell_type": "markdown",
   "metadata": {
    "deletable": true,
    "editable": true
   },
   "source": [
    "How does it work?\n",
    "\n",
    "* generate sequences of fixed frequently dates and time spans\n",
    "* conform or convert time series to a particular frequency\n",
    "* compute \"relative\" dates based on various non standard time increments (eg. starting 2015-01-01 forward until next year)"
   ]
  },
  {
   "cell_type": "code",
   "execution_count": null,
   "metadata": {
    "collapsed": false,
    "deletable": true,
    "editable": true
   },
   "outputs": [],
   "source": [
    "dates = pd.date_range('20150101', periods=6) # 6rows\n",
    "table = pd.DataFrame(np.random.randn(6,4), index=dates, columns=list('ABCD'))\n",
    "table "
   ]
  },
  {
   "cell_type": "code",
   "execution_count": null,
   "metadata": {
    "collapsed": false,
    "deletable": true,
    "editable": true
   },
   "outputs": [],
   "source": [
    "time = pd.date_range('1/1/2015',periods = 10, freq= 'S')\n",
    "time"
   ]
  },
  {
   "cell_type": "code",
   "execution_count": null,
   "metadata": {
    "collapsed": false,
    "deletable": true,
    "editable": true
   },
   "outputs": [],
   "source": [
    "# lets use the function DataFrame to put our 'time' into a table \n",
    "time_table = pd.DataFrame(time, columns=['time'])\n",
    "time_table"
   ]
  },
  {
   "cell_type": "code",
   "execution_count": null,
   "metadata": {
    "collapsed": true,
    "deletable": true,
    "editable": true
   },
   "outputs": [],
   "source": []
  }
 ],
 "metadata": {
  "kernelspec": {
   "display_name": "Python 3",
   "language": "python",
   "name": "python3"
  },
  "language_info": {
   "codemirror_mode": {
    "name": "ipython",
    "version": 3
   },
   "file_extension": ".py",
   "mimetype": "text/x-python",
   "name": "python",
   "nbconvert_exporter": "python",
   "pygments_lexer": "ipython3",
   "version": "3.6.0"
  }
 },
 "nbformat": 4,
 "nbformat_minor": 2
}
