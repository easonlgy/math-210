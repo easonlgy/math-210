{
 "cells": [
  {
   "cell_type": "markdown",
   "metadata": {
    "deletable": true,
    "editable": true
   },
   "source": [
    "# MATH 210 Project I\n",
    "\n",
    "## Solving  Mathematical optimization problems with `scipy.optimize`\n"
   ]
  },
  {
   "cell_type": "markdown",
   "metadata": {
    "deletable": true,
    "editable": true
   },
   "source": [
    "# 1. Introduction"
   ]
  },
  {
   "cell_type": "markdown",
   "metadata": {
    "deletable": true,
    "editable": true
   },
   "source": [
    "The package I have chosen is ** `scipy.optimize` **.\n",
    "Generally speaking it helps us to solve problems on Mathematical optimization which is to find a best element (with regard to some criterion) from some set of available alternatives.\n",
    "In particular, it helps us to maximize or minimize a real function by systematically choosing input values from within an allowed set and computing the value of the function.\n",
    "I chose this package because it can be widely widely used in many areas of Mathematics, including Calculus and Linear programming. After seeing [this vedio](https://www.youtube.com/watch?v=_oS_LjKse38) you will realize that optimization appears almost everywhere.\n",
    "\n",
    "## Learing Outcomes\n",
    "\n",
    "My project mainly focuses on the function [** `scipy.optimize.minimize` **](https://docs.scipy.org/doc/scipy/reference/generated/scipy.optimize.minimize.html) which can minimize a scalar function of one or more variables and [** `scipy.optimize.linprog` ** ](https://docs.scipy.org/doc/scipy-0.15.1/reference/generated/scipy.optimize.linprog.html)  which minimizes a linear objective function subject to linear equality and inequality constraints.\n",
    "From my project, you will be able to realize the extensive usage of mathematical optimization and be able to  use the funtions in this package to solve certain mathematical optimization problems.\n",
    "\n",
    "Let us get started!"
   ]
  },
  {
   "cell_type": "markdown",
   "metadata": {
    "collapsed": true,
    "deletable": true,
    "editable": true
   },
   "source": [
    "### First import the packge"
   ]
  },
  {
   "cell_type": "code",
   "execution_count": null,
   "metadata": {
    "collapsed": true,
    "deletable": true,
    "editable": true
   },
   "outputs": [],
   "source": [
    "import scipy.optimize as opt\n",
    "import numpy as np\n",
    "import matplotlib.pyplot as plt\n",
    "%matplotlib inline"
   ]
  },
  {
   "cell_type": "markdown",
   "metadata": {
    "deletable": true,
    "editable": true
   },
   "source": [
    "# 2. `Scipy.optimize.minimize ` \n",
    "\n",
    "** `scipy.optimize.minimize`** is a function from the package, which is used to minimize of scalar function of one or more variables under certain constraints.\n",
    "\n",
    "** `scipy.optimize.minimize(fun, x0, args=(), method=None, jac=None, hess=None, hessp=None, bounds=None, constraints=(), tol=None, callback=None, options=None)[source]` **\n",
    "\n",
    "#### Input:\n",
    "\n",
    "The first input is the objective funtion which is the funtion we want to minimize.\n",
    "\n",
    "The second input is just an initial guess[an array] of the soluion. We can take any reasonable guess.\n",
    "\n",
    "The third one is the constraints( inequality or equality) which should be the form of [dictionary](https://www.tutorialspoint.com/python/python_dictionary.htm) or sequence of dictionary.\n",
    "\n",
    "The fourth one is the bounds of the variables which is a sequence including the bound for each parameter.\n",
    "\n",
    "Other inputs are optional and not very important. See [documentation](https://docs.scipy.org/doc/scipy-0.18.1/reference/generated/scipy.optimize.minimize.html#scipy.optimize.minimize) for more information)\n",
    "\n",
    "*Note the default solver is Sequential Least SQuares Programming (SLSQP) because we have constraints. There are many other choises (also see [documentation](https://docs.scipy.org/doc/scipy-0.18.1/reference/generated/scipy.optimize.minimize.html#scipy.optimize.minimize) for more information).*\n",
    "\n",
    "#### output:\n",
    "The output includes the minimum of the objective value and corresponding values of the variables.\n",
    "\n",
    "Now, let us learn how to use this function through an example!"
   ]
  },
  {
   "cell_type": "markdown",
   "metadata": {
    "collapsed": true,
    "deletable": true,
    "editable": true
   },
   "source": [
    "### Example 1\n",
    "consider the following problem:\n",
    "$$ \\rm{minimize}  \\space x_1x_2(x_3+x_4)+x_2x_3$$\n",
    "$$ \\rm{subject} \\space \\rm{to}\\\\\n",
    "x_1x_2x_3x_4^2 \\geq 30 \\\\\n",
    "x_1^2 + x_2^2 + x_3^2 + x_4^2 = 50\\\\\n",
    "0 \\leq x_1,x_2,x_3,x_4 \\leq10\n",
    "$$\n"
   ]
  },
  {
   "cell_type": "markdown",
   "metadata": {
    "collapsed": true,
    "deletable": true,
    "editable": true
   },
   "source": [
    "#### solution:\n"
   ]
  },
  {
   "cell_type": "code",
   "execution_count": null,
   "metadata": {
    "collapsed": true,
    "deletable": true,
    "editable": true
   },
   "outputs": [],
   "source": [
    "def f(x):\n",
    "    #define the objective funtion\n",
    "    return x[0]*x[1]*(x[2]+x[3])+x[1]*x[2]\n",
    "def cons1(x):\n",
    "    #def constraint 1 which is inequality and the default is >= 0,in another word, we want x_1*x_2*x_3*x_4^2-30>=0\n",
    "    #so the constraint has following form\n",
    "    return x[0]*x[1]*x[2]*x[3]**2-30\n",
    "def cons2(x):\n",
    "    #def constraint 2 which is equality\n",
    "    return x[0]**2 + x[1]**2+ x[2]**2+ x[3]**2-50\n",
    "\n",
    "# make these contraints into dictionary\n",
    "con1 = {'type':'ineq', 'fun': cons1}\n",
    "con2 = {'type':'eq', 'fun': cons2}\n",
    "cons = [con1,con2]\n",
    "#the initial guess\n",
    "x_0 = [1,1,1,1]\n",
    "#set up the bounds of each variable which are the same in this case\n",
    "bd = (0.0,10.0)\n",
    "#bds is a squence including all bounds for each variable\n",
    "bds = [bd,bd,bd,bd]"
   ]
  },
  {
   "cell_type": "code",
   "execution_count": null,
   "metadata": {
    "collapsed": false,
    "deletable": true,
    "editable": true,
    "scrolled": true
   },
   "outputs": [],
   "source": [
    "sol = opt.minimize(f,x_0,bounds=bds,constraints=cons)\n",
    "#extract the minimum of the objective funtion and corresponding values of variable from the output\n",
    "print(sol.fun)\n",
    "print(sol.x)"
   ]
  },
  {
   "cell_type": "markdown",
   "metadata": {
    "deletable": true,
    "editable": true
   },
   "source": [
    "Therefore, the minimum of the objective funtion is 2.80896590278 and it is achieved when $x_1 = 1.93689476, \\space x_2 = 0.13039616 ,\\space x_3 = 3.48413313, \\space x_4 = 5.83885707 $ ."
   ]
  },
  {
   "cell_type": "markdown",
   "metadata": {
    "deletable": true,
    "editable": true
   },
   "source": [
    "### Example 2 - Hölder's inequality \n",
    "`Scipy.optimize.minimize ` can be used to prove the key step of the proof of the [Hölder's inequality](https://en.wikipedia.org/wiki/Hölder%27s_inequality) which is useful in calculus, measure theory,etc.\n",
    "\n",
    "** Hölder's inequality: **\n",
    "\n",
    "If $S$ is a measurable subset of $\\boldsymbol{R^n}$ with the Lebesgue measure, $p,q > 0, \\space \\frac {1} {p} + \\frac {1} {q} = 1$and $f$ and $g$ are measurable real- or complex-valued functions on $S$, then \n",
    "$$\\int_{S} |{f(x)g(x)|} dx \\leq \\left(  \\int_{S} |f(x)|^p dx  \\right)^{1/p} \\left(  \\int_{S} |g(x)|^q dx  \\right)^{1/q} $$\n",
    "\n",
    "The proof of ** Hölder's inequality ** includes the proof of following proposition:\n",
    "\n",
    "Given $p,q > 0, \\space \\frac {1} {p} + \\frac {1} {q} = 1$, for any $ u,v \\geq 0$ ,we have $uv \\leq \\frac {u^p} {p} + \\frac {v^q} {q}$\n",
    "\n"
   ]
  },
  {
   "cell_type": "markdown",
   "metadata": {
    "deletable": true,
    "editable": true
   },
   "source": [
    "Prove the proposition by using  ** `Scipy.optimize.minimize ` **"
   ]
  },
  {
   "cell_type": "code",
   "execution_count": null,
   "metadata": {
    "collapsed": false,
    "deletable": true,
    "editable": true
   },
   "outputs": [],
   "source": [
    "def f(x):\n",
    "    #the objective function with x[0]=u,x[1]=v,x[2]=p,x[3]=q\n",
    "    return x[0]**x[2]/x[2] + x[1]**x[3]/x[3] - x[0]*x[1]\n",
    "def cons(x):\n",
    "    #the constaint there is only one in this case\n",
    "    return 1/x[2] + 1/x[3] == 1\n",
    "#make it into dict\n",
    "con = {'type': 'eq', 'fun': cons}\n",
    "#initial guess\n",
    "x_0 = [0,0,2,2]\n",
    "#the bound for u,v,p,q\n",
    "bd = (0.0,np.inf)\n",
    "#bds is a squence including all bounds for each variable\n",
    "bds = [bd,bd,bd,bd]"
   ]
  },
  {
   "cell_type": "code",
   "execution_count": null,
   "metadata": {
    "collapsed": false,
    "deletable": true,
    "editable": true
   },
   "outputs": [],
   "source": [
    "sol = opt.minimize(f,x_0,bounds=bds,constraints=con)\n",
    "print(sol.fun)"
   ]
  },
  {
   "cell_type": "markdown",
   "metadata": {
    "deletable": true,
    "editable": true
   },
   "source": [
    "** `Scipy.optimize.minimize ` ** tells us that the minimum of the funtion $uv \\leq \\frac {u^p} {p} + \\frac {v^q} {q} - uv$ is 0 when $p,q > 0, \\space \\frac {1} {p} + \\frac {1} {q} = 1,\\space u,v \\geq 0$. Therefore ,the proposition is proved. "
   ]
  },
  {
   "cell_type": "markdown",
   "metadata": {
    "deletable": true,
    "editable": true
   },
   "source": [
    "# 3. `scipy.optimize.linprog`"
   ]
  },
  {
   "cell_type": "markdown",
   "metadata": {
    "deletable": true,
    "editable": true
   },
   "source": [
    "### Introduction\n",
    "[Linear programming](https://en.wikipedia.org/wiki/Linear_programming) is a technique for the optimization of a linear objective function, subject to linear equality and linear inequality constraints. The feasible region(points that satisfy the contrainsts) is [a convex polytope](https://en.wikipedia.org/wiki/Convex_polytope), which is a set defined as the intersection of finitely many half spaces, each of which is defined by a linear inequality. Here is a pictorial representation of a simple linear program with two variables and six inequalities:![LP](https://upload.wikimedia.org/wikipedia/commons/7/70/Linear_optimization_in_a_2-dimensional_polytope.svg)\n",
    "\n",
    "The yellow part is the feasible region, black lines are constraints, the red line is the level set of the objective funtion and the arrow denotes the direction in which we are optimizing.\n",
    "\n",
    "Linear programming can be applied to [various fields of study](http://www.yourarticlelibrary.com/linear-programming/applications-of-linear-programming-for-solving-business-problems-economics-2/28946/). It is widely used in business and economics, and is also utilized for some engineering problems. If you are interested in the subject, you can take [Math340](https://courses.students.ubc.ca/cs/main?pname=subjarea&tname=subjareas&req=3&dept=MATH&course=340) at UBC to learn more about it."
   ]
  },
  {
   "cell_type": "markdown",
   "metadata": {
    "deletable": true,
    "editable": true
   },
   "source": [
    "### Standard Form\n",
    "Linear programs can always expressed in [canonical form](https://en.wikipedia.org/wiki/Canonical_form) as following:\n",
    "\n",
    "$$\\rm{maximize} \\space \\boldsymbol{c^T}\\boldsymbol{x}$$\n",
    "$$\\rm{subject} \\space to \\space  A\\boldsymbol{x} \\leq \\boldsymbol{b}$$\n",
    "$$\\rm{and} \\space \\boldsymbol{x} \\leq 0$$\n",
    "\n",
    "where $\\boldsymbol{x}$ represents the vector of variables (to be determined), $\\boldsymbol{c}$ and $\\boldsymbol{b}$ are vectors of (known) coefficients, A is a (known) matrix of coefficients.\n",
    "\n",
    "In this case, $\\boldsymbol{c^T}\\boldsymbol{x}$ is the the objective function. The inequalities $A\\boldsymbol{x} \\leq \\boldsymbol{b}$ and $\\boldsymbol{x} \\leq 0$ are the constraints.\n"
   ]
  },
  {
   "cell_type": "markdown",
   "metadata": {
    "deletable": true,
    "editable": true
   },
   "source": [
    "### Fundamental Theorem of Linear Programming"
   ]
  },
  {
   "cell_type": "markdown",
   "metadata": {
    "deletable": true,
    "editable": true
   },
   "source": [
    "All Linear Programming problems obey the [Fundamental Theorem of Linear Programming](https://www.math.ubc.ca/~anstee/math340/340lptheorems.pdf) which is:\n",
    "A linear program satisfies exactly one of the following:\n",
    "#1 The LP is infeasible (i.e. has no feasible solution).\n",
    "#2 The LP has an optimal solution.(i.e. maximum or minimum of the objective funtion is achieved)\n",
    "#3 The LP is unbounded (i.e. the objective funtion goes to infinity or negative infinity)\n",
    "#4 If there is a feasible solution then there is a basic feasible solution and if there is an optimal solution then there is a basic feasible solution which is optimal.\n",
    "\n"
   ]
  },
  {
   "cell_type": "markdown",
   "metadata": {
    "deletable": true,
    "editable": true
   },
   "source": [
    "### `scipy.optimize.linprog`"
   ]
  },
  {
   "cell_type": "markdown",
   "metadata": {
    "deletable": true,
    "editable": true
   },
   "source": [
    "The funtion ** `scipy.optimize.linprog ` ** minimizes a linear objective function subject to linear equality and inequality constraints. It is given below, and you can see [documentation](https://docs.scipy.org/doc/scipy/reference/generated/scipy.optimize.linprog.html#scipy.optimize.linprog) for more information\n",
    "\n",
    "** `scipy.optimize.linprog(c, A_ub=None, b_ub=None, A_eq=None, b_eq=None, bounds=None, method='simplex', callback=None, options=None)` **\n",
    "\n",
    "#### Input:\n",
    "The first input is an 1-D array $\\boldsymbol{c}$ which is the coefficients of the linear objective function to be minimized.\n",
    "\n",
    "The second input is an 2-D array A (i.e. a Matrix) which gives the values of the upper-bound inequality constraints at $\\boldsymbol{x}$ when it is multiplied by $\\boldsymbol{x}$\n",
    "\n",
    "The third input is an 1-D array $\\boldsymbol{b}$ that represents the upper-bound of each inequality constraint (row) in A.\n",
    "\n",
    "\n",
    "*Note: 1. the the letters I am using for the inputs correspond to the letter I introduced in Standard Form. 2. there are also optional inputs which are not important under the standard form. You can see [documentation](https://docs.scipy.org/doc/scipy/reference/generated/scipy.optimize.linprog.html#scipy.optimize.linprog) or enter `scipy.optimize.linprog?` for more information.*\n",
    "\n",
    "#### Output:\n",
    "The output tells us whether the Linear programming problem is unfeasible, unbounded or has optimal solution and inludes the optimal value(if it exists). "
   ]
  },
  {
   "cell_type": "markdown",
   "metadata": {
    "deletable": true,
    "editable": true
   },
   "source": [
    "### Example1\n",
    "Let us work out a real example to learn how to use the funtion.\n",
    "\n",
    "A small company manufactures two electronic components, plastic cases for USB drives with two ports and  cases with one port. Each two-port case takes 2 hours to assemble whereas a one-port case requires 1 hour. There are maximum of 50 hours of labor dedicated for the day. The cost of materials for two-pro case is 1 dollar. The material for a one-port case costs 2 dollars. Production only allows a maximum of 70 dollars per day. Each two case-port earns a profit of 4 dollars and each one-port case 5 dollars. Find the numbers of two-port cases and one-port cases produced that will maximize the profit."
   ]
  },
  {
   "cell_type": "markdown",
   "metadata": {
    "deletable": true,
    "editable": true
   },
   "source": [
    "### Solution:\n",
    "#### STEP 1 - Translate this problem into Mathmetical Language\n",
    "Let $x_1$ be the number of two-port cases we will produce and $x_2$ be the number of one-port cases we will produce.\n",
    "This is problem is asking as to maximize $5x_1+4x_2$ under the constraints $x_1+2x_2 \\leq 50$  (labor)  and  $2x_1+x_2 \\leq 70$ (produciton costs)"
   ]
  },
  {
   "cell_type": "markdown",
   "metadata": {
    "deletable": true,
    "editable": true
   },
   "source": [
    "#### STEP 2 - Transform to Standard form of Linear Programming"
   ]
  },
  {
   "cell_type": "markdown",
   "metadata": {
    "deletable": true,
    "editable": true
   },
   "source": [
    "$$\\rm{maximize} \\space {\\begin{bmatrix} 5 & 4 \\end{bmatrix}}^T \\begin{bmatrix} x_1 & x_2 \\end{bmatrix}$$ \n",
    "\n",
    "$$\\rm{subject} \\space to \\space  \\begin{bmatrix} 1 & 2 \\\\2 & 1 \\end{bmatrix} \\begin{bmatrix} x_1\\\\x_2 \\end{bmatrix} \\leq \\begin{bmatrix} 50\\\\70 \\end{bmatrix} $$\n",
    "\n",
    "$$\\rm{and} \\space x_1 \\geq 0 , x_2 \\geq 0 $$"
   ]
  },
  {
   "cell_type": "markdown",
   "metadata": {
    "deletable": true,
    "editable": true
   },
   "source": [
    "#### STEP 3 - Use `scipy.optimize.linprog` to find the solution"
   ]
  },
  {
   "cell_type": "code",
   "execution_count": null,
   "metadata": {
    "collapsed": false,
    "deletable": true,
    "editable": true
   },
   "outputs": [],
   "source": [
    "# Note we are using [-5,-4] instead of [5,4] because the scipy.optimize.linprog can only give us minimized value\n",
    "# but we want to maximize the objective funtion. \n",
    "c = [-5,-4]\n",
    "A = np.array([[1,2],[2,1]])\n",
    "b = [50,70]\n",
    "sol = opt.linprog(c,A,b)\n",
    "print (sol)"
   ]
  },
  {
   "cell_type": "markdown",
   "metadata": {
    "deletable": true,
    "editable": true
   },
   "source": [
    "#### STEP 4 - Interpret the output\n",
    "The output tells us that Optimization is achieved. And the optimal value is -190.\n",
    "Recall we are using the negative coefficients of the objective funtion. So the maximum we want is just minus the optimal solution.(i.e 190)\n",
    "Moreoever, it tells us the optimization is achieved when x = [30,10], i.e. $x_1 = 30, x_2 = 10$.\n",
    "Therefore, in order to maximize the profit,190 dollars, we need to produce 30 one-port cases and 10 two-port cases."
   ]
  },
  {
   "cell_type": "markdown",
   "metadata": {
    "deletable": true,
    "editable": true
   },
   "source": [
    "### Example2 (higher dimensions)\n",
    "With the help of `scipy.optimize.linprog`, we can solve Liear programming problems of higher dimensions which are usually not easy to solve by hand. For example,\n",
    "\n",
    "$$\\rm{maximize} \\space 5x_1 + 6x_2 - 9x_3 + 8x_4$$ \n",
    "\n",
    "$$ \\rm{subject} \\space \\rm{to}\\\\\n",
    " 2x_1 + x_2 + x_3 + x_4\\leq 14\\\\\n",
    " 4x_1 + 2x_2 + 3x_3 + x_4 \\leq 28\\\\\n",
    " 2x_1 + 5x_2 + 5x_3 + x_4 \\leq 30 \\\\\n",
    " x_1 \\space , x_2 \\space x_3 \\space x_4 \\geq 0\n",
    "$$"
   ]
  },
  {
   "cell_type": "code",
   "execution_count": null,
   "metadata": {
    "collapsed": false,
    "deletable": true,
    "editable": true
   },
   "outputs": [],
   "source": [
    "c = [-5,-6,9,-8]\n",
    "A = np.array([[2,1,1,1],[4,2,3,1],[2,5,5,1]])\n",
    "b = [14,28,30]\n",
    "sol = opt.linprog(c,A,b)\n",
    "print(sol.fun)\n",
    "print(sol.x)"
   ]
  },
  {
   "cell_type": "markdown",
   "metadata": {
    "deletable": true,
    "editable": true
   },
   "source": [
    "Based on the output, we know that this Linear programming problem has an optimal solution and the optimal solution is 112 achieved when $x_1,x_2,x_3= 0, x_4=14, x_5 = 0, x_6 = 14, x_7 = 16$ where $x_5,x_6,x_7$ are slack variables introduced in the algorithm."
   ]
  },
  {
   "cell_type": "markdown",
   "metadata": {
    "deletable": true,
    "editable": true
   },
   "source": [
    "#### Check our answer by using  `Scipy.optimize.minimize ` "
   ]
  },
  {
   "cell_type": "code",
   "execution_count": null,
   "metadata": {
    "collapsed": true,
    "deletable": true,
    "editable": true
   },
   "outputs": [],
   "source": [
    "def f(x):\n",
    "    #define the objective funtion\n",
    "    return -5*x[0]-6*x[1]+9*x[2]-8*x[3]\n",
    "def cons1(x):\n",
    "    #def constraint 1 which is inequality and the default is >= 0\n",
    "    return 14 - 2*x[0]- x[1]- x[2]- x[3]\n",
    "def cons2(x):\n",
    "    #def constraint 2 which is inequality\n",
    "    return 28 - 4*x[0]- 2*x[1]- 3*x[2]- x[3]\n",
    "def cons3(x):\n",
    "    #def constraint 3 which is inequality\n",
    "    return 30 - 2*x[0]- 5*x[1]- 5*x[2]- x[3]\n",
    "\n",
    "# make these contraints into dict\n",
    "con1 = {'type':'ineq', 'fun': cons1}\n",
    "con2 = {'type':'ineq', 'fun': cons2}\n",
    "con3 = {'type':'ineq', 'fun': cons3}\n",
    "cons = [con1,con2,con3]\n",
    "#the initial guess\n",
    "x_0 = [1,1,1,1]\n",
    "#set up the bounds of each variable which are the same in this case\n",
    "bd = (0.0,np.inf)\n",
    "#bds is a squence including all bounds for each variable\n",
    "bds = [bd,bd,bd,bd]"
   ]
  },
  {
   "cell_type": "code",
   "execution_count": null,
   "metadata": {
    "collapsed": false,
    "deletable": true,
    "editable": true
   },
   "outputs": [],
   "source": [
    "sol = opt.minimize(f,x_0,bounds=bds,constraints=cons)\n",
    "print(sol.fun)\n",
    "print(sol.x)"
   ]
  },
  {
   "cell_type": "markdown",
   "metadata": {
    "deletable": true,
    "editable": true
   },
   "source": [
    "The solution given by  `Scipy.optimize.minimize `  agrees that given by `scipy.optimize.linprog`. \n",
    "\n",
    "Perfect!"
   ]
  },
  {
   "cell_type": "markdown",
   "metadata": {
    "collapsed": true,
    "deletable": true,
    "editable": true
   },
   "source": [
    "## 4.Exercise"
   ]
  },
  {
   "cell_type": "markdown",
   "metadata": {
    "deletable": true,
    "editable": true
   },
   "source": [
    "**Exercise 1.** A man has a farm that is adjacent to a river. Suppose he wants to build a rectangular pen for his cows with 500ft of fencing. If one side of the pen is the river (his cows will not swim away!) What is the area of the largest pen he can build?"
   ]
  },
  {
   "cell_type": "markdown",
   "metadata": {
    "deletable": true,
    "editable": true
   },
   "source": [
    "**Exercise 2.**  Divide 64 into two parts such that the product of one of them plus the cube of the other is a maximum"
   ]
  },
  {
   "cell_type": "markdown",
   "metadata": {
    "deletable": true,
    "editable": true
   },
   "source": [
    "**Exercise 3.** Solve the following Linear programming problem\n",
    "$$\\rm{maximize} \\space x_1 + 2x_2 - x_3$$ \n",
    "\n",
    "$$ \\rm{subject} \\space \\rm{to}\\\\\n",
    " 2x_1 + x_2 + x_3 \\leq 14\\\\\n",
    " 4x_1 + 2x_2 + 3x_3 \\leq 28\\\\\n",
    " 2x_1 + 5x_2 + 5x_3 \\leq 30 \\\\\n",
    " x_1 \\space , x_2 \\space x_3 \\geq 0\n",
    "$$\n",
    "\n",
    "\n"
   ]
  },
  {
   "cell_type": "markdown",
   "metadata": {
    "deletable": true,
    "editable": true
   },
   "source": [
    "**Exercise 4.**\n",
    "The Problem A company manufactures inkjet and laser printers. The company can make a total of 60 printers per day, an it has 120 labor hours per day available. It takes one hour or manufacture an inkjet printer and three hours to make a laser printer. The profit is forty-five dollars per inkjet printer and sixty-five per laser printer. Find the numbers of inkjet printers and laser printers produced that will maximize the profit."
   ]
  },
  {
   "cell_type": "markdown",
   "metadata": {
    "deletable": true,
    "editable": true
   },
   "source": [
    "**Exercise 5.**\n",
    "Prove for all $a,b,c \\geq 0, 1\\leq p < q$\n",
    "$$\n",
    "\\left(  \\frac {1} {3}  \\left[ \\left( \\frac {a+b} {2} \\right) ^q + \\left( \\frac {b+c} {2} \\right)  ^q + \\left( \\frac {a+c} {2} \\right) ^q  \\right] \\right) ^ \\frac {1} {q} \\leq \\left( \\frac {a^p+b^p+c^p} {3} \\right)^{1/p}\n",
    "$$\n"
   ]
  }
 ],
 "metadata": {
  "kernelspec": {
   "display_name": "Python 3",
   "language": "python",
   "name": "python3"
  },
  "language_info": {
   "codemirror_mode": {
    "name": "ipython",
    "version": 3
   },
   "file_extension": ".py",
   "mimetype": "text/x-python",
   "name": "python",
   "nbconvert_exporter": "python",
   "pygments_lexer": "ipython3",
   "version": "3.5.2"
  }
 },
 "nbformat": 4,
 "nbformat_minor": 2
}
