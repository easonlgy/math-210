{
 "cells": [
  {
   "cell_type": "markdown",
   "metadata": {},
   "source": [
    "# Optimization (scipy.optimize.minimize_scalar)"
   ]
  },
  {
   "cell_type": "markdown",
   "metadata": {},
   "source": [
    "Scipy is an extensively used, well-documented Python library for all your scientific needs. Optimize is a module of the library concerned with optimization of functions. Optimization algorithms including linear programming.[documentation](http://scipy.github.io/devdocs/tutorial/optimize.html).\n",
    "\n",
    "`minimize_scalar`\n",
    "Interface to minimization algorithms for scalar univariate functions."
   ]
  },
  {
   "cell_type": "code",
   "execution_count": null,
   "metadata": {
    "collapsed": true
   },
   "outputs": [],
   "source": [
    "import numpy as np\n",
    "from scipy.optimize import minimize\n",
    "import scipy.integrate as spi\n",
    "import numpy as np\n",
    "from scipy import special\n",
    "import matplotlib.pyplot as plt\n",
    "from scipy.optimize import minimize_scalar\n",
    "%matplotlib inline"
   ]
  },
  {
   "cell_type": "markdown",
   "metadata": {},
   "source": [
    "# Contents\n",
    " 1. Method Brent ( Brent’s algorithm)\n",
    " 2. Method Bounded\n",
    " 3. Method Golden( golden section search algorithm )"
   ]
  },
  {
   "cell_type": "markdown",
   "metadata": {},
   "source": [
    "# 1.Method Brent\n",
    "\n",
    "Brent's method is a root-finding algorithm combining the bisection method, the secant method and inverse quadratic interpolation. [More information](https://en.wikipedia.org/wiki/Brent%27s_method)"
   ]
  },
  {
   "cell_type": "markdown",
   "metadata": {},
   "source": [
    "Let's use Brent method to find minimum of function\n",
    "\n",
    "$$f(x)= x^4 + 5(x-2)^3-16x^2+9$$"
   ]
  },
  {
   "cell_type": "code",
   "execution_count": null,
   "metadata": {
    "collapsed": true
   },
   "outputs": [],
   "source": [
    "def f(x):\n",
    "    return x**4 + 5*(x-2)**3 - 16*(x)**2 + 9"
   ]
  },
  {
   "cell_type": "code",
   "execution_count": null,
   "metadata": {
    "collapsed": false,
    "deletable": true,
    "editable": true
   },
   "outputs": [],
   "source": [
    "x = np.linspace(-8,5,100)\n",
    "plt.plot(x,f(x))"
   ]
  },
  {
   "cell_type": "code",
   "execution_count": null,
   "metadata": {
    "collapsed": true
   },
   "outputs": [],
   "source": [
    "from scipy import optimize as opt"
   ]
  },
  {
   "cell_type": "markdown",
   "metadata": {},
   "source": [
    "Using the brent method we find the local minimum."
   ]
  },
  {
   "cell_type": "code",
   "execution_count": null,
   "metadata": {
    "collapsed": false
   },
   "outputs": [],
   "source": [
    "res = minimize_scalar(f)\n",
    "res.x"
   ]
  },
  {
   "cell_type": "markdown",
   "metadata": {},
   "source": [
    "Method Brent uses Brent’s algorithm to find a local minimum. The algorithm uses inverse parabolic interpolation when possible to speed up convergence of the golden section method."
   ]
  },
  {
   "cell_type": "markdown",
   "metadata": {},
   "source": [
    "# 2.Method Bounded "
   ]
  },
  {
   "cell_type": "markdown",
   "metadata": {},
   "source": [
    "Let's use Bounded method to find minimum of function\n",
    "\n",
    "$$f(x)= 2x^3 + 7(x-2)^3-16x^2+9$$"
   ]
  },
  {
   "cell_type": "code",
   "execution_count": null,
   "metadata": {
    "collapsed": true
   },
   "outputs": [],
   "source": [
    "def f_(x):\n",
    "    return 2*x**3 + 7*(x-2)**3 - 16*(x)**2 + 9"
   ]
  },
  {
   "cell_type": "code",
   "execution_count": null,
   "metadata": {
    "collapsed": false
   },
   "outputs": [],
   "source": [
    "x = np.linspace(-4,2,100)\n",
    "plt.plot(x,f_(x))"
   ]
  },
  {
   "cell_type": "code",
   "execution_count": null,
   "metadata": {
    "collapsed": false
   },
   "outputs": [],
   "source": [
    "res = minimize_scalar(f_, bounds=(0, 6), method='bounded')\n",
    "res.x"
   ]
  },
  {
   "cell_type": "markdown",
   "metadata": {},
   "source": [
    "Method Bounded can perform bounded minimization. It uses the Brent method to find a local minimum in the interval."
   ]
  },
  {
   "cell_type": "markdown",
   "metadata": {},
   "source": [
    "# 3. Method Golden"
   ]
  },
  {
   "cell_type": "markdown",
   "metadata": {},
   "source": [
    "The golden section search method is used to find the minimizer\n",
    "of  a  single-variable  function  which  has  a  single  minimum  on  a\n",
    "given interval. [More information](https://en.wikipedia.org/wiki/Golden-section_search)"
   ]
  },
  {
   "cell_type": "markdown",
   "metadata": {},
   "source": [
    "Let's use Golden method to find minimum of function on x $\\in$[5,30]\n",
    "\n",
    "$$f(x)= x^2+3$$"
   ]
  },
  {
   "cell_type": "code",
   "execution_count": null,
   "metadata": {
    "collapsed": true
   },
   "outputs": [],
   "source": [
    "def f_1(x):\n",
    "    return x**2+3"
   ]
  },
  {
   "cell_type": "code",
   "execution_count": null,
   "metadata": {
    "collapsed": false
   },
   "outputs": [],
   "source": [
    "x = np.linspace(1, 10, 100)\n",
    "y = f_1(x)\n",
    "plt.xlim([5,30])\n",
    "plt.plot(x, y)\n",
    "plt.show()"
   ]
  },
  {
   "cell_type": "code",
   "execution_count": null,
   "metadata": {
    "collapsed": false
   },
   "outputs": [],
   "source": [
    "opt.minimize_scalar(f_1, method='golden')"
   ]
  },
  {
   "cell_type": "markdown",
   "metadata": {},
   "source": [
    "The  Golden  Section  method  will  work  on  any  kind  of  function\n",
    "as long as the starting interval contains a single local minimum"
   ]
  },
  {
   "cell_type": "markdown",
   "metadata": {},
   "source": [
    "## More examples"
   ]
  },
  {
   "cell_type": "markdown",
   "metadata": {},
   "source": [
    "Let's use method brent and method golden to  minimize the [Bessel function](https://en.wikipedia.org/wiki/Bessel_function)\n",
    "$$x^2\\frac{d^2y}{dx^2}+x\\frac{dy}{dx}+(x^2-\\alpha ^2)y=0$$\n",
    "j0 is the Bessel function of 1st kind"
   ]
  },
  {
   "cell_type": "code",
   "execution_count": null,
   "metadata": {
    "collapsed": false
   },
   "outputs": [],
   "source": [
    "x = np.linspace(0, 5, 500)\n",
    "y = special.j0(x)\n",
    "minimize_result = opt.minimize_scalar(special.j0, method='brent')\n",
    "the_answer = minimize_result['x']\n",
    "minimized_value = minimize_result\n",
    "#The value of x that gives us our minimum is accessed.\n",
    "plt.plot(x, y)\n",
    "plt.axvline(the_answer, linestyle='--', color='k')\n",
    "plt.show()\n"
   ]
  },
  {
   "cell_type": "code",
   "execution_count": null,
   "metadata": {
    "collapsed": false
   },
   "outputs": [],
   "source": [
    "print(\"The function's minimum occurs at x = {0} and y = {1}\".format(the_answer, minimized_value))"
   ]
  },
  {
   "cell_type": "code",
   "execution_count": null,
   "metadata": {
    "collapsed": false
   },
   "outputs": [],
   "source": [
    "x = np.linspace(0, 5, 500)\n",
    "y = special.j0(x)\n",
    "opt.minimize_scalar(special.j0, method='golden')\n",
    "plt.plot(x, y)\n",
    "plt.show()"
   ]
  },
  {
   "cell_type": "markdown",
   "metadata": {},
   "source": [
    "The 'Golden' method minimizes a unimodal function by narrowing the range in the extreme values."
   ]
  }
 ],
 "metadata": {
  "kernelspec": {
   "display_name": "Python 3",
   "language": "python",
   "name": "python3"
  },
  "language_info": {
   "codemirror_mode": {
    "name": "ipython",
    "version": 3
   },
   "file_extension": ".py",
   "mimetype": "text/x-python",
   "name": "python",
   "nbconvert_exporter": "python",
   "pygments_lexer": "ipython3",
   "version": "3.6.0"
  }
 },
 "nbformat": 4,
 "nbformat_minor": 2
}
