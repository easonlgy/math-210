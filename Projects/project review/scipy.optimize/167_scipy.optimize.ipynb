{
 "cells": [
  {
   "cell_type": "code",
   "execution_count": null,
   "metadata": {
    "collapsed": true,
    "deletable": true,
    "editable": true
   },
   "outputs": [],
   "source": []
  },
  {
   "cell_type": "markdown",
   "metadata": {
    "deletable": true,
    "editable": true
   },
   "source": [
    "# MATH 210 Project I\n",
    "\n",
    "## Approximating Optimization with `scipy.optimize`\n",
    "\n"
   ]
  },
  {
   "cell_type": "markdown",
   "metadata": {
    "deletable": true,
    "editable": true
   },
   "source": [
    "SciPy is the one of the core scientific computing packages in Python and the subpackage `scipy.optimize` addresses  kinds of linear programming computational problems like **Optimization,Fitting,Root finding,Linear Programming** and **Utilities**(see the [documentation](https://docs.scipy.org/doc/scipy-0.18.1/reference/optimize.html))for the details:\n",
    "\n",
    "\n",
    "\n",
    "**My goal** in this project is to explore **three functions** in the package `scipy.optimize` which called **Optimization and root finding (scipy.optimize)**. In particular, we will explore the **Fixed_point**,**Differential Evolution** and **Minimize Linear Programming**. By the end of the notebook, the reader will be able to implement the following functions to check wether they have a sense of how to solve the linear programming problems:\n",
    "\n",
    "* `scipy.optimize.fixed_point` (see the [documentation](https://docs.scipy.org/doc/scipy-0.18.1/reference/generated/scipy.optimize.fixed_point.html#scipy.optimize.fixed_point))\n",
    "* `scipy.optimize.differential_evolution` (see the [documentation](https://docs.scipy.org/doc/scipy-0.18.1/reference/generated/scipy.optimize.differential_evolution.html#scipy.optimize.differential_evolution))\n",
    "* `scipy.optimize.linprog` (see the [documentation](https://docs.scipy.org/doc/scipy-0.18.1/reference/generated/scipy.optimize.linprog.html#scipy.optimize.linprog))\n",
    "\n"
   ]
  },
  {
   "cell_type": "markdown",
   "metadata": {
    "collapsed": true,
    "deletable": true,
    "editable": true
   },
   "source": [
    "## Contents\n",
    "\n",
    "1. Fixed point: `fixed_point`\n",
    "2. Differential Evolution: `differential_evolution`\n",
    "3. Minimize Linear Programming: `linprog`\n",
    "4. Exercises"
   ]
  },
  {
   "cell_type": "code",
   "execution_count": null,
   "metadata": {
    "collapsed": true,
    "deletable": true,
    "editable": true
   },
   "outputs": [],
   "source": [
    "import scipy.integrate as spi\n",
    "import numpy as np\n",
    "import matplotlib.pyplot as plt\n",
    "%matplotlib inline"
   ]
  },
  {
   "cell_type": "markdown",
   "metadata": {
    "deletable": true,
    "editable": true
   },
   "source": [
    "## 1.Fixed point finding"
   ]
  },
  {
   "cell_type": "markdown",
   "metadata": {
    "deletable": true,
    "editable": true
   },
   "source": [
    "The [fixed-point](https://en.wikipedia.org/wiki/Fixed-point_iteration) for a function is a point at which the value of the function does not change when the function is applied. More formally, x is a fixed point for a given function f if $f(x)=x$,and the fixed point iteration $x_{n+1} =f(x_n)$ converges to the a fixed point if f is continuous."
   ]
  },
  {
   "cell_type": "markdown",
   "metadata": {
    "collapsed": true,
    "deletable": true,
    "editable": true
   },
   "source": [
    "### Define the function to implement the fixed point finding\n",
    "\n",
    "Notice that the fixed point is defined by $f(x)=x$, we can  slove $f(x) = ax^2 + bx + c$ easily no matter wether we use python or not. but function like  $x-x^2+x^3-x^4+5$ could be very hard to find the $f(x)=x$ solution if we use the normal way to solve the problem. it will be very complex and time consuming, but if we utilize the scipy.optimize.fixed, it will be much simplier and also get accurate answers."
   ]
  },
  {
   "cell_type": "markdown",
   "metadata": {
    "collapsed": false,
    "deletable": true,
    "editable": true
   },
   "source": [
    "## Example1\n",
    "Find the solution of $x-x^2+x^3-x^4+5$"
   ]
  },
  {
   "cell_type": "code",
   "execution_count": null,
   "metadata": {
    "collapsed": false,
    "deletable": true,
    "editable": true
   },
   "outputs": [],
   "source": [
    "import scipy.optimize as optimize\n",
    "\n",
    "def fun(x):\n",
    "    return x-x**2+x**3-x**4+5\n",
    "\n",
    "#  find the value of x such that func(x) = x, \n",
    "#  x-x**2+x**3-x**4+5\n",
    "print(optimize.fixed_point(fun,0))\n"
   ]
  },
  {
   "cell_type": "markdown",
   "metadata": {
    "deletable": true,
    "editable": true
   },
   "source": [
    "we can verify the solution by putting all x back to the function"
   ]
  },
  {
   "cell_type": "code",
   "execution_count": null,
   "metadata": {
    "collapsed": false,
    "deletable": true,
    "editable": true
   },
   "outputs": [],
   "source": [
    "def f(x):\n",
    "    return x-x**2+x**3-x**4+5\n"
   ]
  },
  {
   "cell_type": "code",
   "execution_count": null,
   "metadata": {
    "collapsed": false,
    "deletable": true,
    "editable": true
   },
   "outputs": [],
   "source": [
    "f(1.598519377957803)"
   ]
  },
  {
   "cell_type": "markdown",
   "metadata": {
    "deletable": true,
    "editable": true
   },
   "source": [
    "##  Plotting the functions\n",
    "By plotting the two graphs, we can see the intersection of the 2 functions $y=x$ and $y=x-x^2+x^3-x^4+5$"
   ]
  },
  {
   "cell_type": "code",
   "execution_count": null,
   "metadata": {
    "collapsed": false,
    "deletable": true,
    "editable": true
   },
   "outputs": [],
   "source": [
    "x = np.linspace(0,2,100)\n",
    "y1 = x\n",
    "y2 = x-x**2+x**3-x**4+5\n",
    "plt.plot(x,y1,x,y2)\n",
    "plt.legend(['y1','y2']);"
   ]
  },
  {
   "cell_type": "markdown",
   "metadata": {
    "deletable": true,
    "editable": true
   },
   "source": [
    "## Example2"
   ]
  },
  {
   "cell_type": "markdown",
   "metadata": {
    "deletable": true,
    "editable": true
   },
   "source": [
    "Find the solution of $-x^3+x^2+x+1$"
   ]
  },
  {
   "cell_type": "code",
   "execution_count": null,
   "metadata": {
    "collapsed": false,
    "deletable": true,
    "editable": true
   },
   "outputs": [],
   "source": [
    "import scipy.optimize as optimize\n",
    "\n",
    "def fun(x):\n",
    "    return -x**3+x**2+x+1\n",
    "\n",
    "# find the value of x such that func(x) = x, \n",
    "# -x**3+x**2+x+1\n",
    "print(optimize.fixed_point(fun,0))\n"
   ]
  },
  {
   "cell_type": "code",
   "execution_count": null,
   "metadata": {
    "collapsed": true,
    "deletable": true,
    "editable": true
   },
   "outputs": [],
   "source": [
    "def f(x):\n",
    "    return -x**3+x**2+x+1"
   ]
  },
  {
   "cell_type": "code",
   "execution_count": null,
   "metadata": {
    "collapsed": false,
    "deletable": true,
    "editable": true
   },
   "outputs": [],
   "source": [
    "f(1.465571231876768)"
   ]
  },
  {
   "cell_type": "markdown",
   "metadata": {
    "collapsed": true,
    "deletable": true,
    "editable": true
   },
   "source": [
    "## 2.Differential Evolution"
   ]
  },
  {
   "cell_type": "markdown",
   "metadata": {
    "deletable": true,
    "editable": true
   },
   "source": [
    "## Scipy.optimize.differential_evolution"
   ]
  },
  {
   "cell_type": "markdown",
   "metadata": {
    "collapsed": true,
    "deletable": true,
    "editable": true
   },
   "source": [
    "Differential Evolution (DE) algorithm is a branch of evolutionary programming developed by **Rainer Storn and Kenneth Price** (Price and Storn, 1997) for optimization problems over continuous domains. Differential Evolution is stochastic in nature to the find the global minimum of a multivariate function. and can search large areas of candidate space, but often requires larger numbers of function evaluations than conventional gradient based techniques.The advantages of DE are its simple structure, ease of use, speed and robustness.DE is one of the best genetic type algorithms for solving problems with the real valued variables. Differential Evolution is a design tool of great utility that is immediatelyaccessible for practical applications.DE has been used in several science and engineering applications to discover effective solutions to nearly intractable problems without appealing to expert knowledge or complex design algorithms. [Sources](http://ir.lib.uwo.ca/cgi/viewcontent.cgi?article=1022&context=wrrr)"
   ]
  },
  {
   "cell_type": "markdown",
   "metadata": {
    "deletable": true,
    "editable": true
   },
   "source": [
    "## Example:Beale's function"
   ]
  },
  {
   "cell_type": "markdown",
   "metadata": {
    "deletable": true,
    "editable": true
   },
   "source": [
    "From [Test functions for optimization](https://en.wikipedia.org/wiki/Test_functions_for_optimization), we can have lots of interesting funtions to find the global optimization. and also it's useful to evaluate characteristics of optimization algorithms, such as:\n",
    "* Convergence rate.\n",
    "* Precision.\n",
    "* Robustness.\n",
    "* General performance.\n"
   ]
  },
  {
   "cell_type": "markdown",
   "metadata": {
    "deletable": true,
    "editable": true
   },
   "source": [
    "[Beale's function image](https://upload.wikimedia.org/wikipedia/commons/thumb/d/de/Beale%27s_function.pdf/page1-1200px-Beale%27s_function.pdf.jpg)"
   ]
  },
  {
   "cell_type": "code",
   "execution_count": null,
   "metadata": {
    "collapsed": true,
    "deletable": true,
    "editable": true
   },
   "outputs": [],
   "source": [
    "from scipy.optimize import differential_evolution"
   ]
  },
  {
   "cell_type": "code",
   "execution_count": null,
   "metadata": {
    "collapsed": false,
    "deletable": true,
    "editable": true
   },
   "outputs": [],
   "source": [
    "def beale(x):\n",
    "    return (1.5-x[0]+x[0]*x[1])**2 + (2.25-x[0]+x[0]*(x[1]**2))**2+(2.625-x[0]+x[0]*(x[1]**3))**2\n",
    "bounds = [(-10, 10), (-10, 10)]\n",
    "result = differential_evolution(beale,bounds)\n",
    "result.x,result.fun"
   ]
  },
  {
   "cell_type": "markdown",
   "metadata": {
    "collapsed": true,
    "deletable": true,
    "editable": true
   },
   "source": [
    "## Booth's function\n",
    "\n",
    "* [Booth's function image](https://upload.wikimedia.org/wikipedia/commons/6/6e/Booth%27s_function.pdf)\n",
    "* [more research](http://al-roomi.org/benchmarks/unconstrained/2-dimensions/30-booth-s-function)"
   ]
  },
  {
   "cell_type": "code",
   "execution_count": null,
   "metadata": {
    "collapsed": false,
    "deletable": true,
    "editable": true
   },
   "outputs": [],
   "source": [
    "def booth(x):\n",
    "    return (x[0]+2*x[1]-7)**2 + (2*x[0]+x[1]-5)**2\n",
    "bounds = [(-10, 10), (-10, 10)]\n",
    "result = differential_evolution(booth,bounds)\n",
    "result.x,result.fun"
   ]
  },
  {
   "cell_type": "markdown",
   "metadata": {
    "deletable": true,
    "editable": true
   },
   "source": [
    "##  3.Minimize Linear Programming"
   ]
  },
  {
   "cell_type": "markdown",
   "metadata": {
    "deletable": true,
    "editable": true
   },
   "source": [
    "## Minimize a linear objective function subject to linear equality and inequality constraint"
   ]
  },
  {
   "cell_type": "markdown",
   "metadata": {
    "collapsed": true,
    "deletable": true,
    "editable": true
   },
   "source": [
    "In the higher level math class in UBC, students will study linear programming like **MAH340**,**MATH441**, it is important for studnt to know how \n",
    "to solve the linear programming function, luckily, python have the package can help students to solve those problems quickly. the \n",
    "**scipy.optimize.linprog** package can minmize a linear objective function subject to linear equality and inequality constraints.\n",
    "Linear Programming is intended to solve the following problem form:\n",
    "\n",
    "* Minimize: $ax_{1}+bx_{2}+cx_{3}$\n",
    "\n",
    "* Subject to: \n",
    "    *   $a_{11}x_{1}+a_{12}x_{2}+a_{13}x_{3} =< l$\n",
    "    *   $a_{21}x_{1}+a_{22}x_{2}+a_{23}x_{3} =< m$\n",
    "    *   $a_{31}x_{1}+a_{32}x_{2}+a_{33}x_{3} =< n$\n",
    "    *   $x_{1}>=0,x_{2}>=0,x_{3}>=0$\n"
   ]
  },
  {
   "cell_type": "markdown",
   "metadata": {
    "deletable": true,
    "editable": true
   },
   "source": [
    "## Example"
   ]
  },
  {
   "cell_type": "markdown",
   "metadata": {
    "deletable": true,
    "editable": true
   },
   "source": [
    "Minimize $f(x)=7x_{1}-8x_{2}+5x_{3}$\n",
    "* Subject to:\n",
    "* $ x_{1}  +  4x_{2} - 8x_{3} =< 45$\n",
    "* $4x_{1}  -  3x_{2} + 2x_{3} =< 33$\n",
    "* $3x_{1}  +  2x_{2} + 5x_{3} =< 27$\n",
    "*   $x_{1}>=0,x_{2}>=0,x_{3}>=0$"
   ]
  },
  {
   "cell_type": "code",
   "execution_count": null,
   "metadata": {
    "collapsed": true,
    "deletable": true,
    "editable": true
   },
   "outputs": [],
   "source": [
    "from scipy.optimize import linprog"
   ]
  },
  {
   "cell_type": "markdown",
   "metadata": {
    "deletable": true,
    "editable": true
   },
   "source": [
    "For the parameters, c is the objective function coefficients, A is the coefficients matrix of the constraint equations, b is \n",
    "the constants of the constraint equations, x_bounds is the interval of x, more detais explaination, please refer to\n",
    "[sources](https://docs.scipy.org/doc/scipy-0.18.1/reference/generated/scipy.optimize.linprog.html#scipy.optimize.linprog)"
   ]
  },
  {
   "cell_type": "code",
   "execution_count": null,
   "metadata": {
    "collapsed": false,
    "deletable": true,
    "editable": true
   },
   "outputs": [],
   "source": [
    "c = [7,-8,5]\n",
    "A = [[1,4,-8], [4,-3,2],[3,2,5]]\n",
    "b = [45,33,27]\n",
    "x0_bounds = (0,None)\n",
    "x1_bounds = (0,None)\n",
    "x2_bounds = (0,None)\n",
    "\n",
    "res = linprog(c, A_ub=A, b_ub=b, bounds=(x0_bounds, x1_bounds,x2_bounds),\n",
    "               options={\"disp\": True})\n",
    "# Optimization terminated successfully.\n",
    "    \n",
    "print(res)"
   ]
  },
  {
   "cell_type": "markdown",
   "metadata": {
    "collapsed": true,
    "deletable": true,
    "editable": true
   },
   "source": [
    "## Example2"
   ]
  },
  {
   "cell_type": "markdown",
   "metadata": {
    "collapsed": true,
    "deletable": true,
    "editable": true
   },
   "source": [
    "Minimize $f(x)=20x_{1}-10x_{2}+15x_{3}$\n",
    "* Subject to:\n",
    "* $ 3x  +  2x_{2} - 5x_{3} =< 55$\n",
    "* $-2x  +  x_{2} + x_{3} =< 26$\n",
    "* $-x  +  1x_{2} + 3x_{3} =< 30$\n",
    "* $5x  -  2x_{2} + 4x_{3} =< 50$"
   ]
  },
  {
   "cell_type": "code",
   "execution_count": null,
   "metadata": {
    "collapsed": false,
    "deletable": true,
    "editable": true
   },
   "outputs": [],
   "source": [
    "c = [20,-10,15]\n",
    "A = [[3,2,-5], [-2,1,1],[-1,1,3],[5,-2,4]]\n",
    "b = [50,36,30,27]\n",
    "x0_bounds = (-20,20)\n",
    "x1_bounds = (-20,20)\n",
    "x2_bounds = (-20,20)\n",
    "\n",
    "res = linprog(c, A_ub=A, b_ub=b, bounds=(x0_bounds, x1_bounds,x2_bounds),\n",
    "               options={\"disp\": True})\n",
    "# Optimization terminated successfully.\n",
    "    \n",
    "print(res)"
   ]
  },
  {
   "cell_type": "markdown",
   "metadata": {
    "deletable": true,
    "editable": true
   },
   "source": [
    "## 4.Exercises"
   ]
  },
  {
   "cell_type": "markdown",
   "metadata": {
    "deletable": true,
    "editable": true
   },
   "source": [
    "**Exercise 1.** Find the fixed_point of function of the follow function"
   ]
  },
  {
   "cell_type": "markdown",
   "metadata": {
    "deletable": true,
    "editable": true
   },
   "source": [
    "(a)    $$f(x)=\\sqrt{x}+sin(x)+x^3$$"
   ]
  },
  {
   "cell_type": "markdown",
   "metadata": {
    "deletable": true,
    "editable": true
   },
   "source": [
    "(b)"
   ]
  },
  {
   "cell_type": "markdown",
   "metadata": {
    "deletable": true,
    "editable": true
   },
   "source": [
    "$$f(x)=\\frac{1}{x^2}+cos(x)+e^x$$"
   ]
  },
  {
   "cell_type": "markdown",
   "metadata": {
    "deletable": true,
    "editable": true
   },
   "source": [
    "**Exercise 2.**"
   ]
  },
  {
   "cell_type": "markdown",
   "metadata": {
    "deletable": true,
    "editable": true
   },
   "source": [
    " use the differential evolution to find the global optimization of **Three-hump camel function**\n",
    " $$f(x,y)= 2x^2- 1.05x^4+\\frac{x^6}{6}+xy+y^2$$"
   ]
  },
  {
   "cell_type": "markdown",
   "metadata": {
    "deletable": true,
    "editable": true
   },
   "source": [
    "### more test [examples](https://en.wikipedia.org/wiki/Test_functions_for_optimization)"
   ]
  },
  {
   "cell_type": "markdown",
   "metadata": {
    "deletable": true,
    "editable": true
   },
   "source": [
    "**Exercise 3.**"
   ]
  },
  {
   "cell_type": "markdown",
   "metadata": {
    "deletable": true,
    "editable": true
   },
   "source": [
    "Minimize $f(x)=6x_{1}+3x_{2}+x_{3}$\n",
    "* Subject to:\n",
    "* $3x_{1}  +  6x_{2} + x_{3} =< 28$\n",
    "* $7x_{1}  +  3x_{2} + 2x_{3}  =< 37$\n",
    "* $4x_{1}  +  5x_{2} + 2x_{3} =< 19$\n",
    "* $x_{1},x_{2},x_{3} >=0 $"
   ]
  }
 ],
 "metadata": {
  "kernelspec": {
   "display_name": "Python 3",
   "language": "python",
   "name": "python3"
  },
  "language_info": {
   "codemirror_mode": {
    "name": "ipython",
    "version": 3
   },
   "file_extension": ".py",
   "mimetype": "text/x-python",
   "name": "python",
   "nbconvert_exporter": "python",
   "pygments_lexer": "ipython3",
   "version": "3.5.2"
  }
 },
 "nbformat": 4,
 "nbformat_minor": 2
}
