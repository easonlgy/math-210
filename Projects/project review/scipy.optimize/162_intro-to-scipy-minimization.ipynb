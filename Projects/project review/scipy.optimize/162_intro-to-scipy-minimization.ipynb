{
 "cells": [
  {
   "cell_type": "markdown",
   "metadata": {
    "deletable": true,
    "editable": true
   },
   "source": [
    "<h1><center><font color=\"lightgreen\">MATH 210 PROJECT 1</h1>\n",
    "<h2><center><font color=\"organge\">Optimization Applications with scipy.optimize</h2>\n"
   ]
  },
  {
   "cell_type": "markdown",
   "metadata": {
    "deletable": true,
    "editable": true
   },
   "source": [
    "## Introduction to Optimization"
   ]
  },
  {
   "cell_type": "markdown",
   "metadata": {
    "deletable": true,
    "editable": true
   },
   "source": [
    "**[Optimization](https://en.wikipedia.org/wiki/Mathematical_optimization)** is a very powerful section in mathematics. \n",
    "In **optimization problems**, we are looking for the largest value or the smallest value that a function can take under some constraints. The generalization of optimization has so many uses in a large area of appliced mathematics, such as electrical engineering and economics, etc.\n",
    "\n",
    "In this notebook, we are going to **solve optimization problems** using **[scipy.optimize](https://docs.scipy.org/doc/scipy-0.18.1/reference/optimize.html)** subpackage."
   ]
  },
  {
   "cell_type": "markdown",
   "metadata": {
    "collapsed": true,
    "deletable": true,
    "editable": true
   },
   "source": [
    "## Notebook Outline "
   ]
  },
  {
   "cell_type": "markdown",
   "metadata": {
    "deletable": true,
    "editable": true
   },
   "source": [
    "We will explore two functions in subpackage **scipy.optimize**:\n",
    "  * 1.**minimize_scalar** ([see documentation](https://docs.scipy.org/doc/scipy-0.18.1/reference/generated/scipy.optimize.minimize_scalar.html#scipy.optimize.minimize_scalar)) for **one variable** functions: \n",
    "   we will take look at two methods,\n",
    "   * **`brent`**: unbounded minimization\n",
    "   * **`bounded`**: bounded minimization\n",
    "  * 2.**minimize** ([see documentation](https://docs.scipy.org/doc/scipy-0.18.1/reference/generated/scipy.optimize.minimize.html#scipy.optimize.minimize)) for **multivariable** functions: \n",
    "    we will take look at the method:\n",
    "    * **`Nelder-Mead`**: unconstrained minimization\n",
    "    * **`SLSQP`**: constrained minimization\n",
    "  * 3.**exercises**"
   ]
  },
  {
   "cell_type": "code",
   "execution_count": null,
   "metadata": {
    "collapsed": true,
    "deletable": true,
    "editable": true
   },
   "outputs": [],
   "source": [
    "import numpy as np\n",
    "from scipy.optimize import minimize\n",
    "from scipy.optimize import minimize_scalar as ms\n",
    "import matplotlib.pyplot as plt\n",
    "%matplotlib inline"
   ]
  },
  {
   "cell_type": "markdown",
   "metadata": {
    "deletable": true,
    "editable": true
   },
   "source": [
    "## 1. minimize_scalar\n",
    "\n",
    "The function minimize_scalar is used to **minimize** a scalar function of **one variable**."
   ]
  },
  {
   "cell_type": "markdown",
   "metadata": {
    "deletable": true,
    "editable": true
   },
   "source": [
    "### 1) Method: `brent`\n",
    "\n",
    "Brent algorithm is a root-finding algorithm which tries to use the fast-converging secant method or inverse quadratic interpolation if possible, if necessary it uses the bisection method. \n",
    "\n",
    "**[Method brent](http://mathworld.wolfram.com/BrentsMethod.html) algorithm**:\n",
    "\n",
    "Brent's method uses inverse quadratic interpolation formula to find roots as:\n",
    "\n",
    "$$\n",
    "x=\\frac{af(b)f(c)}{(f(a)-f(b))(f(a)-f(c))}+\\frac{bf(a)f(c)}{(f(b)-f(a))(f(b)-f(c))}+\\frac{cf(a)f(b)}{(f(c)-f(a))(f(c)-f(b))}\n",
    "$$\n",
    "\n",
    "if $f(a)\\neq f(c)$ and $f(b)\\neq f(c)$;\n",
    "\n",
    "Else\n",
    "\n",
    "$$\n",
    "x=b-f(b)\\cdot\\frac{b-a}{f(b)-f(a)}\n",
    "$$\n",
    "\n",
    "which simply uses the secant method.\n",
    "\n",
    "**Note**: the **default method** for minimize_scalar function is `brent`.\n",
    "\n",
    "Thus, it just take **one input**:\n",
    "* objective function"
   ]
  },
  {
   "cell_type": "markdown",
   "metadata": {
    "deletable": true,
    "editable": true
   },
   "source": [
    "### Example:\n",
    "\n",
    "Let's see an example.\n",
    "\n",
    "Suppose we are given a function $y=\\left(x-5\\right)\\cdot x \\cdot\\left(x+5\\right)^2$, and we are asked to find its minimum point $\\left(x,y\\right)$.  "
   ]
  },
  {
   "cell_type": "code",
   "execution_count": null,
   "metadata": {
    "collapsed": true,
    "deletable": true,
    "editable": true
   },
   "outputs": [],
   "source": [
    "# First, define our function\n",
    "\n",
    "def fun1(x):\n",
    "    return (x-5)*x*(x+5)**2"
   ]
  },
  {
   "cell_type": "code",
   "execution_count": null,
   "metadata": {
    "collapsed": false,
    "deletable": true,
    "editable": true
   },
   "outputs": [],
   "source": [
    "sol = ms(fun1)      # then we use ms(minimize_scalar) to find solution\n",
    "x1=sol.x\n",
    "y1=sol.fun\n",
    "np.array([x1,y1])   # show the minimum point(x1, y1) as a 1D array"
   ]
  },
  {
   "cell_type": "markdown",
   "metadata": {
    "deletable": true,
    "editable": true
   },
   "source": [
    "Now let's plot the graph of our function and see if the point (x1,y1) is the minimum point:"
   ]
  },
  {
   "cell_type": "code",
   "execution_count": null,
   "metadata": {
    "collapsed": false,
    "deletable": true,
    "editable": true,
    "scrolled": true
   },
   "outputs": [],
   "source": [
    "x=np.linspace(-100,100,1000)\n",
    "y=(x-5)*x*(x+5)**2\n",
    "plt.plot(x,y);\n",
    "plt.plot(x1,y1,'r.');"
   ]
  },
  {
   "cell_type": "markdown",
   "metadata": {
    "deletable": true,
    "editable": true
   },
   "source": [
    "It's hard to see, so let's zoom in:"
   ]
  },
  {
   "cell_type": "code",
   "execution_count": null,
   "metadata": {
    "collapsed": false,
    "deletable": true,
    "editable": true,
    "scrolled": true
   },
   "outputs": [],
   "source": [
    "x=np.linspace(-5,5,1000)\n",
    "y=(x-5)*x*(x+5)**2\n",
    "plt.plot(x,y);\n",
    "plt.plot(x1,y1,'r.');"
   ]
  },
  {
   "cell_type": "markdown",
   "metadata": {
    "deletable": true,
    "editable": true
   },
   "source": [
    "So our solution is accurate.\n",
    "\n",
    "But what if we have some bounds on domain?"
   ]
  },
  {
   "cell_type": "markdown",
   "metadata": {
    "deletable": true,
    "editable": true
   },
   "source": [
    "### 2) Method: `bounded`\n",
    "\n",
    "Method bounded uses the Brent method to find a local minimum in a interval (a,b) on a function domain, thus it gives us a **bounded minimization**.\n",
    "\n",
    "Unlike method brent, method bounuded takes **three inputs**:\n",
    "* objective function\n",
    "* bound as `bounds=(a,b)`\n",
    "* `method = 'bounded'`"
   ]
  },
  {
   "cell_type": "markdown",
   "metadata": {
    "deletable": true,
    "editable": true
   },
   "source": [
    "### Example:\n",
    "\n",
    "Suppose we are given a function $y=\\left(x+2\\right)\\left(x+3\\right)^2$ and we want to find its minimum point (x,y) where $2\\leq x \\leq 6$."
   ]
  },
  {
   "cell_type": "code",
   "execution_count": null,
   "metadata": {
    "collapsed": true,
    "deletable": true,
    "editable": true
   },
   "outputs": [],
   "source": [
    "# define the function\n",
    "\n",
    "def fun2(x):\n",
    "    return (x+2)*(x+3)**2"
   ]
  },
  {
   "cell_type": "code",
   "execution_count": null,
   "metadata": {
    "collapsed": false,
    "deletable": true,
    "editable": true
   },
   "outputs": [],
   "source": [
    "sol = ms(fun2, bounds=[2,6], method='bounded')  # use method bounded to find solution\n",
    "x1=sol.x\n",
    "y1=sol.fun\n",
    "np.array([x1,y1])   # show the minimum point(x1, y1) as a 1D array"
   ]
  },
  {
   "cell_type": "markdown",
   "metadata": {
    "deletable": true,
    "editable": true
   },
   "source": [
    "Now let's plot the graph of our function and see the point (x1,y1):"
   ]
  },
  {
   "cell_type": "code",
   "execution_count": null,
   "metadata": {
    "collapsed": false,
    "deletable": true,
    "editable": true,
    "scrolled": true
   },
   "outputs": [],
   "source": [
    "x=np.linspace(2,6,100)\n",
    "y=(x+2)*(x+3)**2\n",
    "plt.plot(x,y);\n",
    "plt.plot(x1,y1,'r.');"
   ]
  },
  {
   "cell_type": "markdown",
   "metadata": {
    "deletable": true,
    "editable": true
   },
   "source": [
    "If we zoom out, we can see why it is a bounded minimization."
   ]
  },
  {
   "cell_type": "code",
   "execution_count": null,
   "metadata": {
    "collapsed": false,
    "deletable": true,
    "editable": true,
    "scrolled": true
   },
   "outputs": [],
   "source": [
    "x=np.linspace(-10,10,100)\n",
    "y=(x+2)*(x+3)**2\n",
    "plt.plot(x,y);\n",
    "plt.plot(x1,y1,'r.');"
   ]
  },
  {
   "cell_type": "markdown",
   "metadata": {
    "deletable": true,
    "editable": true
   },
   "source": [
    "From this plot, we can notice that the point (x1,y1) is only the minimum on its bounded interval $[2,6]$.\n",
    "\n",
    "It is no longer the minimum if the interval is larger."
   ]
  },
  {
   "cell_type": "markdown",
   "metadata": {
    "deletable": true,
    "editable": true
   },
   "source": [
    "## 2. minimize"
   ]
  },
  {
   "cell_type": "markdown",
   "metadata": {
    "deletable": true,
    "editable": true
   },
   "source": [
    "The function minimize is used to minimize a scalar function of **one or more variables**."
   ]
  },
  {
   "cell_type": "markdown",
   "metadata": {
    "deletable": true,
    "editable": true
   },
   "source": [
    "### 1) Method Nelder-Mead\n",
    "\n",
    "Method **Nelder-Mead** uses the Simplex algorithm to minimize a unconstrained function.\n",
    "\n",
    "**[Simplex algorithm](http://mathworld.wolfram.com/SimplexMethod.html) ** works as :\n",
    "\n",
    "![Simplex](https://upload.wikimedia.org/wikipedia/commons/thumb/e/ef/Simplex-description-en.svg/240px-Simplex-description-en.svg.png)(image sourse [here](https://upload.wikimedia.org/wikipedia/commons/thumb/e/ef/Simplex-description-en.svg/240px-Simplex-description-en.svg.png))\n",
    "\n",
    "It begins at a stating vertex and moves along the edges of the polytope until it reaches the vertex of the optimum solution\n",
    "\n",
    "Method Nelder-Mead takes **3 inputs**:\n",
    "* objective function\n",
    "* initial condition (initial point)\n",
    "* `method='nelder-mead'`"
   ]
  },
  {
   "cell_type": "markdown",
   "metadata": {
    "deletable": true,
    "editable": true
   },
   "source": [
    "### Example:\n",
    "\n",
    "Let's minimize the **[Rosenbrock function](https://en.wikipedia.org/wiki/Rosenbrock_function)** of N variables:\n",
    "\n",
    "$$\n",
    "f\\left(x\\right) = \\sum_{i=1}^{N-1}100\\left(x_i-x_{i-1}^2\\right)+\\left(1-x_{i-1}\\right)^2\n",
    "$$\n",
    "\n",
    "The minimum value of this function is 0 when xi=1. Let's check if method Nelder-Mead gives us the right answer."
   ]
  },
  {
   "cell_type": "code",
   "execution_count": null,
   "metadata": {
    "collapsed": true,
    "deletable": true,
    "editable": true
   },
   "outputs": [],
   "source": [
    "# define the Rosenbrock function\n",
    "\n",
    "def fun3(x):\n",
    "    return sum(100.0*(x[1:]-x[:-1]**2.0)**2.0 + (1-x[:-1])**2.0)"
   ]
  },
  {
   "cell_type": "code",
   "execution_count": null,
   "metadata": {
    "collapsed": true,
    "deletable": true,
    "editable": true
   },
   "outputs": [],
   "source": [
    "# set an initial condition with 5 variables\n",
    "\n",
    "x0 = np.array([1.3, 2.8, 5.4, 3.6, 7.9])"
   ]
  },
  {
   "cell_type": "code",
   "execution_count": null,
   "metadata": {
    "collapsed": false,
    "deletable": true,
    "editable": true
   },
   "outputs": [],
   "source": [
    "sol=minimize(fun3, x0, method='nelder-mead')\n",
    "sol.x"
   ]
  },
  {
   "cell_type": "markdown",
   "metadata": {
    "deletable": true,
    "editable": true
   },
   "source": [
    "So it gives us the same answer as we expected!"
   ]
  },
  {
   "cell_type": "markdown",
   "metadata": {
    "deletable": true,
    "editable": true
   },
   "source": [
    "### 2) Method SLSQP\n",
    "\n",
    "[Sequential Least SQuares Programming(**SLSQP**)](http://www.pyopt.org/reference/optimizers.slsqp.html) is the method used to **minimize** a **constrained nonlinear function** of several variables with any combination of bounds, equality and inequality constraints.\n",
    "\n",
    "[Algorithm basics of SLSQP](https://www.math.uh.edu/~rohop/fall_06/Chapter4.pdf): consider a nonlinear problem of the form:\n",
    "\n",
    "$$\\min f\\left(x\\right) s.t. b\\left(x\\right)\\geq 0, c\\left(x\\right)=0$$\n",
    "\n",
    "The Lagrangian for this problem is:\n",
    "\n",
    "$$\\mathcal{L}\\left(x,\\lambda,\\sigma\\right)=f\\left(x\\right)-\\lambda^Tb\\left(x\\right)-\\sigma^Tc\\left(x\\right)$$,\n",
    "\n",
    "where $\\lambda$ and $\\sigma$ are Lagrange multipliers. At an iterate $x_{k}$, a basic sequential quadratic programming algorithm defines an appropriate search direction $d_{k}$ as a solution to the quadratic programming subproblem:\n",
    "\n",
    "$$\n",
    "\\min f\\left(x_k\\right)+\\nabla f\\left(x_k\\right)^Td+\\frac{1}{2}d^T\\nabla_{xx}^{2}\\lambda\\left(x_k,\\lambda_k,\\sigma_k\\right)d\n",
    "$$\n",
    "\n",
    "s.t. \n",
    "$$\n",
    "b\\left(x_k\\right)+\\nabla b\\left(x_k\\right)^Td \\geq 0\\\\ \\\\c\\left(x_k\\right)+\\nabla c\\left(x_k\\right)^Td = 0\n",
    "$$\n",
    "\n",
    "Method SLSQP takes **5 inputs**:\n",
    "* objective function\n",
    "* initial condition (initial point)\n",
    "* `method='SLSQP'`\n",
    "* `bounds=`\n",
    "* `constraints=`"
   ]
  },
  {
   "cell_type": "markdown",
   "metadata": {
    "deletable": true,
    "editable": true
   },
   "source": [
    "### Example:\n",
    "\n",
    "We are given a funtion $x_1\\left(x_1+x_2+x_3\\right)+x_2\\left(x_2+x_3+x_4\\right)$ where $1\\leq x_1,x_2,x_3,x_4 \\leq 10$ and initial condition is $\\left(x_1,x_2,x_3,x_4\\right)=\\left(2,4,4,5\\right)$. We are asked to find its minimum value under the two contraints:\n",
    "* $x_1\\cdot x_2\\cdot x_3\\cdot x_4\\geq 36$\n",
    "* $x_1^2+x_2^2+x_3^2+x_4^2=60$"
   ]
  },
  {
   "cell_type": "markdown",
   "metadata": {
    "deletable": true,
    "editable": true
   },
   "source": [
    "Now let us define the function first:"
   ]
  },
  {
   "cell_type": "code",
   "execution_count": null,
   "metadata": {
    "collapsed": true,
    "deletable": true,
    "editable": true
   },
   "outputs": [],
   "source": [
    "def fun4(x):\n",
    "    '''Given x which is a list of 4 number (x1,x2,x3,x4) and return the function '''\n",
    "    \n",
    "    # set the values of x1, x2, x3, x4\n",
    "    x1 = x[0]\n",
    "    x2 = x[1]\n",
    "    x3 = x[2]\n",
    "    x4 = x[3]\n",
    "    # return the function\n",
    "    return x1*(x1+x2+x3)+x2*(x2+x3+x4)"
   ]
  },
  {
   "cell_type": "code",
   "execution_count": null,
   "metadata": {
    "collapsed": false,
    "deletable": true,
    "editable": true
   },
   "outputs": [],
   "source": [
    "# set the initial condition\n",
    "\n",
    "x0 = [2,4,4,5]\n",
    "mini_fun(x0)"
   ]
  },
  {
   "cell_type": "markdown",
   "metadata": {
    "deletable": true,
    "editable": true
   },
   "source": [
    "Now we are gonna define eahch of the four constraints:"
   ]
  },
  {
   "cell_type": "code",
   "execution_count": null,
   "metadata": {
    "collapsed": true,
    "deletable": true,
    "editable": true
   },
   "outputs": [],
   "source": [
    "def constraint1(x):\n",
    "    # set the values of x1, x2, x3, x4\n",
    "    x1 = x[0]\n",
    "    x2 = x[1]\n",
    "    x3 = x[2]\n",
    "    x4 = x[3]\n",
    "    return x1*x2*x3*x4-36\n",
    "\n",
    "def constraint2(x):\n",
    "    sum_sq = 60\n",
    "    for i in range(0,4):\n",
    "        sum_sq = sum_sq - x[i]**2\n",
    "    return sum_sq"
   ]
  },
  {
   "cell_type": "markdown",
   "metadata": {
    "deletable": true,
    "editable": true
   },
   "source": [
    "Now we need to set the bound and constraints:"
   ]
  },
  {
   "cell_type": "code",
   "execution_count": null,
   "metadata": {
    "collapsed": false,
    "deletable": true,
    "editable": true
   },
   "outputs": [],
   "source": [
    "b = [1,10]\n",
    "bnds = [b,b,b,b] # x1, x2, x3, x4 have the same bounds\n",
    "cons1 = {'type': 'ineq', 'fun': constraint1}\n",
    "cons2 = {'type': 'eq', 'fun': constraint2}\n",
    "cons = [cons1,cons2]"
   ]
  },
  {
   "cell_type": "code",
   "execution_count": null,
   "metadata": {
    "collapsed": false,
    "deletable": true,
    "editable": true
   },
   "outputs": [],
   "source": [
    "sol = minimize(fun4, x0, method='SLSQP', bounds=bnds, constraints=cons)\n",
    "sol.x"
   ]
  },
  {
   "cell_type": "code",
   "execution_count": null,
   "metadata": {
    "collapsed": false,
    "deletable": true,
    "editable": true
   },
   "outputs": [],
   "source": [
    "sol.fun"
   ]
  },
  {
   "cell_type": "markdown",
   "metadata": {
    "deletable": true,
    "editable": true
   },
   "source": [
    "It's clear that the 1D array of four x values is in the bounded interval $[1,10]$.\n",
    "\n",
    "Let's check if sol.x fits our constraints:"
   ]
  },
  {
   "cell_type": "code",
   "execution_count": null,
   "metadata": {
    "collapsed": false,
    "deletable": true,
    "editable": true
   },
   "outputs": [],
   "source": [
    "# Constraint 1: \n",
    "\n",
    "sol.x[0] * sol.x[1] * sol.x[2] * sol.x[3]"
   ]
  },
  {
   "cell_type": "code",
   "execution_count": null,
   "metadata": {
    "collapsed": false,
    "deletable": true,
    "editable": true
   },
   "outputs": [],
   "source": [
    "# Constraint 2:\n",
    "\n",
    "sol.x[0]**2 + sol.x[1]**2 + sol.x[2]**2 + sol.x[3]**2"
   ]
  },
  {
   "cell_type": "markdown",
   "metadata": {
    "deletable": true,
    "editable": true
   },
   "source": [
    "Our solution sol.x fits both constraints as we expected!"
   ]
  },
  {
   "cell_type": "markdown",
   "metadata": {
    "collapsed": true,
    "deletable": true,
    "editable": true
   },
   "source": [
    "**Note**: if $1\\leq \\left(x_1,x_2,x_3,x_4\\right)\\leq \\infty$, we can write our bounds as:\n",
    "\n",
    "b=[1,None]\n",
    "\n",
    "bnds=[b,b,b,b]"
   ]
  },
  {
   "cell_type": "markdown",
   "metadata": {
    "deletable": true,
    "editable": true
   },
   "source": [
    "## 3. Exercises"
   ]
  },
  {
   "cell_type": "markdown",
   "metadata": {
    "deletable": true,
    "editable": true
   },
   "source": [
    "**Exercise 1.** Minimize the function $-e^{-\\left(x-0.5\\right)^2}$ and plot its graph with its minimize point."
   ]
  },
  {
   "cell_type": "markdown",
   "metadata": {
    "deletable": true,
    "editable": true
   },
   "source": [
    "**Exercise 2.** Minimize the Beale's function:\n",
    "\n",
    "$$\n",
    "f\\left(x,y\\right)=\\left(1.5-x+xy\\right)^2+\\left(2.25-x+xy^2\\right)^2+\\left(2.625-x+xy^3\\right)^2\n",
    "$$"
   ]
  },
  {
   "cell_type": "markdown",
   "metadata": {
    "deletable": true,
    "editable": true
   },
   "source": [
    "**Exercise 3.** Minimize the function $\\left(x_1-1\\right)^2+\\left(x_2-2.5\\right)^2$ where $x_1$ and $x_2$ both are non-negative, under the constraints:\n",
    "\n",
    "* $x_1-2x_2\\geq -6$\n",
    "* $-x_1+2x_2\\geq -2$"
   ]
  }
 ],
 "metadata": {
  "kernelspec": {
   "display_name": "Python 3",
   "language": "python",
   "name": "python3"
  },
  "language_info": {
   "codemirror_mode": {
    "name": "ipython",
    "version": 3
   },
   "file_extension": ".py",
   "mimetype": "text/x-python",
   "name": "python",
   "nbconvert_exporter": "python",
   "pygments_lexer": "ipython3",
   "version": "3.5.2"
  }
 },
 "nbformat": 4,
 "nbformat_minor": 2
}
