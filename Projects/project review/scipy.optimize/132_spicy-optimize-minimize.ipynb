{
 "cells": [
  {
   "cell_type": "markdown",
   "metadata": {
    "collapsed": true,
    "deletable": true,
    "editable": true
   },
   "source": [
    "# SciPy.Optimize.Minimize Package #\n",
    "  ### \" How to minimize the cost of products in real life?\" ###"
   ]
  },
  {
   "cell_type": "markdown",
   "metadata": {
    "deletable": true,
    "editable": true
   },
   "source": [
    "I choose to present scipy.optimize.minimize package in this project. optimization is an important field in linear programming, it is thought highly of because it helps to solve many problems in reality. In economics, how to minimize the cost is an important topic for all companies, governments and individuals. \n",
    "\n",
    "Therefore, as a student who is interested in economics, I decided to solve relavent questions using python. "
   ]
  },
  {
   "cell_type": "markdown",
   "metadata": {
    "deletable": true,
    "editable": true
   },
   "source": [
    "### Packages will be used in project. ###"
   ]
  },
  {
   "cell_type": "markdown",
   "metadata": {
    "deletable": true,
    "editable": true
   },
   "source": [
    "In the project, scipy.optimize.minimize is the major package I will used. In addition, SciPy NumPy and matplotlib will also be used as subpackages. "
   ]
  },
  {
   "cell_type": "code",
   "execution_count": 5,
   "metadata": {
    "collapsed": true,
    "deletable": true,
    "editable": true
   },
   "outputs": [],
   "source": [
    "import numpy as np\n",
    "from scipy.optimize import minimize\n",
    "import matplotlib.pyplot as plt\n",
    "%matplotlib inline"
   ]
  },
  {
   "cell_type": "markdown",
   "metadata": {
    "deletable": true,
    "editable": true
   },
   "source": [
    "## Introduction ##"
   ]
  },
  {
   "cell_type": "markdown",
   "metadata": {
    "deletable": true,
    "editable": true
   },
   "source": [
    "Now, I will introduce my package about background, assumption and formula used."
   ]
  },
  {
   "cell_type": "markdown",
   "metadata": {
    "collapsed": true,
    "deletable": true,
    "editable": true
   },
   "source": [
    "#### Background ####"
   ]
  },
  {
   "cell_type": "markdown",
   "metadata": {
    "deletable": true,
    "editable": true
   },
   "source": [
    "Different products have different designs to appeal costomers. We are hard to know all the possible cans for all products.\n",
    "Therefore, we only discuss several fundamental and standard shapes, like cylinder, sphere or pyramid here.\n",
    "\n",
    "In tutorial, I will show it by cylinder example."
   ]
  },
  {
   "cell_type": "markdown",
   "metadata": {
    "deletable": true,
    "editable": true
   },
   "source": [
    "#### Assumptions ####"
   ]
  },
  {
   "cell_type": "markdown",
   "metadata": {
    "deletable": true,
    "editable": true
   },
   "source": [
    "Assume that a company plans to produce a kind of soft drinks using cylinder cans.(which is the most normal shape of soft drinks) \n",
    "Given fixed price and limit of radius,height and budget."
   ]
  },
  {
   "cell_type": "markdown",
   "metadata": {
    "collapsed": true,
    "deletable": true,
    "editable": true
   },
   "source": [
    " #### Volume and area of cylinder ####"
   ]
  },
  {
   "cell_type": "markdown",
   "metadata": {
    "deletable": true,
    "editable": true
   },
   "source": [
    "Here are the formulas:"
   ]
  },
  {
   "cell_type": "markdown",
   "metadata": {
    "deletable": true,
    "editable": true
   },
   "source": [
    "$$V = \\pi R^2 H$$"
   ]
  },
  {
   "cell_type": "markdown",
   "metadata": {
    "deletable": true,
    "editable": true
   },
   "source": [
    "$$A =2 \\pi R^2 + 2 \\pi R H $$"
   ]
  },
  {
   "cell_type": "markdown",
   "metadata": {
    "deletable": true,
    "editable": true
   },
   "source": [
    "                                  ** R represents radius \n",
    "                                     H represents height\n",
    "                                     V represents volumn\n",
    "                                     A represents area"
   ]
  },
  {
   "cell_type": "markdown",
   "metadata": {
    "collapsed": true,
    "deletable": true,
    "editable": true
   },
   "source": [
    "###### In order to make it more like a typical optimization problem in linear programming, I will replace R and H by x1 and x2 respectively in tutorial part ######"
   ]
  },
  {
   "cell_type": "markdown",
   "metadata": {
    "collapsed": true,
    "deletable": true,
    "editable": true
   },
   "source": [
    "#### Objective ####"
   ]
  },
  {
   "cell_type": "markdown",
   "metadata": {
    "collapsed": true,
    "deletable": true,
    "editable": true
   },
   "source": [
    "Objective is the key point in minimization questions since it displays aim."
   ]
  },
  {
   "cell_type": "markdown",
   "metadata": {
    "collapsed": true,
    "deletable": true,
    "editable": true
   },
   "source": [
    "#### Constraints ####"
   ]
  },
  {
   "cell_type": "markdown",
   "metadata": {
    "collapsed": true,
    "deletable": true,
    "editable": true
   },
   "source": [
    "Constrainsts determine the range of all possibilities, which represent limit resource in real economic world."
   ]
  },
  {
   "cell_type": "markdown",
   "metadata": {
    "collapsed": true,
    "deletable": true,
    "editable": true
   },
   "source": [
    "## Tutorial ##"
   ]
  },
  {
   "cell_type": "markdown",
   "metadata": {
    "deletable": true,
    "editable": true
   },
   "source": [
    "#### 1. Firstly, I show all the equations.(:cm) ####\n",
    "\n",
    "**All data are assumptions, and we assume that every square centimetre costs $1."
   ]
  },
  {
   "cell_type": "markdown",
   "metadata": {
    "collapsed": true,
    "deletable": true,
    "editable": true
   },
   "source": [
    "$$ \\min\\; (2 \\pi x_1^2 + 2 \\pi x_1 x_2) $$"
   ]
  },
  {
   "cell_type": "markdown",
   "metadata": {
    "deletable": true,
    "editable": true
   },
   "source": [
    "$$ \\ s.t.\\; 1< x_1 <3 $$"
   ]
  },
  {
   "cell_type": "markdown",
   "metadata": {
    "deletable": true,
    "editable": true
   },
   "source": [
    "$$ 5< x_2 <10 $$"
   ]
  },
  {
   "cell_type": "markdown",
   "metadata": {
    "collapsed": true,
    "deletable": true,
    "editable": true
   },
   "source": [
    "$$ 50 < \\pi x_1^2 x_2 < 270 $$"
   ]
  },
  {
   "cell_type": "markdown",
   "metadata": {},
   "source": [
    "$$ x_0 = (2,7) $$"
   ]
  },
  {
   "cell_type": "markdown",
   "metadata": {},
   "source": [
    "#### 2. Secondly, I will show it in code. ####"
   ]
  },
  {
   "cell_type": "code",
   "execution_count": 109,
   "metadata": {
    "collapsed": false
   },
   "outputs": [],
   "source": [
    "def objective (x):\n",
    "    x1 = x[0]\n",
    "    x2 = x[1]\n",
    "    return (2*np.pi*x1**2)+(2*np.pi*x1*x2)\n",
    "#present objective first#\n",
    "\n",
    "def constraint1(x):\n",
    "    return np.pi*x[0]**2*x[1]-50\n",
    "def constraint2(x):\n",
    "    return 270-np.pi*x[0]**2*x[1]\n",
    "#then present constraints, and it shows upper and lower bound for size of cans#"
   ]
  },
  {
   "cell_type": "code",
   "execution_count": 110,
   "metadata": {
    "collapsed": false
   },
   "outputs": [
    {
     "name": "stdout",
     "output_type": "stream",
     "text": [
      "113.09733552923255\n"
     ]
    }
   ],
   "source": [
    "x0 = [2,7]\n",
    "print (objective (x0))\n",
    "#show initial data#"
   ]
  },
  {
   "cell_type": "code",
   "execution_count": 111,
   "metadata": {
    "collapsed": true
   },
   "outputs": [],
   "source": [
    "b1 = (1,3)\n",
    "b2 = (5,10)\n",
    "bnds =(b1,b2)\n",
    "#it show the bounds for x1 and x2\n",
    "con1 = {'type':'ineq', 'fun': constraint1}\n",
    "con2 = {'type':'ineq', 'fun': constraint2}\n",
    "cons = [con1,con2]\n",
    "#it shows the type of constraints, both are inequation here#"
   ]
  },
  {
   "cell_type": "code",
   "execution_count": 112,
   "metadata": {
    "collapsed": false
   },
   "outputs": [],
   "source": [
    "sol = minimize(objective,x0,method='SLSQP',\\\n",
    "               bounds=bnds,constraints=cons)"
   ]
  },
  {
   "cell_type": "code",
   "execution_count": 113,
   "metadata": {
    "collapsed": false
   },
   "outputs": [
    {
     "name": "stdout",
     "output_type": "stream",
     "text": [
      "     fun: 76.049761447725572\n",
      "     jac: array([ 53.83585644,  11.20996475,   0.        ])\n",
      " message: 'Optimization terminated successfully.'\n",
      "    nfev: 26\n",
      "     nit: 9\n",
      "    njev: 5\n",
      "  status: 0\n",
      " success: True\n",
      "       x: array([ 1.78412132,  5.        ])\n"
     ]
    }
   ],
   "source": [
    "print(sol)"
   ]
  },
  {
   "cell_type": "code",
   "execution_count": 114,
   "metadata": {
    "collapsed": false
   },
   "outputs": [
    {
     "name": "stdout",
     "output_type": "stream",
     "text": [
      "1.7841213166\n"
     ]
    }
   ],
   "source": [
    "print (sol.x[0])"
   ]
  },
  {
   "cell_type": "code",
   "execution_count": 115,
   "metadata": {
    "collapsed": false
   },
   "outputs": [
    {
     "name": "stdout",
     "output_type": "stream",
     "text": [
      "5.0\n"
     ]
    }
   ],
   "source": [
    "print (sol.x[1])"
   ]
  },
  {
   "cell_type": "markdown",
   "metadata": {},
   "source": [
    "### Conclusion ###"
   ]
  },
  {
   "cell_type": "markdown",
   "metadata": {},
   "source": [
    "Now,we can get the conclusion of this question.\n",
    "\n",
    "When the radius and height equals to 1.78cm and 5cm respectively, the company will minimize cost, which is approximately $76.05."
   ]
  },
  {
   "cell_type": "markdown",
   "metadata": {
    "deletable": true,
    "editable": true
   },
   "source": [
    "## Examples ##"
   ]
  },
  {
   "cell_type": "markdown",
   "metadata": {
    "collapsed": true,
    "deletable": true,
    "editable": true
   },
   "source": [
    "In above,It discusses how to get minimize cost of producing cylinder cans. Actually, we can also use this package to solve similar questions like cuboid, sphere and so on.\n",
    "\n",
    "The things we need to change are formulas and equations."
   ]
  },
  {
   "cell_type": "markdown",
   "metadata": {},
   "source": [
    "#### I will show another simple example(coboic) here ####"
   ]
  },
  {
   "cell_type": "code",
   "execution_count": 116,
   "metadata": {
    "collapsed": false
   },
   "outputs": [],
   "source": [
    "def objective1 (x):\n",
    "    x1 = x[0]\n",
    "    x2 = x[1]\n",
    "    x3 = x[2]\n",
    "    return 2*x1*x2 + 2*x2*x3 + 2*x3*x1\n",
    "def constraint5(x):\n",
    "    return 250-x[0]*x[1]*x[2]"
   ]
  },
  {
   "cell_type": "code",
   "execution_count": 117,
   "metadata": {
    "collapsed": false
   },
   "outputs": [
    {
     "name": "stdout",
     "output_type": "stream",
     "text": [
      "250\n"
     ]
    }
   ],
   "source": [
    "x0 = [5,5,10]\n",
    "print (objective1 (x0))"
   ]
  },
  {
   "cell_type": "code",
   "execution_count": 118,
   "metadata": {
    "collapsed": false
   },
   "outputs": [],
   "source": [
    "b5 = (2,5)\n",
    "b6 = (2,5)\n",
    "b7 = (5,10)\n",
    "bnds = (b5, b6, b7)\n",
    "con5 = {'type':'ineq', 'fun':constraint5}"
   ]
  },
  {
   "cell_type": "code",
   "execution_count": 119,
   "metadata": {
    "collapsed": false
   },
   "outputs": [],
   "source": [
    "sol = minimize(objective,x0,method='SLSQP',\\\n",
    "            bounds=bnds,constraints=con5)"
   ]
  },
  {
   "cell_type": "code",
   "execution_count": 120,
   "metadata": {
    "collapsed": false
   },
   "outputs": [
    {
     "name": "stdout",
     "output_type": "stream",
     "text": [
      "     fun: 50.265482467209551\n",
      "     jac: array([ 37.69911194,  12.56637096,   0.        ,   0.        ])\n",
      " message: 'Optimization terminated successfully.'\n",
      "    nfev: 10\n",
      "     nit: 2\n",
      "    njev: 2\n",
      "  status: 0\n",
      " success: True\n",
      "       x: array([  2.,   2.,  10.])\n"
     ]
    }
   ],
   "source": [
    "print(sol)"
   ]
  },
  {
   "cell_type": "markdown",
   "metadata": {
    "deletable": true,
    "editable": true
   },
   "source": [
    "## Shortcoming ##"
   ]
  },
  {
   "cell_type": "markdown",
   "metadata": {
    "deletable": true,
    "editable": true
   },
   "source": [
    "There is no doubt that it will face much more complex circumstances in reality, because of the influence of changeable factors of economics, like policies or market competitions. \n",
    "\n",
    "If we want to learn about optimization model deeper, we may need to add more subpackages with the consideration of plenty of conditions.\n"
   ]
  },
  {
   "cell_type": "markdown",
   "metadata": {
    "collapsed": true,
    "deletable": true,
    "editable": true
   },
   "source": [
    "## Reference ##"
   ]
  },
  {
   "cell_type": "markdown",
   "metadata": {
    "deletable": true,
    "editable": true
   },
   "source": [
    "[SciPy Beginner's Guide for Optimization](https://www.youtube.com/watch?v=cXHvC_FGx24)"
   ]
  }
 ],
 "metadata": {
  "kernelspec": {
   "display_name": "Python 3",
   "language": "python",
   "name": "python3"
  },
  "language_info": {
   "codemirror_mode": {
    "name": "ipython",
    "version": 3
   },
   "file_extension": ".py",
   "mimetype": "text/x-python",
   "name": "python",
   "nbconvert_exporter": "python",
   "pygments_lexer": "ipython3",
   "version": "3.5.2"
  }
 },
 "nbformat": 4,
 "nbformat_minor": 2
}
