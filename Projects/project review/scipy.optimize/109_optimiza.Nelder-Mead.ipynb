{
 "cells": [
  {
   "cell_type": "markdown",
   "metadata": {
    "deletable": true,
    "editable": true
   },
   "source": [
    "**#MATH 210 Project I**"
   ]
  },
  {
   "cell_type": "markdown",
   "metadata": {
    "deletable": true,
    "editable": true
   },
   "source": [
    "**Minimization of scalar function with scipy.optimize by Nelder-Mead Algorithm**"
   ]
  },
  {
   "cell_type": "markdown",
   "metadata": {
    "deletable": true,
    "editable": true
   },
   "source": [
    "#Scipy is a open-source software for mathematics,science and engeering, which bases on Python.SciPy.optimize daul with maximizing and minizing a function by choosing input values from a set and computing the value of the function(see the [documentation](https://docs.scipy.org/doc/scipy-0.18.1/reference/optimize.html)):\n",
    "#1.Local optimization(see the [documentation](https://docs.scipy.org/doc/scipy-0.18.1/reference/optimize.html))\n",
    "#2.Equation (Local) Minimizers(see the [documentation](https://docs.scipy.org/doc/scipy-0.18.1/reference/optimize.html))\n",
    "#3.Global Optimization(see the [documentation](https://docs.scipy.org/doc/scipy-0.18.1/reference/optimize.html))\n",
    "#4.Rosenbrock function(see the [documentation](https://docs.scipy.org/doc/scipy-0.18.1/reference/optimize.html))\n"
   ]
  },
  {
   "cell_type": "markdown",
   "metadata": {
    "deletable": true,
    "editable": true
   },
   "source": [
    "**Cotents:**\n",
    "#1. Definition of Nelder-Mead Algorithm\n",
    "#2. Nelder-Mead Algorithm in Python\n",
    "#3. examples and counterexamples\n",
    "#4. exercises and references"
   ]
  },
  {
   "cell_type": "markdown",
   "metadata": {
    "deletable": true,
    "editable": true
   },
   "source": [
    "**Definition of Nelder-Mead Algorithm**\n",
    "\n",
    "#In order to understand Nelder-Mead Algorithm, We need to introduce **Simplex Method**(Simplex Algothrim) first:\n",
    "#**Simplex Method** finds optimal solutions for linear programs in standard form\n",
    "#For example,we have:\n",
    "#Maximize $c\\cdot x$\n",
    "#Subject to: $A x \\leqslant b$, $x \\geqslant 0$\n",
    "#Solve this by Simplex Method: first we turn the Linear Program into a dictionary, and then repeatedly pivot to get new dictionaries until we cannot increase the objective function or it is unbounded. That means every variable in objective function is negative.Finally, we get the optimal solution.\n",
    "#**[Nelder-Mead Algorithm](https://en.wikipedia.org/wiki/Nelder%E2%80%93Mead_method)** is a Simplex Method for finding a local minimum of a function for a number of variables.\n",
    "#We take n+1 test points in n dimensions and arranged as the Simplex Method. Then, we  need to compare the behavior of objective function by replcing the test point.In order to find a better new test point, we replace the worst one with a point reflected through the centroid of the remaining n points. In this way, the feasible region is decreased. If we cannot find the worse test point, we find the local minimum."
   ]
  },
  {
   "cell_type": "markdown",
   "metadata": {
    "collapsed": true,
    "deletable": true,
    "editable": true
   },
   "source": [
    "#Nelder–Mead simplex search over the Rosenbrock banana function from [Wikipedia](https://en.wikipedia.org/wiki/Nelder%E2%80%93Mead_method):"
   ]
  },
  {
   "cell_type": "markdown",
   "metadata": {
    "deletable": true,
    "editable": true
   },
   "source": [
    "**Nelder-Mead Algorithm in Python**"
   ]
  },
  {
   "cell_type": "code",
   "execution_count": null,
   "metadata": {
    "collapsed": true,
    "deletable": true,
    "editable": true
   },
   "outputs": [],
   "source": [
    "import numpy as np\n",
    "from scipy.optimize import minimize"
   ]
  },
  {
   "cell_type": "markdown",
   "metadata": {
    "deletable": true,
    "editable": true
   },
   "source": [
    "**Inputs** of **scipy.optimize.minimize**(by Nelder-Mead):\n",
    "#(fun, x0, args=(), method='Nelder-Mead', tol=None, callback=None, options={'disp': False, 'initial_simplex': None, 'maxiter': None, 'xatol': 0.0001, 'return_all': False, 'fatol': 0.0001, 'func': None, 'maxfev': None}) "
   ]
  },
  {
   "cell_type": "markdown",
   "metadata": {
    "deletable": true,
    "editable": true
   },
   "source": [
    "#As for Nelder-Mead Algorithm, fun is the objective function,x0 is the initial guess of a array of n test points,args=()is the extra arguments passed to the objective function. We use Nelder-Mead method. Tol is Tolerance for termination. There are some optional inputs which are not very useful. You can see the [documentation](https://docs.scipy.org/doc/scipy-0.18.1/reference/generated/scipy.optimize.minimize.html#scipy.optimize.minimize) "
   ]
  },
  {
   "cell_type": "markdown",
   "metadata": {
    "deletable": true,
    "editable": true
   },
   "source": [
    "**Outputs** are array of optimal test points for objective function"
   ]
  },
  {
   "cell_type": "markdown",
   "metadata": {
    "deletable": true,
    "editable": true
   },
   "source": [
    "**Examples**"
   ]
  },
  {
   "cell_type": "markdown",
   "metadata": {
    "collapsed": true,
    "deletable": true,
    "editable": true
   },
   "source": [
    "#1.**Sphere Function**\n",
    "#Sphere function is a test function for single-objective optimization,the formula is:\n",
    "$$f(x) = \\sum_{i=1}^{n} x_i^2$$"
   ]
  },
  {
   "cell_type": "code",
   "execution_count": null,
   "metadata": {
    "collapsed": false,
    "deletable": true,
    "editable": true
   },
   "outputs": [],
   "source": [
    "def sph(x):\n",
    "    \"\"\"The Sphere Function\"\"\"\n",
    "    return sum((x[1:])**2.0)\n",
    "\n",
    "x0 = np.array([1.3, 0.7, 0.8, 1.9, 1.2])\n",
    "res = minimize(sph, x0, method='nelder-mead')\n",
    "\n",
    "\n",
    "\n",
    "\n",
    "\n",
    "print(res.x)\n"
   ]
  },
  {
   "cell_type": "markdown",
   "metadata": {
    "deletable": true,
    "editable": true
   },
   "source": [
    "#We know that the global minimum for f(0) is 0"
   ]
  },
  {
   "cell_type": "code",
   "execution_count": null,
   "metadata": {
    "collapsed": false,
    "deletable": true,
    "editable": true
   },
   "outputs": [],
   "source": [
    "x0 = np.array([0, 0, 0, 0, 0])\n",
    "res = minimize(sph, x0, method='nelder-mead')\n",
    "\n",
    "\n",
    "\n",
    "\n",
    "\n",
    "print(res.x)\n"
   ]
  },
  {
   "cell_type": "markdown",
   "metadata": {
    "collapsed": true,
    "deletable": true,
    "editable": true
   },
   "source": [
    "#2.**Styblinski–Tang function:**\n",
    "#Styblinski–Tang function is a test function for single-objective optimization,the formula is:\n",
    "$$f(x) = \\frac{\\sum_{i=1}^{n}x_i^4-16 x_i^2 + 5 x_i}{2}$$"
   ]
  },
  {
   "cell_type": "code",
   "execution_count": null,
   "metadata": {
    "collapsed": false,
    "deletable": true,
    "editable": true
   },
   "outputs": [],
   "source": [
    "import numpy as np\n",
    "from scipy.optimize import minimize\n",
    "\n",
    "def ST(x):\n",
    "    \"\"\"Styblinski–Tang function\"\"\"\n",
    "    return sum((x[1:]**4)-16*x[1:]**2+5*x[1:])/2\n",
    "\n",
    "x0 = np.array([1, 0.7, 0.8])\n",
    "red = minimize(ST, x0, method='nelder-mead')\n",
    "\n",
    "print(red.x)"
   ]
  },
  {
   "cell_type": "markdown",
   "metadata": {
    "deletable": true,
    "editable": true
   },
   "source": [
    "#3.Rosenbrock function:\n",
    "#[**Rosenbrock function**](https://en.wikipedia.org/wiki/Rosenbrock_function) is the most famous test function for single-objective optimization,the formula is: \n",
    "$$f(x)= \\sum_{i=1}^{n}[100 (x_i+1 -x_i^2)+(x_i-1)^2]$$"
   ]
  },
  {
   "cell_type": "markdown",
   "metadata": {
    "deletable": true,
    "editable": true
   },
   "source": [
    "We can find the code [online](https://docs.scipy.org/doc/scipy-0.17.0/reference/tutorial/optimize.html)"
   ]
  },
  {
   "cell_type": "markdown",
   "metadata": {
    "deletable": true,
    "editable": true
   },
   "source": [
    "#4.exercises and references\n"
   ]
  },
  {
   "cell_type": "markdown",
   "metadata": {
    "deletable": true,
    "editable": true
   },
   "source": [
    "1.Give the purpose and definition of Nelder-Mead Algorithm."
   ]
  },
  {
   "cell_type": "markdown",
   "metadata": {
    "deletable": true,
    "editable": true
   },
   "source": [
    "2.Use Nelder-Mead Method to minimize\n",
    "$$f(x)= \\sum_{i=1}^{n}[5x+(x_i+1 -x_i^2)^3+(x_i-1)^2]$$"
   ]
  },
  {
   "cell_type": "markdown",
   "metadata": {
    "deletable": true,
    "editable": true
   },
   "source": [
    "3.Use Nelder-Mead Method to minimize \n",
    "$$f(x)= \\sum_{i=1}^{n}\\frac{[5x+(x_i+1 -x_i^2)+(x_i-1)^2]}{2x_i-4}$$"
   ]
  },
  {
   "cell_type": "markdown",
   "metadata": {
    "deletable": true,
    "editable": true
   },
   "source": [
    "**references**"
   ]
  },
  {
   "cell_type": "markdown",
   "metadata": {
    "deletable": true,
    "editable": true
   },
   "source": [
    "1.Test functions for optimization:https://en.wikipedia.org/wiki/Test_functions_for_optimization"
   ]
  },
  {
   "cell_type": "markdown",
   "metadata": {
    "deletable": true,
    "editable": true
   },
   "source": [
    "2.Interesting part of Nelder-Mead Method:https://www.youtube.com/watch?v=r6HZMJGzlDc"
   ]
  },
  {
   "cell_type": "markdown",
   "metadata": {
    "deletable": true,
    "editable": true
   },
   "source": [
    "3.video of Simplex Method:https://www.youtube.com/watch?v=2eCdWJ59iI4"
   ]
  },
  {
   "cell_type": "markdown",
   "metadata": {
    "deletable": true,
    "editable": true
   },
   "source": [
    "4.The Nelder-Mead Algorithm in Two Dimensions:http://people.duke.edu/~hpgavin/cee201/Nelder-Mead-2D.pdf "
   ]
  },
  {
   "cell_type": "code",
   "execution_count": null,
   "metadata": {
    "collapsed": true,
    "deletable": true,
    "editable": true
   },
   "outputs": [],
   "source": []
  }
 ],
 "metadata": {
  "kernelspec": {
   "display_name": "Python 3",
   "language": "python",
   "name": "python3"
  },
  "language_info": {
   "codemirror_mode": {
    "name": "ipython",
    "version": 3
   },
   "file_extension": ".py",
   "mimetype": "text/x-python",
   "name": "python",
   "nbconvert_exporter": "python",
   "pygments_lexer": "ipython3",
   "version": "3.5.2"
  }
 },
 "nbformat": 4,
 "nbformat_minor": 2
}
