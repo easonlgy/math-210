{
 "cells": [
  {
   "cell_type": "markdown",
   "metadata": {
    "deletable": true,
    "editable": true
   },
   "source": [
    "\n",
    "# Convex Optimization with `scipy.optimize.linprog` "
   ]
  },
  {
   "cell_type": "markdown",
   "metadata": {
    "deletable": true,
    "editable": true
   },
   "source": [
    "$$ ----- $$"
   ]
  },
  {
   "cell_type": "markdown",
   "metadata": {
    "deletable": true,
    "editable": true
   },
   "source": [
    "## Contents\n",
    "\n",
    "### 0. Introduction\n",
    "* 0.0 Topics and Learning Goals\n",
    "* 0.1 Python Package Specifications\n",
    "\n",
    "### 1. Convex Optimization\n",
    "* 1.0 Terminology\n",
    "* 1.1 Feasible Region\n",
    "* 1.2 Standard Form\n",
    "* 1.3 How to put a Problem into Standard Form\n",
    "\n",
    "### 2. Using `scipy.optimize.linprog`\n",
    "* 2.0 Syntax for the package\n",
    "* 2.1 Input Parameters\n",
    "* 2.2 Output Parameters\n",
    "\n",
    "### 3. Applications and Examples\n",
    "* 3.0 Extreme Examples\n",
    "* 3.1 Real-World Applications\n",
    "\n",
    "### 4. Relevant Documentation and Resources\n",
    "* 4.0 Relevant Mathematical Theorems\n",
    "* 4.1 Further References"
   ]
  },
  {
   "cell_type": "markdown",
   "metadata": {
    "deletable": true,
    "editable": true
   },
   "source": [
    "$$ ----- $$"
   ]
  },
  {
   "cell_type": "markdown",
   "metadata": {
    "deletable": true,
    "editable": true
   },
   "source": [
    "# Introduction\n",
    "\n",
    "[`scipy.optimize`](https://docs.scipy.org/doc/scipy-0.18.1/reference/optimize.html) is a Python subpackage from the scientific computing package SciPy. This subpackage addresses many different computational problems but this project will focus linear programming in [`scipy.optimize.linprog`](https://docs.scipy.org/doc/scipy-0.15.1/reference/generated/scipy.optimize.linprog.html)."
   ]
  },
  {
   "cell_type": "markdown",
   "metadata": {
    "deletable": true,
    "editable": true
   },
   "source": [
    "### 0.0 Learning Goals\n",
    "\n",
    "* Learn the Basics of Linear Programming/Optimization\n",
    "* Learn How to use `scipy.optimize.linprog`\n",
    "* Learn How to use `scipy.optimize.linprog` with Real-Life Examples\n",
    "* Learn More with extra resources"
   ]
  },
  {
   "cell_type": "markdown",
   "metadata": {
    "deletable": true,
    "editable": true
   },
   "source": [
    "### 0.1 Python Package Specifications\n",
    "\n",
    "For this package we need to import `scipy.optimize` and from that we will import `linprog`. `scipy.optimize` helps with many other computation problems such as maximizing, fitting, root finding. See the documentation on [`scipy.optimize`](https://docs.scipy.org/doc/scipy-0.18.1/reference/optimize.html) for more uses of `scipy.optimize`. "
   ]
  },
  {
   "cell_type": "code",
   "execution_count": null,
   "metadata": {
    "collapsed": true,
    "deletable": true,
    "editable": true
   },
   "outputs": [],
   "source": [
    "import numpy as np\n",
    "import matplotlib.pyplot as plt\n",
    "%matplotlib inline"
   ]
  },
  {
   "cell_type": "code",
   "execution_count": null,
   "metadata": {
    "collapsed": false,
    "deletable": true,
    "editable": true
   },
   "outputs": [],
   "source": [
    "import scipy.optimize"
   ]
  },
  {
   "cell_type": "markdown",
   "metadata": {
    "deletable": true,
    "editable": true
   },
   "source": [
    "For simplicity, we will import the `linprog` package from `scipy.optimize` as `lp` as we will be solving Linear Programming problems which have the abbreviation 'LP'"
   ]
  },
  {
   "cell_type": "code",
   "execution_count": null,
   "metadata": {
    "collapsed": true,
    "deletable": true,
    "editable": true
   },
   "outputs": [],
   "source": [
    "from scipy.optimize import linprog as lp"
   ]
  },
  {
   "cell_type": "markdown",
   "metadata": {
    "deletable": true,
    "editable": true
   },
   "source": [
    "$$ ----- $$"
   ]
  },
  {
   "cell_type": "markdown",
   "metadata": {
    "deletable": true,
    "editable": true
   },
   "source": [
    "## 1. Convex Optimization\n",
    "\n",
    "Before we begin with the python package we should know what exactly this helps with and what a Linear Programming Problem actually is. A linear program looks like the problem below. \n",
    "\n",
    "\n",
    "Maximize $\\qquad 4x_1 + 5x_2 + 7x_3$\n",
    "    \n",
    "subject to\n",
    "    \n",
    "$ \\qquad \\qquad \\begin{matrix}\n",
    "2x_1 + 1x_2 + 3x_3 \\leq 5 \\\\\n",
    "2x_1 + 3x_2 + 1x_3 \\leq 4 \\\\\n",
    "3x_1 + 2x_3 + 1x_3 \\leq 10 \\\\\n",
    "\\qquad \\qquad  x_1, x_2, x_3 \\geq 0\n",
    "\\end{matrix} $\n",
    "\n",
    "Here we are trying to find an $x_1, x_2,$ and $x_3$ that make $4x_1 + 5x_2 + 7x_3$ as large as possible while not breaking any of the \"subject to\" constraints.  "
   ]
  },
  {
   "cell_type": "markdown",
   "metadata": {
    "deletable": true,
    "editable": true
   },
   "source": [
    "### 1.0 Terminology\n",
    "The type of problems we are solving with `scipy.optimize.linprog` is a problem is called a **linear program**. The function you are trying to maximize or minimize is called the **objective function**. Each of the inequalities or equations the variables must satisfy is called a **constraint**. A constraint that simply specify that a variable is non-negative, such as $x \\geq 0$, is called a **positivity constraint**. The *Simplex Method* relies on positiviy constraints. For example, take this linear programming problem. \n",
    "\n",
    "Maximize $\\qquad 4x_1 + 5x_2 + 7x_3 \\qquad \\leftarrow $  **objective function**\n",
    "    \n",
    "subject to\n",
    "    \n",
    "$ \\qquad \\qquad \\begin{matrix}\n",
    "2x_1 + 1x_2 + 3x_3 \\leq 5 \\\\\n",
    "2x_1 + 3x_2 + 1x_3 \\leq 4 \\\\\n",
    "3x_1 + 2x_3 + 1x_3 \\leq 10 \\\\\n",
    "\\qquad \\qquad  x_1, x_2, x_3 \\geq 0\n",
    "\\end{matrix} \\qquad \\leftarrow $ **constraints**\n",
    "\n",
    "\n",
    "$ \\qquad  \\qquad  \\qquad \\qquad  \\qquad \\uparrow $ **positivity constraints**\n"
   ]
  },
  {
   "cell_type": "markdown",
   "metadata": {
    "deletable": true,
    "editable": true
   },
   "source": [
    "The linear programming problem can be written as a Matrix where $A$ is the matrix with the coefficients on the left hand side of the inequalities, $b$ is the constants on the right hand side of the inequalities, and $c$ is a matrix with the coefficients on the objective function.\n",
    "\n"
   ]
  },
  {
   "cell_type": "markdown",
   "metadata": {
    "collapsed": true,
    "deletable": true,
    "editable": true
   },
   "source": [
    "### 1.1 Standard Form\n",
    "\n",
    "For the [Simplex Algorithm](https://en.wikipedia.org/wiki/Simplex_algorithm#Standard_form), the default method for `scipy.optimize.linprog` to work, we must put the Linear Programming Problem (LP Problem for short) in standard form. The standard form is below."
   ]
  },
  {
   "cell_type": "markdown",
   "metadata": {
    "deletable": true,
    "editable": true
   },
   "source": [
    "Maximize $\\mathbf{c} \\cdot \\mathbf{x} \n",
    "$\n",
    "\n",
    "Subject to\n",
    "$\n",
    "\\begin{cases}\n",
    "A\\mathbf{x} \\leq \\mathbf{b} \\\\\n",
    "\\ \\ \\mathbf{x} \\geq 0 \n",
    "\\end{cases}\n",
    "$"
   ]
  },
  {
   "cell_type": "markdown",
   "metadata": {
    "deletable": true,
    "editable": true
   },
   "source": [
    "### 1.2 Feasible Region\n",
    "The set of points that satisfy all the constraints is called the feasible region. It is always convex, meaning that whenever two points are in the feasible region, so is the entire line segment connecting them. This is why Linear Programming is a part of convex optimization as it is optimizing the convex region with linear constraints. Non-Linear Convex Optimization is also very useful but we will not be discussing this (see 4.2 Further Resources for more information). The image below shows a visual representation of the Feasible region (shaded in Yellow) with each line being a constraint."
   ]
  },
  {
   "cell_type": "markdown",
   "metadata": {
    "deletable": true,
    "editable": true
   },
   "source": [
    "\n",
    "\n",
    "<img src=\"http://www.mathcs.emory.edu/~cheung/Courses/323/Syllabus/ConstrainedOpt/FIGS/Simplex/simplex10.gif\" align=\"left\"alt=\"Drawing\" style=\"width: 500px;\"/>"
   ]
  },
  {
   "cell_type": "markdown",
   "metadata": {
    "deletable": true,
    "editable": true
   },
   "source": [
    "Image courtesy of [http://www.mathcs.emory.edu/](http://www.mathcs.emory.edu/~cheung/Courses/323/Syllabus/ConstrainedOpt/simplex5.html)\n"
   ]
  },
  {
   "cell_type": "markdown",
   "metadata": {
    "deletable": true,
    "editable": true
   },
   "source": [
    "### 1.3 How to put a Problem into Standard Form\n",
    "\n",
    "To put an LP problem into standard form first make sure all the inequalities are $\\leq$ (less than or equal to). \n",
    "\n",
    "* If they are $\\geq$, multiply both sides by $-1$ to flip the inequality.\n",
    "    \n",
    "    $ \\qquad 7x + 5y - 6z  \\geq -10$\n",
    "    \n",
    "    $ \\qquad \\rightarrow$  Multiplying both sides by $-1$\n",
    "    \n",
    "    $ \\qquad −7x − 5y + 6z \\leq 10$\n",
    "    \n",
    "    \n",
    "* If the constraint is an equality, create two new constraints, one $\\leq$ and one $\\geq$ and then multiply both sides by $-1$ to flip the inequality of the $\\geq$ constraint.\n",
    "    \n",
    "    $ \\qquad  7x + 5y - 6z = -10$\n",
    "       \n",
    "    Create two new constraints\n",
    "   \n",
    "    $ \\qquad  7x + 5y - 6z \\leq -10$\n",
    "    \n",
    "    $ \\qquad  7x + 5y - 6z  \\geq -10 \\ \\rightarrow \\ −7x − 5y + 6z \\leq 10$\n",
    "    "
   ]
  },
  {
   "cell_type": "markdown",
   "metadata": {
    "deletable": true,
    "editable": true
   },
   "source": [
    "* If there is a free variable, a variable lacks a positivity constraint, \"make a difference\". If $x$ is free, we can set $x = x′ − x′′$, where $x′, x′′ ≥ 0$. The linear programming problem changes from LP to LP':\n",
    "\n",
    "    (LP) Maximize $\\qquad −2x + 3y − 5z$\n",
    "    \n",
    "    subject to\n",
    "    \n",
    "    $ \\qquad \\qquad \\begin{matrix}\n",
    "    -7x − 5y + 6z \\leq 10 \\\\\n",
    "    2x + 8y − 4z \\leq 3 \\\\\n",
    "    9x − 2y − 5z \\leq 4 \\\\\n",
    "    \\qquad \\qquad  y, z \\geq 0\n",
    "    \\end{matrix} $\n"
   ]
  },
  {
   "cell_type": "markdown",
   "metadata": {
    "deletable": true,
    "editable": true
   },
   "source": [
    "* Now to fix the free variable we set $x = x′ − x′′$, where $x′, x′′ ≥ 0$. To get the LP in standard form LP'.\n",
    "\n",
    "    (LP') Maximize $\\qquad 2x′ + 2x′′ + 3y − 5z$\n",
    "    \n",
    "    subject to\n",
    "\n",
    "    $ \\qquad \\qquad \\begin{matrix}\n",
    "    -7x′ − 7x′′ − 5y + 6z \\leq 10 \\\\\n",
    "    2x′ + 2x′′ + 8y − 4z \\leq 3 \\\\\n",
    "    9x′ − 9x′′ − 2y − 5z  \\leq 4 \\\\\n",
    "    \\qquad \\qquad  x′, x′′, y, z \\geq 0\n",
    "    \\end{matrix} $\n",
    "   "
   ]
  },
  {
   "cell_type": "markdown",
   "metadata": {
    "deletable": true,
    "editable": true
   },
   "source": [
    "$$ ----- $$"
   ]
  },
  {
   "cell_type": "markdown",
   "metadata": {
    "deletable": true,
    "editable": true
   },
   "source": [
    "## 2. Using `scipy.optimize.linprog`"
   ]
  },
  {
   "cell_type": "markdown",
   "metadata": {
    "deletable": true,
    "editable": true
   },
   "source": [
    "### 2.0 Syntax for the Package\n",
    "\n",
    "Our Standard Form for LP Problems has been:\n",
    "\n",
    "Maximize $\\mathbf{c} \\cdot \\mathbf{x} \n",
    "$\n",
    "\n",
    "Subject to\n",
    "$\n",
    "\\begin{cases}\n",
    "A\\mathbf{x} \\leq \\mathbf{b} \\\\\n",
    "\\ \\ \\mathbf{x} \\geq 0 \n",
    "\\end{cases}\n",
    "$\n",
    "\n",
    "So we use `scipy.optimize.linprog` to find the vector x, given $A$, $b$ and $c$."
   ]
  },
  {
   "cell_type": "markdown",
   "metadata": {
    "deletable": true,
    "editable": true
   },
   "source": [
    "### 2.1 Input Parameters"
   ]
  },
  {
   "cell_type": "markdown",
   "metadata": {
    "deletable": true,
    "editable": true
   },
   "source": [
    "Take this linear programming problem as an example on how to format the input for `scipy.optimize.linprog`.\n",
    "\n",
    "Maximize $\\qquad 4x_1 + 5x_2 + 7x_3$ \n",
    "    \n",
    "subject to\n",
    "    \n",
    "$ \\qquad \\qquad \\begin{matrix}\n",
    "2x_1 + 1x_2 + 3x_3 \\leq 5 \\\\\n",
    "2x_1 + 3x_2 + 1x_3 \\leq 4 \\\\\n",
    "3x_1 + 2x_2 + 1x_3 \\leq 10 \\\\\n",
    "\\qquad \\qquad  x_1, x_2, x_3 \\geq 0\n",
    "\\end{matrix} $ "
   ]
  },
  {
   "cell_type": "markdown",
   "metadata": {
    "deletable": true,
    "editable": true
   },
   "source": [
    "The function `scipy.optimize.linprog` take in the parameters `scipy.optimize.linprog(c, A_ub=None, b_ub=None, A_eq=None, b_eq=None, bounds=None, method='simplex', callback=None, options=None)` where each parameter is explained below."
   ]
  },
  {
   "cell_type": "markdown",
   "metadata": {
    "deletable": true,
    "editable": true
   },
   "source": [
    "* `c` : Numpy array with the coefficients of the linear objective function\n",
    "    \n",
    "* `A_ub=` : Numpy array of upper-bound inequality constraints at x. (A)\n",
    "    \n",
    "* `b_ub=` : 1D Numpy array of values representing the upper-bound of each inequality constraint in A_ub. (b)\n",
    "    \n",
    "* `A_eq=` : 2D Numpy array of equality constraints at x\n",
    "\n",
    "* `b_eq=` : 1D Numpy array of values representing the RHS of each equality constraint on x\n",
    "\n",
    "* `bounds=` : (0, None) represents non-negative, we need this for the simplex method.\n",
    "        \n",
    "* `method=` : default(and only) method is `simplex` so just keep it this way.\n",
    "    \n",
    "* `callback=` : \n",
    "    * `tableau` - Each pivot the function will display the current tableau (expanded matrix A).\n",
    "    * `nit`     - Each pivot the function will display the number of itirations it is on.\n",
    "    * `pivot`   - Each pivot the function will display (row, column) of the pivot used for the NEXT iteration.\n",
    "    * `phase`   - Each pivot the function will display if the algorithm is in Phase1/Phase2 (dont worry about this).\n",
    "    * `basis`   - Each pivot the function will display the current basis of the LP problem.\n",
    "    * or `None` - Will only display the final output parameters."
   ]
  },
  {
   "cell_type": "markdown",
   "metadata": {
    "deletable": true,
    "editable": true
   },
   "source": [
    "We can form the matricies $A$, $b$, and $c$ and their matrix representations as arrays in python. \n",
    "\n",
    "$\n",
    "A = \n",
    "\\begin{bmatrix} \n",
    "2 & 1 & 3 \\\\\n",
    "2 & 3 & 1 \\\\\n",
    "3 & 2 & 1 \\\\\n",
    "\\end{bmatrix} \\qquad\n",
    "b = \\begin{bmatrix} \n",
    "5 \\\\\n",
    "4 \\\\\n",
    "10 \\\\\n",
    "\\end{bmatrix} \\qquad \n",
    "c = \\begin{bmatrix} \n",
    "4 \\\\\n",
    "5 \\\\\n",
    "7 \\\\\n",
    "\\end{bmatrix}\n",
    "$\n",
    "\n",
    "`A = [[2,1,3],[2,3,1],[3,2,1]]   b = [5,4,10]   c = [4,5,7]`"
   ]
  },
  {
   "cell_type": "markdown",
   "metadata": {
    "deletable": true,
    "editable": true
   },
   "source": [
    "### 2.2 Output Parameters\n",
    "\n",
    "`scipy.optimize.linprog` returns the parameters `fun`, `message`, `nit`, `slack`, `status`, `success`, and `x` where each parameter represents what is listed below. The most important parameter is `x` as that is the optimal solution vector the the LP Problem that `scipy.optimize.linprog` helps us solve. The other parameters are useful in showing us where an error has occured such as `message` and `status`. Again, remember that `scipy.optimize.linprog` takes the input as a minimization problem so the output in `fun` will be opposite sign if we have a maximization problem (which we should have because that is standard form, make sure to check this each time).\n",
    "\n",
    "\n",
    "\n",
    "`fun`: Returns the value of the objective function as a float \n",
    "     \n",
    "`message`: Returns a string that says terminated successfully or if there was a problem. \n",
    " \n",
    "`nit`: Retuns the number of iterations as an integer\n",
    "    \n",
    "`slack`: Returns the values of the slack variables as an array \n",
    "   \n",
    "`status`: Returns an integer that represents the status of the pivoting.\n",
    "If 0: LP Problem has an optimal solution. \n",
    "If 1: Reached Iteration limit.\n",
    "If 3: Infeasible LP Problem.\n",
    "If 4: Unbounded LP problem.\n",
    "          \n",
    "          \n",
    "`success`: Returns a boolean. True if found an optimal solution, false if no solution was found.\n",
    " \n",
    "`x`: Returns an array that is the optimal solution vector that optimizes the LP Problem"
   ]
  },
  {
   "cell_type": "markdown",
   "metadata": {
    "deletable": true,
    "editable": true
   },
   "source": [
    "$$ ----- $$"
   ]
  },
  {
   "cell_type": "markdown",
   "metadata": {
    "deletable": true,
    "editable": true
   },
   "source": [
    "## 3. Applications and Examples\n"
   ]
  },
  {
   "cell_type": "markdown",
   "metadata": {
    "deletable": true,
    "editable": true
   },
   "source": [
    "### 3.0 Basic Examples"
   ]
  },
  {
   "cell_type": "markdown",
   "metadata": {
    "deletable": true,
    "editable": true
   },
   "source": [
    "#### Example 1\n",
    "Take the LP Problem below."
   ]
  },
  {
   "cell_type": "markdown",
   "metadata": {
    "deletable": true,
    "editable": true
   },
   "source": [
    "Maximize $\\qquad 2x_1 + 5x_2 + 4x_3$ \n",
    "    \n",
    "subject to\n",
    "    \n",
    "$ \\qquad \\qquad \\begin{matrix}\n",
    "x_1 - x_2 + x_3 \\leq 1 \\\\\n",
    "-x_1 - x_2  \\leq -3  \\\\\n",
    "x_2 - x_3 \\leq -2 \\\\\n",
    "\\qquad \\qquad  x_1, x_2, x_3 \\geq 0\n",
    "\\end{matrix} $ "
   ]
  },
  {
   "cell_type": "markdown",
   "metadata": {
    "deletable": true,
    "editable": true
   },
   "source": [
    "We begin by forming the matricies $A$, $b$, and $c$ as their matrix representations as arrays in python. \n",
    "\n",
    "$\n",
    "A = \n",
    "\\begin{bmatrix} \n",
    "1 & -1 & 1 \\\\\n",
    "-1 & -1 & 0 \\\\\n",
    "0 & -1 & -1 \\\\\n",
    "\\end{bmatrix} \\qquad\n",
    "b = \\begin{bmatrix} \n",
    "1 \\\\\n",
    "-3 \\\\\n",
    "-3 \\\\\n",
    "\\end{bmatrix} \\qquad \n",
    "c = \\begin{bmatrix} \n",
    "2 \\\\\n",
    "5 \\\\\n",
    "4 \\\\\n",
    "\\end{bmatrix}\n",
    "$\n",
    "\n",
    "`A = [[1,-1,1],[-1,-1,0],[0,-1,-1]]   b = [1,-3,-2]   c = [2,5,4]`"
   ]
  },
  {
   "cell_type": "markdown",
   "metadata": {
    "deletable": true,
    "editable": true
   },
   "source": [
    "Now using the function with inputs \n",
    "\n",
    "`scipy.optimize.linprog(c, A_ub=None, b_ub=None, A_eq=None, b_eq=None, bounds=None, method='simplex', callback=None, options=None`\n",
    "\n",
    "We input\n",
    "\n",
    "`scipy.optimize.linprog([2,5,4], A_ub=[[1,-1,1],[-1,-1,0],[0,-1,-1]], b_ub=[1,-3,-2], A_eq=None, b_eq=None, bounds=None, method='simplex', callback=None, options=None`"
   ]
  },
  {
   "cell_type": "code",
   "execution_count": null,
   "metadata": {
    "collapsed": false,
    "deletable": true,
    "editable": true
   },
   "outputs": [],
   "source": [
    "R = scipy.optimize.linprog([2,5,4], A_ub=[[1,-1,1],[-1,-1,0],[0,-1,-1]],\n",
    "                           b_ub=[1,-3,-2], A_eq=None, b_eq=None, \n",
    "                           bounds=None,method='simplex', callback=None,\n",
    "                           options=None)\n",
    "R"
   ]
  },
  {
   "cell_type": "markdown",
   "metadata": {
    "deletable": true,
    "editable": true
   },
   "source": [
    "The result is given in the output of R which is optimal which we set to the function `scipy.optimize.lp`, or `lp` in the following examples. "
   ]
  },
  {
   "cell_type": "markdown",
   "metadata": {
    "deletable": true,
    "editable": true
   },
   "source": [
    "The solution to **Example 1** is $x= \\begin{bmatrix}1\\\\2\\\\0\\end{bmatrix}$"
   ]
  },
  {
   "cell_type": "markdown",
   "metadata": {
    "collapsed": true,
    "deletable": true,
    "editable": true
   },
   "source": [
    "#### Example 2\n",
    "Take the LP Problem below."
   ]
  },
  {
   "cell_type": "markdown",
   "metadata": {
    "collapsed": true,
    "deletable": true,
    "editable": true
   },
   "source": [
    "Maximize $\\qquad x_1 + 2x_2 - x_3$ \n",
    "    \n",
    "subject to\n",
    "    \n",
    "$ \\qquad \\qquad \\begin{matrix}\n",
    "2x_1 +  x_2 +  x_3 \\leq 14 \\\\\n",
    "4x_1 + 2x_2 + 3x_3 \\leq 28  \\\\\n",
    "2x_1 + 5x_2 + 5x_3 \\leq 30 \\\\\n",
    "\\qquad \\qquad  x_1, x_2, x_3 \\geq 0\n",
    "\\end{matrix} $ "
   ]
  },
  {
   "cell_type": "code",
   "execution_count": null,
   "metadata": {
    "collapsed": false,
    "deletable": true,
    "editable": true
   },
   "outputs": [],
   "source": [
    "A2 = [[2,1,1],[4,2,3],[2,5,5]]\n",
    "b2 = [14,28,30]\n",
    "c2 = [1,2,-1]\n",
    "\n",
    "S = lp(c2, A_ub=A2,b_ub=b2)\n",
    "S"
   ]
  },
  {
   "cell_type": "markdown",
   "metadata": {
    "deletable": true,
    "editable": true
   },
   "source": [
    "The solution to **Example 2** is $x=\n",
    "\\begin{bmatrix}0\\\\0\\\\6\\end{bmatrix}$"
   ]
  },
  {
   "cell_type": "markdown",
   "metadata": {
    "deletable": true,
    "editable": true
   },
   "source": [
    "#### Example 3\n",
    "Take the LP Problem below."
   ]
  },
  {
   "cell_type": "markdown",
   "metadata": {
    "deletable": true,
    "editable": true
   },
   "source": [
    "Maximize $\\qquad -3x_1 - 2x_2$ \n",
    "    \n",
    "subject to\n",
    "    \n",
    "$ \\qquad \\qquad \\begin{matrix}\n",
    "1x_1 - 2x_2  \\leq  1 \\\\\n",
    "1x_1 - 1x_2  \\leq  2 \\\\\n",
    "2x_1 - 1x_2  \\leq  6 \\\\\n",
    "1x_1 + 0x_2  \\leq  5 \\\\\n",
    "2x_1 + 1x_2  \\leq 16 \\\\\n",
    "1x_1 + 1x_2  \\leq 12 \\\\\n",
    "1x_1 + 2x_2  \\leq 21 \\\\\n",
    "0x_1 + 1x_2  \\leq 10 \\\\\n",
    "\\qquad \\qquad  x_1, x_2 \\geq 0\n",
    "\\end{matrix} $ "
   ]
  },
  {
   "cell_type": "code",
   "execution_count": null,
   "metadata": {
    "collapsed": false,
    "deletable": true,
    "editable": true
   },
   "outputs": [],
   "source": [
    "A3 = [[1,-2],[1,-1],[2,-1],[1,0],[2,1],[1,1],[1,2],[0,1]]\n",
    "b3 = [1,2,6,5,16,12,21,10]\n",
    "c3 = [-3,-2]\n",
    "\n",
    "T = lp(c3, A_ub=A3,b_ub=b3)\n",
    "T"
   ]
  },
  {
   "cell_type": "markdown",
   "metadata": {
    "deletable": true,
    "editable": true
   },
   "source": [
    "The solution to **Example 3** is $x=\n",
    "\\begin{bmatrix}4\\\\8\\end{bmatrix}$"
   ]
  },
  {
   "cell_type": "markdown",
   "metadata": {
    "deletable": true,
    "editable": true
   },
   "source": [
    "### 3.1 Real-World Application Problems\n"
   ]
  },
  {
   "cell_type": "markdown",
   "metadata": {
    "deletable": true,
    "editable": true
   },
   "source": [
    "### Real Example 1\n",
    "\n",
    "A company manufactures inkjet and laser printers. The company can make a total of 60 printers per day, an it has 120 labor hours per day available. It takes one hour or manufacture an inkjet printer and three hours to make a laser printer. The profit is forty-five dollars per inkjet printer and sixty-five per laser printer. \n",
    "\n",
    "**How many of each printer should the company produce to maximize their profits?**"
   ]
  },
  {
   "cell_type": "markdown",
   "metadata": {
    "deletable": true,
    "editable": true
   },
   "source": [
    "<img src=\"https://i.kinja-img.com/gawker-media/image/upload/s--RZcoAwn5--/c_scale,fl_progressive,q_80,w_800/19g7dtki8a6unjpg.jpg\" align=\"left\" alt=\"Drawing\" style=\"width: 500px;\"/>\n",
    "\n"
   ]
  },
  {
   "cell_type": "markdown",
   "metadata": {
    "deletable": true,
    "editable": true
   },
   "source": [
    "Problem taken from Prezi. Photo from google. [Source](https://prezi.com/47gjk6vc4yrj/linear-programming-with-real-world-examples/)"
   ]
  },
  {
   "cell_type": "markdown",
   "metadata": {
    "deletable": true,
    "editable": true
   },
   "source": [
    "#### Step One - Assign Variables\n",
    "\n",
    "$x_1$ - Inkjet Printers\n",
    "\n",
    "$x_2$ - Laser Printers"
   ]
  },
  {
   "cell_type": "markdown",
   "metadata": {
    "deletable": true,
    "editable": true
   },
   "source": [
    "To use `scipy.optimize.linprog` we put it into standard from, so the LP problem will now be (see 1.2 for more information)\n",
    "\n",
    "Maximize(Profit) $\\ 45x_1 + 65x_2 $ \n",
    "    \n",
    "subject to\n",
    "    \n",
    "$ \\qquad \\qquad \\begin{matrix}\n",
    "x_1 +  x_2 \\leq 60 \\\\ \n",
    "x_1 + 3x_2 \\leq 120 \\\\ \n",
    "\\qquad \\qquad  x_1, x_2\\geq 0\n",
    "\\end{matrix} $ ($\\leftarrow$labour hours per day)"
   ]
  },
  {
   "cell_type": "code",
   "execution_count": null,
   "metadata": {
    "collapsed": false,
    "deletable": true,
    "editable": true
   },
   "outputs": [],
   "source": [
    "Ap = [[1,1],[1,3]]\n",
    "bp = [60,120]\n",
    "cp = [-45,-65] #Make sure to make optimal function a 'minimize' problem\n",
    "\n",
    "printer=lp(cp, A_ub=Ap,b_ub=bp)\n",
    "printer"
   ]
  },
  {
   "cell_type": "markdown",
   "metadata": {
    "deletable": true,
    "editable": true
   },
   "source": [
    "The solution to **Real Example 1** is $x=\n",
    "\\begin{bmatrix}30\\\\30\\end{bmatrix}$"
   ]
  },
  {
   "cell_type": "markdown",
   "metadata": {
    "deletable": true,
    "editable": true
   },
   "source": [
    "This solution represents the number of each printer the company should produce per day. As $x=\n",
    "\\begin{bmatrix}30\\\\30\\end{bmatrix}$, $x_1=30$ and $x_2=30$ meaning, to maximize profits, the company should produce $30$ lazer printers and $30$ inkjet printers."
   ]
  },
  {
   "cell_type": "markdown",
   "metadata": {
    "deletable": true,
    "editable": true
   },
   "source": [
    "### Real Example 2"
   ]
  },
  {
   "cell_type": "markdown",
   "metadata": {
    "deletable": true,
    "editable": true
   },
   "source": [
    "In this example we are given the task to minimize the cost of resources needed to feed pigs. Our restrictions are that the pigs must have the necessary amounts of nutrition in corn, silage, and alfalfa. With the information below we can set up an LP problem that will minimize the cost while providing all the necessary amounts (our constraints)."
   ]
  },
  {
   "cell_type": "markdown",
   "metadata": {
    "deletable": true,
    "editable": true
   },
   "source": [
    "<img src=\"https://image.ibb.co/e0xLJv/Screen_Shot_2017_03_20_at_16_07_23.png\" align=\"left\" alt=\"Drawing\" style=\"width: 500px;\"/>\n"
   ]
  },
  {
   "cell_type": "markdown",
   "metadata": {
    "deletable": true,
    "editable": true
   },
   "source": [
    "Problem taken from MATH340 UBC Ricardo Gómez. [Source](http://www.math.ubc.ca/~rgomez/math340/Noteslides1.pdf)"
   ]
  },
  {
   "cell_type": "markdown",
   "metadata": {
    "collapsed": true,
    "deletable": true,
    "editable": true
   },
   "source": [
    "From the given information in the photo above, we can write the LP problem with a minimize objective function: \n",
    "\n",
    "Minimize $\\qquad 7c + 6s + 5a$ \n",
    "    \n",
    "subject to\n",
    "    \n",
    "$ \\qquad \\qquad \\begin{matrix}\n",
    "0.9c + 0.2s + 0.4a \\geq 2 \\\\\n",
    "3c + 8s + 6a \\geq 18 \\\\\n",
    "c + 2s + 4a \\geq 15 \\\\\n",
    "\\qquad \\qquad  c,s,a \\geq 0\n",
    "\\end{matrix} $ "
   ]
  },
  {
   "cell_type": "markdown",
   "metadata": {
    "deletable": true,
    "editable": true
   },
   "source": [
    "But to use `scipy.optimize.linprog` we put it into standard from, so the LP problem will now be (see 1.2 for more information)\n",
    "\n",
    "Maximize $\\qquad -7x_1 - 6x_2 - 5x_3$ \n",
    "    \n",
    "subject to\n",
    "    \n",
    "$ \\qquad \\qquad \\begin{matrix}\n",
    "-0.9x_1 - 0.2x_2 - 0.4x_3 \\leq -2 \\\\\n",
    "-3x_1 - 8x_2 - 6x_3 \\leq -18 \\\\\n",
    "-x_1 - 2x_2 - 4x_3 \\leq -15 \\\\\n",
    "\\qquad \\qquad  x_1, x_2, x_3 \\geq 0\n",
    "\\end{matrix} $ "
   ]
  },
  {
   "cell_type": "code",
   "execution_count": null,
   "metadata": {
    "collapsed": false,
    "deletable": true,
    "editable": true
   },
   "outputs": [],
   "source": [
    "Apig = [[-0.9,-0.2,-0.4],[-3,-8,-6],[-1,-2,-4]]\n",
    "bpig = [-2,-18,-15]\n",
    "cpig = [7,6,5] # Make Problem Minimizing (negate all cs)\n",
    "\n",
    "pig = lp(cpig, A_ub=Apig,b_ub=bpig)\n",
    "pig"
   ]
  },
  {
   "cell_type": "markdown",
   "metadata": {
    "deletable": true,
    "editable": true
   },
   "source": [
    "The solution to **Real Example 2** is $x=\n",
    "\\begin{bmatrix}0.625\\\\0\\\\3.59375\\end{bmatrix}$"
   ]
  },
  {
   "cell_type": "markdown",
   "metadata": {
    "deletable": true,
    "editable": true
   },
   "source": [
    "This solution represents the amount of each product As $x=\n",
    "\\begin{bmatrix}0.625\\\\0\\\\3.59375\\end{bmatrix}$, $x_1=0.625$, $x_2=0$, $x_3=3.59375$. This solution means to minimize profits and feed all the pigs the necessary amount of nutrients, the farmer should buy $0.625$ corn, $0$ silage, and $3.59375$ alfalfa."
   ]
  },
  {
   "cell_type": "markdown",
   "metadata": {
    "deletable": true,
    "editable": true
   },
   "source": [
    "$$ ----- $$"
   ]
  },
  {
   "cell_type": "markdown",
   "metadata": {
    "deletable": true,
    "editable": true
   },
   "source": [
    "## 4. Relevant Documentation and Resources"
   ]
  },
  {
   "cell_type": "markdown",
   "metadata": {
    "deletable": true,
    "editable": true
   },
   "source": [
    "### 4.0 Relevant Mathematical Theorems"
   ]
  },
  {
   "cell_type": "markdown",
   "metadata": {
    "deletable": true,
    "editable": true
   },
   "source": [
    "The basic method that `scipy.optimize.linprog` uses is the Simplex Method. This method/algorithm was created by George Dantzig to solve LP problems. See the wiki [here](https://en.wikipedia.org/wiki/Simplex_algorithm) for more information on the simplex method."
   ]
  },
  {
   "cell_type": "markdown",
   "metadata": {
    "deletable": true,
    "editable": true
   },
   "source": [
    "### 4.1 Further References"
   ]
  },
  {
   "cell_type": "markdown",
   "metadata": {
    "collapsed": true,
    "deletable": true,
    "editable": true
   },
   "source": [
    "For this project I used my knowledge of Linear Programming from MATH340 with Ricardo Gómez. More information can be found on the course webpage [here](http://www.math.ubc.ca/~rgomez/math340/#Overview). I also used the reference of Omar Antolín Camarena's [Notes on Linear Programming](http://www.math.ubc.ca/~oantolin/math340/math340notes.pdf) for definitions and example LP problems (some adapted for feasibility). The photos included in this project have their source under the photo. The information on the function `scipy.optimize.linprog` was found on the SciPy documentation page only, see [here](https://docs.scipy.org/doc/scipy-0.15.1/reference/generated/scipy.optimize.linprog.html) for more information."
   ]
  },
  {
   "cell_type": "markdown",
   "metadata": {
    "deletable": true,
    "editable": true
   },
   "source": [
    "$$ ----- $$"
   ]
  }
 ],
 "metadata": {
  "kernelspec": {
   "display_name": "Python 3",
   "language": "python",
   "name": "python3"
  },
  "language_info": {
   "codemirror_mode": {
    "name": "ipython",
    "version": 3
   },
   "file_extension": ".py",
   "mimetype": "text/x-python",
   "name": "python",
   "nbconvert_exporter": "python",
   "pygments_lexer": "ipython3",
   "version": "3.5.2"
  }
 },
 "nbformat": 4,
 "nbformat_minor": 2
}
