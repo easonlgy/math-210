{
 "cells": [
  {
   "cell_type": "markdown",
   "metadata": {
    "deletable": true,
    "editable": true
   },
   "source": [
    "# MATH 210 Project I\n",
    "## Optimization and Root Finding with `scipy.optimize`\n",
    "\n",
    "\n"
   ]
  },
  {
   "cell_type": "markdown",
   "metadata": {
    "deletable": true,
    "editable": true
   },
   "source": [
    "SciPy is the one of the core scientific computing packages in Python and the subpackage `scipy.optimize` addresses four kinds of computational problems:"
   ]
  },
  {
   "cell_type": "markdown",
   "metadata": {
    "deletable": true,
    "editable": true
   },
   "source": [
    "1.Optimization: Minimization of scalar function of one or more variables and represents the optimization result.\n",
    "\n",
    "\n",
    "2.Fitting: Use non-linear least squares to fit a function, f, to data.\n",
    "\n",
    "3.Root finding: Find a root of a function in some interval using different methods.\n",
    "\n",
    "4.Linear Programming: Minimize a linear objective function subject to linear equality and inequality constraints.\n",
    "\n",
    "For more details, please see the [documentation](https://docs.scipy.org/doc/scipy/reference/optimize.html#module-scipy.optimize)\n"
   ]
  },
  {
   "cell_type": "markdown",
   "metadata": {
    "deletable": true,
    "editable": true
   },
   "source": [
    "Our goal in this notebook is to explore these four problems in the subpackage scipy.optimize.\n",
    "In particular, we will explore these for sub-packages:\n",
    "* `scipy.optimize.minimize` (see the [documentation](https://docs.scipy.org/doc/scipy/reference/generated/scipy.optimize.minimize.html#scipy.optimize.minimize))\n",
    "* `scipy.optimize.curve_fit` (see the [documentation](https://docs.scipy.org/doc/scipy/reference/generated/scipy.optimize.curve_fit.html#scipy.optimize.curve_fit))\n",
    "* `scipy.optimize.fixed_point` (see the [documentation](https://docs.scipy.org/doc/scipy/reference/generated/scipy.optimize.fixed_point.html#scipy.optimize.fixed_point))\n",
    "* `scipy.optimize.linprog` (see the [documentation](https://docs.scipy.org/doc/scipy/reference/generated/scipy.optimize.linprog.html#scipy.optimize.linprog))\n",
    "\n",
    "We will focus more on the last subpackage and by the end of the notebook, the readers will be able to solve some real life problems by using these optimization methods."
   ]
  },
  {
   "cell_type": "markdown",
   "metadata": {
    "deletable": true,
    "editable": true
   },
   "source": [
    "## Contents\n",
    "1. Optimization: `minimize`\n",
    "2. Fitting: `curve_fit`\n",
    "3. Root Finding: `fixed_point`\n",
    "4. Linear Programming: `linprog`\n",
    "5. Exercises"
   ]
  },
  {
   "cell_type": "code",
   "execution_count": null,
   "metadata": {
    "collapsed": true,
    "deletable": true,
    "editable": true
   },
   "outputs": [],
   "source": [
    "from scipy.optimize import minimize\n",
    "import numpy as np\n",
    "import matplotlib.pyplot as plt\n",
    "%matplotlib inline"
   ]
  },
  {
   "cell_type": "markdown",
   "metadata": {
    "deletable": true,
    "editable": true
   },
   "source": [
    "## 1. Optimization\n",
    "###   (Local Optimization)"
   ]
  },
  {
   "cell_type": "markdown",
   "metadata": {
    "deletable": true,
    "editable": true
   },
   "source": [
    "Minimization of scalar function of one or more variables.\n",
    "Let's see one example:\n",
    "\n",
    "\n"
   ]
  },
  {
   "cell_type": "code",
   "execution_count": null,
   "metadata": {
    "collapsed": true,
    "deletable": true,
    "editable": true
   },
   "outputs": [],
   "source": [
    "from scipy.optimize import minimize_scalar"
   ]
  },
  {
   "cell_type": "code",
   "execution_count": null,
   "metadata": {
    "collapsed": false,
    "deletable": true,
    "editable": true
   },
   "outputs": [],
   "source": [
    "# First, we define a function\n",
    "def f(x):\n",
    "    return x**2+16*x+45"
   ]
  },
  {
   "cell_type": "code",
   "execution_count": null,
   "metadata": {
    "collapsed": false,
    "deletable": true,
    "editable": true
   },
   "outputs": [],
   "source": [
    "# We need to find the minimum of this function\n",
    "res = minimize_scalar(f)\n",
    "print (res)"
   ]
  },
  {
   "cell_type": "code",
   "execution_count": null,
   "metadata": {
    "collapsed": false,
    "deletable": true,
    "editable": true
   },
   "outputs": [],
   "source": [
    "# Also, we can add some bound of `x` variable\n",
    "res = minimize_scalar(f, bounds=(-6, 18), method='bounded')\n",
    "res.x"
   ]
  },
  {
   "cell_type": "markdown",
   "metadata": {
    "collapsed": true,
    "deletable": true,
    "editable": true
   },
   "source": [
    "## 2. Fitting\n",
    "###  (Curve Fitting)"
   ]
  },
  {
   "cell_type": "markdown",
   "metadata": {
    "deletable": true,
    "editable": true
   },
   "source": [
    "Use non-linear least squares to fit a function, $f(x)$, to data. For example:\n"
   ]
  },
  {
   "cell_type": "code",
   "execution_count": null,
   "metadata": {
    "collapsed": true,
    "deletable": true,
    "editable": true
   },
   "outputs": [],
   "source": [
    "from scipy.optimize import curve_fit"
   ]
  },
  {
   "cell_type": "code",
   "execution_count": null,
   "metadata": {
    "collapsed": true,
    "deletable": true,
    "editable": true
   },
   "outputs": [],
   "source": [
    "def f(x, a, b, c):\n",
    "    return a * np.sin(-b * 3*x) + c"
   ]
  },
  {
   "cell_type": "code",
   "execution_count": null,
   "metadata": {
    "collapsed": false,
    "deletable": true,
    "editable": true
   },
   "outputs": [],
   "source": [
    "# define the data to be fit with some `noise`\n",
    "xdata = np.linspace(0, 6, 100)\n",
    "y = f(xdata, 2.0, 1.5, 0.1)\n",
    "y_noise = 0.3 * np.random.normal(size=xdata.size)\n",
    "ydata = y + y_noise\n",
    "plt.plot(xdata, ydata, label='data')\n",
    "\n",
    "# Fitting the parameters a, b, c for the function `f`\n",
    "popt, pcov = curve_fit(f, xdata, ydata)\n",
    "plt.plot(xdata, f(xdata, *popt), 'r-', label='fit')\n",
    "\n",
    "# Optimization Constrain\n",
    "popt, pcov = curve_fit(f, xdata, ydata, bounds=(0, [9., 6., 2.]))\n",
    "plt.plot(xdata, f(xdata, *popt), 'b--', label='fit-with-bounds')\n",
    "plt.grid('on')\n",
    "plt.xlabel('x')\n",
    "plt.ylabel('y')\n",
    "plt.legend()\n",
    "plt.show()\n"
   ]
  },
  {
   "cell_type": "markdown",
   "metadata": {
    "deletable": true,
    "editable": true
   },
   "source": [
    "## 3. Root finding"
   ]
  },
  {
   "cell_type": "markdown",
   "metadata": {
    "deletable": true,
    "editable": true
   },
   "source": [
    "Find a fixed point of the function of one or more variables and a starting point.\n"
   ]
  },
  {
   "cell_type": "code",
   "execution_count": null,
   "metadata": {
    "collapsed": true,
    "deletable": true,
    "editable": true
   },
   "outputs": [],
   "source": [
    "from scipy import optimize\n",
    "from scipy.optimize import fixed_point"
   ]
  },
  {
   "cell_type": "markdown",
   "metadata": {
    "deletable": true,
    "editable": true
   },
   "source": [
    "Let's see one example:"
   ]
  },
  {
   "cell_type": "code",
   "execution_count": null,
   "metadata": {
    "collapsed": false,
    "deletable": true,
    "editable": true
   },
   "outputs": [],
   "source": [
    "#First, we define a function\n",
    "def f(x, a, b):\n",
    "    return np.sqrt(x*a/(b))"
   ]
  },
  {
   "cell_type": "code",
   "execution_count": null,
   "metadata": {
    "collapsed": false,
    "deletable": true,
    "editable": true
   },
   "outputs": [],
   "source": [
    "#Put some a and b data into this function\n",
    "a = np.array([5,6.])\n",
    "b = np.array([10, 20.])\n",
    "fixed_point(f, [1.2, 1.4], args=(a,b))\n"
   ]
  },
  {
   "cell_type": "markdown",
   "metadata": {
    "deletable": true,
    "editable": true
   },
   "source": [
    "## 4.Linear Programming"
   ]
  },
  {
   "cell_type": "markdown",
   "metadata": {
    "deletable": true,
    "editable": true
   },
   "source": [
    "Minimize a linear objective function subject to linear equality and inequality constraints.In Mathematic area, normally we have the following two kinds of problem forms:\n",
    "\n",
    "Linear Programming is intended to solve the following two kinds of problem form:\n",
    "\n",
    "* Maximize:$c*x$\n",
    "\n",
    "  Subject to : $ A*x <= b $\n",
    "             \n",
    "  (This is the Standard Form )\n",
    "\n",
    "\n",
    "* Minimize: $b^T * y$\n",
    "\n",
    "  Subject to: $A^T* y >c^T$\n",
    "\n",
    "However, in Python, we need to use this kind of form:\n",
    "\n",
    "* Minimize: $c^T * x$\n",
    "\n",
    "  Subject to: $ A_ub * x <= b_ub$ OR $ A_eq * x == b_eq$"
   ]
  },
  {
   "cell_type": "markdown",
   "metadata": {
    "collapsed": true,
    "deletable": true,
    "editable": true
   },
   "source": [
    "Now we see one real-life example:\n"
   ]
  },
  {
   "cell_type": "code",
   "execution_count": null,
   "metadata": {
    "collapsed": true,
    "deletable": true,
    "editable": true
   },
   "outputs": [],
   "source": [
    "from scipy.optimize import linprog"
   ]
  },
  {
   "cell_type": "markdown",
   "metadata": {
    "deletable": true,
    "editable": true
   },
   "source": [
    "A health food store packages a nut sampler consisting of walnuts, pecans, and almonds. Suppose each ounce of walnuts contains 12 units of protein and 3 units of iron and costs 12 cents, each ounce of pecans contains 1 unit of protein and 3 units of iron and costs 9 cents, and each ounce of almonds contains 2 units of protein and 1 unit of iron and costs 6 cents. If each package of the nut sampler is to contain at least 24 units of protein and at least 18 units of iron, how many ounces of each type of nut should be used to minimize the cost of the sampler?\n"
   ]
  },
  {
   "cell_type": "code",
   "execution_count": null,
   "metadata": {
    "collapsed": true,
    "deletable": true,
    "editable": true
   },
   "outputs": [],
   "source": [
    "# let x1= Walnuts,x2 = Pecans,x3 = Almonds, and the slack variables x4 = Proteins x5 = Iron\n",
    "# We need to minimize 12x1 +9x2 +6x3\n",
    "# And constrains are : `12x1 +x2 +2x3 ≥ 24` and` 3x1 +3x2 +x3 ≥ 18x` \n",
    "# And all xi>=0 for i in range (1,4)"
   ]
  },
  {
   "cell_type": "code",
   "execution_count": null,
   "metadata": {
    "collapsed": false,
    "deletable": true,
    "editable": true
   },
   "outputs": [],
   "source": [
    "c = [12, 9,6]\n",
    "A = [[-12, -1,-2], [-3,-3, -1]]\n",
    "b = [-24, -18]\n",
    "x1_bounds = (0, None)\n",
    "x2_bounds = (0, None)\n",
    "x3_bounds = (0, None)\n",
    "res = linprog(c, A_ub=A, b_ub=b, bounds=(x1_bounds, x2_bounds,x3_bounds), options={\"disp\": True})\n",
    "print(res)\n"
   ]
  },
  {
   "cell_type": "markdown",
   "metadata": {
    "deletable": true,
    "editable": true
   },
   "source": [
    "Thus, the `res` = an optimal solution of this LP problem, and x1=1.63636364, x2=4.36363636, x3=0."
   ]
  },
  {
   "cell_type": "markdown",
   "metadata": {
    "deletable": true,
    "editable": true
   },
   "source": [
    "## 5.Exercises"
   ]
  },
  {
   "cell_type": "markdown",
   "metadata": {
    "deletable": true,
    "editable": true
   },
   "source": [
    "Use linear Programming method to solve these following questions:\n",
    "\n",
    "Question.1\n",
    "\n",
    "![Question.1](http://d2vlcm61l7u1fs.cloudfront.net/media%2F636%2F636ff306-5a0f-45b0-ad2f-e3dd47b70c42%2FphpbPj5UH.png)\n",
    "\n"
   ]
  },
  {
   "cell_type": "markdown",
   "metadata": {
    "collapsed": true,
    "deletable": true,
    "editable": true
   },
   "source": [
    "Question.2\n",
    "\n",
    "A meat packing plant produces 480 hams, 400 pork bellies and 230 picnic hams every day; each of these prodcuts can be sold either fresh or smoked. The total number of hams, bellies and picnics that can be smoked during a normal working day is 420; in addition, up to 250 products can be smoked on overtime at a higher cost. The net proﬁts are as follows:\n",
    "\n",
    "![Question.2](http://d2vlcm61l7u1fs.cloudfront.net/media%2F54c%2F54ce55ee-b30a-4f5b-b305-4573892ebdcf%2FphpTbVvPA.png)"
   ]
  }
 ],
 "metadata": {
  "kernelspec": {
   "display_name": "Python 3",
   "language": "python",
   "name": "python3"
  },
  "language_info": {
   "codemirror_mode": {
    "name": "ipython",
    "version": 3
   },
   "file_extension": ".py",
   "mimetype": "text/x-python",
   "name": "python",
   "nbconvert_exporter": "python",
   "pygments_lexer": "ipython3",
   "version": "3.5.2"
  }
 },
 "nbformat": 4,
 "nbformat_minor": 2
}
