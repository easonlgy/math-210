{
 "cells": [
  {
   "cell_type": "markdown",
   "metadata": {
    "collapsed": false,
    "deletable": true,
    "editable": true
   },
   "source": [
    "# MATH 210 Project I\n",
    "\n",
    "## Minimization of Functions with `scipy.optimize`\n",
    "\n"
   ]
  },
  {
   "cell_type": "markdown",
   "metadata": {
    "collapsed": false,
    "deletable": true,
    "editable": true
   },
   "source": [
    "In mathematics, science, and engineering fields, SciPy is one of the core packages in Python-based ecosystem of open-source software and the subpackage `scipy.optimize` provides several commonly used optimization algorithms (see the [documentation](https://docs.scipy.org/doc/scipy/reference/optimize.html#module-scipy.optimize)):\n",
    "\n",
    "1. Optimization:\n",
    "  * Local optimization and global optimization for functions\n",
    "  * Equation (Local) Minimizers (Least-squares minimization)\n",
    "  * Rosenbrock function\n",
    "2. Curve fitting algorithms\n",
    "3. Some algorithms about root finding\n",
    "4. Linear programming and some utilities\n",
    "\n",
    "No matter in mathematics, science, or engineering fields, finding the minimum of a function is a usual task for people to finish. Therefore, this notebook is going to teach people how to use computer(Python language) to find the minimum of a function.  **Our main goal** is to explore **three functions** in the subpackage `scipy.optimize` which **can find the local minimums and the global minimums of univariate function and multivariate function**. By the end of the notebook, the reader will be able to implement the following functions to find minimums of some functions:\n",
    "\n",
    "\n",
    "#### Local Optimization\n",
    "* `scipy.optimize.minimize` (see the [documentation](https://docs.scipy.org/doc/scipy/reference/generated/scipy.optimize.minimize.html#scipy.optimize.minimize))\n",
    "(can use for both multivariate function and univariate function)\n",
    "\n",
    "#### Global Optimization\n",
    "* `scipy.optimize.basinhopping` (see the [documentation](https://docs.scipy.org/doc/scipy/reference/generated/scipy.optimize.basinhopping.html#scipy.optimize.basinhopping))\n",
    "(can use for univariate function)\n",
    "* `scipy.optimize.differential_evolution`(see the [documentation](https://docs.scipy.org/doc/scipy/reference/generated/scipy.optimize.differential_evolution.html#scipy.optimize.differential_evolution))\n",
    "(can use for multivariate function)"
   ]
  },
  {
   "cell_type": "markdown",
   "metadata": {
    "deletable": true,
    "editable": true
   },
   "source": [
    "Our main purpose of doing this notebook is to help people solve their problems efficiently and quickly."
   ]
  },
  {
   "cell_type": "markdown",
   "metadata": {
    "collapsed": true,
    "deletable": true,
    "editable": true
   },
   "source": [
    "## Contents\n",
    "\n",
    "1. Local minimum of univariate function and multivariate function: minimize\n",
    "2. Global minimum of univariate function: basinhopping\n",
    "3. Global minimum of multivariate function: differential_evolution\n",
    "4. Exercises"
   ]
  },
  {
   "cell_type": "code",
   "execution_count": 1,
   "metadata": {
    "collapsed": true,
    "deletable": true,
    "editable": true
   },
   "outputs": [],
   "source": [
    "import scipy.optimize as spo\n",
    "import numpy as np\n",
    "import matplotlib.pyplot as plt\n",
    "%matplotlib inline"
   ]
  },
  {
   "cell_type": "markdown",
   "metadata": {
    "deletable": true,
    "editable": true
   },
   "source": [
    "## 1. Local Minimun of Univariate and Multivariate Function"
   ]
  },
  {
   "cell_type": "markdown",
   "metadata": {
    "collapsed": true,
    "deletable": true,
    "editable": true
   },
   "source": [
    "In general, when we want to find the **minima** or **maxima** of a function, we usually need to use the [Derivative test](https://en.wikipedia.org/wiki/Derivative_test) to find the minima or maxima. First of all, we need to use First derivative test to calculate the critical points of the univariate function. Secondly, we use Second derivative test to judge every critical point is a minima or a maxima."
   ]
  },
  {
   "cell_type": "markdown",
   "metadata": {},
   "source": [
    "## Generally"
   ]
  },
  {
   "cell_type": "markdown",
   "metadata": {
    "collapsed": true,
    "deletable": true,
    "editable": true
   },
   "source": [
    "### Example 1"
   ]
  },
  {
   "cell_type": "markdown",
   "metadata": {
    "collapsed": false,
    "deletable": true,
    "editable": true
   },
   "source": [
    "Find the minima for:\n",
    "$$\n",
    "y = 5x^3+2x^2-3x\n",
    "$$"
   ]
  },
  {
   "cell_type": "markdown",
   "metadata": {
    "collapsed": true,
    "deletable": true,
    "editable": true
   },
   "source": [
    "First, use First derivative test. We calculate the derivative of y:\n",
    "$$\n",
    "y'= 15x^2 + 4x -3\n",
    "$$"
   ]
  },
  {
   "cell_type": "markdown",
   "metadata": {
    "collapsed": true,
    "deletable": true,
    "editable": true
   },
   "source": [
    "Let y' = 0, and find the critical points: $$x_1 = \\frac{-3}{5}, x_2 = \\frac{1}{3}$$"
   ]
  },
  {
   "cell_type": "markdown",
   "metadata": {
    "collapsed": true,
    "deletable": true,
    "editable": true
   },
   "source": [
    "Second, use Second derivative test, we calculate the second derivative of y:$$y'' = 30x+4 $$"
   ]
  },
  {
   "cell_type": "markdown",
   "metadata": {
    "collapsed": true,
    "deletable": true,
    "editable": true
   },
   "source": [
    "We test $x_1$, $$y''(x_1) = -14 , y''(x_1) < 0 $$, so $x_1$ is a maxima"
   ]
  },
  {
   "cell_type": "markdown",
   "metadata": {},
   "source": [
    "We test $x_2$, $$y''(x_2) = 14 , y''(x_2) > 0$$, so $x_2$ is a minima."
   ]
  },
  {
   "cell_type": "code",
   "execution_count": 4,
   "metadata": {
    "collapsed": true
   },
   "outputs": [],
   "source": [
    "## define our function\n",
    "def a(x):\n",
    "    return 5*x**3+2*x**2-3*x"
   ]
  },
  {
   "cell_type": "code",
   "execution_count": 5,
   "metadata": {
    "collapsed": false
   },
   "outputs": [
    {
     "data": {
      "text/plain": [
       "[<matplotlib.lines.Line2D at 0x1fff6503940>]"
      ]
     },
     "execution_count": 5,
     "metadata": {},
     "output_type": "execute_result"
    },
    {
     "data": {
      "image/png": "[encoded data removed]",
      "text/plain": [
       "<matplotlib.figure.Figure at 0x1fff6114e10>"
      ]
     },
     "metadata": {},
     "output_type": "display_data"
    }
   ],
   "source": [
    "x = np.linspace(-2,2,1000)\n",
    "plt.plot(x,a(x))"
   ]
  },
  {
   "cell_type": "code",
   "execution_count": 6,
   "metadata": {
    "collapsed": false
   },
   "outputs": [
    {
     "data": {
      "text/plain": [
       "-0.5925925925925927"
      ]
     },
     "execution_count": 6,
     "metadata": {},
     "output_type": "execute_result"
    }
   ],
   "source": [
    "### Minima\n",
    "a(1/3)"
   ]
  },
  {
   "cell_type": "markdown",
   "metadata": {},
   "source": [
    "We found calculate this example problem is not very hard. But if the function becomes very complex, we will find it is boring to do this kind of problems. Then I will introduce you to use Python package (minimize) to solve this kind of problems."
   ]
  },
  {
   "cell_type": "markdown",
   "metadata": {},
   "source": [
    "### `scipy.optimize.minimize`\n",
    "The function `minimize` can calculate the minima of scalar function of one or more variables. It takes at least two argements, first it takes a objective function, second it takes a number which is an initial guess. \n",
    "\n",
    "There are a lot of more optional inputs however they are not very useful. Another useful input argument is the 'bounds' which is used to calculate the minima within the bounds. You can see the [documentation](https://docs.scipy.org/doc/scipy/reference/generated/scipy.optimize.minimize.html#scipy.optimize.minimize) or enter `spo.minimize?` to explore them.\n"
   ]
  },
  {
   "cell_type": "markdown",
   "metadata": {},
   "source": [
    "### Use minimize to calculate the minima and Compare with our Example 1"
   ]
  },
  {
   "cell_type": "code",
   "execution_count": 7,
   "metadata": {
    "collapsed": false
   },
   "outputs": [
    {
     "data": {
      "text/plain": [
       "      fun: -0.5925925925925922\n",
       " hess_inv: array([[ 0.07144909]])\n",
       "      jac: array([  1.49011612e-08])\n",
       "  message: 'Optimization terminated successfully.'\n",
       "     nfev: 27\n",
       "      nit: 7\n",
       "     njev: 9\n",
       "   status: 0\n",
       "  success: True\n",
       "        x: array([ 0.33333333])"
      ]
     },
     "execution_count": 7,
     "metadata": {},
     "output_type": "execute_result"
    }
   ],
   "source": [
    "spo.minimize(a,x0 = 1)"
   ]
  },
  {
   "cell_type": "code",
   "execution_count": 8,
   "metadata": {
    "collapsed": false
   },
   "outputs": [
    {
     "data": {
      "text/plain": [
       "array([ 0.33333333])"
      ]
     },
     "execution_count": 8,
     "metadata": {},
     "output_type": "execute_result"
    }
   ],
   "source": [
    "### the x value for minima\n",
    "spo.minimize(a,x0 = 1).x"
   ]
  },
  {
   "cell_type": "code",
   "execution_count": 9,
   "metadata": {
    "collapsed": false
   },
   "outputs": [
    {
     "data": {
      "text/plain": [
       "-0.5925925925925922"
      ]
     },
     "execution_count": 9,
     "metadata": {},
     "output_type": "execute_result"
    }
   ],
   "source": [
    "### Minima\n",
    "spo.minimize(a,x0 = 1).fun"
   ]
  },
  {
   "cell_type": "code",
   "execution_count": 11,
   "metadata": {
    "collapsed": false
   },
   "outputs": [
    {
     "data": {
      "text/plain": [
       "-0.5925925925925927"
      ]
     },
     "execution_count": 11,
     "metadata": {},
     "output_type": "execute_result"
    }
   ],
   "source": [
    "### Minima\n",
    "a(1/3)"
   ]
  },
  {
   "cell_type": "markdown",
   "metadata": {},
   "source": [
    "We found our minima which is using minimize to calculate is almost the same with value calculated\n",
    "by hand"
   ]
  },
  {
   "cell_type": "code",
   "execution_count": 12,
   "metadata": {
    "collapsed": true
   },
   "outputs": [],
   "source": [
    "xmin = spo.minimize(a,x0 = 1).x"
   ]
  },
  {
   "cell_type": "code",
   "execution_count": 13,
   "metadata": {
    "collapsed": false
   },
   "outputs": [
    {
     "data": {
      "image/png": "[encoded data removed]",
      "text/plain": [
       "<matplotlib.figure.Figure at 0x1fff64a5ef0>"
      ]
     },
     "metadata": {},
     "output_type": "display_data"
    }
   ],
   "source": [
    "plt.plot(x, a(x))\n",
    "plt.scatter(1, a(1), marker='o', s=200); #use circle to show the initial guess point\n",
    "plt.scatter(xmin, a(xmin), marker='v', s=200); #use triangle to show the minima\n",
    "plt.xlim(-2, 2);"
   ]
  },
  {
   "cell_type": "code",
   "execution_count": 14,
   "metadata": {
    "collapsed": false
   },
   "outputs": [
    {
     "data": {
      "image/png": "[encoded data removed]",
      "text/plain": [
       "<matplotlib.figure.Figure at 0x1fff5b830b8>"
      ]
     },
     "metadata": {},
     "output_type": "display_data"
    }
   ],
   "source": [
    "plt.plot(x, a(x))\n",
    "plt.scatter(2, a(2), marker='o', s=200); #use circle to show the initial guess point\n",
    "plt.scatter(xmin, a(xmin), marker='v', s=200); #use triangle to show the minima\n",
    "plt.xlim(-2, 2);"
   ]
  },
  {
   "cell_type": "code",
   "execution_count": 15,
   "metadata": {
    "collapsed": false
   },
   "outputs": [
    {
     "data": {
      "image/png": "[encoded data removed]",
      "text/plain": [
       "<matplotlib.figure.Figure at 0x1fff6114d68>"
      ]
     },
     "metadata": {},
     "output_type": "display_data"
    }
   ],
   "source": [
    "plt.plot(x, a(x))\n",
    "plt.scatter(-2, a(-2), marker='o', s=200); #use circle to show the initial guess point\n",
    "plt.scatter(xmin, a(xmin), marker='v', s=200); #use triangle to show the minima\n",
    "plt.xlim(-2, 2);"
   ]
  },
  {
   "cell_type": "markdown",
   "metadata": {},
   "source": [
    "These three picture show that no matter how far our initial guess point towards to our true minima, we always can find the nearst\n",
    "minima beside the initial guess point."
   ]
  },
  {
   "cell_type": "markdown",
   "metadata": {},
   "source": [
    "### Apply minimize function to Multivariate Function"
   ]
  },
  {
   "cell_type": "code",
   "execution_count": null,
   "metadata": {
    "collapsed": true
   },
   "outputs": [],
   "source": [
    "# we use a sample function of two variables\n",
    "def g(X):\n",
    "    x,y = X\n",
    "    return x**2+y**2"
   ]
  },
  {
   "cell_type": "code",
   "execution_count": null,
   "metadata": {
    "collapsed": false
   },
   "outputs": [],
   "source": [
    "spo.minimize(g, (1, 1)) ## (1,1) is the initial guess point.\n"
   ]
  },
  {
   "cell_type": "code",
   "execution_count": null,
   "metadata": {
    "collapsed": false
   },
   "outputs": [],
   "source": [
    "# the x value of the minima\n",
    "spo.minimize(g, (1, 1)).x"
   ]
  },
  {
   "cell_type": "code",
   "execution_count": null,
   "metadata": {
    "collapsed": false
   },
   "outputs": [],
   "source": [
    "# Minima\n",
    "spo.minimize(g, (1, 1)).fun"
   ]
  },
  {
   "cell_type": "markdown",
   "metadata": {},
   "source": [
    "### 2. Global minimum of univariate function "
   ]
  },
  {
   "cell_type": "markdown",
   "metadata": {},
   "source": [
    "### `scipy.optimize.basinhopping`\n",
    "The function `basinhopping` can calculate the  minimum value of scalar function of one variables. It takes at least two argements, first it takes a objective function, second it takes a number which is an initial guess. \n",
    "\n",
    "There are a lot of more optional inputs however they are not very useful.  You can see the [documentation](https://docs.scipy.org/doc/scipy/reference/generated/scipy.optimize.basinhopping.html#scipy.optimize.basinhopping) or enter `spo.basinhopping?` to explore them.\n"
   ]
  },
  {
   "cell_type": "code",
   "execution_count": null,
   "metadata": {
    "collapsed": true
   },
   "outputs": [],
   "source": [
    "## Define our new function\n",
    "def f(x):\n",
    "    return 1-np.sin(x)/x\n",
    "x = np.linspace(-20, 20, 1000)\n",
    "y = f(x)"
   ]
  },
  {
   "cell_type": "code",
   "execution_count": null,
   "metadata": {
    "collapsed": true
   },
   "outputs": [],
   "source": [
    "x0 = 10\n",
    "xmin = basinhopping(f,x0,stepsize = 5).x"
   ]
  },
  {
   "cell_type": "code",
   "execution_count": null,
   "metadata": {
    "collapsed": false
   },
   "outputs": [],
   "source": [
    "xmin"
   ]
  },
  {
   "cell_type": "code",
   "execution_count": null,
   "metadata": {
    "collapsed": false
   },
   "outputs": [],
   "source": [
    "## Minimum value\n",
    "basinhopping(f,x0,stepsize = 5).fun"
   ]
  },
  {
   "cell_type": "code",
   "execution_count": null,
   "metadata": {
    "collapsed": false
   },
   "outputs": [],
   "source": [
    "plt.plot(x, y);\n",
    "plt.scatter(x0, f(x0), marker='o', s=200)\n",
    "plt.scatter(xmin, f(xmin), marker='v', s=200)\n",
    "plt.xlim(-20, 20)"
   ]
  },
  {
   "cell_type": "code",
   "execution_count": null,
   "metadata": {
    "collapsed": false
   },
   "outputs": [],
   "source": [
    "x0=-19\n",
    "plt.plot(x, y);\n",
    "plt.scatter(x0, f(x0), marker='o', s=200)\n",
    "plt.scatter(xmin, f(xmin), marker='v', s=200)\n",
    "plt.xlim(-20, 20)"
   ]
  },
  {
   "cell_type": "markdown",
   "metadata": {},
   "source": [
    "We can found no matter how for our initial guess point is far, we always can get the minimum value of our function."
   ]
  },
  {
   "cell_type": "markdown",
   "metadata": {},
   "source": [
    "### 3. Global minimum of Multivariate Function"
   ]
  },
  {
   "cell_type": "markdown",
   "metadata": {},
   "source": [
    "### `scipy.optimize.differential_evolution`\n",
    "The function `differential_evolution` can calculate the  minimum value of scalar function of two or more variables. It takes at least two argements, first it takes a objective function, second it takes the bounds. \n",
    "\n",
    "There are a lot of more optional inputs however they are not very useful.  You can see the [documentation](https://docs.scipy.org/doc/scipy/reference/generated/scipy.optimize.differential_evolution.html#scipy.optimize.differential_evolution) or enter `spo.differential_evolution?` to explore them.\n"
   ]
  },
  {
   "cell_type": "code",
   "execution_count": null,
   "metadata": {
    "collapsed": false
   },
   "outputs": [],
   "source": [
    "We use the previous g function"
   ]
  },
  {
   "cell_type": "code",
   "execution_count": null,
   "metadata": {
    "collapsed": false
   },
   "outputs": [],
   "source": [
    "spo.differential_evolution(g,bounds = [(-5, 5), (-5, 5)])"
   ]
  },
  {
   "cell_type": "code",
   "execution_count": null,
   "metadata": {
    "collapsed": false
   },
   "outputs": [],
   "source": [
    "## the x value of g when it get its minimum.\n",
    "spo.differential_evolution(g,bounds = [(-5, 5), (-5, 5)]).x"
   ]
  },
  {
   "cell_type": "code",
   "execution_count": null,
   "metadata": {
    "collapsed": false
   },
   "outputs": [],
   "source": [
    "## minimum value\n",
    "spo.differential_evolution(g,bounds = [(-5, 5), (-5, 5)]).fun"
   ]
  },
  {
   "cell_type": "code",
   "execution_count": null,
   "metadata": {
    "collapsed": true
   },
   "outputs": [],
   "source": []
  },
  {
   "cell_type": "code",
   "execution_count": null,
   "metadata": {
    "collapsed": true
   },
   "outputs": [],
   "source": []
  },
  {
   "cell_type": "code",
   "execution_count": null,
   "metadata": {
    "collapsed": true
   },
   "outputs": [],
   "source": []
  },
  {
   "cell_type": "markdown",
   "metadata": {},
   "source": [
    "## 4. Exercises"
   ]
  },
  {
   "cell_type": "markdown",
   "metadata": {
    "collapsed": true,
    "deletable": true,
    "editable": true
   },
   "source": [
    "**Exercise 1.** Find the minima for the function: $$f(x)=x^3(x+4) $$"
   ]
  },
  {
   "cell_type": "markdown",
   "metadata": {
    "collapsed": true,
    "deletable": true,
    "editable": true
   },
   "source": [
    "**Exercise 2.** Next find the minimum of the Ackley function. See the [wiki](https://en.wikipedia.org/wiki/Test_functions_for_optimization)"
   ]
  },
  {
   "cell_type": "markdown",
   "metadata": {},
   "source": [
    "![function](https://wikimedia.org/api/rest_v1/media/math/render/svg/7f00d1325d65d088f8ae6a96137e62021107921d)"
   ]
  },
  {
   "cell_type": "markdown",
   "metadata": {
    "collapsed": true
   },
   "source": [
    "![function](https://wikimedia.org/api/rest_v1/media/math/render/svg/565ef43958a50fb0ef473bdd46e30bfc725604a7)"
   ]
  },
  {
   "cell_type": "code",
   "execution_count": null,
   "metadata": {
    "collapsed": true
   },
   "outputs": [],
   "source": []
  }
 ],
 "metadata": {
  "kernelspec": {
   "display_name": "Python 3",
   "language": "python",
   "name": "python3"
  },
  "language_info": {
   "codemirror_mode": {
    "name": "ipython",
    "version": 3
   },
   "file_extension": ".py",
   "mimetype": "text/x-python",
   "name": "python",
   "nbconvert_exporter": "python",
   "pygments_lexer": "ipython3",
   "version": "3.6.0"
  }
 },
 "nbformat": 4,
 "nbformat_minor": 2
}
