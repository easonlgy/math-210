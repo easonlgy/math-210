{
 "cells": [
  {
   "cell_type": "markdown",
   "metadata": {
    "deletable": true,
    "editable": true
   },
   "source": [
    "# MATH 210 Project I\n",
    "## Minimization of scalar functions of one or more variables with `scipy.optimization`"
   ]
  },
  {
   "cell_type": "markdown",
   "metadata": {
    "deletable": true,
    "editable": true
   },
   "source": [
    "In this notebook, I want to explore one of the subpackage, `scipy.optimization`, in Scipy. The `scipy.optimization` subpackage provides multiple optimization algorithms. Two main kinds of computational problems are (see the [documentation](https://docs.scipy.org/doc/scipy-0.18.1/reference/optimize.html)):\n",
    "\n",
    "1. Minimization of scalar functions:   $f(x_1, x_2, \\cdots, x_n)$\n",
    "2. Root finding "
   ]
  },
  {
   "cell_type": "markdown",
   "metadata": {
    "deletable": true,
    "editable": true
   },
   "source": [
    "The goal in this notebook is to explore **three modules** in the subpackage `scipy.optimize`. In particular, I will focus on **Least_squares minimization** module, and **Unconstrained and constrained minimization of multivariate scalar functions** module,and **Brent's method**, the root finder module. By the end, the reader maybe able to use these modules to find minization and roots:\n",
    "\n",
    "* `scipy.optimize.least_squares` (see the [documentation](https://docs.scipy.org/doc/scipy/reference/generated/scipy.optimize.least_squares.html#scipy.optimize.least_squares))\n",
    "* `scipy.optimize.minimize` (see the [documentation](https://docs.scipy.org/doc/scipy/reference/generated/scipy.optimize.minimize.html#scipy.optimize.minimize))\n",
    "* `scipy.optimize.brentq` (see the [documentation](https://docs.scipy.org/doc/scipy-0.18.1/reference/generated/scipy.optimize.brentq.html#scipy.optimize.brentq))\n"
   ]
  },
  {
   "cell_type": "markdown",
   "metadata": {
    "deletable": true,
    "editable": true
   },
   "source": [
    "## Contents\n",
    "1. Least_squares minimization: `least_squares`\n",
    "2. Unconstrained and constrained minimization of multivariate scalar functions: `minimize`\n",
    "1. Brent's method: `brentq`\n",
    "4. Exercises"
   ]
  },
  {
   "cell_type": "code",
   "execution_count": null,
   "metadata": {
    "collapsed": true,
    "deletable": true,
    "editable": true
   },
   "outputs": [],
   "source": [
    "import scipy.optimize as spo\n",
    "import numpy as np\n",
    "import matplotlib.pyplot as plt\n",
    "%matplotlib inline"
   ]
  },
  {
   "cell_type": "markdown",
   "metadata": {
    "collapsed": true,
    "deletable": true,
    "editable": true
   },
   "source": [
    "## 1. Least_squares minimization\n",
    "\n",
    "### Introduce the least_squares minimization\n",
    "\n",
    "The method of `least squares` is a standard approach in regression analysis to the approximate solution of overdetermined systems, i.e., sets of equations in which there are more equations than unknowns. `Least squares` means that the overall solution minimizes the sum of the squares of the residuals made in the results of every single equation (for more information of least squares please see [Wikipedia](https://en.wikipedia.org/wiki/Least_squares)).\n",
    "In this notebook, I want to show that how to solve a nonlinear least-squares problem：\n",
    "\n",
    "$$\n",
    "\\min_x \\parallel \\rho f(x) \\parallel_2^2 = \\min_x \\rho \\left(f_1(x)^2 + f_2(x)^2 + \\cdots + f_n(x)^2 \\right),\n",
    "\\\\ \\ subject \\ \\ to \\ : \\ lower \\ \\ bound \\ \\ \\leq x \\leq \\ \\ upper \\ \\ bound\n",
    "$$\n",
    "\n",
    "(x, lower bound, and upper bound can be vectors or matrices.)\n",
    "\n"
   ]
  },
  {
   "cell_type": "markdown",
   "metadata": {
    "collapsed": true,
    "deletable": true,
    "editable": true
   },
   "source": [
    "### Define my own function to implement the  least_squares minimization\n",
    "Note that the function of solve a nonlinear least-squares problem are:\n",
    "\n",
    "$$\n",
    "\\min_x \\frac{1}{2} \\parallel f(x) \\parallel_2^2 = \\min_x \\frac{1}{2} \\left(f_1(x)^2 + f_2(x)^2 + \\cdots + f_n(x)^2 \\right),\n",
    "\\\\ \\ subject \\ \\ to \\ : \\ lower \\ \\ bound \\ \\ \\leq x \\leq \\ \\ upper \\ \\ bound\n",
    "$$\n",
    "\n",
    "therefore the function to solve a nonlinear least-squares problem with bounds on the variables are:\n",
    "\n"
   ]
  },
  {
   "cell_type": "code",
   "execution_count": null,
   "metadata": {
    "collapsed": false,
    "deletable": true,
    "editable": true
   },
   "outputs": [],
   "source": [
    "def my_lest_square(x,n):\n",
    "    return 0.5 * sum([(f(x,n[i])**2) for i in range(0,len(n))])"
   ]
  },
  {
   "cell_type": "markdown",
   "metadata": {
    "deletable": true,
    "editable": true
   },
   "source": [
    "###  `scipy.optimize.least_squares`\n",
    "\n",
    "Using function `least_squares` to solve a nonlinear least-squares problem, $\\min_x \\parallel f(x) \\parallel_2^2$. Given the residual f(x) and the scalar function $\\rho(s)$ takes at least two inputs. One input is `fun` which is a function that computes the vector of residuals. And  another one is array x0 which is the initial gusses on independent variables.\n",
    "\n",
    "There are still 17 optional inputes in the function `least_squares `. You can see the [documentation](https://docs.scipy.org/doc/scipy/reference/generated/scipy.optimize.least_squares.html#scipy.optimize.least_squares) or enter `scipy.optimize.least_squares?`.\n",
    "\n",
    "Finally, working out some examples is the best way to learn how to use the function."
   ]
  },
  {
   "cell_type": "markdown",
   "metadata": {
    "deletable": true,
    "editable": true
   },
   "source": [
    "### Example: $\\sum_{i=0}^{10} \\left (2k_i -e^{2k_i x_1} - e^{x_2}- y_i\\right)^2$\n",
    "\n",
    "Find the `x` that minimizes\n",
    "$$ \n",
    "\\sum_{i=0}^{10} \\left (2k_i -e^{2k_i x_1} - e^{x_2}- y_i\\right)^2\n",
    "$$\n",
    "and find the value of the mnimal sum of squares."
   ]
  },
  {
   "cell_type": "code",
   "execution_count": null,
   "metadata": {
    "collapsed": true,
    "deletable": true,
    "editable": true
   },
   "outputs": [],
   "source": [
    "from scipy.optimize import least_squares"
   ]
  },
  {
   "cell_type": "code",
   "execution_count": null,
   "metadata": {
    "collapsed": true,
    "deletable": true,
    "editable": true
   },
   "outputs": [],
   "source": [
    "def model(x,k):\n",
    "    return 2*k-np.exp(2*k*x[0])-np.exp(x[1])\n",
    "    "
   ]
  },
  {
   "cell_type": "code",
   "execution_count": null,
   "metadata": {
    "collapsed": true,
    "deletable": true,
    "editable": true
   },
   "outputs": [],
   "source": [
    "def fun(x,k,y):\n",
    "    return model(x,k)-y"
   ]
  },
  {
   "cell_type": "code",
   "execution_count": null,
   "metadata": {
    "collapsed": false,
    "deletable": true,
    "editable": true
   },
   "outputs": [],
   "source": [
    "k=np.array([4,6,7,3,5,2,7,3,2,1,1])\n",
    "y=np.array([2,4,1,5,6,4,5,8,6,2,1])\n",
    "x0=[1,2]\n",
    "res= spo.least_squares(fun,x0,args=(k,y))"
   ]
  },
  {
   "cell_type": "code",
   "execution_count": null,
   "metadata": {
    "collapsed": false,
    "deletable": true,
    "editable": true
   },
   "outputs": [],
   "source": [
    "res.x"
   ]
  },
  {
   "cell_type": "code",
   "execution_count": null,
   "metadata": {
    "collapsed": false,
    "deletable": true,
    "editable": true
   },
   "outputs": [],
   "source": [
    "res.cost"
   ]
  },
  {
   "cell_type": "code",
   "execution_count": null,
   "metadata": {
    "collapsed": false,
    "deletable": true,
    "editable": true
   },
   "outputs": [],
   "source": [
    "res.optimality"
   ]
  },
  {
   "cell_type": "code",
   "execution_count": null,
   "metadata": {
    "collapsed": false,
    "deletable": true,
    "editable": true
   },
   "outputs": [],
   "source": [
    "k_test=np.linspace(0,5)\n",
    "y_test=model(res.x,k_test)\n",
    "plt.plot(k_test,y_test)\n",
    "plt.plot(k,y,'o')"
   ]
  },
  {
   "cell_type": "code",
   "execution_count": null,
   "metadata": {
    "collapsed": true,
    "deletable": true,
    "editable": true
   },
   "outputs": [],
   "source": [
    "def f(x,k):\n",
    "    res=0\n",
    "    for i in range (0,11):\n",
    "        res=res+(2+2*k-np.exp(k*x[0])-np.exp(k*x[1])-y)\n",
    "        return res"
   ]
  },
  {
   "cell_type": "code",
   "execution_count": null,
   "metadata": {
    "collapsed": false,
    "deletable": true,
    "editable": true
   },
   "outputs": [],
   "source": [
    "my_lest_square([1,8],[4,6,7,3,5,2,7,3,2,1,1])"
   ]
  },
  {
   "cell_type": "markdown",
   "metadata": {
    "collapsed": true,
    "deletable": true,
    "editable": true
   },
   "source": [
    "## 2. Unconstrained and constrained minimization of multivariate scalar functions\n",
    "\n",
    "The minimize function provides a common interface to [unconstrained and constrained minization algorithms for multivariate scalar function](https://docs.scipy.org/doc/scipy/reference/tutorial/optimize.html) in `scipy.optimize`. There are many method in this module, such as `BFGS`, ` Nelder-Mead`, and `Newton-CG`,etc. Moreover, `Sequential Least SQuares Programming optimization algorithm` (`SLSQP`) is a good example to explore this module.\n",
    "\n",
    "This algorithm can solve the constrained miniization problems of the form:\n",
    "$$\n",
    "\\min F(x) \\\\ \\ \n",
    "subject \\ \\ to \\ \\ C_j(X)=0 \\ , \\ j=1, \\dots, MEQ \\\\ \\ \n",
    "                   C_j(x) \\geq 0 \\ , \\ j=MEQ +1, \\dots, M \\\\ \\ \n",
    "                   XL \\leq x \\leq XU \\ , \\ I=1, \\dots , N\n",
    "$$\n",
    "\n",
    "where `x` is a vector with one or more variables, `C_j` are the inequality and equality constrains. And also `XL` and `XU` are the bound for each element in `x`."
   ]
  },
  {
   "cell_type": "markdown",
   "metadata": {
    "deletable": true,
    "editable": true
   },
   "source": [
    "### `scipy.optimize.minimize`\n",
    "\n",
    "A function `scipy.optimize.minimize` compute a minimization of a scalar function of one or more vriables. There are two main inputs in `scipy.optimize.minimize` which are `fun` and `x0`. The `fun` inputs is an objective function, and `x0` is\n",
    "a ndarray which is a initial guess.\n",
    "\n",
    "`scipy.optimize.minimize` still have another 9 optional inputs. You can [see the document](https://docs.scipy.org/doc/scipy/reference/generated/scipy.optimize.minimize.html#scipy.optimize.minimize) for more information, or enter `scipy.optimize.minimize?`\n",
    "\n",
    "Next I will explore some examples to show more details about `scipy.optimize.minimize` ."
   ]
  },
  {
   "cell_type": "markdown",
   "metadata": {
    "deletable": true,
    "editable": true
   },
   "source": [
    "### Examples: $f(x,y)=x^2 +4xy-5x-6y - y^2 \\\\ \\\n",
    "                subject \\ \\ to \\ \\ x^2 - y^3 = 0 \\\\ \n",
    "                           x-3 \\geq 0 \\\\ \n",
    "                           y-1 \\geq 0$"
   ]
  },
  {
   "cell_type": "markdown",
   "metadata": {
    "deletable": true,
    "editable": true
   },
   "source": [
    "Let's find the minimization of the function: \n",
    "$$f(x,y)=x^2 +4xy-5x^3-6y - y^2 \\\\ \\\n",
    "                subject \\ \\ to \\ \\ x^2 - y^2 = 0 \\\\ \n",
    "                           x-3 \\geq 0 \\\\ \n",
    "                           y-1 \\geq 0$$\n",
    "                           using the function `minimize`.\n",
    "                    \n",
    "To solve this function we will need `sign` parameter which is introduced to multiply the objective function (and its derivative) by -1 in order to perform a maximization. The reason we need `sign` parameter is that the function `minimize` only minimizes functions."
   ]
  },
  {
   "cell_type": "code",
   "execution_count": null,
   "metadata": {
    "collapsed": true,
    "deletable": true,
    "editable": true
   },
   "outputs": [],
   "source": [
    "def fun(x,sign=1.0):\n",
    "    \"\"\"Objective function\"\"\"\n",
    "    return sign*(x[0]**2+4*x[0]*x[1]-5*x[0]**3-6*x[1]-x[1]**2)"
   ]
  },
  {
   "cell_type": "code",
   "execution_count": null,
   "metadata": {
    "collapsed": true,
    "deletable": true,
    "editable": true
   },
   "outputs": [],
   "source": [
    "def fun_derivative(x,sign=1.0):\n",
    "    \"\"\"Derivative of objective function\"\"\"\n",
    "    dfdx_0= sign*(2*x[0]+4*x[1]+15*x[0]**2)\n",
    "    dfdx_1=sign*(4*x[0]-6-2*x[1])\n",
    "    return np.array([dfdx_0,dfdx_1])"
   ]
  },
  {
   "cell_type": "markdown",
   "metadata": {
    "deletable": true,
    "editable": true
   },
   "source": [
    "Contrains are difined as a sequense of dictionaries, with keys type, fun, amd jac. Now lets define all the constrains."
   ]
  },
  {
   "cell_type": "code",
   "execution_count": null,
   "metadata": {
    "collapsed": false,
    "deletable": true,
    "editable": true
   },
   "outputs": [],
   "source": [
    "def eq_cons(x):\n",
    "    # Equality constrain\n",
    "    return np.array([x[0]**2 - x[1]**2])"
   ]
  },
  {
   "cell_type": "code",
   "execution_count": null,
   "metadata": {
    "collapsed": true,
    "deletable": true,
    "editable": true
   },
   "outputs": [],
   "source": [
    "def eq_cons_deriv(x):\n",
    "    \"\"\"Compute the derivatives of the equality constrains\"\"\"\n",
    "    return np.array([2.0*x[0], -1.0])"
   ]
  },
  {
   "cell_type": "code",
   "execution_count": null,
   "metadata": {
    "collapsed": false,
    "deletable": true,
    "editable": true
   },
   "outputs": [],
   "source": [
    "def ineq_cons1(x):\n",
    "    # First inequality cconstrain\n",
    "    return np.array([x[0] - 3])"
   ]
  },
  {
   "cell_type": "code",
   "execution_count": null,
   "metadata": {
    "collapsed": true,
    "deletable": true,
    "editable": true
   },
   "outputs": [],
   "source": [
    "def ineq_cons1_deriv(x):\n",
    "    \"\"\"Compute the derivatives of the first inequality cconstrain\"\"\"\n",
    "    return np.array([1.0, 1.0])"
   ]
  },
  {
   "cell_type": "code",
   "execution_count": null,
   "metadata": {
    "collapsed": true,
    "deletable": true,
    "editable": true
   },
   "outputs": [],
   "source": [
    "def ineq_cons2(x):\n",
    "    # Second inequality cconstrain\n",
    "    return np.array([x[1] - 1])"
   ]
  },
  {
   "cell_type": "code",
   "execution_count": null,
   "metadata": {
    "collapsed": true,
    "deletable": true,
    "editable": true
   },
   "outputs": [],
   "source": [
    "def ineq_cons2_deriv(x):\n",
    "    \"\"\"Compute the derivatives of the second inequality cconstrain\"\"\"\n",
    "    return np.array([0.0, 1.0])"
   ]
  },
  {
   "cell_type": "code",
   "execution_count": null,
   "metadata": {
    "collapsed": false,
    "deletable": true,
    "editable": true
   },
   "outputs": [],
   "source": [
    "cons = ({'type': 'eq',\n",
    "         'fun' : eq_cons,\n",
    "         'jac' : eq_cons_deriv},\n",
    "        {'type': 'ineq',\n",
    "         'fun' : ineq_cons1,\n",
    "         'jac' : ineq_cons1_deriv},\n",
    "        {'type': 'ineq',\n",
    "         'fun' : ineq_cons2,\n",
    "         'jac' : ineq_cons2_deriv})\n"
   ]
  },
  {
   "cell_type": "markdown",
   "metadata": {
    "deletable": true,
    "editable": true
   },
   "source": [
    "Then the uncontrauned optimization can be ferformed as:"
   ]
  },
  {
   "cell_type": "code",
   "execution_count": null,
   "metadata": {
    "collapsed": false,
    "deletable": true,
    "editable": true
   },
   "outputs": [],
   "source": [
    "res = spo.minimize(fun, [-1.0,1.0], args=(-1.0,), jac=fun_derivative,\n",
    "               method='SLSQP', options={'disp': True})\n",
    "print(res.x)"
   ]
  },
  {
   "cell_type": "markdown",
   "metadata": {
    "deletable": true,
    "editable": true
   },
   "source": [
    "Moreover a constrained optimization as:\n"
   ]
  },
  {
   "cell_type": "code",
   "execution_count": null,
   "metadata": {
    "collapsed": false,
    "deletable": true,
    "editable": true
   },
   "outputs": [],
   "source": [
    "res = spo.minimize(fun,[-1.0,1.0], args=(-1.0,), jac=fun_derivative, constraints=cons,method='SLSQP', options={'disp':True})\n",
    "print(res.x)"
   ]
  },
  {
   "cell_type": "markdown",
   "metadata": {
    "deletable": true,
    "editable": true
   },
   "source": [
    "## 3. Brent's method\n",
    "\n",
    "`Brent's method` combines root bracketing, inverse quadratic interpolation and bisection to converge from the neighborhood of a zero crossing. Brent's is also known as the van Wijingaarden-Deker-Brent method. \n",
    "\n",
    "`Brent's method` is a good method to find the roots for scalar functions. Given three points $(a,f(a))$, $(b,f(b))$, $(c,f(c))$,then the interpolation formula is:\n",
    "\n",
    "$$\n",
    "x=\\frac{[y-f(a)][y-f(b)]c}{[f(c)-f(a)][f(c)-f(b)} + \\frac{[y-f(b)][y-f(c)]a}{[f(a)-f(b)][f(a)-f(c)]} + \\frac{[y-f(c)][y-f(a)]b}{[f(b)-f(c)][f(b)-f(a)]}\n",
    "$$\n",
    "\n",
    "where x is a quaratic function of y.\n",
    "\n",
    "\n",
    "Let $y=0$ the givning a result for the next root estimate:\n",
    "\n",
    "$$\n",
    "x=b+\\frac{P}{Q}\n",
    "$$\n",
    "\n",
    "where \n",
    "$$\n",
    "P =S[T(R-T)(c-b)-(1-R)(b-a)] \\\\ \\\n",
    "Q =(T-1)(R-1)(S-1)\n",
    "$$ \n",
    "with\n",
    "$$\n",
    "R \\equiv \\frac{f(b)}{f(c)} \\ , \\ S \\equiv \\frac{f(b)}{f(a)} \\ , \\ T \\equiv \\frac{f(a)}{f(c)}\n",
    "$$\n"
   ]
  },
  {
   "cell_type": "markdown",
   "metadata": {
    "collapsed": false,
    "deletable": true,
    "editable": true
   },
   "source": [
    "### `scipy.optimize.brentq`\n",
    "A function `scipy.optimize.brentq` can find a root of a function in a breaketing interval using `Brent's method`. The fist input is a function, `f`, which is a Python function returning a number. ( `f` must be continuous,and also the sign of `f(a)` and `f(b)` must be opposite. The second inputs is a number `a`, it's the left side of the bracketing interval $[a,b]$. The third input is also a number `b`, the other side of the bracketing interval $[a,b]$. There are more optional inputs information in [documentations](https://docs.scipy.org/doc/scipy/reference/generated/scipy.optimize.brentq.html#brent1973). Finally, let's expolre some examples to see how to use the function."
   ]
  },
  {
   "cell_type": "markdown",
   "metadata": {
    "collapsed": true,
    "deletable": true,
    "editable": true
   },
   "source": [
    "### Example: $f(a)x^3 +f(c)x-f(b)=0$"
   ]
  },
  {
   "cell_type": "markdown",
   "metadata": {
    "collapsed": true,
    "deletable": true,
    "editable": true
   },
   "source": [
    "Let's find th roots of the function:\n",
    "$$\n",
    "f(a)x^3 +f(c)x -f(b)= 0\n",
    "$$"
   ]
  },
  {
   "cell_type": "code",
   "execution_count": null,
   "metadata": {
    "collapsed": true,
    "deletable": true,
    "editable": true
   },
   "outputs": [],
   "source": [
    "from scipy.optimize import brentq"
   ]
  },
  {
   "cell_type": "code",
   "execution_count": null,
   "metadata": {
    "collapsed": false,
    "deletable": true,
    "editable": true
   },
   "outputs": [],
   "source": [
    "def f(x,a,b,c):\n",
    "    return fun(a)*x**3 +fun(c)*x -fun(b)"
   ]
  },
  {
   "cell_type": "code",
   "execution_count": null,
   "metadata": {
    "collapsed": true,
    "deletable": true,
    "editable": true
   },
   "outputs": [],
   "source": [
    "def fun(x):\n",
    "    return x+3"
   ]
  },
  {
   "cell_type": "code",
   "execution_count": null,
   "metadata": {
    "collapsed": false,
    "deletable": true,
    "editable": true
   },
   "outputs": [],
   "source": [
    "res= spo.brentq(f,0,100.0,args=(1.0, 10.0, 3.0))"
   ]
  },
  {
   "cell_type": "code",
   "execution_count": null,
   "metadata": {
    "collapsed": false,
    "deletable": true,
    "editable": true
   },
   "outputs": [],
   "source": [
    "res"
   ]
  },
  {
   "cell_type": "code",
   "execution_count": null,
   "metadata": {
    "collapsed": false,
    "deletable": true,
    "editable": true
   },
   "outputs": [],
   "source": [
    "4*1.1507540992543204**3 + 6*1.1507540992543204 - 13"
   ]
  },
  {
   "cell_type": "markdown",
   "metadata": {
    "deletable": true,
    "editable": true
   },
   "source": [
    "In this case: "
   ]
  },
  {
   "cell_type": "code",
   "execution_count": null,
   "metadata": {
    "collapsed": false,
    "deletable": true,
    "editable": true
   },
   "outputs": [],
   "source": [
    "a=1.0\n",
    "b=10.0\n",
    "c=3.0\n",
    "f_a=fun(a)\n",
    "f_b=fun(b)\n",
    "f_c=fun(c)\n",
    "R=f_b/f_c\n",
    "S=f_b/f_a\n",
    "T=f_a/f_c\n"
   ]
  },
  {
   "cell_type": "code",
   "execution_count": null,
   "metadata": {
    "collapsed": false,
    "deletable": true,
    "editable": true
   },
   "outputs": [],
   "source": [
    "P=S*(T*(R-T)*(c-b)-(1-R)*(b-a))\n",
    "print(P)"
   ]
  },
  {
   "cell_type": "code",
   "execution_count": null,
   "metadata": {
    "collapsed": false,
    "deletable": true,
    "editable": true
   },
   "outputs": [],
   "source": [
    "Q=(T-1)*(R-1)*(S-1)\n",
    "print(Q)"
   ]
  },
  {
   "cell_type": "code",
   "execution_count": null,
   "metadata": {
    "collapsed": false,
    "deletable": true,
    "editable": true
   },
   "outputs": [],
   "source": [
    "roots=b+P/Q\n",
    "print(roots)"
   ]
  },
  {
   "cell_type": "markdown",
   "metadata": {
    "deletable": true,
    "editable": true
   },
   "source": [
    "### Example: $sin(2\\pi x)- e^{-x^2}=0$"
   ]
  },
  {
   "cell_type": "markdown",
   "metadata": {
    "deletable": true,
    "editable": true
   },
   "source": [
    "Find the root of the function:\n",
    "$$\n",
    " sin (2 \\pi x )- e^{-x^2}=0\n",
    "$$"
   ]
  },
  {
   "cell_type": "code",
   "execution_count": null,
   "metadata": {
    "collapsed": true,
    "deletable": true,
    "editable": true
   },
   "outputs": [],
   "source": [
    "def f(x):\n",
    "    return np.sin(2*np.pi*x)-np.exp(-x**2)"
   ]
  },
  {
   "cell_type": "code",
   "execution_count": null,
   "metadata": {
    "collapsed": false,
    "deletable": true,
    "editable": true
   },
   "outputs": [],
   "source": [
    "res= spo.brentq(f,0,100.0)"
   ]
  },
  {
   "cell_type": "code",
   "execution_count": null,
   "metadata": {
    "collapsed": false,
    "deletable": true,
    "editable": true
   },
   "outputs": [],
   "source": [
    "res"
   ]
  },
  {
   "cell_type": "code",
   "execution_count": null,
   "metadata": {
    "collapsed": false,
    "deletable": true,
    "editable": true
   },
   "outputs": [],
   "source": [
    "np.sin(2*np.pi*100)-np.exp(-100**2)"
   ]
  },
  {
   "cell_type": "markdown",
   "metadata": {
    "deletable": true,
    "editable": true
   },
   "source": [
    "## 4. Exercises"
   ]
  },
  {
   "cell_type": "markdown",
   "metadata": {
    "deletable": true,
    "editable": true
   },
   "source": [
    "**Exercise 1.** Using the function `least_squares` to\n",
    "\n",
    "a) Find the x that minimizes \n",
    "$$\n",
    "\\sum_{i=0}^{20} \\left(n_icos(x_1) + e^{n_i x_2}-y_i\\right)^2\n",
    "$$\n",
    "\n",
    "b) and find the value of the minimum sum of squares."
   ]
  },
  {
   "cell_type": "markdown",
   "metadata": {
    "deletable": true,
    "editable": true
   },
   "source": [
    "** Exercise 2.** Using the function `minimize` to find the minimization of the function \n",
    "$$\n",
    "f(x,y)=2x^5+6xy+4y^3\n",
    "$$\n",
    "by the given constrains:\n",
    "$ xy-x^2=0 \\\\\n",
    "x+y \\geq 0 \\\\\n",
    "x^3-y^2 \\geq 0 \\\\$\n"
   ]
  },
  {
   "cell_type": "markdown",
   "metadata": {
    "deletable": true,
    "editable": true
   },
   "source": [
    "**Exercise 3.** Find the root of the function \n",
    "$$\n",
    "tan \\left(\\frac{x}{3\\pi}\\right) - cos(4x)=0\n",
    "$$\n",
    "over $[0,10]$"
   ]
  },
  {
   "cell_type": "code",
   "execution_count": null,
   "metadata": {
    "collapsed": true,
    "deletable": true,
    "editable": true
   },
   "outputs": [],
   "source": []
  }
 ],
 "metadata": {
  "kernelspec": {
   "display_name": "Python 3",
   "language": "python",
   "name": "python3"
  },
  "language_info": {
   "codemirror_mode": {
    "name": "ipython",
    "version": 3
   },
   "file_extension": ".py",
   "mimetype": "text/x-python",
   "name": "python",
   "nbconvert_exporter": "python",
   "pygments_lexer": "ipython3",
   "version": "3.5.2"
  }
 },
 "nbformat": 4,
 "nbformat_minor": 2
}
