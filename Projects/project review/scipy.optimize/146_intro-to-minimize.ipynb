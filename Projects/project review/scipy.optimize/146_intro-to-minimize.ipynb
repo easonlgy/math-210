{
 "cells": [
  {
   "cell_type": "markdown",
   "metadata": {
    "deletable": true,
    "editable": true
   },
   "source": [
    "# Math 210 Project 1\n",
    "\n",
    "## Minimizing Functions with `scipy.optimize`"
   ]
  },
  {
   "cell_type": "markdown",
   "metadata": {
    "deletable": true,
    "editable": true
   },
   "source": [
    "We are focusing on the subpackages `scipy.optimize.minimize_scalar` and `scipy.optimize.minimize`. The first subpackage returns the global or local minimum of a single variable function, whereas the second subpackage returns the global minimum of any single or multi variable function."
   ]
  },
  {
   "cell_type": "markdown",
   "metadata": {
    "deletable": true,
    "editable": true
   },
   "source": [
    "Our goal is to explore two $\\mathbf{functions}$ in the subpackage `scipy.optimize` which help determine the global or local minimums of any input funtion as long as it exists. In particular, we will explore the following functions, where documentation will also be included:\n",
    "\n",
    "   * `scipy.optimize.minimize_scalar` (See the [documentation](https://docs.scipy.org/doc/scipy-0.18.1/reference/generated/scipy.optimize.minimize_scalar.html#scipy.optimize.minimize_scalar))\n",
    "\n",
    "   * `scipy.optimize.minimize` (See the [documentation](https://docs.scipy.org/doc/scipy-0.18.1/reference/generated/scipy.optimize.minimize.html#scipy.optimize.minimize))\n",
    "\n",
    "Our main conclution is that altough `scipy.optimize.minimize_scalar` is a faster package to use, `scipy.optimize.minimize` is better because it can allow inputs of multiple variables to be examined."
   ]
  },
  {
   "cell_type": "markdown",
   "metadata": {
    "deletable": true,
    "editable": true
   },
   "source": [
    "## Contents\n",
    "\n",
    "    1. scipy.optimize.minimize_scalar\n",
    "    2. scipy.optimize.minimize\n",
    "    3. Exercises"
   ]
  },
  {
   "cell_type": "code",
   "execution_count": null,
   "metadata": {
    "collapsed": true,
    "deletable": true,
    "editable": true
   },
   "outputs": [],
   "source": [
    "import scipy.optimize as spi\n",
    "import numpy as np\n",
    "import matplotlib.pyplot as plt\n",
    "%matplotlib inline"
   ]
  },
  {
   "cell_type": "markdown",
   "metadata": {
    "deletable": true,
    "editable": true
   },
   "source": [
    "## 1. `scipy.optimize.minimize_scalar`\n",
    "\n"
   ]
  },
  {
   "cell_type": "markdown",
   "metadata": {
    "deletable": true,
    "editable": true
   },
   "source": [
    "The function `scipy.optimize.minimize_scalar` is a small but powerful function that takes any single variable function and returns the input parameter that results in the smallest output. In respect to a 2 dimension graph, it returns the X value of a function f(x) which gives the lowest f(x) value, or the absolute minimum."
   ]
  },
  {
   "cell_type": "markdown",
   "metadata": {
    "deletable": true,
    "editable": true
   },
   "source": [
    "Another great aspect of this subpackage is that you can also find any local minimums of a single variable function as long as you input the parameters."
   ]
  },
  {
   "cell_type": "markdown",
   "metadata": {
    "deletable": true,
    "editable": true
   },
   "source": [
    "Here are the general input parameters of the function:\n",
    "\n",
    "`scipy.optimize.minimize_scalar(fun,x_0)`\n",
    "\n",
    "* `fun` is the function input required. This is the function you are trying to find the global local minimum of.\n",
    "\n",
    "\n",
    "* `x_0` is an optional input parameter required only if you wish to find a local minimum. This input must be in the form of an array."
   ]
  },
  {
   "cell_type": "markdown",
   "metadata": {
    "deletable": true,
    "editable": true
   },
   "source": [
    "### Example 1\n",
    "Let us explore this package with a few examples\n",
    "\n",
    "![Picture](http://images.tutorvista.com/cms/images/67/y=%20x%5E2-1.png)\n",
    "\n",
    "Above is the function $f(x) = (x)^2 - 1$\n",
    "\n",
    "We should already observe that the minimum of the function occurs at (0, -1), or in other words. The minimum of the function is at -1 when $x = 0$.\n",
    "\n",
    "Let us now put it into the function `scipy.optimize.minimize_scalar`, which we will denote as `spi.minimize_scalar`."
   ]
  },
  {
   "cell_type": "code",
   "execution_count": null,
   "metadata": {
    "collapsed": false,
    "deletable": true,
    "editable": true
   },
   "outputs": [],
   "source": [
    "def f(x):\n",
    "    return (x)**2 - 1\n",
    "\n",
    "spi.minimize_scalar(f)"
   ]
  },
  {
   "cell_type": "markdown",
   "metadata": {
    "deletable": true,
    "editable": true
   },
   "source": [
    "Our output gives us several terms but we are only interested in `fun` and `x`.\n",
    "\n",
    "* `fun` returns the global minimum of the function (The y-coordinate)\n",
    "* `x` returns the x coordinate which would return the global minimum of the function (The x-coordinate)"
   ]
  },
  {
   "cell_type": "markdown",
   "metadata": {
    "deletable": true,
    "editable": true
   },
   "source": [
    "### Example 2"
   ]
  },
  {
   "cell_type": "markdown",
   "metadata": {
    "deletable": true,
    "editable": true
   },
   "source": [
    "What about if we want to find a local minimum?\n",
    "\n",
    "![Picture](http://www.sosmath.com/algebra/inequalities/pictures/pic27.gif)\n",
    "\n",
    "The following graph shows the function $f(x) = x(x+1.4)(x+1)(x-1.4)$\n",
    "\n",
    "Our global minimum is at the approximate point (0.98,-1.97), but if we are interested in the minimum from the interval [-10,0], all we need to do is add in an array for the input parameter `x_0`."
   ]
  },
  {
   "cell_type": "code",
   "execution_count": null,
   "metadata": {
    "collapsed": false,
    "deletable": true,
    "editable": true
   },
   "outputs": [],
   "source": [
    "def f(x):\n",
    "    return x*(x+1.4)*(x+1)*(x-1.4)"
   ]
  },
  {
   "cell_type": "code",
   "execution_count": null,
   "metadata": {
    "collapsed": false,
    "deletable": true,
    "editable": true
   },
   "outputs": [],
   "source": [
    "spi.minimize_scalar(f,[-10,0])"
   ]
  },
  {
   "cell_type": "markdown",
   "metadata": {
    "deletable": true,
    "editable": true
   },
   "source": [
    "Here we see that our output parameter returns (-1.22,-0.13), which is exactly the minimum we would get if we were to determine the answer through calculus!"
   ]
  },
  {
   "cell_type": "code",
   "execution_count": null,
   "metadata": {
    "collapsed": false,
    "deletable": true,
    "editable": true
   },
   "outputs": [],
   "source": [
    "def f(x):\n",
    "    return (x-1)**2\n",
    "spi.fmin(f,(1))"
   ]
  },
  {
   "cell_type": "markdown",
   "metadata": {
    "deletable": true,
    "editable": true
   },
   "source": [
    "## 2. `scipy.optimize.minimize`\n",
    "\n",
    "What if we want to find a global minimum of a function with several variables? We would be forced to use `scipy.optimize.minimize`.\n",
    "\n",
    "Here are the general parameters of the function:\n",
    "\n",
    "`scipy.optimize.minimize(fun,x_0)`\n",
    "\n",
    "As we can see, the ordered input parameters are very similar to that of `scipy.optimize.minimize_scalar` but the parameter `x_0` is drastically different in this case.\n",
    "\n",
    "Since our function can have multiple variables, we need to define our functions in a specific method.\n",
    "\n",
    "For example, let's define a function `f` with 3 variables. We would have to structure it in the following way."
   ]
  },
  {
   "cell_type": "markdown",
   "metadata": {
    "deletable": true,
    "editable": true
   },
   "source": [
    "`def f(x):\n",
    "    variable_one = x[0]\n",
    "    variable_two = x[1]\n",
    "    variable_three = x[2]\n",
    "    return variable_one**2 + variable_two**2 + variable_three**3`\n",
    "\n",
    "x0 = [1,2,3]"
   ]
  },
  {
   "cell_type": "markdown",
   "metadata": {
    "deletable": true,
    "editable": true
   },
   "source": [
    "There is a lot of information here so let us slowly unpack it!\n",
    "\n",
    "When we defined the function f(x), we are taking x to be an array input. Our terms `variable_one`, `variable_two`, and `variable_three` are defined so that the first variable is the first term in the array $x$, the second variable is the second term in the array $x$, and so on.\n",
    "\n",
    "Our last term x0 is a guess input. For now, all we need to know is that we should put in as many numbers as there are variables in the function.\n",
    "\n",
    "  Let us now see an example with the function $z = x^2 + y^2$\n",
    "                            where z is a two variable function."
   ]
  },
  {
   "cell_type": "markdown",
   "metadata": {
    "deletable": true,
    "editable": true
   },
   "source": [
    "### Example 1\n",
    "\n",
    "![Picture](http://ltcconline.net/greenl/courses/117/DerivNvar/surfac1.jpg)"
   ]
  },
  {
   "cell_type": "markdown",
   "metadata": {
    "deletable": true,
    "editable": true
   },
   "source": [
    "We should already know that the lowest point on this graph is the point (0,0,0), where the coordinates of x, y , and z are given respectively.\n",
    "\n",
    "Because we have two variables, we need to define `variable_one` and `variable_two`. As with before, we can set aa random array for x0."
   ]
  },
  {
   "cell_type": "code",
   "execution_count": null,
   "metadata": {
    "collapsed": false,
    "deletable": true,
    "editable": true
   },
   "outputs": [],
   "source": [
    "def f(x):\n",
    "    variable_one = x[0]\n",
    "    variable_two = x[1]\n",
    "    return variable_one**2 + variable_two**2\n",
    "\n",
    "x0 = [1,2]\n",
    "\n",
    "spi.minimize(f,x0)"
   ]
  },
  {
   "cell_type": "markdown",
   "metadata": {
    "deletable": true,
    "editable": true
   },
   "source": [
    "As with the subpackage `scipy.optimize.minimize`, we have quite a few output terms, but the only terms we need to understand are `fun` and `x: array([variable_one, variable_two])`"
   ]
  },
  {
   "cell_type": "markdown",
   "metadata": {
    "deletable": true,
    "editable": true
   },
   "source": [
    "The output `fun` tells us the lowest point on the graph, namely the output of f(x,y), and `x: array([variable_one, variable_two])` gives us the values of the coordinates for x and y respectively.\n",
    "\n",
    "Reading off, `fun` gives us 0 and our x and y values come to be (0,0)\n",
    "\n",
    "Note that although the numbers aren't strictly zero, in python, the outputs represent the number 0.\n",
    "\n",
    "So f(x,y) = 0 when x,y = (0,0), or in other words, the minimum point of the function is (0,0,0)."
   ]
  },
  {
   "cell_type": "markdown",
   "metadata": {
    "deletable": true,
    "editable": true
   },
   "source": [
    "### Example 2\n",
    "\n",
    "Let us now try another example with the function \n",
    "\n",
    "$$ f(x,y) = sin\\left(cos\\left(\\sqrt{x^2 + y^2}\\right)\\right) $$\n",
    "\n",
    "![Picture](https://knowledgemix.files.wordpress.com/2015/03/sinc-3d-cos.jpg)"
   ]
  },
  {
   "cell_type": "code",
   "execution_count": null,
   "metadata": {
    "collapsed": true,
    "deletable": true,
    "editable": true
   },
   "outputs": [],
   "source": [
    "def f(x):\n",
    "    variable_one = x[0]\n",
    "    variable_two = x[1]\n",
    "    return np.sin(np.cos((variable_one**2 + variable_two**2)**(1/2)))\n",
    "\n",
    "x0 = [1,2]"
   ]
  },
  {
   "cell_type": "code",
   "execution_count": null,
   "metadata": {
    "collapsed": false,
    "deletable": true,
    "editable": true
   },
   "outputs": [],
   "source": [
    "spi.minimize(f,x0)"
   ]
  },
  {
   "cell_type": "markdown",
   "metadata": {
    "deletable": true,
    "editable": true
   },
   "source": [
    "From here on, we can see that our lowest value for f(x,y) occures at -0.841 when (x,y) is (1.40,2.81)"
   ]
  },
  {
   "cell_type": "markdown",
   "metadata": {
    "deletable": true,
    "editable": true
   },
   "source": [
    "To end off the description of this subpackage, We will briefly explain the concept of the input parameter x0.\n",
    "\n",
    "We already know how to structure it, having gone over the length in the previous section.\n",
    "\n",
    "`x0` in this case acts as a starting point to guess. In other words, python will use the point `x0` as an initial guess and work its way to finding the correct answer from there. In the case of example 1, if we were to set `x0` as [0,0], notice the output parameter `nit`. This represents the number of iterations, of the number of times the package runs in order to check for the optimal minimum solution."
   ]
  },
  {
   "cell_type": "markdown",
   "metadata": {
    "deletable": true,
    "editable": true
   },
   "source": [
    "#### Example: x0 = [1,2]"
   ]
  },
  {
   "cell_type": "code",
   "execution_count": null,
   "metadata": {
    "collapsed": false,
    "deletable": true,
    "editable": true
   },
   "outputs": [],
   "source": [
    "def f(x):\n",
    "    variable_one = x[0]\n",
    "    variable_two = x[1]\n",
    "    return variable_one**2 + variable_two**2\n",
    "\n",
    "x0 = [1,2]\n",
    "\n",
    "spi.minimize(f,x0)"
   ]
  },
  {
   "cell_type": "markdown",
   "metadata": {
    "deletable": true,
    "editable": true
   },
   "source": [
    "#### Example: x0 = [0,0]"
   ]
  },
  {
   "cell_type": "code",
   "execution_count": null,
   "metadata": {
    "collapsed": false,
    "deletable": true,
    "editable": true
   },
   "outputs": [],
   "source": [
    "def f(x):\n",
    "    variable_one = x[0]\n",
    "    variable_two = x[1]\n",
    "    return variable_one**2 + variable_two**2\n",
    "\n",
    "x0 = [0,0]\n",
    "\n",
    "spi.minimize(f,x0)"
   ]
  },
  {
   "cell_type": "markdown",
   "metadata": {
    "deletable": true,
    "editable": true
   },
   "source": [
    "By looking at the results, if we were to set `x0` as [1,2], `scipy.optimize.minimize` would need to go through two more iterations to find the optimal minimum solution.\n",
    "\n",
    "If we set `x0` as [0,0], the subpackage wouldn't need to iterate any more instances to check for an optimal solution because we already guessed correctly on our first try!"
   ]
  },
  {
   "cell_type": "markdown",
   "metadata": {
    "deletable": true,
    "editable": true
   },
   "source": [
    "## Conclusion.\n",
    "\n",
    "Now that we know how to use both subpackages, we need to ask the question: \"Which subpackage is better?\" Although both are great, for more complex functions, the clear winner is `scipy.optimize.minimize`, the reason being that it can find minimum values of functions with multiple variables. The setup for the subpackage is definitely more difficult, but its nothing too complex. `scipy.optimize.minimum_scalar` is great for any function of a single variable, but it is too limited in its scope of mathematics.\n",
    "\n",
    "There are methods to set constraints and intervals in `scipy.optimize.minimum` for what different variables could be, but that is beyond the scope of this course and the material would be better understood if one were to take math 340 (Linear Programming)."
   ]
  },
  {
   "cell_type": "markdown",
   "metadata": {
    "deletable": true,
    "editable": true
   },
   "source": [
    "## Exercises"
   ]
  },
  {
   "cell_type": "markdown",
   "metadata": {
    "deletable": true,
    "editable": true
   },
   "source": [
    "### Exercise 1.\n",
    "\n",
    "Find the global minimum of the function $f(x) = \\mathrm{cos}\\left (\\mathrm{sin} \\left (x -10 \\right) \\right)$"
   ]
  },
  {
   "cell_type": "markdown",
   "metadata": {
    "deletable": true,
    "editable": true
   },
   "source": [
    "### Exercise 2.\n",
    "\n",
    "Find the minimum of the function $f(x) = \\sqrt{x} + \\mathrm{ln}{|x + 1|}$, where x is in the interval [6,11]. Is this solution a local or global maximum? Explain."
   ]
  },
  {
   "cell_type": "markdown",
   "metadata": {
    "deletable": true,
    "editable": true
   },
   "source": [
    "### Exercise 3."
   ]
  },
  {
   "cell_type": "markdown",
   "metadata": {
    "deletable": true,
    "editable": true
   },
   "source": [
    "Find the minimum of the function $$ \\sin(|x+ y - z|) + \\cos(\\sqrt{x+y})z$$"
   ]
  },
  {
   "cell_type": "code",
   "execution_count": null,
   "metadata": {
    "collapsed": true,
    "deletable": true,
    "editable": true
   },
   "outputs": [],
   "source": []
  }
 ],
 "metadata": {
  "kernelspec": {
   "display_name": "Python 3",
   "language": "python",
   "name": "python3"
  },
  "language_info": {
   "codemirror_mode": {
    "name": "ipython",
    "version": 3
   },
   "file_extension": ".py",
   "mimetype": "text/x-python",
   "name": "python",
   "nbconvert_exporter": "python",
   "pygments_lexer": "ipython3",
   "version": "3.5.2"
  }
 },
 "nbformat": 4,
 "nbformat_minor": 2
}
