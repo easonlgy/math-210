{
 "cells": [
  {
   "cell_type": "markdown",
   "metadata": {
    "collapsed": true,
    "deletable": true,
    "editable": true
   },
   "source": [
    "# MATH 210 Project I\n",
    "\n",
    "## Solving Linear Programming Problems  with `scipy.optimize.linprog`"
   ]
  },
  {
   "cell_type": "markdown",
   "metadata": {
    "deletable": true,
    "editable": true
   },
   "source": [
    "SciPy is one of the core scientific computing packages in Python and the subpackage `scipy.optimize` is a collection of functions that produce two types of non-trivial data of an optimization problem *(see the [documentation](https://docs.scipy.org/doc/scipy-0.18.1/reference/optimize.html#optimization))*:\n",
    "\n",
    "1. Finding the optimal solution/s: \n",
    "${\\hspace 1mm} \\boldsymbol{f} := X:\\{x_{1},x_{2},\\ldots,x_{n}\\} \\longrightarrow \\boldsymbol{R^{{\\hspace 0.5mm}n}}\\\\\n",
    "\\exists{{\\hspace 1mm}x^{*}}\\in{X},{\\hspace 0.5mm}\\forall{{\\hspace 1mm}x}\\in{X}{\\hspace 2.5mm}\\text{such that:}\n",
    "{\\hspace 5mm}\\boldsymbol{min}{\\hspace 2.5mm}f(x^{*}) \\leq f(x) {\\hspace 4mm}{\\text{or}} \n",
    "{\\hspace 5mm}\\boldsymbol{max}{\\hspace 2.5mm}f(x^{*}) \\geq f(x)$\n",
    "2. Finding roots of different kinds of functions:\n",
    "${\\hspace 5mm}\\exists{\\hspace 0.75mm}x, {\\hspace 1mm}\\text{s.t.}{\\hspace 2mm} f(x) = 0$\n",
    "\n",
    "The **goal** of this notebook is to explore **the methodology** of an optimization function in the subpackage `scipy.optimize` that **solves linear programming problems**. The function `scipy.optimize.linprog`, which minimizes a linear objective function subjected to linear equality and inequality constraints *(see the [documentation](https://docs.scipy.org/doc/scipy/reference/generated/scipy.optimize.linprog.html))*, is a useful function in determining the optimal solution of different types of linear programming problems. By the end of this notebook, the reader will be able to apply this `scipy.optimize` function to the following types of L.P. problems:\n",
    "\n",
    "* The Standard Maximum Problem\n",
    "* The Standard Minimum Problem"
   ]
  },
  {
   "cell_type": "markdown",
   "metadata": {
    "deletable": true,
    "editable": true
   },
   "source": [
    "## Contents\n",
    "\n",
    "1. Linear Programming Model: `optimize.linprog`\n",
    "   * Simplex Algorithm Method\n",
    "   * Special Cases of L.P. Problems\n",
    "   * Function Definition to Solve Feasible L.P Problems\n",
    "\n",
    "2. The Standard Maximum (Minimum) Problem\n",
    "3. Exercises"
   ]
  },
  {
   "cell_type": "code",
   "execution_count": null,
   "metadata": {
    "collapsed": false,
    "deletable": true,
    "editable": true
   },
   "outputs": [],
   "source": [
    "from scipy.optimize import linprog\n",
    "import numpy as np\n",
    "import matplotlib.pyplot as plt\n",
    "%matplotlib inline"
   ]
  },
  {
   "cell_type": "markdown",
   "metadata": {
    "deletable": true,
    "editable": true
   },
   "source": [
    "## 1. Linear Programming Model"
   ]
  },
  {
   "cell_type": "markdown",
   "metadata": {
    "deletable": true,
    "editable": true
   },
   "source": [
    "A [linear programming](http://web.cs.iastate.edu/~cs511/handout10/LP%20Basics.pdf) (L.P.) problem in [standard form](https://en.wikipedia.org/wiki/Linear_programming#Standard_form) is of the form:\n",
    "$$\n",
    "{\\hspace 45mm}\n",
    "\\begin{alignat*}{3}\n",
    "\\textbf{\"Primal\"}& \\quad && \\quad& && \\quad\\quad\\quad \\textbf{\"Dual\"} \\\\\n",
    "Maximum{\\hspace 3.8mm}\\bar{c}^{\\intercal}{\\hspace 0.5mm}\\bar{x}& \\quad && &{\\|} \\quad &&\n",
    "Minimum{\\hspace 3.8mm}\\quad\\bar{b}^{\\intercal}{\\hspace 0.5mm} &\\bar{y} \n",
    "\\quad && \\\\\n",
    "\\text{subject to}{\\hspace 5mm}\\boldsymbol{A}{\\hspace 0.5mm}\\bar{x}& \\leq \\bar{\\boldsymbol{b}} \\quad && &{\\|} \\quad &&\n",
    "\\text{subject to}{\\hspace 5mm}\\quad\\boldsymbol{A}{\\hspace 0.5mm} &\\bar{y} \\geq \\bar{\\boldsymbol{c}} \\\\\n",
    "x &\\geq 0 \\quad && &{\\|} \\quad &&\n",
    "&y\\geq 0 \n",
    "\\end{alignat*}\n",
    "$$\n",
    "${\\hspace 1mm}$\n",
    "where,\n",
    "$$\n",
    "{\\hspace -2mm}\n",
    "A = \n",
    "\\begin{pmatrix}\n",
    "a_{11} & a_{12} & \\cdots & a_{1n} \\\\\n",
    "a_{21} & a_{22} & \\cdots & a_{2n} \\\\\n",
    "\\vdots & \\vdots & \\ddots & \\vdots \\\\\n",
    "a_{m1} & a_{m2} & \\cdots & a_{mn}\n",
    "\\end{pmatrix}\n",
    ",{\\hspace 5mm}\n",
    "\\bar{c} = \n",
    "\\begin{pmatrix}\n",
    "c_{1}\\\\c_{2} \\\\ \\vdots \\\\c_{n}\n",
    "\\end{pmatrix}\n",
    ",{\\hspace 5mm}\n",
    "\\bar{b} = \n",
    "\\begin{pmatrix}\n",
    "b_{1}\\\\b_{2} \\\\ \\vdots \\\\b_{m}\n",
    "\\end{pmatrix}\n",
    ",{\\hspace 5mm}\n",
    "\\bar{x} = \n",
    "\\begin{pmatrix}\n",
    "x_{1}\\\\x_{2} \\\\ \\vdots \\\\x_{n}\n",
    "\\end{pmatrix},{\\hspace 5mm}\n",
    "\\bar{y} = \n",
    "\\begin{pmatrix}\n",
    "y_{1}\\\\y_{2} \\\\ \\vdots \\\\y_{n}\n",
    "\\end{pmatrix}\n",
    "$$"
   ]
  },
  {
   "cell_type": "markdown",
   "metadata": {
    "collapsed": true,
    "deletable": true,
    "editable": true
   },
   "source": [
    "### Simplex Algorithm Method\n",
    "When the L.P. problem is in standard form, the optimal solution/s can easily be found through the [simplex algorithm method](https://en.wikipedia.org/wiki/Simplex_algorithm), which is an algorithm that perform iterations on pivots to search for a feasible solution of the linear problem *(see the [documentation](https://docs.scipy.org/doc/scipy/reference/optimize.linprog-simplex.html#optimize-linprog-simplex))*. Let us elaborate the process of this algorithm:\n",
    "\n",
    "$$\n",
    "\\boldsymbol{\\Lambda} = \\{1,2,\\ldots,n,n+1,\\dots,n+m\\}, {\\hspace 15mm}\n",
    "B \\subseteq \\Lambda, {\\hspace 15mm}\n",
    "N = \\Lambda \\backslash{\\hspace 0.5mm}B{\\hspace 0.5mm}, \\\\\n",
    "\\boldsymbol{\\tilde{A}_{\\Lambda}} = A{\\hspace 1mm}{\\|}{\\hspace 1mm}I\n",
    "$$\n",
    "\n",
    "If the [Primal](https://en.wikipedia.org/wiki/Duality) L.P. problem is in standard form, then an initial *dictionary* can be formulated:\n",
    "\n",
    "$$\n",
    "\\begin{align}\n",
    "\\boldsymbol{x_{B}} &= A_{B}^{-1}{\\hspace 0.5mm} b - A_{B}^{-1}{\\hspace 0.5mm}A_{N}{\\hspace 0.5mm}x_{N}\\\\\n",
    "\\boldsymbol{z} &= c_{B}^{T} {\\hspace 0.5mm} A_{B}^{-1} {\\hspace 0.5mm} b + \n",
    "(c_{N}^{T} - c_{B}^{T} {\\hspace 0.5mm} A_{B}^{-1} {\\hspace 0.5mm} A_{N}){\\hspace 0.5mm} x_{N}\n",
    "\\end{align}\n",
    "$$\n",
    "\n",
    "To search for a *feasible solution*, pivot iterations are performed to the above dictionary. Only can an iteration be feasible when a variable $x_{j}\\in x_{N}$ is able to enter the *basis* $B$ in the new *dictionary* with a corresponding variable $x_{i}\\in x_{B}$ to exit. Otherwise, special cases will be performed. The following determines the entering variable:\n",
    "\n",
    "$$\\boldsymbol{x_{j}} = max\\{c_{N}^{T} - c_{B}^{T} {\\hspace 0.5mm} A_{B}^{-1} {\\hspace 0.5mm} A_{N} > 0 \\}$$\n",
    "\n",
    "Likewise, the exiting variable is determined by:\n",
    "$$\n",
    "{\\hspace 20mm}\\boldsymbol{x_{i}} = max\\{t \\geq 0 : A_{B}^{-1}{\\hspace 0.5mm} b - t{\\hspace 0.5mm}(A_{B}^{-1}{\\hspace 0.5mm}A_{j}) \\geq 0 \\},\n",
    "{\\hspace 5mm}\n",
    "\\text{where i are rows and j are columns in}{\\hspace 1.5mm}A_{ij}\n",
    "$$\n",
    "\n",
    "In this algorithm, the *optimal solution* $x_{B} = A_{B}^{-1}{\\hspace 0.5mm} b$ is found when $(c_{N}^{T} - c_{B}^{T} {\\hspace 0.5mm} A_{B}^{-1} {\\hspace 0.5mm} A_{N}) \\leq 0$. Thus, the *maximum* value of $z$ is attained at the found optimal solution:\n",
    "\n",
    "$$\n",
    "\\boldsymbol{z} = c_{B}^{T} {\\hspace 0.5mm} A_{B}^{-1} {\\hspace 0.5mm} b\n",
    "$$\n",
    "\n",
    "It is also important to note that a linear programming problem may ask to *minimize* the objective function instead of maximizing it as shown in the graphical representation below."
   ]
  },
  {
   "cell_type": "markdown",
   "metadata": {
    "deletable": true,
    "editable": true
   },
   "source": [
    "![linear programming](http://www.personal.psu.edu/cxg286/Images/MyAnimatedGif.gif)"
   ]
  },
  {
   "cell_type": "markdown",
   "metadata": {
    "deletable": true,
    "editable": true
   },
   "source": [
    "### Special Cases of L.P. Problems\n",
    "\n",
    "$\\underline{\\text{Multiple Optimal Solutions}}$\n",
    "\n",
    "There is more than one solution to an L.P. problem due to the existence of a free variable provided the problem is bounded. This occurs when there is a $0$ coefficient in the *optimized* objective function: \n",
    "\n",
    "$$\\exists{\\hspace 1mm}0 \\in \\{c_{N}^{T} - c_{B}^{T} {\\hspace 0.5mm} A_{B}^{-1} {\\hspace 0.5mm} A_{N} \\leq 0 \\}$$\n",
    "<img src=\"http://4.bp.blogspot.com/-gLQ0UF9ngdc/UHQ7VLMvnBI/AAAAAAAAAOY/3YprIJICB1c/s1600/multopt.png\" width=\"230\" height=\"200\" alt=\"Drawing\" align=\"center\"> "
   ]
  },
  {
   "cell_type": "markdown",
   "metadata": {
    "deletable": true,
    "editable": true
   },
   "source": [
    "$\\underline{\\text{Unbounded}}$\n",
    "\n",
    "There is an infinite number of solutions to an L.P. problem. This occurs when no variable $x_{i}$ is able to exit: \n",
    "\n",
    "$$A_{B}^{-1}{\\hspace 0.5mm}A_{j}\\leq 0$$\n",
    "<img src=\"http://4.bp.blogspot.com/_vlUDzVnetcs/TFHVEZuX4gI/AAAAAAAAABY/WhW8NDU62qQ/s1600/extremerays.png\" width=\"260\" height=\"275\" alt=\"Drawing\" align=\"center\"> "
   ]
  },
  {
   "cell_type": "markdown",
   "metadata": {
    "deletable": true,
    "editable": true
   },
   "source": [
    "$\\underline{\\text{Infeasible}}$\n",
    "\n",
    "A special pivot to feasibility is necessarily performed before it can be solved. It goes beyond the scope of this notebook. This occurs when no feasible solutions are able to satisfy the linear constraints $x_{B}$ in the L.P. problem:\n",
    "\n",
    "$$x_{B} = A_{B}^{-1}{\\hspace 0.5mm} b \\leq 0$$\n",
    "<img src=\"http://www.dataenthusiast.com/wp-content/uploads/2013/02/feasible-900x773.png\" width=\"240\" height=\"300\" alt=\"Drawing\" align=\"center\"> "
   ]
  },
  {
   "cell_type": "markdown",
   "metadata": {
    "deletable": true,
    "editable": true
   },
   "source": [
    "### Function Definition to Solve Feasible L.P. Problems"
   ]
  },
  {
   "cell_type": "markdown",
   "metadata": {
    "deletable": true,
    "editable": true
   },
   "source": [
    "Note that the definitions used to formulate the dictionaries in the iterations of an L.P. problem is extracted from the augmented matrix $\\tilde{A}_{\\Lambda}$ and augmented $\\tilde{\\bar{c}}_{\\Lambda}$\n",
    "\n",
    "$$\n",
    "\\boldsymbol{\\tilde{A}_{\\Lambda}} = \n",
    "\\left(\n",
    "\\begin{array}{cccc|cccc}\n",
    "a_{1,1} & a_{1,2} & \\cdots & a_{1,n} & 1_{1,n+1} & 0 & \\cdots & 0\\\\\n",
    "a_{2,1} & a_{2,2} & \\cdots & a_{2,n} & 0 & \\ddots & \\cdots & \\vdots \\\\\n",
    "\\vdots & \\vdots & \\ddots & \\vdots & \\vdots & \\vdots & \\ddots & \\vdots \\\\\n",
    "a_{m,1} & a_{m,2} & \\cdots & a_{m,n} & 0 & 0 & \\cdots & 1_{m,n+m} \\\\\n",
    "\\end{array}\n",
    "\\right)\n",
    "{\\hspace 10mm}\n",
    "\\boldsymbol{\\tilde{\\bar{c}}_{\\Lambda}} = \n",
    "\\begin{pmatrix}\n",
    "c_{1}\\\\c_{2} \\\\ \\vdots \\\\c_{n} \\\\  \\hline 0 \\\\ \\vdots \\\\ {\\hspace 6.5mm}\n",
    "0_{n+m}\n",
    "\\end{pmatrix}\n",
    "$$\n",
    "based on the sets:\n",
    "$$\n",
    "\\boldsymbol{N} = \\{ 1, 2, \\ldots, n\\}\n",
    "{\\hspace 10mm}\n",
    "\\boldsymbol{B} = \\{ n+1, n+2, \\ldots, n+m\\}\n",
    "$$\n",
    "where an initial dictionary has:\n",
    "$$\n",
    "\\boldsymbol{A_{N}} = \n",
    "\\begin{pmatrix}\n",
    "a_{11} & a_{12} & \\cdots & a_{1n} \\\\\n",
    "a_{21} & a_{22} & \\cdots & a_{2n} \\\\\n",
    "\\vdots & \\vdots & \\ddots & \\vdots \\\\\n",
    "a_{m1} & a_{m2} & \\cdots & a_{mn}\n",
    "\\end{pmatrix}\n",
    "{\\hspace 10mm}\n",
    "\\boldsymbol{A_{B}} = \n",
    "\\begin{pmatrix}\n",
    "1_{1,n+1} & 0 & \\cdots & 0 \\\\\n",
    "0 & \\ddots & \\cdots & \\vdots \\\\\n",
    "\\vdots & \\vdots & \\ddots & \\vdots \\\\\n",
    "0 & 0 & \\cdots & 1_{m,n+m}\n",
    "\\end{pmatrix}\n",
    "{\\hspace 10mm}\n",
    "\\boldsymbol{\\bar{c}_{N}} = \n",
    "\\begin{pmatrix}\n",
    "c_{1}\\\\c_{2} \\\\ \\vdots \\\\c_{n}\n",
    "\\end{pmatrix}\n",
    "{\\hspace 10mm}\n",
    "\\boldsymbol{\\bar{c}_{B}} = \n",
    "\\begin{pmatrix}\n",
    "0\\\\ 0 \\\\ \\vdots \\\\ \\quad {\\hspace 1.4mm} 0_{n+m}\n",
    "\\end{pmatrix}\n",
    "$$\n",
    "\n",
    "with the columns of $A_{B}$ and rows of $c_{B}$ representing the [slack variables](http://pblpathways.com/fm/C4_3_2.pdf) ${\\hspace 3mm}\\{x_{n+1},\\ldots,x_{n+m}\\}{\\hspace 3mm}$ and the columns of $A_{N}$ and rows of $c_{N}$ representing the [decision variables](https://www.courses.psu.edu/for/for466w_mem14/Ch11/HTML/Sec1/ch11sec1_Vars.htm) ${\\hspace 3mm}\\{x_{1},\\ldots,x_{n}\\}{\\hspace 3mm}$.\n",
    "\n",
    "Therefore, the main idea of this algorithm is that the elements of $B$ and $N$ are inter-changed to each other until the definitions above with the iterated $B$ and $N$ formulate the optimal solution. Hence, we can write our own function to solve feasible linear programming problems:  "
   ]
  },
  {
   "cell_type": "code",
   "execution_count": null,
   "metadata": {
    "collapsed": false,
    "deletable": true,
    "editable": true
   },
   "outputs": [],
   "source": [
    "def lp(c,A,b,max_iter=10000):\n",
    "    \"\"\"Takes:\n",
    "    \n",
    "    A = a list of length m (containing sublists of length n);\n",
    "    b = a list of length m; \n",
    "    c = a list of length n;\n",
    "    max_iter = maximum number of iterations, optional; \n",
    "    \n",
    "    Returns the maximum value of the objective function and the optimal solution it can be attained at\"\"\"\n",
    "    m         = len(b)\n",
    "    n         = len(c)\n",
    "    b         = np.array(b)\n",
    "    A         = np.array(A)\n",
    "    I         = np.identity(m)\n",
    "    slacks    = np.zeros(m)\n",
    "    decisions = np.array(c)\n",
    "    \n",
    "    # This is the augmented matrix A and the augmented vector c\n",
    "    A_augment = np.concatenate((A,I),axis=1) \n",
    "    c_augment = np.concatenate((decisions,slacks),axis=0)\n",
    "    \n",
    "    \n",
    "    # Initial Dictionary with c_B having slack variables in the basis, and c_N having the decision variables\n",
    "    A_B     = A_augment[:,-m:]\n",
    "    A_B_inv = np.linalg.inv(A_B)\n",
    "    A_N     = A_augment[:,0:-m:]\n",
    "    c_B     = c_augment[-m:].reshape(1,m)       # reshape because in the formula above c_B is transposed\n",
    "    c_N     = c_augment[0:-m:].reshape(1,n)     # reshape because in the formula above c_N is transposed\n",
    "    \n",
    "    # To serve as condition for the while loop\n",
    "    enter = c_N - (c_B @ A_B_inv @ A_N)\n",
    "    \n",
    "    # This is a list to keep count on the number of iterations\n",
    "    p = []\n",
    "    iterations = len(p)\n",
    "    \n",
    "    # This is to to be able to compute the optimal solutions given the input L.P. problem is already optimized\n",
    "    # Descriptions of what the following means are further down below\n",
    "    j   = np.argmax(enter)\n",
    "    A_j = A_augment[:,j].reshape(m,1)\n",
    "    d   = A_B_inv @ A_j\n",
    "    \n",
    "    # L.P. Problem is not optimized, hence, iterate inside while loop\n",
    "    while np.any(enter > 0):     # if enter <= 0 then optimal solution is found\n",
    "        if np.any(b < 0):\n",
    "            return \"L.P. Problem is INFEASIBLE\"\n",
    "        else:\n",
    "            # To enter the pivot iteration (while loop)\n",
    "            enter = c_N - (c_B @ A_B_inv @ A_N)\n",
    "            enter = enter.reshape(n)                            # reshape to be able to perform operations to it\n",
    "            \n",
    "            # To determine the entering variable                    \n",
    "            j   = np.argmax(enter)                              # j is the index of the entering variable\n",
    "            c_j = c_N[:,j]\n",
    "            A_j = A_augment[:,j].reshape(m,1)                   # this is the entering column (variable) to A_B\n",
    "            \n",
    "            # To determine the exiting variable\n",
    "            x_B = (A_B_inv @ b).reshape(m,1)\n",
    "            d   = A_B_inv @ A_j\n",
    "            if np.all(d <= 0):\n",
    "                return \"L.P. Problem is UNBOUNDED\"\n",
    "            else:\n",
    "                t_list = []\n",
    "                # t is the multiple of the coefficients in x_j\n",
    "                for t in np.linspace(0,np.amax(x_B),1000):      # range is [0,max{x_B}] since {x_B - td >= 0}      \n",
    "                    if np.all(x_B - (t*d) >= 0):\n",
    "                        t_list.append(t)                      \n",
    "                # This is to satisfy the condition max{t >= 0: x_b - t*A_B_inv*A_N} >= 0}\n",
    "                t     = np.amax(np.array(t_list))\n",
    "                i     = np.argmin(x_B - (t*d))              # i is the index of the exiting variable\n",
    "                A_i   = A_B[:,i]                            # this is the exiting column (variable) from A_B\n",
    "                c_i   = c_B[:,i]                            # this is the exiting column (variable) from c_B\n",
    "                \n",
    "                # To avoid modifying the A_augment matrix outside the while loop\n",
    "                A_N = np.copy(A_N)\n",
    "                A_B = np.copy(A_B)\n",
    "                c_B = np.copy(c_B)\n",
    "                c_N = np.copy(c_N)\n",
    "                \n",
    "                # To define the new set of dictionary\n",
    "                A_N[:,j] = A_i\n",
    "                A_B[:,i] = A_j.reshape(m)\n",
    "                c_N[:,j] = c_i\n",
    "                c_B[:,i] = c_j\n",
    "                \n",
    "                # To control the definitions we modified just above this section\n",
    "                A_B = A_B[:]\n",
    "                A_N = A_N[:]\n",
    "                c_B = c_B[:]\n",
    "                c_N = c_N[:]\n",
    "                A_B_inv  = np.linalg.inv(A_B)\n",
    "            \n",
    "                # To test whether to exit or continue the iteration (while loop)\n",
    "                enter = c_N - (c_B @ A_B_inv @ A_N)\n",
    "                \n",
    "                # To keep count on the number of iterations done\n",
    "                p.append(1)\n",
    "                iterations = len(p)\n",
    "                if iterations > max_iter:\n",
    "                    x_B = A_B_inv @ b\n",
    "                    z = c_B @ A_B_inv @ b\n",
    "                    return \"Warning: Maximum number of iterations exceeded.\",\"Maximum value = \" + str(tuple(z)), \"attained at\" + str(tuple(x_B)) + \" in the current iteration\"     \n",
    "    # Handles multiple optimal solutions up to 1 free variable only \n",
    "    if np.any(enter == 0):\n",
    "        # The optimal solution(s)\n",
    "        x_B = A_B_inv @ b\n",
    "        z = c_B @ A_B_inv @ b\n",
    "        \n",
    "        # This code cannot handle more than 1 free variable\n",
    "        if np.array(np.where(enter == 0))[0].size > 1:\n",
    "            return \"Warning: Optimal solution has more than 1 free variable. This code is not designed for multiple optimal solutions with 2 or more free variables. It may cause errors in the future.\"\n",
    "        \n",
    "        # This is a very special case where there is still a unique optimal solution despite a free variable\n",
    "        elif np.any(x_B == 0) and d[int(np.array(np.where(x_B == 0))[-1])] > 0:\n",
    "            return \"Maximum value = \" + str(tuple(z)), \"attained at\" + str(tuple(x_B))\n",
    "        \n",
    "        # Otherwise, it has multiple optimal solutions\n",
    "        else:\n",
    "            # To display x_B with the free variable 't'\n",
    "            the_list = []\n",
    "            for ii,jj in enumerate(x_B):\n",
    "                for iii,jjj in enumerate(d):\n",
    "                    if ii == iii:\n",
    "                        the_list.append(str(jj) + \" + \" + str(int(jjj)) + \"t\")           \n",
    "            return \"Maximum value = \" + str(tuple(z)), \"attained at\" + str(the_list) + \"  for 0 ≤ t ≤ \" + str(t)\n",
    "    # A unique optimal solution is found\n",
    "    else:\n",
    "        # The optimal solution\n",
    "        x_B = A_B_inv @ b\n",
    "        z = c_B @ A_B_inv @ b\n",
    "        return \"Maximum value = \" + str(tuple(z)), \"attained at\" + str(tuple(x_B))"
   ]
  },
  {
   "cell_type": "markdown",
   "metadata": {
    "deletable": true,
    "editable": true
   },
   "source": [
    "### `scipy.optimize.linprog`\n",
    "\n",
    "The function `linprog` **minimizes** a linear objective function ${\\hspace 2mm}z \\leq \\bar{c}^{\\intercal}{\\hspace 0mm}x{\\hspace 2mm}$subject to both linear equality and inequality constraints ${\\hspace 2mm}\\boldsymbol{A}{\\hspace 0.5mm}x \\leq \\bar{\\boldsymbol{b}}{\\hspace 2mm}$. It takes at least an array-like input `c` which represents the coefficients of the linear objective function $z$. This parameter is the only *required* input of `linprog` since an L.P. problem can have an objective function with no constraints at all. The array-like inputs are of types such as list or array.  \n",
    "\n",
    "However, there a few important optional inputs that `linprog` can take. It notably distinguishes a linear constraint with equality $\\{{\\hspace 0.25mm}={\\hspace 0.25mm}\\}$ or inequality $\\{{\\hspace 0.25mm}\\leq{\\hspace 0.25mm},{\\hspace 0.25mm}\\geq{\\hspace 0.25mm}\\}$. The inputs `A_ub` and `b_ub` take elements of the matrix $A$ and vector $b$ correspondingly to the rows of **inequality**${\\hspace 2mm}\\boldsymbol{A}{\\hspace 0.5mm}x \\leq \\bar{\\boldsymbol{b}}{\\hspace 2mm}$. Meanwhile, the inputs `A_eq` and `b_eq` take elements of the matrix $A$ and vector $b$ correspondingly to the rows of **equality**${\\hspace 2mm}\\boldsymbol{A}{\\hspace 0.5mm}x = \\bar{\\boldsymbol{b}}{\\hspace 2mm}$. Hence, the linear programming problem do not necessarily have to be in standard form for `linprog` to solve it. However, it is highly important to note that `linprog` only accepts the above optional inputs if the lengths of `b_ub` and `b_eq` are equal to the rows of `A_ub` and `A_eq` and the columns of `A_ub` and `A_eq` are equal to the length of `c` respectively. Otherwise, it will give an `error` message. For references of this row and column parity, go back to the L.P. model that has been defined above.\n",
    "\n",
    "Another important optional input `linprog` can take is `bounds`. It is the pair `(min,max)` that defines the range of values that each element in $x$ can be defined. By default, `bounds` are `(0,None)` - i.e. the positivity constraint $\\forall{x}\\geq{0}$. Meanwhile, the rest of the optional inputs are trivial to the end process of reaching optimality, but more information is provided in the function's [documentation](https://docs.scipy.org/doc/scipy/reference/generated/scipy.optimize.linprog.html): `scipy.optimize.linprog?`\n",
    "\n",
    "Lastly, the output of the `linprog` function returns 7 specific entries:\n",
    "* $fun$ ${\\hspace 10mm}$$\\rightarrow$ the value of the objective function\n",
    "* $message$${\\hspace 2.5mm}$$\\rightarrow$ the text information about the status of the optimization respective of the `integer` of $status$ described below\n",
    "* $nit$ ${\\hspace 11.775mm}$$\\rightarrow$ the number of iterations performed \n",
    "* $slack$${\\hspace 8.35mm}$$\\rightarrow$ the values of the slack variables at optimality \n",
    "* $status$${\\hspace 7.1mm}$$\\rightarrow$ an integer from the list `[ 0, 1, 2, 3 ]`; please see [documentation](https://docs.scipy.org/doc/scipy/reference/generated/scipy.optimize.linprog.html) to go in full details as to what they represent\n",
    "* $success$${\\hspace 4.55mm}$$\\rightarrow$ True/False whether optimality was reached\n",
    "* $x$${\\hspace 16mm}$$\\rightarrow$ the optimal solution"
   ]
  },
  {
   "cell_type": "markdown",
   "metadata": {
    "deletable": true,
    "editable": true
   },
   "source": [
    "## 2. The Standard Maximum (Minimum) Problem\n",
    "\n",
    "Let us solve the following simple linear programming problem:\n",
    "$$\n",
    "Max{\\hspace 5mm} 5x_{1} + 6x_{2} + 9x_{3} + 8x_{4} \\\\\n",
    "\\text{subject to}\n",
    "\\begin{cases}\n",
    "x_{1} + 2x_{2} + 3x_{3} + x_{4} \\leq 5\\\\\n",
    "x_{1} + x_{2} + 2x_{3} + 3x_{4} \\leq 3\\\\\n",
    "\\hline\n",
    "x_{1},x_{2},x_{3},x_{4} \\geq 0\n",
    "\\end{cases}\n",
    "$$\n",
    "\n",
    "Firstly, we define the only requirement of `scipy.optimize.linprog` function `c`. In this case, $c = [5,6,9,8]$."
   ]
  },
  {
   "cell_type": "code",
   "execution_count": null,
   "metadata": {
    "collapsed": true,
    "deletable": true,
    "editable": true
   },
   "outputs": [],
   "source": [
    "c = [5,6,9,8]"
   ]
  },
  {
   "cell_type": "markdown",
   "metadata": {
    "deletable": true,
    "editable": true
   },
   "source": [
    "To make a point of a prior claim, we can try and solve the L.P. problem with only the `c` input having no linear constraints with the `scipy.optimize.linprog` function:"
   ]
  },
  {
   "cell_type": "code",
   "execution_count": null,
   "metadata": {
    "collapsed": false,
    "deletable": true,
    "editable": true
   },
   "outputs": [],
   "source": [
    "linprog(c)"
   ]
  },
  {
   "cell_type": "markdown",
   "metadata": {
    "deletable": true,
    "editable": true
   },
   "source": [
    "As you can see, the L.P. problem terminates successfully, but finds a trivial optimal solution which really means nothing other than a null set of solutions.\n",
    "\n",
    "Moving on, we define the constraints: matrix A as a `list` with each element as sublists representing the **rows**, while the items inside the `sublists` representing the **columns** of the matrix $A$:\n",
    "$$\n",
    "\\boldsymbol{A} = \n",
    "\\begin{bmatrix}\n",
    "1 & 2 & 3 & 1 \\\\\n",
    "1 & 1 & 2 & 3 \n",
    "\\end{bmatrix}\n",
    "$$"
   ]
  },
  {
   "cell_type": "code",
   "execution_count": null,
   "metadata": {
    "collapsed": true,
    "deletable": true,
    "editable": true
   },
   "outputs": [],
   "source": [
    "A = [[1,2,3,1],[1,1,2,3]]"
   ]
  },
  {
   "cell_type": "markdown",
   "metadata": {
    "deletable": true,
    "editable": true
   },
   "source": [
    "Then, we define the upper limits of our linear **inequality** constraints: ${\\hspace 20mm}\\boldsymbol{A}{\\hspace 0.5mm}x \\leq \\bar{\\boldsymbol{b}}{\\hspace 2mm}$"
   ]
  },
  {
   "cell_type": "code",
   "execution_count": null,
   "metadata": {
    "collapsed": false,
    "deletable": true,
    "editable": true
   },
   "outputs": [],
   "source": [
    "b = [5,3]"
   ]
  },
  {
   "cell_type": "markdown",
   "metadata": {
    "deletable": true,
    "editable": true
   },
   "source": [
    "Since we do not have any linear **equality** constraints and our `bounds` are of the default values, we will now continue in actually solving the L.P. problem with the function:"
   ]
  },
  {
   "cell_type": "code",
   "execution_count": null,
   "metadata": {
    "collapsed": false,
    "deletable": true,
    "editable": true
   },
   "outputs": [],
   "source": [
    "linprog(c, A_ub=A, b_ub=b) "
   ]
  },
  {
   "cell_type": "markdown",
   "metadata": {
    "deletable": true,
    "editable": true
   },
   "source": [
    "Woops! That does not seem correct... How can we tell that the returned output is not correct? Well, our linear programming problem is a maximization and, therefore, we should be expecting the value of the objective function $z$ to be increasing as explained graphically in the *video* below. If it is not increasing then either the L.P. problem is **degenerate** - in which the objective function $z$ does not increase; or an `error` has been made somewhere. Hence, I claim that an error has been made."
   ]
  },
  {
   "cell_type": "code",
   "execution_count": null,
   "metadata": {
    "collapsed": false,
    "deletable": true,
    "editable": true
   },
   "outputs": [],
   "source": [
    "from IPython.display import YouTubeVideo\n",
    "from datetime import timedelta\n",
    "\n",
    "start=int(timedelta(minutes=4, seconds=58).total_seconds())\n",
    "end=int(timedelta(minutes=5, seconds=44).total_seconds())\n",
    "\n",
    "YouTubeVideo(\"87OKtTpSRB8\", start=start, end=end, autoplay=1, theme=\"light\", color=\"blue\")"
   ]
  },
  {
   "cell_type": "markdown",
   "metadata": {
    "deletable": true,
    "editable": true
   },
   "source": [
    "Also, we have to remember that `scipy.optimize.linprog` is a minimization function and the problem we have stated above is a maximization problem. Therefore, we have to convert it to a minimization problem for us to make use of the `linprog` function! It is very easy to do:\n",
    "\n",
    "$$\n",
    "\\begin{matrix}\n",
    "Max \\qquad \\quad 5x_{1} + 6x_{2} + 9x_{3} + 8x_{4} \\\\\n",
    "\\text{subject to}\n",
    "\\begin{cases}\n",
    "x_{1} + 2x_{2} + 3x_{3} + x_{4} \\leq 5\\\\\n",
    "x_{1} + x_{2} + 2x_{3} + 3x_{4} \\leq 3\\\\\n",
    "\\hline\n",
    "x_{1},x_{2},x_{3},x_{4} \\geq 0\n",
    "\\end{cases}\n",
    "\\end{matrix}\n",
    "\\qquad\n",
    "\\begin{matrix}\n",
    "{\\rightarrow} & {\\rightarrow}\\\\ {\\rightarrow} & {\\rightarrow}\\\\ {\\rightarrow} & {\\rightarrow}\n",
    "\\end{matrix}\n",
    "\\qquad\n",
    "\\begin{matrix}\n",
    "Min \\qquad -5x_{1} - 6x_{2} - 9x_{3} - 8x_{4} \\\\\n",
    "\\text{subject to}\n",
    "\\begin{cases}\n",
    "x_{1} + 2x_{2} + 3x_{3} + x_{4} \\leq 5\\\\\n",
    "x_{1} + x_{2} + 2x_{3} + 3x_{4} \\leq 3\\\\\n",
    "\\hline\n",
    "x_{1},x_{2},x_{3},x_{4} \\geq 0\n",
    "\\end{cases}\n",
    "\\end{matrix}\n",
    "$$\n",
    "\n",
    "In addition, the `linprog` function can take the `A_ub` and `b_ub` input parameters, which signify the \"upper bounds\". Therefore, the  L.P. problem does not necessarily have to be in the standard form of minimization where lower bounds exist. Hence, the matrix $A$ and vector $b$ remain unchanged, while modifying the only difference of $-c$. So let us define this `c_min` vector."
   ]
  },
  {
   "cell_type": "code",
   "execution_count": null,
   "metadata": {
    "collapsed": true,
    "deletable": true,
    "editable": true
   },
   "outputs": [],
   "source": [
    "c_min = [-5,-6,-9,-8]"
   ]
  },
  {
   "cell_type": "markdown",
   "metadata": {
    "deletable": true,
    "editable": true
   },
   "source": [
    "Now we can hopefully solve the L.P. problem stated above with the `scipy.optimize.linprog` function:"
   ]
  },
  {
   "cell_type": "code",
   "execution_count": null,
   "metadata": {
    "collapsed": false,
    "deletable": true,
    "editable": true
   },
   "outputs": [],
   "source": [
    "linprog(c_min, A_ub=A, b_ub=b) "
   ]
  },
  {
   "cell_type": "markdown",
   "metadata": {
    "deletable": true,
    "editable": true
   },
   "source": [
    "Hurray! Therefore, we can conclude that the error we had before was in our $c$, the coefficients of the objective function.\n",
    "\n",
    "Furthermore, in our minimization we get $z = -17$, however, the L.P. problem above is asking us to maximize the objective function $z$. Hence, we can convert it back to the maximizing problem to address the main task of the problem and we get $z = 17$ attained at $[1,2,0,0]$.\n",
    "\n",
    "Finally, let us confirm it with our very own function `lp` we defined above:"
   ]
  },
  {
   "cell_type": "code",
   "execution_count": null,
   "metadata": {
    "collapsed": false,
    "deletable": true,
    "editable": true
   },
   "outputs": [],
   "source": [
    "lp(c,A,b)"
   ]
  },
  {
   "cell_type": "markdown",
   "metadata": {
    "deletable": true,
    "editable": true
   },
   "source": [
    "Both results are exactly the same. The `scipy.optimize.linprog` function approaches the $z$ value by **minimizing** from above, hence, the negative value. Meanwhile our very own function `lp` approaches the $z$ value by **maximizing** from the bottom, alas, the positive value.\n",
    "\n",
    "However, sometimes an L.P. problem do not have a unique optimal solution. It can have multiple optimal solution as shown by a prior graph. Here is a good example of this case:\n",
    "$$\n",
    "\\mkern-65mu\n",
    "Maximize \\quad 3x_{1} \\quad + \\quad 2x_{2} \\\\\n",
    "\\begin{align}\n",
    "\\text{subject to}\n",
    "\\begin{cases}\n",
    "{\\hspace 2mm}x_{1} & &\\leq 40\\\\\n",
    "& \\qquad x_{2} &\\leq 60\\\\\n",
    "3x_{1} &+  \\quad 2x_{2}  &\\leq 180\\\\\n",
    "\\hline\n",
    "& \\quad x_{1},x_{2} &\\geq 0\n",
    "\\end{cases}\n",
    "\\end{align}\n",
    "$$"
   ]
  },
  {
   "cell_type": "code",
   "execution_count": null,
   "metadata": {
    "collapsed": true,
    "deletable": true,
    "editable": true
   },
   "outputs": [],
   "source": [
    "A1 = [[1,0],[0,1],[3,2]]\n",
    "c1 = [3,2]\n",
    "b1 = [40,60,180]"
   ]
  },
  {
   "cell_type": "markdown",
   "metadata": {
    "deletable": true,
    "editable": true
   },
   "source": [
    "We have defined the necessary inputs for the function `linprog`, so let us try and solve it."
   ]
  },
  {
   "cell_type": "code",
   "execution_count": null,
   "metadata": {
    "collapsed": false,
    "deletable": true,
    "editable": true
   },
   "outputs": [],
   "source": [
    "linprog(c1,A_ub=A1,b_ub=b1)"
   ]
  },
  {
   "cell_type": "markdown",
   "metadata": {
    "deletable": true,
    "editable": true
   },
   "source": [
    "Woops! We forgot that `linprog` is a minimization function, once again! Therefore, we have to change it to a minimization problem with upper bounds."
   ]
  },
  {
   "cell_type": "code",
   "execution_count": null,
   "metadata": {
    "collapsed": true,
    "deletable": true,
    "editable": true
   },
   "outputs": [],
   "source": [
    "c1_min = [-3,-2]"
   ]
  },
  {
   "cell_type": "code",
   "execution_count": null,
   "metadata": {
    "collapsed": false,
    "deletable": true,
    "editable": true
   },
   "outputs": [],
   "source": [
    "linprog(c1_min,A_ub=A1,b_ub=b1)"
   ]
  },
  {
   "cell_type": "markdown",
   "metadata": {
    "deletable": true,
    "editable": true
   },
   "source": [
    "That seems about right since our $z = 180$ and, therefore, objective function is increasing if maximized. For further assurance, let us confirm it with our very own function."
   ]
  },
  {
   "cell_type": "code",
   "execution_count": null,
   "metadata": {
    "collapsed": false,
    "deletable": true,
    "editable": true
   },
   "outputs": [],
   "source": [
    "lp(c1,A1,b1)"
   ]
  },
  {
   "cell_type": "markdown",
   "metadata": {
    "deletable": true,
    "editable": true
   },
   "source": [
    "Perfect! They are almost identical and as you can see our very own defined function `lp` is even more specific about the optimality as it tells you that there are more than one optimal solution since `t` can vary within a bounded region.\n",
    "\n",
    "Now that we are at the end of this notebook you should be able to solve feasible linear programming problems with the `scipy.optimize.linprog` function with no trouble at all. Evidently, we have gone through a very common error in using this function - that is forgetting to convert it to a minimization problem with upper bounds or equality constraints and, most importantly, $-c$. \n",
    "\n",
    "On a side note, even though this notebook did not cover any *infeasible* linear programming problems, those types of L.P. problems are quite easily solved with the `linprog` function when a [special pivot to feasibility](http://lpsolve.sourceforge.net/5.5/Infeasible.htm) has been performed to it. If interested, you can watch the video below at full length for a thorough demonstration in doing so. Please take note that the concept in the video is explained in [tableau form](https://www.utdallas.edu/~scniu/OPRE-6201/documents/LP06-Simplex-Tableau.pdf), which is an alternative to a [dictionary form](http://cis.poly.edu/POG/canon.pdf) - that of the latter is the format of the algorithm in this notebook. However, they have the same information and the techniques used to find optimality are of no differences."
   ]
  },
  {
   "cell_type": "code",
   "execution_count": null,
   "metadata": {
    "collapsed": false,
    "deletable": true,
    "editable": true
   },
   "outputs": [],
   "source": [
    "from IPython.display import YouTubeVideo\n",
    "from datetime import timedelta\n",
    "\n",
    "end=int(timedelta(minutes=11, seconds=9).total_seconds())\n",
    "\n",
    "YouTubeVideo(\"jFWL3d6x5lA\", end=end, autoplay=1, theme=\"light\", color=\"blue\")"
   ]
  },
  {
   "cell_type": "markdown",
   "metadata": {
    "deletable": true,
    "editable": true
   },
   "source": [
    "If you watched the video until it automatically stops, it should have brought you to a point where an **infeasible** L.P. problem has been converted to a **feasible** L.P. problem. Thus, the `scipy.optimize.linprog` function can be used to solve it from that point on. Now try and define the matrix $A$, the coefficient vector $c$, and the upper bounds $b$ from the tableau for yourself and compare what you get with the solution in the video!"
   ]
  },
  {
   "cell_type": "markdown",
   "metadata": {
    "deletable": true,
    "editable": true
   },
   "source": [
    "If you got that easily, good for you! Have a try and do more challenging exercises below which should complement to your understanding of the function `scipy.optimize.linprog`:"
   ]
  },
  {
   "cell_type": "markdown",
   "metadata": {
    "deletable": true,
    "editable": true
   },
   "source": [
    "## 3. Exercises"
   ]
  },
  {
   "cell_type": "markdown",
   "metadata": {
    "deletable": true,
    "editable": true
   },
   "source": [
    "**Exercise 3.1** \n",
    "\n",
    "(a) Define the matrix $A$, the coefficient vector $c$, and the upper bounds vector $b$ as lists in the following L.P. problem: \n",
    "\n",
    "(b) Find the optimal solution(s) of the problem using the `linprog` function and determine what the *maximum* and * minimum* values are that the objective function can attain.\n",
    "\n",
    "$$\n",
    "{\\hspace -15mm}Maximize{\\hspace 5mm} 3x_{1} + 2x_{2} \\\\\n",
    "\\text{subject to}\n",
    "\\begin{align}\n",
    "\\begin{cases}\n",
    "x_{1} - 2x_{2} &\\leq 1\\\\\n",
    "x_{1} - x_{2} &\\leq 2\\\\\n",
    "2x_{1} - x_{2} &\\leq 6\\\\\n",
    "x_{1}  &\\leq 5\\\\\n",
    "2x_{1} + x_{2} &\\leq 16\\\\\n",
    "x_{1} + x_{2} &\\leq 12\\\\\n",
    "x_{1} + 2x_{2} &\\leq 21\\\\\n",
    "\\qquad x_{2} &\\leq 10\\\\\n",
    "\\hline\n",
    "\\quad x_{1},x_{2} &\\geq 0\n",
    "\\end{cases}\n",
    "\\end{align}\n",
    "$$"
   ]
  },
  {
   "cell_type": "markdown",
   "metadata": {
    "deletable": true,
    "editable": true
   },
   "source": [
    "**Exercise 3.2** \n",
    "\n",
    "(a) Convert the following L.P. problem to the standard form.\n",
    "\n",
    "(b) Define the matrix $A$, the coefficient vector $c$, and the upper bounds vector $b$\n",
    "\n",
    "(c) Find the optimal solution(s) that can attain the *maximum* value of the objective function using `linprog`.\n",
    "\n",
    "$$\n",
    "\\mkern-150mu\n",
    "Minimize \\quad \\qquad 5 + x_{1} + 2x_{2} + 3x_{3} + 4x_{4} \\\\\n",
    "\\begin{align}\n",
    "\\text{subject to}\n",
    "\\begin{cases}\n",
    "\\mkern-70mu \\qquad \\qquad \\qquad 4x_{1} &+ \\quad 3x_{2} &+ \\quad 2x_{3} &+ \\quad x_{4} &\\leq 10\\\\\n",
    "\\mkern-70mu \\qquad \\qquad \\qquad x_{1}  &         &- \\quad x_{3} &+ \\quad 2x_{4} &= 2\\\\\n",
    "\\mkern-70mu \\qquad \\qquad \\qquad x_{1} &+ \\quad x_{2} &+ \\quad x_{3} &+ \\quad x_{4} &\\geq 1\\\\\n",
    "\\hline\n",
    "&&&x_{1},x_{2},x_{3},x_{4} &\\geq 0\n",
    "\\end{cases}\n",
    "\\end{align}\n",
    "$$\n",
    "\n",
    "* $\\underline{\\text{Hint}}$: `linprog(A_eq,b_eq)`"
   ]
  },
  {
   "cell_type": "markdown",
   "metadata": {
    "deletable": true,
    "editable": true
   },
   "source": [
    "**Exercise 3.3**\n",
    "\n",
    "A small company manufactures two electronic components, plastic cases for USB drives with two ports and cases with one port. Each two-port case takes `2` hours to assemble, whereas a one port case requires `1` hour. There are a maximum of `50` hours of labor dedicated for the day. The cost of materials for two-port case is `$1`; the material for a one-port case costs `$2`. Production only allows a maximum of `$70` per day. Each two-case port earns a proﬁt of `$4` and each one-port case `$5`.\n",
    "\n",
    "(a) Set up the linear programming model to the above problem. Define the matrix $A$, the coefficient vector $c$, and the upper bounds vector $b$.\n",
    "\n",
    "(b) Find the number of two-port cases and one-port cases produced that will maximize the proﬁt using the `linprog` function."
   ]
  }
 ],
 "metadata": {
  "kernelspec": {
   "display_name": "Python 3",
   "language": "python",
   "name": "python3"
  },
  "language_info": {
   "codemirror_mode": {
    "name": "ipython",
    "version": 3
   },
   "file_extension": ".py",
   "mimetype": "text/x-python",
   "name": "python",
   "nbconvert_exporter": "python",
   "pygments_lexer": "ipython3",
   "version": "3.5.2"
  }
 },
 "nbformat": 4,
 "nbformat_minor": 2
}
