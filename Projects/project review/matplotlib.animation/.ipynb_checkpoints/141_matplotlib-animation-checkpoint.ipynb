{
 "cells": [
  {
   "cell_type": "markdown",
   "metadata": {
    "deletable": true,
    "editable": true
   },
   "source": [
    "# MATH 210 Project\n",
    "\n",
    "## Animating graphs with Matplotlib using `matplotlib.animation.FuncAnimation`\n"
   ]
  },
  {
   "cell_type": "markdown",
   "metadata": {
    "deletable": true,
    "editable": true
   },
   "source": [
    "Matplotlib is a very useful and an important package that allows people to plot graphs and figures. Using this package, one is able to generate many different graphs like histograms, power spectra, bar charts, errorcharts, scatterplots etc., easily in coding programs like Jupyter. `Matplotlib.animation` is a subpackage within Matplolib that allows people to turn their coded graphs and figures into an animation.\n",
    "(see the [documentation](http://matplotlib.org/api/animation_api.html)):\n",
    "\n",
    "Some examples where `matplotlib.animation` would be used:\n",
    "1. *Animated decays or waves using sine and cosine*\n",
    "2. *Pendulums*\n",
    "3. *Floating Scatter plots*  \n",
    "\n",
    "**Our Goal** on how to approach this subpackage, is to know that the **two subpackages** to make animated graphs **easiest**:\n",
    "\n",
    "- `matplotlib.animation.FuncAnimation` (see the [documention](http://matplotlib.org/api/_as_gen/matplotlib.animation.FuncAnimation.html#matplotlib.animation.FuncAnimation))\n",
    "\n",
    "- `matplotlib.animation.ArtistAnimation` (see the [documention](http://matplotlib.org/api/_as_gen/matplotlib.animation.ArtistAnimation.html#matplotlib.animation.ArtistAnimation))\n",
    "\n",
    "Both subpackages are useful, but only the first one, `matplotlib.animation.FuncAnimation` will be discussed in detail.\n",
    "\n",
    "This package is basically taking graphs that can be plotted through `matplotlib` and bringing it one step further, and present in an animated form. It challenges your understanding of using `matplotlib` to produce simple 2D and 3D graphs, because the technique used is needed in `matplotlib.animation`.\n"
   ]
  },
  {
   "cell_type": "markdown",
   "metadata": {
    "deletable": true,
    "editable": true
   },
   "source": [
    "## Contents\n",
    "\n",
    "1. FuncAnimation\n",
    "    - Animated Spiral Graph\n",
    "        - Inital Function\n",
    "        - Main Function\n",
    "        - Displaying Animation\n",
    "        - Saving Animated Graph\n",
    "2. Exercises"
   ]
  },
  {
   "cell_type": "code",
   "execution_count": null,
   "metadata": {
    "collapsed": false,
    "deletable": true,
    "editable": true
   },
   "outputs": [],
   "source": [
    "import numpy as np\n",
    "import matplotlib.pyplot as plt\n",
    "from matplotlib import animation \n",
    "%matplotlib inline"
   ]
  },
  {
   "cell_type": "markdown",
   "metadata": {
    "deletable": true,
    "editable": true
   },
   "source": [
    "## 1. FuncAnimation"
   ]
  },
  {
   "cell_type": "markdown",
   "metadata": {
    "deletable": true,
    "editable": true
   },
   "source": [
    "First steps into creating a proper code for this package is to se up the graph. Elements like the figure, the axies, and plot is what we want to write out first. \n",
    "\n",
    "`fig` is printing the figure, `ax` is setting the parameters of your graph, and `line,` is how the line is plotted, including all the many formats like colors and style the line can be in.\n",
    "\n",
    "A simple example of this set-up:"
   ]
  },
  {
   "cell_type": "code",
   "execution_count": null,
   "metadata": {
    "collapsed": false,
    "deletable": true,
    "editable": true
   },
   "outputs": [],
   "source": [
    "fig = plt.figure()\n",
    "ax = plt.axes(xlim=(-2, 2), ylim=(-2, 2))\n",
    "line, = ax.plot([], [], lw=2)"
   ]
  },
  {
   "cell_type": "markdown",
   "metadata": {
    "deletable": true,
    "editable": true
   },
   "source": [
    "### Animated Spiral Graph: Initial function "
   ]
  },
  {
   "cell_type": "markdown",
   "metadata": {
    "deletable": true,
    "editable": true
   },
   "source": [
    "Depending on how complicated the question is, for basic graphs there are two functions that are defined. An example we can look at as our base case is making an animated spiral graph:"
   ]
  },
  {
   "cell_type": "markdown",
   "metadata": {
    "deletable": true,
    "editable": true
   },
   "source": [
    "$$ \n",
    "x = t \\cos(10(t)-0.001))\n",
    "$$\n",
    "\n",
    "$$\n",
    "y = t \\sin(10(t-0.001))\n",
    "$$\n",
    "\n",
    "$$\n",
    "t \\in [0,2\\pi]\n",
    "$$\n",
    "\n",
    "Below is a simple 2D graph that displays the function using `matplotlib`:"
   ]
  },
  {
   "cell_type": "code",
   "execution_count": null,
   "metadata": {
    "collapsed": false,
    "deletable": true,
    "editable": true
   },
   "outputs": [],
   "source": [
    "t = np.linspace(0,2*np.pi,1000)\n",
    "x = t * np.cos(10*(t-0.001))\n",
    "y = t * np.sin(10*(t-0.001))\n",
    "plt.plot(x,y), plt.axis('equal'), plt.xlim([-2,2]), plt.ylim([-2,2]);"
   ]
  },
  {
   "cell_type": "markdown",
   "metadata": {
    "deletable": true,
    "editable": true
   },
   "source": [
    "All animated graphs require a base frame upon which the animation takes place. For this example, We will call the function `init()`\n",
    "\n",
    "An important thing to keep in mind is that this `init()` function always needs to return `line,` in other for the code to refer back and know what is updated after each frame."
   ]
  },
  {
   "cell_type": "code",
   "execution_count": null,
   "metadata": {
    "collapsed": true,
    "deletable": true,
    "editable": true
   },
   "outputs": [],
   "source": [
    "#intial function for the base frame\n",
    "def init():\n",
    "    line.set_data([], [])\n",
    "    return line,"
   ]
  },
  {
   "cell_type": "markdown",
   "metadata": {
    "deletable": true,
    "editable": true
   },
   "source": [
    "### Animated Spiral Graph: Main Function "
   ]
  },
  {
   "cell_type": "markdown",
   "metadata": {
    "deletable": true,
    "editable": true
   },
   "source": [
    "The next part that is needed is simply the main function what you want to be plotted as an animation. In the example that we're using, it takes in one parameter `i`. The spiral consisting of cosine and sine waves will depend on the i for it to make its shift, therefore making it an animated graph. "
   ]
  },
  {
   "cell_type": "code",
   "execution_count": null,
   "metadata": {
    "collapsed": true,
    "deletable": true,
    "editable": true
   },
   "outputs": [],
   "source": [
    "def animate(i):\n",
    "    t = np.linspace(0,2*np.pi,1000)\n",
    "    x = t * np.cos(10*(t-0.001)*i)\n",
    "    y = t * np.sin(10*(t-0.001)*i)\n",
    "    line.set_data(x, y)\n",
    "    return line,"
   ]
  },
  {
   "cell_type": "markdown",
   "metadata": {
    "deletable": true,
    "editable": true
   },
   "source": [
    "### Animated Spiral Graph: Displaying Animation"
   ]
  },
  {
   "cell_type": "markdown",
   "metadata": {
    "deletable": true,
    "editable": true
   },
   "source": [
    "The code is almost complete, and what we need is to actually display the animated graph.\n",
    "\n",
    "All the elements in `animaiton.FuncAnimation` is needed. Starting with the figure, the animated function name, the init_func, again, which is the intial plot of the background of each frame, the frame which is set at 200, intervals of 20, and lastly, blit=True, which indicates to only re-draw the changed parts.\n",
    "\n",
    "Blit is essentially taking the current bit map and include the new changed frame within a period of time, displaying an animated graph."
   ]
  },
  {
   "cell_type": "code",
   "execution_count": null,
   "metadata": {
    "collapsed": false,
    "deletable": true,
    "editable": true
   },
   "outputs": [],
   "source": [
    "anim = animation.FuncAnimation(fig, animate, init_func=init, frames=200, interval=20, blit=True)"
   ]
  },
  {
   "cell_type": "markdown",
   "metadata": {
    "deletable": true,
    "editable": true
   },
   "source": [
    "Putting all the pieces of the puzzle together creates a succesful `matplotlib.animation` code:"
   ]
  },
  {
   "cell_type": "code",
   "execution_count": null,
   "metadata": {
    "collapsed": false,
    "deletable": true,
    "editable": true
   },
   "outputs": [],
   "source": [
    "#set up the plot we want to animate in\n",
    "fig = plt.figure()\n",
    "ax = plt.axes(xlim=(-2, 2), ylim=(-2, 2))\n",
    "line, = ax.plot([], [], lw=2)\n",
    "\n",
    "# initial function for the background of each frame\n",
    "def init():\n",
    "    line.set_data([], [])\n",
    "    return line,\n",
    "\n",
    "# animation function\n",
    "def animate(i):\n",
    "    t = np.linspace(0,2*np.pi,1000)\n",
    "    x = t * np.cos(10*(t-0.001)*i)\n",
    "    y = t * np.sin(10*(t-0.001)*i)\n",
    "    line.set_data(x, y)\n",
    "    return line,\n",
    "\n",
    "# call the animator.  blit=True means only re-draw the parts that have changed.\n",
    "anim = animation.FuncAnimation(fig, animate, init_func=init,\n",
    "           frames=200, interval=20, blit=True)\n",
    "\n",
    "#plt.show()\n",
    "anim.save('spiral_animation.mp4', fps=10)\n"
   ]
  },
  {
   "cell_type": "markdown",
   "metadata": {
    "deletable": true,
    "editable": true
   },
   "source": [
    "### Animated Spiral Graph: Saving Animated Graph"
   ]
  },
  {
   "cell_type": "markdown",
   "metadata": {
    "deletable": true,
    "editable": true
   },
   "source": [
    "Instead of using `plt.show()`, we would need to display the animated graph as a mp4 video that can be accessed in Jupyter. `anim.save` includes the file name which it is saved under, and `fps` is the speed of the graph."
   ]
  },
  {
   "cell_type": "markdown",
   "metadata": {
    "collapsed": true,
    "deletable": true,
    "editable": true
   },
   "source": [
    "(see [spiral_animation.mp4](https://ubc.syzygy.ca/jupyter/user/bonyolee/files/Projects/spiral_animation.mp4))"
   ]
  },
  {
   "cell_type": "markdown",
   "metadata": {
    "deletable": true,
    "editable": true
   },
   "source": [
    "Another thing to keep in mind is that depending on where you put your `i` in the animate fucntion, it will create a different animation: \n",
    "\n",
    "*Notice where the `i` is placed for each code for the following function*"
   ]
  },
  {
   "cell_type": "markdown",
   "metadata": {
    "deletable": true,
    "editable": true
   },
   "source": [
    "$$\n",
    "y = e^{-x^2/10} \\cos(5x)\n",
    "$$\n",
    "\n",
    "$$\n",
    "x \\in [-10,10]\n",
    "$$"
   ]
  },
  {
   "cell_type": "code",
   "execution_count": null,
   "metadata": {
    "collapsed": false,
    "deletable": true,
    "editable": true
   },
   "outputs": [],
   "source": [
    "#set up the plot we want to animate in\n",
    "fig = plt.figure()\n",
    "ax = plt.axes(xlim=(-2, 2), ylim=(-1.5, 1.5))\n",
    "line, = ax.plot([], [], lw=2)\n",
    "\n",
    "# initial function for the background of each frame\n",
    "def init():\n",
    "    line.set_data([], [])\n",
    "    return line,\n",
    "\n",
    "# animation function\n",
    "def animate(i):\n",
    "    x = np.arange(-10,10,0.01)\n",
    "    y = np.exp(-x**2 / 10) * np.cos(5*x * i)\n",
    "    line.set_data(x, y)\n",
    "    return line,\n",
    "\n",
    "# call the animator.  blit=True means only re-draw the parts that have changed.\n",
    "anim = animation.FuncAnimation(fig, animate, init_func=init,\n",
    "           frames=200, interval=20, blit=True)\n",
    "\n",
    "#plt.show()\n",
    "anim.save('decaying_cosine_wave.mp4', fps=10)\n"
   ]
  },
  {
   "cell_type": "markdown",
   "metadata": {
    "deletable": true,
    "editable": true
   },
   "source": [
    "(see [decaying_cosine_wave.mp4](https://ubc.syzygy.ca/jupyter/user/bonyolee/files/Projects/decaying_cosine_wave.mp4))"
   ]
  },
  {
   "cell_type": "code",
   "execution_count": null,
   "metadata": {
    "collapsed": false,
    "deletable": true,
    "editable": true
   },
   "outputs": [],
   "source": [
    "#set up the plot we want to animate in\n",
    "fig = plt.figure()\n",
    "ax = plt.axes(xlim=(-2, 2), ylim=(-1.5, 1.5))\n",
    "line, = ax.plot([], [], lw=2)\n",
    "\n",
    "# initial function for the background of each frame\n",
    "def init():\n",
    "    line.set_data([], [])\n",
    "    return line,\n",
    "\n",
    "# animation function\n",
    "def animate(i):\n",
    "    x = np.arange(-10,10,0.01)\n",
    "    y = np.exp(-x**2 * i / 10) * np.cos(5*x)\n",
    "    line.set_data(x, y)\n",
    "    return line,\n",
    "\n",
    "# call the animator.  blit=True means only re-draw the parts that have changed.\n",
    "anim = animation.FuncAnimation(fig, animate, init_func=init,\n",
    "           frames=200, interval=20, blit=True)\n",
    "\n",
    "#plt.show()\n",
    "anim.save('decaying_cosine_wave2.mp4', fps=10)"
   ]
  },
  {
   "cell_type": "markdown",
   "metadata": {
    "deletable": true,
    "editable": true
   },
   "source": [
    "(see [decaying_cosine_wave2.mp4](https://ubc.syzygy.ca/jupyter/user/bonyolee/files/Projects/decaying_cosine_wave2.mp4))"
   ]
  },
  {
   "cell_type": "markdown",
   "metadata": {
    "deletable": true,
    "editable": true
   },
   "source": [
    "An Intersting animated graph that we can achieve by putting two functions together:"
   ]
  },
  {
   "cell_type": "code",
   "execution_count": null,
   "metadata": {
    "collapsed": false,
    "deletable": true,
    "editable": true
   },
   "outputs": [],
   "source": [
    "#set up the plot we want to animate in\n",
    "fig = plt.figure()\n",
    "ax = plt.axes(xlim=(-3, 3), ylim=(-2, 2))\n",
    "line, = ax.plot(x, y, 'g')\n",
    "\n",
    "# initial function for the background of each frame\n",
    "def init():\n",
    "    line.set_data([], [])\n",
    "    return line,\n",
    "\n",
    "# animation function\n",
    "def animate(i):\n",
    "    t = np.linspace(0,4*np.pi,100)\n",
    "    y1 = np.sin(t*i)\n",
    "    y2 = np.cos(t*i)\n",
    "    line.set_data(y1, y2)\n",
    "    return line,\n",
    "\n",
    "# call the animator.  blit=True means only re-draw the parts that have changed.\n",
    "anim = animation.FuncAnimation(fig, animate, init_func=init,\n",
    "           frames=200, interval=20, blit=True)\n",
    "\n",
    "#plt.show()\n",
    "anim.save('two_graphs.mp4', fps=10)\n"
   ]
  },
  {
   "cell_type": "markdown",
   "metadata": {
    "deletable": true,
    "editable": true
   },
   "source": [
    "(see [two_graphs.mp4](https://ubc.syzygy.ca/jupyter/user/bonyolee/files/Projects/two_graphs.mp4))"
   ]
  },
  {
   "cell_type": "markdown",
   "metadata": {
    "deletable": true,
    "editable": true
   },
   "source": [
    "## Exercises"
   ]
  },
  {
   "cell_type": "markdown",
   "metadata": {
    "deletable": true,
    "editable": true
   },
   "source": [
    "**Exercise 1.** Plot the following graphs:\n",
    "a) $y = \\sin(x-0.01) + \\sin(4(x-0.01))$ for $x \\in [0,2\\pi]$"
   ]
  },
  {
   "cell_type": "markdown",
   "metadata": {
    "deletable": true,
    "editable": true
   },
   "source": [
    "**Exercise 2.** \n",
    "\n",
    "a) Create an Animated Scatter Graph that plots random data, called \"scatter_random_data.mp4\". \n",
    "\n",
    "b) Create an Animated Bar Graph that plots random data, called \"bar_random_data.mp4\""
   ]
  },
  {
   "cell_type": "markdown",
   "metadata": {
    "deletable": true,
    "editable": true
   },
   "source": [
    "**Exercise 3.**"
   ]
  },
  {
   "cell_type": "markdown",
   "metadata": {
    "deletable": true,
    "editable": true
   },
   "source": [
    "Create a 3D animated graph of the function $z = \\cos( \\sqrt{x^2 + y^2} )$ for $x,y \\in [-4\\pi,4\\pi]$"
   ]
  }
 ],
 "metadata": {
  "kernelspec": {
   "display_name": "Python 3",
   "language": "python",
   "name": "python3"
  },
  "language_info": {
   "codemirror_mode": {
    "name": "ipython",
    "version": 3
   },
   "file_extension": ".py",
   "mimetype": "text/x-python",
   "name": "python",
   "nbconvert_exporter": "python",
   "pygments_lexer": "ipython3",
   "version": "3.5.2"
  }
 },
 "nbformat": 4,
 "nbformat_minor": 2
}
