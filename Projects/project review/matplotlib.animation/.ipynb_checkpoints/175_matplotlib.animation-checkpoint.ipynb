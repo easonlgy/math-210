{
 "cells": [
  {
   "cell_type": "markdown",
   "metadata": {
    "deletable": true,
    "editable": true
   },
   "source": [
    "# MATH210: Animation in `matplotlib` with `FuncAnimation`\n",
    "\n",
    "#### Contents\n",
    "\n",
    "1. Introduction to animation\n",
    "2. Learning Goals\n",
    "3. Tutorial:\n",
    "    * Setting up the Notebook\n",
    "    * Detailed `FuncAnimation` Tutorial\n",
    "    * Different examples\n",
    "4. Documentation and Refrences"
   ]
  },
  {
   "cell_type": "markdown",
   "metadata": {
    "deletable": true,
    "editable": true
   },
   "source": [
    "## 1. Introduction to `matplotlib.animation`\n",
    "\n",
    "[Animation](https://en.wikipedia.org/wiki/Animation) has been around in various forms for a long time. [Computer animation](https://en.wikipedia.org/wiki/Computer_animation) has become quite commonplace in movies and other entertainment mediums, and it can also be a useful tool in explaining ideas or demonstrating concepts from many fields. For example, the [Reimann Sums](https://en.wikipedia.org/wiki/Riemann_sum) central to integral calculus may be visualized more easily when animated. In addition, the presentation of animated data and results can be more engaging for an audience than static images. \n",
    "\n",
    "Unfortunately, learning how to animate well can be a lengthly affair. However, simple animations are not overly difficult to achieve without a deep technical understanding and may later serve as a useful foundation when learning more advanced techniques. With simplicity in mind, the focus of this notebook will be to introduce the `animation` module of the `matplotlib` Python plotting library for use in a Juypter Notebook. "
   ]
  },
  {
   "cell_type": "markdown",
   "metadata": {
    "deletable": true,
    "editable": true
   },
   "source": [
    "##  2. Learning Goals\n",
    "\n",
    "This project aims to show how one can create simple animations with the `animation` module of the `matplotlib` plotting library in a Juypter Notebook. This goal is approached in three parts, the first of which is quickly setting up the Jupyter Notebook to display embedded animations. The second part will be a detailed tutorial for the `FuncAnimation` class of animation in the `animation` module. This tutorial will explain the essential input parameters required as well as how to save an animated file. Finally, the third part consists of several examples which will highlight how the essential parameters of `FuncAnimation` can vary depending on what the end goal of the desired animation is."
   ]
  },
  {
   "cell_type": "markdown",
   "metadata": {
    "deletable": true,
    "editable": true
   },
   "source": [
    "## 3. Tutorial \n",
    "\n",
    "### <center>Setting up the Notebook</center>\n",
    "\n",
    "To start we import some standard and convenient resources into the notebook:"
   ]
  },
  {
   "cell_type": "code",
   "execution_count": null,
   "metadata": {
    "collapsed": true,
    "deletable": true,
    "editable": true
   },
   "outputs": [],
   "source": [
    "import numpy as np\n",
    "import matplotlib.pyplot as plt\n",
    "%matplotlib inline"
   ]
  },
  {
   "cell_type": "markdown",
   "metadata": {
    "deletable": true,
    "editable": true
   },
   "source": [
    "Now let us import the **animation** module itself. In addition, we will also import **rc** and **HTML** allowing some default settings to be changed. These changes are important and allow the animations made to be *embedded*; that is, be shown directly in the notebook when called by name. For a more technical explaination, please see the links in the Documentation and Refrence section."
   ]
  },
  {
   "cell_type": "code",
   "execution_count": null,
   "metadata": {
    "collapsed": true,
    "deletable": true,
    "editable": true
   },
   "outputs": [],
   "source": [
    "from matplotlib import animation, rc\n",
    "from IPython.display import HTML"
   ]
  },
  {
   "cell_type": "markdown",
   "metadata": {
    "deletable": true,
    "editable": true
   },
   "source": [
    "Now we have the tools required for animation. In the following cell we set the animations made to display as embedded HTML when called and everything is set up."
   ]
  },
  {
   "cell_type": "code",
   "execution_count": null,
   "metadata": {
    "collapsed": true,
    "deletable": true,
    "editable": true
   },
   "outputs": [],
   "source": [
    "rc('animation', html='html5')"
   ]
  },
  {
   "cell_type": "markdown",
   "metadata": {
    "deletable": true,
    "editable": true
   },
   "source": [
    "### <center>Detailed `FuncAnimation` Tutorial</center>\n",
    "\n",
    "To introduce the important parameters of [FuncAnimation](http://matplotlib.org/api/_as_gen/matplotlib.animation.FuncAnimation.html#matplotlib.animation.FuncAnimation), it is best to start with something very simple. Consider the sine wave given by the following fuction:\n",
    "\n",
    "$$\n",
    "f(x) = \\sin(x)\n",
    "$$\n"
   ]
  },
  {
   "cell_type": "markdown",
   "metadata": {
    "deletable": true,
    "editable": true
   },
   "source": [
    "To start with, we set the figure object over which the animation will run. This figure will be the *static* background of the animation. We will name this `fig` and also set the axis (`ax`) to be around the expected interval of interest for a $\\sin$ wave. The `line,` object initialized here is currently empty of data but will be used when the animator **draws** the wave. "
   ]
  },
  {
   "cell_type": "code",
   "execution_count": null,
   "metadata": {
    "collapsed": true,
    "deletable": true,
    "editable": true
   },
   "outputs": [],
   "source": [
    "fig = plt.figure()\n",
    "ax = plt.axes(xlim=(0,2), ylim=(-2,2))\n",
    "line, = ax.plot([], lw=1);"
   ]
  },
  {
   "cell_type": "markdown",
   "metadata": {
    "deletable": true,
    "editable": true
   },
   "source": [
    "Let's set the `init_func` parameter. This is what we want drawn first when the animation starts. Considered optional, it is important for the optional parameter `blit` (based on an old animation technique called [bit blit](https://en.wikipedia.org/wiki/Bit_blit)). From the `FuncAnimation` documentation: if the `blit=True` parameter is used, then the `init_func` must return \"an iterable of [artists](http://matplotlib.org/users/artists.html) to be re-drawn\". Basically, only parts of the figure which have changed are redrawn on the next frame when `blut=True`. As a result, the animation can render faster and seem more smooth. For the purpose of this tutorial, we will have `blit=True` and so need some `init_func` to be called. \n",
    "\n",
    "We will call this `init_func` parameter `init`, set to with blank data and leave it be. Notice that `line,` is still returned."
   ]
  },
  {
   "cell_type": "code",
   "execution_count": null,
   "metadata": {
    "collapsed": false,
    "deletable": true,
    "editable": true
   },
   "outputs": [],
   "source": [
    "def init():\n",
    "    line.set_data([],[])\n",
    "    return line,"
   ]
  },
  {
   "cell_type": "markdown",
   "metadata": {
    "deletable": true,
    "editable": true
   },
   "source": [
    "Now we need the `func` parameter we want to be animated, let us call it `animate`. This parameter will be repeatedly called and fed data ($\\mathrm{i}$) from the `frames` parameter we set. Since we are using $\\sin$ as our example, we are going to take $x$ values from the range $[0,2]$ previously set by the `ax` object and define $y=\\sin(2 \\pi (x+0.01i))$. Notice we are introducing a phase shift that is dependent on $i$:\n",
    "\n",
    "$$\n",
    "y = \\sin(2 \\pi (x+0.01i)) = \\sin \\left( 2\\pi x + \\frac{\\pi i}{50} \\right)\n",
    "$$\n",
    "\n",
    "\n",
    "We then update the `line,` object with the $x,y$ data obtained from and return it. The repeated calling of this `animate` function will result in incrementally changing phase shifts that are dependent on $\\mathrm{i}$."
   ]
  },
  {
   "cell_type": "code",
   "execution_count": null,
   "metadata": {
    "collapsed": true,
    "deletable": true,
    "editable": true
   },
   "outputs": [],
   "source": [
    "def animate(i):\n",
    "    x = np.linspace(0,2,100)\n",
    "    y = np.sin(2*np.pi *(x + 0.01*i))\n",
    "    line.set_data(x,y)\n",
    "    return line,"
   ]
  },
  {
   "cell_type": "markdown",
   "metadata": {
    "deletable": true,
    "editable": true
   },
   "source": [
    "The last two parameters of interest are `interval` and `interval`. Setting `frames=200` is equivalent to the builtin Python function `range(200)` and will gives plenty of data to pass through `animate`. Finally, we need to set the `interval` (in $\\mathrm{milliseconds}$) we want between the *frames* generated by calling `animate`. For the moment, $20$ should suffice. With all the components finally together, we can now animate the sinusoidal wave and call it by some clever name."
   ]
  },
  {
   "cell_type": "code",
   "execution_count": null,
   "metadata": {
    "collapsed": false,
    "deletable": true,
    "editable": true
   },
   "outputs": [],
   "source": [
    "anim = animation.FuncAnimation(fig, animate, init_func=init,\n",
    "                               frames=200, interval=20, blit=True)"
   ]
  },
  {
   "cell_type": "markdown",
   "metadata": {
    "deletable": true,
    "editable": true
   },
   "source": [
    "Calling `anim` displays the animation we have made in the Juypter Notebook. Rejoice!"
   ]
  },
  {
   "cell_type": "code",
   "execution_count": null,
   "metadata": {
    "collapsed": false,
    "deletable": true,
    "editable": true
   },
   "outputs": [],
   "source": [
    "anim "
   ]
  },
  {
   "cell_type": "markdown",
   "metadata": {
    "deletable": true,
    "editable": true
   },
   "source": [
    "Changing from $+0.01i$ to $-0.01i$ in the `animate` function would cause the wave to \"move\" in the opposite direction, as one would expect. Try it and see! \n",
    "\n",
    "Playing around with this example is a good way to gain insight on what `FuncAnimation` is doing with the components introduced. Try setting $\\mathrm{frames}=25$, $\\mathrm{interval}=100$ and adding the optional argument `repeat=False`. Then compare the starting and ending position of the *entire* wave after the animation plays. Other value changes in `frames` and/or `interval` may result in various, yet informative, failures. Likewise, try removing the $2 \\pi$ from the $y$ defined in `animate` and see what happens. Hint: consider the `xlims` and [period](https://www.mathsisfun.com/algebra/amplitude-period-frequency-phase-shift.html) of a standard sine wave represented by $y=\\sin(x)$.\n",
    "\n",
    "We can also [save](matplotlib.org/api/_as_gen/matplotlib.animation.Animation.save.html) the animation made as in the following cell."
   ]
  },
  {
   "cell_type": "code",
   "execution_count": null,
   "metadata": {
    "collapsed": true,
    "deletable": true,
    "editable": true
   },
   "outputs": [],
   "source": [
    "anim.save('sine_wave.mp4', fps=30,)"
   ]
  },
  {
   "cell_type": "markdown",
   "metadata": {
    "deletable": true,
    "editable": true
   },
   "source": [
    "We have now animated a *very* simple function and introduced the basic parameters of `FuncAnimation`. What remains is gaining familiarity with how those parameters can change depending on the animation we want to achieve. This is best illistrated through examples."
   ]
  },
  {
   "cell_type": "markdown",
   "metadata": {
    "deletable": true,
    "editable": true
   },
   "source": [
    "### <center> Some Different Examples </center>"
   ]
  },
  {
   "cell_type": "markdown",
   "metadata": {
    "deletable": true,
    "editable": true
   },
   "source": [
    "#### Example 1: \"Drawing\" Parametric Curves\n",
    "\n",
    "Consider the humble unit circle given by the parametric equations:\n",
    "\n",
    "$$\n",
    "\\begin{align*}\n",
    "x &= \\cos(\\theta) \\\\\n",
    "y &= \\sin(\\theta)\n",
    "\\end{align*}\n",
    "$$\n",
    "\n",
    "where $\\theta$ is in radians. How would the *drawing* of such a circle be animated? Since we are going to feed our animating function with the values in `frames`, we can draw the circle point by point where each point is an ordered pair ($x,y$) from $x$ and $y$ above with `frames` providing the required input data for $\\theta$."
   ]
  },
  {
   "cell_type": "code",
   "execution_count": null,
   "metadata": {
    "collapsed": true,
    "deletable": true,
    "editable": true
   },
   "outputs": [],
   "source": [
    "fig1 = plt.figure()\n",
    "ax1 = plt.axes(xlim=(-2,2), ylim=(-1.5,1.5))\n",
    "xdata, ydata = [], []\n",
    "points, = plt.plot([],[])\n",
    "\n",
    "def init1():\n",
    "    return points,\n",
    "\n",
    "def animate1(i):\n",
    "    xdata.append(np.cos(np.radians(i)))\n",
    "    ydata.append(np.sin(np.radians(i)))\n",
    "    points.set_data(xdata, ydata)\n",
    "    return points,\n",
    "\n",
    "anim2 = animation.FuncAnimation(fig1, animate1, init_func=init1,\n",
    "                               frames=360, interval=10, blit=True);"
   ]
  },
  {
   "cell_type": "markdown",
   "metadata": {
    "deletable": true,
    "editable": true
   },
   "source": [
    "Notice how the `line,` used before with $y=\\sin(x)$ as the updating component has been replaced with `points`. Also see how `frames` was set to $360$, the number of *degrees* associated with a circle of $2\\pi \\, \\mathrm{rad}$. Calling the animation with `anim2` allows us to see the circle being drawn below:"
   ]
  },
  {
   "cell_type": "code",
   "execution_count": null,
   "metadata": {
    "collapsed": false,
    "deletable": true,
    "editable": true,
    "scrolled": true
   },
   "outputs": [],
   "source": [
    "anim2"
   ]
  },
  {
   "cell_type": "markdown",
   "metadata": {
    "deletable": true,
    "editable": true
   },
   "source": [
    "The circle drawn above can be easily modifed to other parametric equations, such as the [Heart Curve](http://mathworld.wolfram.com/HeartCurve.html) given by:\n",
    "\n",
    "$$\n",
    "\\begin{align*}\n",
    "x &= 16\\sin(\\theta)^3 \\\\\n",
    "y &= 13\\cos(\\theta) - 5\\cos(2 \\theta) - 2\\cos(3 \\theta) - \\cos(4 \\theta)\n",
    "\\end{align*}\n",
    "$$\n",
    "\n",
    "This time, lets use $-\\mathrm{i}$ to draw the curve:"
   ]
  },
  {
   "cell_type": "code",
   "execution_count": null,
   "metadata": {
    "collapsed": true,
    "deletable": true,
    "editable": true
   },
   "outputs": [],
   "source": [
    "fig2 = plt.figure()\n",
    "ax2 = plt.axes(xlim=(-20,20), ylim=(-18,14))\n",
    "xdata, ydata = [], []\n",
    "points, = plt.plot([],[], 'r')\n",
    "\n",
    "def init2():\n",
    "    return points,\n",
    "\n",
    "def animate2(i):\n",
    "    xdata.append(16*np.sin(np.radians(-i))**3)\n",
    "    ydata.append(13*np.cos(np.radians(-i)) - 5*np.cos(2*np.radians(-i)) - 2*np.cos(3*np.radians(-i)) - np.cos(4*np.radians(-i)))\n",
    "    points.set_data(xdata, ydata)\n",
    "    return points,\n",
    "\n",
    "anim3 = animation.FuncAnimation(fig2, animate2, init_func=init2,\n",
    "                               frames=360, interval=10, blit=True)"
   ]
  },
  {
   "cell_type": "markdown",
   "metadata": {
    "deletable": true,
    "editable": true
   },
   "source": [
    "As the heart curve is being drawn in the same manner as the circle, ordered pair after ordered pair, very little change is required. The `xlim` and `ylim` are set to larger intervals to makes the heart visible; such small tweaks will often be required to make the animation more aesthetically pleasing."
   ]
  },
  {
   "cell_type": "code",
   "execution_count": null,
   "metadata": {
    "collapsed": false,
    "deletable": true,
    "editable": true
   },
   "outputs": [],
   "source": [
    "anim3"
   ]
  },
  {
   "cell_type": "markdown",
   "metadata": {
    "collapsed": true,
    "deletable": true,
    "editable": true
   },
   "source": [
    "#### Example 2: Dampened Sin Wave\n",
    "\n",
    "For the next example, let's animate a [dampened sin wave](https://en.wikipedia.org/wiki/Damped_sine_wave). To change things up, lets include the exponential decay component as a static element in the backgroud as part of the `fig`. The equations of interest are given by:\n",
    "\n",
    "$$\n",
    "\\begin{align*}\n",
    "f(x) &= \\sin \\left(10x \\right) \\\\\n",
    "f_{\\text{dampened}}(x) &= e^{-x} \\sin \\left(10x \\right)\n",
    "\\end{align*}\n",
    "$$\n",
    "\n",
    "Notice the scalar frequency increase ($10$) and that $i$ has been omitted for the moment. "
   ]
  },
  {
   "cell_type": "code",
   "execution_count": null,
   "metadata": {
    "collapsed": true,
    "deletable": true,
    "editable": true
   },
   "outputs": [],
   "source": [
    "fig4 = plt.figure()\n",
    "ax = plt.axes(xlim=(0,2), ylim=(-2,2))\n",
    "x0 = np.linspace(0,2,100)\n",
    "y0 = np.exp(-x0)\n",
    "plt.plot(x0,y0, 'r',x0,-y0,'r', alpha=0.5)\n",
    "line, = ax.plot([], lw=1)\n",
    "\n",
    "def init4():\n",
    "    line.set_data([],[])\n",
    "    return line,\n",
    "\n",
    "def animate4(i):\n",
    "    x = np.linspace(0,2,100)\n",
    "    y = np.exp(-x)*np.sin(10*np.pi * (x - 0.01*i))\n",
    "    line.set_data(x,y)\n",
    "    return line,\n",
    "\n",
    "\n",
    "anim5 = animation.FuncAnimation(fig4, animate4, init_func=init4,\n",
    "                               frames=200, interval=25, blit=True);"
   ]
  },
  {
   "cell_type": "markdown",
   "metadata": {
    "deletable": true,
    "editable": true
   },
   "source": [
    "There is an obious similarity with the simple sine wave, `anim5` is still focused around the phase shift(s). In fact, the exponential decay component($e^{-x}$) isn't given any $\\mathrm{i}$ data at all! To see why, try changing $e^{-x}$ to $e^{-x i}$ and watch how the animation **drastically** changes."
   ]
  },
  {
   "cell_type": "code",
   "execution_count": null,
   "metadata": {
    "collapsed": false,
    "deletable": true,
    "editable": true
   },
   "outputs": [],
   "source": [
    "anim5"
   ]
  },
  {
   "cell_type": "markdown",
   "metadata": {
    "deletable": true,
    "editable": true
   },
   "source": [
    "#### Example 3: Beats: Constructive and Destructive Interference\n",
    "\n",
    "For the last example, let's animate something a little more complicated. The constructive and destructive interference of sound waves of different frequecies results in [beats](http://hyperphysics.phy-astr.gsu.edu/hbase/Sound/beat.html). Let's try to animate a [beat](https://en.wikipedia.org/wiki/Beat_%28acoustics%29) developing! We will use two $\\sin$ waves initially at the same frequency and have one shift in frequency given by these equations: \n",
    "\n",
    "$$\n",
    "\\begin{align*}\n",
    "f_0(x) &= \\sin(3 \\pi \\, x) &=& y\\\\\n",
    "f_1(x) &= \\sin((3+ 0.001 i) \\pi \\, x) &=& y_1 \\\\\n",
    "f_2(x) &= f_0 + f_1 &=& y_2\n",
    "\\end{align*}\n",
    "$$\n",
    "\n",
    "Since $f_0$ is not changing with respect to $i$, we can plot it in the background `fig`. Let's set $f_0$ to be <span style=\"color:red\">red</span>, $f_1$ to be <span style=\"color:green\">green</span> and their interference, $f_2$, to be <span style=\"color:blue\">blue</span>."
   ]
  },
  {
   "cell_type": "code",
   "execution_count": null,
   "metadata": {
    "collapsed": false,
    "deletable": true,
    "editable": true
   },
   "outputs": [],
   "source": [
    "fig4 = plt.figure()\n",
    "ax = plt.axes(xlim=(0,12), ylim=(-3,3))\n",
    "x = np.linspace(0,12,100)\n",
    "y = np.sin(2* np.pi * (x))\n",
    "plt.plot(x,y,'r', lw=1)\n",
    "line, = ax.plot([], 'g', lw=1)\n",
    "line2, = ax.plot([], 'b', lw=2)\n",
    "\n",
    "def init4():\n",
    "    line.set_data([],[])\n",
    "    line2.set_data([],[])\n",
    "    return line, line2,\n",
    "\n",
    "def animate4(i):\n",
    "    x = np.linspace(0,12,100)\n",
    "    y1 = np.sin((2 + 0.001*i)*np.pi * (x))\n",
    "    y2 = y + y1\n",
    "    line.set_data(x,y1)\n",
    "    line2.set_data(x,y2)\n",
    "    return line, line2\n",
    "\n",
    "\n",
    "anim6 = animation.FuncAnimation(fig4, animate4, init_func=init4,\n",
    "                               frames=400, interval=50, blit=True);"
   ]
  },
  {
   "cell_type": "code",
   "execution_count": null,
   "metadata": {
    "collapsed": false,
    "deletable": true,
    "editable": true
   },
   "outputs": [],
   "source": [
    "anim6"
   ]
  },
  {
   "cell_type": "markdown",
   "metadata": {
    "deletable": true,
    "editable": true
   },
   "source": [
    "We have beats! Now let's modify it one last time for fun. First, let's have the $\\sin$ waves start at *different* frequencies. In addition, we will animate the amplitude of the previously static $\\sin$ wave slowly increasing with respect to $i$. We will use the following equations:\n",
    "\n",
    "$$\n",
    "\\begin{align*}\n",
    "f_0(x) &=  (0.01 \\, i) \\cdot \\sin(\\pi (x) ) &=& y \\\\\n",
    "f_1(x) &= \\sin \\left(  (0.007 \\, i) \\cdot \\pi (x+0.01i) \\right) &=& y_1 \\\\\n",
    "f_2(x) &= f_0 + f_1 &=& y_2\n",
    "\\end{align*}\n",
    "$$\n",
    "\n",
    "We will animate four functions in total: $f_0$ and $-f_0$ in <span style=\"color:red\">red</span> to watch the amplitude increasing, the frequency increasing $f_1$ in <span style=\"color:green\">green</span>, and the resultant interference, $f_2$, in <span style=\"color:blue\">blue</span>."
   ]
  },
  {
   "cell_type": "code",
   "execution_count": null,
   "metadata": {
    "collapsed": true,
    "deletable": true,
    "editable": true
   },
   "outputs": [],
   "source": [
    "fig5 = plt.figure()\n",
    "ax = plt.axes(xlim=(0,12), ylim=(-3.2,3.2))\n",
    "line, = ax.plot([], 'r', lw=0.7)\n",
    "line1, = ax.plot([], 'r', lw=0.7)\n",
    "line2, = ax.plot([], 'green', lw=0.7)\n",
    "line3, = ax.plot([], 'blue', lw=1.4)\n",
    "\n",
    "def init5():\n",
    "    line.set_data([],[])\n",
    "    line1.set_data([],[])\n",
    "    line2.set_data([],[])\n",
    "    line3.set_data([],[])\n",
    "    return line, line1, line2, line3,\n",
    "\n",
    "def animate5(i):\n",
    "    x = np.linspace(0,12,100)\n",
    "    y = (0.01*i) *np.sin(np.pi*(x))\n",
    "    y1 = np.sin((0.007*i)*np.pi * (x + 0.01*i))\n",
    "    y2 = y + y1 \n",
    "    line.set_data(x,y)\n",
    "    line1.set_data(x,-y)\n",
    "    line2.set_data(x,y1)\n",
    "    line3.set_data(x,y2)\n",
    "    return line, line1, line2, line3\n",
    "\n",
    "\n",
    "anim7 = animation.FuncAnimation(fig5, animate5, init_func=init5,\n",
    "                               frames=200, interval=50, blit=True);"
   ]
  },
  {
   "cell_type": "code",
   "execution_count": null,
   "metadata": {
    "collapsed": false,
    "deletable": true,
    "editable": true
   },
   "outputs": [],
   "source": [
    "anim7"
   ]
  },
  {
   "cell_type": "markdown",
   "metadata": {
    "deletable": true,
    "editable": true
   },
   "source": [
    "Despite being similar to `anim6`, we can see that the different starting frequencies and changing amplitude in `anim7` has caused some very interesting patterns to develop. Some may even say it is pleasing to watch.\n",
    "\n",
    "## Summary\n",
    "\n",
    "From our simple starting animation of the sine wave, the parameters of `FuncAnimation` were introduced. We have seen how those parameters can be modfied to accomdate different animations. Furthermore, in the *beat* example, we can see how animation can be very helpful in demonstrating the concept of interference. But there is many more applications to the `FuncAnimation` than we have explored, see [these examples](http://matplotlib.org/2.0.0/examples/animation/index.html) for some additional examples. Hopefully this tutorial will serve as a good starting point for further animation adventures."
   ]
  },
  {
   "cell_type": "markdown",
   "metadata": {
    "collapsed": true,
    "deletable": true,
    "editable": true
   },
   "source": [
    "## Refrences and Documentation:\n",
    "\n",
    "[Project Jupyter](http://jupyter.org/): Jupyter platform website.\n",
    "\n",
    "[IPython](http://ipython.readthedocs.io/en/stable/): The kernal of Juypter, `.display` included within to allow HTML display modifications.\n",
    "\n",
    "[NumPy](http://www.numpy.org/): Useful for computing. Contains common functions such as $\\sin(x)$ and $e^x$.\n",
    "\n",
    "[matplotlib](http://matplotlib.org/): Documentation for the plotting library plugin.\n",
    "\n",
    "[matplotlib.animation](http://matplotlib.org/api/animation_api.html): Documentation of the animation module.\n",
    "\n",
    "[artist tutorial](http://matplotlib.org/users/artists.html): Technical reading on matplotlib\n",
    "\n",
    "[animation to HTML](http://matplotlib.org/api/_as_gen/matplotlib.animation.Animation.to_html5_video.html): Important factor in allowing animations to be displayed as HTML and thus embedded in the Notebook.\n",
    "\n",
    "[rc](http://rc.readthedocs.io/en/latest/): Documentation for the *redis cache* used if some technical reading is desired.\n",
    "\n",
    "[Embedding Animations](http://louistiao.me/posts/notebooks/embedding-matplotlib-animations-in-jupyter-notebooks/): By Louis Tiao, a very recent and useful tutorial on embedding animations in Jupyter. \n",
    "\n",
    "[Making Efficient Animations in Matplotlib with Blitting](http://devosoft.org/making-efficient-animations-in-matplotlib-with-blitting/): A short read on blitting."
   ]
  },
  {
   "cell_type": "code",
   "execution_count": null,
   "metadata": {
    "collapsed": true,
    "deletable": true,
    "editable": true
   },
   "outputs": [],
   "source": []
  }
 ],
 "metadata": {
  "kernelspec": {
   "display_name": "Python 3",
   "language": "python",
   "name": "python3"
  },
  "language_info": {
   "codemirror_mode": {
    "name": "ipython",
    "version": 3
   },
   "file_extension": ".py",
   "mimetype": "text/x-python",
   "name": "python",
   "nbconvert_exporter": "python",
   "pygments_lexer": "ipython3",
   "version": "3.5.2"
  }
 },
 "nbformat": 4,
 "nbformat_minor": 2
}
