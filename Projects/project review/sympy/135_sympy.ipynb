{
 "cells": [
  {
   "cell_type": "markdown",
   "metadata": {
    "deletable": true,
    "editable": true
   },
   "source": [
    "# Introduction"
   ]
  },
  {
   "cell_type": "markdown",
   "metadata": {
    "deletable": true,
    "editable": true
   },
   "source": [
    "* I choose the sympy as my project objective to explain the **[Catalan numbers](https://en.wikipedia.org/wiki/Catalan_number)**.\n",
    "* Since the Catalan numbers is a sequence of a set of increasing integers like **[Fibonacci number](https://en.wikipedia.org/wiki/Fibonacci_number)**, the usage of sympy.ntheory which is related to computation of number theory is feasible."
   ]
  },
  {
   "cell_type": "markdown",
   "metadata": {
    "deletable": true,
    "editable": true
   },
   "source": [
    "# Learning Target"
   ]
  },
  {
   "cell_type": "markdown",
   "metadata": {
    "deletable": true,
    "editable": true
   },
   "source": [
    "1. Constructing Sequences directly\n",
    "  * Brief historical background and a list of 11 Catalan numbers from the beginning\n",
    "  * General formula by using scipy.misc import factorial\n",
    "  * Recursive formula (generating function)\n",
    "2. Determination whether a number is a Catalan Number.\n",
    "3. Compute a list of Catalan Numbers for the condition.\n",
    "4. Catalan number from sympy import *\n"
   ]
  },
  {
   "cell_type": "markdown",
   "metadata": {
    "deletable": true,
    "editable": true
   },
   "source": [
    "# Tutorial"
   ]
  },
  {
   "cell_type": "markdown",
   "metadata": {
    "deletable": true,
    "editable": true
   },
   "source": [
    "## 1. Constructing Sequences"
   ]
  },
  {
   "cell_type": "markdown",
   "metadata": {
    "deletable": true,
    "editable": true
   },
   "source": [
    "#### Brief historical background and a list of 11 Catalan numbers from the beginning"
   ]
  },
  {
   "cell_type": "markdown",
   "metadata": {
    "deletable": true,
    "editable": true
   },
   "source": [
    "In Combinatorics, Catalan numbers frequently occurs in various enumeration problems. We have known quite a few explicit formulas related to Catalan numbers. In terms of these formulas, we will choose several ones to prove from the general formula."
   ]
  },
  {
   "cell_type": "markdown",
   "metadata": {
    "deletable": true,
    "editable": true
   },
   "source": [
    "In 1751,A Swiss mathematician Leonhard Euler found Catalan numbers by dividing a polygons into several triangulations, but he were not able to prove it until he got help from other two mathematicians. "
   ]
  },
  {
   "cell_type": "markdown",
   "metadata": {
    "deletable": true,
    "editable": true
   },
   "source": [
    "A list of 11 Catalan numbers from the beginning would be $$C_0 =1$$ $$C_1 =1$$ $$C_2 =2$$ $$C_3 =5$$ $$C_4 =14$$ $$C_5 =42$$  $$C_6 =132$$ $$C_7 =429$$ $$C_8 =1430$$ $$C_9 =4862$$ $$C_{10} =16796$$"
   ]
  },
  {
   "cell_type": "markdown",
   "metadata": {
    "deletable": true,
    "editable": true
   },
   "source": [
    "#### General formula by using scipy.misc import factorial"
   ]
  },
  {
   "cell_type": "markdown",
   "metadata": {
    "deletable": true,
    "editable": true
   },
   "source": [
    "If the Catalan number general function $C_n = \\frac{1}{n+1}\\binom{2n}{n}$ is given， we can use a for loop to express a list of the Catalan Numbers"
   ]
  },
  {
   "cell_type": "markdown",
   "metadata": {
    "deletable": true,
    "editable": true
   },
   "source": [
    "Since we need to use the **[Binomial coefficient](https://en.wikipedia.org/wiki/Binomial_coefficient)**\n",
    "$$\\binom{n}{k}= \\frac{n!}{k!(n-k)!}$$\n",
    "we need to use scipy.misc import factorial"
   ]
  },
  {
   "cell_type": "code",
   "execution_count": null,
   "metadata": {
    "collapsed": true,
    "deletable": true,
    "editable": true
   },
   "outputs": [],
   "source": [
    "import numpy as np\n",
    "import math\n",
    "import matplotlib.pyplot as plt\n",
    "%matplotlib inline"
   ]
  },
  {
   "cell_type": "code",
   "execution_count": null,
   "metadata": {
    "collapsed": true,
    "deletable": true,
    "editable": true
   },
   "outputs": [],
   "source": [
    "from scipy.misc import factorial"
   ]
  },
  {
   "cell_type": "code",
   "execution_count": null,
   "metadata": {
    "collapsed": false,
    "deletable": true,
    "editable": true
   },
   "outputs": [],
   "source": [
    "def n_choose_k(n,k):\n",
    "    f = factorial\n",
    "    return f(n)/ f(k) / f(n-k)\n",
    "def c_n(n):\n",
    "    \"\"\"Compute the list of n catalan numbers from the beginning.\"\"\"\n",
    "    list_of_c_n = []\n",
    "    for d in range (0,n):\n",
    "        # Remember that there is the initial C0 \n",
    "        b = n_choose_k(2*d,1*d)\n",
    "        list_of_c_n.append(1/(1+d)*b)\n",
    "    return list_of_c_n"
   ]
  },
  {
   "cell_type": "code",
   "execution_count": null,
   "metadata": {
    "collapsed": false,
    "deletable": true,
    "editable": true
   },
   "outputs": [],
   "source": [
    "n_choose_k(7,4)"
   ]
  },
  {
   "cell_type": "code",
   "execution_count": null,
   "metadata": {
    "collapsed": false,
    "deletable": true,
    "editable": true
   },
   "outputs": [],
   "source": [
    "c_n(3)"
   ]
  },
  {
   "cell_type": "markdown",
   "metadata": {
    "deletable": true,
    "editable": true
   },
   "source": [
    "####  Recursive formula (generating function)"
   ]
  },
  {
   "cell_type": "markdown",
   "metadata": {
    "deletable": true,
    "editable": true
   },
   "source": [
    "We can also use the recursive formula to define the Catalan numbers function.  $$C_0=C_0$$\n",
    "$$C_1= C_0*C_0 $$\n",
    "$$C_2=(C_0*C_1+C_1*C_0)$$\n",
    "$$C_3=(C_0*C_2+C_1*C_1+C_2*C_0)$$\n",
    "$$\\vdots$$\n",
    "$$C_{n}=C_{n-1}C_{0}+C_{n-2}C_{1}+C_{n-3}C_{2}...C_{2}C_{n-3}+C_{1}C_{n-2}+C_{0}C_{n-1} $$\n",
    "or we can describe in a sum symbol\n",
    "$$C_0 = 1 \\:\\: \\mathrm{and} \\:\\:C_{n+1} = \\sum_{i=0}^{n} C_iC_{n-i}\\:\\:\\mathrm{for}\\:\\: n \\geq 0 $$\n",
    "We can use the generating function to compute the n-th catalan number"
   ]
  },
  {
   "cell_type": "code",
   "execution_count": null,
   "metadata": {
    "collapsed": false,
    "deletable": true,
    "editable": true
   },
   "outputs": [],
   "source": [
    "def c_n_rec(n):\n",
    "    \"\"\"Compute the n-th catalan number\"\"\"\n",
    "    if n == 0:\n",
    "        return 1\n",
    "    #This computes the base case c0=1\n",
    "    else:\n",
    "        b = 0\n",
    "        # sum base must be 0\n",
    "        for i in range (n):\n",
    "            b += (c_n_rec(i))*(c_n_rec(n-1-i))\n",
    "    return b"
   ]
  },
  {
   "cell_type": "code",
   "execution_count": null,
   "metadata": {
    "collapsed": false,
    "deletable": true,
    "editable": true
   },
   "outputs": [],
   "source": [
    "c_n_rec(3)"
   ]
  },
  {
   "cell_type": "code",
   "execution_count": null,
   "metadata": {
    "collapsed": false,
    "deletable": true,
    "editable": true
   },
   "outputs": [],
   "source": [
    "(1*2+1*1+2*1)"
   ]
  },
  {
   "cell_type": "markdown",
   "metadata": {
    "deletable": true,
    "editable": true
   },
   "source": [
    "## 2. Determination whether a number is a Catalan Number."
   ]
  },
  {
   "cell_type": "markdown",
   "metadata": {
    "deletable": true,
    "editable": true
   },
   "source": [
    "We can define a function named is_c_n given one parameter the integer n to determine whether the number n is a Catalan number. Note that Catalan must be equal or larger than 1 otherwise return error."
   ]
  },
  {
   "cell_type": "code",
   "execution_count": null,
   "metadata": {
    "collapsed": false,
    "deletable": true,
    "editable": true
   },
   "outputs": [],
   "source": [
    "def is_c_n(N):\n",
    "    \"Determine whether or not N is a Catalan number.\"\n",
    "    if N in c_n(N*10):\n",
    "        # Make sure that there is a relatively long list to check\n",
    "        return True\n",
    "    else:\n",
    "        return False"
   ]
  },
  {
   "cell_type": "code",
   "execution_count": null,
   "metadata": {
    "collapsed": false,
    "deletable": true,
    "editable": true
   },
   "outputs": [],
   "source": [
    "is_c_n(5)"
   ]
  },
  {
   "cell_type": "markdown",
   "metadata": {
    "deletable": true,
    "editable": true
   },
   "source": [
    "## 3.Compute a list of Catalan Numbers for the condition."
   ]
  },
  {
   "cell_type": "markdown",
   "metadata": {
    "deletable": true,
    "editable": true
   },
   "source": [
    "#### Example: Catalan numbers"
   ]
  },
  {
   "cell_type": "markdown",
   "metadata": {
    "deletable": true,
    "editable": true
   },
   "source": [
    "Let's write a function called c_n_less_than which takes one input $N$ and returns the list of Catalan numbers less than $N$."
   ]
  },
  {
   "cell_type": "code",
   "execution_count": null,
   "metadata": {
    "collapsed": true,
    "deletable": true,
    "editable": true
   },
   "outputs": [],
   "source": [
    "def c_n_less_than(N):\n",
    "    \"\"\"Compute the list of Catalan numbers less than N.\"\"\"\n",
    "    # Intialize the list with empty list\n",
    "    c_n_list = []\n",
    "    for n in range(0,N):\n",
    "        if c_n_rec(n) < N:\n",
    "            # Append the new Catalan number to the list if it is less than N\n",
    "            c_n_list.append(c_n_rec(n))\n",
    "        else:\n",
    "            # Stop the loop if the last Catalan number computed is greater than N\n",
    "            break\n",
    "    return c_n_list"
   ]
  },
  {
   "cell_type": "code",
   "execution_count": null,
   "metadata": {
    "collapsed": false,
    "deletable": true,
    "editable": true
   },
   "outputs": [],
   "source": [
    "c_n_less_than(100)"
   ]
  },
  {
   "cell_type": "markdown",
   "metadata": {
    "deletable": true,
    "editable": true
   },
   "source": [
    "## 4.Catalan number from sympy import *"
   ]
  },
  {
   "cell_type": "markdown",
   "metadata": {
    "deletable": true,
    "editable": true
   },
   "source": [
    "We import the Catalan numbers from sympy to check whether it is vaild"
   ]
  },
  {
   "cell_type": "code",
   "execution_count": null,
   "metadata": {
    "collapsed": true,
    "deletable": true,
    "editable": true
   },
   "outputs": [],
   "source": [
    "from sympy import *"
   ]
  },
  {
   "cell_type": "code",
   "execution_count": null,
   "metadata": {
    "collapsed": false,
    "deletable": true,
    "editable": true
   },
   "outputs": [],
   "source": [
    "a = catalan(4)\n",
    "print(a)"
   ]
  },
  {
   "cell_type": "code",
   "execution_count": null,
   "metadata": {
    "collapsed": false,
    "deletable": true,
    "editable": true
   },
   "outputs": [],
   "source": [
    "c_n_rec(4)"
   ]
  },
  {
   "cell_type": "markdown",
   "metadata": {
    "deletable": true,
    "editable": true
   },
   "source": [
    "The Catalan numbers grow as in the sense that the quotient of the nth Catalan number and the expression on the right tends towards 1 as n → +∞. $$C_n\\sim \\frac{4^n}{n^{\\frac{3}{2}}\\sqrt{\\pi}}$$"
   ]
  },
  {
   "cell_type": "code",
   "execution_count": null,
   "metadata": {
    "collapsed": false,
    "deletable": true,
    "editable": true
   },
   "outputs": [],
   "source": [
    "4**(500)/500**(3/2)/np.pi**(1/2)-catalan(500)"
   ]
  }
 ],
 "metadata": {
  "kernelspec": {
   "display_name": "Python 3",
   "language": "python",
   "name": "python3"
  },
  "language_info": {
   "codemirror_mode": {
    "name": "ipython",
    "version": 3
   },
   "file_extension": ".py",
   "mimetype": "text/x-python",
   "name": "python",
   "nbconvert_exporter": "python",
   "pygments_lexer": "ipython3",
   "version": "3.5.2"
  }
 },
 "nbformat": 4,
 "nbformat_minor": 2
}
