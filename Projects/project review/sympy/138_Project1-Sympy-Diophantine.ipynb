{
 "cells": [
  {
   "cell_type": "markdown",
   "metadata": {
    "deletable": true,
    "editable": true
   },
   "source": [
    "# MATH 210 - Project 1 \n",
    "\n",
    "### by Anonymous \n",
    "\n",
    "\n",
    "SymPy is used for symbolic computations in mathematics and the package used for this project is `sympy.solvers.diophantine` which is used to solve five types of diophantine equations along with the assistance of helper functions (see [documentation](http://docs.sympy.org/latest/index.html))"
   ]
  },
  {
   "cell_type": "markdown",
   "metadata": {
    "deletable": true,
    "editable": true
   },
   "source": [
    "The five types of diophantine equations that are solved using this package are as the following: \n",
    "* Linear Diophantine Equations \n",
    "* General Binary Quadratic Equations \n",
    "* Homogeneous Ternary Quadratic Equations \n",
    "* Extended Pythagorean Equation \n",
    "* General Sum of Squares \n",
    "\n",
    "For the purpose of this project, the focus will only be on solving **linear diophantine equations** and applications to other form of diophantine equations using this solver, such as **Pell's equation**, and **Fermat's theorem on sums of two squares**. \n",
    "\n",
    "By the end of this project, the readers should be able to understand the basic concept of linear diophantine equations, how they can be solved algebraically and through the solver, as well as apply to other problems pertaining to diophantine equations. "
   ]
  },
  {
   "cell_type": "markdown",
   "metadata": {
    "deletable": true,
    "editable": true
   },
   "source": [
    "### Contents: \n",
    "\n",
    "1. Linear Diophantine Equations \n",
    "2. Pell's Equation  \n",
    "3. Fermat's Theorem on Sums of Two Squares \n",
    "4. Exercises\n",
    "\n"
   ]
  },
  {
   "cell_type": "code",
   "execution_count": 2,
   "metadata": {
    "collapsed": false,
    "deletable": true,
    "editable": true
   },
   "outputs": [],
   "source": [
    "from sympy.solvers.diophantine import diophantine\n",
    "from sympy import symbols \n",
    "from sympy.solvers.diophantine import diop_linear"
   ]
  },
  {
   "cell_type": "markdown",
   "metadata": {
    "deletable": true,
    "editable": true
   },
   "source": [
    "### 1. Linear Diophantine Equations \n",
    "\n",
    "To begin with, linear diophantine equations are equations with two variables $x$ and $y$ with integer coefficients $a$, $b$, $c$, $\\in \\textbf{Z}$, where the ideal solution consists of integers. They can only have a solution if and only if $c$ is a multiple of greatest common divisor$(gcd)$ of $a$ and $b$.  \n",
    "\n",
    "\n",
    "For example, certain linear diophantine equations cannot be solved such as this one:  \n",
    "$$\n",
    "2x+2y=1\n",
    "$$\n",
    "because $gcd(2,2)$ is $2$ and $1$ is not a multiple of $2$\n",
    "\n",
    "And certain linear diophantine equations have a finite number of solutions, such as: \n",
    "$$\n",
    "2x=4 \n",
    "$$\n",
    "\n",
    "(source:[Integer Divisibility](https://www.cs.cmu.edu/~adamchik/21-127/lectures/divisibility_5_print.pdf))"
   ]
  },
  {
   "cell_type": "markdown",
   "metadata": {
    "deletable": true,
    "editable": true
   },
   "source": [
    "#### Solving Linear Diophantine Equations (Algebraically)\n",
    "\n",
    "$$\n",
    "a_1 x_1 + a_2 x_2 + ... + a_n x_n = b\n",
    "$$\n",
    "\n",
    "For example: \n",
    "$$\n",
    "15x + 34y = 3\n",
    "$$\n",
    "\n",
    "\n",
    "If we want to solve this using the 'Extended Euclidean Algorithm', we must find the greatest common divisor (gcd) of $n$ and $m$ such that: \n",
    "\n",
    "$$\n",
    "a*n + b*m = gcd(a,b)\n",
    "$$\n",
    "\n",
    "\n",
    "Computing the gcd: \n",
    "\n",
    "$\n",
    "34     = (2\\cdot15)   + 4\n",
    "\\\\\n",
    "15     = (3\\cdot4)    + 3 \n",
    "\\\\\n",
    "4      = (1\\cdot3)    + 1 \n",
    "\\\\\n",
    "3      = (3\\cdot1) \n",
    "$\n",
    "\n",
    "We can see that $gcd(15,34) = 1$. Now we have to reverse the steps in order to find a solution to the linear equation $15x+34y=3$\n",
    "\n",
    "$\n",
    "1 = (1 \\cdot 4) + (-1 \\cdot 3)\n",
    "\\\\\n",
    "1 = (-1 \\cdot 15) + (4 \\cdot 4)\n",
    "\\\\\n",
    "1 = (4 \\cdot 34) + (-9 \\cdot 15)\n",
    "$\n",
    "\n",
    "Therefore, $x=-9$ and $y=4$ satisfies the equation $15x+34y=1$.\n",
    "Since we want a solution for $15x+34y=3$, the particular solution for this equation would be $x=-27$ and $y=12$"
   ]
  },
  {
   "cell_type": "markdown",
   "metadata": {
    "deletable": true,
    "editable": true
   },
   "source": [
    "#### Solving linear diophantine equations using `sympy.solvers.diophantine`\n",
    "\n",
    "Now that we know how to solve linear diophantine equations algebraically by hand, we can use an easier way to solve them using `sympy.solvers.diophantine`\n",
    "\n",
    "Let's use the same example as above: \n",
    "$15x+34y=3$"
   ]
  },
  {
   "cell_type": "code",
   "execution_count": 6,
   "metadata": {
    "collapsed": false,
    "deletable": true,
    "editable": true
   },
   "outputs": [
    {
     "data": {
      "text/plain": [
       "{(34*t_0 - 27, -15*t_0 + 12)}"
      ]
     },
     "execution_count": 6,
     "metadata": {},
     "output_type": "execute_result"
    }
   ],
   "source": [
    "x, y, z = symbols(\"x, y, z\", integer=True)\n",
    "diophantine(15*x+34*y-3)"
   ]
  },
  {
   "cell_type": "markdown",
   "metadata": {
    "deletable": true,
    "editable": true
   },
   "source": [
    "As we can see the results are -27 and 12. "
   ]
  },
  {
   "cell_type": "markdown",
   "metadata": {
    "deletable": true,
    "editable": true
   },
   "source": [
    "Let's try another example where we know that it will have no solutions: \n",
    "\n",
    "$15x+5y=2$"
   ]
  },
  {
   "cell_type": "code",
   "execution_count": 8,
   "metadata": {
    "collapsed": false,
    "deletable": true,
    "editable": true
   },
   "outputs": [
    {
     "data": {
      "text/plain": [
       "set()"
      ]
     },
     "execution_count": 8,
     "metadata": {},
     "output_type": "execute_result"
    }
   ],
   "source": [
    "diophantine(15*x+5*y-2)"
   ]
  },
  {
   "cell_type": "markdown",
   "metadata": {
    "deletable": true,
    "editable": true
   },
   "source": [
    "As we can see the result is an empty set because there is no solution. The reason is that, in order for a linear diophantine equation to have solutions, the $gcd(a,b)$ must be divisble by $c$. In this case, the $gcd(15,5)$ must be divisible by $2$. The $gcd(15,5)$ is $3$ which is not divisible by $2$, therefore there is no solution to this equation. "
   ]
  },
  {
   "cell_type": "markdown",
   "metadata": {
    "deletable": true,
    "editable": true
   },
   "source": [
    "### 2. Pell's Equation \n",
    "\n",
    "Pell's equation is any Diophantine equation in the form of $x^2-ny^2 = 1$ where $n$ represents a positive non-square integer and $x$ and $y$ represent the integer solutions. In terms of Cartesian coordinates, this equation has the form of a hyperbola and the solutions are when whenever the curve passes through a point where the $x$ and $y$ coordinates are both integers. For example: \n",
    "\n",
    "Pell's equation for $n=2$ looks like: \n"
   ]
  },
  {
   "cell_type": "markdown",
   "metadata": {
    "deletable": true,
    "editable": true
   },
   "source": [
    "![Pell's Equation](https://upload.wikimedia.org/wikipedia/commons/9/97/Pell%27s_equation.svg)\n",
    "\n",
    "\n",
    "As we can see, there are six integer solutions for $n=2$. According to Joseph Louis Lagrange, it is proven that as along as $n$ is not a perfect square, Pell's equation will have infinitely many solutions. \n",
    "\n",
    "(source: [Pell's Equation](https://en.wikipedia.org/wiki/Pell's_equation))"
   ]
  },
  {
   "cell_type": "markdown",
   "metadata": {
    "deletable": true,
    "editable": true
   },
   "source": [
    "Let's find integer solutions for Pell's equation for n=3 using `sympy.solvers.diophantine`"
   ]
  },
  {
   "cell_type": "code",
   "execution_count": 29,
   "metadata": {
    "collapsed": false,
    "deletable": true,
    "editable": true
   },
   "outputs": [],
   "source": [
    "from sympy.solvers.diophantine import diop_DN"
   ]
  },
  {
   "cell_type": "code",
   "execution_count": 30,
   "metadata": {
    "collapsed": false,
    "deletable": true,
    "editable": true
   },
   "outputs": [
    {
     "data": {
      "text/plain": [
       "[(2, 1)]"
      ]
     },
     "execution_count": 30,
     "metadata": {},
     "output_type": "execute_result"
    }
   ],
   "source": [
    "diop_DN(3,1)"
   ]
  },
  {
   "cell_type": "markdown",
   "metadata": {
    "deletable": true,
    "editable": true
   },
   "source": [
    "The solution for $x^2-3y^2=1$ is $x=2$ and $y=1$. The purpose of Pell's equation was to approximate the square root of n as long as $x$ and $y$ are positive integers satisfying this equation, so $x/y$ would be an approximation of $\\sqrt{n}$\n",
    "\n",
    "In this case, $2/1$ would be an approximation of $\\sqrt{3}$"
   ]
  },
  {
   "cell_type": "code",
   "execution_count": 36,
   "metadata": {
    "collapsed": false,
    "deletable": true,
    "editable": true
   },
   "outputs": [
    {
     "data": {
      "text/plain": [
       "1.7320508075688772"
      ]
     },
     "execution_count": 36,
     "metadata": {},
     "output_type": "execute_result"
    }
   ],
   "source": [
    "np.sqrt(3)"
   ]
  },
  {
   "cell_type": "code",
   "execution_count": 37,
   "metadata": {
    "collapsed": false,
    "deletable": true,
    "editable": true
   },
   "outputs": [
    {
     "data": {
      "text/plain": [
       "2.0"
      ]
     },
     "execution_count": 37,
     "metadata": {},
     "output_type": "execute_result"
    }
   ],
   "source": [
    "2/1"
   ]
  },
  {
   "cell_type": "markdown",
   "metadata": {
    "deletable": true,
    "editable": true
   },
   "source": [
    "Another example: \n",
    "For $n=17$"
   ]
  },
  {
   "cell_type": "code",
   "execution_count": 38,
   "metadata": {
    "collapsed": false,
    "deletable": true,
    "editable": true
   },
   "outputs": [
    {
     "data": {
      "text/plain": [
       "[(33, 8)]"
      ]
     },
     "execution_count": 38,
     "metadata": {},
     "output_type": "execute_result"
    }
   ],
   "source": [
    "diop_DN(17,1)"
   ]
  },
  {
   "cell_type": "code",
   "execution_count": 39,
   "metadata": {
    "collapsed": false,
    "deletable": true,
    "editable": true
   },
   "outputs": [
    {
     "data": {
      "text/plain": [
       "4.125"
      ]
     },
     "execution_count": 39,
     "metadata": {},
     "output_type": "execute_result"
    }
   ],
   "source": [
    "33/8"
   ]
  },
  {
   "cell_type": "code",
   "execution_count": 40,
   "metadata": {
    "collapsed": false,
    "deletable": true,
    "editable": true
   },
   "outputs": [
    {
     "data": {
      "text/plain": [
       "4.1231056256176606"
      ]
     },
     "execution_count": 40,
     "metadata": {},
     "output_type": "execute_result"
    }
   ],
   "source": [
    "np.sqrt(17)"
   ]
  },
  {
   "cell_type": "markdown",
   "metadata": {
    "deletable": true,
    "editable": true
   },
   "source": [
    "### 3. Fermat's Theorem on Sums of Two Squares "
   ]
  },
  {
   "cell_type": "markdown",
   "metadata": {
    "deletable": true,
    "editable": true
   },
   "source": [
    "Fermat's theorem on the sums of two squares states that a prime number $p$ can be expressed as $p = x^2 + y^2$ if and only if it satisfies $p \\equiv 1 (\\mathrm{mod} \\ 4) $\n",
    "\n",
    "(source: [Fermat's Theorem on Sums of Two Squares](https://en.wikipedia.org/wiki/Fermat's_theorem_on_sums_of_two_squares))"
   ]
  },
  {
   "cell_type": "markdown",
   "metadata": {
    "deletable": true,
    "editable": true
   },
   "source": [
    "So, the prime numbers $5,13,17$ which are Pythagorean primes can be expressed as the sum of two squares because they are all congruent to 1 modulo 4. \n",
    "\n",
    "We can also solve this using `sympy.diophantine.solvers`"
   ]
  },
  {
   "cell_type": "code",
   "execution_count": 45,
   "metadata": {
    "collapsed": false,
    "deletable": true,
    "editable": true
   },
   "outputs": [],
   "source": [
    "from sympy.abc import x, y, p"
   ]
  },
  {
   "cell_type": "code",
   "execution_count": 49,
   "metadata": {
    "collapsed": false,
    "deletable": true,
    "editable": true
   },
   "outputs": [
    {
     "data": {
      "text/plain": [
       "{(-2, -1), (-2, 1), (2, -1), (2, 1)}"
      ]
     },
     "execution_count": 49,
     "metadata": {},
     "output_type": "execute_result"
    }
   ],
   "source": [
    "diophantine(x**2 + y**2 - 5)"
   ]
  },
  {
   "cell_type": "code",
   "execution_count": 52,
   "metadata": {
    "collapsed": false,
    "deletable": true,
    "editable": true
   },
   "outputs": [
    {
     "data": {
      "text/plain": [
       "set()"
      ]
     },
     "execution_count": 52,
     "metadata": {},
     "output_type": "execute_result"
    }
   ],
   "source": [
    "diophantine(x**2 + y**2 -7)"
   ]
  },
  {
   "cell_type": "code",
   "execution_count": 53,
   "metadata": {
    "collapsed": false,
    "deletable": true,
    "editable": true
   },
   "outputs": [
    {
     "data": {
      "text/plain": [
       "{(-3, -2), (-3, 2), (3, -2), (3, 2)}"
      ]
     },
     "execution_count": 53,
     "metadata": {},
     "output_type": "execute_result"
    }
   ],
   "source": [
    "diophantine(x**2 + y**2 - 13)"
   ]
  },
  {
   "cell_type": "markdown",
   "metadata": {
    "deletable": true,
    "editable": true
   },
   "source": [
    "As we can see, there were no solutions for $p=7$ because $7$ is not equivalent to $1$ modulo $4$"
   ]
  },
  {
   "cell_type": "markdown",
   "metadata": {
    "deletable": true,
    "editable": true
   },
   "source": [
    "### 4. Exercises"
   ]
  },
  {
   "cell_type": "markdown",
   "metadata": {
    "deletable": true,
    "editable": true
   },
   "source": [
    "1. Find the approximation of the square root of $13$ using Pell's Equation. \n",
    "\n",
    "2. Represent 29 as the sum of two squares. "
   ]
  },
  {
   "cell_type": "code",
   "execution_count": null,
   "metadata": {
    "collapsed": true
   },
   "outputs": [],
   "source": []
  }
 ],
 "metadata": {
  "kernelspec": {
   "display_name": "Python 3",
   "language": "python",
   "name": "python3"
  },
  "language_info": {
   "codemirror_mode": {
    "name": "ipython",
    "version": 3
   },
   "file_extension": ".py",
   "mimetype": "text/x-python",
   "name": "python",
   "nbconvert_exporter": "python",
   "pygments_lexer": "ipython3",
   "version": "3.6.0"
  }
 },
 "nbformat": 4,
 "nbformat_minor": 2
}
