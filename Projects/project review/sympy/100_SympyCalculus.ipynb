{
 "cells": [
  {
   "cell_type": "markdown",
   "metadata": {
    "deletable": true,
    "editable": true
   },
   "source": [
    "# Math 210 Project I\n",
    "\n",
    "## Calculus with `sympy`"
   ]
  },
  {
   "cell_type": "markdown",
   "metadata": {
    "deletable": true,
    "editable": true
   },
   "source": [
    "SymPy is one of the most powerful computational packages in Python, a main feature of SymPy that distinguishes it from other packages is that it performs mathematical computations symbolically. In particular, SymPy performs fundamental calculus operations such as computing: integrals, derivatives and limits. (See the [documentation](http://docs.sympy.org/dev/tutorial/calculus.html)):\n",
    "\n",
    "1. Compute indefinite integrals: $$F = \\int f(x) dx$$ and $$I = \\int_a^b f(x) dx$$\n",
    "2. Compute derivatives: $$f' = \\frac{d}{dx} f(x)$$\n",
    "3. Compute limits: $$L = \\lim_{x\\to a} f(x)$$"
   ]
  },
  {
   "cell_type": "markdown",
   "metadata": {
    "deletable": true,
    "editable": true
   },
   "source": [
    "The **objective** of this project is to explore these three functions in `sympy`, which compute fundamental calculus concepts **indefinite/definite integrals**, **derivatives** and **limits**. In the end, we will also use the connections between integrals, derivatives and limits to verify each computation is mathematically correct.\n",
    "\n",
    "* `sympy.integrate` (see the [documentation](http://docs.sympy.org/latest/modules/integrals/integrals.html))\n",
    "* `sympy.diff` (see the [documentation](http://docs.sympy.org/latest/tutorial/calculus.html))\n",
    "* `sympy.limit` (see the [documentation](http://docs.sympy.org/dev/tutorial/calculus.html), in the middle of the page)"
   ]
  },
  {
   "cell_type": "markdown",
   "metadata": {
    "deletable": true,
    "editable": true
   },
   "source": [
    "## Contents\n",
    "\n",
    "1. Integration: `integrate`\n",
    "2. Differentation: `diff`\n",
    "3. Limit: `limit`\n",
    "4. Exercises"
   ]
  },
  {
   "cell_type": "code",
   "execution_count": null,
   "metadata": {
    "collapsed": false,
    "deletable": true,
    "editable": true
   },
   "outputs": [],
   "source": [
    "import numpy as np\n",
    "import sympy as sp\n",
    "from sympy import Symbol\n",
    "from sympy import Symbol, sin, cos, tan, sec, csc, log, exp"
   ]
  },
  {
   "cell_type": "markdown",
   "metadata": {
    "deletable": true,
    "editable": true
   },
   "source": [
    "## 1. Integrals\n",
    "\n",
    "### Idea behind [integration](https://en.wikipedia.org/wiki/Integral)\n",
    "\n",
    "Integrals of an one-variable function $f(x)$ is commonly known as the area under the curve described by $f(x)$. This concept orginated from approximating the area under the curve. As an example, we will use Riemann Sum for illustration."
   ]
  },
  {
   "cell_type": "markdown",
   "metadata": {
    "deletable": true,
    "editable": true
   },
   "source": [
    "There are two common types of Riemann Sum:\n",
    "\n",
    "* Left Riemann Sum\n",
    "* Right Riemann Sum\n",
    "\n",
    "Each of them represents a method to approximate the area under a curve by splitting the area into a number of tiny rectangles and summing the area of each reactangle."
   ]
  },
  {
   "cell_type": "markdown",
   "metadata": {
    "deletable": true,
    "editable": true
   },
   "source": [
    "Given a closed interval [a,b] and a curve $f(x)$. In Left Riemann Sum, the function value of the upper left corner of each rectangle is used as the length. The area of enclosed by the curve in this interval is approximately\n",
    "\n",
    "$$\n",
    "Area \\approx \\sum_{i=1}^n f(x_i)\\Delta x\n",
    "$$\n",
    "where $\\Delta x = \\frac{b-a}{n}$ and $x_1 = a, x_2 = a+\\Delta x, x_3 = a+2\\Delta x,\\dots,x_n = a+(n-1)\\Delta x$, $n$ is the number of rectangles or subintervals under the curve $f(x)$ in [a,b].![image](https://upload.wikimedia.org/wikipedia/commons/1/19/Riemann_sum_%28leftbox%29.gif)\n",
    "Notice as the the number of rectangles or subintervals gets more, the more accurate the approximation is."
   ]
  },
  {
   "cell_type": "markdown",
   "metadata": {},
   "source": [
    "We can develop our own Left Riemann Sum function."
   ]
  },
  {
   "cell_type": "code",
   "execution_count": null,
   "metadata": {
    "collapsed": true
   },
   "outputs": [],
   "source": [
    "def left_r_sum(f,interval,n):\n",
    "    '''\n",
    "    f is the function in which interest area is enclosed by\n",
    "    interval is the closed interval [a,b] in which the area is bounded by\n",
    "    n is the number of subintervals\n",
    "    '''\n",
    "    width = (interval[1] - interval[0]) / n\n",
    "    Sum = 0\n",
    "    x_i = []\n",
    "    element = interval[0]\n",
    "    for k in range(0,n):\n",
    "        x_i.append(element)\n",
    "        element = element + width\n",
    "    for index in range(0,n):\n",
    "        Sum = Sum + f(x_i[index])*width\n",
    "    return Sum"
   ]
  },
  {
   "cell_type": "markdown",
   "metadata": {
    "deletable": true,
    "editable": true
   },
   "source": [
    "Similarly, the Right Riemann Sum takes function values of the upper right corner as lengths of each rectangle and it has the form\n",
    "\n",
    "$$\n",
    "Area \\approx \\sum_{i=1}^n f(x_{i+1})\\Delta x\n",
    "$$\n",
    "![image](https://upload.wikimedia.org/wikipedia/commons/6/61/Riemann_sum_%28rightbox%29.gif)\n",
    "Notice as the the number of rectangles or subintervals gets more, the more accurate the approximation is."
   ]
  },
  {
   "cell_type": "markdown",
   "metadata": {},
   "source": [
    "We can develop our own Right Riemann Sum function."
   ]
  },
  {
   "cell_type": "code",
   "execution_count": null,
   "metadata": {
    "collapsed": true
   },
   "outputs": [],
   "source": [
    "def right_r_sum(f,interval,n):\n",
    "    '''\n",
    "    f is the function in which interest area is enclosed by\n",
    "    interval is the closed interval [a,b] in which the area is bounded by\n",
    "    n is the number of subintervals\n",
    "    '''\n",
    "    width = (interval[1] - interval[0]) / n\n",
    "    Sum = 0\n",
    "    x_i = []\n",
    "    element = interval[0] + width\n",
    "    for k in range(0,n):\n",
    "        x_i.append(element)\n",
    "        element = element + width\n",
    "    for index in range(0,n):\n",
    "        Sum = Sum + f(x_i[index])*width\n",
    "    return Sum"
   ]
  },
  {
   "cell_type": "markdown",
   "metadata": {
    "deletable": true,
    "editable": true
   },
   "source": [
    "Ultimately, as $n\\rightarrow\\infty$,\n",
    "\n",
    "$$\n",
    "Area = \\lim_{n\\to\\infty} \\sum_{i=1}^n f(x_i)\\Delta x = \\lim_{n\\to\\infty} \\sum_{i=1}^n f(x_{i+1})\\Delta x = \\int_a^b f(x) dx\n",
    "$$\n",
    "![image](http://www.teacherschoice.com.au/Maths_Library/Calculus/area_u14.gif)"
   ]
  },
  {
   "cell_type": "markdown",
   "metadata": {},
   "source": [
    "### Using `sympy.integrate`"
   ]
  },
  {
   "cell_type": "markdown",
   "metadata": {},
   "source": [
    "The function `sympy.integrate` takes in two parameter, the first parameter is the mathematical function that is to be integrated, and second parameter is the variable that we want to integrate with respect to. For example, if $f(x) = x$ and we want to integrate it with respect to $x$, we would have to write `sympy.integrate(x,x)`. The funtion `integrate` returns the antidervative of $f(x)=x$."
   ]
  },
  {
   "cell_type": "markdown",
   "metadata": {},
   "source": [
    "In the case of an definite integral, the second element we pass on needs to be a tuple. Suppose we want to integrate the same function $f(x)$ with respect to $x$, now we want to integrate in the inteval [a,b]. The syntax would be `sympy.integrate(x,(x,a,b))`. The function returns the value of the integral from a to b."
   ]
  },
  {
   "cell_type": "markdown",
   "metadata": {
    "deletable": true,
    "editable": true
   },
   "source": [
    "#### Example: $\\int (\\frac{1}{x} + e^x) dx$"
   ]
  },
  {
   "cell_type": "code",
   "execution_count": null,
   "metadata": {
    "collapsed": true
   },
   "outputs": [],
   "source": [
    "x = Symbol('x')"
   ]
  },
  {
   "cell_type": "code",
   "execution_count": null,
   "metadata": {
    "collapsed": false
   },
   "outputs": [],
   "source": [
    "sp.integrate(1/x + exp(x),x)"
   ]
  },
  {
   "cell_type": "markdown",
   "metadata": {},
   "source": [
    "### Now compute $\\int_1^2 (\\frac{1}{x} + e^x) dx$"
   ]
  },
  {
   "cell_type": "markdown",
   "metadata": {},
   "source": [
    "Since we already know what the antidervative is from the pervious step, we can directly calculate the value of this definite integral to compare it to the result that `sympy.integrate` gives us. "
   ]
  },
  {
   "cell_type": "code",
   "execution_count": null,
   "metadata": {
    "collapsed": false
   },
   "outputs": [],
   "source": [
    "(np.exp(2) + np.log(2)) - (np.exp(1) + np.log(1))"
   ]
  },
  {
   "cell_type": "code",
   "execution_count": null,
   "metadata": {
    "collapsed": false
   },
   "outputs": [],
   "source": [
    "sp.integrate(1/x + np.e**x,(x,1,2))"
   ]
  },
  {
   "cell_type": "code",
   "execution_count": null,
   "metadata": {
    "collapsed": false
   },
   "outputs": [],
   "source": [
    "np.log(2) + 4.6707742704716"
   ]
  },
  {
   "cell_type": "markdown",
   "metadata": {},
   "source": [
    "Two values to very close! The result is correct."
   ]
  },
  {
   "cell_type": "markdown",
   "metadata": {},
   "source": [
    "Next we will use the approximation method Riemann Sum to compute the area, let's see if they agree in values."
   ]
  },
  {
   "cell_type": "code",
   "execution_count": null,
   "metadata": {
    "collapsed": true
   },
   "outputs": [],
   "source": [
    "def f(x):\n",
    "    return 1/x + np.exp(x)"
   ]
  },
  {
   "cell_type": "code",
   "execution_count": null,
   "metadata": {
    "collapsed": false
   },
   "outputs": [],
   "source": [
    "left_r_sum(f,[1,2],10000)"
   ]
  },
  {
   "cell_type": "code",
   "execution_count": null,
   "metadata": {
    "collapsed": false
   },
   "outputs": [],
   "source": [
    "right_r_sum(f,[1,2],10000)"
   ]
  },
  {
   "cell_type": "markdown",
   "metadata": {},
   "source": [
    "When there are 10000 subintervals, the results of the Left and Right Riemann Sum are accurate to the hundredth decimal place. These two approximations using Riemann Sum are close to the actual area computed above!"
   ]
  },
  {
   "cell_type": "markdown",
   "metadata": {},
   "source": [
    "## 2. Derivatives\n",
    "\n",
    "### Idea behind [differentiation](https://en.wikipedia.org/wiki/Derivative)\n",
    "\n",
    "Derivative of an one-variable function at point $a$ is commonly known as the slope of tangent line of the function at point $a$. Given a function $f(x)$, the definition of derivative at point $a$ is as follows:\n",
    "\n",
    "$$\n",
    "f'(a) = \\lim_{h\\to 0} \\frac{f(a+h)-f(a)}{h}\n",
    "$$\n",
    "\n",
    "or\n",
    "\n",
    "$$\n",
    "f'(a) = \\lim_{x\\to a} \\frac{f(x)-f(a)}{x-a}\n",
    "$$"
   ]
  },
  {
   "cell_type": "markdown",
   "metadata": {},
   "source": [
    "Both definitions take advantange of the secant line passing through f(x) and then shrink it to a tangent line by making the gap between two x-coordinates on the function that construct the secant line smaller and smaller. Eventually, the gap is virtually zero and we obtain a tangent line. ![image](http://www.proprofs.com/quiz-school/topic_images/p19rcf84911s0f1dqm1krc1ma51eht3.jpg)"
   ]
  },
  {
   "cell_type": "markdown",
   "metadata": {},
   "source": [
    "$h$ is the gap in the x-axis of x-coordinates on the funtion that construct the secan line that is eventually shrunk down to zero."
   ]
  },
  {
   "cell_type": "markdown",
   "metadata": {},
   "source": [
    "Ultimately, derivative can be viewed as pictorially. Keep in mind that tangent lines on the curve does not represent the derivative, it is the slope of each tangent line that is associated with derivatives.![image](https://upload.wikimedia.org/wikipedia/commons/7/7a/Graph_of_sliding_derivative_line.gif)"
   ]
  },
  {
   "cell_type": "markdown",
   "metadata": {},
   "source": [
    "The connection between derivatives and integrals is given in the fundamental theorem of calculus, which says that differentiation and integration are inverse operation of one another. Given a function $f(x)$,\n",
    "\n",
    "$$\n",
    "f(x) = \\frac{d}{dx}\\int f(x)dx\n",
    "$$"
   ]
  },
  {
   "cell_type": "markdown",
   "metadata": {},
   "source": [
    "### Using `sympy.diff`"
   ]
  },
  {
   "cell_type": "markdown",
   "metadata": {},
   "source": [
    "The functoin `sympy.diff` takes in three parameters in general, the first parameter is the mathematical function that is to be differentiated. This mathematical function can be a multivariable one. The second parameter is the the variable that is differentiated with respect to. The third parameter is optional, which is the number of times the function is to be differentiated, default to be 1 if not specified in the input. The function `sympy.diff` returns the derivative of a given mathematical function."
   ]
  },
  {
   "cell_type": "markdown",
   "metadata": {},
   "source": [
    "Another syntax when taking multiple derivatives is that the user can pass in the variable(s) that is to differentiated with respect to as many times as you want to differentiate. This is often the case when a multivariable mathematical function to passed into `sympy.diff`."
   ]
  },
  {
   "cell_type": "markdown",
   "metadata": {},
   "source": [
    "### Example: compute $\\frac{d}{dx}(\\ln(x)+e^x)$"
   ]
  },
  {
   "cell_type": "markdown",
   "metadata": {},
   "source": [
    "Notice that $\\ln(x) + e^x =\\int(\\frac{1}{x} + e^x) dx$, where the integrating constant is 0 in this case."
   ]
  },
  {
   "cell_type": "markdown",
   "metadata": {},
   "source": [
    "By the fundamental theorem of calculus, if we differentiate the left hand side, we should get the integrand on the right hand side."
   ]
  },
  {
   "cell_type": "code",
   "execution_count": null,
   "metadata": {
    "collapsed": false
   },
   "outputs": [],
   "source": [
    "sp.diff(log(x)+exp(x),x)"
   ]
  },
  {
   "cell_type": "markdown",
   "metadata": {},
   "source": [
    "Fundamental theorem of calculus works! Our result is correct."
   ]
  },
  {
   "cell_type": "markdown",
   "metadata": {},
   "source": [
    "### Example: compute $\\frac{\\partial^2}{\\partial x \\partial y}(\\sin(x)\\cos(y))$"
   ]
  },
  {
   "cell_type": "markdown",
   "metadata": {},
   "source": [
    "Using prior knowledge, we know that\n",
    "\n",
    "$$\n",
    "\\frac{\\partial^2}{\\partial x \\partial y}(\\sin(x)\\cos(y)) = \\frac{\\partial}{\\partial x} \\frac{\\partial}{\\partial y} (\\sin(x)\\cos(y))\n",
    "$$\n",
    "\n",
    "$$\n",
    "= \\frac{\\partial}{\\partial x} (-\\sin(x)\\sin(y))\n",
    "$$\n",
    "\n",
    "$$\n",
    "= -\\cos(x)\\sin(y)\n",
    "$$"
   ]
  },
  {
   "cell_type": "code",
   "execution_count": null,
   "metadata": {
    "collapsed": true
   },
   "outputs": [],
   "source": [
    "y = Symbol('y')"
   ]
  },
  {
   "cell_type": "code",
   "execution_count": null,
   "metadata": {
    "collapsed": false
   },
   "outputs": [],
   "source": [
    "sp.diff(sin(x)*cos(y),x,y)"
   ]
  },
  {
   "cell_type": "markdown",
   "metadata": {},
   "source": [
    "`sympy.diff` gives a result that matches our prior knowledge! Output is correct."
   ]
  },
  {
   "cell_type": "markdown",
   "metadata": {},
   "source": [
    "## 3. Limits"
   ]
  },
  {
   "cell_type": "markdown",
   "metadata": {},
   "source": [
    "As we have seen before, limits are both used in deriving integrals and derivatives. This is a concept that has wide range of usage. One application of limit is used in the definition of continuity of a function. [Limit](https://en.wikipedia.org/wiki/Limit_(mathematics) is also known as the foundation to understanding calculus."
   ]
  },
  {
   "cell_type": "markdown",
   "metadata": {},
   "source": [
    "Facts about limit:\n",
    "* If the left hand limit does not equal to the right hand limit, then the limit does not exist.\n",
    "* If the limit approaches positive/negative infinity, we still consider the limit does not exist.\n",
    "* [Limit Laws](https://math.oregonstate.edu/home/programs/undergrad/CalculusQuestStudyGuides/SandS/lHopital/limit_laws.html)"
   ]
  },
  {
   "cell_type": "markdown",
   "metadata": {},
   "source": [
    "### Using `sympy.limit`"
   ]
  },
  {
   "cell_type": "markdown",
   "metadata": {},
   "source": [
    "The function `sympy.limit` takes in 4 parameters, the first parameter is the function/expression that the limit is evaluated on, the second parameter is the variable that is taken limit on, the thrid parameter is the value in which the limit variable approaches, and the fourth parameter is indicates the direction of the limit, `-` means the left hand limit, `+` means the right hand limit; this parameter has a dafault value of `+`."
   ]
  },
  {
   "cell_type": "markdown",
   "metadata": {},
   "source": [
    "### Example: Determine if the following function is continuous at x=1\n",
    "\n",
    "$$\n",
    "f(x) = \\left\\{\n",
    "        \\begin{array}{ll}\n",
    "            3x-5 & ,\\quad x \\neq 1 \\\\\n",
    "            2 & ,\\quad x = 1\n",
    "        \\end{array}\n",
    "    \\right.\n",
    "$$"
   ]
  },
  {
   "cell_type": "markdown",
   "metadata": {},
   "source": [
    "Using prior knowledge, we know that there are three conditions for continuity at a point $x=a$ given a function $f(x)$:\n",
    "\n",
    "1. f(a) is defined.\n",
    "2. $\\lim_{x\\to a} f(x)$ exists\n",
    "3. $f(a) = \\lim_{x\\to a} f(x)$"
   ]
  },
  {
   "cell_type": "markdown",
   "metadata": {},
   "source": [
    "Now let's start with conditon 1,"
   ]
  },
  {
   "cell_type": "markdown",
   "metadata": {},
   "source": [
    "f(1) = 2"
   ]
  },
  {
   "cell_type": "markdown",
   "metadata": {},
   "source": [
    "Condition 2:"
   ]
  },
  {
   "cell_type": "code",
   "execution_count": null,
   "metadata": {
    "collapsed": false
   },
   "outputs": [],
   "source": [
    "sp.limit(3*x-5,x,1)"
   ]
  },
  {
   "cell_type": "markdown",
   "metadata": {},
   "source": [
    "Condition 3:"
   ]
  },
  {
   "cell_type": "code",
   "execution_count": null,
   "metadata": {
    "collapsed": false
   },
   "outputs": [],
   "source": [
    "sp.limit(3*x-5,x,1) == 2"
   ]
  },
  {
   "cell_type": "markdown",
   "metadata": {},
   "source": [
    "Condition 3 fails, therefore this function is not continuous at $x=1$"
   ]
  },
  {
   "cell_type": "markdown",
   "metadata": {},
   "source": [
    "### Example: Use the limit definition to find the derivative of $\\cos(x)+\\sin(x)$"
   ]
  },
  {
   "cell_type": "markdown",
   "metadata": {},
   "source": [
    "Recall that the limit definition of derivative is \n",
    "\n",
    "$$\n",
    "f'(x) = \\lim_{h\\to 0} \\frac{f(x+h)-f(x)}{h}\n",
    "$$"
   ]
  },
  {
   "cell_type": "code",
   "execution_count": null,
   "metadata": {
    "collapsed": true
   },
   "outputs": [],
   "source": [
    "h = Symbol('h')"
   ]
  },
  {
   "cell_type": "code",
   "execution_count": null,
   "metadata": {
    "collapsed": false
   },
   "outputs": [],
   "source": [
    "sp.limit((cos(x+h)+sin(x+h)-cos(x)-sin(x))/ h,h,0)"
   ]
  },
  {
   "cell_type": "markdown",
   "metadata": {},
   "source": [
    "Using the limit definition, we obtain $-\\sin(x)+\\cos(x)$ is the derivative of $\\cos(x)+\\sin(x)$."
   ]
  },
  {
   "cell_type": "markdown",
   "metadata": {},
   "source": [
    "Now we can verify it with `sympy.diff` function!"
   ]
  },
  {
   "cell_type": "code",
   "execution_count": null,
   "metadata": {
    "collapsed": false
   },
   "outputs": [],
   "source": [
    "sp.diff(cos(x)+sin(x),x)"
   ]
  },
  {
   "cell_type": "markdown",
   "metadata": {},
   "source": [
    "The both give the same result!"
   ]
  },
  {
   "cell_type": "markdown",
   "metadata": {},
   "source": [
    "### Example: Verify the  mathematical constant [`e`](https://en.wikipedia.org/wiki/E_(mathematical_constant) is equal to the following limit\n",
    "\n",
    "$$\n",
    "\\lim_{n\\to \\infty}(1+\\frac{1}{n})^n\n",
    "$$"
   ]
  },
  {
   "cell_type": "markdown",
   "metadata": {},
   "source": [
    "Let \n",
    "$$\n",
    "f(n) = (1+\\frac{1}{n})^n\n",
    "$$\n",
    "\n",
    "$$\n",
    "\\ln\\left(f(n)\\right) = n\\ln\\left(1+\\frac{1}{n}\\right)\n",
    "$$\n",
    "\n",
    "$$\n",
    "f(n) = e^{n\\ln\\left(1+\\frac{1}{n}\\right)}\n",
    "$$\n",
    "\n",
    "$$\n",
    "\\lim_{n\\to\\infty}f(n) = \\lim_{n\\to\\infty}e^{n\\ln\\left(1+\\frac{1}{n}\\right)}\n",
    "$$\n",
    "\n",
    "$$\n",
    "\\lim_{n\\to\\infty}f(n) =  e^{\\lim_{n\\to\\infty}n\\ln\\left(1+\\frac{1}{n}\\right)}\n",
    "$$\n",
    "\n",
    "$$\n",
    "\\lim_{n\\to\\infty}f(n) =  e^{\\lim_{n\\to\\infty}\\frac{\\ln\\left(1+\\frac{1}{n}\\right)}{\\frac{1}{n}}}\n",
    "$$\n",
    "\n",
    "Apply L'Hospital rule:\n",
    "\n",
    "$$\n",
    "\\lim_{n\\to\\infty}f(n) =  e^{\\lim_{n\\to\\infty}\\frac{\\frac{1}{\\left(1+\\frac{1}{n}\\right)}\\left(-\\frac{1}{n^2}\\right)}{-\\frac{1}{n^2}}}\n",
    "$$\n",
    "\n",
    "$$\n",
    "\\lim_{n\\to\\infty}f(n) = e^{\\lim_{n\\to\\infty}\\frac{1}{1+\\frac{1}{n}}}\n",
    "$$\n",
    "\n",
    "$$\n",
    "\\lim_{n\\to\\infty}f(n) = e\n",
    "$$"
   ]
  },
  {
   "cell_type": "code",
   "execution_count": null,
   "metadata": {
    "collapsed": true
   },
   "outputs": [],
   "source": [
    "n = Symbol('n')"
   ]
  },
  {
   "cell_type": "code",
   "execution_count": null,
   "metadata": {
    "collapsed": false
   },
   "outputs": [],
   "source": [
    "sp.limit((1+1/n)**n,n,np.infty)"
   ]
  },
  {
   "cell_type": "markdown",
   "metadata": {},
   "source": [
    "The two results match each other! The result to correct."
   ]
  },
  {
   "cell_type": "markdown",
   "metadata": {},
   "source": [
    "## 4. Exercises"
   ]
  },
  {
   "cell_type": "markdown",
   "metadata": {},
   "source": [
    "**Exercise 1**. Find the antiderivative of the function $f(x) = x^3e^x$ then find the area enclosed by this curve in the interval [1,5]. Finally, use Left and Right Riemann Sum to see if the approximated area is close to the exact area."
   ]
  },
  {
   "cell_type": "markdown",
   "metadata": {},
   "source": [
    "**Exercise 2**. Let $f(x) = (1+\\sin(x))^x$"
   ]
  },
  {
   "cell_type": "markdown",
   "metadata": {},
   "source": [
    "a) Find $f'(x)$"
   ]
  },
  {
   "cell_type": "markdown",
   "metadata": {},
   "source": [
    "b) Use the limit definition of derivative to find $f'(\\frac{\\pi}{2})$"
   ]
  },
  {
   "cell_type": "markdown",
   "metadata": {},
   "source": [
    "**Exercise 3** Determine if the following function is continuous at $x=\\frac{1}{2}$.\n",
    "\n",
    "$$\n",
    "f(x) = \\left\\{\n",
    "        \\begin{array}{ll}\n",
    "            x^2-2x+2 & ,\\quad x < \\frac{1}{2} \\\\\n",
    "            x^2+2x & ,\\quad x \\geq \\frac{1}{2}\n",
    "        \\end{array}\n",
    "    \\right.\n",
    "$$"
   ]
  },
  {
   "cell_type": "code",
   "execution_count": null,
   "metadata": {
    "collapsed": true
   },
   "outputs": [],
   "source": []
  }
 ],
 "metadata": {
  "kernelspec": {
   "display_name": "Python 3",
   "language": "python",
   "name": "python3"
  },
  "language_info": {
   "codemirror_mode": {
    "name": "ipython",
    "version": 3
   },
   "file_extension": ".py",
   "mimetype": "text/x-python",
   "name": "python",
   "nbconvert_exporter": "python",
   "pygments_lexer": "ipython3",
   "version": "3.6.0"
  }
 },
 "nbformat": 4,
 "nbformat_minor": 2
}
