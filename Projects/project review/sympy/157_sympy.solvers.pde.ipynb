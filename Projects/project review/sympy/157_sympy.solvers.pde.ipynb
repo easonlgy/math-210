{
 "cells": [
  {
   "cell_type": "markdown",
   "metadata": {
    "collapsed": true,
    "deletable": true,
    "editable": true
   },
   "source": [
    "# MATH 210 Introduction to Mathematical Computing\n",
    "\n",
    "## Project I: Solving First Order Linear PDEs using `sympy.solvers.pde`"
   ]
  },
  {
   "cell_type": "markdown",
   "metadata": {
    "deletable": true,
    "editable": true
   },
   "source": [
    "SymPy is one of the core mathematical packages within Python and the subpackage `sympy.solvers.pde` addresses how to separate, classify and solve 3 different types of partial differential equations (PDEs) (see the [documentation](http://docs.sympy.org/latest/modules/solvers/pde.html)):\n",
    "\n",
    "1. First order linear homogeneous PDEs with constant coefficients: \n",
    "$$\n",
    "a \\frac{d}{dx} f(x,y) + b \\frac{d}{dy} f(x,y) + cf(x,y) = 0\n",
    "$$\n",
    "where $a,b$ and $c$ are constants.\n",
    "\n",
    "2. First order linear PDEs with constant coefficients:\n",
    "$$\n",
    "a \\frac{d}{dx} f(x,y) + b \\frac{d}{dy} f(x,y) + cf(x,y) = G(x,y)\n",
    "$$\n",
    "where $a,b$ and $c$ are constants and $G(x,y)$ can be an arbitrary function in $x$ and $y$.\n",
    "\n",
    "3. First order linear PDEs with variable coefficients:\n",
    "$$\n",
    "a(x,y) \\frac{d}{dx} f(x,y) + b(x,y) \\frac{d}{dy} f(x,y) + c(x,y)f(x,y) = G(x,y)\n",
    "$$\n",
    "where $a(x,y), b(x,y), c(x,y)$ and $G(x,y)$ are arbitrary functions in $x$ and $y$."
   ]
  },
  {
   "cell_type": "markdown",
   "metadata": {
    "deletable": true,
    "editable": true
   },
   "source": [
    "Our goal in this notebook is to explore three functions in the subpackage `sympy.solvers.pde` which solve **partial differential equations**.\n",
    "\n",
    "By the end of the notebook, the reader will be able to classify and separate partial differential equations, as well as implement the following functions to solve in order to solve first order linear partial differential equations:\n",
    "* `sympy.solvers.pde.pde_1st_linear_constant_coeff_homogeneous`\n",
    "* `sympy.solvers.pde.pde_1st_linear_constant_coeff`\n",
    "* `sympy.solvers.pde.pde_1st_linear_variable_coeff`\n",
    "\n"
   ]
  },
  {
   "cell_type": "markdown",
   "metadata": {
    "deletable": true,
    "editable": true
   },
   "source": [
    "## Contents\n",
    "\n",
    "1. Notation\n",
    "2. Separating PDEs: `sympy.solvers.pde.pde_separate`\n",
    "3. Solving PDEs: introduction to `pdsolve`\n",
    "4. Classifying PDEs: `sympy.solvers.pde.classify_pde`\n",
    "5. Solving PDEs: implementing various functions\n",
    "    * Examples\n",
    "    * `checkpdesol`\n",
    "    * `sympy.solvers.pde.pde_1st_linear_constant_coeff_homogeneous`\n",
    "    * `sympy.solvers.pde.pde_1st_linear_constant_coeff`\n",
    "    * `sympy.solvers.pde.pde_1st_linear_variable_coeff`\n",
    "        * `dsolve`"
   ]
  },
  {
   "cell_type": "markdown",
   "metadata": {
    "deletable": true,
    "editable": true
   },
   "source": [
    "## 1. Notation\n",
    "\n",
    "Throughout this notebook, I will denote $$ \\frac{d}{dx} u(x,t) \\ \\ \\text{and} \\ \\ \\frac{d}{dt} u(x,t) $$ ie. the partial derivatives of $u$ with respect to $x$ and $t$, as $u_x$ and $u_t$ respectively.\n",
    "\n",
    "Additionally, the second partial derivatives of $u$ with repsect to $x$ and $t$ respectively will be given by: $u_{xx} \\ \\ \\text{and} \\ \\ u_{tt}$.\n",
    "\n",
    "In cases where the equations are in terms of $f(x,y)$, we assume that $u = f(x,y)$.\n",
    "\n",
    "When defining our equation, we rearrange it so that all the terms are on one side of the equation and other side equals 0."
   ]
  },
  {
   "cell_type": "markdown",
   "metadata": {
    "deletable": true,
    "editable": true
   },
   "source": [
    "## 2. Separating PDEs: `sympy.solvers.pde.pde_separate`"
   ]
  },
  {
   "cell_type": "markdown",
   "metadata": {
    "deletable": true,
    "editable": true
   },
   "source": [
    "Separating PDEs can be done in two ways: using **addition** or **multiplication**. Both simply try to separate the differential equation so that one variable lies on one side of the equation and the other variable on the other, provided the PDE only depends on two variables.\n",
    "\n",
    "`pde_separate` takes 4 input parameters:\n",
    "* **`eq`** (partial differential equation)\n",
    "* **`fun`** (original function $F(x,y,z)$)\n",
    "* **`sep`** (list of separated functions $[u(x,y),Z(z)]$)\n",
    "* **`strategy`** (separation stragegy - either 'add' or 'mul' depending on the chosen approach)\n",
    "\n",
    "and returns the equation fully separated according to whether it was separated using the addition or multiplication approach."
   ]
  },
  {
   "cell_type": "markdown",
   "metadata": {
    "collapsed": true,
    "deletable": true,
    "editable": true
   },
   "source": [
    "#### Example 2.1\n",
    "\n",
    "We will separate the equation\n",
    "\n",
    "$$\n",
    "3u_x = 8e^u u_t\n",
    "$$\n",
    "\n",
    "using the **addition** approach:\n",
    "\n",
    "$$\n",
    "u(x,t) = X(x) + T(t)\n",
    "$$"
   ]
  },
  {
   "cell_type": "code",
   "execution_count": 25,
   "metadata": {
    "collapsed": true,
    "deletable": true,
    "editable": true
   },
   "outputs": [],
   "source": [
    "from sympy import E, Eq, Function, pde_separate, Derivative as D\n",
    "from sympy.abc import x, t\n",
    "u, X, T = map(Function, 'uXT')"
   ]
  },
  {
   "cell_type": "code",
   "execution_count": 26,
   "metadata": {
    "collapsed": false,
    "deletable": true,
    "editable": true
   },
   "outputs": [
    {
     "data": {
      "text/plain": [
       "[exp(-X(x))*Derivative(X(x), x), 8*exp(T(t))*Derivative(T(t), t)/3]"
      ]
     },
     "execution_count": 26,
     "metadata": {},
     "output_type": "execute_result"
    }
   ],
   "source": [
    "eq = Eq(3*D(u(x, t), x), 8*E**(u(x, t))*D(u(x, t), t))\n",
    "pde_separate(eq, u(x, t), [X(x), T(t)], strategy='add')"
   ]
  },
  {
   "cell_type": "markdown",
   "metadata": {
    "deletable": true,
    "editable": true
   },
   "source": [
    "We have obtained the separation as follows:\n",
    "$$\n",
    "u_x = X'(x) \\ \\text{and} \\ u_t = T'(t)\n",
    "$$\n",
    "\n",
    "\n",
    "$$\n",
    "3X'(x) = 8e^{X(x) + T(t)}T'(t)\n",
    "$$\n",
    "\n",
    "\n",
    "$$\n",
    "3X'(x) = 8e^{X(x)}e^{T(t)}T'(t)\n",
    "$$\n",
    "\n",
    "\n",
    "$$\n",
    "e^{-X(x)}X'(x) = \\frac{8}{3}e^{T(t)}T'(t)\n",
    "$$\n",
    "\n",
    "as given by our output of `[exp(-X(x))*Derivative(X(x), x), 8*exp(T(t))*Derivative(T(t), t)/3]`, which displays either side of the equation separated by a comma as a list."
   ]
  },
  {
   "cell_type": "markdown",
   "metadata": {
    "deletable": true,
    "editable": true
   },
   "source": [
    "#### Example 2.2\n",
    "\n",
    "We will separate the equation $$u_{xx} + u = 5u_{t}$$\n",
    "\n",
    "using the **multiplication** approach:\n",
    "$$u(x,t) = X(x)T(t)$$"
   ]
  },
  {
   "cell_type": "code",
   "execution_count": 27,
   "metadata": {
    "collapsed": false,
    "deletable": true,
    "editable": true
   },
   "outputs": [
    {
     "data": {
      "text/plain": [
       "[1 + Derivative(X(x), x, x)/X(x), 5*Derivative(T(t), t)/T(t)]"
      ]
     },
     "execution_count": 27,
     "metadata": {},
     "output_type": "execute_result"
    }
   ],
   "source": [
    "eq = Eq(D(u(x, t), x, 2) + u(x,t), D(5*u(x, t), t))\n",
    "pde_separate(eq, u(x, t), [X(x), T(t)], strategy='mul')"
   ]
  },
  {
   "cell_type": "markdown",
   "metadata": {
    "deletable": true,
    "editable": true
   },
   "source": [
    "We have obtained the separation as follows:\n",
    "\n",
    "$$\n",
    "u_{xx} = X''(x)T(t) \\ \\text{and} \\ u_{t} = X(x)T'(t)\n",
    "$$\n",
    "\n",
    "\n",
    "$$\n",
    "X''(x)T(t) + X(x)T(t) = 5X(x)T'(t)\n",
    "$$\n",
    "\n",
    "\n",
    "$$\n",
    "\\frac{X''(x) + X(x)}{X(x)} = \\frac{5T'(t)}{T(t)}\n",
    "$$\n",
    "\n",
    "$$\n",
    "1 + \\frac{X''(x)}{X(x)} = \\frac{5T'(t)}{T(t)}\n",
    "$$\n",
    "\n",
    "as given by our output of `[1 + Derivative(X(x), x, x)/X(x), 5*Derivative(T(t), t)/T(t)]`, which again displays either side of the equation as a list."
   ]
  },
  {
   "cell_type": "markdown",
   "metadata": {
    "deletable": true,
    "editable": true
   },
   "source": [
    "Equivalently, for each of our examples above, there exists the SymPy functions `pde_separate_add` and `pde_separate_mul` which return the same outputs as above:"
   ]
  },
  {
   "cell_type": "code",
   "execution_count": 28,
   "metadata": {
    "collapsed": true,
    "deletable": true,
    "editable": true
   },
   "outputs": [],
   "source": [
    "from sympy import pde_separate_add\n",
    "from sympy import pde_separate_mul"
   ]
  },
  {
   "cell_type": "code",
   "execution_count": 29,
   "metadata": {
    "collapsed": false,
    "deletable": true,
    "editable": true
   },
   "outputs": [
    {
     "data": {
      "text/plain": [
       "[exp(-X(x))*Derivative(X(x), x), 8*exp(T(t))*Derivative(T(t), t)/3]"
      ]
     },
     "execution_count": 29,
     "metadata": {},
     "output_type": "execute_result"
    }
   ],
   "source": [
    "eq = Eq(3*D(u(x, t), x), 8*E**(u(x, t))*D(u(x, t), t))\n",
    "pde_separate_add(eq, u(x, t), [X(x), T(t)])"
   ]
  },
  {
   "cell_type": "code",
   "execution_count": 30,
   "metadata": {
    "collapsed": false,
    "deletable": true,
    "editable": true
   },
   "outputs": [
    {
     "data": {
      "text/plain": [
       "[1 + Derivative(X(x), x, x)/X(x), 5*Derivative(T(t), t)/T(t)]"
      ]
     },
     "execution_count": 30,
     "metadata": {},
     "output_type": "execute_result"
    }
   ],
   "source": [
    "eq = Eq(D(u(x, t), x, 2) + u(x,t), D(5*u(x, t), t))\n",
    "pde_separate_mul(eq, u(x, t), [X(x), T(t)])"
   ]
  },
  {
   "cell_type": "markdown",
   "metadata": {
    "deletable": true,
    "editable": true
   },
   "source": [
    "We can time these different methods of separating PDEs to see which processes the fastest... let's go!"
   ]
  },
  {
   "cell_type": "code",
   "execution_count": 27,
   "metadata": {
    "collapsed": false,
    "deletable": true,
    "editable": true
   },
   "outputs": [
    {
     "name": "stdout",
     "output_type": "stream",
     "text": [
      "10000000 loops, best of 3: 24 ns per loop\n"
     ]
    }
   ],
   "source": [
    "%timeit pde_separate_add"
   ]
  },
  {
   "cell_type": "code",
   "execution_count": 28,
   "metadata": {
    "collapsed": false,
    "deletable": true,
    "editable": true
   },
   "outputs": [
    {
     "name": "stdout",
     "output_type": "stream",
     "text": [
      "10000000 loops, best of 3: 21.6 ns per loop\n"
     ]
    }
   ],
   "source": [
    "%timeit pde_separate_mul"
   ]
  },
  {
   "cell_type": "markdown",
   "metadata": {
    "deletable": true,
    "editable": true
   },
   "source": [
    "Having tested them both multiple times, `pde_separate_mul` appears to be faster in computing the separation of these 2 PDEs."
   ]
  },
  {
   "cell_type": "markdown",
   "metadata": {
    "deletable": true,
    "editable": true
   },
   "source": [
    "## 3. Solving PDEs: introduction to `pdsolve`"
   ]
  },
  {
   "cell_type": "markdown",
   "metadata": {
    "deletable": true,
    "editable": true
   },
   "source": [
    "`pdsolve` allows us to solve all kinds of partial differential equations. It can take 4 input parameters:\n",
    "* `eq` is the supported PDE of any type.\n",
    "* `f(x,y)` is a function of 2 variables $x$ and $y$ that gives us our PDE with its derivatives. In many cases, the function is automatically detected and therefore it is an optional parameter.\n",
    "* `hint` is simply the method we want to use to solve our PDE. For example, if we use `classify_pde(eq,f(x,y))`, we will have all the possible hints that are available for our particular partial differential equation. The default hint is just 'default' and this will use whichever is returned first by classify_pde().\n",
    "* `solvefun` is set by default to be F if we do not choose the value. This is the convention used for arbitrary functions returned by the solver."
   ]
  },
  {
   "cell_type": "markdown",
   "metadata": {
    "deletable": true,
    "editable": true
   },
   "source": [
    "There are 3 possible options for 'hint':\n",
    "1. As explained above, 'default' returns the first hint returned by classify_pde().\n",
    "2. Setting `hint` equal to 'all' returns a dictionary of possible solution terms. However, if a hint causes `pdsolve` to print 'NotImplementedError', then the value of this hint's key is the exception object raised. The dictionary may also include some special keys:\n",
    "    (a) 'order' gives us the order of the PDE\n",
    "    (b) 'default' gives us the solution that would have been returned had our original hint been left at 'default'.\n",
    "3. 'all_integral' is the same as 'all' apart from the fact that it will only return the 'all_integral' hint. This is particularly helpful if the integral required to solve the PDE is difficult or impossible and just using 'all' would cause `pdsolve` to stop.\n"
   ]
  },
  {
   "cell_type": "markdown",
   "metadata": {
    "deletable": true,
    "editable": true
   },
   "source": [
    "#### Example 3.1"
   ]
  },
  {
   "cell_type": "markdown",
   "metadata": {
    "deletable": true,
    "editable": true
   },
   "source": [
    "Let's solve the PDE\n",
    "$$\n",
    "4 + \\frac{5}{3} \\frac{u_x}{u} + 7 \\frac{u_y}{u} = 0\n",
    "$$"
   ]
  },
  {
   "cell_type": "code",
   "execution_count": 31,
   "metadata": {
    "collapsed": true,
    "deletable": true,
    "editable": true
   },
   "outputs": [],
   "source": [
    "from sympy.solvers.pde import pdsolve\n",
    "from sympy import Function, diff, Eq\n",
    "from sympy.abc import x, y"
   ]
  },
  {
   "cell_type": "code",
   "execution_count": 32,
   "metadata": {
    "collapsed": false,
    "deletable": true,
    "editable": true
   },
   "outputs": [
    {
     "data": {
      "text/plain": [
       "Eq(f(x, y), F(7*x - 1.66666666666667*y)*exp(-0.128755364806867*x - 0.540772532188841*y))"
      ]
     },
     "execution_count": 32,
     "metadata": {},
     "output_type": "execute_result"
    }
   ],
   "source": [
    "f = Function('f')\n",
    "u = f(x, y)\n",
    "ux = u.diff(x)\n",
    "uy = u.diff(y)\n",
    "eq = Eq(4 + (5/3)*(ux/u) + 7*(uy)/u)\n",
    "pdsolve(eq)"
   ]
  },
  {
   "cell_type": "markdown",
   "metadata": {
    "deletable": true,
    "editable": true
   },
   "source": [
    "We have successfully implemented `pdsolve` and obtained the answer\n",
    "$$\n",
    "f(x,y) = F(7x - \\frac{5}{3} y)e^{\\frac{-30}{233}x - \\frac{126}{233}y}\n",
    "$$\n",
    "\n",
    "where $F$ is an arbitrary function of $7x - \\frac{5}{3}y$."
   ]
  },
  {
   "cell_type": "markdown",
   "metadata": {
    "deletable": true,
    "editable": true
   },
   "source": [
    "## 4. Classifying PDEs: `sympy.solvers.pde.classify_pde`"
   ]
  },
  {
   "cell_type": "markdown",
   "metadata": {
    "deletable": true,
    "editable": true
   },
   "source": [
    "There are 3 different types of PDEs that this function can recognise:\n",
    "* 1st order linear homoegenous PDEs with constant coefficients\n",
    "* 1st order linear PDEs with constant coefficients\n",
    "* 1st order linear PDEs with variable coefficients"
   ]
  },
  {
   "cell_type": "markdown",
   "metadata": {
    "deletable": true,
    "editable": true
   },
   "source": [
    "The `classify_pde` function returns a tuple of possible classifications for a given PDE."
   ]
  },
  {
   "cell_type": "code",
   "execution_count": 33,
   "metadata": {
    "collapsed": true,
    "deletable": true,
    "editable": true
   },
   "outputs": [],
   "source": [
    "from sympy.solvers.pde import classify_pde"
   ]
  },
  {
   "cell_type": "markdown",
   "metadata": {
    "deletable": true,
    "editable": true
   },
   "source": [
    "#### Example 4.1\n",
    "\n",
    "Let's classify the following PDE:\n",
    "\n",
    "$$\n",
    "4u_x + 5 = 3u_t\n",
    "$$"
   ]
  },
  {
   "cell_type": "code",
   "execution_count": 34,
   "metadata": {
    "collapsed": false,
    "deletable": true,
    "editable": true
   },
   "outputs": [
    {
     "data": {
      "text/plain": [
       "('1st_linear_constant_coeff', '1st_linear_constant_coeff_Integral')"
      ]
     },
     "execution_count": 34,
     "metadata": {},
     "output_type": "execute_result"
    }
   ],
   "source": [
    "f = Function('f')\n",
    "u = f(x, y)\n",
    "ux = u.diff(x)\n",
    "ut = u.diff(t)\n",
    "eq = Eq(4*ux + 5 - 3*ut)\n",
    "classify_pde(eq)"
   ]
  },
  {
   "cell_type": "markdown",
   "metadata": {
    "deletable": true,
    "editable": true
   },
   "source": [
    "This means that the most likely classification for this PDE is '1st order linear PDE with constant coefficients' and this will be the deafult classification."
   ]
  },
  {
   "cell_type": "markdown",
   "metadata": {
    "deletable": true,
    "editable": true
   },
   "source": [
    "## 5. Solving PDEs: implementing various functions"
   ]
  },
  {
   "cell_type": "markdown",
   "metadata": {
    "deletable": true,
    "editable": true
   },
   "source": [
    "#### Example 5.1"
   ]
  },
  {
   "cell_type": "markdown",
   "metadata": {
    "deletable": true,
    "editable": true
   },
   "source": [
    "Using `pdsolve`, we can only solve first order partial differential equations.\n",
    "\n",
    "We will prove this by attempting to solve the first order heat equation\n",
    "\n",
    "$$\n",
    "u_x = u_{tt}\n",
    "$$\n",
    "\n",
    "and see that this builtin function cannot solve this equation."
   ]
  },
  {
   "cell_type": "code",
   "execution_count": 35,
   "metadata": {
    "collapsed": true,
    "deletable": true,
    "editable": true
   },
   "outputs": [],
   "source": [
    "from sympy import E, Eq, Function, pdsolve, Derivative as D\n",
    "from sympy.abc import x, t"
   ]
  },
  {
   "cell_type": "code",
   "execution_count": 36,
   "metadata": {
    "collapsed": false,
    "deletable": true,
    "editable": true
   },
   "outputs": [
    {
     "ename": "NotImplementedError",
     "evalue": "psolve: Cannot solve Derivative(f(x, t), x) - Derivative(f(x, t), t, t)",
     "output_type": "error",
     "traceback": [
      "\u001b[0;31m---------------------------------------------------------------------------\u001b[0m",
      "\u001b[0;31mNotImplementedError\u001b[0m                       Traceback (most recent call last)",
      "\u001b[0;32m<ipython-input-36-e39e8478e71b>\u001b[0m in \u001b[0;36m<module>\u001b[0;34m()\u001b[0m\n\u001b[1;32m      1\u001b[0m \u001b[0mf\u001b[0m \u001b[0;34m=\u001b[0m \u001b[0mFunction\u001b[0m\u001b[0;34m(\u001b[0m\u001b[0;34m'f'\u001b[0m\u001b[0;34m)\u001b[0m\u001b[0;34m\u001b[0m\u001b[0m\n\u001b[0;32m----> 2\u001b[0;31m \u001b[0mpdsolve\u001b[0m\u001b[0;34m(\u001b[0m\u001b[0mf\u001b[0m\u001b[0;34m(\u001b[0m\u001b[0mx\u001b[0m\u001b[0;34m,\u001b[0m\u001b[0mt\u001b[0m\u001b[0;34m)\u001b[0m\u001b[0;34m.\u001b[0m\u001b[0mdiff\u001b[0m\u001b[0;34m(\u001b[0m\u001b[0mx\u001b[0m\u001b[0;34m)\u001b[0m \u001b[0;34m-\u001b[0m \u001b[0;34m(\u001b[0m\u001b[0mf\u001b[0m\u001b[0;34m(\u001b[0m\u001b[0mx\u001b[0m\u001b[0;34m,\u001b[0m\u001b[0mt\u001b[0m\u001b[0;34m)\u001b[0m\u001b[0;34m.\u001b[0m\u001b[0mdiff\u001b[0m\u001b[0;34m(\u001b[0m\u001b[0mt\u001b[0m\u001b[0;34m)\u001b[0m\u001b[0;34m)\u001b[0m\u001b[0;34m.\u001b[0m\u001b[0mdiff\u001b[0m\u001b[0;34m(\u001b[0m\u001b[0mt\u001b[0m\u001b[0;34m)\u001b[0m\u001b[0;34m)\u001b[0m\u001b[0;34m\u001b[0m\u001b[0m\n\u001b[0m",
      "\u001b[0;32m/opt/conda/lib/python3.5/site-packages/sympy/solvers/pde.py\u001b[0m in \u001b[0;36mpdsolve\u001b[0;34m(eq, func, hint, dict, solvefun, **kwargs)\u001b[0m\n\u001b[1;32m    171\u001b[0m     \u001b[0;31m# See the docstring of _desolve for more details.\u001b[0m\u001b[0;34m\u001b[0m\u001b[0;34m\u001b[0m\u001b[0m\n\u001b[1;32m    172\u001b[0m     hints = _desolve(eq, func=func,\n\u001b[0;32m--> 173\u001b[0;31m         hint=hint, simplify=True, type='pde', **kwargs)\n\u001b[0m\u001b[1;32m    174\u001b[0m     \u001b[0meq\u001b[0m \u001b[0;34m=\u001b[0m \u001b[0mhints\u001b[0m\u001b[0;34m.\u001b[0m\u001b[0mpop\u001b[0m\u001b[0;34m(\u001b[0m\u001b[0;34m'eq'\u001b[0m\u001b[0;34m,\u001b[0m \u001b[0;32mFalse\u001b[0m\u001b[0;34m)\u001b[0m\u001b[0;34m\u001b[0m\u001b[0m\n\u001b[1;32m    175\u001b[0m     \u001b[0mall_\u001b[0m \u001b[0;34m=\u001b[0m \u001b[0mhints\u001b[0m\u001b[0;34m.\u001b[0m\u001b[0mpop\u001b[0m\u001b[0;34m(\u001b[0m\u001b[0;34m'all'\u001b[0m\u001b[0;34m,\u001b[0m \u001b[0;32mFalse\u001b[0m\u001b[0;34m)\u001b[0m\u001b[0;34m\u001b[0m\u001b[0m\n",
      "\u001b[0;32m/opt/conda/lib/python3.5/site-packages/sympy/solvers/deutils.py\u001b[0m in \u001b[0;36m_desolve\u001b[0;34m(eq, func, hint, ics, simplify, **kwargs)\u001b[0m\n\u001b[1;32m    233\u001b[0m             \u001b[0;32mraise\u001b[0m \u001b[0mValueError\u001b[0m\u001b[0;34m(\u001b[0m\u001b[0mstring\u001b[0m \u001b[0;34m+\u001b[0m \u001b[0mstr\u001b[0m\u001b[0;34m(\u001b[0m\u001b[0meq\u001b[0m\u001b[0;34m)\u001b[0m \u001b[0;34m+\u001b[0m \u001b[0;34m\" does not match hint \"\u001b[0m \u001b[0;34m+\u001b[0m \u001b[0mhint\u001b[0m\u001b[0;34m)\u001b[0m\u001b[0;34m\u001b[0m\u001b[0m\n\u001b[1;32m    234\u001b[0m         \u001b[0;32melse\u001b[0m\u001b[0;34m:\u001b[0m\u001b[0;34m\u001b[0m\u001b[0m\n\u001b[0;32m--> 235\u001b[0;31m             \u001b[0;32mraise\u001b[0m \u001b[0mNotImplementedError\u001b[0m\u001b[0;34m(\u001b[0m\u001b[0mdummy\u001b[0m \u001b[0;34m+\u001b[0m \u001b[0;34m\"solve\"\u001b[0m \u001b[0;34m+\u001b[0m \u001b[0;34m\": Cannot solve \"\u001b[0m \u001b[0;34m+\u001b[0m \u001b[0mstr\u001b[0m\u001b[0;34m(\u001b[0m\u001b[0meq\u001b[0m\u001b[0;34m)\u001b[0m\u001b[0;34m)\u001b[0m\u001b[0;34m\u001b[0m\u001b[0m\n\u001b[0m\u001b[1;32m    236\u001b[0m     \u001b[0;32mif\u001b[0m \u001b[0mhint\u001b[0m \u001b[0;34m==\u001b[0m \u001b[0;34m'default'\u001b[0m\u001b[0;34m:\u001b[0m\u001b[0;34m\u001b[0m\u001b[0m\n\u001b[1;32m    237\u001b[0m         return _desolve(eq, func, ics=ics, hint=hints['default'], simplify=simplify,\n",
      "\u001b[0;31mNotImplementedError\u001b[0m: psolve: Cannot solve Derivative(f(x, t), x) - Derivative(f(x, t), t, t)"
     ]
    }
   ],
   "source": [
    "f = Function('f')\n",
    "pdsolve(f(x,t).diff(x) - (f(x,t).diff(t)).diff(t))"
   ]
  },
  {
   "cell_type": "markdown",
   "metadata": {
    "deletable": true,
    "editable": true
   },
   "source": [
    "As expected, we cannot solve the first order heat equation."
   ]
  },
  {
   "cell_type": "markdown",
   "metadata": {
    "collapsed": true,
    "deletable": true,
    "editable": true
   },
   "source": [
    "#### Example 5.2\n",
    "\n",
    "We will now try and solve a simple first order PDE:\n",
    "\n",
    "$$\n",
    "2u_x + u_y = 2y\n",
    "$$"
   ]
  },
  {
   "cell_type": "code",
   "execution_count": 37,
   "metadata": {
    "collapsed": false,
    "deletable": true,
    "editable": true
   },
   "outputs": [
    {
     "data": {
      "text/plain": [
       "Eq(f(x, y), -4*x**2/25 + 16*x*y/25 + 9*y**2/25 + F(x - 2*y))"
      ]
     },
     "execution_count": 37,
     "metadata": {},
     "output_type": "execute_result"
    }
   ],
   "source": [
    "f=Function('f')\n",
    "u=f(x,y)\n",
    "ux = u.diff(x)\n",
    "uy = u.diff(y)\n",
    "pdsolve(2*ux + uy - 2*y)"
   ]
  },
  {
   "cell_type": "markdown",
   "metadata": {
    "collapsed": true,
    "deletable": true,
    "editable": true
   },
   "source": [
    "We have obtained the solution $u(x,y) = -\\frac{4}{25}x^2 + \\frac{16}{25}xy + \\frac{9}{25}y^2 + F(x-2y)$."
   ]
  },
  {
   "cell_type": "markdown",
   "metadata": {
    "deletable": true,
    "editable": true
   },
   "source": [
    "In order to check our solution, we differentiate $u$ as follows:\n",
    "$$\n",
    "u_x = -\\frac{8}{25}x + \\frac{16}{25}y + F(x-2y) \\ \\ \\text{and} \\ \\ u_y = \\frac{16}{25}x + \\frac{18}{25}y - 2F(x-2y)\n",
    "$$\n",
    "\n",
    "$$\n",
    "2u_x + u_y = -\\frac{16}{25}x + \\frac{16}{25}x + \\frac{32}{25}y + \\frac{18}{25}y + 2F(x-2y) - 2F(x-2y) = \\frac{50}{25}y = 2y\n",
    "$$\n",
    "\n",
    "Therefore our equation is satisfied and $u(x,y) = -\\frac{4}{25}x^2 + \\frac{16}{25}xy + \\frac{9}{25}y^2 + F(x-2y)$ is indeed the solution."
   ]
  },
  {
   "cell_type": "markdown",
   "metadata": {
    "deletable": true,
    "editable": true
   },
   "source": [
    "### `checkpdesol`"
   ]
  },
  {
   "cell_type": "markdown",
   "metadata": {
    "deletable": true,
    "editable": true
   },
   "source": [
    "Another method of checking our answer satisfies the original equation is the built in function `checkpdesol`.\n",
    "\n",
    "Using the same example as above we demonstrate the use of `checkpdesol`:"
   ]
  },
  {
   "cell_type": "code",
   "execution_count": 38,
   "metadata": {
    "collapsed": true,
    "deletable": true,
    "editable": true
   },
   "outputs": [],
   "source": [
    "from sympy.solvers.pde import checkpdesol"
   ]
  },
  {
   "cell_type": "code",
   "execution_count": 39,
   "metadata": {
    "collapsed": false,
    "deletable": true,
    "editable": true
   },
   "outputs": [
    {
     "data": {
      "text/plain": [
       "(True, 0)"
      ]
     },
     "execution_count": 39,
     "metadata": {},
     "output_type": "execute_result"
    }
   ],
   "source": [
    "f = Function('f')\n",
    "u = f(x,y)\n",
    "ux = u.diff(x)\n",
    "uy = u.diff(y)\n",
    "eq = 2*ux + uy - 2*y\n",
    "sol = pdsolve(eq)\n",
    "assert checkpdesol(eq, sol)\n",
    "checkpdesol(eq,sol)"
   ]
  },
  {
   "cell_type": "markdown",
   "metadata": {
    "deletable": true,
    "editable": true
   },
   "source": [
    "The returned tuple gives us that the answer is indeed a solution, given by 'True'.\n",
    "If instead `checkpdesol` returned 'False', instead of 0 as the second element in the tuple, we would see the expression obtained when substituting our answer into the given equation. For example, if we add an extra equation and check if our previous answer is also a solution for this equation:"
   ]
  },
  {
   "cell_type": "code",
   "execution_count": 40,
   "metadata": {
    "collapsed": false,
    "deletable": true,
    "editable": true
   },
   "outputs": [
    {
     "data": {
      "text/plain": [
       "(False,\n",
       " -47*x/25 - 56*y/25 + 9*Subs(Derivative(F(_xi_1), _xi_1), (_xi_1,), (x - 2*y,)))"
      ]
     },
     "execution_count": 40,
     "metadata": {},
     "output_type": "execute_result"
    }
   ],
   "source": [
    "f = Function('f')\n",
    "u = f(x,y)\n",
    "ux = u.diff(x)\n",
    "uy = u.diff(y)\n",
    "eq = 2*ux + uy - 2*y\n",
    "sol = pdsolve(eq)\n",
    "assert checkpdesol(eq, sol)\n",
    "eq = ux - 4*uy + x\n",
    "checkpdesol(eq, sol)"
   ]
  },
  {
   "cell_type": "markdown",
   "metadata": {
    "deletable": true,
    "editable": true
   },
   "source": [
    "We obtain that our solution does not satisfy the equation $u_x - 4u_y + x$ and instead when substituted in, returns\n",
    "$$\n",
    "-\\frac{47}{25}x - \\frac{56}{25} y + 9F(x-2y)\n",
    "$$\n",
    "\n",
    "as given by `-47*x/25 - 56*y/25 + 9*Subs(Derivative(F(_xi_1), _xi_1), (_xi_1,), (x - 2*y,))`."
   ]
  },
  {
   "cell_type": "markdown",
   "metadata": {
    "deletable": true,
    "editable": true
   },
   "source": [
    "### `sympy.solvers.pde.pde_1st_linear_constant_coeff_homogeneous`"
   ]
  },
  {
   "cell_type": "markdown",
   "metadata": {
    "deletable": true,
    "editable": true
   },
   "source": [
    "Using `classify_pde` tells us what type of PDE we are trying to solve, which makes solving it much easier, because we can then implement a specific function which makes solving it even easier."
   ]
  },
  {
   "cell_type": "markdown",
   "metadata": {
    "deletable": true,
    "editable": true
   },
   "source": [
    "First order linear homogeneous PDEs with constant coefficients have the following form: \n",
    "$$\n",
    "a \\frac{d}{dx} f(x,y) + b \\frac{d}{dy} f(x,y) + cf(x,y) = 0\n",
    "$$\n",
    "where $a,b$ and $c$ are constants.\n",
    "\n",
    "The general solution is of the form:\n",
    "\n",
    "$$\n",
    "e^{\\frac{-c(ax+by)}{a^2 + b^2}}F(bx-ay)\n",
    "$$ \n",
    "\n",
    "where $F$ is an arbitrary function of $bx-ay$, as shown below:"
   ]
  },
  {
   "cell_type": "code",
   "execution_count": 41,
   "metadata": {
    "collapsed": true,
    "deletable": true,
    "editable": true
   },
   "outputs": [],
   "source": [
    "from sympy.abc import a,b,c\n",
    "from sympy import pprint"
   ]
  },
  {
   "cell_type": "code",
   "execution_count": 42,
   "metadata": {
    "collapsed": false,
    "deletable": true,
    "editable": true
   },
   "outputs": [
    {
     "name": "stdout",
     "output_type": "stream",
     "text": [
      "  ∂               ∂                      \n",
      "a⋅──(f(x, y)) + b⋅──(f(x, y)) + c⋅f(x, y)\n",
      "  ∂x              ∂y                     \n"
     ]
    }
   ],
   "source": [
    "f = Function('f')\n",
    "u = f(x,y)\n",
    "ux = u.diff(x)\n",
    "uy = u.diff(y)\n",
    "genform = a*ux + b*uy + c*u\n",
    "pprint(genform)"
   ]
  },
  {
   "cell_type": "code",
   "execution_count": 43,
   "metadata": {
    "collapsed": false,
    "deletable": true,
    "editable": true
   },
   "outputs": [
    {
     "name": "stdout",
     "output_type": "stream",
     "text": [
      "                         -c⋅(a⋅x + b⋅y) \n",
      "                         ───────────────\n",
      "                              2    2    \n",
      "                             a  + b     \n",
      "f(x, y) = F(-a⋅y + b⋅x)⋅ℯ               \n"
     ]
    }
   ],
   "source": [
    "pprint(pdsolve(genform))"
   ]
  },
  {
   "cell_type": "markdown",
   "metadata": {
    "deletable": true,
    "editable": true
   },
   "source": [
    "#### Example 5.3\n",
    "\n",
    "Let's solve $27u_x + 13u_y + 4u = 0$.\n",
    "\n",
    "From the general form, we expect the answer to equal $$u(x,y) = e^{\\frac{-4(27x+13y)}{27^2 + 13^2}}F(13x-27y) = e^{\\frac{-54x - 26y}{449}}F(13x-27y)$$"
   ]
  },
  {
   "cell_type": "code",
   "execution_count": 44,
   "metadata": {
    "collapsed": false,
    "deletable": true,
    "editable": true
   },
   "outputs": [
    {
     "data": {
      "text/plain": [
       "('1st_linear_constant_coeff_homogeneous',)"
      ]
     },
     "execution_count": 44,
     "metadata": {},
     "output_type": "execute_result"
    }
   ],
   "source": [
    "f = Function('f')\n",
    "u = f(x,y)\n",
    "ux = u.diff(x)\n",
    "uy = u.diff(y)\n",
    "eq = 27*ux + 13*uy + 4*u\n",
    "classify_pde(eq)"
   ]
  },
  {
   "cell_type": "markdown",
   "metadata": {
    "deletable": true,
    "editable": true
   },
   "source": [
    "From this we know that this equation is indeed a first order linear homogenous equation with constant coefficients. We can now solve the equation:"
   ]
  },
  {
   "cell_type": "code",
   "execution_count": 46,
   "metadata": {
    "collapsed": false,
    "deletable": true,
    "editable": true
   },
   "outputs": [
    {
     "data": {
      "text/plain": [
       "Eq(f(x, y), F(13*x - 27*y)*exp(-54*x/449 - 26*y/449))"
      ]
     },
     "execution_count": 46,
     "metadata": {},
     "output_type": "execute_result"
    }
   ],
   "source": [
    "f = Function('f')\n",
    "u = f(x,y)\n",
    "ux = u.diff(x)\n",
    "uy = u.diff(y)\n",
    "eq = 27*ux + 13*uy + 4*u\n",
    "pdsolve(eq)"
   ]
  },
  {
   "cell_type": "code",
   "execution_count": 47,
   "metadata": {
    "collapsed": false,
    "deletable": true,
    "editable": true
   },
   "outputs": [
    {
     "name": "stdout",
     "output_type": "stream",
     "text": [
      "                            54⋅x   26⋅y\n",
      "                          - ──── - ────\n",
      "                            449    449 \n",
      "f(x, y) = F(13⋅x - 27⋅y)⋅ℯ             \n"
     ]
    }
   ],
   "source": [
    "pprint(pdsolve(eq))"
   ]
  },
  {
   "cell_type": "markdown",
   "metadata": {
    "deletable": true,
    "editable": true
   },
   "source": [
    "Which is the answer we expected from the general form."
   ]
  },
  {
   "cell_type": "markdown",
   "metadata": {
    "collapsed": true,
    "deletable": true,
    "editable": true
   },
   "source": [
    "### `sympy.solvers.pde.pde_1st_linear_constant_coeff`"
   ]
  },
  {
   "cell_type": "markdown",
   "metadata": {
    "deletable": true,
    "editable": true
   },
   "source": [
    "First order linear PDEs with constant coefficients have the following form:\n",
    "$$\n",
    "a \\frac{d}{dx} f(x,y) + b \\frac{d}{dy} f(x,y) + cf(x,y) = G(x,y)\n",
    "$$\n",
    "where $a,b$ and $c$ are constants and $G(x,y)$ can be an arbitrary function in $x$ and $y$.\n"
   ]
  },
  {
   "cell_type": "markdown",
   "metadata": {
    "deletable": true,
    "editable": true
   },
   "source": [
    "In this case, it is enough to find the general solution of $$a \\frac{d}{dx} f(x,y) + b \\frac{d}{dy} f(x,y) + cf(x,y) = 0$$ and a particular solution to our original equation and sum the two together."
   ]
  },
  {
   "cell_type": "markdown",
   "metadata": {
    "deletable": true,
    "editable": true
   },
   "source": [
    "As before, we have that the general solution to the homogeneous equation is as follows:\n",
    "$$\n",
    "e^{\\frac{-c(ax+by)}{a^2 + b^2}}F(bx-ay)\n",
    "$$\n",
    "\n",
    "In order to find a particular solution to the inhomogeneous equation, we use the method of characteristics by changing the variables in the equation.\n",
    "\n",
    "Our change of coordinates is given by:\n",
    "$$\n",
    "\\xi = ax + by\n",
    "$$\n",
    "$$\n",
    "\\eta = bx - ay\n",
    "$$\n",
    "\n",
    "This gives us that:\n",
    "$$\n",
    "u_x = u_{\\xi} \\frac{\\partial \\xi}{\\partial x} + u_{\\eta} \\frac{\\partial \\eta}{\\partial x} = au_{\\xi} + bu_{\\eta}\n",
    "$$\n",
    "$$\n",
    "u_y = u_{\\xi} \\frac{\\partial \\xi}{\\partial y} + u_{\\eta} \\frac{\\partial \\eta}{\\partial y} = bu_{\\xi} - au_{\\eta}\n",
    "$$"
   ]
  },
  {
   "cell_type": "markdown",
   "metadata": {
    "deletable": true,
    "editable": true
   },
   "source": [
    "And so:\n",
    "\n",
    "$$\n",
    "au_x + bu_y = a(au_{\\xi} + bu_{\\eta}) + b(bu_{\\xi} - au_{\\eta}) = a^2u_{\\xi} + b^2u_{\\xi} + abu_{\\eta} - abu_{\\eta} = (a^2 + b^2)u_{\\xi}\n",
    "$$"
   ]
  },
  {
   "cell_type": "markdown",
   "metadata": {
    "deletable": true,
    "editable": true
   },
   "source": [
    "Thus our inhomogeneous equation becomes:\n",
    "\n",
    "$$\n",
    "(a^2 + b^2)u_{\\xi} + cu = G(\\xi,\\eta)\n",
    "$$\n",
    "\n"
   ]
  },
  {
   "cell_type": "markdown",
   "metadata": {
    "deletable": true,
    "editable": true
   },
   "source": [
    "ie. \n",
    "$$\n",
    "u_{\\xi} = \\frac{G(\\xi,\\eta)}{a^2 + b^2} - \\frac{c}{a^2+b^2} u\n",
    "$$"
   ]
  },
  {
   "cell_type": "markdown",
   "metadata": {
    "deletable": true,
    "editable": true
   },
   "source": [
    "Using variation of parameters we obtain that the particular solution is as follows:\n",
    "\n",
    "$$\n",
    "e^{-\\frac{c}{a^2+b^2}\\xi} \\int \\frac{G(\\xi,\\eta)}{a^2 +  b^2} e^{\\frac{c}{a^2+b^2}\\xi} d\\xi\n",
    "$$\n",
    "\n",
    "and therefore the general solution to our inhomogeneous equation is given by:\n",
    "\n",
    "$$\n",
    "u(\\xi,\\eta) = e^{-\\frac{c}{a^2+b^2}\\xi} \\left ( F(\\eta) + \\int \\frac{G(\\xi,\\eta)}{a^2 +  b^2} e^{\\frac{c}{a^2+b^2}\\xi} d\\xi \\right )\n",
    "$$"
   ]
  },
  {
   "cell_type": "markdown",
   "metadata": {
    "deletable": true,
    "editable": true
   },
   "source": [
    "Once we have obtained this solution we can substitute our change of variables back in to find the solution in terms of $x$ and $y$."
   ]
  },
  {
   "cell_type": "markdown",
   "metadata": {
    "deletable": true,
    "editable": true
   },
   "source": [
    "#### Example 5.4\n",
    "\n",
    "Let's solve the equation $5u_x - 6u_y + 3u = e^{2x +y}$.\n",
    "\n",
    "Using our general form, we have that $a=5, b=-6, c=3, G(x,y) = e^{2x+y}, \\xi = 5x - 6y$ and $\\eta = -6x - 5y$.\n",
    "\n",
    "$2x + y = \\frac{4\\xi - 17\\eta}{61}$"
   ]
  },
  {
   "cell_type": "markdown",
   "metadata": {
    "deletable": true,
    "editable": true
   },
   "source": [
    "Therefore we would expect our final solution to be given by\n",
    "$$\n",
    "u(\\xi,\\eta) = e^{-\\frac{3}{61}\\xi} \\left ( F(\\eta) + \\int \\frac{e^{\\frac{4 \\xi - 17 \\eta}{61}}}{61} e^{\\frac{3}{61}\\xi} d\\xi \\right )\n",
    "$$"
   ]
  },
  {
   "cell_type": "markdown",
   "metadata": {
    "deletable": true,
    "editable": true
   },
   "source": [
    "which is simplified to\n",
    "$$\n",
    "u(\\xi,\\eta) = e^{-\\frac{3}{61} \\xi} \\left ( F(\\eta) + \\frac{e^{\\frac{7\\xi - 17\\eta}{61}}}{7} \\right )\n",
    "$$"
   ]
  },
  {
   "cell_type": "markdown",
   "metadata": {
    "deletable": true,
    "editable": true
   },
   "source": [
    "and then\n",
    "$$\n",
    "u(x,y) = e^{\\frac{-15x + 18y}{61}} \\left ( F(-6x-5y) + \\frac{e^\\frac{137x + 43y}{61}}{7} \\right )\n",
    "$$"
   ]
  },
  {
   "cell_type": "markdown",
   "metadata": {
    "deletable": true,
    "editable": true
   },
   "source": [
    "Now let's run our function and check if this is indeed what we obtain. First we classify the PDE:"
   ]
  },
  {
   "cell_type": "code",
   "execution_count": 59,
   "metadata": {
    "collapsed": false,
    "deletable": true,
    "editable": true
   },
   "outputs": [
    {
     "data": {
      "text/plain": [
       "('1st_linear_constant_coeff', '1st_linear_constant_coeff_Integral')"
      ]
     },
     "execution_count": 59,
     "metadata": {},
     "output_type": "execute_result"
    }
   ],
   "source": [
    "f = Function('f')\n",
    "u = f(x,y)\n",
    "ux = u.diff(x)\n",
    "uy = u.diff(y)\n",
    "eq = 5*ux - 6*uy + 3*u - E**(2*x + y)\n",
    "classify_pde(eq)"
   ]
  },
  {
   "cell_type": "markdown",
   "metadata": {
    "deletable": true,
    "editable": true
   },
   "source": [
    "This tells us that the most likely type of equation we have is indeed a first order linear equation with constant coefficients. Now we can solve our equation:"
   ]
  },
  {
   "cell_type": "code",
   "execution_count": 60,
   "metadata": {
    "collapsed": false,
    "deletable": true,
    "editable": true
   },
   "outputs": [
    {
     "data": {
      "text/plain": [
       "Eq(f(x, y), (F(-6*x - 5*y) + exp(65*x/61 - 78*y/61)**(7/13)*exp(102*x/61 + 85*y/61)/7)*exp(-15*x/61 + 18*y/61))"
      ]
     },
     "execution_count": 60,
     "metadata": {},
     "output_type": "execute_result"
    }
   ],
   "source": [
    "pdsolve(eq)"
   ]
  },
  {
   "cell_type": "code",
   "execution_count": 61,
   "metadata": {
    "collapsed": false,
    "deletable": true,
    "editable": true
   },
   "outputs": [
    {
     "name": "stdout",
     "output_type": "stream",
     "text": [
      "          ⎛                              7/13              ⎞               \n",
      "          ⎜                ⎛ 65⋅x   78⋅y⎞      102⋅x   85⋅y⎟               \n",
      "          ⎜                ⎜ ──── - ────⎟      ───── + ────⎟    15⋅x   18⋅y\n",
      "          ⎜                ⎜  61     61 ⎟        61     61 ⎟  - ──── + ────\n",
      "          ⎜                ⎝ℯ           ⎠    ⋅ℯ            ⎟     61     61 \n",
      "f(x, y) = ⎜F(-6⋅x - 5⋅y) + ────────────────────────────────⎟⋅ℯ             \n",
      "          ⎝                               7                ⎠               \n"
     ]
    }
   ],
   "source": [
    "pprint(pdsolve(eq))"
   ]
  },
  {
   "cell_type": "markdown",
   "metadata": {
    "deletable": true,
    "editable": true
   },
   "source": [
    "We have that $\\frac{65}{61}$ multiplied by $\\frac{7}{13}$ and then added to $\\frac{102}{61}$ gives us $\\frac{137}{61}$, as expected for the power of $e$ with respect to $x$, and the same process with give us $\\frac{43}{61}$ for the coefficient of $y$."
   ]
  },
  {
   "cell_type": "markdown",
   "metadata": {
    "deletable": true,
    "editable": true
   },
   "source": [
    "### `sympy.solvers.pde.pde_1st_linear_variable_coeff`"
   ]
  },
  {
   "cell_type": "markdown",
   "metadata": {
    "deletable": true,
    "editable": true
   },
   "source": [
    "First order linear PDEs with variable coefficients are of the form:\n",
    "$$\n",
    "a(x,y) \\frac{d}{dx} f(x,y) + b(x,y) \\frac{d}{dy} f(x,y) + c(x,y)f(x,y) = G(x,y)\n",
    "$$\n",
    "where $a(x,y), b(x,y), c(x,y)$ and $G(x,y)$ are arbitrary functions in $x$ and $y$."
   ]
  },
  {
   "cell_type": "markdown",
   "metadata": {
    "deletable": true,
    "editable": true
   },
   "source": [
    "In order to solve this equation, again we use a change of variables with $\\xi = x$ and $\\eta$ is equal to the constant in the solution to the ordinary differential equation $\\frac{dy}{dx} = \\frac{b}{a}$."
   ]
  },
  {
   "cell_type": "markdown",
   "metadata": {
    "collapsed": true,
    "deletable": true,
    "editable": true
   },
   "source": [
    "By using these substitutions, we reduce our PDE to a linear ODE of the form:\n",
    "$$\n",
    "a(\\xi,\\eta)\\frac{du}{d\\xi} + c(\\xi,\\eta)u - G(\\xi,\\eta) = 0\n",
    "$$\n",
    "\n",
    "and this can be solved using `dsolve` (the built in function for solving ordinary differential equations)."
   ]
  },
  {
   "cell_type": "markdown",
   "metadata": {
    "deletable": true,
    "editable": true
   },
   "source": [
    "#### Example 5.5\n",
    "\n",
    "Let's solve the PDE $xu_x + yu_y + xyu = 2x$."
   ]
  },
  {
   "cell_type": "markdown",
   "metadata": {
    "deletable": true,
    "editable": true
   },
   "source": [
    "We have the substitutions $\\xi = x$ and\n",
    "\n",
    "$$\n",
    "\\frac{dy}{dx} = \\frac{y}{x}\n",
    "$$\n",
    "\n",
    "which leads to $$ \\frac{dy}{y} = \\frac{dx}{x} $$\n",
    "\n",
    "and therefore $$ \\eta = \\ln  \\left ( \\frac{y}{x} \\right ) $$"
   ]
  },
  {
   "cell_type": "markdown",
   "metadata": {
    "deletable": true,
    "editable": true
   },
   "source": [
    "This gives us $$\\xi u_{\\xi} + \\xi^2 e^\\eta u - 2\\xi = 0$$ which we can solve using `dsolve`."
   ]
  },
  {
   "cell_type": "markdown",
   "metadata": {
    "deletable": true,
    "editable": true
   },
   "source": [
    "### `dsolve`"
   ]
  },
  {
   "cell_type": "markdown",
   "metadata": {
    "deletable": true,
    "editable": true
   },
   "source": [
    "Before we use `dsolve`, let us confirm that our equation is of the right kind:"
   ]
  },
  {
   "cell_type": "code",
   "execution_count": 28,
   "metadata": {
    "collapsed": false,
    "deletable": true,
    "editable": true
   },
   "outputs": [
    {
     "data": {
      "text/plain": [
       "('1st_linear_variable_coeff',)"
      ]
     },
     "execution_count": 28,
     "metadata": {},
     "output_type": "execute_result"
    }
   ],
   "source": [
    "f = Function('f')\n",
    "u = f(x,y)\n",
    "ux = u.diff(x)\n",
    "uy = u.diff(y)\n",
    "eq = x*ux + y*uy + x*y*u - 2*x\n",
    "classify_pde(eq)"
   ]
  },
  {
   "cell_type": "markdown",
   "metadata": {
    "deletable": true,
    "editable": true
   },
   "source": [
    "Indeed, our equation is a first order linear partial differential equation with variable coefficients. Now from our calculations above, let's check what `dsolve` comes up with.\n",
    "\n",
    "`dsolve` essentially works in the same way as `pdsolve`, except that `dsolve` can only solve differential equations of one variable, in our case, $\\xi$."
   ]
  },
  {
   "cell_type": "code",
   "execution_count": 32,
   "metadata": {
    "collapsed": true,
    "deletable": true,
    "editable": true
   },
   "outputs": [],
   "source": [
    "import numpy as np\n",
    "from sympy import dsolve"
   ]
  },
  {
   "cell_type": "code",
   "execution_count": 34,
   "metadata": {
    "collapsed": false,
    "deletable": true,
    "editable": true
   },
   "outputs": [
    {
     "data": {
      "text/plain": [
       "Eq(f(x), (C1 + sqrt(2)*sqrt(pi)*erf(sqrt(2)*x*sqrt(exp(y))/2)/sqrt(exp(y)))*exp(x**2*exp(y)/2))"
      ]
     },
     "execution_count": 34,
     "metadata": {},
     "output_type": "execute_result"
    }
   ],
   "source": [
    "f = Function('f')\n",
    "xi = x\n",
    "eta=y\n",
    "u = f(xi)\n",
    "uxi = u.diff(xi)\n",
    "eq = xi*uxi - xi**2*E**eta*u - 2*xi\n",
    "dsolve(eq)"
   ]
  },
  {
   "cell_type": "markdown",
   "metadata": {
    "collapsed": true,
    "deletable": true,
    "editable": true
   },
   "source": [
    "Which will give us the same solution when substituting our $x$ and $y$ back in as below:"
   ]
  },
  {
   "cell_type": "code",
   "execution_count": 35,
   "metadata": {
    "collapsed": false,
    "deletable": true,
    "editable": true
   },
   "outputs": [
    {
     "data": {
      "text/plain": [
       "Eq(f(x, y), Piecewise(((2*x + F(y/x))*exp(-x*y/2), Eq(y/x, 0)), ((F(y/x) - sqrt(2)*I*sqrt(pi)*erf(sqrt(2)*I*x*sqrt(y/x)/2)/sqrt(y/x))*exp(-x*y/2), True)))"
      ]
     },
     "execution_count": 35,
     "metadata": {},
     "output_type": "execute_result"
    }
   ],
   "source": [
    "f = Function('f')\n",
    "u = f(x,y)\n",
    "ux = u.diff(x)\n",
    "uy = u.diff(y)\n",
    "eq = x*ux + y*uy + x*y*u - 2*x\n",
    "pdsolve(eq)"
   ]
  },
  {
   "cell_type": "markdown",
   "metadata": {
    "deletable": true,
    "editable": true
   },
   "source": [
    "Which is expressed as\n",
    "$$\n",
    "f(x,y) = \\left \\{\n",
    "         \\begin{array}{ll}\n",
    "            \\left ( 2x + F \\left ( \\frac{y}{x} \\right ) \\right )e^{-\\frac{xy}{2}} & \\quad \\text{for} \\ \\frac{y}{x} = 0 \\\\\n",
    "            \\left ( F \\left ( \\frac{y}{x} \\right ) - \\frac{\\sqrt{2} i}{\\sqrt{\\frac{y}{x}}} \\sqrt{\\pi} \\ \\text{erf} \\left ( \\frac{ix}{2} \\sqrt{2} \\sqrt{\\frac{y}{x}} \\right ) \\right ) e^{-\\frac{xy}{2}} & \\quad \\text{otherwise}\n",
    "        \\end{array}\n",
    "    \\right.\n",
    "$$\n",
    "\n",
    "where 'erf' is the error function of a complex argument."
   ]
  },
  {
   "cell_type": "markdown",
   "metadata": {
    "collapsed": true,
    "deletable": true,
    "editable": true
   },
   "source": [
    "There we have it! We have successfully learned how to solve first order linear partial differential equations by recognising the type of PDE they are, as well as separate and classify them in order to solve them by hand and check our solutions are correct."
   ]
  },
  {
   "cell_type": "markdown",
   "metadata": {
    "collapsed": true,
    "deletable": true,
    "editable": true
   },
   "source": [
    "### References\n",
    "\n",
    "* [University of California, Santa Barbara](http://web.math.ucsb.edu/~grigoryan/124A.pdf)\n",
    "* [SymPy Documentation](http://docs.sympy.org/latest/modules/solvers/pde.html)\n",
    "* [SymPy Documentation docstring](https://searchcode.com/codesearch/view/78124480/)"
   ]
  }
 ],
 "metadata": {
  "kernelspec": {
   "display_name": "Python 3",
   "language": "python",
   "name": "python3"
  },
  "language_info": {
   "codemirror_mode": {
    "name": "ipython",
    "version": 3
   },
   "file_extension": ".py",
   "mimetype": "text/x-python",
   "name": "python",
   "nbconvert_exporter": "python",
   "pygments_lexer": "ipython3",
   "version": "3.5.2"
  }
 },
 "nbformat": 4,
 "nbformat_minor": 2
}
