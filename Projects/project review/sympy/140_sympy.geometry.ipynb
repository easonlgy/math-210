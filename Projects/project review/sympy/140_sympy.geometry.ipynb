{
 "cells": [
  {
   "cell_type": "markdown",
   "metadata": {
    "deletable": true,
    "editable": true
   },
   "source": [
    "# MATH 210 Project 1\n",
    "\n",
    "## Applications of Geometry using `sympy.geometry`"
   ]
  },
  {
   "cell_type": "markdown",
   "metadata": {
    "deletable": true,
    "editable": true
   },
   "source": [
    "The Python package, Sympy, which is primarily used for symbolic computation, contains a subpackage called `sympy.geometry` (see [documentation](http://docs.sympy.org/latest/modules/geometry/index.html)). This subpackage can be useful for solving problems involving a variety of geometric theorems. We will primarily focus on circle-based geometry in this notebook.\n",
    "\n",
    "Through the use of the **Point, Circle, Triangle**, and **Line** functions from the `sympy.geometry` library, we will create functions to implement the **Central Angle Theorem**, **Descarte's Theorem**, and **Euler's Theorem in Geometry**. These theorems will emphasize the usage of the following subfunctions:\n",
    "\n",
    "   * `radius` and `distance()` from the functions `Circle` (see [documentation](http://docs.sympy.org/latest/modules/geometry/ellipses.html?highlight=radius#sympy.geometry.ellipse.Circle.radius)) and `Line` (see [documentation](http://docs.sympy.org/latest/modules/geometry/lines.html?highlight=distance#sympy.geometry.line.Line.distance)), respectively\n",
    "   * `is_tangent` from the function `Circle` (see [documentation](http://docs.sympy.org/latest/modules/geometry/ellipses.html?highlight=is_tangent#sympy.geometry.ellipse.Ellipse.is_tangent))\n",
    "   * `incircle` and `circumcircle` from the function `Triangle` (see [documentation](http://docs.sympy.org/latest/modules/geometry/polygons.html?highlight=incircle#sympy.geometry.polygon.Triangle.incircle))\n",
    "\n",
    "Overall, we will learn how to implement a selection of geometric functions through the implementation of slightly involved theorems."
   ]
  },
  {
   "cell_type": "markdown",
   "metadata": {
    "deletable": true,
    "editable": true
   },
   "source": [
    "## Contents\n",
    "\n",
    "1. Introduction: Basic Geometric Functions\n",
    "2. Central Angle Theorem\n",
    "3. Descartes' Theorem\n",
    "4. Euler's Theorem in Geometry\n",
    "5. Exercises"
   ]
  },
  {
   "cell_type": "code",
   "execution_count": null,
   "metadata": {
    "collapsed": false,
    "deletable": true,
    "editable": true
   },
   "outputs": [],
   "source": [
    "import numpy as np"
   ]
  },
  {
   "cell_type": "markdown",
   "metadata": {
    "deletable": true,
    "editable": true
   },
   "source": [
    "## 1. Introduction: Basic Geometric Functions\n",
    "\n",
    "Before exploring more involved material, we will start by creating basic geometric objects. To do this, we must first import `Point, Circle, Triangle,` and `Line` from the `sympy.geometry` library:"
   ]
  },
  {
   "cell_type": "code",
   "execution_count": null,
   "metadata": {
    "collapsed": true,
    "deletable": true,
    "editable": true
   },
   "outputs": [],
   "source": [
    "from sympy.geometry import Point, Circle, Triangle, Line"
   ]
  },
  {
   "cell_type": "markdown",
   "metadata": {
    "deletable": true,
    "editable": true
   },
   "source": [
    "### Point"
   ]
  },
  {
   "cell_type": "markdown",
   "metadata": {
    "deletable": true,
    "editable": true
   },
   "source": [
    "We'll start out by creating a point at the origin (0, 0). This is done by entering Point$(x, y)$, where $x$ and $y$ are the $x$- and $y$-coordinates:"
   ]
  },
  {
   "cell_type": "code",
   "execution_count": null,
   "metadata": {
    "collapsed": false,
    "deletable": true,
    "editable": true
   },
   "outputs": [],
   "source": [
    "p1 = Point(0, 0)\n",
    "p1"
   ]
  },
  {
   "cell_type": "markdown",
   "metadata": {
    "deletable": true,
    "editable": true
   },
   "source": [
    "### Line"
   ]
  },
  {
   "cell_type": "markdown",
   "metadata": {
    "deletable": true,
    "editable": true
   },
   "source": [
    "Now, we'll create and display a line from the origin to the point (2, 0) by entering Line$(p_1, p_2)$ where $p_1$ and $p_2$ are two points through which the line passes:"
   ]
  },
  {
   "cell_type": "code",
   "execution_count": null,
   "metadata": {
    "collapsed": false,
    "deletable": true,
    "editable": true
   },
   "outputs": [],
   "source": [
    "p2 = Point(2, 0)\n",
    "line = Line(p1, p2)\n",
    "line"
   ]
  },
  {
   "cell_type": "markdown",
   "metadata": {
    "deletable": true,
    "editable": true
   },
   "source": [
    "### Triangle"
   ]
  },
  {
   "cell_type": "markdown",
   "metadata": {
    "deletable": true,
    "editable": true
   },
   "source": [
    "To create a triangle, enter Triangle$(p_1, p_2, p_3)$, where $p_1, p_2$, and $p_3$ are the vertices of the triangle:"
   ]
  },
  {
   "cell_type": "code",
   "execution_count": null,
   "metadata": {
    "collapsed": false,
    "deletable": true,
    "editable": true
   },
   "outputs": [],
   "source": [
    "p3 = Point(1, 2)\n",
    "triangle = Triangle(p1, p2, p3)\n",
    "triangle"
   ]
  },
  {
   "cell_type": "markdown",
   "metadata": {
    "deletable": true,
    "editable": true
   },
   "source": [
    "### Circle"
   ]
  },
  {
   "cell_type": "markdown",
   "metadata": {
    "deletable": true,
    "editable": true
   },
   "source": [
    "There are two ways to create a circle. The first is to enter Circle$(p_1, radius)$, where $p_1$ is the centre of the circle and $radius$ is a numerical value representing the radius:"
   ]
  },
  {
   "cell_type": "code",
   "execution_count": null,
   "metadata": {
    "collapsed": false,
    "deletable": true,
    "editable": true
   },
   "outputs": [],
   "source": [
    "circle1 = Circle(p1, 80)\n",
    "circle1"
   ]
  },
  {
   "cell_type": "markdown",
   "metadata": {
    "deletable": true,
    "editable": true
   },
   "source": [
    "The other way is to enter Circle$(p_1, p_2, p_3)$, where $p_1$, $p_2$, and $p_3$ are three independent points that define a triangle. The circle produced is inscribed within this triangle:"
   ]
  },
  {
   "cell_type": "code",
   "execution_count": null,
   "metadata": {
    "collapsed": false,
    "deletable": true,
    "editable": true
   },
   "outputs": [],
   "source": [
    "circle2 = Circle(p1, p2, p3)\n",
    "circle2"
   ]
  },
  {
   "cell_type": "markdown",
   "metadata": {
    "deletable": true,
    "editable": true
   },
   "source": [
    "If we wanted to find the centre of this circle, we could use the subfunction `center` (see [documentation](http://docs.sympy.org/latest/modules/geometry/ellipses.html?highlight=center#sympy.geometry.ellipse.Ellipse.center)):"
   ]
  },
  {
   "cell_type": "code",
   "execution_count": null,
   "metadata": {
    "collapsed": false,
    "deletable": true,
    "editable": true
   },
   "outputs": [],
   "source": [
    "circle2.center"
   ]
  },
  {
   "cell_type": "markdown",
   "metadata": {
    "deletable": true,
    "editable": true
   },
   "source": [
    "## 2. Central Angle Theorem\n",
    "\n",
    "### Theorem Defintion\n",
    "\n",
    "[The Central Angle Theorem](http://jwilson.coe.uga.edu/EMAT6680Su09/Park/As8dspark/As8dspark.html) states that for points $A, B$ on a circle, the angle $AOB$, or the central angle of $A, B$ where $O$ is the central point of the circle, is twice that of angle $APB$, which is the inscribed angle of $A$ and $B$ where point $P$ is anywhere along the outer arc $AB$.\n",
    "\n",
    "![Diagram](http://jwilson.coe.uga.edu/EMAT6680Su09/Park/As8dspark/figure1.gif)\n",
    "(image courtesy of [jwilson.coe.uga.edu](http://jwilson.coe.uga.edu/EMAT6680Su09/Park/As8dspark/figure1.gif))\n",
    "\n",
    "This can also be represented as the following:\n",
    "$$ \\angle AOB = 2\\angle APB$$\n",
    "where $A$ and $B$ are two points on a circle, $O$ is the centre of the circle, and $P$ is any point on the outer arc $AB$."
   ]
  },
  {
   "cell_type": "markdown",
   "metadata": {
    "deletable": true,
    "editable": true
   },
   "source": [
    "### Defining a central angle function\n",
    "\n",
    "Next, we will design a function that, when given three points $A, B,$ and $C$, creates a circle and returns either the central angle between $A$ and $B$ or the inscribed angle between $A$ and $B$ in radians. \n",
    "\n",
    "First, the function creates a circle with the given points $A, B$, and $C$. Then, we create a triangle with vertices $A, B$ and the centre of the circle, $O$. The length of $AO$ and $BO$ both equal the radius of the circle: \n",
    "\n",
    "![Forming a Triangle](http://img05.deviantart.net/836c/i/2017/073/a/8/forming_a_triangle_by_dbzmiracle4-db2aykr.png)\n",
    "\n",
    "(Image source:[deviantart.net](http://dbzmiracle4.deviantart.com/art/Forming-a-Triangle-668998539?ga_submit_new=10%3A1489525733&ga_type=edit&ga_changes=1&ga_recent=1))"
   ]
  },
  {
   "cell_type": "markdown",
   "metadata": {
    "deletable": true,
    "editable": true
   },
   "source": [
    "### `radius` example"
   ]
  },
  {
   "cell_type": "markdown",
   "metadata": {
    "deletable": true,
    "editable": true
   },
   "source": [
    "To find the radius, we can use the `Circle` subfunction, `radius` (see [documentation](http://docs.sympy.org/latest/modules/geometry/ellipses.html?highlight=radius#sympy.geometry.ellipse.Circle.radius)). For example, the radius of a circle $circle1 = Circle(Point(0, 0), 80)$ is obtained by entering `circle1.radius`:"
   ]
  },
  {
   "cell_type": "code",
   "execution_count": null,
   "metadata": {
    "collapsed": false,
    "deletable": true,
    "editable": true
   },
   "outputs": [],
   "source": [
    "circle1 = Circle(Point(0, 0), 80)\n",
    "circle1.radius"
   ]
  },
  {
   "cell_type": "markdown",
   "metadata": {
    "deletable": true,
    "editable": true
   },
   "source": [
    "### `distance()` example"
   ]
  },
  {
   "cell_type": "markdown",
   "metadata": {
    "deletable": true,
    "editable": true
   },
   "source": [
    "We can obtain the side length between $A$ and $B$ using the `distance()` function (see [documentation](http://docs.sympy.org/latest/modules/geometry/lines.html?highlight=distance#sympy.geometry.line.Line.distance)). For example, the distance from a point $p_1 = (0, 0)$ to a point $p_2 = (2, 0)$ is obtained by entering `p1.distance(p2)`:"
   ]
  },
  {
   "cell_type": "code",
   "execution_count": null,
   "metadata": {
    "collapsed": false,
    "deletable": true,
    "editable": true
   },
   "outputs": [],
   "source": [
    "p1 = Point(0, 0)\n",
    "p2 = Point(2, 0)\n",
    "p1.distance(p2)"
   ]
  },
  {
   "cell_type": "markdown",
   "metadata": {
    "deletable": true,
    "editable": true
   },
   "source": [
    "### Creating the function\n",
    "Because we know three side lengths, we can solve for the central angle of $A, B$ by using the [law of cosines](https://www.mathsisfun.com/algebra/trig-cosine-law.html):\n",
    "$$c^2 = a^2 + b^2 -2ab\\cos C$$\n",
    "where $a, b, c$ are side lengths and $C$ is an angle."
   ]
  },
  {
   "cell_type": "markdown",
   "metadata": {
    "deletable": true,
    "editable": true
   },
   "source": [
    "For our purposes, we can rearrange the formula as follows:\n",
    "$$\\arccos {\\frac{o^2 - a^2 + b^2}{-2ab}} = O$$\n",
    "where $a, b, o$ are side lengths $AO, BO$, and $AB$ respectively, and $O$ is the central angle.\n",
    "\n",
    "![Identifying sides](http://img10.deviantart.net/5726/i/2017/073/b/b/identifying_sides_by_dbzmiracle4-db2b6ez.png)\n",
    "(Image source: [deviantart.net](http://dbzmiracle4.deviantart.com/art/Identifying-sides-669008699?ga_submit_new=10%3A1489528393))\n",
    "\n",
    "Now we are ready to bring it all together:"
   ]
  },
  {
   "cell_type": "code",
   "execution_count": null,
   "metadata": {
    "collapsed": false,
    "deletable": true,
    "editable": true
   },
   "outputs": [],
   "source": [
    "def inscribed_angle(A, B, C, central_or_inscribed):\n",
    "    '''Given three points A, B, C, create a circle and return either\n",
    "    - the central angle between A and B in radians or\n",
    "    - the inscribed angle between A and A in radians.'''\n",
    "    # Create a circle from the given points\n",
    "    c1 = Circle(A, B, C)\n",
    "    # Apply the Law of Cosines and solve for cos(O)\n",
    "    cos_central_angle = ((A.distance(C))**2 - 2*(c1.radius)**2)/(-2*c1.radius**2)\n",
    "    # arccos the cos(O) found above\n",
    "    central_angle = np.arccos(int(cos_central_angle))\n",
    "    # if central_or_inscribed is \"central\", return the central angle\n",
    "    if (central_or_inscribed) == \"central\":\n",
    "        return central_angle\n",
    "    # if central_or_inscribed is \"inscribed\", return the inscribed angle\n",
    "    else:\n",
    "        return (1/2)*central_angle"
   ]
  },
  {
   "cell_type": "markdown",
   "metadata": {
    "deletable": true,
    "editable": true
   },
   "source": [
    "Now we can test out the function:"
   ]
  },
  {
   "cell_type": "code",
   "execution_count": null,
   "metadata": {
    "collapsed": false,
    "deletable": true,
    "editable": true
   },
   "outputs": [],
   "source": [
    "A = Point(0, -1)\n",
    "B = Point(1, 5)\n",
    "C = Point(-1, 0)\n",
    "inscribed_angle(A, B, C, \"inscribed\")"
   ]
  },
  {
   "cell_type": "markdown",
   "metadata": {
    "deletable": true,
    "editable": true
   },
   "source": [
    "To get the central angle of the same function, we can simply change \"inscribed\" to \"central\":"
   ]
  },
  {
   "cell_type": "code",
   "execution_count": null,
   "metadata": {
    "collapsed": false,
    "deletable": true,
    "editable": true
   },
   "outputs": [],
   "source": [
    "inscribed_angle(A, B, C, \"central\")"
   ]
  },
  {
   "cell_type": "markdown",
   "metadata": {
    "deletable": true,
    "editable": true
   },
   "source": [
    "## 3. Descartes' Theorem\n",
    "\n",
    "### Theorem Definition\n",
    "\n",
    "[Descartes' Theorem](https://en.wikipedia.org/wiki/Descartes%27_theorem) says that, for $k = \\pm \\frac{1}{r}$, the radii of four tangent circles follow the formula below:\n",
    "$$ (k_1 + k_2 + k_3 + k_4)^2 = 2(k_1^2 + k_2^2 + k_3^2 + k_4^2) \\hspace{10 mm} (1)$$\n",
    "or alternatively,\n",
    "$$ k_4 = k_1 + k_2 + k_3 \\pm 2 \\sqrt{k_1k_2 + k_2k_3 + k_3k_1} \\hspace{12 mm} (2)$$"
   ]
  },
  {
   "cell_type": "markdown",
   "metadata": {
    "deletable": true,
    "editable": true
   },
   "source": [
    "There are two cases as seen by the $\\pm$ preceding $2 \\sqrt{k_1k_2 + k_2k_3 + k_3k_1}$ in equation (2). The '+ case' refers to a large circle encompassing the three other circles while still being tangent:\n",
    "\n",
    "![external](http://orig09.deviantart.net/8f71/f/2017/076/0/b/external_tangent_by_dbzmiracle4-db2mnle.png)\n",
    "\n",
    "(Image source: [deviantart.net](http://dbzmiracle4.deviantart.com/art/External-Tangent-669544178))"
   ]
  },
  {
   "cell_type": "markdown",
   "metadata": {
    "deletable": true,
    "editable": true
   },
   "source": [
    "The '- case' refers to a smaller circle contained within the other three while remaining tangent:\n",
    "\n",
    "![internal](http://orig01.deviantart.net/5859/f/2017/076/8/d/internal_tangent_by_dbzmiracle4-db2mnoe.png)\n",
    "\n",
    "(Image source: [deviantart.net](http://dbzmiracle4.deviantart.com/art/Internal-Tangent-669544286)"
   ]
  },
  {
   "cell_type": "markdown",
   "metadata": {
    "deletable": true,
    "editable": true
   },
   "source": [
    "### `is_tangent()` example"
   ]
  },
  {
   "cell_type": "markdown",
   "metadata": {
    "deletable": true,
    "editable": true
   },
   "source": [
    "In order to implement this theorem, we need to check to see if the circles are in fact tangent. To do so, we can use the `Circle` subfunction, `is_tangent()` (see [documentation](http://docs.sympy.org/latest/modules/geometry/ellipses.html?highlight=is_tangent#sympy.geometry.ellipse.Ellipse.is_tangent)). In this case, it is best to define the circle using the $Circle(p_1, radius)$ method. For example, we can check if the circles below are tangent by defining circles $A$ through $D$ and entering `circle_A.is_tangent(circle_B)`, and `circle_C.is_tangent(circle_D)`:\n",
    "![four_circles](http://orig09.deviantart.net/18a6/f/2017/076/1/b/four_circles_by_dbzmiracle4-db2mj2y.png)\n",
    "(Image source: [deviantart.com](http://dbzmiracle4.deviantart.com/art/Four-Circles-669538330))"
   ]
  },
  {
   "cell_type": "code",
   "execution_count": null,
   "metadata": {
    "collapsed": false,
    "deletable": true,
    "editable": true
   },
   "outputs": [],
   "source": [
    "circle_A = Circle(Point(0, 0), 1)\n",
    "circle_B = Circle(Point(2, 0), 1)\n",
    "circle_A.is_tangent(circle_B)"
   ]
  },
  {
   "cell_type": "code",
   "execution_count": null,
   "metadata": {
    "collapsed": false,
    "deletable": true,
    "editable": true
   },
   "outputs": [],
   "source": [
    "circle_C = Circle(Point(0, 2), 1)\n",
    "circle_D = Circle(Point(2, 0), 1)\n",
    "circle_C.is_tangent(circle_D)"
   ]
  },
  {
   "cell_type": "markdown",
   "metadata": {
    "deletable": true,
    "editable": true
   },
   "source": [
    "### Creating the function\n",
    "\n",
    "Now that we are able to check for tangent circles, we can easily implement the theorem. For simplicity, we will use equation (2) (see above)."
   ]
  },
  {
   "cell_type": "code",
   "execution_count": null,
   "metadata": {
    "collapsed": false,
    "deletable": true,
    "editable": true
   },
   "outputs": [],
   "source": [
    "def descartes(c1, c2, c3, internal_external):\n",
    "    '''Given three circles, make sure they are tangent and use Descartes Theorem to produce either\n",
    "        - the radius of the internal circle contained between the three circles or \n",
    "        - the radius of the external circle surrounding the three circles'''\n",
    "    # Check to make sure all circles are tangent to each other\n",
    "    if c1.is_tangent(c2) and c2.is_tangent(c3) and c1.is_tangent(c3):\n",
    "        k1 = 1/c1.radius\n",
    "        k2 = 1/c2.radius\n",
    "        k3 = 1/c3.radius\n",
    "        # If internal_external is equal to \"external\", compute k4 for the '+ case'\n",
    "        if internal_external == \"external\":\n",
    "            k4 = k1 + k2 + k3 - 2*(k1*k2 + k2*k3 + k3*k1)\n",
    "        # If internal_external is equal to \"internal\", compute k4 for the '- case'\n",
    "        elif internal_external == \"internal\":\n",
    "            k4 = k1 + k2 + k3 + 2*(k1*k2 + k2*k3 + k3*k1)\n",
    "        # Print an error message for anything other than \"internal\" or \"external\" for internal_external\n",
    "        else:\n",
    "            print(\"Error: internal_external takes the word internal or the word external\")\n",
    "        # Take k4 and solve for the radius of the fourth circle\n",
    "        r4 = 1/k4\n",
    "        # Produce the radius of the fourth circle\n",
    "        return r4\n",
    "    # If the circles are not tangent, produce an error message\n",
    "    else:\n",
    "        print(\"Error: Given circles are not tangent\")\n",
    "        return None"
   ]
  },
  {
   "cell_type": "markdown",
   "metadata": {
    "deletable": true,
    "editable": true
   },
   "source": [
    "Now we can test the function:"
   ]
  },
  {
   "cell_type": "code",
   "execution_count": null,
   "metadata": {
    "collapsed": false,
    "deletable": true,
    "editable": true
   },
   "outputs": [],
   "source": [
    "c1 = Circle(Point(0, 0), 4)\n",
    "c2 = Circle(Point(8, 0), 4)\n",
    "c3 = Circle(Point(4, 3), 1)\n",
    "descartes(c1, c2, c3, \"internal\")"
   ]
  },
  {
   "cell_type": "markdown",
   "metadata": {
    "deletable": true,
    "editable": true
   },
   "source": [
    "We can find the radius of the external tangent circle to the same three circles:"
   ]
  },
  {
   "cell_type": "code",
   "execution_count": null,
   "metadata": {
    "collapsed": false,
    "deletable": true,
    "editable": true
   },
   "outputs": [],
   "source": [
    "descartes(c1, c2, c3, \"external\")"
   ]
  },
  {
   "cell_type": "markdown",
   "metadata": {
    "deletable": true,
    "editable": true
   },
   "source": [
    "## 4. Euler's Theorem in Geometry\n",
    "\n",
    "### Theorem Definition\n",
    "[Euler's Theorem in Geometry](https://en.wikipedia.org/wiki/Euler's_theorem_in_geometry) says that, for a triangle, the distance from the radius of the circle inscribed within the triangle, $r$, and the radius of the circle that goes through all the triangle's vertices, $R$, can be found by the following formula:\n",
    "$$d^2 = R(R - 2r)$$\n",
    "$r$ is also called the [incentre](https://en.wikipedia.org/wiki/Incenter) and $R$ is also called the [circumcentre](https://en.wikipedia.org/wiki/Circumscribed_circle). In `sympy.geometry`, the function `Triangle` has subfunctions `incircle` and `circumcircle` which can be used to obtain these values.\n",
    "\n",
    "![incircle/circumcircle](http://orig12.deviantart.net/1b10/f/2017/076/e/7/incircle_circumcircle_by_dbzmiracle4-db2o9do.png)\n",
    "\n",
    "(Image source: [deviantart.net](http://dbzmiracle4.deviantart.com/art/Incircle-Circumcircle-669619068))"
   ]
  },
  {
   "cell_type": "markdown",
   "metadata": {
    "deletable": true,
    "editable": true
   },
   "source": [
    "### `incircle` example\n",
    "\n",
    "The `incircle` subfunction (see [documentation](http://docs.sympy.org/latest/modules/geometry/polygons.html?highlight=incircle#sympy.geometry.polygon.Triangle.incircle)) produces the circle inscribed within a given triangle. For example, to obtain the incircle for a triangle,  `triangle = Triangle(Point(0, 0), Point(2, 0), Point(1, 2))`, we can enter `triangle.incircle`:"
   ]
  },
  {
   "cell_type": "code",
   "execution_count": null,
   "metadata": {
    "collapsed": false,
    "deletable": true,
    "editable": true
   },
   "outputs": [],
   "source": [
    "triangle = Triangle(Point(0, 0), Point(2, 0), Point(1, 2))\n",
    "triangle_incircle = triangle.incircle\n",
    "triangle_incircle"
   ]
  },
  {
   "cell_type": "markdown",
   "metadata": {
    "deletable": true,
    "editable": true
   },
   "source": [
    "Then, we can use the `radius` function shown earlier to find the radius of this circle, which is the incentre we need for our function:"
   ]
  },
  {
   "cell_type": "code",
   "execution_count": null,
   "metadata": {
    "collapsed": false,
    "deletable": true,
    "editable": true
   },
   "outputs": [],
   "source": [
    "triangle_incentre = triangle_incircle.radius\n",
    "triangle_incentre"
   ]
  },
  {
   "cell_type": "markdown",
   "metadata": {
    "deletable": true,
    "editable": true
   },
   "source": [
    "### circumcircle example\n",
    "The `circumcircle` subfunction (see [documentation](http://docs.sympy.org/latest/modules/geometry/polygons.html?highlight=incircle#sympy.geometry.polygon.Triangle.circumcircle)) produces the circle that goes through all of a given triangle's vertices. For example, to obtain the circumcircle of the same triangle used in the *incircle example* above, we can enter `triangle.circumcircle`:"
   ]
  },
  {
   "cell_type": "code",
   "execution_count": null,
   "metadata": {
    "collapsed": false,
    "deletable": true,
    "editable": true
   },
   "outputs": [],
   "source": [
    "triangle_circumcircle = triangle.circumcircle\n",
    "triangle_circumcircle"
   ]
  },
  {
   "cell_type": "markdown",
   "metadata": {
    "deletable": true,
    "editable": true
   },
   "source": [
    "We can use the `radius` function again to find the radius of this circle, which is the circumcentre we need for our function:"
   ]
  },
  {
   "cell_type": "code",
   "execution_count": null,
   "metadata": {
    "collapsed": false,
    "deletable": true,
    "editable": true
   },
   "outputs": [],
   "source": [
    "triangle_circumcentre = triangle_circumcircle.radius\n",
    "triangle_circumcentre"
   ]
  },
  {
   "cell_type": "markdown",
   "metadata": {
    "deletable": true,
    "editable": true
   },
   "source": [
    "### Creating the function\n",
    "\n",
    "Now that we can find the incentre, $r$, and the circumcircle, $R$, we can create a function to find the distance, $d$, between the two:"
   ]
  },
  {
   "cell_type": "code",
   "execution_count": null,
   "metadata": {
    "collapsed": false,
    "deletable": true,
    "editable": true
   },
   "outputs": [],
   "source": [
    "def euler(A, B, C):\n",
    "    '''Create a triangle with the given points A, B, and C, and produce the distance between its incentre and \n",
    "    its circumcentre'''\n",
    "    # Create a triangle with A, B, and C as its vertices\n",
    "    triangle = Triangle(A, B, C)\n",
    "    # Obtain the incircle of the triangle \n",
    "    incircle = triangle.incircle\n",
    "    # Produce the radius of the incircle\n",
    "    r = incircle.radius\n",
    "    # Obtain the circumcircle of the triangle\n",
    "    circumcircle = triangle.circumcircle\n",
    "    # Produce the radius of the circumcircle\n",
    "    R = circumcircle.radius\n",
    "    # Apply Euler's theorem in geometry to find the distance between r and R\n",
    "    d_squared = (R*(R - 2*r))\n",
    "    return d_squared**0.5"
   ]
  },
  {
   "cell_type": "markdown",
   "metadata": {
    "deletable": true,
    "editable": true
   },
   "source": [
    "We can test this function:"
   ]
  },
  {
   "cell_type": "code",
   "execution_count": null,
   "metadata": {
    "collapsed": false,
    "deletable": true,
    "editable": true
   },
   "outputs": [],
   "source": [
    "A = Point(0, -1)\n",
    "B = Point(1, 5)\n",
    "C = Point(-1, 0)"
   ]
  },
  {
   "cell_type": "code",
   "execution_count": null,
   "metadata": {
    "collapsed": false,
    "deletable": true,
    "editable": true
   },
   "outputs": [],
   "source": [
    "euler(A, B, C)"
   ]
  },
  {
   "cell_type": "markdown",
   "metadata": {
    "deletable": true,
    "editable": true
   },
   "source": [
    "## 5. Exercises"
   ]
  },
  {
   "cell_type": "markdown",
   "metadata": {
    "collapsed": true,
    "deletable": true,
    "editable": true
   },
   "source": [
    "**Exercise 1:** Use the `inscribed_angle` function to find the central angle between points $A$ and $B$ on the circle comprised of $A, B$ and $C$, where $A = Point(1, 4)$, $B = Point(3, 5)$ and $C = Point(10, 4)$."
   ]
  },
  {
   "cell_type": "markdown",
   "metadata": {
    "deletable": true,
    "editable": true
   },
   "source": [
    "**Exercise 2:** Given $c_1$ is a circle centred at point (-2, -2) with radius 8, and $c_2$ is a circle centred at point (6, 4) with radius 2, select $c_3$ out of the following options such that $c_3$ is tangent to $c_1$ and $c_2$:\n",
    "    * Circle(Point(3, -2), 7) \n",
    "    * Circle(Point(2, 2), 1) \n",
    "    * Circle(Point(14, -2), 8) \n",
    "    * Circle(Point(-2, 14), 8)\n",
    "   \n",
    "   Use the `descartes` function to find the encompassing circle of $c_1, c_2, c_3$."
   ]
  },
  {
   "cell_type": "markdown",
   "metadata": {
    "deletable": true,
    "editable": true
   },
   "source": [
    "**Exercise 3:** \n",
    "\n",
    "a) Define three random points and create a triangle using these three points. Produce the incircle and circumcircle of this triangle and find their radii.\n",
    "\n",
    "b) Use the `euler` function to find the distance between the incircle radius and circumcircle radius in part a)."
   ]
  },
  {
   "cell_type": "markdown",
   "metadata": {
    "deletable": true,
    "editable": true
   },
   "source": [
    "**Exercise 4:**\n",
    "a) Define points $A$, $B$, $C$, as $Point(0, 0), Point (2, 0), Point(1, 2)$ respectively. Use `euler` with these three points. \n",
    "\n",
    "b) When defining the `euler` function, Euler's Theorem in Geometry was used to find the distance between the incentre and circumcentre of a triangle. However, the `distance()` function used when creating the `inscribed_angle` function should provide the same information. Find the distance between the incentre and circumcentre of the triangle made up by points $A$ through $C$ defined in part a) and compare the result of the `euler` theorem and `distance()` method. *(Hint: Use the `center` subfunction)*"
   ]
  }
 ],
 "metadata": {
  "kernelspec": {
   "display_name": "Python 3",
   "language": "python",
   "name": "python3"
  },
  "language_info": {
   "codemirror_mode": {
    "name": "ipython",
    "version": 3
   },
   "file_extension": ".py",
   "mimetype": "text/x-python",
   "name": "python",
   "nbconvert_exporter": "python",
   "pygments_lexer": "ipython3",
   "version": "3.5.2"
  }
 },
 "nbformat": 4,
 "nbformat_minor": 2
}
