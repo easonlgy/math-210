{
 "cells": [
  {
   "cell_type": "markdown",
   "metadata": {
    "deletable": true,
    "editable": true
   },
   "source": [
    "# Using sympy.crypto.crypto \n",
    "\n",
    "[Cryptography](https://en.wikipedia.org/wiki/Cryptography) is the study of making and solving codes. In this short tutorial, we will \n",
    "1. make our own (simple) encryption process \n",
    "2. code and decode a message using `sympy.crypto.crypto.encipher_shift` and `sympy.crypto.crypto.decipher_shift`\n",
    "3. encode and decode Morse code using `sympy.crypto.crypto.encode_morse` and `sympy.crypto.crypto.decode_morse`\n",
    "4. encoding and decoding a message using `sympy.crypto.crypto.encipher_bifid6` and `sympy.crypto.crypto.decipher_bifid6`\n",
    "\n",
    "Much of what we will do involves the Sympy package for cryptgraphy. Here is the [documentation](http://docs.sympy.org/latest/modules/crypto.html). There are many many functions in the module that we will not be using but I encourage you to look through it and try out the ones that seem interesting to you."
   ]
  },
  {
   "cell_type": "markdown",
   "metadata": {
    "deletable": true,
    "editable": true
   },
   "source": [
    "### 1. Making our own\n",
    "\n",
    "Say we wanted to make a cipher that substitued certain letters for other letters. In this case, let's substitue `a` and `e`. "
   ]
  },
  {
   "cell_type": "code",
   "execution_count": 1,
   "metadata": {
    "collapsed": false,
    "deletable": true,
    "editable": true
   },
   "outputs": [
    {
     "data": {
      "text/plain": [
       "['h', 'a', 'l', 'l', 'o', 'e', 'l', 'l']"
      ]
     },
     "execution_count": 1,
     "metadata": {},
     "output_type": "execute_result"
    }
   ],
   "source": [
    "def simple_cipher(message,l1,l2):\n",
    "    \"\"\"Encode a given message switching the letters l1 and l2. \n",
    "    Message should be given as a list of single character strings.\n",
    "    l1 and l2 should each be strings of single characters\"\"\"\n",
    "    encoded_message=[]  #initalize our encoded message\n",
    "    for n in range (0,len(message)):\n",
    "        if message[n] == l1:    #if chracter = l1, switch with l2\n",
    "            encoded_message.append(l2)\n",
    "        elif message[n] == l2:    #if chracter = l2, switch with l1\n",
    "            encoded_message.append(l1)\n",
    "        else:               #otherwise, just leave it be\n",
    "            encoded_message.append(message[n])\n",
    "    return encoded_message\n",
    "\n",
    "simple_cipher([\"h\",\"e\",\"l\",\"l\",\"o\",\"a\",\"l\",\"l\"],\"a\",\"e\")"
   ]
  },
  {
   "cell_type": "markdown",
   "metadata": {
    "deletable": true,
    "editable": true
   },
   "source": [
    "And almost obviously, we can see that we can decode the message by replacing every `a` by `e` and by replacing every `e` by `a`."
   ]
  },
  {
   "cell_type": "markdown",
   "metadata": {
    "deletable": true,
    "editable": true
   },
   "source": [
    "Before we continue, the function `sympy.crypto.crypto.AZ` will be of use to us because many of the functions we will be using require all uppercase letters in order to work properly. The function `AZ` takes a string and returns the string but with all of the characters in uppercase."
   ]
  },
  {
   "cell_type": "code",
   "execution_count": 2,
   "metadata": {
    "collapsed": false,
    "deletable": true,
    "editable": true
   },
   "outputs": [
    {
     "data": {
      "text/plain": [
       "'ALLOFTHESEARELOWERCASE'"
      ]
     },
     "execution_count": 2,
     "metadata": {},
     "output_type": "execute_result"
    }
   ],
   "source": [
    "import sympy.crypto.crypto as scc\n",
    "\n",
    "caps_this=\"all of these are lowercase\"\n",
    "scc.AZ(caps_this)"
   ]
  },
  {
   "cell_type": "markdown",
   "metadata": {
    "collapsed": true,
    "deletable": true,
    "editable": true
   },
   "source": [
    "### 2. Using `sympy.crypto.crypto.encipher_shift` and `sympy.crypto.crypto.decipher_shift`\n",
    "\n",
    "Say we thougt that was too simple. What if we wanted to change *all* the charachters in our message? One way of doing this is with `sympy.crypto.crypto.encipher_shift`. This function shifts all the characters in our message by a number that we choose. The function takes two inputs: our message and what Sympy calls a \"key\". This key is the number by which we will have our characters shifted by. The output is the shifted characters message. For example, if we wanted to shift our charcters by 2, our `a`'s become `c`'s, our `b`'s become `d`'s, and so forth. From the [Wkipedia page](https://en.wikipedia.org/wiki/Caesar_cipher), the formula for finding the shifted character ($n$ being our key) is \n",
    "$$\n",
    "E_n(x) = (x+n) \\mod 26\n",
    "$$\n",
    "and the formula for decoding our message is\n",
    "$$\n",
    "D_n(x)=(x-n) \\mod 26\n",
    "$$"
   ]
  },
  {
   "cell_type": "code",
   "execution_count": 3,
   "metadata": {
    "collapsed": false,
    "deletable": true,
    "editable": true
   },
   "outputs": [
    {
     "data": {
      "text/plain": [
       "'AOLXBPJRIYVDUMVEQBTWLKVCLYAOLSHGFKVNZ'"
      ]
     },
     "execution_count": 3,
     "metadata": {},
     "output_type": "execute_result"
    }
   ],
   "source": [
    "message_to_shift = \"THEQUICKBROWNFOXJUMPEDOVERTHELAZYDOGS\"\n",
    "shifted_message = scc.encipher_shift(message_to_shift,7)\n",
    "shifted_message"
   ]
  },
  {
   "cell_type": "markdown",
   "metadata": {
    "deletable": true,
    "editable": true
   },
   "source": [
    "Now that is definitely harder to read and it would make little to no sense to the untrained eye. Given this `shifted_message`, we can get the original message back by either\n",
    "1. using `sympy.crypto.crypto.encipher_shift` on `shifted_message` and using the negative of the original key\n",
    "2. using `sympy.crypto.crypto.decipher_shift` on `shifted_message` using the original key."
   ]
  },
  {
   "cell_type": "code",
   "execution_count": 9,
   "metadata": {
    "collapsed": false,
    "deletable": true,
    "editable": true
   },
   "outputs": [
    {
     "name": "stdout",
     "output_type": "stream",
     "text": [
      "THEQUICKBROWNFOXJUMPEDOVERTHELAZYDOGS\n"
     ]
    },
    {
     "data": {
      "text/plain": [
       "'THEQUICKBROWNFOXJUMPEDOVERTHELAZYDOGS'"
      ]
     },
     "execution_count": 9,
     "metadata": {},
     "output_type": "execute_result"
    }
   ],
   "source": [
    "print(scc.encipher_shift(shifted_message,-7))\n",
    "scc.decipher_shift(shifted_message,7)"
   ]
  },
  {
   "cell_type": "markdown",
   "metadata": {
    "deletable": true,
    "editable": true
   },
   "source": [
    "Now we have our original message back and we have two ways of doing so."
   ]
  },
  {
   "cell_type": "markdown",
   "metadata": {
    "deletable": true,
    "editable": true
   },
   "source": [
    "### 3. Using `sympy.crypto.crypto.encode_morse` and `sympy.crypto.crypto.decode_morse`\n",
    "\n",
    "[Morse code](https://en.wikipedia.org/wiki/Morse_code) is a way to communicate using short and long beeps. (Beeps are just one example. It can also be done using flashes of light for example). [Here](http://morsecode.scphillips.com/translator.html) is a website that will \"translate\" your message to morse and vice versa. The website also gives you the oppurtunity of listening to the Morse code via beeps. Try it out! `Sympy.crypto.crypto` also has a translator for us to use with Morse code. The function is called `encode_morse` and it simply takes the message that you wish to encode and returns the Morse equaivalent. `decode_morse` does the opposite, taking Morse code and returning the message. In Morse code, long beeps are denoted as `-`, short beeps are `.`, letters are seperated by `|`, and words are seperated by `||`."
   ]
  },
  {
   "cell_type": "code",
   "execution_count": 14,
   "metadata": {
    "collapsed": false,
    "deletable": true,
    "editable": true
   },
   "outputs": [
    {
     "data": {
      "text/plain": [
       "'---|-.|.||...|....|---|..-|.-..|-..||.-|.-..|.--|.-|-.--|...||...|.--|..|--||-|....|.||-.|..|.-..|.||.--|....|..|.-..|.||..|-.||.|--.|-.--|.--.|-'"
      ]
     },
     "execution_count": 14,
     "metadata": {},
     "output_type": "execute_result"
    }
   ],
   "source": [
    "morse_it = \"ONE SHOULD ALWAYS SWIM THE NILE WHILE IN EGYPT\"\n",
    "morsed_message = scc.encode_morse(morse_it)\n",
    "morsed_message"
   ]
  },
  {
   "cell_type": "code",
   "execution_count": 15,
   "metadata": {
    "collapsed": false,
    "deletable": true,
    "editable": true
   },
   "outputs": [
    {
     "data": {
      "text/plain": [
       "'ONE SHOULD ALWAYS SWIM THE NILE WHILE IN EGYPT'"
      ]
     },
     "execution_count": 15,
     "metadata": {},
     "output_type": "execute_result"
    }
   ],
   "source": [
    "scc.decode_morse(morsed_message)"
   ]
  },
  {
   "cell_type": "markdown",
   "metadata": {
    "deletable": true,
    "editable": true
   },
   "source": [
    "### 4. Using `sympy.crypto.crypto.encipher_bifid6` and `sympy.crypto.crypto.decipher_bifid6`\n",
    "\n",
    "Our last encoding process we will be looking at will be the most complex of what we've seen so far. The [Wikipedia page](https://en.wikipedia.org/wiki/Bifid_cipher) on Bifid ciphers offers a good explanation which I will redo but with a  $6 x 6$ Polybius square. `sympy.crypto.crypto.encipher_bifid6` takes in a message to encode and a key and return the encoded message."
   ]
  },
  {
   "cell_type": "markdown",
   "metadata": {
    "deletable": true,
    "editable": true
   },
   "source": [
    "#### Worked example using $6x6$ Polybius square\n",
    "\n",
    "The standard $6x6$ Polybius square is given as ![6x6 polybius square](http://crypto.interactive-maths.com/uploads/1/1/3/4/11345755/6430130.jpg?162) Given our key, we first fill in the squares using our key (our key cannot have duplicate characters) and then we fill it in using the rest of the alphabet and numbers. So if we gave a key that is 36 characters long, the squares would be filled in similar to this: ![ filled in square](https://s3.amazonaws.com/gs-geo-images/3964d0c9-db36-4969-ac6f-56cefd0d71eb.jpg)The key for this square would be \"0EIN6VA1J7RWBF2OSXC8K3TY9GLP4ZDHMQU5\". "
   ]
  },
  {
   "cell_type": "markdown",
   "metadata": {
    "deletable": true,
    "editable": true
   },
   "source": [
    "Say our message is \"Eating 3 mangos a day is good for you\". Then we would locate each character in our square and write down the coordinates, putting the row numbers on one row and the column numbers on the bottom row. "
   ]
  },
  {
   "cell_type": "code",
   "execution_count": 17,
   "metadata": {
    "collapsed": true,
    "deletable": true,
    "editable": true
   },
   "outputs": [],
   "source": [
    "# eating 3 mangos a day is good for you\n",
    "# ABDAAE D FBAECC B FBD AC ECCF CCB DCF\n",
    "# 215342 4 314245 2 116 35 2441 245 645"
   ]
  },
  {
   "cell_type": "markdown",
   "metadata": {
    "deletable": true,
    "editable": true
   },
   "source": [
    "Now we read it left to right "
   ]
  },
  {
   "cell_type": "code",
   "execution_count": 18,
   "metadata": {
    "collapsed": true,
    "deletable": true,
    "editable": true
   },
   "outputs": [],
   "source": [
    "# ABDAAE D FBAECC B FBD AC ECCF CCB D 215342 4 314245 2 116 35 2441 245 645"
   ]
  },
  {
   "cell_type": "markdown",
   "metadata": {
    "deletable": true,
    "editable": true
   },
   "source": [
    "And we group them in pairs to get a new character. We convert A to 1, B to 2, and so forth."
   ]
  },
  {
   "cell_type": "code",
   "execution_count": 20,
   "metadata": {
    "collapsed": true,
    "deletable": true,
    "editable": true
   },
   "outputs": [],
   "source": [
    "# AB DA AE DF BA EC CB FB DA CE CC FC CB D2 15 34 24 31 42 45 21 16 35 24 41 24 56 45\n",
    "# 12 41 15 45 21 63 32 62 41 35 33 63 32 42 15 34 24 31 42 45 21 16 35 24 41 24 56 45\n",
    "# E  C  6  T  A  M  F  H  C  S  2  M  F  8  6  O  7  B  8  T  A  V  S   7  C  7  Z  T    "
   ]
  },
  {
   "cell_type": "markdown",
   "metadata": {
    "deletable": true,
    "editable": true
   },
   "source": [
    "And that is our encoded message. We can also achieve the same result using `sympy.crypto.crypto.encipher_bifid6."
   ]
  },
  {
   "cell_type": "code",
   "execution_count": 6,
   "metadata": {
    "collapsed": false,
    "deletable": true,
    "editable": true
   },
   "outputs": [
    {
     "data": {
      "text/plain": [
       "'EC6YALFHCS2MFKH6O7B8T0VS7C7ZT'"
      ]
     },
     "execution_count": 6,
     "metadata": {},
     "output_type": "execute_result"
    }
   ],
   "source": [
    "encode_this = \"EATING 3 MANGOS A DAY IS GOOD FOR YOU\"\n",
    "key = \"0EIN6VA1J7RWBF2OSXC8K3TY9GLP4ZDHMQU5\"\n",
    "encoded_message = scc.encipher_bifid6(encode_this,key)\n",
    "encoded_message"
   ]
  },
  {
   "cell_type": "markdown",
   "metadata": {
    "deletable": true,
    "editable": true
   },
   "source": [
    "And we see that we get the same result. Similarly, we can decipher the encoded message using `sympy.crypto.crypto.decipher_bifid6` or doing the reverse of what we did before."
   ]
  },
  {
   "cell_type": "code",
   "execution_count": 7,
   "metadata": {
    "collapsed": false,
    "deletable": true,
    "editable": true
   },
   "outputs": [
    {
     "data": {
      "text/plain": [
       "'EATING3MANGOSADAYISGOODFORYOU'"
      ]
     },
     "execution_count": 7,
     "metadata": {},
     "output_type": "execute_result"
    }
   ],
   "source": [
    "scc.decipher_bifid6(encoded_message,key)"
   ]
  },
  {
   "cell_type": "markdown",
   "metadata": {
    "deletable": true,
    "editable": true
   },
   "source": [
    "## Combination of ciphers\n",
    "\n",
    "Say we had a super super secret message and we wanted to encode it as best as we could. A fairly simple way of achieving this goal is to combine two or more ciphers in order to encode our message. Here, let's first apply the`sympy.crypto.crypto.encipher_bifid6` with a 36 character long key, then apply the `sympy.crypto.crypto.encode_morse` in order to achieve maximum secrecy. "
   ]
  },
  {
   "cell_type": "code",
   "execution_count": 4,
   "metadata": {
    "collapsed": false,
    "deletable": true,
    "editable": true
   },
   "outputs": [
    {
     "data": {
      "text/plain": [
       "'.-.|--..|.-.|.--.|--|--|...-|...|--|----|.|----.|-.-.|.|-.--|-..|....|....-|-.--|-..-|-...|--|--..|..|-..|....|....-|-.-.|-----|-.-|..-.|.|--...|..|..-.|-.|-.--|--...|....-|----|-.-|-....|-....|.-|..---|..-.|.-|.|.--.|.-|...--|....|-|--.|--...|-...|...|.--.|.-|...--|--|-.-|....-|-.--|-.--|...-'"
      ]
     },
     "execution_count": 4,
     "metadata": {},
     "output_type": "execute_result"
    }
   ],
   "source": [
    "super_secret_message = \"All happy households are alike; each unhappy household is unhappy in its own way.\"\n",
    "super_secret_key = \"0EIN6VA1J7RWBF2OSXC8K3TY9GLP4ZDHMQU5\"\n",
    "not_yet_encoded_to_our_satisfaction = scc.encipher_bifid6(super_secret_message,super_secret_key)\n",
    "superly_encoded_message = scc.encode_morse(not_yet_encoded_to_our_satisfaction)\n",
    "superly_encoded_message"
   ]
  },
  {
   "cell_type": "markdown",
   "metadata": {
    "deletable": true,
    "editable": true
   },
   "source": [
    "And now if anyone is willing to sit down and decode THAT, then you should give them a round of applause. But the average human being will hopefully shudder and leave your super secret message be."
   ]
  },
  {
   "cell_type": "markdown",
   "metadata": {
    "deletable": true,
    "editable": true
   },
   "source": [
    "## Conclusion and further readings\n",
    "\n",
    "From doing even our simplest examples, we can see how useful the field of cryptography can be. Some of these encoding processes have been popularized such as the Enigma machine featured in [The Imitation Game](http://www.imdb.com/title/tt2084970/). For an introduction to cryptography, watch [this](https://www.youtube.com/watch?v=-yFZGF8FHSg), and for a whole lecture series, try [this](https://www.youtube.com/watch?v=2aHkqB2-46k). "
   ]
  },
  {
   "cell_type": "markdown",
   "metadata": {
    "deletable": true,
    "editable": true
   },
   "source": [
    "## Exercises\n",
    "\n",
    "1. Design your own cipher and try encoding (and decoding) a message of your choice.\n",
    "2. Combine two or more `symopy.crypto.crypto` functions in order to encode a message of your choice.\n",
    "3. Choose a function we did not cover in this tutorial and try to do the encoding (and decoding) by hand."
   ]
  }
 ],
 "metadata": {
  "kernelspec": {
   "display_name": "Python 3",
   "language": "python",
   "name": "python3"
  },
  "language_info": {
   "codemirror_mode": {
    "name": "ipython",
    "version": 3
   },
   "file_extension": ".py",
   "mimetype": "text/x-python",
   "name": "python",
   "nbconvert_exporter": "python",
   "pygments_lexer": "ipython3",
   "version": "3.5.2"
  }
 },
 "nbformat": 4,
 "nbformat_minor": 2
}
