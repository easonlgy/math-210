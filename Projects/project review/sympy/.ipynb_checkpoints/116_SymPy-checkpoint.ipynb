{
 "cells": [
  {
   "cell_type": "markdown",
   "metadata": {
    "deletable": true,
    "editable": true
   },
   "source": [
    "# MATH 210 Project I \n",
    "\n",
    "##  Package: `sympy`"
   ]
  },
  {
   "cell_type": "markdown",
   "metadata": {
    "deletable": true,
    "editable": true
   },
   "source": [
    "## Introduction of `sympy`\n",
    "\n",
    "\n",
    "SymPy is a symbolic mathematics package in Python library and it also covers many useful functions which can help to solve series problems. (More information we can find in the [documentation](http://docs.sympy.org/latest/modules/series/index.html)). \n",
    "**My goal** in this notebook is to explore **three functions** in this package `sympy`. Because I also take MATH 301 in this term, and it covers many interesting series questions, I think maybe try to use Python and `sympy` package will help me understand and solve this kind of problems. In particular, I will explore the **`limit`**,**`series`** and **`residue`** as the main topic for my first project. I hope my notebook can help readers understand how to use these three functions to solve problems.\n",
    "\n",
    "* `sympy.limit`   (see the [documentation](http://docs.sympy.org/latest/modules/series/series.html#limits))\n",
    "* `sympy.series`   (see the [documentation](http://docs.sympy.org/latest/modules/series/series.html#more-intuitive-series-expansion))\n",
    "* `sympy.residue`   (see the [documentation](http://docs.sympy.org/latest/modules/series/series.html#residues))"
   ]
  },
  {
   "cell_type": "markdown",
   "metadata": {
    "deletable": true,
    "editable": true
   },
   "source": [
    "## Contents\n",
    "\n",
    "1. To find the value of the terms of a sequence tend to by using `limit`\n",
    "2. To find the formula of series around some numbers by using `series` \n",
    "3. To find the residues of series by using `residue`"
   ]
  },
  {
   "cell_type": "code",
   "execution_count": null,
   "metadata": {
    "collapsed": true,
    "deletable": true,
    "editable": true
   },
   "outputs": [],
   "source": [
    "import sympy as sym"
   ]
  },
  {
   "cell_type": "markdown",
   "metadata": {
    "deletable": true,
    "editable": true
   },
   "source": [
    "### 1. To find the value of the terms of a sequence tend to by using `limit`\n",
    "\n",
    "* using `limit` to find the specific value of some functions in particular range(i.e. for $t \\rightarrow \\infty$)\n",
    "* using `limit` for Series Tests\n",
    "  * Divergence Test\n",
    "  * Limit Comparsion Test"
   ]
  },
  {
   "cell_type": "markdown",
   "metadata": {
    "collapsed": true,
    "deletable": true,
    "editable": true
   },
   "source": [
    "#### 1.1 using `limit` to find the specific value of some functions in particular range\n",
    "\n",
    "Signature from documentation: `sym.limit(e, z, z0, dir='+')`\n",
    "\n",
    "We should know the function `limit` takes three main input parameters `e`,`z`,`z0` which reperesent we want to compute the limit of $e(z)$ at the point $z_0$. And we also can add one more parameter which is `dir='+'` or `dir='-'` to determind the direction of the infinity. \n",
    "\n",
    "**Example 1 ** : Let's use `limit` to find $ \\lim_{z \\rightarrow 0} \\left(\\frac{z}{\\sin(z)} \\right) $. \n"
   ]
  },
  {
   "cell_type": "code",
   "execution_count": null,
   "metadata": {
    "collapsed": false,
    "deletable": true,
    "editable": true
   },
   "outputs": [],
   "source": [
    "from sympy.abc import z"
   ]
  },
  {
   "cell_type": "code",
   "execution_count": null,
   "metadata": {
    "collapsed": true,
    "deletable": true,
    "editable": true
   },
   "outputs": [],
   "source": [
    "z = sym.Symbol('z')"
   ]
  },
  {
   "cell_type": "code",
   "execution_count": null,
   "metadata": {
    "collapsed": false,
    "deletable": true,
    "editable": true
   },
   "outputs": [],
   "source": [
    "sym.limit(z/sym.sin(z),z,0)"
   ]
  },
  {
   "cell_type": "markdown",
   "metadata": {
    "deletable": true,
    "editable": true
   },
   "source": [
    "** Example 2** : \n",
    "Let's use `limit` to find $ \\lim_{n \\rightarrow \\infty} \\left(\\sqrt{n+1} -\\sqrt(n) \\right) $. "
   ]
  },
  {
   "cell_type": "code",
   "execution_count": null,
   "metadata": {
    "collapsed": true,
    "deletable": true,
    "editable": true
   },
   "outputs": [],
   "source": [
    "from sympy.abc import n\n",
    "n = sym.Symbol('n')"
   ]
  },
  {
   "cell_type": "code",
   "execution_count": null,
   "metadata": {
    "collapsed": false,
    "deletable": true,
    "editable": true
   },
   "outputs": [],
   "source": [
    "sym.limit(sym.sqrt(n+1)-sym.sqrt(n),n,sym.oo)"
   ]
  },
  {
   "cell_type": "markdown",
   "metadata": {
    "deletable": true,
    "editable": true
   },
   "source": [
    "** Example 3**:\n",
    "Let's use `limit` to find $ \\lim_{z \\rightarrow 0^-} \\left(\\frac{1}{z} \\right) $ and $ \\lim_{z \\rightarrow 0^+} \\left(\\frac{1}{z} \\right) $"
   ]
  },
  {
   "cell_type": "code",
   "execution_count": null,
   "metadata": {
    "collapsed": false,
    "deletable": true,
    "editable": true
   },
   "outputs": [],
   "source": [
    "sym.limit(1/z,z,0,dir='+')"
   ]
  },
  {
   "cell_type": "code",
   "execution_count": null,
   "metadata": {
    "collapsed": false,
    "deletable": true,
    "editable": true
   },
   "outputs": [],
   "source": [
    "sym.limit(1/z,z,0,dir='-')"
   ]
  },
  {
   "cell_type": "markdown",
   "metadata": {
    "deletable": true,
    "editable": true
   },
   "source": [
    "** Attention**\n",
    "\n",
    "Here we need to import `z` and `n` from sympy.abc to make sure when we use the function `limit`, input parameters will be considered as variables instead of string. And `sym.oo` reperesent as $\\infty$ in SymPy. "
   ]
  },
  {
   "cell_type": "markdown",
   "metadata": {
    "deletable": true,
    "editable": true
   },
   "source": [
    "#### 1.2 using `limit` for Series Tests \n",
    "  * Divergence Test\n",
    "  * Limit Comparsion Test"
   ]
  },
  {
   "cell_type": "markdown",
   "metadata": {
    "deletable": true,
    "editable": true
   },
   "source": [
    "#####  Divergence Test \n",
    "\n",
    "If the limit of $a_n$  is not zero, or does not exist, then the sum of series $a_n$ diverges. \n",
    "\n",
    "** Example 1** \n",
    "Test $\\sum_{n=1}^{\\infty}\\frac{n+1}{n}$ is diverges."
   ]
  },
  {
   "cell_type": "code",
   "execution_count": null,
   "metadata": {
    "collapsed": false,
    "deletable": true,
    "editable": true
   },
   "outputs": [],
   "source": [
    "sym.limit((n+1)/n,n,sym.oo)"
   ]
  },
  {
   "cell_type": "markdown",
   "metadata": {
    "deletable": true,
    "editable": true
   },
   "source": [
    "As can be seen, the limit of this series is $\\not = 0$, so we proved that $a_n$ is diverges."
   ]
  },
  {
   "cell_type": "markdown",
   "metadata": {
    "deletable": true,
    "editable": true
   },
   "source": [
    "##### The Limit Comparison Test\n",
    "\n",
    "If the limit of $\\frac {a_n}{b_n} $ is positive, then the sum of $a_n$ converges if and only if the sum of $b_n$ converges. \n",
    "\n",
    "If the limit of $\\frac {a_n}{b_n} $ is zero, and the sum of $b_n$ converges, then the sum of $a_n$ also converges.\n",
    "\n",
    "If the limit of $\\frac {a_n}{b_n} $ is infinite, and the sum of $b_n$ diverges, then the sum of $a_n$ also diverges.\n",
    "\n",
    "** Example 2**\n",
    "Test $a_n = \\sum_{n=1}^{\\infty}\\frac{1}{n+1}, b_n = \\sum_{n=1}^{\\infty}\\frac{1}{n}$ where we know $a_n$ is diverges.  "
   ]
  },
  {
   "cell_type": "code",
   "execution_count": null,
   "metadata": {
    "collapsed": false,
    "deletable": true,
    "editable": true
   },
   "outputs": [],
   "source": [
    "sym.limit((1/(n+1))/(1/n),n,sym.oo)"
   ]
  },
  {
   "cell_type": "markdown",
   "metadata": {
    "deletable": true,
    "editable": true
   },
   "source": [
    "The limit is positive, so the two series converge or diverge together. Since $a_n$ is diverges, thus $b_n$ is diverges too. "
   ]
  },
  {
   "cell_type": "markdown",
   "metadata": {
    "deletable": true,
    "editable": true
   },
   "source": [
    "** Remark **\n",
    "\n",
    "The function `limit` in SymPy is not only used for seriers but also can be used for finding limit value of functions. "
   ]
  },
  {
   "cell_type": "markdown",
   "metadata": {
    "deletable": true,
    "editable": true
   },
   "source": [
    "** Extra Example **\n",
    "\n",
    "Let's check that $ \\lim_{h \\rightarrow 0} \\left(\\frac{f(t+h)}{f(t)} \\right) = e ^{\\frac{f'(t)}{f(t)}} $"
   ]
  },
  {
   "cell_type": "code",
   "execution_count": null,
   "metadata": {
    "collapsed": true,
    "deletable": true,
    "editable": true
   },
   "outputs": [],
   "source": [
    "from sympy.abc import h,t\n",
    "h = sym.Symbol('h')\n",
    "t = sym.Symbol('t')"
   ]
  },
  {
   "cell_type": "code",
   "execution_count": null,
   "metadata": {
    "collapsed": true,
    "deletable": true,
    "editable": true
   },
   "outputs": [],
   "source": [
    "def f(t):\n",
    "    return sym.sin(t)\n",
    "t = sym.pi/2"
   ]
  },
  {
   "cell_type": "code",
   "execution_count": null,
   "metadata": {
    "collapsed": false,
    "deletable": true,
    "editable": true
   },
   "outputs": [],
   "source": [
    "sym.limit(f(t+h)/f(t),h,0)"
   ]
  },
  {
   "cell_type": "code",
   "execution_count": null,
   "metadata": {
    "collapsed": true,
    "deletable": true,
    "editable": true
   },
   "outputs": [],
   "source": [
    "from scipy.misc import derivative"
   ]
  },
  {
   "cell_type": "code",
   "execution_count": null,
   "metadata": {
    "collapsed": false,
    "deletable": true,
    "editable": true
   },
   "outputs": [],
   "source": [
    "f0 = f(t)\n",
    "f1 = derivative(f,t,dx=0.001,n=1)"
   ]
  },
  {
   "cell_type": "code",
   "execution_count": null,
   "metadata": {
    "collapsed": false,
    "deletable": true,
    "editable": true
   },
   "outputs": [],
   "source": [
    "sym.exp(f1/f0)"
   ]
  },
  {
   "cell_type": "markdown",
   "metadata": {
    "deletable": true,
    "editable": true
   },
   "source": [
    "As can be seen, we proved that \n",
    "$ \\lim_{h \\rightarrow 0} \\left(\\frac{f(t+h)}{f(t)} \\right) = e ^{\\frac{f'(t)}{f(t)}} $"
   ]
  },
  {
   "cell_type": "markdown",
   "metadata": {
    "deletable": true,
    "editable": true
   },
   "source": [
    "### 2. To find the formula of series around some numbers by using `series` \n",
    "\n",
    "A series is a formula expression of the form $a_0 + a_1 + ... = \\sum_{i = 0}^{\\infty} a_i$.\n",
    "\n",
    "* Taylor Series : $f(z_0)+f'(z_0)(z-z_0)+ \\frac{f''(z_0)}{2!}(z-z_0)^2 + \\dots = \\sum_{j=0}^{\\infty} \\frac{f^{(j)} (z_0)}{j!}(z-z_0)^j$\n",
    "\n",
    "* Laurent Series : $f(z) = \\sum_{j=0}^{\\infty} a_j (z-z_0)^j + \\sum_{j=1}^{\\infty} a_{-j} (z-z_0)^{-j} $ \n",
    "\n",
    "*`series` will show Laurent Series to express complex functions in cases where a Taylor series expansion cannot be applied.*"
   ]
  },
  {
   "cell_type": "markdown",
   "metadata": {
    "deletable": true,
    "editable": true
   },
   "source": [
    "`Signature from documentation: sym.series(expr, x=None, x0=0, n=6, dir='+')`\n",
    "\n",
    "The function `series` will take two main input parameters `expr` and variable `x` and we can also add `x0 `, `n ` and `dir = '+'`. Adding `x0 = (any number)` will show us the Series expansion of expr around point `x = x0` and `n = (any number)` represent we want series to stop before we reach $x^n$.Moreover, the `dir` will change the sign of our varable `x` in the expression."
   ]
  },
  {
   "cell_type": "markdown",
   "metadata": {
    "collapsed": true,
    "deletable": true,
    "editable": true
   },
   "source": [
    "#### Example1: change $cos(z)$ into Taylor Series \n",
    "Check by comparing the limit value of this series with actual value we can calculate."
   ]
  },
  {
   "cell_type": "code",
   "execution_count": null,
   "metadata": {
    "collapsed": false,
    "deletable": true,
    "editable": true
   },
   "outputs": [],
   "source": [
    "sym.series(sym.cos(z),z)"
   ]
  },
  {
   "cell_type": "code",
   "execution_count": null,
   "metadata": {
    "collapsed": false,
    "deletable": true,
    "editable": true
   },
   "outputs": [],
   "source": [
    "# Show the Taylor Series for cos(z) around z=0\n",
    "sym.limit(sym.series(sym.cos(z),z),z,0)"
   ]
  },
  {
   "cell_type": "code",
   "execution_count": null,
   "metadata": {
    "collapsed": false,
    "deletable": true,
    "editable": true
   },
   "outputs": [],
   "source": [
    "# Show the value of cos(0)\n",
    "sym.cos(0)"
   ]
  },
  {
   "cell_type": "code",
   "execution_count": null,
   "metadata": {
    "collapsed": false,
    "deletable": true,
    "editable": true
   },
   "outputs": [],
   "source": [
    "sym.series(sym.cos(z),z,sym.pi)"
   ]
  },
  {
   "cell_type": "code",
   "execution_count": null,
   "metadata": {
    "collapsed": false,
    "deletable": true,
    "editable": true
   },
   "outputs": [],
   "source": [
    "# Show the Taylor Series for cos(z) around z= pi\n",
    "sym.limit(sym.series(sym.cos(z),z,sym.pi),z,sym.pi)"
   ]
  },
  {
   "cell_type": "code",
   "execution_count": null,
   "metadata": {
    "collapsed": false,
    "deletable": true,
    "editable": true
   },
   "outputs": [],
   "source": [
    "# Show the value of cos(pi)\n",
    "sym.cos(sym.pi)"
   ]
  },
  {
   "cell_type": "code",
   "execution_count": null,
   "metadata": {
    "collapsed": false,
    "deletable": true,
    "editable": true
   },
   "outputs": [],
   "source": [
    "# When we choose n = 9, then function series shows all the expression before we get z^9\n",
    "sym.series(sym.cos(z),z,0,n=9)"
   ]
  },
  {
   "cell_type": "code",
   "execution_count": null,
   "metadata": {
    "collapsed": false,
    "deletable": true,
    "editable": true
   },
   "outputs": [],
   "source": [
    "# When we choose n = 12, then function series shows all the expression before we get z^12\n",
    "sym.series(sym.cos(z),z,0,n=12)"
   ]
  },
  {
   "cell_type": "code",
   "execution_count": null,
   "metadata": {
    "collapsed": false,
    "deletable": true,
    "editable": true,
    "scrolled": true
   },
   "outputs": [],
   "source": [
    "sym.series(sym.cos(z),z,0,n=3, dir='+')"
   ]
  },
  {
   "cell_type": "code",
   "execution_count": null,
   "metadata": {
    "collapsed": false,
    "deletable": true,
    "editable": true
   },
   "outputs": [],
   "source": [
    "sym.series(sym.cos(z),z,0,n=3, dir='-')"
   ]
  },
  {
   "cell_type": "code",
   "execution_count": null,
   "metadata": {
    "collapsed": false,
    "deletable": true,
    "editable": true
   },
   "outputs": [],
   "source": [
    "sym.series(sym.cos(z),z,sym.pi,n=6,dir= '+')"
   ]
  },
  {
   "cell_type": "code",
   "execution_count": null,
   "metadata": {
    "collapsed": false,
    "deletable": true,
    "editable": true
   },
   "outputs": [],
   "source": [
    "sym.series(sym.cos(z),z,sym.pi,n=6,dir= '-')"
   ]
  },
  {
   "cell_type": "markdown",
   "metadata": {
    "collapsed": true,
    "deletable": true,
    "editable": true
   },
   "source": [
    "As can be seen, the input `dir = '+' ` will make a change about the sign of variable $z$ in our expression.  "
   ]
  },
  {
   "cell_type": "markdown",
   "metadata": {
    "collapsed": true,
    "deletable": true,
    "editable": true
   },
   "source": [
    "#### Example2: change $e^z$ into Taylor Series "
   ]
  },
  {
   "cell_type": "code",
   "execution_count": null,
   "metadata": {
    "collapsed": false,
    "deletable": true,
    "editable": true,
    "scrolled": true
   },
   "outputs": [],
   "source": [
    "sym.series(sym.exp(z),z)"
   ]
  },
  {
   "cell_type": "code",
   "execution_count": null,
   "metadata": {
    "collapsed": false,
    "deletable": true,
    "editable": true,
    "scrolled": true
   },
   "outputs": [],
   "source": [
    "sym.limit(sym.series(sym.exp(z),z),z,0.1)"
   ]
  },
  {
   "cell_type": "code",
   "execution_count": null,
   "metadata": {
    "collapsed": false,
    "deletable": true,
    "editable": true
   },
   "outputs": [],
   "source": [
    "sym.exp(0.1)"
   ]
  },
  {
   "cell_type": "code",
   "execution_count": null,
   "metadata": {
    "collapsed": false,
    "deletable": true,
    "editable": true
   },
   "outputs": [],
   "source": [
    "sym.series(sym.exp(z),z,2,n=5,dir='+')"
   ]
  },
  {
   "cell_type": "code",
   "execution_count": null,
   "metadata": {
    "collapsed": false,
    "deletable": true,
    "editable": true,
    "scrolled": true
   },
   "outputs": [],
   "source": [
    "sym.series(sym.exp(z),z,2,n=5,dir='-')"
   ]
  },
  {
   "cell_type": "markdown",
   "metadata": {
    "deletable": true,
    "editable": true
   },
   "source": [
    "#### Example3: find Laurent Expansion for $ \\frac{1}{z^4+z^2}$ about $z=0$"
   ]
  },
  {
   "cell_type": "code",
   "execution_count": null,
   "metadata": {
    "collapsed": false,
    "deletable": true,
    "editable": true,
    "scrolled": false
   },
   "outputs": [],
   "source": [
    "sym.series((1/(z**4+z**2)),z,0)"
   ]
  },
  {
   "cell_type": "markdown",
   "metadata": {
    "deletable": true,
    "editable": true
   },
   "source": [
    "#### Example4: find Laurent Expansion for $\\frac{\\sin(z)}{z^3}$"
   ]
  },
  {
   "cell_type": "code",
   "execution_count": null,
   "metadata": {
    "collapsed": false,
    "deletable": true,
    "editable": true
   },
   "outputs": [],
   "source": [
    "sym.series((sym.sin(z)/(z**3)),z)"
   ]
  },
  {
   "cell_type": "markdown",
   "metadata": {
    "deletable": true,
    "editable": true
   },
   "source": [
    "### 3. To find the residues of series by using `residue`\n",
    "\n",
    "** Definition of The Residue Theorem**\n",
    "\n",
    "If $f$ has an isolated singularity at $z_0$ then the coefficient $a_{-1}$ of $\\frac{1}{z-z_0}$ in the Laurent expansion for $f$ around $z_0$ is called the residue of $f$ at $z_0$ and it can be written as $ Res\\,(f;z_0) = a_{-1}$ and we also have that $\\int_{\\Gamma} \\,f(z) dz= 2\\pi i \\, a_{-1} $. "
   ]
  },
  {
   "cell_type": "markdown",
   "metadata": {
    "deletable": true,
    "editable": true
   },
   "source": [
    "`Signature from documentation: sym.residue(expr, x, x0)` \n",
    "\n",
    "The function `residue` will take three main input parameters `expr` and variable `x` and `x0 ` and gives the residue of ``expr`` at the point $x=x_0$ . By the definition, we know that the residue is defined as the coefficient $a_{-1}$ of $\\frac{1}{x-x_0}$ in the series expansion about $x=x_0$."
   ]
  },
  {
   "cell_type": "markdown",
   "metadata": {
    "collapsed": false,
    "deletable": true,
    "editable": true
   },
   "source": [
    "** Remark (Theorem)**\n",
    "\n",
    "If $f$ has a pole of order $m$ at $z_0$ then \n",
    "$$\n",
    "Res(f;z_0) = \\lim_{z \\rightarrow z_0} \\frac{1}{(m-1)!} \\frac{d^{m-1}}{dz^{m-1}} \\left[(z-z_0)^m f(z)\\right]\n",
    "$$"
   ]
  },
  {
   "cell_type": "markdown",
   "metadata": {
    "collapsed": false,
    "deletable": true,
    "editable": true
   },
   "source": [
    "#### Example1:  find the residue of $\\frac{\\cot(\\pi z)}{z^2}$  at $z = 0$"
   ]
  },
  {
   "cell_type": "code",
   "execution_count": null,
   "metadata": {
    "collapsed": false,
    "deletable": true,
    "editable": true
   },
   "outputs": [],
   "source": [
    "sym.residue(sym.cot(sym.pi*z)/(z**2),z,0)"
   ]
  },
  {
   "cell_type": "code",
   "execution_count": null,
   "metadata": {
    "collapsed": false,
    "deletable": true,
    "editable": true
   },
   "outputs": [],
   "source": [
    "sym.series((sym.cot(sym.pi*z)/(z**2)),z,0)"
   ]
  },
  {
   "cell_type": "markdown",
   "metadata": {
    "collapsed": false,
    "deletable": true,
    "editable": true
   },
   "source": [
    "By check the Laurent Series of function $\\frac{\\cot(\\pi z)}{z^2}$, we can find the `residue` function gives us the value of coefficient $a_{-1}$ of $\\frac{1}{z-z_0}$ where follows our definition about residue. "
   ]
  },
  {
   "cell_type": "markdown",
   "metadata": {
    "collapsed": true,
    "deletable": true,
    "editable": true
   },
   "source": [
    "#### Example2:  find the residue of $\\frac{1}{z^2 (z-1)}$  at $z = 0$ and $z=1$\n",
    "\n",
    "Let's check Remark in this example."
   ]
  },
  {
   "cell_type": "code",
   "execution_count": null,
   "metadata": {
    "collapsed": false,
    "deletable": true,
    "editable": true
   },
   "outputs": [],
   "source": [
    "# use `residue` function to get a value\n",
    "sym.residue(1/((z**2)*(z-1)),z, 0)"
   ]
  },
  {
   "cell_type": "code",
   "execution_count": null,
   "metadata": {
    "collapsed": false,
    "deletable": true,
    "editable": true
   },
   "outputs": [],
   "source": [
    "# Check the theorem by using function `limit` \n",
    "# And here we can see m = 2 in this case\n",
    "sym.limit((-1*(z-1)**(-2)),z,0)"
   ]
  },
  {
   "cell_type": "code",
   "execution_count": null,
   "metadata": {
    "collapsed": false,
    "deletable": true,
    "editable": true
   },
   "outputs": [],
   "source": [
    "# use `residue` function to get a value\n",
    "sym.residue(1/((z**2)*(z-1)),z, 1)"
   ]
  },
  {
   "cell_type": "code",
   "execution_count": null,
   "metadata": {
    "collapsed": false,
    "deletable": true,
    "editable": true
   },
   "outputs": [],
   "source": [
    "# Check the theorem by using function `limit` \n",
    "# And here we can see m = 1 in this case\n",
    "sym.limit((1/(z**2)),z,1)"
   ]
  },
  {
   "cell_type": "markdown",
   "metadata": {
    "deletable": true,
    "editable": true
   },
   "source": [
    "## Conclusion \n",
    "\n",
    "As can be seen from above, these three functions `limit`,`series` and `residue` are actually related with each other. We can use function `limit` to check whether a particular series is converges or not. When we use the function `series` to get an expression series, we can also use `limit` to check whether this expression is correct or not by comparing some special values. Moreover, when we use `residue` to get the value of the coefficient $a_{-1}$ of $\\frac{1}{x-x_0}$ in the series expansion, both `limit` and `series` can help us check the answer. All in all, I hope my notebook can help readers to understand the relationship between these three functions and these notes can be useful for readers to solve the series problems. \n",
    "\n",
    "Thank you for reading. "
   ]
  },
  {
   "cell_type": "code",
   "execution_count": null,
   "metadata": {
    "collapsed": true,
    "deletable": true,
    "editable": true
   },
   "outputs": [],
   "source": []
  }
 ],
 "metadata": {
  "kernelspec": {
   "display_name": "Python 3",
   "language": "python",
   "name": "python3"
  },
  "language_info": {
   "codemirror_mode": {
    "name": "ipython",
    "version": 3
   },
   "file_extension": ".py",
   "mimetype": "text/x-python",
   "name": "python",
   "nbconvert_exporter": "python",
   "pygments_lexer": "ipython3",
   "version": "3.6.0"
  }
 },
 "nbformat": 4,
 "nbformat_minor": 2
}
