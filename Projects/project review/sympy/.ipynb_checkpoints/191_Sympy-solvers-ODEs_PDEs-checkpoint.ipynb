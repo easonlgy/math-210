{
 "cells": [
  {
   "cell_type": "markdown",
   "metadata": {
    "deletable": true,
    "editable": true
   },
   "source": [
    "# Math 210 Project 1\n",
    "\n",
    "## Solving mathematical problems symbolically with *sympy.solvers*\n"
   ]
  },
  {
   "cell_type": "markdown",
   "metadata": {
    "deletable": true,
    "editable": true
   },
   "source": [
    "*SymPy* is an extraordinary helpful package in Python language to solve mathmatical problems **symbolically**.\n",
    "Symbolic computation is very useful to find the **exact** solution but **not** the approximate answer. Generally, *Sympy* can solve many different sorts of problems such as([*see the document( the part of **The Power of Symbolic Computation**)*](http://docs.sympy.org/dev/tutorial/intro.html)) As a subpackage of SymPy, sympy.solvers have all the advantages listed above([see the document](http://docs.sympy.org/dev/tutorial/solvers.html#solving-differential-equations)) and the following are its main function:"
   ]
  },
  {
   "cell_type": "markdown",
   "metadata": {
    "deletable": true,
    "editable": true
   },
   "source": [
    "#### 1.Solving differential equations\n",
    "#### 2.Solving equations algebraically"
   ]
  },
  {
   "cell_type": "markdown",
   "metadata": {
    "collapsed": true,
    "deletable": true,
    "editable": true
   },
   "source": [
    "In my project, my **aim** is to focus on finding **2 functions** in the subpackage sympy.solvers. Sympy.solvers is used to find the **symbolic** solution of equations. In this notebook, we will explore **Ordinary Differential Equation** and **Partial Differential Equation** and try to find solutions. In the end, the peers will know how to find the solutions of those two differential equations by using the following functions:"
   ]
  },
  {
   "cell_type": "markdown",
   "metadata": {
    "deletable": true,
    "editable": true
   },
   "source": [
    "* sympy.solvers.ode.dsolve ([see the document](http://docs.sympy.org/dev/modules/solvers/ode.html))"
   ]
  },
  {
   "cell_type": "markdown",
   "metadata": {
    "deletable": true,
    "editable": true
   },
   "source": [
    "* sympy.solvers.pde.pdsolve ([see the document](http://docs.sympy.org/dev/modules/solvers/pde.html))"
   ]
  },
  {
   "cell_type": "markdown",
   "metadata": {
    "deletable": true,
    "editable": true
   },
   "source": [
    "### Content: \n",
    "\n",
    "##### 1.Ordinary Differential Equations:ode.dsolve \n",
    "##### 2.Partial Differential Equations:pde.pdsolve\n",
    "##### 3.Exercise"
   ]
  },
  {
   "cell_type": "code",
   "execution_count": null,
   "metadata": {
    "collapsed": true,
    "deletable": true,
    "editable": true
   },
   "outputs": [],
   "source": [
    "from sympy import Function, dsolve, Eq, Derivative, sin, cos, symbols\n",
    "from sympy.abc import x,y"
   ]
  },
  {
   "cell_type": "markdown",
   "metadata": {
    "deletable": true,
    "editable": true
   },
   "source": [
    "## Differential Equations"
   ]
  },
  {
   "cell_type": "markdown",
   "metadata": {
    "deletable": true,
    "editable": true
   },
   "source": [
    "## 1. Ordinary Differential Equations(ODEs)"
   ]
  },
  {
   "cell_type": "markdown",
   "metadata": {
    "deletable": true,
    "editable": true
   },
   "source": [
    "### Definition"
   ]
  },
  {
   "cell_type": "markdown",
   "metadata": {
    "deletable": true,
    "editable": true
   },
   "source": [
    "Ordinary Differential Equation(ODE) is a differential equation only having one independent variable. There are the function of the variable and its derivative in the equation. For more information, check it on [*wikipedia*](https://en.wikipedia.org/wiki/Ordinary_differential_equation)."
   ]
  },
  {
   "cell_type": "markdown",
   "metadata": {
    "deletable": true,
    "editable": true
   },
   "source": [
    "In general, the form of ODEs can be([see more information](http://mathworld.wolfram.com/OrdinaryDifferentialEquation.html)):\n",
    "$$\n",
    "U_{n}(x)y^{n}+U_{n-1}(x)y^{n-1}+U_{n-2}(x)y^{n-2}+U_{n-3}(x)y^{n-3}+\\cdots+U_{2}(x)y^{''}+U_{1}(x)y^{'}+U_{0}(x)y=Q(x)\n",
    "$$"
   ]
  },
  {
   "cell_type": "markdown",
   "metadata": {
    "deletable": true,
    "editable": true
   },
   "source": [
    "y is the function of x, and y' is the devirative of the function of x. Solving an ODE is to find, y, the function of x. If Q(x) equals to 0, it means this ODE is homogeneous. For a better understanding of ODE, here is an example of ODE:"
   ]
  },
  {
   "cell_type": "markdown",
   "metadata": {
    "deletable": true,
    "editable": true
   },
   "source": [
    "![Canon](https://upload.wikimedia.org/wikipedia/commons/thumb/a/a4/Parabolic_trajectory.svg/641px-Parabolic_trajectory.svg.png)"
   ]
  },
  {
   "cell_type": "markdown",
   "metadata": {
    "deletable": true,
    "editable": true
   },
   "source": [
    "There is a cannonball shooted on the graph. As we known, in general situation, this motion of cannonball is following the [*Newton Second Law*](https://en.wikipedia.org/wiki/Newton%27s_laws_of_motion#Newton.27s_second_law). The [*expression*](https://en.wikipedia.org/wiki/Ordinary_differential_equation) of the relation between the displacement x, the time t and the Force F is a kind of ODE:"
   ]
  },
  {
   "cell_type": "markdown",
   "metadata": {
    "deletable": true,
    "editable": true
   },
   "source": [
    "$$m\\frac{d^2x(t)}{dt^2}=F(x(t))$$"
   ]
  },
  {
   "cell_type": "markdown",
   "metadata": {
    "deletable": true,
    "editable": true
   },
   "source": [
    "### sympy.solvers.ode.dsolve"
   ]
  },
  {
   "cell_type": "markdown",
   "metadata": {
    "deletable": true,
    "editable": true
   },
   "source": [
    "The function sympy.solvers.ode.dsolve is used to find the solution of all kinds of ODEs.([see more information](https://en.wikipedia.org/wiki/Ordinary_differential_equation))"
   ]
  },
  {
   "cell_type": "markdown",
   "metadata": {
    "deletable": true,
    "editable": true
   },
   "source": [
    "### Example1"
   ]
  },
  {
   "cell_type": "markdown",
   "metadata": {
    "deletable": true,
    "editable": true
   },
   "source": [
    "$$\n",
    "f(x)''-8f(x)=0\n",
    "$$"
   ]
  },
  {
   "cell_type": "markdown",
   "metadata": {
    "deletable": true,
    "editable": true
   },
   "source": [
    "In this equation, we know f(x) is the function of x"
   ]
  },
  {
   "cell_type": "code",
   "execution_count": null,
   "metadata": {
    "collapsed": true,
    "deletable": true,
    "editable": true
   },
   "outputs": [],
   "source": [
    "f = Function('f') # we set the f(x) first"
   ]
  },
  {
   "cell_type": "markdown",
   "metadata": {
    "deletable": true,
    "editable": true
   },
   "source": [
    "After we set the function of x, we start to use dsolve to find solution. We write the equation first."
   ]
  },
  {
   "cell_type": "code",
   "execution_count": null,
   "metadata": {
    "collapsed": false,
    "deletable": true,
    "editable": true
   },
   "outputs": [],
   "source": [
    "eq = Derivative(f(x), x, x) - 8*f(x)"
   ]
  },
  {
   "cell_type": "markdown",
   "metadata": {
    "deletable": true,
    "editable": true
   },
   "source": [
    "Let us use dsolve!"
   ]
  },
  {
   "cell_type": "code",
   "execution_count": null,
   "metadata": {
    "collapsed": false,
    "deletable": true,
    "editable": true
   },
   "outputs": [],
   "source": [
    "dsolve(eq)"
   ]
  },
  {
   "cell_type": "markdown",
   "metadata": {
    "deletable": true,
    "editable": true
   },
   "source": [
    "Answer is gotten!"
   ]
  },
  {
   "cell_type": "markdown",
   "metadata": {
    "deletable": true,
    "editable": true
   },
   "source": [
    "### Example2"
   ]
  },
  {
   "cell_type": "markdown",
   "metadata": {
    "deletable": true,
    "editable": true
   },
   "source": [
    "$$\n",
    "f(x)'=5f(x)-2\n",
    "$$"
   ]
  },
  {
   "cell_type": "code",
   "execution_count": null,
   "metadata": {
    "collapsed": false,
    "deletable": true,
    "editable": true
   },
   "outputs": [],
   "source": [
    "diffeq = Eq(f(x).diff(x),5*f(x)-2)"
   ]
  },
  {
   "cell_type": "code",
   "execution_count": null,
   "metadata": {
    "collapsed": false,
    "deletable": true,
    "editable": true
   },
   "outputs": [],
   "source": [
    "dsolve(diffeq)"
   ]
  },
  {
   "cell_type": "markdown",
   "metadata": {
    "deletable": true,
    "editable": true
   },
   "source": [
    "Got answer again!"
   ]
  },
  {
   "cell_type": "markdown",
   "metadata": {
    "deletable": true,
    "editable": true
   },
   "source": [
    "## 2.Partial Differential Equations(PDEs)"
   ]
  },
  {
   "cell_type": "markdown",
   "metadata": {
    "deletable": true,
    "editable": true
   },
   "source": [
    "In contrast with Ordinary Differential Equations, PDEs may **not** have only one independent variable in the equation. PDEs contains the functions of the variables and their derivatives.However, compared to ODEs, PDEs are much more **diffcult** to solve, so we will focus on the situation that **two independent variables** in the equation. More information is on [*Wikipedia*](https://en.wikipedia.org/wiki/Partial_differential_equation)."
   ]
  },
  {
   "cell_type": "markdown",
   "metadata": {
    "collapsed": true,
    "deletable": true,
    "editable": true
   },
   "source": [
    "In general, the form of PDEs is([see more information on Wikipedia](https://en.wikipedia.org/wiki/Partial_differential_equation)):"
   ]
  },
  {
   "cell_type": "markdown",
   "metadata": {
    "deletable": true,
    "editable": true
   },
   "source": [
    "$$\n",
    "f(x_{1},x_{2},...x_{n},\\frac{\\partial u}{\\partial x_{1}},...,\\frac{\\partial u}{\\partial x_{n}},\\frac{\\partial u}{\\partial x_{1} \\partial x_{1}},...\\frac{\\partial u}{\\partial x_{1} \\partial x_{n}})=0 \\\\\n",
    "u = u(x_{1},...,x_{n})\n",
    "$$"
   ]
  },
  {
   "cell_type": "markdown",
   "metadata": {
    "deletable": true,
    "editable": true
   },
   "source": [
    "As I mentioned, PDEs are diffcult to find anwser when there are too many independent variable in the equation, thus we focus on solving the PDEs only having 2 independent variables. The following is the general from of the PDEs only have 2 variable inside([see more information](http://mathworld.wolfram.com/PartialDifferentialEquation.html)):"
   ]
  },
  {
   "cell_type": "markdown",
   "metadata": {
    "deletable": true,
    "editable": true
   },
   "source": [
    "$$\n",
    "A\\frac{\\partial^{2} u}{\\partial x^{2}}+2B\\frac{\\partial^{2} u}{\\partial x \\partial y}+C\\frac{\\partial^{2} u}{\\partial y^{2}}+D\\frac{\\partial u}{\\partial x}+E\\frac{\\partial u}{\\partial y}+F=0\n",
    "$$"
   ]
  },
  {
   "cell_type": "markdown",
   "metadata": {
    "deletable": true,
    "editable": true
   },
   "source": [
    "For example, heat equation is a kind of PDEs. eg:"
   ]
  },
  {
   "cell_type": "markdown",
   "metadata": {
    "deletable": true,
    "editable": true
   },
   "source": [
    "$$\n",
    "u_{t}=u_{xx}\n",
    "$$"
   ]
  },
  {
   "cell_type": "markdown",
   "metadata": {
    "deletable": true,
    "editable": true
   },
   "source": [
    "### sympy.solvers.pde.pdsolve"
   ]
  },
  {
   "cell_type": "markdown",
   "metadata": {
    "collapsed": true,
    "deletable": true,
    "editable": true
   },
   "source": [
    "The function sympy.solvers.pde.pdsolve is used to find the solution of all kinds of PDEs.([see more information](http://docs.sympy.org/dev/modules/solvers/pde.html))"
   ]
  },
  {
   "cell_type": "markdown",
   "metadata": {
    "deletable": true,
    "editable": true
   },
   "source": [
    "### Example"
   ]
  },
  {
   "cell_type": "markdown",
   "metadata": {
    "deletable": true,
    "editable": true
   },
   "source": [
    "$$ 3+7\\frac{u_{x}}{u}+5\\frac{u_{y}}{u}=0 $$"
   ]
  },
  {
   "cell_type": "code",
   "execution_count": null,
   "metadata": {
    "collapsed": true,
    "deletable": true,
    "editable": true
   },
   "outputs": [],
   "source": [
    "### import necessary modules\n",
    "from sympy.solvers.pde import pdsolve\n",
    "from sympy import Function, diff, Eq\n",
    "from sympy.abc import x, y"
   ]
  },
  {
   "cell_type": "code",
   "execution_count": null,
   "metadata": {
    "collapsed": true,
    "deletable": true,
    "editable": true
   },
   "outputs": [],
   "source": [
    "### set functions and u, which is f(x,y)\n",
    "f = Function('f')\n",
    "u = f(x, y)\n",
    "u_x = u.diff(x)\n",
    "u_y = u.diff(y)"
   ]
  },
  {
   "cell_type": "code",
   "execution_count": null,
   "metadata": {
    "collapsed": true,
    "deletable": true,
    "editable": true
   },
   "outputs": [],
   "source": [
    "### set up eq\n",
    "eq = Eq(3+ (7*(u_x/u)) + 5*(u_y/u))"
   ]
  },
  {
   "cell_type": "code",
   "execution_count": null,
   "metadata": {
    "collapsed": false,
    "deletable": true,
    "editable": true
   },
   "outputs": [],
   "source": [
    "pdsolve(eq)"
   ]
  },
  {
   "cell_type": "markdown",
   "metadata": {
    "deletable": true,
    "editable": true
   },
   "source": [
    "## 3.Practise Problems"
   ]
  },
  {
   "cell_type": "markdown",
   "metadata": {
    "deletable": true,
    "editable": true
   },
   "source": [
    "1.find the f(x) in the following ordinary differential equation:"
   ]
  },
  {
   "cell_type": "markdown",
   "metadata": {
    "deletable": true,
    "editable": true
   },
   "source": [
    "$$\n",
    "(8-x)f''(x)-4f'(x)+f(x)=9x\n",
    "$$"
   ]
  },
  {
   "cell_type": "markdown",
   "metadata": {
    "deletable": true,
    "editable": true
   },
   "source": [
    "2.find the u, which is f(x,y), in the following PDE:"
   ]
  },
  {
   "cell_type": "markdown",
   "metadata": {
    "deletable": true,
    "editable": true
   },
   "source": [
    "$$\n",
    "9\\frac{\\partial^{2} u}{\\partial x^{2}}-17\\frac{\\partial^{2} u}{\\partial x \\partial y}+7\\frac{\\partial^{2} u}{\\partial y^{2}}+11\\frac{\\partial u}{\\partial x}-10\\frac{\\partial u}{\\partial y}+7=0\n",
    "$$"
   ]
  }
 ],
 "metadata": {
  "kernelspec": {
   "display_name": "Python 3",
   "language": "python",
   "name": "python3"
  },
  "language_info": {
   "codemirror_mode": {
    "name": "ipython",
    "version": 3
   },
   "file_extension": ".py",
   "mimetype": "text/x-python",
   "name": "python",
   "nbconvert_exporter": "python",
   "pygments_lexer": "ipython3",
   "version": "3.6.0"
  }
 },
 "nbformat": 4,
 "nbformat_minor": 2
}
