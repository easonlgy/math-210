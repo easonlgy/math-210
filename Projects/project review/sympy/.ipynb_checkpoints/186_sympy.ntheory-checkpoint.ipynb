{
 "cells": [
  {
   "cell_type": "markdown",
   "metadata": {
    "deletable": true,
    "editable": true
   },
   "source": [
    "# MATH 210 Project I\n",
    "\n",
    "## Show some famous number theorems using  `sympy.ntheory`\n"
   ]
  },
  {
   "cell_type": "markdown",
   "metadata": {
    "deletable": true,
    "editable": true
   },
   "source": [
    "SymPy is a Python library for symbolic computation, and one of its core subpackage `sympy.ntheory` can be used in generating prime numbers, primality testing and integer factorization etc. (see [documentation](http://docs.sympy.org/latest/modules/ntheory.html))"
   ]
  },
  {
   "cell_type": "markdown",
   "metadata": {
    "deletable": true,
    "editable": true
   },
   "source": [
    "There are many builtin functions in `sympy.ntheory` which will play important roles in helping us understanding and visualizing some complicated number theories."
   ]
  },
  {
   "cell_type": "markdown",
   "metadata": {
    "deletable": true,
    "editable": true
   },
   "source": [
    "**Our goal** today is to use several number theories as examples to show how these functions in `sympy.ntheory` can help us in doing operations with numbers."
   ]
  },
  {
   "cell_type": "markdown",
   "metadata": {
    "deletable": true,
    "editable": true
   },
   "source": [
    "## Contents"
   ]
  },
  {
   "cell_type": "markdown",
   "metadata": {
    "deletable": true,
    "editable": true
   },
   "source": [
    "* Fundamental Theorem of Arithmetic\n",
    "    * Prime factorization\n",
    "\n",
    "using `sympy.ntheory.factorint` (see [documentation](http://docs.sympy.org/latest/modules/ntheory.html?highlight=factorint#sympy.ntheory.factor_.factorint))"
   ]
  },
  {
   "cell_type": "markdown",
   "metadata": {
    "deletable": true,
    "editable": true
   },
   "source": [
    "* Chinese Remainder Theorem\n",
    "\n",
    "using `sympy.ntheory.modular.solve_congruence`(see [documentation](http://docs.sympy.org/latest/modules/ntheory.html?highlight=modular.solve_congruence#sympy.ntheory.modular.solve_congruence))"
   ]
  },
  {
   "cell_type": "markdown",
   "metadata": {
    "deletable": true,
    "editable": true
   },
   "source": [
    "* Prime Number Theorem\n",
    "    * Prime-counting function\n",
    "    \n",
    "using `sympy.ntheory.generate.primepi`(see [documentation](http://docs.sympy.org/latest/modules/ntheory.html?highlight=primepi#sympy.ntheory.generate.primepi))"
   ]
  },
  {
   "cell_type": "code",
   "execution_count": null,
   "metadata": {
    "collapsed": false,
    "deletable": true,
    "editable": true
   },
   "outputs": [],
   "source": [
    "import numpy as np\n",
    "import sympy.ntheory as nt\n",
    "import matplotlib.pyplot as plt\n",
    "%matplotlib inline"
   ]
  },
  {
   "cell_type": "markdown",
   "metadata": {
    "deletable": true,
    "editable": true
   },
   "source": [
    "There are some basic but very useful builtin functions in `sympy.ntheory`, such as `sympy.ntheory.isprime` and `sympy.ntheory.nextprime`."
   ]
  },
  {
   "cell_type": "code",
   "execution_count": null,
   "metadata": {
    "collapsed": true,
    "deletable": true,
    "editable": true
   },
   "outputs": [],
   "source": [
    "from sympy import isprime\n",
    "from sympy import nextprime"
   ]
  },
  {
   "cell_type": "markdown",
   "metadata": {
    "deletable": true,
    "editable": true
   },
   "source": [
    "We have created a function to test if a number is prime before as follows."
   ]
  },
  {
   "cell_type": "code",
   "execution_count": null,
   "metadata": {
    "collapsed": true,
    "deletable": true,
    "editable": true
   },
   "outputs": [],
   "source": [
    "def is_prime(N):\n",
    "    \"Determine whether or not N is a prime number.\"\n",
    "    \n",
    "    # N is prime if N is only divisible by 1 and itself\n",
    "    # We should test whether N is divisible by d for all 1 < d < N\n",
    "    \n",
    "    if N <= 1:\n",
    "        return False\n",
    "    for d in range(2,N):\n",
    "        # Check if N is divisible by d\n",
    "        # range only gives the value up to N-1\n",
    "        if N % d == 0:\n",
    "            return False\n",
    "    # If we exit the for loop, then N is not divisible by any d\n",
    "    # Then N is prime\n",
    "    return True"
   ]
  },
  {
   "cell_type": "code",
   "execution_count": null,
   "metadata": {
    "collapsed": false,
    "deletable": true,
    "editable": true
   },
   "outputs": [],
   "source": [
    "is_prime(797)"
   ]
  },
  {
   "cell_type": "markdown",
   "metadata": {
    "deletable": true,
    "editable": true
   },
   "source": [
    "Let's now use `sympy.ntheory.isprime`"
   ]
  },
  {
   "cell_type": "code",
   "execution_count": null,
   "metadata": {
    "collapsed": false,
    "deletable": true,
    "editable": true
   },
   "outputs": [],
   "source": [
    "nt.isprime(797)"
   ]
  },
  {
   "cell_type": "markdown",
   "metadata": {
    "deletable": true,
    "editable": true
   },
   "source": [
    "Perfect! Those two functions gave us the exactly same answer!"
   ]
  },
  {
   "cell_type": "markdown",
   "metadata": {
    "deletable": true,
    "editable": true
   },
   "source": [
    "## 1. Fundamental Theorem of Arithmetic\n",
    "\n",
    "Every positive integer $n > 1$ can be represented in **exactly one way** as a product of prime powers:\n",
    "\n",
    "$$\n",
    "n = p_1^{\\alpha_1} p_2^{\\alpha_2} p_3^{\\alpha_3} \\cdots p_k^{\\alpha_k} = \\prod_{i=1}^{k} p_i^{\\alpha_i}\n",
    "$$\n",
    "\n",
    "where $p_1 < p_2 < p_3 < ... < p_k$ are prime numbers and $\\alpha_i$ are positive integers"
   ]
  },
  {
   "cell_type": "markdown",
   "metadata": {
    "deletable": true,
    "editable": true
   },
   "source": [
    "### Example\n",
    "\n",
    "Let's factorize 1998 by using our knowledge so far to create a function ourselves and then use `sympy.ntheory.factorint` to see if there is any differences with final answers."
   ]
  },
  {
   "cell_type": "markdown",
   "metadata": {
    "deletable": true,
    "editable": true
   },
   "source": [
    "Given a positive integer n, `sympy.ntheory.factorint(n)` returns a dict containing the prime factors of n as keys and their respective multiplicities as values."
   ]
  },
  {
   "cell_type": "markdown",
   "metadata": {
    "deletable": true,
    "editable": true
   },
   "source": [
    "### Prime factorization by creating a function ourselves"
   ]
  },
  {
   "cell_type": "code",
   "execution_count": null,
   "metadata": {
    "collapsed": true,
    "deletable": true,
    "editable": true
   },
   "outputs": [],
   "source": [
    "def prime_factorization(N):\n",
    "    \"\"\"Produce a list of tuple that gives the factorization of a positive number N into primes.\"\"\"\n",
    "    def prime_factors(N):\n",
    "        # Initialize the list with empty list\n",
    "        prime_factors = []\n",
    "        d = 2\n",
    "        while N > 1:\n",
    "            while N % d == 0:\n",
    "                prime_factors.append(d)\n",
    "                N /= d\n",
    "            d = d + 1\n",
    "        return prime_factors\n",
    "    def prime_count(seq):\n",
    "        if not seq: return []\n",
    "        current = NotImplemented\n",
    "        n = 0\n",
    "        pairs = []\n",
    "        for e in seq:\n",
    "            if e == current:\n",
    "                n = n + 1\n",
    "            else:\n",
    "                if n > 0:\n",
    "                    pairs.append((current, n))\n",
    "                n = 1\n",
    "                current = e\n",
    "        pairs.append((current, n))\n",
    "        return pairs\n",
    "    fas = prime_factors(N)\n",
    "    return prime_count(fas)"
   ]
  },
  {
   "cell_type": "code",
   "execution_count": null,
   "metadata": {
    "collapsed": false,
    "deletable": true,
    "editable": true
   },
   "outputs": [],
   "source": [
    "prime_factorization(1998)"
   ]
  },
  {
   "cell_type": "markdown",
   "metadata": {
    "deletable": true,
    "editable": true
   },
   "source": [
    "### Prime factorization by using `sympy.ntheory.factorint`"
   ]
  },
  {
   "cell_type": "code",
   "execution_count": null,
   "metadata": {
    "collapsed": false,
    "deletable": true,
    "editable": true
   },
   "outputs": [],
   "source": [
    "nt.factorint(1998)"
   ]
  },
  {
   "cell_type": "code",
   "execution_count": null,
   "metadata": {
    "collapsed": false,
    "deletable": true,
    "editable": true
   },
   "outputs": [],
   "source": [
    "2**1 * 3**3 * 37**1"
   ]
  },
  {
   "cell_type": "markdown",
   "metadata": {
    "deletable": true,
    "editable": true
   },
   "source": [
    "## 2. Chinese Remainder Theorem"
   ]
  },
  {
   "cell_type": "markdown",
   "metadata": {
    "collapsed": true,
    "deletable": true,
    "editable": true
   },
   "source": [
    "The Chinese remainder theorem is a theorem of number theory, which states that, if one knows the remainders of the division of an integer n by several integers, then one can determine **uniquely** the remainder of the division of n by the product of these integers, under the condition that the divisors are pairwise coprime."
   ]
  },
  {
   "cell_type": "markdown",
   "metadata": {
    "collapsed": true,
    "deletable": true,
    "editable": true
   },
   "source": [
    "Let n1, ..., nk be integers greater than 1, which are often called moduli or divisors. Let us denote by N the product of the ni.\n",
    "\n",
    "The Chinese remainder theorem asserts that if the ni are pairwise coprime, and if a1, ..., ak are integers such that 0 ≤ ai < ni for every i, then there is one and only one integer x, such that 0 ≤ x < N and the remainder of the Euclidean division of x by ni is ai for every i.\n",
    "\n",
    "This may be restated as follows in term of congruences: If the ni are pairwise coprime, and if a1, ..., ak are any integers, then there exists an integer x such that\n",
    "\n",
    "\\begin{aligned}x\\equiv a_{1}&{\\pmod {n_{1}}}\\\\\\quad \\vdots \\\\x\\equiv a_{k}&{\\pmod {n_{k}}}\\end{aligned} \\begin{aligned}x\\equiv a_{1}&{\\pmod {n_{1}}}\\\\\\quad \\vdots \\\\x\\equiv a_{k}&{\\pmod {n_{k}}}\\end{aligned}\n",
    "and any two such x are congruent modulo N."
   ]
  },
  {
   "cell_type": "markdown",
   "metadata": {
    "collapsed": true,
    "deletable": true,
    "editable": true
   },
   "source": [
    "### Example ( By Sun Tsu Suan-Ching (4th century AD))\n",
    "\n",
    "There are certain things whose number is unknown. Repeatedly divided by 3, the remainder is 2; by 5 the remainder is 3; and by 7 the remainder is 2. What will be the number?"
   ]
  },
  {
   "cell_type": "markdown",
   "metadata": {
    "deletable": true,
    "editable": true
   },
   "source": [
    "### Solve by hand"
   ]
  },
  {
   "cell_type": "markdown",
   "metadata": {
    "deletable": true,
    "editable": true
   },
   "source": [
    "Solve\n",
    "\n",
    "$$p1: x=2 (mod 3)$$\n",
    "$$p2: x=3 (mod 5)$$\n",
    "$$p3: x=2 (mod 7)$$\n",
    "\n",
    "From $p1, x=3t+2$, for some integer t. Substituting this into $p2$ gives $3t=1 (mod 5)$. Looking up 1/3 in the division table modulo 5, this reduces to a simpler equation\n",
    "\n",
    "$$p4: t=2 (mod 5)$$\n",
    "\n",
    "which, in turn, is equivalent to $t=5s+2$ for an integer s. Substitution into $x=3t+2$ yields $x=15s+8$. This now goes into $p3: 15s+8=2 (mod 7)$. Casting out 7 gives $s=1 (mod 7)$. From here, $s=7u+1$ and, finally, $x=105u+23$.\n",
    "Note that $105=lcm(3,5,7)$. Thus we have solutions 23,128,233,…"
   ]
  },
  {
   "cell_type": "markdown",
   "metadata": {
    "deletable": true,
    "editable": true
   },
   "source": [
    "### Solve using `sympy.ntheory.modular.solve_congruence`"
   ]
  },
  {
   "cell_type": "code",
   "execution_count": null,
   "metadata": {
    "collapsed": true,
    "deletable": true,
    "editable": true
   },
   "outputs": [],
   "source": [
    "from sympy.ntheory.modular import solve_congruence as sc"
   ]
  },
  {
   "cell_type": "code",
   "execution_count": null,
   "metadata": {
    "collapsed": false,
    "deletable": true,
    "editable": true
   },
   "outputs": [],
   "source": [
    "sc((2,3),(3,5),(2,7))"
   ]
  },
  {
   "cell_type": "markdown",
   "metadata": {
    "deletable": true,
    "editable": true
   },
   "source": [
    "This means that the solutions are 23 plus any multiples of 105. For example, 23+105=128, 23+105*2=233..."
   ]
  },
  {
   "cell_type": "markdown",
   "metadata": {
    "deletable": true,
    "editable": true
   },
   "source": [
    "Exactly the same as what we got by hand!"
   ]
  },
  {
   "cell_type": "markdown",
   "metadata": {
    "deletable": true,
    "editable": true
   },
   "source": [
    "## 3. Prime Number Theorem"
   ]
  },
  {
   "cell_type": "markdown",
   "metadata": {
    "deletable": true,
    "editable": true
   },
   "source": [
    "Let $\\pi(x)$ be the prime-counting function that gives the number of primes less than or equal to x, for any real number x. The prime number theorem then states that $\\frac{x}{\\log x}$ is a good approximation to $\\pi(x)$, in the sense that the limit of the quotient of the two functions $\\pi(x)$ and $\\frac{x}{\\log x}$ as x increases without bound is 1:\n",
    "\n",
    "$$\n",
    "\\lim _{x \\to \\infty } \\frac {\\pi (x)}{\\frac {x}{\\log(x)}} = 1\n",
    "$$\n",
    "\n",
    "known as the asymptotic law of distribution of prime numbers. Using asymptotic notation this result can be restated as\n",
    "\n",
    "$$\n",
    "\\pi (x)\\sim {\\frac {x}{\\log x}}\n",
    "$$"
   ]
  },
  {
   "cell_type": "markdown",
   "metadata": {
    "deletable": true,
    "editable": true
   },
   "source": [
    "### Prime-counting function `sympy.ntheory.generate.primepi`"
   ]
  },
  {
   "cell_type": "markdown",
   "metadata": {
    "deletable": true,
    "editable": true
   },
   "source": [
    "The prime-counting function is the function counting the number of prime numbers less than or equal to some real number x. It is denoted by $\\pi(x)$. "
   ]
  },
  {
   "cell_type": "markdown",
   "metadata": {
    "deletable": true,
    "editable": true
   },
   "source": [
    "There is a builtin function in `sympy.ntheory` called `primepi`, which is the prime-counting function $\\pi(x)$."
   ]
  },
  {
   "cell_type": "markdown",
   "metadata": {
    "deletable": true,
    "editable": true
   },
   "source": [
    "For example, let's see how many primes are there less than 100. As we can tell, there should be 25.(2,3,5,7,11,13,17,19,23,27,29,31,37,43,47,53,59,61,67,71,73,79,83,89,97)"
   ]
  },
  {
   "cell_type": "code",
   "execution_count": null,
   "metadata": {
    "collapsed": false,
    "deletable": true,
    "editable": true
   },
   "outputs": [],
   "source": [
    "nt.primepi(100)"
   ]
  },
  {
   "cell_type": "markdown",
   "metadata": {
    "deletable": true,
    "editable": true
   },
   "source": [
    "Now let's plot $\\pi(x)$ and $\\frac{x}{\\log x}$ and compare them."
   ]
  },
  {
   "cell_type": "code",
   "execution_count": null,
   "metadata": {
    "collapsed": false,
    "deletable": true,
    "editable": true
   },
   "outputs": [],
   "source": [
    "# set x to be from 2 to 10000\n",
    "x = np.arange(2, 10000)\n",
    "# y1 represents the prime-counting function\n",
    "y1 = list(map(lambda x: nt.primepi(x), x))\n",
    "# y2 represents x/log(x)\n",
    "y2 = x / np.log(x)\n",
    "plt.plot(x, y1, '-k', label='$\\pi(x)$')\n",
    "plt.plot(x, y2, '--k', label='$x/\\log(x)$')\n",
    "plt.legend(loc=2);"
   ]
  },
  {
   "cell_type": "markdown",
   "metadata": {
    "deletable": true,
    "editable": true
   },
   "source": [
    "As we can see, when x is large, $\\pi(x)$ and $\\frac{x}{\\log(x)}$ does not fit so well as they do when x is small."
   ]
  },
  {
   "cell_type": "markdown",
   "metadata": {
    "deletable": true,
    "editable": true
   },
   "source": [
    "Let's see plot $\\frac{\\pi(x)}{\\frac{x}{\\log{x}}}$ to visualize it."
   ]
  },
  {
   "cell_type": "markdown",
   "metadata": {
    "deletable": true,
    "editable": true
   },
   "source": [
    "First, we take x to be from 2 too 1000."
   ]
  },
  {
   "cell_type": "code",
   "execution_count": null,
   "metadata": {
    "collapsed": false,
    "deletable": true,
    "editable": true
   },
   "outputs": [],
   "source": [
    "# set x to be from 2 to 1000\n",
    "x = np.arange(2, 1000)\n",
    "# y1 represents the prime-counting function\n",
    "y1 = list(map(lambda x: nt.primepi(x), x))\n",
    "# y2 represents x/log(x)\n",
    "y2 = x / np.log(x)\n",
    "plt.plot(x, y1/y2, 'b'), plt.ylim([1.1,1.25])"
   ]
  },
  {
   "cell_type": "markdown",
   "metadata": {
    "deletable": true,
    "editable": true
   },
   "source": [
    "Then, we set x to be from 2 to 20000. (not too big to prevent kernel from dying)"
   ]
  },
  {
   "cell_type": "code",
   "execution_count": null,
   "metadata": {
    "collapsed": false,
    "deletable": true,
    "editable": true
   },
   "outputs": [],
   "source": [
    "# set x to be from 2 to 20000\n",
    "x = np.arange(2, 20000)\n",
    "# y1 represents the prime-counting function\n",
    "y1 = list(map(lambda x: nt.primepi(x), x))\n",
    "# y2 represents x/log(x)\n",
    "y2 = x / np.log(x)\n",
    "plt.plot(x, y1/y2, 'b'), plt.ylim([1.1,1.25])"
   ]
  },
  {
   "cell_type": "markdown",
   "metadata": {
    "deletable": true,
    "editable": true
   },
   "source": [
    "## Exercises"
   ]
  },
  {
   "cell_type": "markdown",
   "metadata": {
    "collapsed": true,
    "deletable": true,
    "editable": true
   },
   "source": [
    "### Problem 1"
   ]
  },
  {
   "cell_type": "markdown",
   "metadata": {
    "collapsed": true,
    "deletable": true,
    "editable": true
   },
   "source": [
    "**Least common multiple** of two integers a and b, usually denoted by LCM(a, b), is the smallest positive integer that is divisible by both a and b. "
   ]
  },
  {
   "cell_type": "markdown",
   "metadata": {
    "deletable": true,
    "editable": true
   },
   "source": [
    "Use prime factorization to find the least common multiple of 736,29,337."
   ]
  },
  {
   "cell_type": "markdown",
   "metadata": {
    "deletable": true,
    "editable": true
   },
   "source": [
    "### Problem 2"
   ]
  },
  {
   "cell_type": "markdown",
   "metadata": {
    "deletable": true,
    "editable": true
   },
   "source": [
    "An old woman goes to market and a horse steps on her basket and crashes the eggs. The rider offers to pay for the damages and asks her how many eggs she had brought. She does not remember the exact number, but when she had taken them out two at a time, there was one egg left. The same happened when she picked them out three, four, five, and six at a time, but when she took them seven at a time they came out even. What is the smallest number of eggs she could have had?"
   ]
  },
  {
   "cell_type": "markdown",
   "metadata": {
    "collapsed": true,
    "deletable": true,
    "editable": true
   },
   "source": [
    "### Problem 3"
   ]
  },
  {
   "cell_type": "markdown",
   "metadata": {
    "deletable": true,
    "editable": true
   },
   "source": [
    "Compare $\\pi(x)$ and $\\frac{x}{\\log(x)-1}$ and decide if $\\frac{x}{\\log(x)-1}$ is a better approximation of prime-counting function."
   ]
  },
  {
   "cell_type": "markdown",
   "metadata": {
    "deletable": true,
    "editable": true
   },
   "source": [
    "## More references"
   ]
  },
  {
   "cell_type": "markdown",
   "metadata": {
    "deletable": true,
    "editable": true
   },
   "source": [
    "Fundamental Theorem of Arithmetic \n",
    "\n",
    "* [Tutorial](https://www.khanacademy.org/computing/computer-science/cryptography/modern-crypt/v/the-fundamental-theorem-of-arithmetic-1)\n",
    "* [Proof](https://gowers.wordpress.com/2011/11/18/proving-the-fundamental-theorem-of-arithmetic/)"
   ]
  },
  {
   "cell_type": "markdown",
   "metadata": {
    "deletable": true,
    "editable": true
   },
   "source": [
    "Chinese Remainder Theorem\n",
    "\n",
    "* [Tutorial](https://www.youtube.com/watch?v=ru7mWZJlRQg)\n",
    "* [Proof](http://www.math.uconn.edu/~kconrad/blurbs/ugradnumthy/crt.pdf)"
   ]
  },
  {
   "cell_type": "markdown",
   "metadata": {
    "deletable": true,
    "editable": true
   },
   "source": [
    "Prime Number Theorem \n",
    "\n",
    "* [Tutorial](https://www.khanacademy.org/computing/computer-science/cryptography/comp-number-theory/v/prime-number-theorem-the-density-of-primes)\n",
    "* [Proof](http://people.mpim-bonn.mpg.de/zagier/files/doi/10.2307/2975232/fulltext.pdf)"
   ]
  },
  {
   "cell_type": "code",
   "execution_count": null,
   "metadata": {
    "collapsed": true,
    "deletable": true,
    "editable": true
   },
   "outputs": [],
   "source": []
  }
 ],
 "metadata": {
  "kernelspec": {
   "display_name": "Python 3",
   "language": "python",
   "name": "python3"
  },
  "language_info": {
   "codemirror_mode": {
    "name": "ipython",
    "version": 3
   },
   "file_extension": ".py",
   "mimetype": "text/x-python",
   "name": "python",
   "nbconvert_exporter": "python",
   "pygments_lexer": "ipython3",
   "version": "3.5.2"
  }
 },
 "nbformat": 4,
 "nbformat_minor": 2
}
