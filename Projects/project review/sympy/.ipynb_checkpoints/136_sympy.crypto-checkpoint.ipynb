{
 "cells": [
  {
   "cell_type": "markdown",
   "metadata": {
    "deletable": true,
    "editable": true
   },
   "source": [
    "## Basic Cryptography with sympy.crypto"
   ]
  },
  {
   "cell_type": "markdown",
   "metadata": {
    "deletable": true,
    "editable": true
   },
   "source": [
    "Sympy is one of the most famous tool in python mathematic toolkits. Many toolkit such as scipy exist with subpackage like integrate. Math also exist in python to do several functions and subpakage. However, sympy package deals with different area of mathematics. Sympy subpakcage such as number theory, concrete mathematic and cryptography.\n",
    "\n",
    "([Documentation on sympy.crypto](http://docs.sympy.org/latest/modules/crypto.html))\n"
   ]
  },
  {
   "cell_type": "markdown",
   "metadata": {
    "deletable": true,
    "editable": true
   },
   "source": [
    "1. to understand basic command of the package \n",
    "2. write a program to solve the hill's ciphers\n",
    "3. look at different type of basic encryption and how each string is encrypted"
   ]
  },
  {
   "cell_type": "markdown",
   "metadata": {
    "deletable": true,
    "editable": true
   },
   "source": [
    "#### Goals\n",
    "\n",
    "1. Learn some basic encryption tool which is in crypto package\n",
    "2. Attempt to gain basic understanding of each basic type of encryption "
   ]
  },
  {
   "cell_type": "markdown",
   "metadata": {
    "deletable": true,
    "editable": true
   },
   "source": [
    "#### Subpackage and Types of Ciphers\n",
    "1. padded_key\n",
    "2. Encipher_shift\n",
    "3. AZ\n",
    "4. cycle list\n",
    "5. Affine\n",
    "6. Substitution \n",
    "7. Vigenere \n",
    "8. Hill\n",
    "9. Bifid"
   ]
  },
  {
   "cell_type": "markdown",
   "metadata": {
    "deletable": true,
    "editable": true
   },
   "source": [
    "#### Content\n",
    "1. Tools\n",
    "2. Basic old fashion encryptiont\n",
    "3. More advance encryption(thing I wish to learn in the future)"
   ]
  },
  {
   "cell_type": "markdown",
   "metadata": {
    "deletable": true,
    "editable": true
   },
   "source": [
    "#### Basic String Encryption"
   ]
  },
  {
   "cell_type": "markdown",
   "metadata": {
    "deletable": true,
    "editable": true
   },
   "source": [
    "Using the sub-package of encipher_shift and decipher_shift. A string which is input will now be randomly shift the letter according to the key given to them. "
   ]
  },
  {
   "cell_type": "code",
   "execution_count": null,
   "metadata": {
    "collapsed": true,
    "deletable": true,
    "editable": true
   },
   "outputs": [],
   "source": [
    "from sympy.crypto.crypto import encipher_shift as enc_s ,decipher_shift as denc_s\n"
   ]
  },
  {
   "cell_type": "code",
   "execution_count": null,
   "metadata": {
    "collapsed": false,
    "deletable": true,
    "editable": true
   },
   "outputs": [],
   "source": [
    "msg='asdfjkl'\n",
    "msg_e=enc_s(msg,1)\n",
    "print(msg_e)"
   ]
  },
  {
   "cell_type": "code",
   "execution_count": null,
   "metadata": {
    "collapsed": false,
    "deletable": true,
    "editable": true
   },
   "outputs": [],
   "source": [
    "msg='asdfjkl'\n",
    "msg_e1=enc_s(msg,3)\n",
    "print(msg_e1)"
   ]
  },
  {
   "cell_type": "markdown",
   "metadata": {
    "deletable": true,
    "editable": true
   },
   "source": [
    "as shown above the encryption is simply replacing the letter with the next one in the alphabetical order. So logically we can decrypt these to their original message by reverting the key stroke from 1 to -1 and 3 to -3 respectively."
   ]
  },
  {
   "cell_type": "code",
   "execution_count": null,
   "metadata": {
    "collapsed": false,
    "deletable": true,
    "editable": true
   },
   "outputs": [],
   "source": [
    "msg1='BTEGKLM'\n",
    "msg_de=enc_s(msg1,-1)\n",
    "print(msg_de)"
   ]
  },
  {
   "cell_type": "code",
   "execution_count": null,
   "metadata": {
    "collapsed": false,
    "deletable": true,
    "editable": true
   },
   "outputs": [],
   "source": [
    "msg2='DVGIMNO'\n",
    "msg_de1=enc_s(msg2,-3)\n",
    "print(msg_de1)"
   ]
  },
  {
   "cell_type": "markdown",
   "metadata": {
    "deletable": true,
    "editable": true
   },
   "source": [
    "However, we can also use the decrytion fucntion which is builtin.\n"
   ]
  },
  {
   "cell_type": "code",
   "execution_count": null,
   "metadata": {
    "collapsed": false,
    "deletable": true,
    "editable": true
   },
   "outputs": [],
   "source": [
    "denc_s(msg_e1,3)"
   ]
  },
  {
   "cell_type": "code",
   "execution_count": null,
   "metadata": {
    "collapsed": false,
    "deletable": true,
    "editable": true
   },
   "outputs": [],
   "source": [
    "denc_s(msg_e,1)"
   ]
  },
  {
   "cell_type": "markdown",
   "metadata": {
    "deletable": true,
    "editable": true
   },
   "source": [
    "Basic tools which are useful with encryption. This is such as,\n",
    "1. AZ\n",
    "2. padded_key\n",
    "3. cycle list\n"
   ]
  },
  {
   "cell_type": "markdown",
   "metadata": {
    "deletable": true,
    "editable": true
   },
   "source": [
    "Example of AZ. "
   ]
  },
  {
   "cell_type": "code",
   "execution_count": null,
   "metadata": {
    "collapsed": true,
    "deletable": true,
    "editable": true
   },
   "outputs": [],
   "source": [
    "from sympy.crypto.crypto import AZ"
   ]
  },
  {
   "cell_type": "code",
   "execution_count": null,
   "metadata": {
    "collapsed": false,
    "deletable": true,
    "editable": true
   },
   "outputs": [],
   "source": [
    "AZ('hi, math210 ')"
   ]
  },
  {
   "cell_type": "markdown",
   "metadata": {
    "deletable": true,
    "editable": true
   },
   "source": [
    "As notice from aboe the fucntion AZ deal with appending the two string together. It is also shown in example above that number in integer form would be discared. Since many tools in encryption cannot deal with spaces or number as will be shown later on this is a good tool to know how to use."
   ]
  },
  {
   "cell_type": "code",
   "execution_count": null,
   "metadata": {
    "collapsed": true,
    "deletable": true,
    "editable": true
   },
   "outputs": [],
   "source": [
    "from sympy.crypto.crypto import padded_key"
   ]
  },
  {
   "cell_type": "code",
   "execution_count": null,
   "metadata": {
    "collapsed": false,
    "deletable": true,
    "editable": true
   },
   "outputs": [],
   "source": [
    "padded_key('school','scholetwxyz')"
   ]
  },
  {
   "cell_type": "markdown",
   "metadata": {
    "deletable": true,
    "editable": true
   },
   "source": [
    "Padded_key fucntion compare the first string to the second string. If the alpabet in the first string exist in the second string then then the alphabet will be outputed. However, if the alphabet in the first string does not present itself in the second string then it will response with an error. "
   ]
  },
  {
   "cell_type": "code",
   "execution_count": null,
   "metadata": {
    "collapsed": true,
    "deletable": true,
    "editable": true
   },
   "outputs": [],
   "source": [
    "from sympy.crypto.crypto import cycle_list "
   ]
  },
  {
   "cell_type": "code",
   "execution_count": null,
   "metadata": {
    "collapsed": false,
    "deletable": true,
    "editable": true
   },
   "outputs": [],
   "source": [
    "cycle_list(2,10)"
   ]
  },
  {
   "cell_type": "markdown",
   "metadata": {
    "deletable": true,
    "editable": true
   },
   "source": [
    "cycle_list is a fucntion that create a list from A to B then continue the list from 0 to A."
   ]
  },
  {
   "cell_type": "markdown",
   "metadata": {
    "deletable": true,
    "editable": true
   },
   "source": [
    "The basic tools which is stated above we can now take a look at our first ciphers. "
   ]
  },
  {
   "cell_type": "markdown",
   "metadata": {
    "deletable": true,
    "editable": true
   },
   "source": [
    "#### Affine Cipher"
   ]
  },
  {
   "cell_type": "markdown",
   "metadata": {
    "deletable": true,
    "editable": true
   },
   "source": [
    "This cipher is based on $ x \\longrightarrow ax+b(mod N)$. Where x is convert from alphabet to position which is denoted by an integer and N is the length of the string. 'a' and b here is the secret string to encode the algorithm. example would be"
   ]
  },
  {
   "cell_type": "code",
   "execution_count": null,
   "metadata": {
    "collapsed": true,
    "deletable": true,
    "editable": true
   },
   "outputs": [],
   "source": [
    "from sympy.crypto.crypto import encipher_affine, decipher_affine"
   ]
  },
  {
   "cell_type": "code",
   "execution_count": null,
   "metadata": {
    "collapsed": false,
    "deletable": true,
    "editable": true
   },
   "outputs": [],
   "source": [
    "msg_aff= 'math is interesting'\n",
    "key=(1,1)\n",
    "encipher_affine(msg_aff,key)"
   ]
  },
  {
   "cell_type": "code",
   "execution_count": null,
   "metadata": {
    "collapsed": false,
    "deletable": true,
    "editable": true
   },
   "outputs": [],
   "source": [
    "## now to decipher the code\n",
    "decipher_affine(_,key)\n"
   ]
  },
  {
   "cell_type": "markdown",
   "metadata": {
    "deletable": true,
    "editable": true
   },
   "source": [
    "looking at this more closely we can do a step by step computation.\n",
    "1. The function first calculate string length and stored it as value N\n",
    "2. The function then convert each alphabets in the first string into numbers in its alphabet order, this then is appended into a list 'L1'\n",
    "3. A new list is now created and x (as in integer in this point) is now going to be transfromed into another number by the formula $x=ax=b(modN)$\n",
    "4. Then 'L2' as number is now coded back into alphabets letters (any of the term which exceeded is devided and then using the round fcn convert into the closet alphabet.\n"
   ]
  },
  {
   "cell_type": "code",
   "execution_count": null,
   "metadata": {
    "collapsed": false,
    "deletable": true,
    "editable": true
   },
   "outputs": [],
   "source": [
    "### Now we will try to write a fucntion that both decrypt and encypt string using the Affine Cipher\n",
    "from sympy.crypto.crypto import encipher_affine, decipher_affine\n",
    "def affine(msg,key1,key2,p='encrypt'):\n",
    "    if p=='encrypt':\n",
    "        ex=encipher_affine(msg,(key1,key2))\n",
    "        return ex\n",
    "    elif p=='decryption':\n",
    "        dex=decipher_affine(msg,(key1,key2))\n",
    "        return dex\n",
    "    else:\n",
    "        print('error')\n",
    "        return None"
   ]
  },
  {
   "cell_type": "markdown",
   "metadata": {
    "deletable": true,
    "editable": true
   },
   "source": [
    "#### Substitution Enciphers"
   ]
  },
  {
   "cell_type": "markdown",
   "metadata": {
    "deletable": true,
    "editable": true
   },
   "source": [
    "The substitution enciphers is very simple. However depending on the postion of each string in each list the old-key alphabets can generate new-key alphabets. "
   ]
  },
  {
   "cell_type": "code",
   "execution_count": null,
   "metadata": {
    "collapsed": false,
    "deletable": true,
    "editable": true
   },
   "outputs": [],
   "source": [
    "### Example for substituion Enciphers\n",
    "from sympy.crypto.crypto import encipher_substitution, AZ\n",
    "old='MATHEWSFIG'\n",
    "new='034^tyvg()'\n",
    "msg=AZ('math is interesting')\n",
    "en=encipher_substitution(msg,old,new)\n",
    "print(en)"
   ]
  },
  {
   "cell_type": "code",
   "execution_count": null,
   "metadata": {
    "collapsed": false,
    "deletable": true,
    "editable": true
   },
   "outputs": [],
   "source": [
    "old='034^tyvg()'\n",
    "new='MATHEWSFIG'\n",
    "encipher_substitution(_,old,new)"
   ]
  },
  {
   "cell_type": "code",
   "execution_count": null,
   "metadata": {
    "collapsed": false,
    "deletable": true,
    "editable": true
   },
   "outputs": [],
   "source": [
    "old='MAT HEWSFIG'\n",
    "new='034^tyvg() '\n",
    "msg='MATH IS INTERESTING'\n",
    "en=encipher_substitution(msg,old,new)\n",
    "print(en)"
   ]
  },
  {
   "cell_type": "markdown",
   "metadata": {
    "deletable": true,
    "editable": true
   },
   "source": [
    "As you can see this is a very straight-forward ciphers. Where old is your old alphabet code is replace by whatever symbol which is listed in the same postion in new."
   ]
  },
  {
   "cell_type": "markdown",
   "metadata": {
    "deletable": true,
    "editable": true
   },
   "source": [
    "#### Vigenere Encipher"
   ]
  },
  {
   "cell_type": "markdown",
   "metadata": {
    "deletable": true,
    "editable": true
   },
   "source": [
    "The cipher itself take two parameter. One of them whichis the key and the second is the string message. This is a cipher that have similar logic to shift cipher. As seen before the shift cipher shift each letter by the same amount based on the number given as the key. However, the Vigenere cipher use different method to determine that shifting number. By the key and the position of alphabets a new number is generate each time, for each differnt alphabets in the string. This is done through the help of the mod formula."
   ]
  },
  {
   "cell_type": "code",
   "execution_count": null,
   "metadata": {
    "collapsed": true,
    "deletable": true,
    "editable": true
   },
   "outputs": [],
   "source": [
    "from sympy.crypto.crypto import encipher_vigenere, AZ"
   ]
  },
  {
   "cell_type": "code",
   "execution_count": null,
   "metadata": {
    "collapsed": false,
    "deletable": true,
    "editable": true
   },
   "outputs": [],
   "source": [
    "## Example for vigenere encipher\n",
    "key='jail'\n",
    "msg='math is interesting'\n",
    "encipher_vigenere(msg,key)"
   ]
  },
  {
   "cell_type": "markdown",
   "metadata": {
    "collapsed": true,
    "deletable": true,
    "editable": true
   },
   "source": [
    "As observed in this method both of the encryption key and the message are both in string form. \n",
    "Now to breakdown the method in this encryption.\n",
    "1. Similar to the encryption before the message string is changed into number as for each position of the alphabet\n",
    "2. Now the changed list of number(previous alphabet list) is created and use to obtain len(L2)\n",
    "3. Now $L2$ is break into sublist of length len(L1)\n",
    "4. Now list c is created to compute $C[i]=L1[i]+L2[2](mod N)$\n",
    "5. Now the list C will code for the new alphabets that is shown as encrypted form"
   ]
  },
  {
   "cell_type": "markdown",
   "metadata": {
    "deletable": true,
    "editable": true
   },
   "source": [
    "#### Hill Cipher"
   ]
  },
  {
   "cell_type": "markdown",
   "metadata": {
    "deletable": true,
    "editable": true
   },
   "source": [
    "The Hill Cipher take a differnt approach to normal ciphers. The Hill ciphers itself doesn't use the concept of shifting of alpahbets based on certain formula, this ciphers now use the matrix given to generate a new encrypted string. "
   ]
  },
  {
   "cell_type": "code",
   "execution_count": null,
   "metadata": {
    "collapsed": false,
    "deletable": true,
    "editable": true
   },
   "outputs": [],
   "source": [
    "from sympy.crypto.crypto import encipher_hill, decipher_hill\n",
    "from sympy import Matrix"
   ]
  },
  {
   "cell_type": "code",
   "execution_count": null,
   "metadata": {
    "collapsed": false,
    "deletable": true,
    "editable": true
   },
   "outputs": [],
   "source": [
    "key= Matrix([[1,2],[3,5]])\n",
    "encipher_hill('math is interesting', key)"
   ]
  },
  {
   "cell_type": "code",
   "execution_count": null,
   "metadata": {
    "collapsed": false,
    "deletable": true,
    "editable": true
   },
   "outputs": [],
   "source": [
    "decipher_hill(_,key)"
   ]
  },
  {
   "cell_type": "markdown",
   "metadata": {
    "deletable": true,
    "editable": true
   },
   "source": [
    "###### Example 2"
   ]
  },
  {
   "cell_type": "code",
   "execution_count": null,
   "metadata": {
    "collapsed": false,
    "deletable": true,
    "editable": true
   },
   "outputs": [],
   "source": [
    "key= Matrix([[1,2],[3,4]])\n",
    "encipher_hill('math is interesting', key)"
   ]
  },
  {
   "cell_type": "code",
   "execution_count": null,
   "metadata": {
    "collapsed": false,
    "deletable": true,
    "editable": true
   },
   "outputs": [],
   "source": [
    "decipher_hill(_,key)"
   ]
  },
  {
   "cell_type": "markdown",
   "metadata": {
    "deletable": true,
    "editable": true
   },
   "source": [
    "Observed from the error above that the encoded string cannot be decode. To understand why this happen and does not happen to any other key we must look at how these data is encoded. The basic of this encryption is based on a matrix. So when something is being coded mathematically we must be able to get the inverse of the matrix. This is imposible in the second key as shown above. "
   ]
  },
  {
   "cell_type": "code",
   "execution_count": null,
   "metadata": {
    "collapsed": false,
    "deletable": true,
    "editable": true
   },
   "outputs": [],
   "source": [
    "key= Matrix([[2,3,1,5],[1,0,3,1],[0,2,-3,2],[0,2,3,1]])\n",
    "msg='WT'\n",
    "encipher_hill(msg,key)\n"
   ]
  },
  {
   "cell_type": "code",
   "execution_count": null,
   "metadata": {
    "collapsed": false,
    "deletable": true,
    "editable": true
   },
   "outputs": [],
   "source": [
    "decipher_hill(_,key)"
   ]
  },
  {
   "cell_type": "markdown",
   "metadata": {
    "deletable": true,
    "editable": true
   },
   "source": [
    "We observe that the encryption have added two more term into the encrypted list. This is due to the amount of matrix roll and column exceed by the algorithm in encryption need a 4 letter to encrypt hence it randomed two more letter to fulfil the requirement of the encryption. However, when it is decrypted the two letter stayed on and is decrypted back. This is one of the property which come with using matrix as encryption tool."
   ]
  },
  {
   "cell_type": "code",
   "execution_count": null,
   "metadata": {
    "collapsed": false,
    "deletable": true,
    "editable": true
   },
   "outputs": [],
   "source": [
    "def hill(key,msg,h='encipher'):\n",
    "    if h=='encipher':\n",
    "        k=encipher_hill(msg,key)\n",
    "    elif h=='decipher':\n",
    "        k=decipher_hill(msg,key)\n",
    "    return k\n",
    "    "
   ]
  },
  {
   "cell_type": "markdown",
   "metadata": {
    "deletable": true,
    "editable": true
   },
   "source": [
    "The algorithm of this ciphers is above my knownledge of understanding in matrices. The method and understand of this algorithm can be found ([here](en.wikipedia.org/wiki/Hill_cipher))."
   ]
  },
  {
   "cell_type": "markdown",
   "metadata": {
    "collapsed": true,
    "deletable": true,
    "editable": true
   },
   "source": [
    "#### Bifid Encipher"
   ]
  },
  {
   "cell_type": "code",
   "execution_count": null,
   "metadata": {
    "collapsed": true,
    "deletable": true,
    "editable": true
   },
   "outputs": [],
   "source": [
    "from sympy.crypto.crypto import( encipher_bifid, decipher_bifid, AZ)"
   ]
  },
  {
   "cell_type": "markdown",
   "metadata": {
    "deletable": true,
    "editable": true
   },
   "source": [
    "This encryption is also based on the matrice. The Bifid cipher that is coded in this utilize the 10x10 polybius square matice to encrypt. \n",
    "\n",
    "This method of encrytion converts plaintext to encoded texted. There are 3 different elements requires for the encryption. Which are key, strings and symbols. Symbols in this case refers too the matric encrytion itself. In this version the default if nothing is mentions then the default would be a 10x10 matrix."
   ]
  },
  {
   "cell_type": "markdown",
   "metadata": {
    "deletable": true,
    "editable": true
   },
   "source": [
    "##### Example"
   ]
  },
  {
   "cell_type": "code",
   "execution_count": null,
   "metadata": {
    "collapsed": false,
    "deletable": true,
    "editable": true
   },
   "outputs": [],
   "source": [
    "\n",
    "msg='math is interesting'\n",
    "key='tail'\n",
    "encipher_bifid(msg,key)\n"
   ]
  },
  {
   "cell_type": "code",
   "execution_count": null,
   "metadata": {
    "collapsed": false,
    "deletable": true,
    "editable": true
   },
   "outputs": [],
   "source": [
    "decipher_bifid(_,key)"
   ]
  },
  {
   "cell_type": "markdown",
   "metadata": {
    "deletable": true,
    "editable": true
   },
   "source": [
    "There is something special which given in this cipher. When the key isn't given the cipher automatically use all 100 symbol and alphabets that is included in the list."
   ]
  },
  {
   "cell_type": "code",
   "execution_count": null,
   "metadata": {
    "collapsed": false,
    "deletable": true,
    "editable": true
   },
   "outputs": [],
   "source": [
    "## let use the same passage\n",
    "encipher_bifid(msg,'')"
   ]
  },
  {
   "cell_type": "code",
   "execution_count": null,
   "metadata": {
    "collapsed": false,
    "deletable": true,
    "editable": true
   },
   "outputs": [],
   "source": [
    "decipher_bifid(_,'')"
   ]
  },
  {
   "cell_type": "markdown",
   "metadata": {
    "deletable": true,
    "editable": true
   },
   "source": [
    "##### Bifid5 "
   ]
  },
  {
   "cell_type": "markdown",
   "metadata": {
    "deletable": true,
    "editable": true
   },
   "source": [
    "The different between the Bifid encryption and the Bifid5 encryption are based on the same type of process and encryption. However, the bifid uses 10x10 matrices to calculate the algorithm of encryption and bifid5 uses a 5x5 matrices. "
   ]
  },
  {
   "cell_type": "code",
   "execution_count": null,
   "metadata": {
    "collapsed": false,
    "deletable": true,
    "editable": true
   },
   "outputs": [],
   "source": [
    "from sympy.crypto.crypto import decipher_bifid5, encipher_bifid5"
   ]
  },
  {
   "cell_type": "code",
   "execution_count": null,
   "metadata": {
    "collapsed": false,
    "deletable": true,
    "editable": true
   },
   "outputs": [],
   "source": [
    "msg='math is interesting'\n",
    "key='tail'\n",
    "encipher_bifid5(msg,key)\n"
   ]
  },
  {
   "cell_type": "code",
   "execution_count": null,
   "metadata": {
    "collapsed": false,
    "deletable": true,
    "editable": true
   },
   "outputs": [],
   "source": [
    "decipher_bifid5(_,key)"
   ]
  },
  {
   "cell_type": "markdown",
   "metadata": {
    "deletable": true,
    "editable": true
   },
   "source": [
    "To understand how the problem is constructed we must now see how the fucntion convert a normal string of code into a workable matrice. Since both bifid10 and bifid5 shares the same algorithm looking at only one would be sufficient to understand how both opperate. "
   ]
  },
  {
   "cell_type": "code",
   "execution_count": null,
   "metadata": {
    "collapsed": true,
    "deletable": true,
    "editable": true
   },
   "outputs": [],
   "source": [
    "from sympy.crypto.crypto import bifid5_square "
   ]
  },
  {
   "cell_type": "code",
   "execution_count": null,
   "metadata": {
    "collapsed": false,
    "deletable": true,
    "editable": true
   },
   "outputs": [],
   "source": [
    "## this will show you how the matrix key is created\n",
    "key='tail'\n",
    "bifid5_square(key)"
   ]
  },
  {
   "cell_type": "markdown",
   "metadata": {
    "deletable": true,
    "editable": true
   },
   "source": [
    "As you can observe from the matrix the key itself must be at least be 25 letters long. If the key is shorter than the matrice then we can see that it is filled with firstly alphabets but if those run out then the number from 0-9 will be used.\n",
    "\n",
    "This is the first step as key is now turn into a matrix. Now, 2 different list is created let call the list p1 and p2. Both of these list have length of n. Where p1 and p2 is created based on the unencrypted message.\n",
    "\n",
    "Now,p1 and p2 is joined. By mathematical logic we can see that the list length is now $2^n$. Now the $L[2i] and L[2i+1]$. $S[i,j]$ now this become the encrypted string for the message.\n",
    "\n",
    "Since this is also is based on the matrix any n by n matrix would be able to create this code. The more complicated the matrice is the more complicated your encryption will become. bifid6 as a function also exist."
   ]
  },
  {
   "cell_type": "markdown",
   "metadata": {
    "deletable": true,
    "editable": true
   },
   "source": [
    "#### More Advance Encryption"
   ]
  },
  {
   "cell_type": "markdown",
   "metadata": {
    "collapsed": true,
    "deletable": true,
    "editable": true
   },
   "source": [
    "There are more advance technique of encryption which involve more prime numbers mathematic. However, it is pointless since we are unable to understand how each encryption is created or made. These encryption such as RSA and RSA_kids are projects which are tougher to understand from the point of view of mathematic, compuatation and algorithm. These are projects I would like to understand and study in the future. It is possible to demonstrate how each encryption is used as a fucntion but as said earlier that it is beyond my knowledge of mathematics. ( \"From what we can observe so far in each example given on the documentation page. We see that the encryption no longer deals with strings but now they are dealing with numbers.\")"
   ]
  },
  {
   "cell_type": "code",
   "execution_count": null,
   "metadata": {
    "collapsed": true,
    "deletable": true,
    "editable": true
   },
   "outputs": [],
   "source": []
  }
 ],
 "metadata": {
  "kernelspec": {
   "display_name": "Python 3",
   "language": "python",
   "name": "python3"
  },
  "language_info": {
   "codemirror_mode": {
    "name": "ipython",
    "version": 3
   },
   "file_extension": ".py",
   "mimetype": "text/x-python",
   "name": "python",
   "nbconvert_exporter": "python",
   "pygments_lexer": "ipython3",
   "version": "3.5.2"
  }
 },
 "nbformat": 4,
 "nbformat_minor": 2
}
