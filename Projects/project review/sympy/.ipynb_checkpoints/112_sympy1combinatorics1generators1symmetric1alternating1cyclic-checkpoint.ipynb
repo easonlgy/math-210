{
 "cells": [
  {
   "cell_type": "markdown",
   "metadata": {
    "deletable": true,
    "editable": true
   },
   "source": [
    "# MATH 210 Project 1"
   ]
  },
  {
   "cell_type": "markdown",
   "metadata": {
    "deletable": true,
    "editable": true
   },
   "source": [
    "## Generate 3 types of groups using:\n",
    "\n",
    "## `sympy.combinatorics.generators`\n"
   ]
  },
  {
   "cell_type": "markdown",
   "metadata": {
    "deletable": true,
    "editable": true
   },
   "source": [
    "Sympy is a Python library designed for symbolic mathematics and [sympy.combinators.generators](http://docs.sympy.org/dev/modules/combinatorics/permutations.html) contains functions that consume group order $n \\left( n \\in \\mathbb{N} \\right)$ and generate four types gourps: `symmetric group`, `cyclic group`, `alternating group`, and `Dihedral group`.\n",
    "\n",
    "Our goal is to explore three functions in the package which generate groups. In pertacular, we will explore the **symmetric**, **alternating** and **cyclic** functions. By the end of the notebook, the reader will be able to implement the follwoing two functions to generate 3 types of groups:\n",
    "* `sympy.combinatorics.generators.symmetric`(see the [documentation](http://docs.sympy.org/dev/modules/combinatorics/permutations.html))\n",
    "* `sympy.combinatorics.generators.alternating`(see the [documentation](http://docs.sympy.org/dev/modules/combinatorics/permutations.html))\n",
    "* `sympy.combinatorics.generators.cyclic`(see the [documentation](http://docs.sympy.org/dev/modules/combinatorics/permutations.html))\n",
    "\n"
   ]
  },
  {
   "cell_type": "markdown",
   "metadata": {
    "deletable": true,
    "editable": true
   },
   "source": [
    "## Contents\n",
    "\n",
    "1. Symmetric group\n",
    "2. Alternting group\n",
    "3. Cyclic group\n",
    "4. Exercises\n",
    "5. Reference"
   ]
  },
  {
   "cell_type": "code",
   "execution_count": null,
   "metadata": {
    "collapsed": false,
    "deletable": true,
    "editable": true
   },
   "outputs": [],
   "source": [
    "import sympy.combinatorics.generators as gen\n",
    "import numpy as np"
   ]
  },
  {
   "cell_type": "markdown",
   "metadata": {
    "deletable": true,
    "editable": true
   },
   "source": [
    "## 1. Symmetric group\n",
    "\n",
    "### Definition of Symmetric group\n",
    "\n",
    "If a set $X$ is non-empty, a **permutation** of $X$ is a bijection $\\alpha : X \\rightarrow X$. We denote the set of all permutations of $X$ by $S_x$. When $X = \\{ 1,2, \\dots n \\}$, then $S_x$ is a group with composition operation denoted by $S_n$ and it is called the **symmetric group on $n$ letters**.\n",
    "\n",
    "A permutation can be viewed as rearangement; that is a list $i_1, i_2, \\dots ,i_n$ with no repetitions of all the elements of $X$. Given an rearangement $i_1, i_2, \\dots ,i_n$, define a function $\\alpha: X \\rightarrow X$ by $\\alpha(j) = i_j$ for all $j \\in X$. Then this function $\\alpha$ is injective, because the list has no reprtitions; it is alse surjective because all of elements of $X$ appears on the list. Thus every rearrangement gives a bijection. We can denote any bijection by two rows:\n",
    "\n",
    "$$\n",
    "\\alpha = \n",
    "\\begin{pmatrix} \n",
    "1 & 2 & \\cdots & n \\\\\n",
    "\\alpha_1 & \\alpha_2 & \\cdots & \\alpha_n\n",
    "\\end{pmatrix}\n",
    "$$\n",
    "\n",
    "By the **Theorem**$^{[1]}$ *(Rotman P6 Theorem 1.1)*: Every permutation is a cycle or a product of cycles. We can factorize any permutation as a product of disjoint cycles. For example:\n",
    "\n",
    "$$\n",
    "\\begin{pmatrix} \n",
    "1 & 2 & 3 & 4 \\\\\n",
    "2 & 3 & 4 & 1\n",
    "\\end{pmatrix} = (1 \\quad 2 \\quad  3 \\quad 4)\n",
    "$$\n",
    "\n",
    "$$\n",
    "\\begin{pmatrix} 1 & 2 & 3 & 4 & 5 \\\\\n",
    "2 & 3 & 1 & 4 & 5\\end{pmatrix} = (1 \\quad 2 \\quad 3)(4)(5)$$\n",
    "\n",
    "We are going to define a function `my_symmetric` which consumes the order $n$ and generates all the elements(in the 'product of disjoint cycles' forms) of a symmetric group of order $n$."
   ]
  },
  {
   "cell_type": "code",
   "execution_count": null,
   "metadata": {
    "collapsed": false,
    "deletable": true,
    "editable": true
   },
   "outputs": [],
   "source": [
    "def permutation(lst):\n",
    "    if len(lst) == 0:\n",
    "        return []\n",
    "    elif len(lst) == 1:\n",
    "        return [lst]\n",
    "    list_of_permutation = []\n",
    "    for i in range(len(lst)):\n",
    "        m = lst[i]\n",
    "        remain = lst[:i] + lst[i+1:]\n",
    "        for p in permutation(remain):\n",
    "            list_of_permutation.append([m] + p)\n",
    "    return list_of_permutation"
   ]
  },
  {
   "cell_type": "markdown",
   "metadata": {
    "deletable": true,
    "editable": true
   },
   "source": [
    "The `permutation` function we defined takes a list numbers (i.e, $\\left[ 0,1,2,\\dots \\right]$)and produces all the permutations of sequence. The results corresponding to the position of the positions of the elements respresent bijection function. For example:\n",
    "\n",
    "$$\n",
    "[2,1,3] \\, \\text{represents} \\, \\begin{pmatrix} 1 & 2 & 3 \\\\ 2 & 1 & 3 \\end{pmatrix}$$\n",
    "\n",
    "We can think of this operation as $f(1)=2 , \\, f(2)=1 , \\, f(3) = 3$"
   ]
  },
  {
   "cell_type": "code",
   "execution_count": null,
   "metadata": {
    "collapsed": false,
    "deletable": true,
    "editable": true
   },
   "outputs": [],
   "source": [
    "permutation([1,2,3])"
   ]
  },
  {
   "cell_type": "code",
   "execution_count": null,
   "metadata": {
    "collapsed": false,
    "deletable": true,
    "editable": true
   },
   "outputs": [],
   "source": [
    "def permutation1(n):\n",
    "    if n == 0:\n",
    "        return []\n",
    "    elif n == 1:\n",
    "        return [0]\n",
    "    else:\n",
    "        list_0 = [x for x in range(0,n)]\n",
    "        return permutation(list_0)"
   ]
  },
  {
   "cell_type": "markdown",
   "metadata": {
    "deletable": true,
    "editable": true
   },
   "source": [
    "We defined `permutation1` which takes a positive integer or zero, and first generates a sequence of integers (i.e, $[0,1,2,3, ..., n]$) then using our `permutation` function produces all the permutations of a symmetric group of order $n$. For example:"
   ]
  },
  {
   "cell_type": "code",
   "execution_count": null,
   "metadata": {
    "collapsed": false,
    "deletable": true,
    "editable": true
   },
   "outputs": [],
   "source": [
    "permutation1(3)"
   ]
  },
  {
   "cell_type": "markdown",
   "metadata": {
    "deletable": true,
    "editable": true
   },
   "source": [
    "Then we are going to define a function `cycles` which takes an elemtn of a group of order $n$, produces the element in the form of 'an product of disjoint cycles'."
   ]
  },
  {
   "cell_type": "code",
   "execution_count": null,
   "metadata": {
    "collapsed": false,
    "deletable": true,
    "editable": true
   },
   "outputs": [],
   "source": [
    "def cycles(perm):\n",
    "    remain = set(perm)\n",
    "    result = []\n",
    "    while len(remain) > 0:\n",
    "        n = remain.pop()\n",
    "        cycle = [n]\n",
    "        while True:\n",
    "            n = perm[n]\n",
    "            if n not in remain:\n",
    "                break\n",
    "            remain.remove(n)\n",
    "            cycle.append(n)\n",
    "        result.append(cycle)\n",
    "    list_0 = result\n",
    "    a = [tuple(x) for x in list_0]\n",
    "    return a"
   ]
  },
  {
   "cell_type": "markdown",
   "metadata": {
    "deletable": true,
    "editable": true
   },
   "source": [
    "**Note**: With the function `cycles`, we can also write a permutation into the form of disjoint cycles.\n",
    "\n",
    "For example:\n",
    "\n",
    "$$\\begin{pmatrix} 0 & 1 & 2 & 3 \\\\ 3 & 1 & 0 & 2 \\end{pmatrix} = (0 \\, 3 \\, 2)(1)$$\n",
    "\n",
    "$$0 \\rightarrow 3, \\quad 3 \\rightarrow 2, \\quad 2 \\rightarrow 1, \\quad 1 \\rightarrow 1$$"
   ]
  },
  {
   "cell_type": "code",
   "execution_count": null,
   "metadata": {
    "collapsed": false,
    "deletable": true,
    "editable": true
   },
   "outputs": [],
   "source": [
    "cycles([3,1,0,2])"
   ]
  },
  {
   "cell_type": "code",
   "execution_count": null,
   "metadata": {
    "collapsed": false,
    "deletable": true,
    "editable": true
   },
   "outputs": [],
   "source": [
    "def my_symmetric(n):\n",
    "    perm = permutation1(n)\n",
    "    result = [cycles(x) for x in perm]\n",
    "    return result"
   ]
  },
  {
   "cell_type": "markdown",
   "metadata": {
    "deletable": true,
    "editable": true
   },
   "source": [
    "Applying the cyclic function on every element of our symmetric group, we got our ideal function."
   ]
  },
  {
   "cell_type": "markdown",
   "metadata": {
    "deletable": true,
    "editable": true
   },
   "source": [
    "### `sympy.combinatorics.generators.symmetric`\n",
    "\n",
    "The function `sympy.combinatorics.generators.symmetric` generates the symmetric group of order $n$, $S_n$. For example:"
   ]
  },
  {
   "cell_type": "code",
   "execution_count": null,
   "metadata": {
    "collapsed": false,
    "deletable": true,
    "editable": true
   },
   "outputs": [],
   "source": [
    "(list(gen.symmetric(3)))"
   ]
  },
  {
   "cell_type": "markdown",
   "metadata": {
    "collapsed": true,
    "deletable": true,
    "editable": true
   },
   "source": [
    "### Example: \n",
    "\n",
    "Let's generate a symmetric group of order 3 using our `my_symmetric` function:\n",
    "\n",
    "Elements of $S_3$ are:\n",
    "\n",
    "$\\begin{pmatrix} 0 & 1 & 2 \\\\ 0 & 1 & 2\\end{pmatrix} = (0)(1)(2) \\quad \\begin{pmatrix} 0& 1 & 2 \\\\ 0 & 2 & 1\\end{pmatrix} = (0)(1 \\, 2) \\quad \\begin{pmatrix} 0 & 1 & 2 \\\\ 1 & 0 & 2\\end{pmatrix} = (0 \\, 1)(2) \\quad \\begin{pmatrix} 0 & 1 & 2 \\\\ 1 & 0 & 2 \\end{pmatrix} = (0 \\, 1 \\, 2) \\quad \\begin{pmatrix} 0 & 1 & 2 \\\\ 2 & 0 & 1\\end{pmatrix} = (0 \\, 2 \\, 1) \\quad \\begin{pmatrix} 0 & 1 & 2 \\\\ 2 & 1 & 0 \\end{pmatrix} = (0 \\, 2)(1)$"
   ]
  },
  {
   "cell_type": "markdown",
   "metadata": {
    "deletable": true,
    "editable": true
   },
   "source": [
    "Therefore `my_symmetric`(3) should produce:\n",
    "\n",
    "$(0)(1)(2) \\quad (0)(1\\,2) \\quad (0\\,1)(2) \\quad (0\\,1\\,2) \\quad (0\\,2\\,1) \\quad (0\\,2)(1)$"
   ]
  },
  {
   "cell_type": "code",
   "execution_count": null,
   "metadata": {
    "collapsed": false,
    "deletable": true,
    "editable": true
   },
   "outputs": [],
   "source": [
    "my_symmetric(3)"
   ]
  },
  {
   "cell_type": "markdown",
   "metadata": {
    "deletable": true,
    "editable": true
   },
   "source": [
    "Our function got the same result as `sympy.combinatorics.generators.symmetric` does! And our function generates the group directly with no need to add 'list()' function."
   ]
  },
  {
   "cell_type": "markdown",
   "metadata": {
    "deletable": true,
    "editable": true
   },
   "source": [
    "## 2. Alternating Group\n",
    "\n",
    "An alternating group $A_n$ is the set of all even permuations in $S_n$.\n",
    "\n",
    "If $\\alpha \\in S_n$ and $\\alpha = \\beta_1 \\beta_2 \\dots \\beta_t$ is a complete factorization into disjoint cycles, the **signum** $\\alpha$ is defined by \n",
    "\n",
    "$$\\text{sgn} (\\alpha) = (-1)^{n-t}$$\n",
    "\n",
    "By the **denifition**$^{[2]}$ *(Rotman P8)*: A permuation $\\alpha \\in S_n$ is even if and only if $\\text{sgn}(\\alpha) = 1$, we can generate an alternating group by selecting the permutaions $\\alpha$ from a symmetric group which satisfy the condition $\\text{sgn}(\\alpha) = 1$."
   ]
  },
  {
   "cell_type": "code",
   "execution_count": null,
   "metadata": {
    "collapsed": true,
    "deletable": true,
    "editable": true
   },
   "outputs": [],
   "source": [
    "def my_alternating(n):\n",
    "    sym = my_symmetric(n)\n",
    "    result = [x for x in sym if (-1)**(n-len(x))==1]\n",
    "    return result            "
   ]
  },
  {
   "cell_type": "markdown",
   "metadata": {
    "deletable": true,
    "editable": true
   },
   "source": [
    "### `sympy.combinatorics.generators.alternating`\n",
    "\n",
    "The function `sympy.combinatorics.generators.alternating` generates the alternating group of order $n$, $A_n$. For example:\n"
   ]
  },
  {
   "cell_type": "code",
   "execution_count": null,
   "metadata": {
    "collapsed": false,
    "deletable": true,
    "editable": true
   },
   "outputs": [],
   "source": [
    "list(gen.alternating(3))"
   ]
  },
  {
   "cell_type": "markdown",
   "metadata": {
    "deletable": true,
    "editable": true
   },
   "source": [
    "### Example: \n",
    "\n",
    "Let's generate an alternating group using our `my_alternating function`:\n",
    "\n",
    "Elements of $A_3$: $(0)(1)(2)$, $(012)$, $(021)$."
   ]
  },
  {
   "cell_type": "code",
   "execution_count": null,
   "metadata": {
    "collapsed": false,
    "deletable": true,
    "editable": true
   },
   "outputs": [],
   "source": [
    "my_alternating(3)"
   ]
  },
  {
   "cell_type": "markdown",
   "metadata": {
    "deletable": true,
    "editable": true
   },
   "source": [
    "Our function `my_alternating` got the same result as `sympy.combinatorics.generators.alteranting` does. And our function produces the result directly without the function 'llist()'."
   ]
  },
  {
   "cell_type": "markdown",
   "metadata": {
    "deletable": true,
    "editable": true
   },
   "source": [
    "## 3. Cyclic group\n",
    "\n",
    "A cyclic group $G$ is a group generate by one element. Suppose $g \\in G$, then $G = \\{ g^n \\, | \\, \\text{where} \\, n \\in \\mathbb{Z} \\}$. For example, $G = \\{ g^0, g^1, g^2, g^3, g^4 \\}$ is a cyclic group of order 5, and $g^5 = g^0$.\n",
    "\n",
    "We know that a cyclic group contains and identity element g^0. Assume without loss of generality that $g_1 \\in G$, and $g_1$ shifts the elements by $1$ unit in the function. For example:\n",
    "\n",
    "$$\n",
    "f\n",
    "\\begin{pmatrix} \n",
    "0 & 1 & 2 & 3 \\\\ \n",
    "0 & 1 & 2 & 3 \n",
    "\\end{pmatrix}=\n",
    "\\begin{pmatrix} 0 & 1 & 2 & 3 \\\\ 1 & 2 & 3 & 0 \\end{pmatrix}\n",
    "=g^1\n",
    "$$\n",
    "\n",
    "Then $g^2$ will shif the elements of $g^1$ by $1$ unit.\n",
    "\n",
    "$$\n",
    "f(g^1) =\n",
    "\\begin{pmatrix} 0 & 1 & 2 & 3 \\\\  2 & 3 & 0 & 1 \\end{pmatrix}\n",
    "=g^2\n",
    "$$\n",
    "\n",
    "Continue...until we get $f(g^4) = g^0$.\n",
    "\n",
    "Let's define out own function to generate a cyclic group."
   ]
  },
  {
   "cell_type": "code",
   "execution_count": null,
   "metadata": {
    "collapsed": true,
    "deletable": true,
    "editable": true
   },
   "outputs": [],
   "source": [
    "def my_cyclic(n):\n",
    "    list_0 = list(range(0,n))\n",
    "    result = []\n",
    "    for i in list_0:\n",
    "        c = cycles(list_0)\n",
    "        list_0 = list_0[1:]+list_0[:1]\n",
    "        result = result+[c]\n",
    "    return result"
   ]
  },
  {
   "cell_type": "markdown",
   "metadata": {
    "deletable": true,
    "editable": true
   },
   "source": [
    "### `sympy.combinatorics.generators.cyclic`\n",
    "\n",
    "The function `sympy.combinatorics.generators.cyclic` consumes the order $n$ of a group, and produces a cyclic group of order $n$. For example:"
   ]
  },
  {
   "cell_type": "code",
   "execution_count": null,
   "metadata": {
    "collapsed": false,
    "deletable": true,
    "editable": true
   },
   "outputs": [],
   "source": [
    "list(gen.cyclic(6))"
   ]
  },
  {
   "cell_type": "markdown",
   "metadata": {
    "deletable": true,
    "editable": true
   },
   "source": [
    "### Example:\n",
    "\n",
    "Let's generate a cyclic group of order 6 using `my_cyclic` function.\n"
   ]
  },
  {
   "cell_type": "code",
   "execution_count": null,
   "metadata": {
    "collapsed": false,
    "deletable": true,
    "editable": true
   },
   "outputs": [],
   "source": [
    "my_cyclic(6)"
   ]
  },
  {
   "cell_type": "markdown",
   "metadata": {
    "deletable": true,
    "editable": true
   },
   "source": [
    "We got the same result as the `sympy.combinatorics.generators.cyclic` function does. \n",
    "\n",
    "**Note**: $(0)(1)(2)(3)(4)(5) = (5) = e \\, (\\text{identity element})$"
   ]
  },
  {
   "cell_type": "markdown",
   "metadata": {
    "deletable": true,
    "editable": true
   },
   "source": [
    "## 4. Exercise\n",
    "\n",
    "**Exercise 1:** Write out all the elements of a symmetric group of order 6.\n",
    "\n",
    "**Exercise 2:** Write out all the elements of a alternating group of order 7.\n",
    "\n",
    "**Exercise 3:** Use `my_cyclic` function to generate a cyclic group of order 10.\n",
    "\n",
    "**Exercise 4:** Write the following permutations into the form of product of disjoint cycles.\n",
    "\n",
    "$$\n",
    "\\begin{pmatrix} \n",
    "0 & 1 & 2 & 3 & 4 & 5 \\\\\n",
    "3 & 2 & 0 & 5 & 1 & 4\n",
    "\\end{pmatrix}\n",
    "$$\n",
    "\n",
    "$$\n",
    "\\begin{pmatrix} \n",
    "0 & 1 & 2 & 3 & 4 & 5 & 6 & 7\\\\\n",
    "0 & 2 & 3 & 5 & 1 & 4 & 7 & 6\n",
    "\\end{pmatrix}$$"
   ]
  },
  {
   "cell_type": "markdown",
   "metadata": {
    "deletable": true,
    "editable": true
   },
   "source": [
    "## 5. Reference\n",
    "\n",
    "$[1]$, $[2]$: Rotman, Joseph J. : An Introduction to the Theory of Groups, fourth edition, 1995 Springer-Verlag New York,Inc."
   ]
  },
  {
   "cell_type": "code",
   "execution_count": null,
   "metadata": {
    "collapsed": true,
    "deletable": true,
    "editable": true
   },
   "outputs": [],
   "source": []
  }
 ],
 "metadata": {
  "kernelspec": {
   "display_name": "Python 3",
   "language": "python",
   "name": "python3"
  },
  "language_info": {
   "codemirror_mode": {
    "name": "ipython",
    "version": 3
   },
   "file_extension": ".py",
   "mimetype": "text/x-python",
   "name": "python",
   "nbconvert_exporter": "python",
   "pygments_lexer": "ipython3",
   "version": "3.5.2"
  }
 },
 "nbformat": 4,
 "nbformat_minor": 2
}
