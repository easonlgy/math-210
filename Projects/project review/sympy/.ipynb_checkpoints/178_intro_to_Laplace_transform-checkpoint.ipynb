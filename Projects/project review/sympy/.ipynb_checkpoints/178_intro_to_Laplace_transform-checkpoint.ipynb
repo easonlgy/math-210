{
 "cells": [
  {
   "cell_type": "markdown",
   "metadata": {
    "deletable": true,
    "editable": true
   },
   "source": [
    "# MATH 210 Project I\n",
    "\n",
    "## Compute the Laplace Transform and the Inverse Laplace Transform with `sympy.integrals`\n",
    "\n"
   ]
  },
  {
   "cell_type": "markdown",
   "metadata": {
    "deletable": true,
    "editable": true
   },
   "source": [
    "The integrals in SymPy is mainly used to calculate definite and undefinite integrals. SymPy.integrals are used to solve two kinds of problems:\n",
    "\n",
    "* get indefinite integral: $(f,x)\\implies \\int f\n",
    "dx$\n",
    "* get definite integral: $(f, (x,a,b))\\implies \\int_a^b f dx$\n",
    "\n",
    "see the [documentation](http://docs.sympy.org/0.7.1/modules/integrals.html)"
   ]
  },
  {
   "cell_type": "markdown",
   "metadata": {
    "deletable": true,
    "editable": true
   },
   "source": [
    "Because SymPy is powerful enough to definite integrals and return integral transforms, **our goals** in this notebook is to explore ** two functions** in the subpackage `sympy.integrals.transform`. We will explore the **Laplace transform** and **inverse Laplace transform** which can help us compute differential equiation more easily. By the end of the notebook, the reader will be able to implement the following functions to Laplace transform and inverse Laplace transform:\n",
    "* [Laplace transform](http://docs.sympy.org/dev/_modules/sympy/integrals/transforms.html#laplace_transform)\n",
    "* [inverse Laplace transform](http://docs.sympy.org/dev/_modules/sympy/integrals/transforms.html#inverse_laplace_transform)"
   ]
  },
  {
   "cell_type": "markdown",
   "metadata": {
    "deletable": true,
    "editable": true
   },
   "source": [
    "## Contents\n",
    "*  Laplace transform\n",
    "*  inverse Laplace transform\n",
    "*  Solving diffenential equation by Laplace transform and inverse Laplace transform "
   ]
  },
  {
   "cell_type": "code",
   "execution_count": null,
   "metadata": {
    "collapsed": true,
    "deletable": true,
    "editable": true
   },
   "outputs": [],
   "source": [
    "import sympy\n",
    "from sympy.integrals import laplace_transform\n",
    "from sympy.abc import t, s, a\n",
    "import numpy as np\n",
    "from sympy import *\n",
    "init_printing()\n",
    "s,t=symbols('s,t')"
   ]
  },
  {
   "cell_type": "markdown",
   "metadata": {},
   "source": [
    "Because t,s,a are the main characters of the Laplace transform, so we import `t,s,a` from `sympy.abc`. What'a more, we can make our return more beautiful by using the last three lines' code."
   ]
  },
  {
   "cell_type": "markdown",
   "metadata": {
    "deletable": true,
    "editable": true
   },
   "source": [
    "## 1. The Laplace Transform\n",
    "The [Laplace Transform](https://en.wikipedia.org/wiki/Laplace_transform) compute $F(s)$ to $f(t)$.\n",
    "The Laplace transform define all real numbers $t\\ge 0$ on a function $f(t)$, and $F(s)$ is defined by $$F(s)=\\int_0^{\\infty} e^{-st} f(t)dt$$, which is a unilateral transform.\n",
    "In this transform, s is a complex number frequency parameter $ s=\\sigma +i\\omega$ for $\\sigma$ and $\\omega$ arereal numbers.\n",
    "\n",
    "We usually use $$\\mathcal{L}\\{f(t)\\}=F(s)$$ to represent the process.\n",
    "\n",
    "And there are sevel properties of Laplace transform:\n",
    "$${\\mathcal {L}}\\{f(t)+g(t)\\}={\\mathcal {L}}\\{f(t)\\}+{\\mathcal {L}}\\{g(t)\\}$$\n",
    "$${\\mathcal {L}}\\{af(t)\\}=a{\\mathcal {L}}\\{f(t)\\}$$\n",
    "$$f(t-a)u(t-a)\\ is\\ e^{-as}F(s)\\ $$\n",
    "\n",
    "There are two special transforms about first-ordered and second-ordered derivative:\n",
    "\n",
    "$$\\mathcal{L}\\{y''\\}=s^2F(s)-sy(0)-y'(0)$$\n",
    "$$\\mathcal{L}\\{y'\\}=sF(s)-y(0)$$\n",
    "\n",
    "For more formulars we can ues by this transform, just see: [Laplace transform table](http://tutorial.math.lamar.edu/pdf/Laplace_Table.pdf).\n",
    "\n",
    "However, as we can see fron the introduction of the Laplace transform:"
   ]
  },
  {
   "cell_type": "code",
   "execution_count": null,
   "metadata": {
    "collapsed": true,
    "deletable": true,
    "editable": true
   },
   "outputs": [],
   "source": [
    "laplace_transform?"
   ]
  },
  {
   "cell_type": "markdown",
   "metadata": {
    "deletable": true,
    "editable": true
   },
   "source": [
    "We get the main function use laplace_transform(f, t, s) where f is the function, t is the coefficient of f and we use s to display in our resultto compute the Laplace Transform `F(s)` of `f(t)`,\n",
    "and this function returns ``(F, a, cond)``\n",
    "where ``F`` is the Laplace transform of ``f``, `\\operatorname{Re}(s) > a` is the half-plane\n",
    "of convergence, and ``cond`` are auxiliary convergence conditions.\n"
   ]
  },
  {
   "cell_type": "markdown",
   "metadata": {
    "deletable": true,
    "editable": true
   },
   "source": [
    "Let's use some examples to show this processing."
   ]
  },
  {
   "cell_type": "markdown",
   "metadata": {
    "deletable": true,
    "editable": true
   },
   "source": [
    "### Examples\n",
    "\n",
    "let's transfer some simple functions to it's Laplace transform condition."
   ]
  },
  {
   "cell_type": "markdown",
   "metadata": {
    "deletable": true,
    "editable": true
   },
   "source": [
    "1. $y=t$"
   ]
  },
  {
   "cell_type": "code",
   "execution_count": null,
   "metadata": {
    "collapsed": false,
    "deletable": true,
    "editable": true
   },
   "outputs": [],
   "source": [
    "r1,r2,r3=laplace_transform(t,t,s)\n",
    "r1"
   ]
  },
  {
   "cell_type": "markdown",
   "metadata": {
    "deletable": true,
    "editable": true
   },
   "source": [
    "As we all know, the Laplace transform of $y=t$ is $s^{-2}$, and we get it!. And since we have 3 returns, we can just display the first one."
   ]
  },
  {
   "cell_type": "markdown",
   "metadata": {
    "deletable": true,
    "editable": true
   },
   "source": [
    "2. $y=sin(a t)\\ and\\ y=cos(a t)$"
   ]
  },
  {
   "cell_type": "code",
   "execution_count": null,
   "metadata": {
    "collapsed": false,
    "deletable": true,
    "editable": true
   },
   "outputs": [],
   "source": [
    "r1,r2,r3=laplace_transform(sympy.sin(a*t),t,s)\n",
    "r1"
   ]
  },
  {
   "cell_type": "code",
   "execution_count": null,
   "metadata": {
    "collapsed": false,
    "deletable": true,
    "editable": true
   },
   "outputs": [],
   "source": [
    "r1,r2,r3=laplace_transform(sympy.cos(a*t),t,s)\n",
    "r1"
   ]
  },
  {
   "cell_type": "markdown",
   "metadata": {
    "deletable": true,
    "editable": true
   },
   "source": [
    "The Laplace transform of $y=sin(a t)\\ and\\ y=cos(a t)$ is $\\frac{a}{a^2+s^2}$ and $\\frac{s}{a^2+s^2}$. And we get them as well."
   ]
  },
  {
   "cell_type": "markdown",
   "metadata": {
    "deletable": true,
    "editable": true
   },
   "source": [
    "Moreover, we can also use laplace_transform to transfer a whole function, such as\n",
    "* $y=e^{3t}sin^2(t)$"
   ]
  },
  {
   "cell_type": "code",
   "execution_count": null,
   "metadata": {
    "collapsed": false,
    "deletable": true,
    "editable": true
   },
   "outputs": [],
   "source": [
    "r1,r2,r3=laplace_transform(sympy.exp(3*t)*(sympy.sin(t))**2,t,s)\n",
    "r1"
   ]
  },
  {
   "cell_type": "markdown",
   "metadata": {
    "deletable": true,
    "editable": true
   },
   "source": [
    "* $y=x^{-3t}t^3$"
   ]
  },
  {
   "cell_type": "code",
   "execution_count": null,
   "metadata": {
    "collapsed": false,
    "deletable": true,
    "editable": true
   },
   "outputs": [],
   "source": [
    "r1,r2,r3=laplace_transform(sympy.exp(-3*t)*t**3,t,s)\n",
    "r1"
   ]
  },
  {
   "cell_type": "markdown",
   "metadata": {
    "deletable": true,
    "editable": true
   },
   "source": [
    "By the Laplace transform, we can easily get $F(s)$ from a $f(t)$, and we can solve the differential equation more easily. I will show how laplace_transform and inverse_laplace_transform can solve a second-ordered differential equation in the last of this program."
   ]
  },
  {
   "cell_type": "markdown",
   "metadata": {
    "deletable": true,
    "editable": true
   },
   "source": [
    "## 2. Inverse Laplace transform\n",
    "The [inverse Laplace transform](https://en.wikipedia.org/wiki/Inverse_Laplace_transform) of a function F(s) is the piecewise-continuous and exponentially-restricted real function f(t) which has the property:\n",
    "$${\\mathcal  {L}}\\{f\\}(s)={\\mathcal  {L}}\\{f(t)\\}(s)=F(s)$$.\n",
    "see [wikibook](https://en.wikipedia.org/wiki/Inverse_Laplace_transform)\n",
    "\n",
    "For a function $F(s)$, if it has a inverse Laplace transform $f(t)$, that $f(t)$ is defined.\n",
    "\n",
    "That means:If $F(s)=\\mathcal{L} \\{ {g(t)} \\}$, then the inverse transform of $F(s)$ is defined as $\\mathcal{L}^{-1}F(s)=g(t)$\n"
   ]
  },
  {
   "cell_type": "markdown",
   "metadata": {
    "collapsed": true,
    "deletable": true,
    "editable": true
   },
   "source": [
    "There are sevel properties about inverse Laplace transform:\n",
    "\n",
    "* $\\mathcal{L}^{-1}\\{ aF_1(s)+bF_2(s)\\}=ag_1(t)+bg_2(t)$\n",
    "* if $\\mathcal{L}^{-1}F(s)=g(t)$, then $\\mathcal{L}^{-1}F(s-a)=e^{at}g(t)$\n",
    "* if $\\mathcal{L}^{-1}F(s)=g(t)$, then $\\mathcal{L}^{-1}\\{\\frac{F(s)}{s}\\}=\\int_0^t g(t)dt$\n",
    "and \n",
    "* if $\\mathcal{L}^{-1}F(s)=g(t)$, then $\\mathcal{L}^{-1}\\{e^{-as}F(s)\\}=u(t-a)\\centerdot g(t-a)$"
   ]
  },
  {
   "cell_type": "code",
   "execution_count": null,
   "metadata": {
    "collapsed": false,
    "deletable": true,
    "editable": true
   },
   "outputs": [],
   "source": [
    "from sympy import *\n",
    "init_printing()\n",
    "s,t=symbols('s,t')\n",
    "from sympy.integrals import inverse_laplace_transform\n",
    "import matplotlib.pyplot as plt\n",
    "%matplotlib inline"
   ]
  },
  {
   "cell_type": "code",
   "execution_count": null,
   "metadata": {
    "collapsed": false,
    "deletable": true,
    "editable": true
   },
   "outputs": [],
   "source": [
    "inverse_laplace_transform?"
   ]
  },
  {
   "cell_type": "markdown",
   "metadata": {
    "deletable": true,
    "editable": true
   },
   "source": [
    "Well, as Laplace transform, let's take some examples."
   ]
  },
  {
   "cell_type": "markdown",
   "metadata": {
    "deletable": true,
    "editable": true
   },
   "source": [
    "* the laplace transform is $\\frac{s}{s^2+1}$."
   ]
  },
  {
   "cell_type": "code",
   "execution_count": null,
   "metadata": {
    "collapsed": false,
    "deletable": true,
    "editable": true
   },
   "outputs": [],
   "source": [
    "inverse_laplace_transform(s/(s**2+1),s,t)"
   ]
  },
  {
   "cell_type": "markdown",
   "metadata": {
    "deletable": true,
    "editable": true
   },
   "source": [
    "the graph is:"
   ]
  },
  {
   "cell_type": "code",
   "execution_count": null,
   "metadata": {
    "collapsed": false,
    "deletable": true,
    "editable": true
   },
   "outputs": [],
   "source": [
    "x=np.linspace(-5,5,1000)\n",
    "y=np.cos(x)\n",
    "plt.plot(x,y)"
   ]
  },
  {
   "cell_type": "markdown",
   "metadata": {
    "deletable": true,
    "editable": true
   },
   "source": [
    "* the laplace transform is $\\frac{s+4}{s^2+9}$"
   ]
  },
  {
   "cell_type": "code",
   "execution_count": null,
   "metadata": {
    "collapsed": false,
    "deletable": true,
    "editable": true
   },
   "outputs": [],
   "source": [
    "inverse_laplace_transform((s+4)/(s**2+9),s,t)"
   ]
  },
  {
   "cell_type": "markdown",
   "metadata": {
    "deletable": true,
    "editable": true
   },
   "source": [
    "the graph is:"
   ]
  },
  {
   "cell_type": "code",
   "execution_count": null,
   "metadata": {
    "collapsed": false,
    "deletable": true,
    "editable": true
   },
   "outputs": [],
   "source": [
    "x=np.linspace(-5,5,1000)\n",
    "y=(4*np.sin(3*x)+3*np.cos(3*x))/3\n",
    "plt.plot(x,y)"
   ]
  },
  {
   "cell_type": "markdown",
   "metadata": {
    "deletable": true,
    "editable": true
   },
   "source": [
    "* the laplace transform is $\\frac{3}{s^2+4s+13}$"
   ]
  },
  {
   "cell_type": "code",
   "execution_count": null,
   "metadata": {
    "collapsed": false,
    "deletable": true,
    "editable": true
   },
   "outputs": [],
   "source": [
    "inverse_laplace_transform(3/(s**2+4*s+13),s,t)"
   ]
  },
  {
   "cell_type": "markdown",
   "metadata": {
    "deletable": true,
    "editable": true
   },
   "source": [
    "the graph is:"
   ]
  },
  {
   "cell_type": "code",
   "execution_count": null,
   "metadata": {
    "collapsed": false,
    "deletable": true,
    "editable": true
   },
   "outputs": [],
   "source": [
    "x=np.linspace(-5,5,1000)\n",
    "y=np.sin(3*x)*np.exp(-2*x)\n",
    "plt.plot(x,y)"
   ]
  },
  {
   "cell_type": "markdown",
   "metadata": {
    "deletable": true,
    "editable": true
   },
   "source": [
    "What's more, inverse_laplace_transform can also solve partial fractions, for example:\n",
    "\n",
    "$F(s)=\\frac{2s^2-16}{s^3-16s}$"
   ]
  },
  {
   "cell_type": "code",
   "execution_count": null,
   "metadata": {
    "collapsed": false,
    "deletable": true,
    "editable": true
   },
   "outputs": [],
   "source": [
    "inverse_laplace_transform((2*s**2-16)/(s**3-16*s),s,t)"
   ]
  },
  {
   "cell_type": "markdown",
   "metadata": {
    "deletable": true,
    "editable": true
   },
   "source": [
    "and the graph is:"
   ]
  },
  {
   "cell_type": "code",
   "execution_count": null,
   "metadata": {
    "collapsed": false,
    "deletable": true,
    "editable": true
   },
   "outputs": [],
   "source": [
    "x=np.linspace(-5,5,1000)\n",
    "y=np.exp(-4*x)*0.5*(np.exp(8*x)+2*np.exp(4*x)+1)\n",
    "plt.plot(x,y)"
   ]
  },
  {
   "cell_type": "markdown",
   "metadata": {
    "deletable": true,
    "editable": true
   },
   "source": [
    "All in all, just like the laplace_transform, we put $F(s)$ in the first place of the function, and we can get the inversed one."
   ]
  },
  {
   "cell_type": "markdown",
   "metadata": {
    "deletable": true,
    "editable": true
   },
   "source": [
    "For more examples, please click [Inverse Laplace Transform](http://www.intmath.com/laplace-transformation/7-inverse-laplace-transform.php)"
   ]
  },
  {
   "cell_type": "markdown",
   "metadata": {
    "deletable": true,
    "editable": true
   },
   "source": [
    "## 3. Solving sencond-ordered differential equations by laplace_transform and inverse_laplace_transform "
   ]
  },
  {
   "cell_type": "markdown",
   "metadata": {
    "deletable": true,
    "editable": true
   },
   "source": [
    "As we all know, in differential equation field, it's quite hard to solve the second-ordered differential equations. We can only solve quite a little bit of these equations."
   ]
  },
  {
   "cell_type": "markdown",
   "metadata": {
    "deletable": true,
    "editable": true
   },
   "source": [
    "For example:\n",
    "\n",
    "in order to solve $ay''+by'+cy=g(t)$ where $y(0)=A,\n",
    "y'(0)=B$\n",
    "\n",
    "We can take Laplace transform of both saids, and then we get $a(s^2Y-sA-B)+b(sY-A)+cY=G(s)$, and we get $Y$, then use inverse laplace transform, we can get the final result"
   ]
  },
  {
   "cell_type": "markdown",
   "metadata": {
    "deletable": true,
    "editable": true
   },
   "source": [
    "The goal of this project is to teach others how can they use Laplace Transform and Inverse Laplace Transform to solve differential equation. Then, let's take a special example to see how can we use sympy to solve it."
   ]
  },
  {
   "cell_type": "markdown",
   "metadata": {
    "deletable": true,
    "editable": true
   },
   "source": [
    "* **eg**\n",
    "\n",
    "Please solve the second-ordered differential equation $y''-3y'+2y=e^{5t}$ with $y''(0)=y'(0)=0$\n",
    "\n",
    "Well, first, we can use the formular\n",
    "$$\\mathcal{L}\\{y''\\}=s^2F(s)-sy(0)-y'(0)$$\n",
    "$$\\mathcal{L}\\{y'\\}=sF(s)-y(0)$$ to transform the left side. We get $(s^2-3s+2)F(s)$\n",
    "\n",
    "And then, use laplace_transform to transform the right side."
   ]
  },
  {
   "cell_type": "code",
   "execution_count": null,
   "metadata": {
    "collapsed": false,
    "deletable": true,
    "editable": true
   },
   "outputs": [],
   "source": [
    "r1,r2,r3=laplace_transform(sympy.exp(5*t),t,s)\n",
    "r1"
   ]
  },
  {
   "cell_type": "markdown",
   "metadata": {
    "deletable": true,
    "editable": true
   },
   "source": [
    "so, we get $F(s)=\\frac{1}{(s-5)(s^2-3s+2)}$. Continue computing, we get $F(s)=\\frac{1}{(s-5)(s-1)(s-2)}=-\\frac{1}{3(s-2)}+\\frac{1}{4(s-1)}+\\frac{1}{12(s-5)}$\n",
    "\n",
    "Then, use inverse_laplace_transform:"
   ]
  },
  {
   "cell_type": "code",
   "execution_count": null,
   "metadata": {
    "collapsed": false,
    "deletable": true,
    "editable": true
   },
   "outputs": [],
   "source": [
    "inverse_laplace_transform(-1/(3*(s-2))+1/(4*(s-1))+1/(12*(s-5)),s,t)"
   ]
  },
  {
   "cell_type": "markdown",
   "metadata": {
    "deletable": true,
    "editable": true
   },
   "source": [
    "And the graph is:"
   ]
  },
  {
   "cell_type": "code",
   "execution_count": null,
   "metadata": {
    "collapsed": false,
    "deletable": true,
    "editable": true,
    "scrolled": true
   },
   "outputs": [],
   "source": [
    "x=np.linspace(-5,5,1000)\n",
    "y=(np.exp(x)*(np.exp(4*x)-4*np.exp(x)+3))/12\n",
    "plt.plot(x,y)"
   ]
  },
  {
   "cell_type": "markdown",
   "metadata": {
    "deletable": true,
    "editable": true
   },
   "source": [
    "Thereby, from laplace_transform and inverse_laplace_transform, we solve the differential equation $y''-3y'+2y=e^{5t}$ with $y''(0)=y'(0)=0$, and get $y=\\frac{e^t(e^{4t}-4e^t+3)}{12}$ and the graph of $y$."
   ]
  }
 ],
 "metadata": {
  "kernelspec": {
   "display_name": "Python 3",
   "language": "python",
   "name": "python3"
  },
  "language_info": {
   "codemirror_mode": {
    "name": "ipython",
    "version": 3
   },
   "file_extension": ".py",
   "mimetype": "text/x-python",
   "name": "python",
   "nbconvert_exporter": "python",
   "pygments_lexer": "ipython3",
   "version": "3.6.0"
  }
 },
 "nbformat": 4,
 "nbformat_minor": 2
}
