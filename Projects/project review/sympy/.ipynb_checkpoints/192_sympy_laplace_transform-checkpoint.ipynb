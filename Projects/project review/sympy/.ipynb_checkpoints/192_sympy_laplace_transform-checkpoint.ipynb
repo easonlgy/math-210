{
 "cells": [
  {
   "cell_type": "markdown",
   "metadata": {
    "collapsed": true,
    "deletable": true,
    "editable": true
   },
   "source": [
    "# MATH 210 Project One - Laplace Transform\n"
   ]
  },
  {
   "cell_type": "markdown",
   "metadata": {
    "deletable": true,
    "editable": true
   },
   "source": [
    "## Introduction \n",
    "\n",
    "\n",
    "[SymPy](http://docs.sympy.org/latest/index.html) is a symbolic computation more about mathematical calculus in Python. The integrals subpackage in SymPy is to find the definite and indefinite integrals expresstions.\n",
    "  \n",
    "The principle of integral:\n",
    "\n",
    "   * integrate(f,x) return the undefinite integral$\\ \\int f dx\\ $.In this situation, $f$ does not has a specific interval. \n",
    "   \n",
    "   * integrate(f,(x,a,b)) return the defnite integral $\\ \\int_b^a f dx\\ $. This differetial is defined in the interval[a,b].\n",
    "   \n",
    "In this notebook ,we are going to describe a useful method for integral called **Laplace Transform**(which is included in sympy.integrals,transform). We would learn how to solve differential equation using Laplace transform. More specifically, we would talk about its properties and application aboute solving second order differential equation. Also, we would talk about the inverse Laplace transform, since when use Laplace Transform to solve seond differential equation we need first take Laplace transform to change the form the equation and then after several changing we have to take the inverse Laplce transform to get the final equation."
   ]
  },
  {
   "cell_type": "markdown",
   "metadata": {
    "collapsed": true,
    "deletable": true,
    "editable": true
   },
   "source": [
    "## Content\n",
    "\n",
    "1. Laplace transform\n",
    "  * Definition\n",
    "  * Key properties\n",
    "  * Examples\n",
    "2. Inverse Laplace Transform\n",
    "  * Definition\n",
    "  * Examples\n",
    "3. Application - Solve second order differential equations"
   ]
  },
  {
   "cell_type": "markdown",
   "metadata": {
    "deletable": true,
    "editable": true
   },
   "source": [
    "## Laplace Transform\n",
    "\n",
    "### Definition\n",
    "\n",
    "1. The Laplace Transform of $f(t)$ is the function of $s\\ $(a a complex number frequency parameter) given by \n",
    "$$L[f(y)] = F(s) = \\int_0^{\\infty} e^{-st} f(t) dt$$\n",
    "\n",
    "and $L$ stands for the Laplace Transfrom.The laplace transform will allow us to convert a diffferential equation into an algebraic equation.\n",
    "\n",
    "2. Necessary condition for existence of the integral - $f(t)$ needs only defined for **t>0**\n",
    "\n",
    "3. We have a [table](http://tutorial.math.lamar.edu/pdf/Laplace_Table.pdf) for the transform of some $f(t)$ \n",
    "\n",
    "### Key properties\n",
    "\n",
    "1. Linearity $$\\ L[c_1 f_1(t) + c_2 f_2(t) = c_1L[f_1(t)]+ c_2L[f_2(t)]$$\n",
    "2. Derivative $$L[f'(t)] = sL[f(t)] - f(0) = F(s) - f(0)$$\n",
    "3. Second order differential $$L[f''(t)] = s^2L[f(t)] - f(0) - f'(0) = s^2F(s) - f(0) - f'(0)$$\n",
    " \n",
    "More information about Laplace Transform please visit [Wikipedia](https://en.wikipedia.org/wiki/Laplace_transform#Properties_and_theorems) "
   ]
  },
  {
   "cell_type": "code",
   "execution_count": null,
   "metadata": {
    "collapsed": true,
    "deletable": true,
    "editable": true
   },
   "outputs": [],
   "source": [
    "import sympy as sym\n",
    "from sympy.integrals import laplace_transform\n",
    "from sympy.abc import t, s, a,w"
   ]
  },
  {
   "cell_type": "code",
   "execution_count": null,
   "metadata": {
    "collapsed": true,
    "deletable": true,
    "editable": true
   },
   "outputs": [],
   "source": [
    "laplace_transform?"
   ]
  },
  {
   "cell_type": "markdown",
   "metadata": {
    "deletable": true,
    "editable": true
   },
   "source": [
    "The function **sympy.integrals.transforms.laplace_transform** takes three inputs $\\ f\\ $(the differential equation), $\\ t\\ $(variable in $f(t)$) and $\\ s\\ $(variable in $F(s)$). The output also contains three factor-$F(s)$,$a$ and $cond$ \n",
    "\n",
    "  "
   ]
  },
  {
   "cell_type": "markdown",
   "metadata": {
    "deletable": true,
    "editable": true
   },
   "source": [
    "### Simple  Examples "
   ]
  },
  {
   "cell_type": "code",
   "execution_count": null,
   "metadata": {
    "collapsed": false,
    "deletable": true,
    "editable": true
   },
   "outputs": [],
   "source": [
    "laplace_transform(1,t,s)"
   ]
  },
  {
   "cell_type": "code",
   "execution_count": null,
   "metadata": {
    "collapsed": false,
    "deletable": true,
    "editable": true
   },
   "outputs": [],
   "source": [
    "laplace_transform(sym.sin(t),t,s)"
   ]
  },
  {
   "cell_type": "code",
   "execution_count": null,
   "metadata": {
    "collapsed": false,
    "deletable": true,
    "editable": true
   },
   "outputs": [],
   "source": [
    "laplace_transform(sym.exp(-a),t,s)"
   ]
  },
  {
   "cell_type": "markdown",
   "metadata": {
    "deletable": true,
    "editable": true
   },
   "source": [
    "### Other examples \n",
    "\n",
    "The laplace transform can also transform a equation."
   ]
  },
  {
   "cell_type": "code",
   "execution_count": null,
   "metadata": {
    "collapsed": false,
    "deletable": true,
    "editable": true
   },
   "outputs": [],
   "source": [
    "a,b,c = laplace_transform(t**2 + t*sym.sin(t),t,s)\n",
    "a"
   ]
  },
  {
   "cell_type": "code",
   "execution_count": null,
   "metadata": {
    "collapsed": false,
    "deletable": true,
    "editable": true
   },
   "outputs": [],
   "source": [
    "a1,b1,c1 = laplace_transform(sym.sin(w*t)+ sym.cos(w*t),t,s)\n",
    "a1"
   ]
  },
  {
   "cell_type": "markdown",
   "metadata": {
    "deletable": true,
    "editable": true
   },
   "source": [
    "Above we know how to take Laplace Transform of equations which could be quite easy. We only need to put the differential equation in the first place of the function **laplace_transform** and then we could get what we want.\n",
    "All we talk above is just the step to solve the differential equation. Next we will turn to the `inverse laplace transform `. "
   ]
  },
  {
   "cell_type": "markdown",
   "metadata": {
    "deletable": true,
    "editable": true
   },
   "source": [
    "## Inverse Laplace Transform\n",
    "\n",
    "\n",
    "Bacially, Inverse laplace transform is to transform$\\ F(s)$ or $G(s)$ to $f(t)$ or $g(t)$ which is defined:\n",
    "$$ f(t) = L^{-1} F(s)\n",
    "$$\n",
    "Recall that we could change the form of differential equation into an algebraic equation. Once we solve the equation in the $F(s)\\ $ we want to go back to the $f(t)$. That is the job of inverse laplace transform.\n",
    "Taking inverse laplace transform is difficuly than taking laplace transform since it requires complex numbers and path integrals. We also use the same [table](http://tutorial.math.lamar.edu/pdf/Laplace_Table.pdf).\n",
    "\n",
    "### Properties\n",
    "\n",
    "1. Liearity\n",
    "$$ L^{-1}(AF(s) + BG(s)) = AL^{-1}F(s+ BL^{-1}G(s)\n",
    "$$\n",
    "\n",
    "2. Shifting property or Fist shifting property\n",
    "$$ L(e^{-at}f(t)) = F(s+a)\n",
    "$$"
   ]
  },
  {
   "cell_type": "code",
   "execution_count": null,
   "metadata": {
    "collapsed": true,
    "deletable": true,
    "editable": true
   },
   "outputs": [],
   "source": [
    "from sympy.integrals.transforms import inverse_laplace_transform\n",
    "from sympy import exp, Symbol\n",
    "from sympy.abc import s, t"
   ]
  },
  {
   "cell_type": "code",
   "execution_count": null,
   "metadata": {
    "collapsed": true,
    "deletable": true,
    "editable": true
   },
   "outputs": [],
   "source": [
    "inverse_laplace_transform?"
   ]
  },
  {
   "cell_type": "markdown",
   "metadata": {
    "deletable": true,
    "editable": true
   },
   "source": [
    "Similarly,**sympy.integrals.transform.inverse_laplace.transform** also take three inputs $F$,$s$ and$\\ t$. It means that change the equation in form of $s$ to the form of $t$."
   ]
  },
  {
   "cell_type": "markdown",
   "metadata": {
    "deletable": true,
    "editable": true
   },
   "source": [
    "### Simple examples"
   ]
  },
  {
   "cell_type": "markdown",
   "metadata": {
    "deletable": true,
    "editable": true
   },
   "source": [
    "Inverse laplace transform of\n",
    "$$ F(s) = \\frac{1}{s-1}\n",
    "$$"
   ]
  },
  {
   "cell_type": "code",
   "execution_count": null,
   "metadata": {
    "collapsed": false,
    "deletable": true,
    "editable": true
   },
   "outputs": [],
   "source": [
    "inverse_laplace_transform(1/(s-1),s,t)"
   ]
  },
  {
   "cell_type": "markdown",
   "metadata": {
    "deletable": true,
    "editable": true
   },
   "source": [
    "Inverse laplace transform of\n",
    "$$ F(s) = \\frac{s}{s^2 +1}\n",
    "$$"
   ]
  },
  {
   "cell_type": "code",
   "execution_count": null,
   "metadata": {
    "collapsed": false,
    "deletable": true,
    "editable": true
   },
   "outputs": [],
   "source": [
    "inverse_laplace_transform(s/(s**2+1),s,t)"
   ]
  },
  {
   "cell_type": "markdown",
   "metadata": {
    "deletable": true,
    "editable": true
   },
   "source": [
    "Inverse laplace transform\n",
    "\n",
    "$$ F(s) = \\frac{1}{s(s^2+1)}\n",
    "$$"
   ]
  },
  {
   "cell_type": "code",
   "execution_count": null,
   "metadata": {
    "collapsed": true,
    "deletable": true,
    "editable": true
   },
   "outputs": [],
   "source": [
    "import numpy as np\n",
    "import matplotlib.pyplot as plt\n",
    "%matplotlib inline"
   ]
  },
  {
   "cell_type": "code",
   "execution_count": null,
   "metadata": {
    "collapsed": false,
    "deletable": true,
    "editable": true
   },
   "outputs": [],
   "source": [
    "s = np.linspace(-10,10,1000)\n",
    "y = 1/s*(s**2 -1)\n",
    "plt.plot(s,y)"
   ]
  },
  {
   "cell_type": "code",
   "execution_count": null,
   "metadata": {
    "collapsed": true,
    "deletable": true,
    "editable": true
   },
   "outputs": [],
   "source": [
    "from sympy.integrals.transforms import inverse_laplace_transform\n",
    "from sympy import exp, Symbol\n",
    "from sympy.abc import s, t"
   ]
  },
  {
   "cell_type": "code",
   "execution_count": null,
   "metadata": {
    "collapsed": false,
    "deletable": true,
    "editable": true
   },
   "outputs": [],
   "source": [
    "inverse_laplace_transform(1/(s*(s**2+1)),s,t)"
   ]
  },
  {
   "cell_type": "code",
   "execution_count": null,
   "metadata": {
    "collapsed": false,
    "deletable": true,
    "editable": true
   },
   "outputs": [],
   "source": [
    "t = np.linspace(-2*np.pi,2*np.pi,100)\n",
    "y = -(np.cos(t) - 1)\n",
    "plt.plot(t,y)"
   ]
  },
  {
   "cell_type": "markdown",
   "metadata": {
    "deletable": true,
    "editable": true
   },
   "source": [
    "## Application - Solving second order differential equation\n",
    "\n",
    "In general, it only takes three steps to solve second order differential equation by using Laplce transform. First, take the Laplace transform of equation. Next turn it into an algebraic form. The last step is to take the inverse Laplace transform and then we can get the solution. \n",
    "\n",
    "More specifically, to solve the second order differential equation \n",
    "$$ ay''+ by' + cy = g(t) \n",
    "$$\n",
    "with the condition $$y(0) = A,\\ y'(0) = B$$\n",
    "\n",
    "In this part we need remember rules of laplace transform ![](http://www.efunda.com/math/laplace_transform/images/derivative_t.gif)\n",
    "\n",
    "Take the Laplace transform of both side and then we can get\n",
    "$$a(s^2 Y(s) - sy(0) - y'(0)) + b(sY(s) - y(0) + cY(s) = G(s)\n",
    "$$ \n",
    "and plug the condition $y(0)$ and $y'(0)$. At last, we can get a equation of $Y(s)$ and use inverse Laplace transform to get the original equation."
   ]
  },
  {
   "cell_type": "markdown",
   "metadata": {
    "deletable": true,
    "editable": true
   },
   "source": [
    "### Examples\n",
    "\n",
    "Take the an easy equation \n",
    "$$ \\frac{d^2}{dt^2}y(t) + 2 \\frac{d}{dt} + 10 y(t) = 2sin(3t),\\ \\ \\ y(0) = 0 \\ y'(0) =0\n",
    "$$\n"
   ]
  },
  {
   "cell_type": "code",
   "execution_count": null,
   "metadata": {
    "collapsed": true,
    "deletable": true,
    "editable": true
   },
   "outputs": [],
   "source": [
    "import sympy as sym\n",
    "from sympy.integrals import laplace_transform\n",
    "from sympy.abc import t, s, a,w"
   ]
  },
  {
   "cell_type": "code",
   "execution_count": null,
   "metadata": {
    "collapsed": true,
    "deletable": true,
    "editable": true
   },
   "outputs": [],
   "source": [
    "from sympy.integrals.transforms import inverse_laplace_transform\n",
    "from sympy import exp, Symbol\n",
    "from sympy.abc import s, t"
   ]
  },
  {
   "cell_type": "code",
   "execution_count": null,
   "metadata": {
    "collapsed": false,
    "deletable": true,
    "editable": true
   },
   "outputs": [],
   "source": [
    "from sympy import sin, cos, Function, diff,Eq,symbols\n",
    "from sympy.abc import x, y,F,Y\n",
    "f = Function('f')\n",
    "y = Function('y')\n",
    "s,Y = symbols('s,Y',real = True)"
   ]
  },
  {
   "cell_type": "code",
   "execution_count": null,
   "metadata": {
    "collapsed": false,
    "deletable": true,
    "editable": true
   },
   "outputs": [],
   "source": [
    "ode = y(t).diff(t,2) + 2* y(t).diff(t) + 10*y(t) - 2*sym.sin(3*t)\n",
    "ode"
   ]
  },
  {
   "cell_type": "markdown",
   "metadata": {
    "deletable": true,
    "editable": true
   },
   "source": [
    "**diff** in sympy is a derivative function. $y(t)\\ $diff(t) stands for the first order differetation and $y(t)\\ $ diff present the second order"
   ]
  },
  {
   "cell_type": "code",
   "execution_count": null,
   "metadata": {
    "collapsed": false,
    "deletable": true,
    "editable": true
   },
   "outputs": [],
   "source": [
    "b = laplace_transform(ode,t,s,noconds=True)\n",
    "b"
   ]
  },
  {
   "cell_type": "markdown",
   "metadata": {
    "collapsed": true,
    "deletable": true,
    "editable": true
   },
   "source": [
    "As we can see that through the computer we can equation easily, but is not easy when do it by hands. Therefore, I would state the process in words using the example above:\n",
    "\n",
    "First take the Laplace transform of both sides we can get:\n",
    "\n",
    "$$ s^2Y(s) - sy(0) - y'(0) + 2(sY(s) - y(0)) + 10Y(s) = 2 \\frac{6}{s^2 +9}\n",
    "$$\n",
    "with $y(0) =0 \\ $ and $y'(0) =`$ we can get :\n",
    "$$ Y(s)(s^2 + 2s + 10) = 2 \\frac{6}{s^2 +9} +1                      \n",
    "$$\n",
    "\n",
    "$$Y(s) = \\frac{12}{(s^2+9)(s^2+2s+10)} + \\frac{1}{s^2+2s+10}\n",
    "$$\n",
    "the graph could be shown as following"
   ]
  },
  {
   "cell_type": "code",
   "execution_count": null,
   "metadata": {
    "collapsed": false,
    "deletable": true,
    "editable": true
   },
   "outputs": [],
   "source": [
    "inverse_laplace_transform(12/(s**2+9)*(s**2 + 2*s + 10) ,s,t)"
   ]
  },
  {
   "cell_type": "markdown",
   "metadata": {
    "collapsed": true,
    "deletable": true,
    "editable": true
   },
   "source": [
    "From this case we know that the main part for solving the $\\ 2^{nd}\\ $ order differential equation is the second part. We need to find the expression of $Y(s)$ by changing the form.\n",
    "\n",
    "Let's do another example:\n",
    "\n",
    "$$ y''(t) + y(t) = cos(2t), \\ \\ \\ y(0) =0,\\ y'(0) =1\n",
    "$$\n",
    "\n"
   ]
  },
  {
   "cell_type": "code",
   "execution_count": null,
   "metadata": {
    "collapsed": true,
    "deletable": true,
    "editable": true
   },
   "outputs": [],
   "source": [
    "from sympy.integrals.transforms import inverse_laplace_transform\n",
    "from sympy import exp, Symbol\n",
    "from sympy.abc import s, t"
   ]
  },
  {
   "cell_type": "code",
   "execution_count": null,
   "metadata": {
    "collapsed": false,
    "deletable": true,
    "editable": true
   },
   "outputs": [],
   "source": [
    "laplace_transform(diff(y(t),t,t) + y(t),t,s)"
   ]
  },
  {
   "cell_type": "code",
   "execution_count": null,
   "metadata": {
    "collapsed": false,
    "deletable": true,
    "editable": true
   },
   "outputs": [],
   "source": [
    "laplace_transform(sym.cos(2*t),t,s)"
   ]
  },
  {
   "cell_type": "markdown",
   "metadata": {
    "collapsed": true,
    "deletable": true,
    "editable": true
   },
   "source": [
    "So we get the equation for $Y(s)$\n",
    "$$Y(s) = \\frac{s}{s^2+4} + \\frac{1}{s^2+1}\n",
    "$$"
   ]
  },
  {
   "cell_type": "code",
   "execution_count": null,
   "metadata": {
    "collapsed": false,
    "deletable": true,
    "editable": true
   },
   "outputs": [],
   "source": [
    "inverse_laplace_transform(s/(s**2+4) + 1/(s**2 +1),s,t)"
   ]
  },
  {
   "cell_type": "code",
   "execution_count": null,
   "metadata": {
    "collapsed": false,
    "deletable": true,
    "editable": true
   },
   "outputs": [],
   "source": [
    "inverse_laplace_transform(1/(s**2 +1),s,t)"
   ]
  },
  {
   "cell_type": "markdown",
   "metadata": {
    "collapsed": true,
    "deletable": true,
    "editable": true
   },
   "source": [
    "So the integration for $ y''(t) + y(t) = cos(2t), \\ \\ \\ y(0) =0,\\ y'(0) =1$ is\n",
    "\n",
    "$$y(t) = cos(2t) + sin(t) \n",
    "$$"
   ]
  },
  {
   "cell_type": "markdown",
   "metadata": {
    "collapsed": true,
    "deletable": true,
    "editable": true
   },
   "source": [
    "In summary, Laplace trnasform provide us an efficient mwthod to solve the certain ODE problems. The function **sympy.integrals.transform.laplace_transform** and **sympy.integrals.transform.inverse_laplace_transform** are easy to use. What we should remember is that they need three inputs."
   ]
  },
  {
   "cell_type": "markdown",
   "metadata": {
    "collapsed": true,
    "deletable": true,
    "editable": true
   },
   "source": [
    "## Exercise"
   ]
  },
  {
   "cell_type": "markdown",
   "metadata": {
    "collapsed": true,
    "deletable": true,
    "editable": true
   },
   "source": [
    "### 1. \n",
    "Find the Laplace transform of \n",
    "\n",
    "$$3 + t^5 +sin(\\pi t))\n",
    "$$"
   ]
  },
  {
   "cell_type": "markdown",
   "metadata": {
    "collapsed": true,
    "deletable": true,
    "editable": true
   },
   "source": [
    "### 2.\n",
    "\n",
    "Find Laplace transform of \n",
    "\n",
    "$$a+ bt +ct^2 \\ for \\  some \\ constants \\ a,\\ b \\ and \\ c\n",
    "$$"
   ]
  },
  {
   "cell_type": "markdown",
   "metadata": {
    "collapsed": true,
    "deletable": true,
    "editable": true
   },
   "source": [
    "### 3. \n",
    "\n",
    "Find the Laplace trnasform of \n",
    "\n",
    "$$ tsin(wt)\n",
    "$$"
   ]
  },
  {
   "cell_type": "markdown",
   "metadata": {
    "collapsed": true,
    "deletable": true,
    "editable": true
   },
   "source": [
    "### 4. \n",
    "\n",
    "Solve $x'' +x = u(t-1)$ for initial conditions $x(0) = 0$ and $x'(0) = 0$"
   ]
  },
  {
   "cell_type": "markdown",
   "metadata": {
    "collapsed": true,
    "deletable": true,
    "editable": true
   },
   "source": [
    "### 5. \n",
    "\n",
    "Solve $x''' +x = t^3u(t-1)$ for initial conditions $x(0) = 1$ and$x'(0) = 0$ , $x''(0) = 0$"
   ]
  },
  {
   "cell_type": "markdown",
   "metadata": {
    "collapsed": true,
    "deletable": true,
    "editable": true
   },
   "source": [
    "## Reference\n",
    "\n",
    "Some information of Laplace transform and Inverse laplace transform are from Wikipedia. Also, I use the knowlege I learned in 215 last term. Moreover, I refer to the textbook used in last term. "
   ]
  }
 ],
 "metadata": {
  "kernelspec": {
   "display_name": "Python 3",
   "language": "python",
   "name": "python3"
  },
  "language_info": {
   "codemirror_mode": {
    "name": "ipython",
    "version": 3
   },
   "file_extension": ".py",
   "mimetype": "text/x-python",
   "name": "python",
   "nbconvert_exporter": "python",
   "pygments_lexer": "ipython3",
   "version": "3.6.0"
  }
 },
 "nbformat": 4,
 "nbformat_minor": 2
}
