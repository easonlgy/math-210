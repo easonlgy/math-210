{
 "cells": [
  {
   "cell_type": "markdown",
   "metadata": {
    "deletable": true,
    "editable": true
   },
   "source": [
    "# MATH 210 Project I"
   ]
  },
  {
   "cell_type": "markdown",
   "metadata": {
    "deletable": true,
    "editable": true
   },
   "source": [
    "## Vector Calculus with Sympy.physics vector module\n"
   ]
  },
  {
   "cell_type": "markdown",
   "metadata": {
    "deletable": true,
    "editable": true
   },
   "source": [
    "## Physics. Vector\n",
    "Sympy.physics is a sympy module designed to solve physcis problems"
   ]
  },
  {
   "cell_type": "markdown",
   "metadata": {
    "deletable": true,
    "editable": true
   },
   "source": [
    "**learning goal**:\n",
    "by using sympy.physics.vector Module to approch multi-variable math problem in a much easier and more direct path:\n",
    "- simple vector operation\n",
    "- magnitude of vector\n",
    "- unitvector\n",
    "- grad($\\hat{v}$) and div($\\hat{v}$)"
   ]
  },
  {
   "cell_type": "markdown",
   "metadata": {
    "deletable": true,
    "editable": true
   },
   "source": [
    "## Contents\n",
    "1. Reference Frame\n",
    "2. Vector Algebra in Physics.Vector\n",
    "3. Vector Calculus in Physics\n",
    "4. Exercise"
   ]
  },
  {
   "cell_type": "markdown",
   "metadata": {
    "deletable": true,
    "editable": true
   },
   "source": [
    "### 1. To crate a reference frame N\n",
    "- in physics,  a frame of reference (or reference frame) consists of an abstract coordinate system and the set of physical reference points that uniquely fix (locate and orient) the coordinate system and **standardize measurements**.\n",
    "- for more detail, please check [reference frame](https://en.wikipedia.org/wiki/Frame_of_reference)\n",
    "- we could also see this as:\n",
    "$$\n",
    "a = a_x\\hat{n}_x+a_y\\hat{n}_y+a_z\\hat{n}_z\n",
    "$$\n",
    "- that is saying 'a' is a vector in three demention that can be represented on three direction [$a_x$] [$a_y$] and [$a_z$]"
   ]
  },
  {
   "cell_type": "code",
   "execution_count": null,
   "metadata": {
    "collapsed": false,
    "deletable": true,
    "editable": true
   },
   "outputs": [],
   "source": [
    "from sympy.physics.vector import *\n",
    "# before we start to crate a reference frame, lets import sympy first.\n",
    "N = ReferenceFrame ('N')\n",
    "# now we have crated a reference frame 'N'\n",
    "# after that we have access to any basis vectors."
   ]
  },
  {
   "cell_type": "code",
   "execution_count": null,
   "metadata": {
    "collapsed": false,
    "deletable": true,
    "editable": true
   },
   "outputs": [],
   "source": [
    "print ([(N.x),(N.y),(N.z)]) \n",
    "# with respect to x,y,z, it is equavelent to [1,1,1]"
   ]
  },
  {
   "cell_type": "code",
   "execution_count": null,
   "metadata": {
    "collapsed": true,
    "deletable": true,
    "editable": true
   },
   "outputs": [],
   "source": [
    "from sympy import Symbol, symbols # to import symbol\n",
    "x = Symbol ('x')\n",
    "# here we defined a scalar x, will go through the methdology in the next part"
   ]
  },
  {
   "cell_type": "code",
   "execution_count": null,
   "metadata": {
    "collapsed": false,
    "deletable": true,
    "editable": true
   },
   "outputs": [],
   "source": [
    "print ([(3*x*N.x),(1/2*N.y),(3**0.5*N.z)]) \n",
    "# unlike the previous one, we have put real numbers in x,y,z directions"
   ]
  },
  {
   "cell_type": "markdown",
   "metadata": {
    "deletable": true,
    "editable": true
   },
   "source": [
    "### 2. Vector Algebra in physics.vector"
   ]
  },
  {
   "cell_type": "markdown",
   "metadata": {
    "deletable": true,
    "editable": true
   },
   "source": [
    "- since we are dealing with vector, for each vector we have to consider both its **magnitude and its direction**, see following:"
   ]
  },
  {
   "cell_type": "code",
   "execution_count": null,
   "metadata": {
    "collapsed": false,
    "deletable": true,
    "editable": true
   },
   "outputs": [],
   "source": [
    "N.x == N.x\n",
    "# it is the same as [1,0,0] is equavelent to [1,0,0]"
   ]
  },
  {
   "cell_type": "code",
   "execution_count": null,
   "metadata": {
    "collapsed": false,
    "deletable": true,
    "editable": true
   },
   "outputs": [],
   "source": [
    "N.x == N.y\n",
    "# [1,0,0] is not equavelent to [0,1,0]"
   ]
  },
  {
   "cell_type": "markdown",
   "metadata": {
    "deletable": true,
    "editable": true
   },
   "source": [
    "- to show the addition of two vectors within the same frame:a = [2,0,0],b = [0,3,0]\n",
    "$$ \n",
    "a + b = (a_x + b_x)\\hat{n}_x + (a_y + b_y)\\hat{n}_y + (a_z + b_z)\\hat{n}_z = 2\\hat{n}_x + 3\\hat{n}_y + 0\\hat{n}_z\n",
    "$$"
   ]
  },
  {
   "cell_type": "code",
   "execution_count": null,
   "metadata": {
    "collapsed": false,
    "deletable": true,
    "editable": true
   },
   "outputs": [],
   "source": [
    "N.x+N.y\n",
    "# it is the same as [1,0,0]+[0,1,0]=[1,1,0]"
   ]
  },
  {
   "cell_type": "code",
   "execution_count": null,
   "metadata": {
    "collapsed": false,
    "deletable": true,
    "editable": true
   },
   "outputs": [],
   "source": [
    "N.x*2+N.y*3+N.z\n",
    "# notice the magnitude of Nz is 0"
   ]
  },
  {
   "cell_type": "markdown",
   "metadata": {
    "deletable": true,
    "editable": true
   },
   "source": [
    "#### - Vector Symbol\n",
    "- need to notice that if we mix vectors and scalars in our opration, an error will ocur.      for example: \n",
    "$$\n",
    "N.z+1\n",
    "$$ \n",
    "- will produce nothing but **error**\n",
    "- instead we can use Sympy's Symbol in Vectors"
   ]
  },
  {
   "cell_type": "code",
   "execution_count": null,
   "metadata": {
    "collapsed": false,
    "deletable": true,
    "editable": true
   },
   "outputs": [],
   "source": [
    "from sympy import Symbol, symbols # to import symbol\n",
    "x = Symbol ('x')\n",
    "y = Symbol ('y')\n",
    "z = Symbol ('z')\n",
    "c = Symbol ('c')\n",
    "r = Symbol ('r')\n",
    "(x * N.x)\n"
   ]
  },
  {
   "cell_type": "markdown",
   "metadata": {
    "collapsed": false,
    "deletable": true,
    "editable": true
   },
   "source": [
    "- set c is some constant（not necessarily to be constant!） **scalar c**, n is **vector**\n",
    "$$ \n",
    "cn = cn_x + cn_y + cn_z \n",
    "$$"
   ]
  },
  {
   "cell_type": "code",
   "execution_count": null,
   "metadata": {
    "collapsed": false,
    "deletable": true,
    "editable": true
   },
   "outputs": [],
   "source": [
    "print (c * (N.x+N.y+N.z))"
   ]
  },
  {
   "cell_type": "markdown",
   "metadata": {
    "deletable": true,
    "editable": true
   },
   "source": [
    "#### - Dot product in Sympy Vector\n",
    "$$\n",
    "a\\cdot b = \\|a\\|\\|b\\|\\cos(\\theta)\n",
    "$$"
   ]
  },
  {
   "cell_type": "code",
   "execution_count": null,
   "metadata": {
    "collapsed": false,
    "deletable": true,
    "editable": true
   },
   "outputs": [],
   "source": [
    "(1*N.x) & (2*N.x) \n",
    "# given [1,0,0],[2,0,0] since cos(pi/2) = 1, the result is abs (1) * abs (2)"
   ]
  },
  {
   "cell_type": "code",
   "execution_count": null,
   "metadata": {
    "collapsed": false,
    "deletable": true,
    "editable": true
   },
   "outputs": [],
   "source": [
    "(1*N.y) & (2*N.x) \n",
    "# same as above,y-axis and x-axis are perpendicular to each other, the result should be 0"
   ]
  },
  {
   "cell_type": "markdown",
   "metadata": {
    "deletable": true,
    "editable": true
   },
   "source": [
    "#### - Cross product in Sympy Vector\n",
    "$$\n",
    "a \\times b = \\|a\\|\\|b\\|\\sin(\\theta)\\hat{n}\n",
    "$$"
   ]
  },
  {
   "cell_type": "code",
   "execution_count": null,
   "metadata": {
    "collapsed": false,
    "deletable": true,
    "editable": true
   },
   "outputs": [],
   "source": [
    "1*N.x ^ 2*N.x \n",
    "# any vector product itself is 0"
   ]
  },
  {
   "cell_type": "code",
   "execution_count": null,
   "metadata": {
    "collapsed": false,
    "deletable": true,
    "editable": true
   },
   "outputs": [],
   "source": [
    "N.x ^ N.y \n",
    "# the function implies a vector that perpendicular to both x and y, which in this case is 'z' component"
   ]
  },
  {
   "cell_type": "markdown",
   "metadata": {
    "deletable": true,
    "editable": true
   },
   "source": [
    "#### - Normalizing\n",
    "- Normalizing the vector to length 1 and getting tis magnitude\n",
    "- it is equavelent to take the unit vactor\n",
    "$$\n",
    "\\bar{v} = \\frac{\\hat{v}}{\\|v\\|}\n",
    "$$"
   ]
  },
  {
   "cell_type": "markdown",
   "metadata": {
    "deletable": true,
    "editable": true
   },
   "source": [
    "- to calculate the magnitude of $\\hat{v}$, we can use '.magnitude'\n",
    "$$\n",
    "\\|v\\|\n",
    "$$"
   ]
  },
  {
   "cell_type": "code",
   "execution_count": null,
   "metadata": {
    "collapsed": false,
    "deletable": true,
    "editable": true
   },
   "outputs": [],
   "source": [
    "(N.x+2*N.y+3*N.z).magnitude()"
   ]
  },
  {
   "cell_type": "markdown",
   "metadata": {
    "deletable": true,
    "editable": true
   },
   "source": [
    "- to calculate the unit vector of $\\hat{r}$, use '.normalize'"
   ]
  },
  {
   "cell_type": "code",
   "execution_count": null,
   "metadata": {
    "collapsed": false,
    "deletable": true,
    "editable": true
   },
   "outputs": [],
   "source": [
    "(1*N.x + 2*N.y+3*N.z).normalize().to_matrix(N)"
   ]
  },
  {
   "cell_type": "markdown",
   "metadata": {
    "deletable": true,
    "editable": true
   },
   "source": [
    "#### The Matrix form\n",
    "as we can see from the following, we need to provide a reference frame to extract the measure number from the vector"
   ]
  },
  {
   "cell_type": "code",
   "execution_count": null,
   "metadata": {
    "collapsed": false,
    "deletable": true,
    "editable": true
   },
   "outputs": [],
   "source": [
    "(x * N.x + 2 * x * N.y + 3 * x * N.z). to_matrix(N)"
   ]
  },
  {
   "cell_type": "code",
   "execution_count": null,
   "metadata": {
    "collapsed": false,
    "deletable": true,
    "editable": true
   },
   "outputs": [],
   "source": []
  },
  {
   "cell_type": "markdown",
   "metadata": {
    "deletable": true,
    "editable": true
   },
   "source": [
    "### 3. Vector Calculus, in physics, vector"
   ]
  },
  {
   "cell_type": "markdown",
   "metadata": {
    "collapsed": true,
    "deletable": true,
    "editable": true
   },
   "source": [
    "- With physics module, we can take the derivative in the frame we have given"
   ]
  },
  {
   "cell_type": "code",
   "execution_count": null,
   "metadata": {
    "collapsed": false,
    "deletable": true,
    "editable": true
   },
   "outputs": [],
   "source": [
    "(3*x*N.x + N.y).diff(x,N)\n",
    "# so here what we are doing was to take the dirivative on frame N, which respect to x "
   ]
  },
  {
   "cell_type": "markdown",
   "metadata": {
    "deletable": true,
    "editable": true
   },
   "source": [
    "Notice 'diff' function is not like gradient, it consume every N.x,N.y,N.z direction and take dirivative of what we expect\n",
    "** it is *NOT* like Cartesian coordinates**:"
   ]
  },
  {
   "cell_type": "markdown",
   "metadata": {
    "deletable": true,
    "editable": true
   },
   "source": [
    "$$\n",
    "\\triangledown f= \\frac{\\partial f}{\\partial x}\\hat{i} + \\frac{\\partial f}{\\partial y}\\hat{j} + \\frac{\\partial f}{\\partial z}\\hat{k}\n",
    "$$"
   ]
  },
  {
   "cell_type": "markdown",
   "metadata": {
    "deletable": true,
    "editable": true
   },
   "source": [
    "for example:\n",
    "$$\n",
    "f = 2x\\hat{i} + 6x\\hat{j}- 12x^2\\hat{k}\n",
    "$$\n",
    "\n",
    "$$\n",
    "\\triangledown f= \\frac{\\partial f}{\\partial x}\\hat{i} + \\frac{\\partial f}{\\partial y}\\hat{j} + \\frac{\\partial f}{\\partial z}\\hat{k} = 0\\hat{i}+0\\hat{j}+0\\hat{k}\n",
    "$$\n",
    "\n",
    "$$\n",
    "f_x = 2\\hat{i}+6\\hat{j}+24x\\hat{k}\n",
    "$$"
   ]
  },
  {
   "cell_type": "code",
   "execution_count": null,
   "metadata": {
    "collapsed": false,
    "deletable": true,
    "editable": true
   },
   "outputs": [],
   "source": [
    "(2*x*N.x + 6*x*N.y + 12*x**2*N.z).diff(x,N).to_matrix(N)"
   ]
  },
  {
   "cell_type": "markdown",
   "metadata": {
    "deletable": true,
    "editable": true
   },
   "source": [
    "#### - multiple reference frames\n",
    "we can put another frame, for example A. we can add components of different frames together"
   ]
  },
  {
   "cell_type": "code",
   "execution_count": null,
   "metadata": {
    "collapsed": false,
    "deletable": true,
    "editable": true
   },
   "outputs": [],
   "source": [
    "A = ReferenceFrame ('A')\n",
    "A.x+N.x"
   ]
  },
  {
   "cell_type": "markdown",
   "metadata": {
    "deletable": true,
    "editable": true
   },
   "source": [
    "#### - multiple reference frames multiplication"
   ]
  },
  {
   "cell_type": "markdown",
   "metadata": {
    "deletable": true,
    "editable": true
   },
   "source": [
    "before we do vector multiplication, we need to define the orientation first"
   ]
  },
  {
   "cell_type": "code",
   "execution_count": null,
   "metadata": {
    "collapsed": true,
    "deletable": true,
    "editable": true
   },
   "outputs": [],
   "source": [
    "A.orient(N, 'Axis',[x, N.y])"
   ]
  },
  {
   "cell_type": "markdown",
   "metadata": {
    "deletable": true,
    "editable": true
   },
   "source": [
    "#### - Dynamicsymbols"
   ]
  },
  {
   "cell_type": "markdown",
   "metadata": {
    "deletable": true,
    "editable": true
   },
   "source": [
    "what does dynamicsymbols do is a shortcut function to create undefined functions of time within SymPy. The derivative of such a ‘dynamicsymbol’ is shown below."
   ]
  },
  {
   "cell_type": "code",
   "execution_count": null,
   "metadata": {
    "collapsed": false,
    "deletable": true,
    "editable": true
   },
   "outputs": [],
   "source": [
    "from sympy import diff\n",
    "q1,q2,q3 = dynamicsymbols ('q1 q2 q3')\n",
    "diff(q1, Symbol('t'))"
   ]
  },
  {
   "cell_type": "markdown",
   "metadata": {
    "deletable": true,
    "editable": true
   },
   "source": [
    "The ‘dynamicsymbol’ printing is not very clear above; we will also introduce a few other tools here. We can use vprint instead of print for non-interactive sessions."
   ]
  },
  {
   "cell_type": "code",
   "execution_count": null,
   "metadata": {
    "collapsed": false,
    "deletable": true,
    "editable": true
   },
   "outputs": [],
   "source": [
    "q1"
   ]
  },
  {
   "cell_type": "code",
   "execution_count": null,
   "metadata": {
    "collapsed": false,
    "deletable": true,
    "editable": true
   },
   "outputs": [],
   "source": [
    "q1d = diff (q1, Symbol('t'))"
   ]
  },
  {
   "cell_type": "code",
   "execution_count": null,
   "metadata": {
    "collapsed": false,
    "deletable": true,
    "editable": true
   },
   "outputs": [],
   "source": [
    "vprint(q1)"
   ]
  },
  {
   "cell_type": "code",
   "execution_count": null,
   "metadata": {
    "collapsed": false,
    "deletable": true,
    "editable": true
   },
   "outputs": [],
   "source": [
    "vprint(q1d)"
   ]
  },
  {
   "cell_type": "markdown",
   "metadata": {
    "deletable": true,
    "editable": true
   },
   "source": [
    "## Exercise:\n",
    "use what we have learn from python.physics.vector module, solve the following question:"
   ]
  },
  {
   "cell_type": "markdown",
   "metadata": {
    "deletable": true,
    "editable": true
   },
   "source": [
    "### Question1:\n",
    "#### if u = 2i+j-2k and v = 3i-2j-k find u+v, u-v, 3u-2v"
   ]
  },
  {
   "cell_type": "markdown",
   "metadata": {
    "deletable": true,
    "editable": true
   },
   "source": [
    "for u+v:"
   ]
  },
  {
   "cell_type": "code",
   "execution_count": null,
   "metadata": {
    "collapsed": true,
    "deletable": true,
    "editable": true
   },
   "outputs": [],
   "source": [
    "u = (2*N.x+N.y+(-2)*N.z)\n",
    "v = (3*N.x+(-2)*N.y+(-1)*N.z)"
   ]
  },
  {
   "cell_type": "code",
   "execution_count": null,
   "metadata": {
    "collapsed": false,
    "deletable": true,
    "editable": true
   },
   "outputs": [],
   "source": [
    "print (u+v)"
   ]
  },
  {
   "cell_type": "code",
   "execution_count": null,
   "metadata": {
    "collapsed": false,
    "deletable": true,
    "editable": true
   },
   "outputs": [],
   "source": [
    "print (u-v)"
   ]
  },
  {
   "cell_type": "code",
   "execution_count": null,
   "metadata": {
    "collapsed": false,
    "deletable": true,
    "editable": true
   },
   "outputs": [],
   "source": [
    "print (3*u-2*v)"
   ]
  },
  {
   "cell_type": "markdown",
   "metadata": {
    "deletable": true,
    "editable": true
   },
   "source": [
    "### Question 2:\n",
    "#### find u $\\cdot$ v"
   ]
  },
  {
   "cell_type": "code",
   "execution_count": null,
   "metadata": {
    "collapsed": false,
    "deletable": true,
    "editable": true
   },
   "outputs": [],
   "source": [
    "print(u&v)\n"
   ]
  },
  {
   "cell_type": "markdown",
   "metadata": {
    "deletable": true,
    "editable": true
   },
   "source": [
    "### Question 3:\n",
    "#### find a unit vector in the direction of u"
   ]
  },
  {
   "cell_type": "code",
   "execution_count": null,
   "metadata": {
    "collapsed": false,
    "deletable": true,
    "editable": true
   },
   "outputs": [],
   "source": [
    "u.normalize()"
   ]
  },
  {
   "cell_type": "markdown",
   "metadata": {
    "deletable": true,
    "editable": true
   },
   "source": [
    "### Question 4:\n",
    "let \n",
    "$$\n",
    "\\hat{r} = x\\hat{i}+y\\hat{j}+z\\hat{k}\n",
    "$$\n",
    "$$\n",
    "r = |\\hat{r}|\n",
    "$$"
   ]
  },
  {
   "cell_type": "markdown",
   "metadata": {
    "deletable": true,
    "editable": true
   },
   "source": [
    "- #### compute grad r"
   ]
  },
  {
   "cell_type": "code",
   "execution_count": null,
   "metadata": {
    "collapsed": false,
    "deletable": true,
    "editable": true
   },
   "outputs": [],
   "source": [
    "r = x*N.x + y*N.y + z*N.z\n",
    "u.normalize()"
   ]
  },
  {
   "cell_type": "markdown",
   "metadata": {
    "deletable": true,
    "editable": true
   },
   "source": [
    "inorder to make it more vidulize, we can switch it to matrix form by using the to_matrix code provided above"
   ]
  },
  {
   "cell_type": "code",
   "execution_count": null,
   "metadata": {
    "collapsed": false,
    "deletable": true,
    "editable": true
   },
   "outputs": [],
   "source": [
    "u.normalize().to_matrix(N)"
   ]
  },
  {
   "cell_type": "markdown",
   "metadata": {
    "deletable": true,
    "editable": true
   },
   "source": [
    "- #### cmopute div $\\hat{r}$"
   ]
  },
  {
   "cell_type": "code",
   "execution_count": null,
   "metadata": {
    "collapsed": false,
    "deletable": true,
    "editable": true
   },
   "outputs": [],
   "source": [
    "r.diff(x,N)+r.diff(y,N)+r.diff(z,N)"
   ]
  },
  {
   "cell_type": "markdown",
   "metadata": {
    "deletable": true,
    "editable": true
   },
   "source": [
    "notice the outcome from above is a vector, but the outcome of div $\\hat{r}$ suppose to be a scalar, so at the end we should add the scalar part together, we should use the following code instead:"
   ]
  },
  {
   "cell_type": "code",
   "execution_count": null,
   "metadata": {
    "collapsed": false,
    "deletable": true,
    "editable": true
   },
   "outputs": [],
   "source": [
    "r.diff(x,N).magnitude()+r.diff(y,N).magnitude()+r.diff(z,N).magnitude()"
   ]
  },
  {
   "cell_type": "code",
   "execution_count": null,
   "metadata": {
    "collapsed": true,
    "deletable": true,
    "editable": true
   },
   "outputs": [],
   "source": []
  }
 ],
 "metadata": {
  "kernelspec": {
   "display_name": "Python 3",
   "language": "python",
   "name": "python3"
  },
  "language_info": {
   "codemirror_mode": {
    "name": "ipython",
    "version": 3
   },
   "file_extension": ".py",
   "mimetype": "text/x-python",
   "name": "python",
   "nbconvert_exporter": "python",
   "pygments_lexer": "ipython3",
   "version": "3.5.2"
  }
 },
 "nbformat": 4,
 "nbformat_minor": 2
}
