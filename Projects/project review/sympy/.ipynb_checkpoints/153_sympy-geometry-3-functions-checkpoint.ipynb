{
 "cells": [
  {
   "cell_type": "markdown",
   "metadata": {
    "deletable": true,
    "editable": true
   },
   "source": [
    "# MATH210 Project 1\n",
    "\n",
    "# Applications of Geometry Module in SymPy "
   ]
  },
  {
   "cell_type": "markdown",
   "metadata": {
    "deletable": true,
    "editable": true
   },
   "source": [
    "**[SymPy](http://www.sympy.org/en/index.html)** is a commonly used library for symbolic mathematics in Python. It contains many subpackages to achieve the goal of becoming a full-featured computer algebra system. Check its [documentation](http://docs.sympy.org/latest/index.html)."
   ]
  },
  {
   "cell_type": "markdown",
   "metadata": {
    "deletable": true,
    "editable": true
   },
   "source": [
    "In this notebok, we will focus on the **[geometry module](http://docs.sympy.org/latest/modules/geometry/index.html)** in SymPy. We import geometry module in sympy as `spgeo`."
   ]
  },
  {
   "cell_type": "code",
   "execution_count": null,
   "metadata": {
    "collapsed": true,
    "deletable": true,
    "editable": true
   },
   "outputs": [],
   "source": [
    "import sympy.geometry as spgeo"
   ]
  },
  {
   "cell_type": "markdown",
   "metadata": {
    "deletable": true,
    "editable": true
   },
   "source": [
    "**Learning Goals**:\n",
    "1. Understand 3 basic topics in geometry in 2D: \n",
    "    * intersection \n",
    "    * similarity \n",
    "    * convex hull\n",
    "2. Explore 3 functions in geometry module of SymPy:\n",
    "    * sympy.geometry.intersection\n",
    "    * sympy.geometry.are_similar\n",
    "    * sympy.geometry.convex_hull\n",
    "3. Use the functions to solve geometric problems"
   ]
  },
  {
   "cell_type": "markdown",
   "metadata": {
    "deletable": true,
    "editable": true
   },
   "source": [
    "## Contents\n",
    "\n",
    "1. Three Geometric Topics in 2D: \n",
    "    * Intersection\n",
    "    * Similarity \n",
    "    * Convexhull\n",
    "2. Three Functions in Geometry Module of SymPy\n",
    "    * Available Entities in Geometry Module of SymPy\n",
    "    * Intersection: `intersection`\n",
    "    * Similarity: `are_similar`\n",
    "    * Convex Hull: `convex_hull`\n",
    "3. Exercises"
   ]
  },
  {
   "cell_type": "markdown",
   "metadata": {
    "deletable": true,
    "editable": true
   },
   "source": [
    "## 1. Three Geometric Topics in 2D"
   ]
  },
  {
   "cell_type": "markdown",
   "metadata": {
    "deletable": true,
    "editable": true
   },
   "source": [
    "Geometry is an important branch of mathematics. Learning it helps us to solve problems in many areas of mathematics and also in areas like physics and architecture. In this notebook, we focus on three basic geometric topics in 2D. If you want to know more about topics in geometry, you can take [UBC MATH309](https://courses.students.ubc.ca/cs/main?pname=subjarea&tname=subjareas&req=3&dept=MATH&course=309)."
   ]
  },
  {
   "cell_type": "markdown",
   "metadata": {
    "deletable": true,
    "editable": true
   },
   "source": [
    "### Intersection"
   ]
  },
  {
   "cell_type": "markdown",
   "metadata": {
    "deletable": true,
    "editable": true
   },
   "source": [
    "In 2D, an intersection is the point that two geometrical objects cross. There are many types of intersetions:\n",
    "* [Line–line intersection](https://en.wikipedia.org/wiki/Line%E2%80%93line_intersection)\n",
    "![Image of Line-Line intersection](https://upload.wikimedia.org/wikipedia/commons/5/55/Schnittpunkt-2g.svg)\n",
    "* [Line-Circle intersection](http://mathworld.wolfram.com/Circle-LineIntersection.html)\n",
    "![Image of Line-Circle intersection](https://upload.wikimedia.org/wikipedia/commons/9/97/Is-circle-line-s.svg)\n",
    "* [Circle-Circle intersection](http://mathworld.wolfram.com/Circle-CircleIntersection.html)\n",
    "![Image of Circle-Circle intersection](https://upload.wikimedia.org/wikipedia/commons/f/f9/Is-circle-circle-s.svg)\n",
    "\n",
    "Images from Wikipedia: <https://en.wikipedia.org/wiki/Intersection_(Euclidean_geometry)>"
   ]
  },
  {
   "cell_type": "markdown",
   "metadata": {
    "deletable": true,
    "editable": true
   },
   "source": [
    "### Similarity"
   ]
  },
  {
   "cell_type": "markdown",
   "metadata": {
    "deletable": true,
    "editable": true
   },
   "source": [
    "Two geometrical objects are similar if they have the same shape regardless of their sizes. We can get similar objects by scaling, rotating and reflecting the original object.\n",
    "Objects in the same color are similar:\n",
    "<img src=\"https://upload.wikimedia.org/wikipedia/commons/5/5d/Similar-geometric-shapes.svg\" width=\"300\" height=\"200\" />\n",
    "Images from Wikipedia: <https://en.wikipedia.org/wiki/Similarity_(geometry)>"
   ]
  },
  {
   "cell_type": "markdown",
   "metadata": {
    "deletable": true,
    "editable": true
   },
   "source": [
    "### Convex Hull"
   ]
  },
  {
   "cell_type": "markdown",
   "metadata": {
    "deletable": true,
    "editable": true
   },
   "source": [
    "#### Convexity\n",
    "A set $K \\subset R^d$ is convex if for any two points $x,y \\in K$, every point on the line segment connecting $x$ and $y$ is contained in $K$.\n",
    "\n",
    "**Examples**:\n",
    "\n",
    "Convex set:\n",
    "<img src=\"https://upload.wikimedia.org/wikipedia/commons/6/6b/Convex_polygon_illustration1.svg\" width=\"150\" height=\"100\" />\n",
    "Non-convex set:\n",
    "<img src=\"https://upload.wikimedia.org/wikipedia/commons/6/6c/Convex_polygon_illustration2.svg\" width=\"150\" height=\"100\" />\n",
    "\n",
    "Images from Wikipedia: <https://en.wikipedia.org/wiki/Convex_set>"
   ]
  },
  {
   "cell_type": "markdown",
   "metadata": {
    "deletable": true,
    "editable": true
   },
   "source": [
    "#### Convex Hull\n",
    "If $X \\subset R^d$, then the convex hull of $X$ is the set $\\text{Conv}(X) = \\bigcap_{K \\in \\delta}K$ where $\\delta$ is the set if all convex sets $K \\subset R^d$ that contains $X$.\n",
    "\n",
    "**Properties**:\n",
    "    * A convex hull is always convex.\n",
    "    * The original set is a subset of the convex hull.\n",
    "    * If the original set is convex, then the convex hull is the original set.\n",
    "**Example**:\n",
    "![Convexhull](http://axon.cs.byu.edu/Dan/312/projects/project2_files/image002.png)\n",
    "Image from Dan Ventura, *CS 312: Algorithm Design and Analysis*: <http://axon.cs.byu.edu/Dan/312/projects/ConvexHull.php>"
   ]
  },
  {
   "cell_type": "markdown",
   "metadata": {
    "deletable": true,
    "editable": true
   },
   "source": [
    "## 2. Three Functions in Geometry Module of SymPy"
   ]
  },
  {
   "cell_type": "markdown",
   "metadata": {
    "deletable": true,
    "editable": true
   },
   "source": [
    "### Available Entities in Geometry Module of SymPy"
   ]
  },
  {
   "cell_type": "markdown",
   "metadata": {
    "deletable": true,
    "editable": true
   },
   "source": [
    "To use geometry module, we need some entities which represent geometrical objects. Currently, SymPy geometry module contains:\n",
    "    * Point\n",
    "    * Line, Ray, Segment\n",
    "    * Ellipse, Circle\n",
    "    * Polygon, RegularPolygon, Triangle"
   ]
  },
  {
   "cell_type": "markdown",
   "metadata": {
    "deletable": true,
    "editable": true
   },
   "source": [
    "Example: Find the line l1 which crosses point x (0,3) and point y (-1,2) and line l2 which crosses point x (0,3) and point y (2,-1)."
   ]
  },
  {
   "cell_type": "code",
   "execution_count": null,
   "metadata": {
    "collapsed": false,
    "deletable": true,
    "editable": true
   },
   "outputs": [],
   "source": [
    "x = spgeo.Point(0,3) # 2 input parameters: numbers, 1 output parameter: Point\n",
    "y = spgeo.Point(-1,2)\n",
    "z = spgeo.Point(2,-1)\n",
    "l1 = spgeo.Line(x,y) # 2 input parameters: Points, 1 output parameter: Line\n",
    "l2 = spgeo.Line(x,z)\n",
    "l1,l2"
   ]
  },
  {
   "cell_type": "code",
   "execution_count": null,
   "metadata": {
    "collapsed": false,
    "deletable": true,
    "editable": true
   },
   "outputs": [],
   "source": [
    "l1"
   ]
  },
  {
   "cell_type": "code",
   "execution_count": null,
   "metadata": {
    "collapsed": false,
    "deletable": true,
    "editable": true
   },
   "outputs": [],
   "source": [
    "l2"
   ]
  },
  {
   "cell_type": "markdown",
   "metadata": {
    "deletable": true,
    "editable": true
   },
   "source": [
    "Example: Find the circle c1 with center o(3,4) and radius $5$."
   ]
  },
  {
   "cell_type": "code",
   "execution_count": null,
   "metadata": {
    "collapsed": false,
    "deletable": true,
    "editable": true
   },
   "outputs": [],
   "source": [
    "o = spgeo.Point(3,4)\n",
    "c1 = spgeo.Circle(o,5) # 2 input parameters: Point and number, 1 output parameter: Circle\n",
    "print(c1)\n",
    "c1"
   ]
  },
  {
   "cell_type": "markdown",
   "metadata": {
    "deletable": true,
    "editable": true
   },
   "source": [
    "Example: Find the circle c2 which passes through x, y and z."
   ]
  },
  {
   "cell_type": "code",
   "execution_count": null,
   "metadata": {
    "collapsed": false,
    "deletable": true,
    "editable": true
   },
   "outputs": [],
   "source": [
    "c2 = spgeo.Circle(x,y,z) # 3 input parameters: 3 Point, 1 output parameter: Circle\n",
    "print(c2)\n",
    "c2"
   ]
  },
  {
   "cell_type": "markdown",
   "metadata": {
    "deletable": true,
    "editable": true
   },
   "source": [
    "Example: Find triangle t1 with vertices x, y, (2,4) and t2 x, z, (0,2)."
   ]
  },
  {
   "cell_type": "code",
   "execution_count": null,
   "metadata": {
    "collapsed": false,
    "deletable": true,
    "editable": true
   },
   "outputs": [],
   "source": [
    "t1 = spgeo.Triangle(x,y,spgeo.Point(2,4)) # 3 input parameters: 3 Point, 1 output parameter: Triangle\n",
    "t2 = spgeo.Triangle(x,z,spgeo.Point(0,2))\n",
    "t1,t2"
   ]
  },
  {
   "cell_type": "code",
   "execution_count": null,
   "metadata": {
    "collapsed": false,
    "deletable": true,
    "editable": true
   },
   "outputs": [],
   "source": [
    "t1"
   ]
  },
  {
   "cell_type": "code",
   "execution_count": null,
   "metadata": {
    "collapsed": false,
    "deletable": true,
    "editable": true
   },
   "outputs": [],
   "source": [
    "t2"
   ]
  },
  {
   "cell_type": "markdown",
   "metadata": {
    "deletable": true,
    "editable": true
   },
   "source": [
    "You can check each entity's documentation using `?`."
   ]
  },
  {
   "cell_type": "markdown",
   "metadata": {
    "deletable": true,
    "editable": true
   },
   "source": [
    "### Intersection: `intersection`"
   ]
  },
  {
   "cell_type": "markdown",
   "metadata": {
    "deletable": true,
    "editable": true
   },
   "source": [
    "`sympy.geometry.intersection` helps you find intersections of given entities.\n",
    "* Input parameters: a sequence of entities\n",
    "* Output parameter: a list of entities"
   ]
  },
  {
   "cell_type": "markdown",
   "metadata": {
    "deletable": true,
    "editable": true
   },
   "source": [
    "Example: Line-Line intersection (using l1 and l2 we defined before)"
   ]
  },
  {
   "cell_type": "code",
   "execution_count": null,
   "metadata": {
    "collapsed": false,
    "deletable": true,
    "editable": true
   },
   "outputs": [],
   "source": [
    "spgeo.intersection(l1,l2)"
   ]
  },
  {
   "cell_type": "markdown",
   "metadata": {
    "deletable": true,
    "editable": true
   },
   "source": [
    "Example: Line-Circle intersection (using l1 and c1 we defined before)"
   ]
  },
  {
   "cell_type": "code",
   "execution_count": null,
   "metadata": {
    "collapsed": false,
    "deletable": true,
    "editable": true
   },
   "outputs": [],
   "source": [
    "spgeo.intersection(l1,c1)"
   ]
  },
  {
   "cell_type": "markdown",
   "metadata": {
    "deletable": true,
    "editable": true
   },
   "source": [
    "Example: Circle-Circle intersection (using c1 and c2 we defined before)"
   ]
  },
  {
   "cell_type": "code",
   "execution_count": null,
   "metadata": {
    "collapsed": false,
    "deletable": true,
    "editable": true
   },
   "outputs": [],
   "source": [
    "spgeo.intersection(c1,c2)"
   ]
  },
  {
   "cell_type": "markdown",
   "metadata": {
    "deletable": true,
    "editable": true
   },
   "source": [
    "### Similarity: `are_similar`"
   ]
  },
  {
   "cell_type": "markdown",
   "metadata": {
    "deletable": true,
    "editable": true
   },
   "source": [
    "`sympy.geometry.are_similar` tells you the given entities are similar or not.\n",
    "* 2 input parameters: 2 entities\n",
    "* 1 output parameter: boolean"
   ]
  },
  {
   "cell_type": "markdown",
   "metadata": {
    "deletable": true,
    "editable": true
   },
   "source": [
    "Example: Are t1 and t2 similar?"
   ]
  },
  {
   "cell_type": "code",
   "execution_count": null,
   "metadata": {
    "collapsed": false,
    "deletable": true,
    "editable": true
   },
   "outputs": [],
   "source": [
    "spgeo.are_similar(t1,t2)"
   ]
  },
  {
   "cell_type": "markdown",
   "metadata": {
    "deletable": true,
    "editable": true
   },
   "source": [
    "### Convex Hull: `convex_hull`"
   ]
  },
  {
   "cell_type": "markdown",
   "metadata": {
    "deletable": true,
    "editable": true
   },
   "source": [
    "`sympy.geometry.convex_hull` gives you the convex hull of given points.\n",
    "* Input parameters: a sequence of Point\n",
    "* Output parameter: a entity"
   ]
  },
  {
   "cell_type": "code",
   "execution_count": null,
   "metadata": {
    "collapsed": false,
    "deletable": true,
    "editable": true
   },
   "outputs": [],
   "source": [
    "a = spgeo.Point(1,1)\n",
    "b = spgeo.Point(-1,2)\n",
    "c = spgeo.Point(-7,1)\n",
    "d = spgeo.Point(9,3)\n",
    "e = spgeo.Point(4,6)"
   ]
  },
  {
   "cell_type": "code",
   "execution_count": null,
   "metadata": {
    "collapsed": true,
    "deletable": true,
    "editable": true
   },
   "outputs": [],
   "source": [
    "a1 = spgeo.Point(7,1)\n",
    "b1 = spgeo.Point(1,2)\n",
    "c1 = spgeo.Point(-3,1)\n",
    "d1 = spgeo.Point(5,3)\n",
    "e1 = spgeo.Point(4,6)"
   ]
  },
  {
   "cell_type": "markdown",
   "metadata": {
    "deletable": true,
    "editable": true
   },
   "source": [
    "Example: Find convex hull of points a,b,c,d,e, convex hull of points a1,b1,c1,d1,e1 and their intersections."
   ]
  },
  {
   "cell_type": "code",
   "execution_count": null,
   "metadata": {
    "collapsed": false,
    "deletable": true,
    "editable": true
   },
   "outputs": [],
   "source": [
    "conhull = spgeo.convex_hull(a,b,c,d,e)\n",
    "print(conhull)\n",
    "conhull"
   ]
  },
  {
   "cell_type": "code",
   "execution_count": null,
   "metadata": {
    "collapsed": false,
    "deletable": true,
    "editable": true
   },
   "outputs": [],
   "source": [
    "conhull1 = spgeo.convex_hull(a1,b1,c1,d1,e1)\n",
    "print(conhull1)\n",
    "conhull1"
   ]
  },
  {
   "cell_type": "code",
   "execution_count": null,
   "metadata": {
    "collapsed": false,
    "deletable": true,
    "editable": true
   },
   "outputs": [],
   "source": [
    "spgeo.intersection(conhull,conhull1)"
   ]
  },
  {
   "cell_type": "markdown",
   "metadata": {
    "collapsed": true,
    "deletable": true,
    "editable": true
   },
   "source": [
    "## 3. Exercises"
   ]
  },
  {
   "cell_type": "markdown",
   "metadata": {
    "deletable": true,
    "editable": true
   },
   "source": [
    "**Exercise1**: Find the convex hull of intersections of l1, l2, c1, c2, t1 and t2."
   ]
  },
  {
   "cell_type": "markdown",
   "metadata": {
    "deletable": true,
    "editable": true
   },
   "source": [
    "**Exercise2**: Define a function called `find_similar_triange` with input parameters t, p1 and p2 where t is a Triangle and p1,p2 are points. It returns a Point that the triangle with vertices p1, p2 and the output Point is similar to the given Triangle."
   ]
  },
  {
   "cell_type": "markdown",
   "metadata": {
    "deletable": true,
    "editable": true
   },
   "source": [
    "**Good extral reading!**\n",
    "Angelo Marletta, *The fastest convex hull algorithm ever*: <http://mindthenerd.blogspot.ca/2012/05/fastest-convex-hull-algorithm-ever.html>"
   ]
  }
 ],
 "metadata": {
  "kernelspec": {
   "display_name": "Python 3",
   "language": "python",
   "name": "python3"
  },
  "language_info": {
   "codemirror_mode": {
    "name": "ipython",
    "version": 3
   },
   "file_extension": ".py",
   "mimetype": "text/x-python",
   "name": "python",
   "nbconvert_exporter": "python",
   "pygments_lexer": "ipython3",
   "version": "3.5.2"
  }
 },
 "nbformat": 4,
 "nbformat_minor": 2
}
