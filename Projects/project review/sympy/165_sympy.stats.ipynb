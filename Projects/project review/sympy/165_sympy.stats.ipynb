{
 "cells": [
  {
   "cell_type": "markdown",
   "metadata": {
    "deletable": true,
    "editable": true
   },
   "source": [
    "# MATH 210 Project I\n",
    "\n",
    "## Important distributions and Special cases of distribution parametrization with `sympy.stats`\n",
    "\n"
   ]
  },
  {
   "cell_type": "markdown",
   "metadata": {
    "deletable": true,
    "editable": true
   },
   "source": [
    "SymPy is an open Python library and also a symbolic mathematics package, the subpackage `sympy.stats` can provide a random variable type into the SymPy language. (see the [documentation](http://docs.sympy.org/latest/modules/stats.html)):\n",
    "\n",
    "1. Introduce several distributions for **discrete** and **continuous** random variables.\n",
    "2. Introduce random expressions by using specific functions.\n",
    "\n",
    "**The aim** of this notebook is to verify the **special cases of distributions**. First of all, I will introduce some important **Discrete distributions**, such as *Bernoulli*,*Binomial*, and **Continuous distributions** such as *Gamma*,*Exponential*,*Chi-squared*,*Beta*,*Uniform*,*Normal*. These distributions will be involved into following special cases.\n",
    " Next, the special cases will be verified with random expressions: `density(expression)`, `E(expression)` and `plot(density)`.\n",
    "\n",
    "By the end of the notebook, the readers will be able to understand how to use sympy.stats to represent statistics distributions and how to use density functions to show corresponding graphs. Also, they will be familiar with the relationships between different distributions. \n",
    "\n",
    "Our main conclusion is that there are several relationships among probability distributions. Probability distributions have a surprising number inter-connections!!\n"
   ]
  },
  {
   "cell_type": "markdown",
   "metadata": {
    "deletable": true,
    "editable": true
   },
   "source": [
    "## Contents\n",
    "\n",
    "1. Discrete distributions: \n",
    "    `Bernoulli`,`Binomial`.\n",
    "2. Continuous distributions: \n",
    "    `Gamma`,`Exponential`,`Chi-squared`,`Beta`,`Uniform`,`Normal`.\n",
    "3. Special cases for each introduced distribution\n",
    "4. Exercises\n"
   ]
  },
  {
   "cell_type": "code",
   "execution_count": null,
   "metadata": {
    "collapsed": true,
    "deletable": true,
    "editable": true
   },
   "outputs": [],
   "source": [
    "from sympy.stats import Bernoulli,Binomial,Gamma, Uniform, Normal, Exponential,ChiSquared, Beta, density, cdf, E, variance, std, skewness\n",
    "from scipy.misc import factorial\n",
    "import numpy as np\n",
    "import matplotlib.pyplot as plt\n",
    "%matplotlib inline\n",
    "from sympy import S,Symbol, pprint, simplify, combsimp, expand_func, factor, together, factor_terms\n",
    "from sympy.plotting import plot"
   ]
  },
  {
   "cell_type": "markdown",
   "metadata": {
    "deletable": true,
    "editable": true
   },
   "source": [
    "## 1. Discrete distributions"
   ]
  },
  {
   "cell_type": "markdown",
   "metadata": {
    "deletable": true,
    "editable": true
   },
   "source": [
    "### (1.1). Bernoulli distribution\n",
    "Bern(p)\n",
    "\n",
    "The [Bernoulli distribution](https://en.wikipedia.org/wiki/Bernoulli_distribution) of a random variable which takes the value 1 with probability p and the value 0 with probability q  (equals to 1-p). This distribution represent any single experiments that involves a yes–no question."
   ]
  },
  {
   "cell_type": "markdown",
   "metadata": {
    "deletable": true,
    "editable": true
   },
   "source": [
    "#### The density of the Bernoulli distribution is given by \n",
    "\n",
    "If the random variable X follows the bernoulli distribution with parameters p $\\in$ [0,1], we write X ~ Bern(p).\n",
    "\n",
    "$$\n",
    "f(k;p) = \\left\\{ \\begin{array}{cc} p & \\text{if } k \\text{ =1} \\\\ 1-p & \\text{if } k \\text{ =0} \\end{array} \\right.\\ 0 \\leq p \\leq 1\\\n",
    "$$ \n"
   ]
  },
  {
   "cell_type": "markdown",
   "metadata": {
    "deletable": true,
    "editable": true
   },
   "source": [
    "#### Define our own function for the density of Bernoulli distribution\n",
    "According to the above different situations (k=1 or k=0), we can summarize it like:\n",
    "$$\n",
    "f_{Y}(y)= (\\pi^b) (1-\\pi)^{1-b}, \\ b=0,1; 0< \\pi < 1\n",
    "$$\n",
    "\n",
    "Therefore, we can write our own function to implement the density of Bernoulli distribution:"
   ]
  },
  {
   "cell_type": "code",
   "execution_count": null,
   "metadata": {
    "collapsed": false,
    "deletable": true,
    "editable": true
   },
   "outputs": [],
   "source": [
    "def ber(pi):\n",
    "    blist=[]\n",
    "    for k in range(0,2):\n",
    "        terms=(pi**k)*(1-pi)**(1-k)\n",
    "        blist.append(terms)\n",
    "    print ('0:', blist[0],'1:', blist[1])"
   ]
  },
  {
   "cell_type": "markdown",
   "metadata": {
    "deletable": true,
    "editable": true
   },
   "source": [
    "Now, give an example for the function we just defined :"
   ]
  },
  {
   "cell_type": "code",
   "execution_count": null,
   "metadata": {
    "collapsed": false,
    "deletable": true,
    "editable": true
   },
   "outputs": [],
   "source": [
    "ber(3/4)"
   ]
  },
  {
   "cell_type": "markdown",
   "metadata": {
    "deletable": true,
    "editable": true
   },
   "source": [
    "Next, let's import the function sympy.stats.Bernoulli and compare the results with the example ber(3/4)."
   ]
  },
  {
   "cell_type": "markdown",
   "metadata": {
    "deletable": true,
    "editable": true
   },
   "source": [
    "#### Example for sympy.stats.Bernoulli(name, p, succ=1, fail=0)\n",
    "The function `sympy.stats.Bernoulli` defines the Bernoulli distribution with subpackage `sympy.stats`. The first input is a string of random variable and the second input is probability of success. Then it will return all of the situations and probabilities respectively.\n",
    "Let's explore this function to see how it works and check the results.\n"
   ]
  },
  {
   "cell_type": "code",
   "execution_count": null,
   "metadata": {
    "collapsed": false,
    "deletable": true,
    "editable": true
   },
   "outputs": [],
   "source": [
    "X = Bernoulli('X', S(3)/4) # 1-0 Bernoulli variable, probability = 3/4\n",
    "density(X).dict"
   ]
  },
  {
   "cell_type": "markdown",
   "metadata": {
    "deletable": true,
    "editable": true
   },
   "source": [
    "We get the same result as ber(3/4)!"
   ]
  },
  {
   "cell_type": "markdown",
   "metadata": {
    "collapsed": true,
    "deletable": true,
    "editable": true
   },
   "source": [
    "### (1.2). Binomial distribution\n",
    "\n",
    "Bin(n,p)\n",
    "\n",
    "The [Binomial distribution](https://en.wikipedia.org/wiki/Binomial_distribution) of a random variable which has the following abilities:\n",
    "(1). obtains exactly n successes out of N Bernoulli trials. (2). Each observation is independent. (3).Each observation represents one of two outcomes (\"success\" or \"failure\").(4). The probability of \"success\" p is the same for each outcome.Its graph of probability density function with different n and p is:\n",
    "\n",
    "![bin](https://upload.wikimedia.org/wikipedia/commons/7/75/Binomial_distribution_pmf.svg)"
   ]
  },
  {
   "cell_type": "markdown",
   "metadata": {
    "deletable": true,
    "editable": true
   },
   "source": [
    "#### The density of the Binomial distribution is given by \n",
    "\n",
    "If the random variable X follows the binomial distribution with parameters n $\\in$ N and p $\\in$ [0,1], we write X ~ Bin(n, p).\n",
    "$$\n",
    "f_{K}(k)=\\frac{n!}{k!(n-k)!} p^{k} (1-p)^{n-k}\n",
    "$$"
   ]
  },
  {
   "cell_type": "markdown",
   "metadata": {
    "deletable": true,
    "editable": true
   },
   "source": [
    "#### Define our own function for the density of Binomial distribution\n",
    "\n",
    "Rewrite it as:\n",
    "$$\n",
    "f_{Y}(y)=\\frac{n!}{y!(n-y)!} \\pi^{y} (1-\\pi)^{n-y}\n",
    "$$\n",
    "\n",
    "Therefore, we can write our own function to implement the density of Binomial distribution:"
   ]
  },
  {
   "cell_type": "code",
   "execution_count": null,
   "metadata": {
    "collapsed": false,
    "deletable": true,
    "editable": true
   },
   "outputs": [],
   "source": [
    "def Bin(n,pi,Y):\n",
    "    y=[]\n",
    "    terms=[(factorial(n)/((factorial(k))*(factorial(n-k))))*(pi**k)*(1-pi)**(n-k) for k in range(0,Y)]\n",
    "    y.append(terms)\n",
    "    return y"
   ]
  },
  {
   "cell_type": "code",
   "execution_count": null,
   "metadata": {
    "collapsed": false,
    "deletable": true,
    "editable": true
   },
   "outputs": [],
   "source": [
    "Bin(4,1/2,5)"
   ]
  },
  {
   "cell_type": "markdown",
   "metadata": {
    "deletable": true,
    "editable": true
   },
   "source": [
    "Next, let's import the function sympy.stats.Binomial and compare the results with the example Bin(4,1/2,5)."
   ]
  },
  {
   "cell_type": "markdown",
   "metadata": {
    "deletable": true,
    "editable": true
   },
   "source": [
    "#### Example for sympy.stats.Binomial(name, n, p, succ=1, fail=0)\n",
    "\n",
    "The function `sympy.stats.Binomial` defines the Binomial distribution with subpackage `sympy.stats`. The first input is a string of random variable, the second input is number of trails and the third input is probability of success. Then it will return all of the situations and probabilities respectively.\n",
    "Let's explore this function to see how it works and check the results."
   ]
  },
  {
   "cell_type": "code",
   "execution_count": null,
   "metadata": {
    "collapsed": false,
    "deletable": true,
    "editable": true
   },
   "outputs": [],
   "source": [
    "X = Binomial('X', 4, S.Half) # Four \"coin flips\"\n",
    "density(X).dict"
   ]
  },
  {
   "cell_type": "markdown",
   "metadata": {
    "collapsed": true,
    "deletable": true,
    "editable": true
   },
   "source": [
    "We get the same result as ber(3/4)!"
   ]
  },
  {
   "cell_type": "markdown",
   "metadata": {
    "collapsed": true,
    "deletable": true,
    "editable": true
   },
   "source": [
    "## 2. Continuous distributions"
   ]
  },
  {
   "cell_type": "markdown",
   "metadata": {
    "deletable": true,
    "editable": true
   },
   "source": [
    "### (2.1). Gamma distribution\n",
    "\n",
    "Gamma(k,$\\theta$)\n",
    "\n",
    "For [Gamma distribution](https://en.wikipedia.org/wiki/Gamma_distribution), here k is the shape parameter, $\\theta$ is the scale parameter, and $\\Gamma$ is the gamma function which has the formula $\\Gamma$(a)=$\\int_{0}^{\\infty} t^{a-1} e^{-t} dt$. Its graph of probability density function with different $\\theta$ and k is:\n",
    "\n",
    "![Gamma](https://upload.wikimedia.org/wikipedia/commons/e/e6/Gamma_distribution_pdf.svg)"
   ]
  },
  {
   "cell_type": "markdown",
   "metadata": {
    "deletable": true,
    "editable": true
   },
   "source": [
    "#### The density function of the Gamma distribution is given by \n",
    "\n",
    "If the random variable X follows the gamma distribution with parameters k (k > 0) and $\\theta$ ($\\theta$ >0), we write X ~ Gamma(k, $\\theta$).\n",
    "$$\n",
    "f_{X}(x)=\\frac{1}{\\Gamma(k) \\theta^{k}} x^{k-1} e^{\\frac{-x}{\\theta}}\n",
    "$$"
   ]
  },
  {
   "cell_type": "markdown",
   "metadata": {
    "deletable": true,
    "editable": true
   },
   "source": [
    "#### Define our own function for the density of Gamma distribution\n",
    "\n",
    "According to the above density function, we can rewrite it as:\n",
    "$$\n",
    "f_{Y}(y)=\\frac{1}{\\Gamma(v)} \\lambda (\\lambda y)^{v-1} e^{-\\lambda y}\n",
    "$$\n",
    "Therefore, we can write our own function to implement the density of Gamma distribution:"
   ]
  },
  {
   "cell_type": "code",
   "execution_count": null,
   "metadata": {
    "collapsed": true,
    "deletable": true,
    "editable": true
   },
   "outputs": [],
   "source": [
    "def gamma(v,lambda1,y):\n",
    "    return (1/factorial(v-1))*lambda1*((lambda1*y)**(v-1))*np.exp(-lambda1*y)"
   ]
  },
  {
   "cell_type": "markdown",
   "metadata": {
    "deletable": true,
    "editable": true
   },
   "source": [
    "Now, give an example for the function we just defined and plot its graph:"
   ]
  },
  {
   "cell_type": "code",
   "execution_count": null,
   "metadata": {
    "collapsed": false,
    "deletable": true,
    "editable": true
   },
   "outputs": [],
   "source": [
    "gamma(4,4,5)"
   ]
  },
  {
   "cell_type": "code",
   "execution_count": null,
   "metadata": {
    "collapsed": false,
    "deletable": true,
    "editable": true
   },
   "outputs": [],
   "source": [
    "y=np.linspace(-10,10,1000)\n",
    "u=(1/factorial(3))*4*((4*y)**(3))*np.exp(-4*y)\n",
    "plt.plot(y,u);"
   ]
  },
  {
   "cell_type": "markdown",
   "metadata": {
    "deletable": true,
    "editable": true
   },
   "source": [
    "Next, let's import the function sympy.stats.Gamma and compare the results with the example gamma(4,4,5)."
   ]
  },
  {
   "cell_type": "markdown",
   "metadata": {
    "deletable": true,
    "editable": true
   },
   "source": [
    "#### Example for sympy.stats.Gamma(name, k, theta)\n",
    "\n",
    "The function `sympy.stats.Gamma` defines the Gamma distribution with subpackage `sympy.stats`. The first input is a real number (shape), the second input is a real number (scale). Then it will return a RandomSymbol.\n",
    "Let's explore this function to see how it works and check the results."
   ]
  },
  {
   "cell_type": "code",
   "execution_count": null,
   "metadata": {
    "collapsed": false,
    "deletable": true,
    "editable": true
   },
   "outputs": [],
   "source": [
    "k = Symbol(\"k\", positive=True)\n",
    "theta = Symbol(\"theta\", positive=True)\n",
    "z = Symbol(\"z\")\n",
    "X = Gamma(\"x\", k, theta)\n",
    "density(X)(z)"
   ]
  },
  {
   "cell_type": "markdown",
   "metadata": {
    "deletable": true,
    "editable": true
   },
   "source": [
    "Import k=4, theta=1/4, and z=5. Then we can get:"
   ]
  },
  {
   "cell_type": "code",
   "execution_count": null,
   "metadata": {
    "collapsed": false,
    "deletable": true,
    "editable": true
   },
   "outputs": [],
   "source": [
    "k = Symbol(\"k\", positive=True)\n",
    "theta = Symbol(\"theta\", positive=True)\n",
    "z = Symbol(\"z\")\n",
    "X = Gamma(\"x\", 4, 1/4)\n",
    "density(X)(5)"
   ]
  },
  {
   "cell_type": "code",
   "execution_count": null,
   "metadata": {
    "collapsed": false,
    "deletable": true,
    "editable": true
   },
   "outputs": [],
   "source": [
    "plot(density(X)(z));"
   ]
  },
  {
   "cell_type": "markdown",
   "metadata": {
    "collapsed": true,
    "deletable": true,
    "editable": true
   },
   "source": [
    "We get the same results as Gamma(4,4,5)!\n"
   ]
  },
  {
   "cell_type": "markdown",
   "metadata": {
    "deletable": true,
    "editable": true
   },
   "source": [
    "### (2.2). Exponential distribution\n",
    "\n",
    "Expon($\\lambda$)\n",
    "\n",
    "The [Exponential distribution](https://en.wikipedia.org/wiki/Exponential_distribution) of a random variable which describes the arrival time of a randomly recurring independent event sequence. If $\\lambda$ is the mean waiting time for the next event recurrence, its graph of probability density function with different $\\lambda$ is:\n",
    "\n",
    "\n",
    "![expon](https://upload.wikimedia.org/wikipedia/commons/e/ec/Exponential_pdf.svg)"
   ]
  },
  {
   "cell_type": "markdown",
   "metadata": {
    "deletable": true,
    "editable": true
   },
   "source": [
    "#### The density of the Exponential distribution is given by \n",
    "\n",
    "If the random variable X follows the exponential distribution with parameters $\\lambda$ ($\\lambda > 0$), we can write X ~ Expon($\\lambda$).\n",
    "\n",
    "$$\n",
    "f_{X}(x)=\\lambda e^{-\\lambda x}\n",
    "$$"
   ]
  },
  {
   "cell_type": "markdown",
   "metadata": {
    "deletable": true,
    "editable": true
   },
   "source": [
    "#### Define our own function for the density of Exponential distribution\n",
    "\n",
    "Rewrite it like:\n",
    "\n",
    "$$\n",
    "f_{Y}(y)=\\lambda e^{-\\lambda y}\n",
    "$$\n",
    "\n",
    "Therefore, we can write our own function to implement the density of Exponential distribution:"
   ]
  },
  {
   "cell_type": "code",
   "execution_count": null,
   "metadata": {
    "collapsed": false,
    "deletable": true,
    "editable": true
   },
   "outputs": [],
   "source": [
    "def exp(lamb,y):\n",
    "    return lamb*(np.exp(-lamb*y))"
   ]
  },
  {
   "cell_type": "markdown",
   "metadata": {
    "deletable": true,
    "editable": true
   },
   "source": [
    "Now, give an example for the function we just defined and plot its graph:"
   ]
  },
  {
   "cell_type": "code",
   "execution_count": null,
   "metadata": {
    "collapsed": false,
    "deletable": true,
    "editable": true
   },
   "outputs": [],
   "source": [
    "exp(4,4)"
   ]
  },
  {
   "cell_type": "code",
   "execution_count": null,
   "metadata": {
    "collapsed": false,
    "deletable": true,
    "editable": true
   },
   "outputs": [],
   "source": [
    "y=np.linspace(-10,10,1000)\n",
    "u=4*(np.exp(-4*y))\n",
    "plt.plot(y,u);"
   ]
  },
  {
   "cell_type": "markdown",
   "metadata": {
    "deletable": true,
    "editable": true
   },
   "source": [
    "Next, let's import the function sympy.stats.Exponential and compare the results with the example exp(4,4)."
   ]
  },
  {
   "cell_type": "markdown",
   "metadata": {
    "deletable": true,
    "editable": true
   },
   "source": [
    "#### Example for sympy.stats.Exponential(name, rate)\n",
    "\n",
    "The function `sympy.stats.Exponential` defines the exponential distribution with subpackage `sympy.stats`. The only input is a real positive number (rate). Then it will return a RandomSymbol.\n",
    "Let's explore this function to see how it works and check the results.\n"
   ]
  },
  {
   "cell_type": "code",
   "execution_count": null,
   "metadata": {
    "collapsed": false,
    "deletable": true,
    "editable": true
   },
   "outputs": [],
   "source": [
    "l = Symbol(\"lambda\", positive=True)\n",
    "z = Symbol(\"z\")\n",
    "X = Exponential(\"x\", l)\n",
    "density(X)(z)\n"
   ]
  },
  {
   "cell_type": "code",
   "execution_count": null,
   "metadata": {
    "collapsed": false,
    "deletable": true,
    "editable": true
   },
   "outputs": [],
   "source": [
    "E(X)"
   ]
  },
  {
   "cell_type": "markdown",
   "metadata": {
    "deletable": true,
    "editable": true
   },
   "source": [
    "Import l=4, and z=4. Then we can get:"
   ]
  },
  {
   "cell_type": "code",
   "execution_count": null,
   "metadata": {
    "collapsed": false,
    "deletable": true,
    "editable": true
   },
   "outputs": [],
   "source": [
    "l = Symbol(\"lambda\", positive=True)\n",
    "z = Symbol(\"z\")\n",
    "X = Exponential(\"x\", 4)\n",
    "density(X)(4)\n"
   ]
  },
  {
   "cell_type": "code",
   "execution_count": null,
   "metadata": {
    "collapsed": false,
    "deletable": true,
    "editable": true
   },
   "outputs": [],
   "source": [
    "plot(density(X)(z));"
   ]
  },
  {
   "cell_type": "markdown",
   "metadata": {
    "collapsed": true,
    "deletable": true,
    "editable": true
   },
   "source": [
    "We get the same results as exp(4,4)!"
   ]
  },
  {
   "cell_type": "markdown",
   "metadata": {
    "deletable": true,
    "editable": true
   },
   "source": [
    "### (2.3). Chi-squared distribution\n",
    "\n",
    "$X_k^2$\n",
    "\n",
    "The [Chi-squared distribution](https://en.wikipedia.org/wiki/Chi-squared_distribution) of a random variable which takes the sum of squared standard normal deviates. The degrees of freedom of the distribution is equal to the number of standard normal deviates being summed. Its graph of probability density function with different degree of freedom (k) is:\n",
    "\n",
    "\n",
    "![chi](https://upload.wikimedia.org/wikipedia/commons/3/35/Chi-square_pdf.svg)"
   ]
  },
  {
   "cell_type": "markdown",
   "metadata": {
    "deletable": true,
    "editable": true
   },
   "source": [
    "#### The density of the Chi-squared distribution is given by \n",
    "\n",
    "If the random variable X follows the chi-squared distribution with degree of freedom k (k $\\geq$ 1) we write X ~ $X_{k}^{2}$.\n",
    "$$\n",
    "f_{X}(x)=\\frac{1}{2^{k/2} \\Gamma{(\\frac{k}{2}})} x^{\\frac{k}{2} -1}  e^{-\\frac{x}{2}}\n",
    "$$ "
   ]
  },
  {
   "cell_type": "markdown",
   "metadata": {
    "deletable": true,
    "editable": true
   },
   "source": [
    "#### Define our own function for the density of Chi-squared distribution\n",
    "\n",
    "Rewrite it like:\n",
    "$$\n",
    "f_{Y}(y)=\\frac{1}{2^{d/2} \\Gamma{(\\frac{d}{2}})} y^{\\frac{d}{2} -1}  e^{-\\frac{y}{2}}\n",
    "$$\n",
    "\n",
    "Therefore, we can write our own function to implement the density of Chi-squared distribution:"
   ]
  },
  {
   "cell_type": "code",
   "execution_count": null,
   "metadata": {
    "collapsed": true,
    "deletable": true,
    "editable": true
   },
   "outputs": [],
   "source": [
    "def Chis(d,y):\n",
    "    return 1/((2**(d/2)*(factorial((d/2)-1))))*(y**((d/2)-1))*np.exp(-y/2)\n",
    "    "
   ]
  },
  {
   "cell_type": "markdown",
   "metadata": {
    "deletable": true,
    "editable": true
   },
   "source": [
    "Now, give an example for the function we just defined and plot its graph:"
   ]
  },
  {
   "cell_type": "code",
   "execution_count": null,
   "metadata": {
    "collapsed": false,
    "deletable": true,
    "editable": true
   },
   "outputs": [],
   "source": [
    "Chis(4,5)"
   ]
  },
  {
   "cell_type": "code",
   "execution_count": null,
   "metadata": {
    "collapsed": false,
    "deletable": true,
    "editable": true
   },
   "outputs": [],
   "source": [
    "y=np.linspace(-10,10,1000)\n",
    "u=1/((2**(4/2)*(factorial((4/2)-1))))*(y**((4/2)-1))*np.exp(-y/2)\n",
    "plt.plot(y,u);"
   ]
  },
  {
   "cell_type": "markdown",
   "metadata": {
    "deletable": true,
    "editable": true
   },
   "source": [
    "Next, let's import the function sympy.stats.ChiSquared and compare the results with the example Chis(4,5)."
   ]
  },
  {
   "cell_type": "markdown",
   "metadata": {
    "deletable": true,
    "editable": true
   },
   "source": [
    "#### Example for sympy.stats.ChiSquared(name, k)\n",
    "\n",
    "The function `ChiSquared` defines the Chi-squared distribution with subpackage `sympy.stats`. The only input is a positive Integer. Then it will return a RandomSymbol.\n",
    "Let's explore this function to see how it works and check the results.\n"
   ]
  },
  {
   "cell_type": "code",
   "execution_count": null,
   "metadata": {
    "collapsed": false,
    "deletable": true,
    "editable": true
   },
   "outputs": [],
   "source": [
    "k = Symbol(\"k\", integer=True, positive=True)\n",
    "z = Symbol(\"z\")\n",
    "X = ChiSquared(\"x\", k)\n",
    "density(X)(z)\n"
   ]
  },
  {
   "cell_type": "markdown",
   "metadata": {
    "deletable": true,
    "editable": true
   },
   "source": [
    "Import k=4, and z=5. Then we can get:"
   ]
  },
  {
   "cell_type": "code",
   "execution_count": null,
   "metadata": {
    "collapsed": false,
    "deletable": true,
    "editable": true
   },
   "outputs": [],
   "source": [
    "k = Symbol(\"k\", integer=True, positive=True)\n",
    "z = Symbol(\"z\")\n",
    "X = ChiSquared(\"x\", 4)\n",
    "density(X)(5)"
   ]
  },
  {
   "cell_type": "code",
   "execution_count": null,
   "metadata": {
    "collapsed": false,
    "deletable": true,
    "editable": true
   },
   "outputs": [],
   "source": [
    "plot(density(X)(z));"
   ]
  },
  {
   "cell_type": "markdown",
   "metadata": {
    "deletable": true,
    "editable": true
   },
   "source": [
    "We get the same results as Chis(4,5)!"
   ]
  },
  {
   "cell_type": "markdown",
   "metadata": {
    "deletable": true,
    "editable": true
   },
   "source": [
    "### (2.4). Beta distribution\n",
    "\n",
    "Beta($\\alpha, \\beta$)\n",
    "\n",
    "The [Beta distribution](https://en.wikipedia.org/wiki/Beta_distribution) of a random variable which describes a family of curves that are unique in that they are nonzero only on the interval (0 1). The Beta distribution is a continuous probability distribution having two parameters. One of its most common uses is to model one's uncertainty about the probability of success of an experiment. Its graph of probability density function with different $\\alpha$ and $\\beta$ is:\n",
    "\n",
    "\n",
    "![beta](https://upload.wikimedia.org/wikipedia/commons/f/f3/Beta_distribution_pdf.svg)"
   ]
  },
  {
   "cell_type": "markdown",
   "metadata": {
    "deletable": true,
    "editable": true
   },
   "source": [
    "#### The density of the Beta distribution is given by \n",
    "\n",
    "If the random variable X follows the beta distribution with $\\alpha$ and $\\beta$ ($\\alpha$>0 , $\\beta$>0), we can write X ~ Beta($\\alpha$ , $\\beta$).\n",
    "$$\n",
    "f_{X}(x)=\\frac{x^{\\alpha-1} (1-x)^{\\beta-1}}{B(\\alpha,\\beta)}, \\ where\\ B(\\alpha,\\beta)=\\frac{\\Gamma(\\alpha)\\Gamma(\\beta)}{\\Gamma(\\alpha+\\beta)}\n",
    "$$ "
   ]
  },
  {
   "cell_type": "markdown",
   "metadata": {
    "deletable": true,
    "editable": true
   },
   "source": [
    "#### Define our own function for the density of Beta distribution\n",
    "\n",
    "Rewrite it like:\n",
    "$$\n",
    "f_{Y}(y)=\\frac{y^{\\alpha-1} (1-y)^{\\beta-1}}{B(\\alpha,\\beta)}, \\ where\\ B(\\alpha,\\beta)=\\frac{\\Gamma(\\alpha)\\Gamma(\\beta)}{\\Gamma(\\alpha+\\beta)}\n",
    "$$\n",
    "\n",
    "Therefore, we can write our own function to implement the density of Beta distribution:"
   ]
  },
  {
   "cell_type": "code",
   "execution_count": null,
   "metadata": {
    "collapsed": true,
    "deletable": true,
    "editable": true
   },
   "outputs": [],
   "source": [
    "def beta(a,b,y):\n",
    "    return (y**(a-1)*(1-y)**(b-1))/((factorial(a)*factorial(b))/(factorial(a+b-1)))\n",
    "    "
   ]
  },
  {
   "cell_type": "markdown",
   "metadata": {
    "deletable": true,
    "editable": true
   },
   "source": [
    "Now, give an example for the function we just defined and plot its graph:"
   ]
  },
  {
   "cell_type": "code",
   "execution_count": null,
   "metadata": {
    "collapsed": false,
    "deletable": true,
    "editable": true
   },
   "outputs": [],
   "source": [
    "beta(4,4,5)"
   ]
  },
  {
   "cell_type": "code",
   "execution_count": null,
   "metadata": {
    "collapsed": false,
    "deletable": true,
    "editable": true
   },
   "outputs": [],
   "source": [
    "y=np.linspace(-10,10,1000)\n",
    "u=(y**(4-1)*(1-y)**(4-1))/((factorial(4)*factorial(4))/(factorial(8-1)))\n",
    "plt.plot(y,u);"
   ]
  },
  {
   "cell_type": "markdown",
   "metadata": {
    "deletable": true,
    "editable": true
   },
   "source": [
    "Next, let's import the function sympy.stats.Beta and compare the results with the example beta(4,4,5)."
   ]
  },
  {
   "cell_type": "markdown",
   "metadata": {
    "deletable": true,
    "editable": true
   },
   "source": [
    "#### Example for sympy.stats.Beta(name, alpha, beta)\n",
    "\n",
    "The function `Beta` defines the Beta distribution with subpackage `sympy.stats`. The first input is a positive Integer ($\\alpha$>0)and the second input is also a positive integer ($\\beta >0$). Then it will return a RandomSymbol.\n",
    "Let's explore this function to see how it works and check the results.\n"
   ]
  },
  {
   "cell_type": "code",
   "execution_count": null,
   "metadata": {
    "collapsed": false,
    "deletable": true,
    "editable": true
   },
   "outputs": [],
   "source": [
    "alpha = Symbol(\"alpha\", positive=True)\n",
    "beta = Symbol(\"beta\", positive=True)\n",
    "z = Symbol(\"z\")\n",
    "X = Beta(\"x\", alpha, beta)\n",
    "density(X)(z)"
   ]
  },
  {
   "cell_type": "markdown",
   "metadata": {
    "deletable": true,
    "editable": true
   },
   "source": [
    "Import alpha=4, beta=4, and z=5. Then we can get:"
   ]
  },
  {
   "cell_type": "code",
   "execution_count": null,
   "metadata": {
    "collapsed": false,
    "deletable": true,
    "editable": true
   },
   "outputs": [],
   "source": [
    "5**(4 - 1)*(-5 + 1)**(4 - 1)/((factorial(4)*factorial(4))/(factorial(7)))"
   ]
  },
  {
   "cell_type": "code",
   "execution_count": null,
   "metadata": {
    "collapsed": false,
    "deletable": true,
    "editable": true
   },
   "outputs": [],
   "source": [
    "alpha = Symbol(\"alpha\", positive=True)\n",
    "beta = Symbol(\"beta\", positive=True)\n",
    "z = Symbol(\"z\")\n",
    "X = Beta(\"x\", 4, 4)\n",
    "density(X)(5)"
   ]
  },
  {
   "cell_type": "markdown",
   "metadata": {
    "deletable": true,
    "editable": true
   },
   "source": [
    "Here, we use ((factorial(4)*factorial(4))/(factorial(7))) to represent beta(4, 4):"
   ]
  },
  {
   "cell_type": "code",
   "execution_count": null,
   "metadata": {
    "collapsed": false,
    "deletable": true,
    "editable": true
   },
   "outputs": [],
   "source": [
    "-8000/((factorial(4)*factorial(4))/(factorial(7)))"
   ]
  },
  {
   "cell_type": "code",
   "execution_count": null,
   "metadata": {
    "collapsed": false,
    "deletable": true,
    "editable": true
   },
   "outputs": [],
   "source": [
    "alpha = Symbol(\"alpha\", positive=True)\n",
    "beta = Symbol(\"beta\", positive=True)\n",
    "z = Symbol(\"z\")\n",
    "X = Beta(\"x\", 4, 4)\n",
    "plot(density(X)(z));"
   ]
  },
  {
   "cell_type": "markdown",
   "metadata": {
    "collapsed": true,
    "deletable": true,
    "editable": true
   },
   "source": [
    "We get the same results as beta(4,4,5)!"
   ]
  },
  {
   "cell_type": "markdown",
   "metadata": {
    "deletable": true,
    "editable": true
   },
   "source": [
    "### (2.5). Uniform distribution\n",
    "\n",
    "Unif(a,b)\n",
    "\n",
    "A continuous random variable has a [Uniform distribution](https://en.wikipedia.org/wiki/Uniform_distribution_(continuous)) if all the values belonging to its support have the same probability density. Also, it can be known as a rectangular distribution. Its graph of probability density function is:\n",
    "![unif](https://upload.wikimedia.org/wikipedia/commons/9/96/Uniform_Distribution_PDF_SVG.svg)"
   ]
  },
  {
   "cell_type": "markdown",
   "metadata": {
    "deletable": true,
    "editable": true
   },
   "source": [
    "#### The density of the Uniform distribution is given by \n",
    "\n",
    "If the random variable X follows the uniform distribution with a and b (a < b), we can write X ~ Uniform(a,b).\n",
    "$$\n",
    "f(x) = \\left\\{ \\begin{array}{cc} \\frac{1}{b-a} & \\text{if } \\text{ a<} x \\text{ < b} \\\\ 0 & \\text{if } x \\text{ < a} \\ or \\ x \\text{ > b}  \\end{array} \\right.\n",
    "$$\n"
   ]
  },
  {
   "cell_type": "markdown",
   "metadata": {
    "deletable": true,
    "editable": true
   },
   "source": [
    "#### Define our own function for the density of Uniform distribution\n",
    "\n",
    "Rewrite it like:\n",
    "$$\n",
    "f_{Y}(y)=\\frac{1}{b-a}\n",
    "$$\n",
    "\n",
    "Therefore, we can write our own function to implement the density of uniform distribution:"
   ]
  },
  {
   "cell_type": "code",
   "execution_count": null,
   "metadata": {
    "collapsed": true,
    "deletable": true,
    "editable": true
   },
   "outputs": [],
   "source": [
    "def unif(a,b):\n",
    "    return 1/(b-a)"
   ]
  },
  {
   "cell_type": "markdown",
   "metadata": {
    "deletable": true,
    "editable": true
   },
   "source": [
    "Now, give an example for the function we just defined :"
   ]
  },
  {
   "cell_type": "code",
   "execution_count": null,
   "metadata": {
    "collapsed": false,
    "deletable": true,
    "editable": true
   },
   "outputs": [],
   "source": [
    "unif(4,5)"
   ]
  },
  {
   "cell_type": "markdown",
   "metadata": {
    "deletable": true,
    "editable": true
   },
   "source": [
    "Next, let's import the function sympy.stats.Uniform and compare the results with the example unif(4,5)."
   ]
  },
  {
   "cell_type": "markdown",
   "metadata": {
    "deletable": true,
    "editable": true
   },
   "source": [
    "#### Example for sympy.stats.Uniform(name, a, b)\n",
    "\n",
    "\n",
    "The function `Uniform` defines the uniform distribution with subpackage `sympy.stats`.\n",
    "\n",
    "The first input is a real number a with  $-\\infty <a $ and the second input is also a real number b with a<b<$\\infty$. Then it will return a RandomSymbol.\n",
    "Let's explore this function to see how it works and check the results.\n"
   ]
  },
  {
   "cell_type": "code",
   "execution_count": null,
   "metadata": {
    "collapsed": false,
    "deletable": true,
    "editable": true
   },
   "outputs": [],
   "source": [
    "a = Symbol(\"a\", positive=True)\n",
    "b = Symbol(\"b\", positive=True)\n",
    "z = Symbol(\"z\")\n",
    "X = Uniform(\"x\", a, b)\n",
    "density(X)(z)"
   ]
  },
  {
   "cell_type": "markdown",
   "metadata": {
    "deletable": true,
    "editable": true
   },
   "source": [
    "Now, we choose a=4 and b=5, then we can get the result:"
   ]
  },
  {
   "cell_type": "code",
   "execution_count": null,
   "metadata": {
    "collapsed": false,
    "deletable": true,
    "editable": true
   },
   "outputs": [],
   "source": [
    "1/(-4 + 5)"
   ]
  },
  {
   "cell_type": "markdown",
   "metadata": {
    "collapsed": true,
    "deletable": true,
    "editable": true
   },
   "source": [
    "We get the same result as unif(4,5)!"
   ]
  },
  {
   "cell_type": "markdown",
   "metadata": {
    "deletable": true,
    "editable": true
   },
   "source": [
    "### (2.6). Normal distribution\n",
    "\n",
    "N($\\mu$,$\\sigma^2$)\n",
    "\n",
    "A continuous random variable has a [normal distribution](https://en.wikipedia.org/wiki/Normal_distribution), which is an assumption of many parametric statistical tests, and is typically associated with a Gaussian distribution, often with mean=0 and standard deviation=1. The standard normal distribution (written Φ(x)) sets µ to 0 and σ to 1. Its graph of probability density function is:\n",
    "![normal](https://upload.wikimedia.org/wikipedia/commons/7/74/Normal_Distribution_PDF.svg)"
   ]
  },
  {
   "cell_type": "markdown",
   "metadata": {
    "deletable": true,
    "editable": true
   },
   "source": [
    "#### The density of the Normal distribution is given by \n",
    "\n",
    "If the random variable X follows the normal distribution with $\\mu,\\sigma$ ($\\mu, \\sigma^2$ > 0), we can write X ~ N($\\mu,\\sigma^2$).\n",
    "$$\n",
    "f_{X}(x) =  \\frac{1}{\\sqrt{2 \\sigma^2 \\pi}} e^{(-\\frac{(x-\\mu)^2}{2 \\sigma^2})}\n",
    "$$"
   ]
  },
  {
   "cell_type": "markdown",
   "metadata": {
    "deletable": true,
    "editable": true
   },
   "source": [
    "#### Define our own function for the density of Normal distribution\n",
    "\n",
    "Rewrite it like:\n",
    "$$\n",
    "f_{Y}(y)=\\frac{1}{\\sqrt{2 \\pi} \\sigma} e^{(-\\frac{(y-\\mu)^2}{2 \\sigma^2})}\n",
    "$$\n",
    "\n",
    "Therefore, we can write our own function to implement the density of uniform distribution:"
   ]
  },
  {
   "cell_type": "code",
   "execution_count": null,
   "metadata": {
    "collapsed": true,
    "deletable": true,
    "editable": true
   },
   "outputs": [],
   "source": [
    "def normal(mu,sig,y):\n",
    "    return (1/(2*(sig**2)*np.pi)**(1/2))*np.exp(-(y-mu)**2/(2*sig**2))\n",
    "    "
   ]
  },
  {
   "cell_type": "markdown",
   "metadata": {
    "deletable": true,
    "editable": true
   },
   "source": [
    "Now, give an example for the function we just defined and plot its graph:"
   ]
  },
  {
   "cell_type": "code",
   "execution_count": null,
   "metadata": {
    "collapsed": false,
    "deletable": true,
    "editable": true
   },
   "outputs": [],
   "source": [
    "normal(1,2,3)"
   ]
  },
  {
   "cell_type": "code",
   "execution_count": null,
   "metadata": {
    "collapsed": false,
    "deletable": true,
    "editable": true
   },
   "outputs": [],
   "source": [
    "y=np.linspace(-10,10,1000)\n",
    "u=(1/(2*(2**2)*np.pi)**(1/2))*np.exp(-(y-1)**2/(2*2**2))\n",
    "plt.plot(y,u);"
   ]
  },
  {
   "cell_type": "markdown",
   "metadata": {
    "deletable": true,
    "editable": true
   },
   "source": [
    "Next, let's import the function sympy.stats.Normal and compare the results with the example normal(1,2,3)."
   ]
  },
  {
   "cell_type": "markdown",
   "metadata": {
    "deletable": true,
    "editable": true
   },
   "source": [
    "#### Example for sympy.stats.Normal(name, mean, std)\n",
    "\n",
    "\n",
    "The function `Normal` defines the normal distribution with subpackage `sympy.stats`.\n",
    "\n",
    "The first input is a real number ($\\mu$),the mean, and the second input is also a real number ($\\sigma^2$), the variance. Then it will return a RandomSymbol.\n",
    "Let's explore this function to see how it works and check the results."
   ]
  },
  {
   "cell_type": "code",
   "execution_count": null,
   "metadata": {
    "collapsed": false,
    "deletable": true,
    "editable": true
   },
   "outputs": [],
   "source": [
    "mu = Symbol(\"mu\")\n",
    "sigma = Symbol(\"sigma\", positive=True)\n",
    "z = Symbol(\"z\")\n",
    "Normal(\"x\", mu, sigma)\n",
    "density(X)(z)"
   ]
  },
  {
   "cell_type": "markdown",
   "metadata": {
    "deletable": true,
    "editable": true
   },
   "source": [
    "Import mu=1, sigma=2, and z=3. Then we can get:"
   ]
  },
  {
   "cell_type": "code",
   "execution_count": null,
   "metadata": {
    "collapsed": false,
    "deletable": true,
    "editable": true
   },
   "outputs": [],
   "source": [
    "mu = Symbol(\"mu\")\n",
    "sigma = Symbol(\"sigma\", positive=True)\n",
    "z = Symbol(\"z\")\n",
    "X=Normal(\"x\", 1, 2)\n",
    "density(X)(3)"
   ]
  },
  {
   "cell_type": "code",
   "execution_count": null,
   "metadata": {
    "collapsed": false,
    "deletable": true,
    "editable": true
   },
   "outputs": [],
   "source": [
    "plot(density(X)(z));"
   ]
  },
  {
   "cell_type": "markdown",
   "metadata": {
    "deletable": true,
    "editable": true
   },
   "source": [
    "We get the same results as normal(1,2,3)!"
   ]
  },
  {
   "cell_type": "markdown",
   "metadata": {
    "deletable": true,
    "editable": true
   },
   "source": [
    "## 3. Verify special cases by using random expressions\n",
    "\n",
    "By introduced these above distributions, we can understand what these distributions look like. \n",
    "\n",
    "In this section, I will provide some special cases which were learned from Stat302, and then use random expressions to verify them. It takes on the task of complementing those distributions with deeper understanding, \n"
   ]
  },
  {
   "cell_type": "markdown",
   "metadata": {
    "deletable": true,
    "editable": true
   },
   "source": [
    "### (3.1) A binomial (n, p) random variable with n = 1, is a Bernoulli (p) random variable.\n"
   ]
  },
  {
   "cell_type": "markdown",
   "metadata": {
    "deletable": true,
    "editable": true
   },
   "source": [
    "Let's choose n=1 and p=3/4 in the case of Binomial distribution:"
   ]
  },
  {
   "cell_type": "code",
   "execution_count": null,
   "metadata": {
    "collapsed": false,
    "deletable": true,
    "editable": true
   },
   "outputs": [],
   "source": [
    "X = Binomial('X', 1, S(3)/4) \n",
    "density(X).dict"
   ]
  },
  {
   "cell_type": "markdown",
   "metadata": {
    "deletable": true,
    "editable": true
   },
   "source": [
    "Then choose the same p as Binomial, which equal to 3/4:"
   ]
  },
  {
   "cell_type": "code",
   "execution_count": null,
   "metadata": {
    "collapsed": false,
    "deletable": true,
    "editable": true
   },
   "outputs": [],
   "source": [
    "X = Bernoulli('X', S(3)/4) \n",
    "density(X).dict"
   ]
  },
  {
   "cell_type": "markdown",
   "metadata": {
    "deletable": true,
    "editable": true
   },
   "source": [
    "Thus, we can see that they have the same results! This special case was confirmed!"
   ]
  },
  {
   "cell_type": "markdown",
   "metadata": {
    "deletable": true,
    "editable": true
   },
   "source": [
    "### (3.2) A gamma distribution with shape parameter α = 1 and scale parameter β is an exponential (β) distribution."
   ]
  },
  {
   "cell_type": "markdown",
   "metadata": {
    "deletable": true,
    "editable": true
   },
   "source": [
    "Let's choose $\\alpha$=1 and $\\beta$ = 2 in this special case. (For gamma distribution, $\\alpha$ equals to k, and $\\beta$ equals to 1/$\\theta$, so $\\theta$ =1/2)\n",
    "\n",
    "We will compare their density functions and plots respectively."
   ]
  },
  {
   "cell_type": "code",
   "execution_count": null,
   "metadata": {
    "collapsed": false,
    "deletable": true,
    "editable": true
   },
   "outputs": [],
   "source": [
    "k = Symbol(\"k\", positive=True)\n",
    "theta = Symbol(\"theta\", positive=True)\n",
    "z = Symbol(\"z\")\n",
    "X = Gamma(\"x\", k, theta)\n",
    "pdf1 = density(X)(z)\n",
    "f1 = pdf1.subs(k,1).subs(theta,1/2)\n",
    "f1"
   ]
  },
  {
   "cell_type": "code",
   "execution_count": null,
   "metadata": {
    "collapsed": false,
    "deletable": true,
    "editable": true
   },
   "outputs": [],
   "source": [
    "plot(f1);"
   ]
  },
  {
   "cell_type": "code",
   "execution_count": null,
   "metadata": {
    "collapsed": false,
    "deletable": true,
    "editable": true
   },
   "outputs": [],
   "source": [
    "l = Symbol(\"lambda\", positive=True)\n",
    "z = Symbol(\"z\")\n",
    "X = Exponential(\"x\", l)\n",
    "pdf2=density(X)(z)\n",
    "f2 = pdf2.subs(l,2)\n",
    "f2"
   ]
  },
  {
   "cell_type": "code",
   "execution_count": null,
   "metadata": {
    "collapsed": false,
    "deletable": true,
    "editable": true
   },
   "outputs": [],
   "source": [
    "plot(f2);"
   ]
  },
  {
   "cell_type": "markdown",
   "metadata": {
    "deletable": true,
    "editable": true
   },
   "source": [
    "Thus, we can see that they have the same results! This special case was confirmed!"
   ]
  },
  {
   "cell_type": "markdown",
   "metadata": {
    "deletable": true,
    "editable": true
   },
   "source": [
    "### (3.3) A gamma (α, β) random variable with α = ν/2 and β = 2, is a chi-squared random variable with ν degrees of freedom.\n"
   ]
  },
  {
   "cell_type": "markdown",
   "metadata": {
    "deletable": true,
    "editable": true
   },
   "source": [
    "In this case, we will choose $\\alpha$= v/2=1, and $\\beta$=2, then we will compare their density functions and plots respectively."
   ]
  },
  {
   "cell_type": "code",
   "execution_count": null,
   "metadata": {
    "collapsed": false,
    "deletable": true,
    "editable": true
   },
   "outputs": [],
   "source": [
    "k = Symbol(\"k\", positive=True)\n",
    "theta = Symbol(\"theta\", positive=True)\n",
    "z = Symbol(\"z\")\n",
    "X = Gamma(\"x\", k, theta)\n",
    "pdf3 = density(X)(z)\n",
    "f3 = pdf3.subs(k,1).subs(theta,2)\n",
    "f3"
   ]
  },
  {
   "cell_type": "code",
   "execution_count": null,
   "metadata": {
    "collapsed": false,
    "deletable": true,
    "editable": true
   },
   "outputs": [],
   "source": [
    "plot(f3);"
   ]
  },
  {
   "cell_type": "code",
   "execution_count": null,
   "metadata": {
    "collapsed": false,
    "deletable": true,
    "editable": true
   },
   "outputs": [],
   "source": [
    "k = Symbol(\"k\", integer=True, positive=True)\n",
    "z = Symbol(\"z\")\n",
    "X = ChiSquared(\"x\", k)\n",
    "pdf4=density(X)(z)\n",
    "f4 = pdf4.subs(k,2)\n",
    "f4"
   ]
  },
  {
   "cell_type": "code",
   "execution_count": null,
   "metadata": {
    "collapsed": false,
    "deletable": true,
    "editable": true
   },
   "outputs": [],
   "source": [
    "plot(f4);"
   ]
  },
  {
   "cell_type": "markdown",
   "metadata": {
    "deletable": true,
    "editable": true
   },
   "source": [
    "Thus, we can see that they have the same results! This special case was confirmed!"
   ]
  },
  {
   "cell_type": "markdown",
   "metadata": {
    "deletable": true,
    "editable": true
   },
   "source": [
    "### (3.4) A chi-squared distribution with 2 degrees of freedom is an exponential distribution with mean 2 and vice versa."
   ]
  },
  {
   "cell_type": "markdown",
   "metadata": {
    "deletable": true,
    "editable": true
   },
   "source": [
    "Choose k=2 to keep a chi-squared distribution with 2 degrees of freedom.\n",
    "\n",
    "Also, take the mean to be 2 for exponential distribution. According to the E(X) we learned from sympy.stats.Exponential(name, rate), MEAN(x)=1/$\\lambda$, so in this case, $\\lambda$=1/2.\n",
    "\n",
    "We will compare their density functions and plots respectively."
   ]
  },
  {
   "cell_type": "code",
   "execution_count": null,
   "metadata": {
    "collapsed": false,
    "deletable": true,
    "editable": true
   },
   "outputs": [],
   "source": [
    "k = Symbol(\"k\", integer=True, positive=True)\n",
    "z = Symbol(\"z\")\n",
    "X = ChiSquared(\"x\", k)\n",
    "pdf5=density(X)(z)\n",
    "f5 = pdf5.subs(k,2)\n",
    "f5"
   ]
  },
  {
   "cell_type": "code",
   "execution_count": null,
   "metadata": {
    "collapsed": false,
    "deletable": true,
    "editable": true
   },
   "outputs": [],
   "source": [
    "plot(f5);"
   ]
  },
  {
   "cell_type": "code",
   "execution_count": null,
   "metadata": {
    "collapsed": false,
    "deletable": true,
    "editable": true
   },
   "outputs": [],
   "source": [
    "l = Symbol(\"lambda\", positive=True)\n",
    "z = Symbol(\"z\")\n",
    "X = Exponential(\"x\", l)\n",
    "pdf6=density(X)(z)\n",
    "f6 = pdf6.subs(l,1/2)\n",
    "f6"
   ]
  },
  {
   "cell_type": "code",
   "execution_count": null,
   "metadata": {
    "collapsed": false,
    "deletable": true,
    "editable": true
   },
   "outputs": [],
   "source": [
    "plot(f6);"
   ]
  },
  {
   "cell_type": "markdown",
   "metadata": {
    "deletable": true,
    "editable": true
   },
   "source": [
    "Thus, we can see that they have the same results! This special case was confirmed!"
   ]
  },
  {
   "cell_type": "markdown",
   "metadata": {
    "deletable": true,
    "editable": true
   },
   "source": [
    "### (3.5) A beta random variable with parameters α = β = 1 is a uniform random variable."
   ]
  },
  {
   "cell_type": "markdown",
   "metadata": {
    "deletable": true,
    "editable": true
   },
   "source": [
    "Now, choose $\\alpha = \\beta$=1 for a beta distribution, then we will compare their density functions respectively."
   ]
  },
  {
   "cell_type": "code",
   "execution_count": null,
   "metadata": {
    "collapsed": false,
    "deletable": true,
    "editable": true
   },
   "outputs": [],
   "source": [
    "alpha = Symbol(\"alpha\", positive=True)\n",
    "beta = Symbol(\"beta\", positive=True)\n",
    "z = Symbol(\"z\")\n",
    "X = Beta(\"x\", alpha, beta)\n",
    "pdf7=density(X)(z)\n",
    "f7 = pdf7.subs(alpha,1).subs(beta,1)\n",
    "f7"
   ]
  },
  {
   "cell_type": "markdown",
   "metadata": {
    "deletable": true,
    "editable": true
   },
   "source": [
    "Here, use ((factorial(1)*factorial(1))/(factorial(1))) to represent beta(1,1)"
   ]
  },
  {
   "cell_type": "code",
   "execution_count": null,
   "metadata": {
    "collapsed": false,
    "deletable": true,
    "editable": true
   },
   "outputs": [],
   "source": [
    "1/((factorial(1)*factorial(1))/(factorial(1)))"
   ]
  },
  {
   "cell_type": "code",
   "execution_count": null,
   "metadata": {
    "collapsed": false,
    "deletable": true,
    "editable": true
   },
   "outputs": [],
   "source": [
    "a = Symbol(\"a\", positive=True)\n",
    "b = Symbol(\"b\", positive=True)\n",
    "z = Symbol(\"z\")\n",
    "X = Uniform(\"x\", a, b)\n",
    "pdf8=density(X)(z)\n",
    "f8= pdf8.subs(a,1).subs(b,2)\n",
    "f8"
   ]
  },
  {
   "cell_type": "markdown",
   "metadata": {
    "deletable": true,
    "editable": true
   },
   "source": [
    "Thus, we can see that they have the same results! This special case was confirmed!"
   ]
  },
  {
   "cell_type": "markdown",
   "metadata": {
    "deletable": true,
    "editable": true
   },
   "source": [
    "### (3.6) The square of a standard normal random variable has a chi-square distribution with one degree of freedom."
   ]
  },
  {
   "cell_type": "markdown",
   "metadata": {
    "deletable": true,
    "editable": true
   },
   "source": [
    "In this case, let's take the square of a standard random variable (X), a standard normal random viable here means $\\mu=0,\\sigma^2=1$.\n",
    "\n",
    "Then choose k=1 to keep chi-square distribution with one degree of freedom. \n",
    "\n",
    "Finally, we will compare their density functions and plots respectively."
   ]
  },
  {
   "cell_type": "code",
   "execution_count": null,
   "metadata": {
    "collapsed": false,
    "deletable": true,
    "editable": true
   },
   "outputs": [],
   "source": [
    "mu = Symbol(\"mu\")\n",
    "sigma = Symbol(\"sigma\", positive=True)\n",
    "z = Symbol(\"z\")\n",
    "X=Normal(\"x\", mu, sigma)\n",
    "pdf9=density(X**2)(z)\n",
    "f9= pdf9.subs(mu,0).subs(sigma,1)\n",
    "f9"
   ]
  },
  {
   "cell_type": "code",
   "execution_count": null,
   "metadata": {
    "collapsed": false,
    "deletable": true,
    "editable": true
   },
   "outputs": [],
   "source": [
    "plot(f9,xlim=(0,2.5),ylim=(0,1));"
   ]
  },
  {
   "cell_type": "code",
   "execution_count": null,
   "metadata": {
    "collapsed": false,
    "deletable": true,
    "editable": true
   },
   "outputs": [],
   "source": [
    "k = Symbol(\"k\", integer=True, positive=True)\n",
    "z = Symbol(\"z\")\n",
    "X = ChiSquared(\"x\", k)\n",
    "pdf10=density(X)(z)\n",
    "f10 = pdf10.subs(k,1)\n",
    "f10"
   ]
  },
  {
   "cell_type": "code",
   "execution_count": null,
   "metadata": {
    "collapsed": false,
    "deletable": true,
    "editable": true
   },
   "outputs": [],
   "source": [
    "plot(f10,xlim=(0,2.5),ylim=(0,1));\n"
   ]
  },
  {
   "cell_type": "markdown",
   "metadata": {
    "deletable": true,
    "editable": true
   },
   "source": [
    "Thus, we can see that they have the same results! This special case was confirmed!"
   ]
  },
  {
   "cell_type": "markdown",
   "metadata": {
    "deletable": true,
    "editable": true
   },
   "source": [
    "## 4. Exercises"
   ]
  },
  {
   "cell_type": "markdown",
   "metadata": {
    "deletable": true,
    "editable": true
   },
   "source": [
    "**Exercise 1.**\n",
    "Ignoring twins and other multiple births, assume babies born at a hospital are independent events with the probability that a baby is a boy and the probability that a baby is a girl both equal to 0.5. By using the functions we introduced before, such as `Binomial(name,n,p,succ=1,fail=0)`, `Bernoulli(name,p,succ=1,fail=0)`. What is the probability that the next three babies are of the same sex? \n",
    "\n",
    "    * A) 0.125\n",
    "\n",
    "    * B) 0.250\n",
    "\n",
    "    * C) 0.375\n",
    "\n",
    "    * D) 0.500"
   ]
  },
  {
   "cell_type": "markdown",
   "metadata": {
    "deletable": true,
    "editable": true
   },
   "source": [
    "**Exercise 2.** Let W have the `exponential distribution` with mean 1. Explain how W can be used to construct a random variable Y = g(W) such that Y is `uniformly distributed` on {0, 1, 2}."
   ]
  },
  {
   "cell_type": "code",
   "execution_count": null,
   "metadata": {
    "collapsed": true,
    "deletable": true,
    "editable": true
   },
   "outputs": [],
   "source": []
  }
 ],
 "metadata": {
  "kernelspec": {
   "display_name": "Python 3",
   "language": "python",
   "name": "python3"
  },
  "language_info": {
   "codemirror_mode": {
    "name": "ipython",
    "version": 3
   },
   "file_extension": ".py",
   "mimetype": "text/x-python",
   "name": "python",
   "nbconvert_exporter": "python",
   "pygments_lexer": "ipython3",
   "version": "3.5.2"
  }
 },
 "nbformat": 4,
 "nbformat_minor": 2
}
