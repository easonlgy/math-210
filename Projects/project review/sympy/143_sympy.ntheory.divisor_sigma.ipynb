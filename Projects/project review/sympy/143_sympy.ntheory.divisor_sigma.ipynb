{
 "cells": [
  {
   "cell_type": "markdown",
   "metadata": {
    "deletable": true,
    "editable": true
   },
   "source": [
    "# MATH 210 Project I\n",
    "## Divisor Function in sympy.ntheory"
   ]
  },
  {
   "cell_type": "markdown",
   "metadata": {
    "deletable": true,
    "editable": true
   },
   "source": [
    "the list of all prime numbers is infinite. Functions in sympy.ntheory package can provide us with a dynamically growing sieve of Eratosthenes. (see the [documentation](http://docs.sympy.org/latest/modules/ntheory.html))"
   ]
  },
  {
   "cell_type": "markdown",
   "metadata": {
    "deletable": true,
    "editable": true
   },
   "source": [
    "**Our goal** in this notebook is to introduce the **Divisor Function** in the package **sympy.ntheory**.To introduce this function, I will rewrite the function and use geometric graph to demonstrate the properties. By the end of the notebook, readers will be able to understand the **Divisor Function**. "
   ]
  },
  {
   "cell_type": "markdown",
   "metadata": {
    "deletable": true,
    "editable": true
   },
   "source": [
    "* Some familiar functions in the sympy.ntheory\n",
    "  * (1)sn.isprime(n):(Test if given number is prime)\n",
    "  * (2)sn.prime(n):(Return the nth prime)\n",
    "* Divisor Sigma (Divisor Function) `sympy.ntheory.divisor_sigma` (see the [documentation](http://docs.sympy.org/latest/_modules/sympy/ntheory/factor_.html#udivisor_sigma))"
   ]
  },
  {
   "cell_type": "code",
   "execution_count": null,
   "metadata": {
    "collapsed": true,
    "deletable": true,
    "editable": true
   },
   "outputs": [],
   "source": [
    "import numpy as np\n",
    "import matplotlib.pyplot as plt\n",
    "%matplotlib inline"
   ]
  },
  {
   "cell_type": "code",
   "execution_count": null,
   "metadata": {
    "collapsed": true,
    "deletable": true,
    "editable": true
   },
   "outputs": [],
   "source": [
    "import sympy.ntheory as sn"
   ]
  },
  {
   "cell_type": "markdown",
   "metadata": {
    "deletable": true,
    "editable": true
   },
   "source": [
    "## Some familiar functions in the sympy.ntheory"
   ]
  },
  {
   "cell_type": "markdown",
   "metadata": {
    "deletable": true,
    "editable": true
   },
   "source": [
    "### (1)sn.isprime(n)"
   ]
  },
  {
   "cell_type": "code",
   "execution_count": null,
   "metadata": {
    "collapsed": false,
    "deletable": true,
    "editable": true
   },
   "outputs": [],
   "source": [
    "sn.isprime(2)"
   ]
  },
  {
   "cell_type": "markdown",
   "metadata": {
    "deletable": true,
    "editable": true
   },
   "source": [
    "2 is prime. When the given number is 2 and the result show \"True\""
   ]
  },
  {
   "cell_type": "code",
   "execution_count": null,
   "metadata": {
    "collapsed": false,
    "deletable": true,
    "editable": true
   },
   "outputs": [],
   "source": [
    "sn.isprime(5)"
   ]
  },
  {
   "cell_type": "markdown",
   "metadata": {
    "deletable": true,
    "editable": true
   },
   "source": [
    "5 is prime. When the given number is 2 and the result show \"True\""
   ]
  },
  {
   "cell_type": "code",
   "execution_count": null,
   "metadata": {
    "collapsed": false,
    "deletable": true,
    "editable": true
   },
   "outputs": [],
   "source": [
    "sn.isprime(4)"
   ]
  },
  {
   "cell_type": "markdown",
   "metadata": {
    "deletable": true,
    "editable": true
   },
   "source": [
    "4 = 2 * 2 which is composite number. When the given number is 2 and the result show \"False\""
   ]
  },
  {
   "cell_type": "markdown",
   "metadata": {
    "collapsed": false,
    "deletable": true,
    "editable": true
   },
   "source": [
    "### (2)sn.prime(n)"
   ]
  },
  {
   "cell_type": "markdown",
   "metadata": {
    "deletable": true,
    "editable": true
   },
   "source": [
    "The list of prime start with $2,3,5,7,11,13,17,19 \\cdots$. Function sn.prime(n) return $nth$ prime. \n",
    "* When $n=1$ it return first prime $2$. \n",
    "* When $n=2$ it return second prime $3$.\n",
    "* When $n=5$ it return fifth prime $11$."
   ]
  },
  {
   "cell_type": "code",
   "execution_count": null,
   "metadata": {
    "collapsed": false,
    "deletable": true,
    "editable": true
   },
   "outputs": [],
   "source": [
    "sn.prime(1)"
   ]
  },
  {
   "cell_type": "code",
   "execution_count": null,
   "metadata": {
    "collapsed": false,
    "deletable": true,
    "editable": true
   },
   "outputs": [],
   "source": [
    "sn.prime(2)"
   ]
  },
  {
   "cell_type": "code",
   "execution_count": null,
   "metadata": {
    "collapsed": false,
    "deletable": true,
    "editable": true
   },
   "outputs": [],
   "source": [
    "sn.prime(5)"
   ]
  },
  {
   "cell_type": "markdown",
   "metadata": {
    "deletable": true,
    "editable": true
   },
   "source": [
    "## Divisor Sigma (Divisor Function)\n",
    "\n",
    "#### 1. Definition of Divisor Function\n",
    "#### 2. Properties of Divisor Function\n",
    "#### 3. Rewrite Divisor Function\n",
    "#### 4. Example of Divisor Function\n",
    "#### 5. Graph of Divisor Function"
   ]
  },
  {
   "cell_type": "markdown",
   "metadata": {
    "deletable": true,
    "editable": true
   },
   "source": [
    "### 1. Definition of Divisor Function\n",
    "The sum of positive divisors function $\\sigma_{k}(n)$, for a real or complex number k, is defined as the sum of the kth powers of the positive divisors of n. It can be expressed in sigma notation as \n",
    "$$\n",
    "\\sigma_{k}^{*}(n) = \\sum_{d\\mid n} {d^k}\n",
    "$$"
   ]
  },
  {
   "cell_type": "markdown",
   "metadata": {
    "deletable": true,
    "editable": true
   },
   "source": [
    "### 2. Properties of Divisor Function"
   ]
  },
  {
   "cell_type": "markdown",
   "metadata": {
    "deletable": true,
    "editable": true
   },
   "source": [
    "The definition of Divisor Function is \n",
    "\n",
    "$$\\sigma_{k}^{*}(n) = \\sum_{d\\mid n} {d^k}$$\n",
    "\n",
    "For a non-square integer, n, every divisor, d, of n is paired with divisor n/d of n and $ \\sigma _{0}(n)$  is even; for a square integer, one divisor $\\sqrt {n}$  is not paired with a distinct divisor and $\\sigma _{0}(n)$ is odd. Similarly, the number $\\sigma _{1}(n)$ is odd if and only if n is a square or twice a square.\n",
    "\n",
    "Also Divisor Function can be presented as \n",
    "\n",
    "$$\\sigma_{k}^{*}(n) = \\prod_{i=1}^{\\omega}(1 + p_{i}^{k} + p_{i}^{2k} + p_{i}^{3k} + ... + p_{i}^{km_i})$$"
   ]
  },
  {
   "cell_type": "markdown",
   "metadata": {
    "deletable": true,
    "editable": true
   },
   "source": [
    "### 3. Rewrite Divisor Function"
   ]
  },
  {
   "cell_type": "markdown",
   "metadata": {
    "deletable": true,
    "editable": true
   },
   "source": [
    "Now we have two equations of Divisor. I will write two Python function **my_divisor_sigma_1** (base on $\\sigma_{k}^{*}(n) = \\sum_{d\\mid n} {d^k}$) and **my_divisor_sigma_2** (base on $\\sigma_{k}^{*}(n) = \\prod_{i=1}^{\\omega}(1 + p_{i}^{k} + p_{i}^{2k} + p_{i}^{3k} + ... + p_{i}^{km_i})$)"
   ]
  },
  {
   "cell_type": "markdown",
   "metadata": {
    "deletable": true,
    "editable": true
   },
   "source": [
    "####  my_divisor_sigma_1"
   ]
  },
  {
   "cell_type": "code",
   "execution_count": null,
   "metadata": {
    "collapsed": false,
    "deletable": true,
    "editable": true
   },
   "outputs": [],
   "source": [
    "def  my_divisor_sigma_1(n,k=1):\n",
    "    \"\"\"take parameter n and k, and return divisor function(n,k)\"\"\"\n",
    "    list_of_d_k = []\n",
    "    # Initial the list of d^k\n",
    "    for d in range(1,n+1):\n",
    "        if n % d == 0:\n",
    "            list_of_d_k.append(d**k)\n",
    "            # Update the list of d^k\n",
    "    return sum(list_of_d_k)\n",
    "        "
   ]
  },
  {
   "cell_type": "markdown",
   "metadata": {
    "deletable": true,
    "editable": true
   },
   "source": [
    "#### my_divisor_sigma_2 "
   ]
  },
  {
   "cell_type": "markdown",
   "metadata": {
    "deletable": true,
    "editable": true
   },
   "source": [
    "To write the divisor function (my_divisor_sigma_2). First I write a help function named prime_divisors, which takes a parameter N and return a Python list of N's prime divisor."
   ]
  },
  {
   "cell_type": "code",
   "execution_count": null,
   "metadata": {
    "collapsed": true,
    "deletable": true,
    "editable": true
   },
   "outputs": [],
   "source": [
    "def prime_divisors(N):\n",
    "    \"\"\"takes one input parameter N (a positive integer) and returns a Python list of prime numbers which divide N.\"\"\"\n",
    "    def is_prime(D):\n",
    "        for x in range (2,D):\n",
    "            if D % x == 0:\n",
    "            # Check if D is divisible by x\n",
    "                return False\n",
    "        return True\n",
    "    divisor_list=[]\n",
    "    # Initialize the list of divisors\n",
    "    for d in range (2,N+1):\n",
    "        if N % d == 0 and is_prime(d):\n",
    "        # Chcek if N is divisible by d and if d is prime\n",
    "            divisor_list.append(d)\n",
    "            # Update the list of divisors\n",
    "    return divisor_list"
   ]
  },
  {
   "cell_type": "markdown",
   "metadata": {
    "deletable": true,
    "editable": true
   },
   "source": [
    "The function divisor_sigma in sympy.ntheory package can takes either two parameters n and k or just one parameter n (defult k = 1) and return a number of $\\sigma_{k}(n)$"
   ]
  },
  {
   "cell_type": "code",
   "execution_count": null,
   "metadata": {
    "collapsed": true,
    "deletable": true,
    "editable": true
   },
   "outputs": [],
   "source": [
    "def my_divisor_sigma_2(n,k=1):\n",
    "    \"\"\"take parameter n and k, and return divisor function(n,k)\"\"\"\n",
    "    X = 1\n",
    "    for p in prime_divisors(n):\n",
    "        count=0\n",
    "         # Initialize the count\n",
    "        while n % p == 0:\n",
    "            n=n/p\n",
    "            count=count+1\n",
    "            # Update the count\n",
    "            term = 0\n",
    "            for m_i in range(0,count+1):\n",
    "                term = term + p**(m_i*k)\n",
    "        if count > 0:\n",
    "            X = X * term\n",
    "    return X"
   ]
  },
  {
   "cell_type": "markdown",
   "metadata": {
    "deletable": true,
    "editable": true
   },
   "source": [
    "## 4. Example of Divisor Function"
   ]
  },
  {
   "cell_type": "markdown",
   "metadata": {
    "deletable": true,
    "editable": true
   },
   "source": [
    "Let $n = 39$ and $k = 1$. Both *sn.divisor_sigma(n,k)* and *my_divisor_sigma(n,k)* return $56$"
   ]
  },
  {
   "cell_type": "markdown",
   "metadata": {
    "deletable": true,
    "editable": true
   },
   "source": [
    "In this case, we have $n=39=3*19$ and $k=1$. Based on the equation $\\sigma_{k}^{*}(n) = \\prod_{i=1}^{\\omega}(1 + p_{i}^{k} + p_{i}^{2k} + p_{i}^{3k} + ... + p_{i}^{km_i})$ and we have $\\sigma_{1}^{*}(39) = (1 + (3)^1) * (1+(13)^1) = 4 * 14 = 56$. $\\sigma_{k}^{*}(n) = 56$ is what we expect. Also we can use original equation $\\sigma_{k}^{*}(n) = \\sum_{d\\mid n} {d^k}$. \n",
    "$n=39$ have $4$ positive divisors $1,3,13,39$, $\\sigma_{1}^{*}(39) = 1 + 3 + 13 + 39 = 56$ as well.  "
   ]
  },
  {
   "cell_type": "code",
   "execution_count": null,
   "metadata": {
    "collapsed": false,
    "deletable": true,
    "editable": true
   },
   "outputs": [],
   "source": [
    "sn.divisor_sigma(39,1)"
   ]
  },
  {
   "cell_type": "code",
   "execution_count": null,
   "metadata": {
    "collapsed": false,
    "deletable": true,
    "editable": true
   },
   "outputs": [],
   "source": [
    "my_divisor_sigma_1(39,1)"
   ]
  },
  {
   "cell_type": "code",
   "execution_count": null,
   "metadata": {
    "collapsed": false,
    "deletable": true,
    "editable": true
   },
   "outputs": [],
   "source": [
    "my_divisor_sigma_2(39,1)"
   ]
  },
  {
   "cell_type": "markdown",
   "metadata": {
    "deletable": true,
    "editable": true
   },
   "source": [
    "Both sn.divisor_sigma(n,k) and my_divisor_sigma(n,k)(_1,_2) return  56."
   ]
  },
  {
   "cell_type": "code",
   "execution_count": null,
   "metadata": {
    "collapsed": false,
    "deletable": true,
    "editable": true
   },
   "outputs": [],
   "source": [
    "%%timeit\n",
    "my_divisor_sigma_1(39,1)"
   ]
  },
  {
   "cell_type": "code",
   "execution_count": null,
   "metadata": {
    "collapsed": false,
    "deletable": true,
    "editable": true
   },
   "outputs": [],
   "source": [
    "%%timeit\n",
    "my_divisor_sigma_2(39,1)"
   ]
  },
  {
   "cell_type": "code",
   "execution_count": null,
   "metadata": {
    "collapsed": false,
    "deletable": true,
    "editable": true
   },
   "outputs": [],
   "source": [
    "%%timeit\n",
    "sn.divisor_sigma(39,1)"
   ]
  },
  {
   "cell_type": "markdown",
   "metadata": {
    "deletable": true,
    "editable": true
   },
   "source": [
    "Using %%timeit to show the steps and speed of two methods and it turns out that sn.divisor_sigma(n,k) (function in package) is way faster than my_divisor_sigma(n,k). Compare my_divisor_sigma_1 and my_divisor_sigma_2 and we found that my_divisor_sigma_1 is faster which means using $\\sigma_{k}^{*}(n) = \\sum_{d\\mid n} {d^k}$ is faster than $\\sigma_{k}^{*}(n) = \\prod_{i=1}^{\\omega}(1 + p_{i}^{k} + p_{i}^{2k} + p_{i}^{3k} + ... + p_{i}^{km_i})$."
   ]
  },
  {
   "cell_type": "code",
   "execution_count": null,
   "metadata": {
    "collapsed": false,
    "deletable": true,
    "editable": true
   },
   "outputs": [],
   "source": [
    "my_divisor_sigma_1(12,2)"
   ]
  },
  {
   "cell_type": "code",
   "execution_count": null,
   "metadata": {
    "collapsed": false,
    "deletable": true,
    "editable": true
   },
   "outputs": [],
   "source": [
    "my_divisor_sigma_2(12,2)"
   ]
  },
  {
   "cell_type": "code",
   "execution_count": null,
   "metadata": {
    "collapsed": false,
    "deletable": true,
    "editable": true
   },
   "outputs": [],
   "source": [
    "sn.divisor_sigma(1,0)"
   ]
  },
  {
   "cell_type": "code",
   "execution_count": null,
   "metadata": {
    "collapsed": false,
    "deletable": true,
    "editable": true
   },
   "outputs": [],
   "source": [
    "my_divisor_sigma_1(1,0)"
   ]
  },
  {
   "cell_type": "code",
   "execution_count": null,
   "metadata": {
    "collapsed": false,
    "deletable": true,
    "editable": true
   },
   "outputs": [],
   "source": [
    "sn.divisor_sigma(25,1)"
   ]
  },
  {
   "cell_type": "markdown",
   "metadata": {
    "deletable": true,
    "editable": true
   },
   "source": [
    "## 5. Graph of Divisor Function"
   ]
  },
  {
   "cell_type": "markdown",
   "metadata": {
    "deletable": true,
    "editable": true
   },
   "source": [
    "First I want to take 100 points of n and plot a single graph at $k=1$ to demonstrate what the divisor function look like in geometry."
   ]
  },
  {
   "cell_type": "code",
   "execution_count": null,
   "metadata": {
    "collapsed": false,
    "deletable": true,
    "editable": true
   },
   "outputs": [],
   "source": [
    "x = range(1,100)\n",
    "y = [sn.divisor_sigma(n,1) for n in x]\n",
    "plt.plot(x,y);"
   ]
  },
  {
   "cell_type": "markdown",
   "metadata": {
    "deletable": true,
    "editable": true
   },
   "source": [
    "Next I use subpolt to show the difference of graph for $k = 1,2,3,4,5,6 $."
   ]
  },
  {
   "cell_type": "code",
   "execution_count": null,
   "metadata": {
    "collapsed": false,
    "deletable": true,
    "editable": true
   },
   "outputs": [],
   "source": [
    "plt.figure(figsize=(20,5))\n",
    "for k in range(1,7):\n",
    "    plt.subplot(1,6,k)\n",
    "    x = range(1,100)\n",
    "    y = [sn.divisor_sigma(n,k) for n in x]\n",
    "    plt.plot(x,y)\n",
    "    plt.grid('on')\n",
    "    plt.title('k = ' + str(k))"
   ]
  },
  {
   "cell_type": "markdown",
   "metadata": {
    "collapsed": true,
    "deletable": true,
    "editable": true
   },
   "source": [
    "## Exercises"
   ]
  },
  {
   "cell_type": "markdown",
   "metadata": {
    "collapsed": false,
    "deletable": true,
    "editable": true
   },
   "source": [
    "1.Calculate the follwing sigma value\n",
    "$$\\sigma_2(5)$$\n",
    "$$\\sigma_4(37)$$\n",
    "$$\\sigma_1(210)$$\n",
    "$$\\sigma_3(100)$$"
   ]
  },
  {
   "cell_type": "markdown",
   "metadata": {
    "collapsed": true,
    "deletable": true,
    "editable": true
   },
   "source": [
    "2.Prove that\n",
    "$$\n",
    "\\sum_{n=1}^{\\infty} \\frac{\\sigma_a(n)} {n^s} = \\zeta(s) * \\zeta(s-a)\n",
    "$$"
   ]
  },
  {
   "cell_type": "code",
   "execution_count": null,
   "metadata": {
    "collapsed": true,
    "deletable": true,
    "editable": true
   },
   "outputs": [],
   "source": []
  }
 ],
 "metadata": {
  "kernelspec": {
   "display_name": "Python 3",
   "language": "python",
   "name": "python3"
  },
  "language_info": {
   "codemirror_mode": {
    "name": "ipython",
    "version": 3
   },
   "file_extension": ".py",
   "mimetype": "text/x-python",
   "name": "python",
   "nbconvert_exporter": "python",
   "pygments_lexer": "ipython3",
   "version": "3.5.2"
  }
 },
 "nbformat": 4,
 "nbformat_minor": 2
}
