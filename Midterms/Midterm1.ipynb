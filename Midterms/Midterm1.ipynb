{
 "cells": [
  {
   "cell_type": "markdown",
   "metadata": {
    "deletable": true,
    "editable": true
   },
   "source": [
    "# MATH 210 Introduction to Mathematical Computing\n",
    "\n",
    "## March 2, 2017\n",
    "\n",
    "## Midterm 1"
   ]
  },
  {
   "cell_type": "code",
   "execution_count": null,
   "metadata": {
    "collapsed": true,
    "deletable": true,
    "editable": true
   },
   "outputs": [],
   "source": [
    "import numpy as np\n",
    "import matplotlib.pyplot as plt\n",
    "%matplotlib inline"
   ]
  },
  {
   "cell_type": "markdown",
   "metadata": {
    "deletable": true,
    "editable": true
   },
   "source": [
    "## 1.\n",
    "\n",
    "### (a)\n",
    "\n",
    "$$\n",
    "\\tan(\\frac{\\pi x}{2}) = \\frac{4x}{\\pi} \\sum_{k=1}^{\\infty} \\frac{1}{(2k-1)^2-x^2}\n",
    "$$"
   ]
  },
  {
   "cell_type": "markdown",
   "metadata": {
    "deletable": true,
    "editable": true
   },
   "source": [
    "### (b)"
   ]
  },
  {
   "cell_type": "code",
   "execution_count": null,
   "metadata": {
    "collapsed": true,
    "deletable": true,
    "editable": true
   },
   "outputs": [],
   "source": [
    "def k_sum(x,N):\n",
    "    if x >=1 and x <= 2*N-1 and x % 2 != 0:\n",
    "        print(\"Error: x is a odd number\")\n",
    "        return None\n",
    "    else:\n",
    "        f1 = 0\n",
    "        for k in range(1,N+1):\n",
    "            f1 = f1 + 1 / ((2*k-1)**2-x**2)\n",
    "        f = f1 * (4*x/np.pi)\n",
    "        return f"
   ]
  },
  {
   "cell_type": "markdown",
   "metadata": {
    "deletable": true,
    "editable": true
   },
   "source": [
    "## 2.\n",
    "\n",
    "### (a)\n",
    "\n",
    "$$\n",
    "\\frac{2}{\\pi} = \\sqrt{\\frac{1}{2}}\\cdot \\sqrt{\\frac{1}{2}+\\frac{1}{2} \\sqrt{\\frac{1}{2}}} \\cdot \\sqrt{\\frac{1}{2}+\\frac{1}{2}\\sqrt{\\frac{1}{2}+\\frac{1}{2}\\sqrt{\\frac{1}{2}}}} \\cdots\n",
    "$$"
   ]
  },
  {
   "cell_type": "markdown",
   "metadata": {
    "deletable": true,
    "editable": true
   },
   "source": [
    "### (b)"
   ]
  },
  {
   "cell_type": "code",
   "execution_count": null,
   "metadata": {
    "collapsed": true,
    "deletable": true,
    "editable": true
   },
   "outputs": [],
   "source": [
    "def a_product(d,N):\n",
    "    a0 = d**0.5\n",
    "    k = 0\n",
    "    ak = a0\n",
    "    b = a0\n",
    "    while k < N:\n",
    "        ak1 = (d + ak * d)**0.5\n",
    "        b = b * ak1\n",
    "        k += 1\n",
    "        ak = ak1\n",
    "    return b"
   ]
  },
  {
   "cell_type": "markdown",
   "metadata": {
    "deletable": true,
    "editable": true
   },
   "source": [
    "## 3."
   ]
  },
  {
   "cell_type": "code",
   "execution_count": null,
   "metadata": {
    "collapsed": true,
    "deletable": true,
    "editable": true
   },
   "outputs": [],
   "source": [
    "def b_product(b):\n",
    "    p = 1\n",
    "    k = 0\n",
    "    N = len(b)\n",
    "    while k < N:\n",
    "        p = p * (1 + (b[k]**2/(k+1)))\n",
    "        k += 1\n",
    "    return p"
   ]
  },
  {
   "cell_type": "markdown",
   "metadata": {
    "deletable": true,
    "editable": true
   },
   "source": [
    "## 4."
   ]
  },
  {
   "cell_type": "code",
   "execution_count": null,
   "metadata": {
    "collapsed": true,
    "deletable": true,
    "editable": true
   },
   "outputs": [],
   "source": [
    "def sum_plot(alpha,N,a,b):\n",
    "    f = 0\n",
    "    for k in range(1,N+1):\n",
    "        x = np.linspace(-N,N,10000)\n",
    "        f = f + (((-1)**k * np.cos(2*np.pi*k*x))/(k**2 + alpha**2))\n",
    "    plt.plot(x,f),plt.xlim(a,b)"
   ]
  },
  {
   "cell_type": "markdown",
   "metadata": {
    "deletable": true,
    "editable": true
   },
   "source": [
    "## 5."
   ]
  },
  {
   "cell_type": "code",
   "execution_count": null,
   "metadata": {
    "collapsed": true,
    "deletable": true,
    "editable": true
   },
   "outputs": [],
   "source": [
    "def c_sequence(a,b):\n",
    "    n = 0\n",
    "    N = len(a)\n",
    "    C = []\n",
    "    \n",
    "    \n",
    "    while n < N:\n",
    "        cn = 0\n",
    "        k = 0\n",
    "        ap = a[0:n+1]\n",
    "        bp = b[0:n+1]\n",
    "        for k in range(0,n+1):\n",
    "            cn = cn + ap[k]*bp[n-k]\n",
    "            k += 1\n",
    "        C.append(cn)\n",
    "        n += 1\n",
    "    return C"
   ]
  },
  {
   "cell_type": "markdown",
   "metadata": {
    "deletable": true,
    "editable": true
   },
   "source": [
    "## 6."
   ]
  },
  {
   "cell_type": "code",
   "execution_count": null,
   "metadata": {
    "collapsed": true,
    "deletable": true,
    "editable": true
   },
   "outputs": [],
   "source": [
    "def parametric_plots(a,k):\n",
    "    N = len(a)\n",
    "    plt.figure(figsize=(4*N,N))\n",
    "    \n",
    "    n = 1\n",
    "    f1 = 0\n",
    "    while n <= N:\n",
    "        plt.subplot(1,N,n)\n",
    "        \n",
    "        t = np.linspace(0,2*np.pi,1000)\n",
    "        x = 2*k[n-1]*np.cos(t)-a[n-1]*np.cos(k[n-1]*t)\n",
    "        y = 2*k[n-1]*np.sin(t)-a[n-1]*np.sin(k[n-1]*t)\n",
    "        n += 1\n",
    "        \n",
    "        plt.plot(x,y)\n",
    "        plt.grid('on'), plt.title('a =' + str(a[n-2]) + ',' +'k =' + str(k[n-2]))\n",
    "        plt.tight_layout()\n",
    "        plt.axis('equal')\n",
    "        "
   ]
  },
  {
   "cell_type": "markdown",
   "metadata": {
    "deletable": true,
    "editable": true
   },
   "source": [
    "## 7."
   ]
  },
  {
   "cell_type": "code",
   "execution_count": null,
   "metadata": {
    "collapsed": true,
    "deletable": true,
    "editable": true
   },
   "outputs": [],
   "source": [
    "def f_plot(N):\n",
    "    L = []\n",
    "    n = 1\n",
    "    while n <= N:\n",
    "        f = 1\n",
    "        \n",
    "        for p in range(2,n+1):\n",
    "            if n % p == 0:\n",
    "                for d in range(2,p):\n",
    "                    if p % d == 0:\n",
    "                        break\n",
    "                else:\n",
    "                    f = f * (1 - 1/p)\n",
    "        fn = f * n\n",
    "        L.append(fn)\n",
    "        plt.scatter(n,fn)\n",
    "        n += 1\n",
    "    return np.array(L)    "
   ]
  },
  {
   "cell_type": "markdown",
   "metadata": {
    "deletable": true,
    "editable": true
   },
   "source": [
    "## 8."
   ]
  },
  {
   "cell_type": "code",
   "execution_count": null,
   "metadata": {
    "collapsed": true,
    "deletable": true,
    "editable": true
   },
   "outputs": [],
   "source": [
    "def quad_reps(a,b,c,n):\n",
    "    L = []\n",
    "    if a>=0 and b>=0 and c>=0 and n>=0:\n",
    "        for x in range(0,n):\n",
    "            for y in range(0,n):\n",
    "                if n == a*(x**2)+b*x*y+c*y**2:\n",
    "                    L.append([x,y])\n",
    "        return L\n",
    "    else:\n",
    "        print(\"Error:at least one of input parameter is not an integer greater than or equal to 0\")\n",
    "        return None"
   ]
  }
 ],
 "metadata": {
  "kernelspec": {
   "display_name": "Python 3",
   "language": "python",
   "name": "python3"
  },
  "language_info": {
   "codemirror_mode": {
    "name": "ipython",
    "version": 3
   },
   "file_extension": ".py",
   "mimetype": "text/x-python",
   "name": "python",
   "nbconvert_exporter": "python",
   "pygments_lexer": "ipython3",
   "version": "3.5.2"
  }
 },
 "nbformat": 4,
 "nbformat_minor": 2
}
