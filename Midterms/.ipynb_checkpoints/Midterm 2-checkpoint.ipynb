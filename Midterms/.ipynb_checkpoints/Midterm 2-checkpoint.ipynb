{
 "cells": [
  {
   "cell_type": "markdown",
   "metadata": {
    "deletable": true,
    "editable": true
   },
   "source": [
    "# Midterm 2\n",
    "\n",
    "## March 23, 2017"
   ]
  },
  {
   "cell_type": "code",
   "execution_count": 8,
   "metadata": {
    "collapsed": false,
    "deletable": true,
    "editable": true
   },
   "outputs": [],
   "source": [
    "import numpy as np\n",
    "import matplotlib.pyplot as plt\n",
    "%matplotlib inline\n",
    "import scipy.linalg as la\n",
    "import scipy.integrate as spi\n",
    "from scipy.misc import derivative"
   ]
  },
  {
   "cell_type": "markdown",
   "metadata": {
    "deletable": true,
    "editable": true
   },
   "source": [
    "## 1.\n",
    "\n",
    "### (a)\n",
    "\n",
    "$$\n",
    "\\int_0^u e^{-q^2x^2}dx = \\frac{\\sqrt \\pi}{2q} \\Phi(qu) \\ , \\ q > 0\n",
    "$$"
   ]
  },
  {
   "cell_type": "markdown",
   "metadata": {
    "collapsed": true,
    "deletable": true,
    "editable": true
   },
   "source": [
    "### (b)"
   ]
  },
  {
   "cell_type": "code",
   "execution_count": 1,
   "metadata": {
    "collapsed": true
   },
   "outputs": [],
   "source": [
    "def equ_integral(q,u):\n",
    "    def f(x):\n",
    "        return np.exp(-q**2 * x**2)\n",
    "    I, abserr = spi.quad(f,0,u)\n",
    "    return I"
   ]
  },
  {
   "cell_type": "markdown",
   "metadata": {},
   "source": [
    "## 2.\n",
    "\n",
    "### (a)\n",
    "\n",
    "$$\n",
    "\\begin{bmatrix} 1 & a & b \\\\ 0 & 1 & c \\\\ 0 & 0 & 1 \\end{bmatrix}\n",
    "\\begin{bmatrix} x \\\\ y \\\\ z \\end{bmatrix} = \n",
    "\\begin{bmatrix} 1 & 0 & 0 \\\\ a & 1 & 0 \\\\ b & c & 1 \\end{bmatrix}\n",
    "\\begin{bmatrix} a \\\\ b \\\\ c \\end{bmatrix}\n",
    "$$"
   ]
  },
  {
   "cell_type": "markdown",
   "metadata": {},
   "source": [
    "### (b)"
   ]
  },
  {
   "cell_type": "code",
   "execution_count": 2,
   "metadata": {
    "collapsed": true
   },
   "outputs": [],
   "source": [
    "def solve_abc(a,b,c):\n",
    "    A = np.array([[1,a,b],[0,1,c],[0,0,1]])\n",
    "    B = np.array([[1,0,0],[a,1,0],[b,c,1]])\n",
    "    y = np.array([a,b,c])\n",
    "    x = la.solve(A,B@y)\n",
    "    return x"
   ]
  },
  {
   "cell_type": "markdown",
   "metadata": {},
   "source": [
    "## 3."
   ]
  },
  {
   "cell_type": "code",
   "execution_count": 3,
   "metadata": {
    "collapsed": true
   },
   "outputs": [],
   "source": [
    "def d_composed(f,g,a=0,h=0.001):\n",
    "    def F(a):\n",
    "        return f(g(a))\n",
    "    return (F(a+h)-F(a-h))/(2*h)"
   ]
  },
  {
   "cell_type": "markdown",
   "metadata": {},
   "source": [
    "## 4."
   ]
  },
  {
   "cell_type": "code",
   "execution_count": 4,
   "metadata": {
    "collapsed": true
   },
   "outputs": [],
   "source": [
    "def arc_length(f,a,b):\n",
    "    def g(x):\n",
    "        return np.sqrt(1 + (derivative(f,x,dx=0.001))**2)\n",
    "    I, abserr = spi.quad(g,a,b)\n",
    "    return I"
   ]
  },
  {
   "cell_type": "markdown",
   "metadata": {},
   "source": [
    "## 5."
   ]
  },
  {
   "cell_type": "code",
   "execution_count": 5,
   "metadata": {
    "collapsed": true
   },
   "outputs": [],
   "source": [
    "def moments(f,n,a,c=0):\n",
    "    L = []\n",
    "    k = 0\n",
    "    while k <= n:\n",
    "        def g(x):\n",
    "            return (x-c)**k * f(x)\n",
    "        mk, abserr = spi.quad(g,-a,a)\n",
    "        L.append(mk)\n",
    "        k += 1\n",
    "    return np.array(L)"
   ]
  },
  {
   "cell_type": "markdown",
   "metadata": {},
   "source": [
    "## 6."
   ]
  },
  {
   "cell_type": "code",
   "execution_count": 6,
   "metadata": {
    "collapsed": true
   },
   "outputs": [],
   "source": [
    "def max_dot(A):\n",
    "    i = 0\n",
    "    n = len(A)\n",
    "    \n",
    "    L = []\n",
    "    while i < n:\n",
    "        j = i+1\n",
    "        ui = A[i]\n",
    "        while j < n:\n",
    "            uj = A[j]\n",
    "            u = np.dot(ui,uj)\n",
    "            L.append(u)\n",
    "            j += 1\n",
    "        i += 1\n",
    "    return max(L)"
   ]
  },
  {
   "cell_type": "markdown",
   "metadata": {},
   "source": [
    "## 7."
   ]
  },
  {
   "cell_type": "code",
   "execution_count": 7,
   "metadata": {
    "collapsed": true
   },
   "outputs": [],
   "source": [
    "def det_plot(A,a,b):\n",
    "    L =[]\n",
    "    n = 0\n",
    "    while n < 1000:\n",
    "        x = np.linspace(-100,100,1000)\n",
    "        f = la.det(A - x[n] * np.eye(len(A)))\n",
    "        n += 1\n",
    "        L.append(f)\n",
    "    plt.plot(x,L),plt.xlim(a,b)"
   ]
  }
 ],
 "metadata": {
  "kernelspec": {
   "display_name": "Python 3",
   "language": "python",
   "name": "python3"
  },
  "language_info": {
   "codemirror_mode": {
    "name": "ipython",
    "version": 3
   },
   "file_extension": ".py",
   "mimetype": "text/x-python",
   "name": "python",
   "nbconvert_exporter": "python",
   "pygments_lexer": "ipython3",
   "version": "3.5.2"
  }
 },
 "nbformat": 4,
 "nbformat_minor": 2
}
