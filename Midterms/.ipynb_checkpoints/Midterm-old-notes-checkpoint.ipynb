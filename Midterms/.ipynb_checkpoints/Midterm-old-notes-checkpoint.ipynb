{
 "cells": [
  {
   "cell_type": "markdown",
   "metadata": {
    "deletable": true,
    "editable": true
   },
   "source": [
    "# MATH 210 Introduction to Mathematical Computing\n",
    "\n",
    "## February 16, 2017\n",
    "\n",
    "## Midterm"
   ]
  },
  {
   "cell_type": "code",
   "execution_count": null,
   "metadata": {
    "collapsed": true,
    "deletable": true,
    "editable": true
   },
   "outputs": [],
   "source": [
    "import numpy as np\n",
    "import matplotlib.pyplot as plt\n",
    "%matplotlib inline"
   ]
  },
  {
   "cell_type": "markdown",
   "metadata": {
    "deletable": true,
    "editable": true
   },
   "source": [
    "## 1."
   ]
  },
  {
   "cell_type": "markdown",
   "metadata": {
    "deletable": true,
    "editable": true
   },
   "source": [
    "### (a)\n",
    "\n",
    "$$\n",
    "\\sum_{k=1}^{\\infty} \\frac{1}{k(2k+1)^2} = 4 - \\frac{\\pi^2}{4} - 2\\ln 2\n",
    "$$"
   ]
  },
  {
   "cell_type": "markdown",
   "metadata": {
    "deletable": true,
    "editable": true
   },
   "source": [
    "### (b)"
   ]
  },
  {
   "cell_type": "code",
   "execution_count": null,
   "metadata": {
    "collapsed": true,
    "deletable": true,
    "editable": true
   },
   "outputs": [],
   "source": [
    "def k_sum(N):\n",
    "    s = 0\n",
    "    for k in range(1,N+1):\n",
    "        s = s + 1/(k*(2*k+1)**2)\n",
    "    return s"
   ]
  },
  {
   "cell_type": "code",
   "execution_count": null,
   "metadata": {
    "collapsed": false,
    "deletable": true,
    "editable": true
   },
   "outputs": [],
   "source": [
    "k_sum(1)"
   ]
  },
  {
   "cell_type": "code",
   "execution_count": null,
   "metadata": {
    "collapsed": false,
    "deletable": true,
    "editable": true
   },
   "outputs": [],
   "source": [
    "1/9"
   ]
  },
  {
   "cell_type": "markdown",
   "metadata": {
    "deletable": true,
    "editable": true
   },
   "source": [
    "## 2.\n",
    "\n",
    "### (a)"
   ]
  },
  {
   "cell_type": "markdown",
   "metadata": {
    "deletable": true,
    "editable": true
   },
   "source": [
    "$$\n",
    "\\prod_{k=1}^{\\infty} (1- \\frac{1}{(2k+1)^2}) = \\frac{\\pi}{4}\n",
    "$$"
   ]
  },
  {
   "cell_type": "markdown",
   "metadata": {
    "deletable": true,
    "editable": true
   },
   "source": [
    "### (b)"
   ]
  },
  {
   "cell_type": "code",
   "execution_count": null,
   "metadata": {
    "collapsed": true,
    "deletable": true,
    "editable": true
   },
   "outputs": [],
   "source": [
    "def k_product(N):\n",
    "    p = 1\n",
    "    for k in range(1,N+1):\n",
    "        p = p * (1 - 1/((2*k+1)**2))\n",
    "    return p"
   ]
  },
  {
   "cell_type": "code",
   "execution_count": null,
   "metadata": {
    "collapsed": false,
    "deletable": true,
    "editable": true
   },
   "outputs": [],
   "source": [
    "k_product(1)"
   ]
  },
  {
   "cell_type": "code",
   "execution_count": null,
   "metadata": {
    "collapsed": false,
    "deletable": true,
    "editable": true
   },
   "outputs": [],
   "source": [
    "8/9"
   ]
  },
  {
   "cell_type": "markdown",
   "metadata": {
    "deletable": true,
    "editable": true
   },
   "source": [
    "## 3."
   ]
  },
  {
   "cell_type": "code",
   "execution_count": null,
   "metadata": {
    "collapsed": true,
    "deletable": true,
    "editable": true
   },
   "outputs": [],
   "source": [
    "def no_squares(N):\n",
    "    L = [ ] \n",
    "    for n in range(2,N // 2 + 2):\n",
    "        if N % n == 0:\n",
    "            if n <= 1:\n",
    "                break\n",
    "            for d in range(2,n):\n",
    "                if n % d == 0:\n",
    "                    break\n",
    "            else:\n",
    "                L.append(n)\n",
    "    \n",
    "    for m in range(2,N):\n",
    "        s = m**2\n",
    "        if N % s == 0:\n",
    "            return 0\n",
    "        else:\n",
    "            if len(L) % 2 == 0:\n",
    "                return 1\n",
    "            else:\n",
    "                return -1\n",
    "            "
   ]
  },
  {
   "cell_type": "code",
   "execution_count": null,
   "metadata": {
    "collapsed": false
   },
   "outputs": [],
   "source": [
    "no_squares(12)"
   ]
  },
  {
   "cell_type": "markdown",
   "metadata": {
    "deletable": true,
    "editable": true
   },
   "source": [
    "## 4."
   ]
  },
  {
   "cell_type": "code",
   "execution_count": null,
   "metadata": {
    "collapsed": true,
    "deletable": true,
    "editable": true
   },
   "outputs": [],
   "source": [
    "def a_sequence(a,x0,N):\n",
    "    xn = x0\n",
    "    for n in range(1,N+1):\n",
    "        xn1 = xn + (a - xn**2)/(2*xn)\n",
    "        xn = xn1\n",
    "    return xn"
   ]
  },
  {
   "cell_type": "code",
   "execution_count": null,
   "metadata": {
    "collapsed": false,
    "deletable": true,
    "editable": true
   },
   "outputs": [],
   "source": [
    "a_sequence(2,1,1)"
   ]
  },
  {
   "cell_type": "markdown",
   "metadata": {
    "deletable": true,
    "editable": true
   },
   "source": [
    "## 5."
   ]
  },
  {
   "cell_type": "code",
   "execution_count": null,
   "metadata": {
    "collapsed": true,
    "deletable": true,
    "editable": true
   },
   "outputs": [],
   "source": [
    "def sum_plot(tau,T,a,b,N):\n",
    "    s = tau/T\n",
    "    for n in range(1,N+1):\n",
    "        t = np.linspace(a,b,N)\n",
    "        s = s + (2/(n*np.pi)) * np.sin((np.pi *n*tau)/T) * np.cos((2*np.pi *n*t)/T)\n",
    "    \n",
    "    plt.plot(t,s)"
   ]
  },
  {
   "cell_type": "code",
   "execution_count": null,
   "metadata": {
    "collapsed": false,
    "deletable": true,
    "editable": true
   },
   "outputs": [],
   "source": [
    "sum_plot(2,np.pi,-2,2,10)"
   ]
  },
  {
   "cell_type": "markdown",
   "metadata": {
    "deletable": true,
    "editable": true
   },
   "source": [
    "## 6."
   ]
  },
  {
   "cell_type": "code",
   "execution_count": null,
   "metadata": {
    "collapsed": true
   },
   "outputs": [],
   "source": [
    "def parametric_plots(r,n,m):\n",
    "    plt.figure(figsize=(2*m,2*n))\n",
    "    N = n*m\n",
    "    f1 = 0\n",
    "    for d in range(1,N+1):\n",
    "        plt.subplot(n,m,d)\n",
    "        t = np.linspace(0,2*np.pi,1000)\n",
    "        x = (r**2 - r)*np.cos(t) + d**2 *np.cos((r-1)*t)\n",
    "        y = (r**2 - r)*np.sin(t) - d**2 *np.sin((r-1)*t)\n",
    "        plt.plot(x,y)\n",
    "        plt.grid('on'), plt.title('N =' + str(d))\n",
    "        plt.tight_layout()"
   ]
  },
  {
   "cell_type": "code",
   "execution_count": null,
   "metadata": {
    "collapsed": false
   },
   "outputs": [],
   "source": [
    "parametric_plots(4,2,4)"
   ]
  },
  {
   "cell_type": "markdown",
   "metadata": {},
   "source": [
    "## 7."
   ]
  },
  {
   "cell_type": "code",
   "execution_count": null,
   "metadata": {
    "collapsed": false
   },
   "outputs": [],
   "source": [
    "def average_divisors(N):\n",
    "    for n in range(1,N+1):\n",
    "        s = 0\n",
    "        L = []\n",
    "        for d in range(1,n // 2 +2):\n",
    "            if N % d == 0:\n",
    "                s = s + d\n",
    "                L.append(d)\n",
    "            else:\n",
    "                break\n",
    "        p = s / len(L)\n",
    "        plt.plot(n,p)"
   ]
  },
  {
   "cell_type": "code",
   "execution_count": null,
   "metadata": {
    "collapsed": false
   },
   "outputs": [],
   "source": [
    "average_divisors(100)"
   ]
  },
  {
   "cell_type": "code",
   "execution_count": null,
   "metadata": {
    "collapsed": true
   },
   "outputs": [],
   "source": [
    "def divisors(i):\n",
    "    d = 0\n",
    "    for j in range(1, i + 1):\n",
    "        if i % j == 0:\n",
    "            d += 1\n",
    "    return d\n",
    "def g(n):\n",
    "    return sum([divisors(i) for i in range(2, n + 1)])\n",
    "\n",
    "def f(n):\n",
    "    return g(n) / (n - 1)\n",
    "\n",
    "def average_divisors(N):\n",
    "    x = range(2, N+1)\n",
    "    y = [f(n) for n in x]\n",
    "    plt.plot(x, y),plt.xlim(2,N),plt.ylim(2,5)"
   ]
  },
  {
   "cell_type": "code",
   "execution_count": null,
   "metadata": {
    "collapsed": false
   },
   "outputs": [],
   "source": [
    "average_divisors(100)"
   ]
  },
  {
   "cell_type": "code",
   "execution_count": null,
   "metadata": {
    "collapsed": true
   },
   "outputs": [],
   "source": []
  }
 ],
 "metadata": {
  "kernelspec": {
   "display_name": "Python 3",
   "language": "python",
   "name": "python3"
  },
  "language_info": {
   "codemirror_mode": {
    "name": "ipython",
    "version": 3
   },
   "file_extension": ".py",
   "mimetype": "text/x-python",
   "name": "python",
   "nbconvert_exporter": "python",
   "pygments_lexer": "ipython3",
   "version": "3.5.2"
  }
 },
 "nbformat": 4,
 "nbformat_minor": 1
}
