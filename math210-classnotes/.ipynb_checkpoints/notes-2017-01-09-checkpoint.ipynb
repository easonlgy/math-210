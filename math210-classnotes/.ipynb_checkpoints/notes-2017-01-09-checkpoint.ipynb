{
 "cells": [
  {
   "cell_type": "markdown",
   "metadata": {},
   "source": [
    "# MATH 210 Introduction to Mathematical Computing\n",
    "## January 9, 2017\n",
    "\n",
    "1. LaTeX Exercises\n",
    "2. Matrices"
   ]
  },
  {
   "cell_type": "markdown",
   "metadata": {},
   "source": [
    "## 1. LaTeX Exercies"
   ]
  },
  {
   "cell_type": "markdown",
   "metadata": {},
   "source": [
    "The **derivative** of f(x) at the point x = a is the limit\n",
    "\n",
    "$$\n",
    "f'(a) = \\lim_{x \\to a} \\frac{f(x) - f(a)}{x - a}\n",
    "$$"
   ]
  },
  {
   "cell_type": "markdown",
   "metadata": {},
   "source": [
    "A function $f(x)$ if **continuous** at a point $x=a$ if\n",
    "$$\n",
    "\\lim_{x \\to a^-} f(x) = f(a) = \\lim_{x \\to a^+} f(x)\n",
    "$$"
   ]
  },
  {
   "cell_type": "markdown",
   "metadata": {},
   "source": [
    "The Navier-Stokes equation is\n",
    "$$\n",
    "\\frac{d \\rho}{d t} = \\frac{\\partial \\rho}{\\partial t} +\n",
    "\\frac{\\partial \\rho}{\\partial x}\\frac{d x}{d t} +\n",
    "\\frac{\\partial \\rho}{\\partial y}\\frac{d x}{d t} +\n",
    "\\frac{\\partial \\rho}{\\partial z}\\frac{d x}{d t}\n",
    "$$"
   ]
  },
  {
   "cell_type": "markdown",
   "metadata": {},
   "source": [
    "The Maclaurin series for $e^x$ is\n",
    "\n",
    "$$\n",
    "e^x = \\sum_{k=0}^{\\infty} \\frac{x^k}{k!}\n",
    "$$"
   ]
  },
  {
   "cell_type": "markdown",
   "metadata": {},
   "source": [
    "## Matrices\n",
    "\n",
    "To create a matrix without braclets, use the syntax\n",
    "```\n",
    "\\begin{pmatrix} a & b \\\\ c & d \\end{pmatrix}\n",
    "```  \n",
    "to display\n",
    "$$\n",
    "\\begin{pmatrix} a & b \\\\ c & d \\end{pmatrix}\n",
    "$$"
   ]
  },
  {
   "cell_type": "markdown",
   "metadata": {},
   "source": [
    "To create a matrix without braclets, use the syntax\n",
    "```\n",
    "\\begin{bmatrix} a & b \\\\ c & d \\end{bmatrix}\n",
    "```  \n",
    "to display\n",
    "$$\n",
    "\\begin{bmatrix} a & b \\\\ c & d \\end{bmatrix}\n",
    "$$\n",
    "\n",
    "To create an augmented matrix, use the syntax\n",
    "```\n",
    "\\left[ \\begin{array} a & b \\\\ c & d \\end{array} \\right]\n",
    "```  \n",
    "to display\n",
    "$$\n",
    "\\left[ \\begin{array}{ccc|c} 0& 1 & -4 & 8 \\\\ 2 & -3 & 2 & 1 \\\\ 5 & -8 & 7 & 1 \\end{array} \\right]\n",
    "$$"
   ]
  },
  {
   "cell_type": "markdown",
   "metadata": {},
   "source": [
    "To enclose large expressions in brackets, use the syntax\n",
    "```\n",
    "\\left( \\frac{1}{2} - 1 \\right)\n",
    "```\n",
    "to display\n",
    "\\left( \\frac{1}{2} - 1 \\right)"
   ]
  },
  {
   "cell_type": "code",
   "execution_count": null,
   "metadata": {
    "collapsed": true
   },
   "outputs": [],
   "source": []
  }
 ],
 "metadata": {
  "kernelspec": {
   "display_name": "Python 3",
   "language": "python",
   "name": "python3"
  },
  "language_info": {
   "codemirror_mode": {
    "name": "ipython",
    "version": 3
   },
   "file_extension": ".py",
   "mimetype": "text/x-python",
   "name": "python",
   "nbconvert_exporter": "python",
   "pygments_lexer": "ipython3",
   "version": "3.5.2"
  }
 },
 "nbformat": 4,
 "nbformat_minor": 1
}
