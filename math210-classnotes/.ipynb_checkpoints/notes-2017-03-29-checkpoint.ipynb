{
 "cells": [
  {
   "cell_type": "markdown",
   "metadata": {},
   "source": [
    "# MATH 210 Introduction to Mathematical Computing\n",
    "\n",
    "## March 29, 2017\n",
    "\n",
    "1. Exploring the World Bank Databank\n",
    "2. Example: GDP per capita (World Bank Open Data)\n",
    "  * Plotting"
   ]
  },
  {
   "cell_type": "code",
   "execution_count": 1,
   "metadata": {
    "collapsed": true
   },
   "outputs": [],
   "source": [
    "import numpy as np\n",
    "import pandas as pd\n",
    "import matplotlib.pyplot as plt\n",
    "%matplotlib inline"
   ]
  },
  {
   "cell_type": "code",
   "execution_count": 25,
   "metadata": {
    "collapsed": false
   },
   "outputs": [],
   "source": [
    "df = pd.read_csv(\"Data.csv\",index_col=1)"
   ]
  },
  {
   "cell_type": "code",
   "execution_count": 26,
   "metadata": {
    "collapsed": false
   },
   "outputs": [
    {
     "data": {
      "text/html": [
       "<div>\n",
       "<table border=\"1\" class=\"dataframe\">\n",
       "  <thead>\n",
       "    <tr style=\"text-align: right;\">\n",
       "      <th></th>\n",
       "      <th>Country Name</th>\n",
       "      <th>GDP per capita (current US$)</th>\n",
       "      <th>Population ages 0-14 (% of total)</th>\n",
       "      <th>Population ages 15-64 (% of total)</th>\n",
       "      <th>Population ages 65 and above (% of total)</th>\n",
       "      <th>Population, total</th>\n",
       "    </tr>\n",
       "    <tr>\n",
       "      <th>Time</th>\n",
       "      <th></th>\n",
       "      <th></th>\n",
       "      <th></th>\n",
       "      <th></th>\n",
       "      <th></th>\n",
       "      <th></th>\n",
       "    </tr>\n",
       "  </thead>\n",
       "  <tbody>\n",
       "    <tr>\n",
       "      <th>1960</th>\n",
       "      <td>Canada</td>\n",
       "      <td>2294.568814</td>\n",
       "      <td>33.732787</td>\n",
       "      <td>58.595321</td>\n",
       "      <td>7.671892</td>\n",
       "      <td>17909009</td>\n",
       "    </tr>\n",
       "    <tr>\n",
       "      <th>1961</th>\n",
       "      <td>Canada</td>\n",
       "      <td>2231.293824</td>\n",
       "      <td>33.856621</td>\n",
       "      <td>58.469762</td>\n",
       "      <td>7.673617</td>\n",
       "      <td>18271000</td>\n",
       "    </tr>\n",
       "    <tr>\n",
       "      <th>1962</th>\n",
       "      <td>Canada</td>\n",
       "      <td>2255.230044</td>\n",
       "      <td>33.859883</td>\n",
       "      <td>58.465016</td>\n",
       "      <td>7.675101</td>\n",
       "      <td>18614000</td>\n",
       "    </tr>\n",
       "    <tr>\n",
       "      <th>1963</th>\n",
       "      <td>Canada</td>\n",
       "      <td>2354.839122</td>\n",
       "      <td>33.754154</td>\n",
       "      <td>58.565452</td>\n",
       "      <td>7.680394</td>\n",
       "      <td>18964000</td>\n",
       "    </tr>\n",
       "    <tr>\n",
       "      <th>1964</th>\n",
       "      <td>Canada</td>\n",
       "      <td>2529.518179</td>\n",
       "      <td>33.557274</td>\n",
       "      <td>58.748797</td>\n",
       "      <td>7.693929</td>\n",
       "      <td>19325000</td>\n",
       "    </tr>\n",
       "  </tbody>\n",
       "</table>\n",
       "</div>"
      ],
      "text/plain": [
       "     Country Name  GDP per capita (current US$)  \\\n",
       "Time                                              \n",
       "1960       Canada                   2294.568814   \n",
       "1961       Canada                   2231.293824   \n",
       "1962       Canada                   2255.230044   \n",
       "1963       Canada                   2354.839122   \n",
       "1964       Canada                   2529.518179   \n",
       "\n",
       "      Population ages 0-14 (% of total)  Population ages 15-64 (% of total)  \\\n",
       "Time                                                                          \n",
       "1960                          33.732787                           58.595321   \n",
       "1961                          33.856621                           58.469762   \n",
       "1962                          33.859883                           58.465016   \n",
       "1963                          33.754154                           58.565452   \n",
       "1964                          33.557274                           58.748797   \n",
       "\n",
       "      Population ages 65 and above (% of total)  Population, total  \n",
       "Time                                                                \n",
       "1960                                   7.671892           17909009  \n",
       "1961                                   7.673617           18271000  \n",
       "1962                                   7.675101           18614000  \n",
       "1963                                   7.680394           18964000  \n",
       "1964                                   7.693929           19325000  "
      ]
     },
     "execution_count": 26,
     "metadata": {},
     "output_type": "execute_result"
    }
   ],
   "source": [
    "df.head()"
   ]
  },
  {
   "cell_type": "code",
   "execution_count": 27,
   "metadata": {
    "collapsed": false
   },
   "outputs": [
    {
     "name": "stdout",
     "output_type": "stream",
     "text": [
      "<class 'pandas.core.frame.DataFrame'>\n",
      "Int64Index: 56 entries, 1960 to 2015\n",
      "Data columns (total 6 columns):\n",
      "Country Name                                 56 non-null object\n",
      "GDP per capita (current US$)                 56 non-null float64\n",
      "Population ages 0-14 (% of total)            56 non-null float64\n",
      "Population ages 15-64 (% of total)           56 non-null float64\n",
      "Population ages 65 and above (% of total)    56 non-null float64\n",
      "Population, total                            56 non-null int64\n",
      "dtypes: float64(4), int64(1), object(1)\n",
      "memory usage: 3.1+ KB\n"
     ]
    }
   ],
   "source": [
    "df.info()"
   ]
  },
  {
   "cell_type": "code",
   "execution_count": 29,
   "metadata": {
    "collapsed": false
   },
   "outputs": [
    {
     "data": {
      "text/plain": [
       "<matplotlib.axes._subplots.AxesSubplot at 0x7f2ecdd9d208>"
      ]
     },
     "execution_count": 29,
     "metadata": {},
     "output_type": "execute_result"
    },
    {
     "data": {
      "image/png": "[encoded data removed]",
      "text/plain": [
       "<matplotlib.figure.Figure at 0x7f2ecdda4898>"
      ]
     },
     "metadata": {},
     "output_type": "display_data"
    }
   ],
   "source": [
    "df['GDP per capita (current US$)'].plot()"
   ]
  },
  {
   "cell_type": "code",
   "execution_count": 31,
   "metadata": {
    "collapsed": false
   },
   "outputs": [],
   "source": [
    "nba = pd.read_csv(\"http://www.math.ubc.ca/~pwalls/data/nba-data.csv\")"
   ]
  },
  {
   "cell_type": "code",
   "execution_count": 34,
   "metadata": {
    "collapsed": false
   },
   "outputs": [
    {
     "data": {
      "text/html": [
       "<div>\n",
       "<table border=\"1\" class=\"dataframe\">\n",
       "  <thead>\n",
       "    <tr style=\"text-align: right;\">\n",
       "      <th></th>\n",
       "      <th>team</th>\n",
       "      <th>date</th>\n",
       "      <th>homeOrAway</th>\n",
       "      <th>opponent</th>\n",
       "      <th>teamScore</th>\n",
       "      <th>opponentScore</th>\n",
       "      <th>result</th>\n",
       "      <th>wins</th>\n",
       "      <th>losses</th>\n",
       "      <th>winDifferential</th>\n",
       "    </tr>\n",
       "  </thead>\n",
       "  <tbody>\n",
       "    <tr>\n",
       "      <th>0</th>\n",
       "      <td>ATL</td>\n",
       "      <td>Oct 29</td>\n",
       "      <td>Away</td>\n",
       "      <td>TOR</td>\n",
       "      <td>102</td>\n",
       "      <td>109</td>\n",
       "      <td>L</td>\n",
       "      <td>0</td>\n",
       "      <td>1</td>\n",
       "      <td>-1</td>\n",
       "    </tr>\n",
       "    <tr>\n",
       "      <th>1</th>\n",
       "      <td>ATL</td>\n",
       "      <td>Nov 01</td>\n",
       "      <td>Home</td>\n",
       "      <td>IND</td>\n",
       "      <td>102</td>\n",
       "      <td>92</td>\n",
       "      <td>W</td>\n",
       "      <td>1</td>\n",
       "      <td>1</td>\n",
       "      <td>0</td>\n",
       "    </tr>\n",
       "    <tr>\n",
       "      <th>2</th>\n",
       "      <td>ATL</td>\n",
       "      <td>Nov 05</td>\n",
       "      <td>Away</td>\n",
       "      <td>SAS</td>\n",
       "      <td>92</td>\n",
       "      <td>94</td>\n",
       "      <td>L</td>\n",
       "      <td>1</td>\n",
       "      <td>2</td>\n",
       "      <td>-1</td>\n",
       "    </tr>\n",
       "    <tr>\n",
       "      <th>3</th>\n",
       "      <td>ATL</td>\n",
       "      <td>Nov 07</td>\n",
       "      <td>Away</td>\n",
       "      <td>CHA</td>\n",
       "      <td>119</td>\n",
       "      <td>122</td>\n",
       "      <td>L</td>\n",
       "      <td>1</td>\n",
       "      <td>3</td>\n",
       "      <td>-2</td>\n",
       "    </tr>\n",
       "    <tr>\n",
       "      <th>4</th>\n",
       "      <td>ATL</td>\n",
       "      <td>Nov 08</td>\n",
       "      <td>Home</td>\n",
       "      <td>NYK</td>\n",
       "      <td>103</td>\n",
       "      <td>96</td>\n",
       "      <td>W</td>\n",
       "      <td>2</td>\n",
       "      <td>3</td>\n",
       "      <td>-1</td>\n",
       "    </tr>\n",
       "  </tbody>\n",
       "</table>\n",
       "</div>"
      ],
      "text/plain": [
       "  team    date homeOrAway opponent  teamScore  opponentScore result  wins  \\\n",
       "0  ATL  Oct 29       Away      TOR        102            109      L     0   \n",
       "1  ATL  Nov 01       Home      IND        102             92      W     1   \n",
       "2  ATL  Nov 05       Away      SAS         92             94      L     1   \n",
       "3  ATL  Nov 07       Away      CHA        119            122      L     1   \n",
       "4  ATL  Nov 08       Home      NYK        103             96      W     2   \n",
       "\n",
       "   losses  winDifferential  \n",
       "0       1               -1  \n",
       "1       1                0  \n",
       "2       2               -1  \n",
       "3       3               -2  \n",
       "4       3               -1  "
      ]
     },
     "execution_count": 34,
     "metadata": {},
     "output_type": "execute_result"
    }
   ],
   "source": [
    "nba.head()"
   ]
  },
  {
   "cell_type": "code",
   "execution_count": 37,
   "metadata": {
    "collapsed": false
   },
   "outputs": [
    {
     "name": "stdout",
     "output_type": "stream",
     "text": [
      "<class 'pandas.core.frame.DataFrame'>\n",
      "RangeIndex: 2378 entries, 0 to 2377\n",
      "Data columns (total 10 columns):\n",
      "team               2378 non-null object\n",
      "date               2378 non-null object\n",
      "homeOrAway         2378 non-null object\n",
      "opponent           2378 non-null object\n",
      "teamScore          2378 non-null int64\n",
      "opponentScore      2378 non-null int64\n",
      "result             2378 non-null object\n",
      "wins               2378 non-null int64\n",
      "losses             2378 non-null int64\n",
      "winDifferential    2378 non-null int64\n",
      "dtypes: int64(5), object(5)\n",
      "memory usage: 185.9+ KB\n"
     ]
    }
   ],
   "source": [
    "nba.info()"
   ]
  },
  {
   "cell_type": "code",
   "execution_count": 39,
   "metadata": {
    "collapsed": true
   },
   "outputs": [],
   "source": [
    "teams = nba['team'].unique()"
   ]
  },
  {
   "cell_type": "code",
   "execution_count": 40,
   "metadata": {
    "collapsed": false
   },
   "outputs": [
    {
     "data": {
      "text/plain": [
       "array(['ATL', 'BKN', 'BOS', 'CHA', 'CHI', 'CLE', 'DEN', 'DET', 'GS', 'HOU',\n",
       "       'IND', 'LAC', 'LAL', 'MEM', 'MIA', 'MIL', 'MIN', 'NOP', 'NYK',\n",
       "       'OKC', 'ORL', 'PHI', 'PHO', 'POR', 'SAC', 'SAS', 'TOR', 'UTA', 'WAS'], dtype=object)"
      ]
     },
     "execution_count": 40,
     "metadata": {},
     "output_type": "execute_result"
    }
   ],
   "source": [
    "teams"
   ]
  },
  {
   "cell_type": "code",
   "execution_count": 41,
   "metadata": {
    "collapsed": true
   },
   "outputs": [],
   "source": [
    "TOR = nba[nba['team'] == 'TOR']"
   ]
  },
  {
   "cell_type": "code",
   "execution_count": 43,
   "metadata": {
    "collapsed": false
   },
   "outputs": [
    {
     "data": {
      "text/plain": [
       "<matplotlib.axes._subplots.AxesSubplot at 0x7f2ec660ab00>"
      ]
     },
     "execution_count": 43,
     "metadata": {},
     "output_type": "execute_result"
    },
    {
     "data": {
      "image/png": "[encoded data removed]",
      "text/plain": [
       "<matplotlib.figure.Figure at 0x7f2ec660b6d8>"
      ]
     },
     "metadata": {},
     "output_type": "display_data"
    }
   ],
   "source": [
    "TOR['winDifferential'].plot()"
   ]
  },
  {
   "cell_type": "code",
   "execution_count": 45,
   "metadata": {
    "collapsed": false
   },
   "outputs": [],
   "source": [
    "GS = nba[nba['team'] == 'GS']"
   ]
  },
  {
   "cell_type": "code",
   "execution_count": 46,
   "metadata": {
    "collapsed": false
   },
   "outputs": [
    {
     "data": {
      "text/plain": [
       "<matplotlib.axes._subplots.AxesSubplot at 0x7f2ec6540da0>"
      ]
     },
     "execution_count": 46,
     "metadata": {},
     "output_type": "execute_result"
    },
    {
     "data": {
      "image/png": "[encoded data removed]",
      "text/plain": [
       "<matplotlib.figure.Figure at 0x7f2ec654f208>"
      ]
     },
     "metadata": {},
     "output_type": "display_data"
    }
   ],
   "source": [
    "GS['winDifferential'].plot()"
   ]
  },
  {
   "cell_type": "code",
   "execution_count": 49,
   "metadata": {
    "collapsed": true
   },
   "outputs": [],
   "source": [
    "nba_races = nba.groupby('team')['winDifferential']"
   ]
  },
  {
   "cell_type": "code",
   "execution_count": 51,
   "metadata": {
    "collapsed": false
   },
   "outputs": [
    {
     "data": {
      "text/plain": [
       "0      -1\n",
       "1       0\n",
       "2      -1\n",
       "3      -2\n",
       "4      -1\n",
       "82     -1\n",
       "83      0\n",
       "84      1\n",
       "85      0\n",
       "86      1\n",
       "164     1\n",
       "165     0\n",
       "166    -1\n",
       "167    -2\n",
       "168    -1\n",
       "246     1\n",
       "247     0\n",
       "248    -1\n",
       "249    -2\n",
       "250    -1\n",
       "328     1\n",
       "329     0\n",
       "330     1\n",
       "331     2\n",
       "332     3\n",
       "410    -1\n",
       "411     0\n",
       "412    -1\n",
       "413    -2\n",
       "414    -1\n",
       "       ..\n",
       "1886    1\n",
       "1887    0\n",
       "1888   -1\n",
       "1889    0\n",
       "1890    1\n",
       "1968   -1\n",
       "1969    0\n",
       "1970    1\n",
       "1971    2\n",
       "1972    3\n",
       "2050    1\n",
       "2051    0\n",
       "2052    1\n",
       "2053    0\n",
       "2054   -1\n",
       "2132    1\n",
       "2133    2\n",
       "2134    1\n",
       "2135    2\n",
       "2136    3\n",
       "2214   -1\n",
       "2215   -2\n",
       "2216   -1\n",
       "2217   -2\n",
       "2218   -1\n",
       "2296   -1\n",
       "2297    0\n",
       "2298    1\n",
       "2299    2\n",
       "2300    3\n",
       "Name: winDifferential, dtype: int64"
      ]
     },
     "execution_count": 51,
     "metadata": {},
     "output_type": "execute_result"
    }
   ],
   "source": [
    "nba_races.head()"
   ]
  },
  {
   "cell_type": "code",
   "execution_count": null,
   "metadata": {
    "collapsed": true
   },
   "outputs": [],
   "source": []
  }
 ],
 "metadata": {
  "kernelspec": {
   "display_name": "Python 3",
   "language": "python",
   "name": "python3"
  },
  "language_info": {
   "codemirror_mode": {
    "name": "ipython",
    "version": 3
   },
   "file_extension": ".py",
   "mimetype": "text/x-python",
   "name": "python",
   "nbconvert_exporter": "python",
   "pygments_lexer": "ipython3",
   "version": "3.5.2"
  }
 },
 "nbformat": 4,
 "nbformat_minor": 2
}
