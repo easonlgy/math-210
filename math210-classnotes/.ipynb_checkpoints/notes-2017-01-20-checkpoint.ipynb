{
 "cells": [
  {
   "cell_type": "markdown",
   "metadata": {},
   "source": [
    "# MATH 210 Introducint to Mathematical Computing\n",
    "\n",
    "## January 20, 2017\n",
    "\n",
    "1. More about functions\n",
    "  * Examples\n",
    "  * Documentation\n",
    "2. For loops\n",
    "3. Exercises"
   ]
  },
  {
   "cell_type": "markdown",
   "metadata": {},
   "source": [
    "## 1. More about functions\n",
    "\n",
    "The syntax for writing a function is:\n",
    "\n",
    "1. Start with the `def` keyword\n",
    "2. Choose a function name\n",
    "3. List of input parameters (within parentheses) ending with a colon:\n",
    "4. Body of the function is all indented 4 spaces\n",
    "5. Use `return` keyword to give the return value\n",
    "6. Write a ducumentation string in the first line after `def` "
   ]
  },
  {
   "cell_type": "markdown",
   "metadata": {},
   "source": [
    "Write a function called `harmonic_mean` which takes 1 input parameter, a list of positive numbers and a nonzero number $p$, and returns the [harmonic mean](https://en.wikipedia.org/wiki/Harmonic_mean) of the numbers in the list:![harmonic mean](https://wikimedia.org/api/rest_v1/media/math/render/svg/753130a05a1fab890e5785924b5bdbb5f97c8b6a)"
   ]
  },
  {
   "cell_type": "code",
   "execution_count": 16,
   "metadata": {
    "collapsed": false
   },
   "outputs": [],
   "source": [
    "def harmonic_mean(list_of_numbers):\n",
    "    \"Compute the harmonic mean of a list of positive numbers.\"\n",
    "    if min(list_of_numbers) <= 0:\n",
    "        print('Error: All number in the list must be greater than 0.')\n",
    "        return None\n",
    "    else:\n",
    "        n = len(list_of_numbers)\n",
    "        terms = [1/x for x in list_of_numbers]\n",
    "        return n / sum(terms)\n"
   ]
  },
  {
   "cell_type": "code",
   "execution_count": 17,
   "metadata": {
    "collapsed": true
   },
   "outputs": [],
   "source": [
    "harmonic_mean?"
   ]
  },
  {
   "cell_type": "code",
   "execution_count": 10,
   "metadata": {
    "collapsed": false
   },
   "outputs": [
    {
     "data": {
      "text/plain": [
       "1.0"
      ]
     },
     "execution_count": 10,
     "metadata": {},
     "output_type": "execute_result"
    }
   ],
   "source": [
    "harmonic_mean([1,1])"
   ]
  },
  {
   "cell_type": "code",
   "execution_count": 11,
   "metadata": {
    "collapsed": false
   },
   "outputs": [
    {
     "data": {
      "text/plain": [
       "1.9200000000000004"
      ]
     },
     "execution_count": 11,
     "metadata": {},
     "output_type": "execute_result"
    }
   ],
   "source": [
    "harmonic_mean([1,2,3,4])"
   ]
  },
  {
   "cell_type": "code",
   "execution_count": 12,
   "metadata": {
    "collapsed": false
   },
   "outputs": [
    {
     "data": {
      "text/plain": [
       "1.9200000000000004"
      ]
     },
     "execution_count": 12,
     "metadata": {},
     "output_type": "execute_result"
    }
   ],
   "source": [
    "4/(1/1 + 1/2 + 1/3 + 1/4)"
   ]
  },
  {
   "cell_type": "code",
   "execution_count": 13,
   "metadata": {
    "collapsed": false
   },
   "outputs": [
    {
     "name": "stdout",
     "output_type": "stream",
     "text": [
      "Error: All number in the list must be greater than 0.\n"
     ]
    }
   ],
   "source": [
    "harmonic_mean([1,1,0,1])"
   ]
  },
  {
   "cell_type": "code",
   "execution_count": 14,
   "metadata": {
    "collapsed": false
   },
   "outputs": [
    {
     "name": "stdout",
     "output_type": "stream",
     "text": [
      "Error: All number in the list must be greater than 0.\n"
     ]
    }
   ],
   "source": [
    "harmonic_mean([1,2,3,4,5,6,-10])"
   ]
  },
  {
   "cell_type": "code",
   "execution_count": 18,
   "metadata": {
    "collapsed": true
   },
   "outputs": [],
   "source": [
    "len?"
   ]
  },
  {
   "cell_type": "code",
   "execution_count": 19,
   "metadata": {
    "collapsed": true
   },
   "outputs": [],
   "source": [
    "sum?"
   ]
  },
  {
   "cell_type": "markdown",
   "metadata": {},
   "source": [
    "## 2. For loops\n",
    "\n",
    "A for loop allows us to execute a block of code multiple times (with some parameters updated each time through the loop). The syntax for writing a for loop is:\n",
    "\n",
    "1. Start with `for` keyword\n",
    "2. Choose a variable name followed by `in` and then a list (or iterable) to loop over and end the line with a colon`:`\n",
    "3. A block of code indented 4 spaces which excutes each time through the loop"
   ]
  },
  {
   "cell_type": "code",
   "execution_count": 20,
   "metadata": {
    "collapsed": false
   },
   "outputs": [
    {
     "name": "stdout",
     "output_type": "stream",
     "text": [
      "0 squared is 0\n",
      "1 squared is 1\n",
      "2 squared is 4\n",
      "3 squared is 9\n",
      "4 squared is 16\n",
      "5 squared is 25\n"
     ]
    }
   ],
   "source": [
    "for n in [0,1,2,3,4,5]:\n",
    "    square = n**2\n",
    "    print(n,'squared is',square)"
   ]
  },
  {
   "cell_type": "markdown",
   "metadata": {},
   "source": [
    "Copy and paste this code into Python visualizer to see how a for loop works!"
   ]
  },
  {
   "cell_type": "markdown",
   "metadata": {},
   "source": [
    "Write a function called `is_prime` whcih takes one input parameter `N` and returns `True` or `False` depending on whether `N` is prime or not."
   ]
  },
  {
   "cell_type": "code",
   "execution_count": 31,
   "metadata": {
    "collapsed": false
   },
   "outputs": [],
   "source": [
    "def is_prime(N):\n",
    "    \"determine whether or not N is a prime number.\"\n",
    "    \n",
    "    if N <= 1:\n",
    "        return False\n",
    "    # N is prime if N is only divisable by 1 and itself\n",
    "    # We should test whether N is divisable by d for all 1 < d < N\n",
    "    for d in range(2,N):\n",
    "        # Check if N is divisible by d\n",
    "        if N % d == 0:\n",
    "            return False\n",
    "    # If we exit the for loop, then N is not divisible by any d\n",
    "    # There N is prime\n",
    "    return True"
   ]
  },
  {
   "cell_type": "code",
   "execution_count": 30,
   "metadata": {
    "collapsed": false
   },
   "outputs": [
    {
     "name": "stdout",
     "output_type": "stream",
     "text": [
      "20011 is prime!\n",
      "20021 is prime!\n",
      "20023 is prime!\n",
      "20029 is prime!\n",
      "20047 is prime!\n",
      "20051 is prime!\n",
      "20063 is prime!\n",
      "20071 is prime!\n",
      "20089 is prime!\n"
     ]
    }
   ],
   "source": [
    "for n in range (20000,20100):\n",
    "    if is_prime(n):\n",
    "        print(n,'is prime!')"
   ]
  },
  {
   "cell_type": "code",
   "execution_count": 23,
   "metadata": {
    "collapsed": false
   },
   "outputs": [
    {
     "data": {
      "text/plain": [
       "True"
      ]
     },
     "execution_count": 23,
     "metadata": {},
     "output_type": "execute_result"
    }
   ],
   "source": [
    "is_prime(3)"
   ]
  },
  {
   "cell_type": "code",
   "execution_count": null,
   "metadata": {
    "collapsed": true
   },
   "outputs": [],
   "source": []
  }
 ],
 "metadata": {
  "kernelspec": {
   "display_name": "Python 3",
   "language": "python",
   "name": "python3"
  },
  "language_info": {
   "codemirror_mode": {
    "name": "ipython",
    "version": 3
   },
   "file_extension": ".py",
   "mimetype": "text/x-python",
   "name": "python",
   "nbconvert_exporter": "python",
   "pygments_lexer": "ipython3",
   "version": "3.5.2"
  }
 },
 "nbformat": 4,
 "nbformat_minor": 1
}
