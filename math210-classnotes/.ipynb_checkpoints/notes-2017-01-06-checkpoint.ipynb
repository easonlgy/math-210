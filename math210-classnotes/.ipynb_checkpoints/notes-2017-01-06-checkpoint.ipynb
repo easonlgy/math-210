{
 "cells": [
  {
   "cell_type": "markdown",
   "metadata": {},
   "source": [
    "# MATH 210 Introduction to Mathematical Computing\n",
    "## January 6, 2017\n",
    "Today's Agenda:\n",
    "1. Jupyter Notebooks\n",
    "2. Markdown Language\n",
    "3. LaTeX\n",
    "4. Exercises"
   ]
  },
  {
   "cell_type": "markdown",
   "metadata": {},
   "source": [
    "## 1. Jupyter Notebooks\n",
    "\n",
    "check out the webpage [jupyter.org](http://jupyter.org). The Jupyter notebook is a web application that allows you to create and share documents that contain code, equations,images and text.\n",
    "\n",
    "See Help in the menu bat above for more infomation, keyboard shortcuts, User Interface Tour."
   ]
  },
  {
   "cell_type": "markdown",
   "metadata": {},
   "source": [
    "### Cells\n",
    "\n",
    "We will use two kinds of cells: markdown cells and code cells. Notice that the kind of cell is indicated in the toolbar above.\n",
    "\n",
    "Hit shift + enter to excute the contents of a cell\n",
    "\n",
    "**Markdown cell** contain:\n",
    "\n",
    "* Markdown code\n",
    "* HTML\n",
    "* LaTeX\n",
    "* Plain text\n",
    "* Images\n",
    "* Videos\n",
    "* *Anything* that a browser can understand\n",
    "\n",
    "For more information about Markdown see [daringfireball.net/projects/markdown/syntax](https://daringfireball.net/projects/markdown/syntax)"
   ]
  },
  {
   "cell_type": "markdown",
   "metadata": {},
   "source": [
    "### Modes\n",
    "\n",
    "There are 2 modes: **edit mode** and **command mode**. Press ESC to enter command mode and ENTER for edit mode.\n",
    "\n",
    "Edit mode allows you to write code, text, markdown, etc. in the cell. The green border indicates when the cell is in edit mode.\n",
    "\n",
    "Command mode allows you to enter keyboard shortcuts to edit the notebook itself. For example:\n",
    "\n",
    "* hitting s in command mode saves the notebook\n",
    "* hitting x in command mode cuts the active cell\n",
    "* hitting a in command mode inserts a new cell above the active cell\n",
    "\n",
    "See Help in the menu bar for more Keyboard shortcuts."
   ]
  },
  {
   "cell_type": "markdown",
   "metadata": {},
   "source": [
    "## 2. Markdown Language\n",
    "\n",
    "[Markdown Language](https://en.wikipedia.org/wiki/Markdown) is an easy-to-read text format which converts to HTML.\n",
    "\n",
    "Afew features of markdown:\n",
    "\n",
    "* create *italics* with asterisks `*italics*`\n",
    "* create **bold text** with double asterisks `**bold text**`\n",
    "* enclose text in backticks \\`...\\` to display plain text with no formatting\n",
    "* create a link [UBC Math](https://www.math.ubc.ca) with brackets `[UBC Math](https://www.math.ubc.ca)`\n",
    "* ** *word* ** up\n",
    "* display an image similar to a link but with a leading !\n",
    "\n",
    "![Python Logo](https://www.python.org/static/community_logos/python-logo-master-v3-TM.png)\n",
    "\n",
    "(Image courtesy of [python.org](https://python.org))\n",
    "* create headings with hashtages `#`\n",
    "* create ordered lists with numbers and unordered lists with asterisks. For example:\n",
    "\n",
    " * Math\n",
    "   1. Math 210\n",
    "   2. Math 100\n",
    "   3. Math 104\n",
    " * Engg\n",
    "   1. Engg 221\n",
    "   2. Engg 222"
   ]
  },
  {
   "cell_type": "markdown",
   "metadata": {},
   "source": [
    "## 3. LaTeX\n",
    "\n",
    "LaTeX is a typesetting language for mathematics. We are going to use a small part of LaTeX to display math equations in Jupyter notebooks. See the [LaTeX WikiBook](https://en.wikibooks.org/wiki/LaTeX) for more information. Especially the section on [mathematics](https://en.wikibooks.org/wiki/LaTeX/Mathematics).\n",
    "\n",
    "Enclose LaTeX code with dollar sign `\\$ ... \\$\\$` to display math equations inline. For example, \n",
    "the code `$\\int_a^b f(x) dx = F(b) -F(a)$` renders as $\\int_a^b f(x) dx = F(b) -F(a)$.\n",
    "\n",
    "Enclose LaTeX code with dollar sign `\\$\\$ ... \\$$` to display math equations in a seperate paragraph. For example, \n",
    "the code `$$\\int_a^b f(x) dx = F(b) -F(a)$$` renders as $$\\int_a^b f(x) dx = F(b) -F(a)$$."
   ]
  },
  {
   "cell_type": "markdown",
   "metadata": {
    "collapsed": true
   },
   "source": [
    "## 4. Exercises\n",
    "\n",
    "1. Make a list (in markdown language) of the top 5 websites you visit most often and include a link for each site.\n",
    "2. Make a list of your top 5 favourite mathematicians, provide links to their Wikipedia pages and include images of each mathematician (with a link to the source).\n",
    "3. Write LaTeX code to display the [Navier-Stokes Equation for Incompressible Flow](https://en.wikipedia.org/wiki/Navier%E2%80%93Stokes_equations)\n",
    "![Navier](https://upload.wikimedia.org/math/3/c/1/3c1db8f51e4830c7450041e3faff30d0.png)\n",
    "4. Write LaTeX code to display [Green's Theorem](https://en.wikipedia.org/wiki/Green%27s_theorem)\n",
    "![Green](https://upload.wikimedia.org/math/6/9/a/69a456d0e41ae9b609f7437fa0c73f79.png)\n",
    "5. Write LaTeX code to display the [Prime Number Theorem](https://en.wikipedia.org/wiki/Prime_number_theorem)\n",
    "![Prime](https://upload.wikimedia.org/math/f/7/7/f77f90fe2b293aa9f1a75e21dcf2194a.png)"
   ]
  }
 ],
 "metadata": {
  "kernelspec": {
   "display_name": "Python 3",
   "language": "python",
   "name": "python3"
  },
  "language_info": {
   "codemirror_mode": {
    "name": "ipython",
    "version": 3
   },
   "file_extension": ".py",
   "mimetype": "text/x-python",
   "name": "python",
   "nbconvert_exporter": "python",
   "pygments_lexer": "ipython3",
   "version": "3.5.2"
  }
 },
 "nbformat": 4,
 "nbformat_minor": 1
}
