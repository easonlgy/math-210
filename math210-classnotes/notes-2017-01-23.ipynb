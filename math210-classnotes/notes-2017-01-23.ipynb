{
 "cells": [
  {
   "cell_type": "markdown",
   "metadata": {},
   "source": [
    "# MATH 210 Introducing to Mathematical Computing\n",
    "\n",
    "## January 23, 2017\n",
    "\n",
    "1. More about for lops\n",
    "  * Constructing sequences\n",
    "    * Sequences by formulas (nonrecursive)\n",
    "    * Recursive sequences\n",
    "2. while loops\n",
    "3. Exercises"
   ]
  },
  {
   "cell_type": "markdown",
   "metadata": {},
   "source": [
    "## 1. More about for loops\n",
    "\n",
    "### Constructing Sequences\n",
    "\n",
    "There are several ways to construct a sequence of values and to save them as a Python list.\n",
    "\n",
    "For example, we have list comprehensions:"
   ]
  },
  {
   "cell_type": "code",
   "execution_count": 1,
   "metadata": {
    "collapsed": false
   },
   "outputs": [
    {
     "data": {
      "text/plain": [
       "[1, 4, 9, 16, 25, 36, 49, 64, 81]"
      ]
     },
     "execution_count": 1,
     "metadata": {},
     "output_type": "execute_result"
    }
   ],
   "source": [
    "[d**2 for d in range(1,10)]"
   ]
  },
  {
   "cell_type": "markdown",
   "metadata": {},
   "source": [
    "But we can only use list comprehensions when the sequence values are defined by a formula. This is called a nonrecursive sequence."
   ]
  },
  {
   "cell_type": "markdown",
   "metadata": {},
   "source": [
    "But what if we want to construct a sequence where the next value depends on the previous value? Consider the Fibonacci sequence:"
   ]
  },
  {
   "cell_type": "markdown",
   "metadata": {},
   "source": [
    "$$\n",
    "x_1 = 1, x_2 = 1, x_3 = 2, x_4 = 3, x_5 = 5\n",
    "$$\n",
    "\n",
    "where $$x_{n} = x_{n-1} + x_{n-2}$$\n",
    "\n",
    "We can't use a list comprehension to build the list of Fibonacci numbers, and so we use a for loop instead."
   ]
  },
  {
   "cell_type": "code",
   "execution_count": 3,
   "metadata": {
    "collapsed": false
   },
   "outputs": [
    {
     "name": "stdout",
     "output_type": "stream",
     "text": [
      "[1, 1, 2]\n",
      "[1, 1, 2, 3]\n",
      "[1, 1, 2, 3, 5]\n",
      "[1, 1, 2, 3, 5, 8]\n",
      "[1, 1, 2, 3, 5, 8, 13]\n",
      "[1, 1, 2, 3, 5, 8, 13, 21]\n",
      "[1, 1, 2, 3, 5, 8, 13, 21, 34]\n",
      "[1, 1, 2, 3, 5, 8, 13, 21, 34, 55]\n",
      "[1, 1, 2, 3, 5, 8, 13, 21, 34, 55, 89]\n",
      "[1, 1, 2, 3, 5, 8, 13, 21, 34, 55, 89, 144]\n",
      "[1, 1, 2, 3, 5, 8, 13, 21, 34, 55, 89, 144, 233]\n",
      "[1, 1, 2, 3, 5, 8, 13, 21, 34, 55, 89, 144, 233, 377]\n",
      "[1, 1, 2, 3, 5, 8, 13, 21, 34, 55, 89, 144, 233, 377, 610]\n"
     ]
    }
   ],
   "source": [
    "fib_list = [1,1]\n",
    "for n in range (2,15):\n",
    "    fib_list_n = fib_list[n-1] + fib_list[n-2]\n",
    "    fib_list.append(fib_list_n)\n",
    "    print(fib_list)"
   ]
  },
  {
   "cell_type": "markdown",
   "metadata": {},
   "source": [
    "Let's write a function called `fib_less_than` which takes one input $N$ and returns the list of Fibonacci numbers less than $N$."
   ]
  },
  {
   "cell_type": "code",
   "execution_count": 4,
   "metadata": {
    "collapsed": true
   },
   "outputs": [],
   "source": [
    "def fib_less_than(N):\n",
    "    \"\"\"Compute the list of Fibonacci numbers less than N.\"\"\"\n",
    "    fib_list = [1,1]\n",
    "    for n in range (2,N):\n",
    "        fib_list_n = fib_list[n-1] + fib_list[n-2]\n",
    "        if fib_list_n < N:\n",
    "            fib_list.append(fib_list_n)\n",
    "        else:\n",
    "            # Stop the loop if the last Fibonacci number computed is bigger than N\n",
    "            break\n",
    "    return fib_list"
   ]
  },
  {
   "cell_type": "code",
   "execution_count": 5,
   "metadata": {
    "collapsed": false
   },
   "outputs": [
    {
     "data": {
      "text/plain": [
       "[1, 1, 2, 3, 5, 8, 13, 21, 34, 55, 89]"
      ]
     },
     "execution_count": 5,
     "metadata": {},
     "output_type": "execute_result"
    }
   ],
   "source": [
    "fib_less_than(100)"
   ]
  },
  {
   "cell_type": "markdown",
   "metadata": {},
   "source": [
    "Write a function called `collatz` which takes one input parameter $a$ and computes tha Collatz sequence defined by:\n",
    "\n",
    "$$\n",
    "x_{n+1} =  \\begin{array} 1x_n / 2 & \\text{if} x_n \\text{is even} \\\\ 3x_n + 1 & \\text{if} x_n \\text{is odd} \\end{array} \n",
    "$$\n",
    "where x_0 = a and the sequence terminates at 1."
   ]
  },
  {
   "cell_type": "markdown",
   "metadata": {},
   "source": [
    "For example, if $a = 10$ then $x_1 = 5$, $x_2 = 16$, $x_3 = 8$, $x_4 = 4$, $x_5 = 2$ and $x_6 = 1$."
   ]
  },
  {
   "cell_type": "code",
   "execution_count": 8,
   "metadata": {
    "collapsed": true
   },
   "outputs": [],
   "source": [
    "def collatz(a):\n",
    "    \"\"\"Compute the Collatz sequence starting at a.\"\"\"\n",
    "    # Initialize the sequence with the first value a.\n",
    "    x_list = [a]\n",
    "    # Continue computing values in the sequence until we reach 1.\n",
    "    while x_list[-1] != 1:\n",
    "        # Check if the lst element in the list is even\n",
    "        if x_list[-1] % 2 == 0:\n",
    "            # Compute and append the new values\n",
    "            x_list.append(x_list[-1] // 2)\n",
    "        else:\n",
    "            # Compute and append the new values\n",
    "            x_list.append(3*x_list[-1] + 1)\n",
    "    return (x_list)"
   ]
  },
  {
   "cell_type": "code",
   "execution_count": 9,
   "metadata": {
    "collapsed": false
   },
   "outputs": [
    {
     "data": {
      "text/plain": [
       "[10, 5, 16, 8, 4, 2, 1]"
      ]
     },
     "execution_count": 9,
     "metadata": {},
     "output_type": "execute_result"
    }
   ],
   "source": [
    "collatz(10)"
   ]
  },
  {
   "cell_type": "code",
   "execution_count": null,
   "metadata": {
    "collapsed": true
   },
   "outputs": [],
   "source": []
  }
 ],
 "metadata": {
  "kernelspec": {
   "display_name": "Python 3",
   "language": "python",
   "name": "python3"
  },
  "language_info": {
   "codemirror_mode": {
    "name": "ipython",
    "version": 3
   },
   "file_extension": ".py",
   "mimetype": "text/x-python",
   "name": "python",
   "nbconvert_exporter": "python",
   "pygments_lexer": "ipython3",
   "version": "3.5.2"
  }
 },
 "nbformat": 4,
 "nbformat_minor": 1
}
