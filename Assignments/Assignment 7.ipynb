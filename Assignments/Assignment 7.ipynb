{
 "cells": [
  {
   "cell_type": "markdown",
   "metadata": {
    "deletable": true,
    "editable": true
   },
   "source": [
    "# Assignment 7"
   ]
  },
  {
   "cell_type": "code",
   "execution_count": 1,
   "metadata": {
    "collapsed": true,
    "deletable": true,
    "editable": true
   },
   "outputs": [],
   "source": [
    "import numpy as np\n",
    "import matplotlib.pyplot as plt\n",
    "%matplotlib inline\n",
    "import scipy.integrate as spi"
   ]
  },
  {
   "cell_type": "markdown",
   "metadata": {
    "deletable": true,
    "editable": true
   },
   "source": [
    "## 1."
   ]
  },
  {
   "cell_type": "code",
   "execution_count": 2,
   "metadata": {
    "collapsed": true,
    "deletable": true,
    "editable": true
   },
   "outputs": [],
   "source": [
    "def van_der_pol(mu,x0,tf):\n",
    "    def f(u,t):\n",
    "        dudt = [0,0]\n",
    "        dudt[0] = u[1]\n",
    "        dudt[1] = mu * (1 - u[0]**2) * u[1] - u[0]\n",
    "        return dudt\n",
    "    initial_u = x0\n",
    "    t = np.linspace(0,tf,10000)\n",
    "    U = spi.odeint(f,initial_u,t)\n",
    "    plt.plot(U[:,0],U[:,1])"
   ]
  },
  {
   "cell_type": "markdown",
   "metadata": {
    "deletable": true,
    "editable": true
   },
   "source": [
    "## 2."
   ]
  },
  {
   "cell_type": "code",
   "execution_count": 3,
   "metadata": {
    "collapsed": true,
    "deletable": true,
    "editable": true
   },
   "outputs": [],
   "source": [
    "def pendulum(L,theta0,tf):\n",
    "    g = 9.81\n",
    "    def f(u,t):\n",
    "        dudt = [0,0]\n",
    "        dudt[0] = u[1]\n",
    "        dudt[1] = - g/L * u[0]\n",
    "        return dudt\n",
    "    initial_u = theta0\n",
    "    t = np.linspace(0,tf,10000)\n",
    "    U = spi.odeint(f,initial_u,t)\n",
    "    plt.plot(t,U[:,0])"
   ]
  },
  {
   "cell_type": "markdown",
   "metadata": {
    "deletable": true,
    "editable": true
   },
   "source": [
    "## 3."
   ]
  },
  {
   "cell_type": "code",
   "execution_count": 4,
   "metadata": {
    "collapsed": true,
    "deletable": true,
    "editable": true
   },
   "outputs": [],
   "source": [
    "def coriolis(w,Omega,phi,initial,tf):\n",
    "    def f(u,t):\n",
    "        dudt = [0,0,0,0]\n",
    "        dudt[0] = u[1]\n",
    "        dudt[1] = -w**2 * u[0] + 2*Omega*u[3]*np.sin(phi)\n",
    "        dudt[2] = u[3]\n",
    "        dudt[3] = -w**2 * u[2] - 2*Omega*u[1]*np.sin(phi)\n",
    "        return dudt\n",
    "    initial_u = initial\n",
    "    \n",
    "    t = np.linspace(0,tf,10000)\n",
    "    U = spi.odeint(f,initial_u,t)\n",
    "    plt.plot(U[:,0],U[:,3])"
   ]
  },
  {
   "cell_type": "markdown",
   "metadata": {
    "deletable": true,
    "editable": true
   },
   "source": [
    "## 4."
   ]
  },
  {
   "cell_type": "code",
   "execution_count": 5,
   "metadata": {
    "collapsed": true,
    "deletable": true,
    "editable": true
   },
   "outputs": [],
   "source": [
    "def trig_ode(alpha=1,beta=1,y0=0,tf=10):\n",
    "    def f(y,t):\n",
    "        return np.sin(alpha*y) + np.cos(beta*t)\n",
    "    t = np.linspace(0,tf,10000)\n",
    "    y = spi.odeint(f,y0,t)\n",
    "    plt.plot(t,y)"
   ]
  }
 ],
 "metadata": {
  "kernelspec": {
   "display_name": "Python 3",
   "language": "python",
   "name": "python3"
  },
  "language_info": {
   "codemirror_mode": {
    "name": "ipython",
    "version": 3
   },
   "file_extension": ".py",
   "mimetype": "text/x-python",
   "name": "python",
   "nbconvert_exporter": "python",
   "pygments_lexer": "ipython3",
   "version": "3.5.2"
  }
 },
 "nbformat": 4,
 "nbformat_minor": 2
}
