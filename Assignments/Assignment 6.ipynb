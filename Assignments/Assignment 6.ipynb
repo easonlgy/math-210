{
 "cells": [
  {
   "cell_type": "markdown",
   "metadata": {},
   "source": [
    "# Assignment 6"
   ]
  },
  {
   "cell_type": "code",
   "execution_count": 1,
   "metadata": {
    "collapsed": true
   },
   "outputs": [],
   "source": [
    "import numpy as np\n",
    "import matplotlib.pyplot as plt\n",
    "%matplotlib inline\n",
    "import scipy.linalg as la"
   ]
  },
  {
   "cell_type": "markdown",
   "metadata": {},
   "source": [
    "## 1."
   ]
  },
  {
   "cell_type": "code",
   "execution_count": 2,
   "metadata": {
    "collapsed": true
   },
   "outputs": [],
   "source": [
    "def a_solve(a):\n",
    "    A = np.array([[4,5,7],[0,1,9],[1,3,7]])\n",
    "    Y = np.array([[a],[1-a],[1]])\n",
    "    X = la.solve(A.T @ A, A.T @ Y)\n",
    "    return X"
   ]
  },
  {
   "cell_type": "markdown",
   "metadata": {},
   "source": [
    "## 2."
   ]
  },
  {
   "cell_type": "code",
   "execution_count": 3,
   "metadata": {
    "collapsed": true
   },
   "outputs": [],
   "source": [
    "def minor_det(A,i,j):\n",
    "    Ai = np.delete(A,i,0)\n",
    "    Aij = np.delete(Ai,j,1)\n",
    "    return np.linalg.det(Aij)"
   ]
  },
  {
   "cell_type": "markdown",
   "metadata": {},
   "source": [
    "## 3."
   ]
  },
  {
   "cell_type": "code",
   "execution_count": 4,
   "metadata": {
    "collapsed": true
   },
   "outputs": [],
   "source": [
    "def outer_eig(u,v):\n",
    "    vr = v.reshape(1,v.size)\n",
    "    ur = u.reshape(u.size,1)\n",
    "    A = ur @ vr\n",
    "    evals, evecs = la.eig(A)\n",
    "    return evals"
   ]
  },
  {
   "cell_type": "markdown",
   "metadata": {},
   "source": [
    "## 4."
   ]
  },
  {
   "cell_type": "code",
   "execution_count": 5,
   "metadata": {
    "collapsed": true
   },
   "outputs": [],
   "source": [
    "def elementary(A,l,i,j,row=True):\n",
    "    if row == True:\n",
    "        irow = A[i,:]\n",
    "        jrow = A[j,:]\n",
    "        lirow = l * irow\n",
    "        ijrow = jrow + lirow\n",
    "        A[j,:] = ijrow\n",
    "        return A\n",
    "    else:\n",
    "        icol = A[:,i]\n",
    "        jcol = A[:,j]\n",
    "        licol = l * icol\n",
    "        ijcol = jcol + licol\n",
    "        A[:,j] = ijcol\n",
    "        return A"
   ]
  },
  {
   "cell_type": "markdown",
   "metadata": {},
   "source": [
    "## 5."
   ]
  },
  {
   "cell_type": "code",
   "execution_count": 6,
   "metadata": {
    "collapsed": true
   },
   "outputs": [],
   "source": [
    "def nearest_point(coeffs,P):\n",
    "    x = P[0]\n",
    "    y = P[1]\n",
    "    z = P[2]\n",
    "    a = coeffs[0]\n",
    "    b = coeffs[1]\n",
    "    c = coeffs[2]\n",
    "    d = coeffs[3]\n",
    "    \n",
    "    t = (d-a*x-b*y-c*z)/(a**2 + b**2 + c**2)\n",
    "    \n",
    "    x0 = x + a*t\n",
    "    y0 = y + b*t\n",
    "    z0 = z + c*t\n",
    "    Q = np.array([x0,y0,z0])\n",
    "    return Q\n",
    "    \n",
    "    "
   ]
  }
 ],
 "metadata": {
  "kernelspec": {
   "display_name": "Python 3",
   "language": "python",
   "name": "python3"
  },
  "language_info": {
   "codemirror_mode": {
    "name": "ipython",
    "version": 3
   },
   "file_extension": ".py",
   "mimetype": "text/x-python",
   "name": "python",
   "nbconvert_exporter": "python",
   "pygments_lexer": "ipython3",
   "version": "3.5.2"
  }
 },
 "nbformat": 4,
 "nbformat_minor": 2
}
