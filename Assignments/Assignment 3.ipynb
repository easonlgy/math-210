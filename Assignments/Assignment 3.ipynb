{
 "cells": [
  {
   "cell_type": "markdown",
   "metadata": {},
   "source": [
    "# Assignment 3\n",
    "\n",
    "## 1."
   ]
  },
  {
   "cell_type": "code",
   "execution_count": 1,
   "metadata": {
    "collapsed": true
   },
   "outputs": [],
   "source": [
    "def prime_divisors(N):\n",
    "    \"\"\"Compute the prime factors of certain number.\"\"\"\n",
    "    L = [ ] \n",
    "    for n in range(2,N // 2 + 2):\n",
    "        if N % n == 0:\n",
    "            if n <= 1:\n",
    "                break\n",
    "            for d in range(2,n):\n",
    "                if n % d == 0:\n",
    "                    break\n",
    "            else:\n",
    "                L.append(n)\n",
    "    return L"
   ]
  },
  {
   "cell_type": "markdown",
   "metadata": {},
   "source": [
    "## 2."
   ]
  },
  {
   "cell_type": "code",
   "execution_count": 2,
   "metadata": {
    "collapsed": true
   },
   "outputs": [],
   "source": [
    "def prime_factorization(N):\n",
    "    \"\"\"Prime factorization of certain number.\"\"\"\n",
    "    prime_factor = [ ]\n",
    "    L = [ ]\n",
    "    n = 0\n",
    "    p = 2\n",
    "    while p*p <= N:\n",
    "        while (N % p) == 0:\n",
    "            prime_factor.append(p)\n",
    "            N //= p\n",
    "            n += 1\n",
    "        if n > 0:\n",
    "            L.append((p,n))\n",
    "            n = 0\n",
    "        p += 1\n",
    "    if N > 1:\n",
    "       L.append((N,1))\n",
    "    return L\n"
   ]
  },
  {
   "cell_type": "markdown",
   "metadata": {},
   "source": [
    "## 3."
   ]
  },
  {
   "cell_type": "code",
   "execution_count": null,
   "metadata": {
    "collapsed": true
   },
   "outputs": [],
   "source": [
    "def sequence_to_fraction(integer_list):\n",
    "    n = 1\n",
    "    b = integer_list[0]\n",
    "    if len(integer_list) > 1:\n",
    "        while n < len(integer_list):\n",
    "            bhat = integer_list[n] + 1 / b\n",
    "            n = n + 1\n",
    "            b = bhat\n",
    "        return bhat\n",
    "    else:\n",
    "        return integer_list[0]"
   ]
  },
  {
   "cell_type": "markdown",
   "metadata": {},
   "source": [
    "## 4."
   ]
  },
  {
   "cell_type": "code",
   "execution_count": null,
   "metadata": {
    "collapsed": true
   },
   "outputs": [],
   "source": [
    "def product(list_of_number):\n",
    "    \"\"\"Compute product of a list of numbers.\"\"\"\n",
    "    n = 0\n",
    "    product = 1\n",
    "    while n < len(list_of_number):\n",
    "        product_new = list_of_number[n] * product\n",
    "        n += 1\n",
    "        product = product_new\n",
    "    return product_new"
   ]
  },
  {
   "cell_type": "markdown",
   "metadata": {},
   "source": [
    "## 5."
   ]
  },
  {
   "cell_type": "code",
   "execution_count": null,
   "metadata": {
    "collapsed": true
   },
   "outputs": [],
   "source": [
    "def sequence_to_roots(integer_list):\n",
    "    n = 1\n",
    "    sqrt = integer_list[0] ** (0.5)\n",
    "    if len(integer_list) > 1:\n",
    "        while n < len(integer_list):\n",
    "            sqrt_new = (integer_list[n] + sqrt) ** (0.5)\n",
    "            n += 1\n",
    "            sqrt = sqrt_new\n",
    "        return sqrt_new\n",
    "    else:\n",
    "        return integer_list[0] ** (0.5)"
   ]
  }
 ],
 "metadata": {
  "kernelspec": {
   "display_name": "Python 3",
   "language": "python",
   "name": "python3"
  },
  "language_info": {
   "codemirror_mode": {
    "name": "ipython",
    "version": 3
   },
   "file_extension": ".py",
   "mimetype": "text/x-python",
   "name": "python",
   "nbconvert_exporter": "python",
   "pygments_lexer": "ipython3",
   "version": "3.5.2"
  }
 },
 "nbformat": 4,
 "nbformat_minor": 1
}
