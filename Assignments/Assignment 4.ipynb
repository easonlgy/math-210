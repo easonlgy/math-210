{
 "cells": [
  {
   "cell_type": "markdown",
   "metadata": {},
   "source": [
    "# Assignment 4"
   ]
  },
  {
   "cell_type": "code",
   "execution_count": 1,
   "metadata": {
    "collapsed": true
   },
   "outputs": [],
   "source": [
    "import numpy as np\n",
    "import matplotlib.pyplot as plt\n",
    "%matplotlib inline"
   ]
  },
  {
   "cell_type": "markdown",
   "metadata": {},
   "source": [
    "## 1."
   ]
  },
  {
   "cell_type": "code",
   "execution_count": 2,
   "metadata": {
    "collapsed": true
   },
   "outputs": [],
   "source": [
    "def curve(A,B,C):\n",
    "    t = np.linspace(0,2*np.pi,1000)\n",
    "    x = A*(np.sin(t))**3\n",
    "    y = B*np.cos(t) - C*np.cos(2*t)\n",
    "    plt.plot(x,y)\n",
    "    plt.axis('equal')"
   ]
  },
  {
   "cell_type": "markdown",
   "metadata": {},
   "source": [
    "## 2."
   ]
  },
  {
   "cell_type": "code",
   "execution_count": 3,
   "metadata": {
    "collapsed": true
   },
   "outputs": [],
   "source": [
    "def power_series(a,x):\n",
    "    k = np.arange(0,np.size(a))\n",
    "    ps = np.sum(a * (x**k))\n",
    "    return ps"
   ]
  },
  {
   "cell_type": "markdown",
   "metadata": {},
   "source": [
    "## 3.\n",
    "\n",
    "### (a)\n",
    "$$\n",
    "f_{triangle} (t) = \\frac {8} {\\pi^2} \\sum_{k=0}^{\\infty} (-1)^k \\frac {\\sin(2\\pi(2k+1)t)}{(2k+1)^2} \n",
    "$$"
   ]
  },
  {
   "cell_type": "markdown",
   "metadata": {},
   "source": [
    "### (b)"
   ]
  },
  {
   "cell_type": "code",
   "execution_count": null,
   "metadata": {
    "collapsed": true
   },
   "outputs": [],
   "source": [
    "def triangle_wave(N,interval):\n",
    "    f1 = 0\n",
    "    for k in range(0,N+1):\n",
    "        t = np.linspace(0,N,1000)\n",
    "        f1 = f1 + (8 / (np.pi)**2) *  (((-1)**k) * (np.sin(2*np.pi * (2*k+1)*t)) / ((2*k + 1)**2))\n",
    "    plt.plot(t,f1), plt.xlim(interval), plt.ylim([-2,2]), plt.grid('on')"
   ]
  },
  {
   "cell_type": "markdown",
   "metadata": {},
   "source": [
    "## 4.\n",
    "\n",
    "### (a)\n",
    "\n",
    "$$\n",
    "f_{sawtooth}(t) = \\frac{2}{\\pi} \\sum_{k=1}^{\\infty} \\frac {(-1)^{k+1} \\sin(2\\pi kt)}{k}\n",
    "$$"
   ]
  },
  {
   "cell_type": "markdown",
   "metadata": {},
   "source": [
    "### (b)"
   ]
  },
  {
   "cell_type": "code",
   "execution_count": null,
   "metadata": {
    "collapsed": true
   },
   "outputs": [],
   "source": [
    "def sawtooth_waves(n,m,T):\n",
    "    plt.figure(figsize=(2*m,2*n))\n",
    "    N = n*m\n",
    "    f1 = 0\n",
    "    for k in range(1,N+1):\n",
    "        plt.subplot(n,m,k)\n",
    "        t = np.linspace(0,T,1000)\n",
    "        f1 = f1 + ((2 / np.pi) * (((-1)**(k+1) * np.sin(2*np.pi*k*t)) / k))\n",
    "        plt.plot(t,f1)\n",
    "        plt.grid('on'), plt.title('N =' + str(k))\n",
    "        plt.tight_layout()"
   ]
  },
  {
   "cell_type": "markdown",
   "metadata": {},
   "source": [
    "## 5.\n",
    "\n",
    "### (a)\n",
    "\n",
    "$$\n",
    "\\zeta (s) = \\sum_{n=1}^{\\infty} \\frac{1}{n^s} = \\prod_{p \\ prime} \\frac{1}{1-p^{-s}} = \\frac{1}{1-2^{-s}} \\cdot \\frac{1}{1-3^{-s}} \\cdot \\frac{1}{1-5^{-s}} \\cdot \\frac{1}{1-7^{-s}} \\cdots \\frac{1}{1-p^{-s}} \\cdots\n",
    "$$"
   ]
  },
  {
   "cell_type": "markdown",
   "metadata": {},
   "source": [
    "### (b)"
   ]
  },
  {
   "cell_type": "code",
   "execution_count": null,
   "metadata": {
    "collapsed": true
   },
   "outputs": [],
   "source": [
    "def euler_product(s,N):\n",
    "    if N == 2:\n",
    "        product = 1 / (1 - 2**(-s))\n",
    "        return product\n",
    "    elif N > 2:\n",
    "        product = 1 \n",
    "        for d in range(2,N+1):\n",
    "            for n in range(2,d):\n",
    "                if d % n == 0:\n",
    "                    break\n",
    "            else:\n",
    "                product1 = product * (1 / (1 - d**(-s)))\n",
    "                product = product1 \n",
    "        return product\n",
    "    else:\n",
    "        product = 1\n",
    "        return product"
   ]
  },
  {
   "cell_type": "markdown",
   "metadata": {},
   "source": [
    "## 6."
   ]
  },
  {
   "cell_type": "code",
   "execution_count": null,
   "metadata": {
    "collapsed": true
   },
   "outputs": [],
   "source": [
    "def slope_field(f,tlims,ylims,grid_step):\n",
    "    t = np.linspace(-10,10,100)\n",
    "    y = np.linspace(-10,10,100)\n",
    "\n",
    "\n",
    "    for j in t:\n",
    "        for k in y:\n",
    "            slope = f(j,k)\n",
    "            angle = np.arctan(slope)\n",
    "            d = np.cos(angle)\n",
    "            L = grid_step/2.5 * d\n",
    "            domain = np.linspace(j-L,j+L,2)\n",
    "            z = slope*(domain-j)+k\n",
    "                \n",
    "            plt.plot(domain,z,'b')\n",
    "            plt.xlim(tlims), plt.ylim(ylims)"
   ]
  }
 ],
 "metadata": {
  "kernelspec": {
   "display_name": "Python 3",
   "language": "python",
   "name": "python3"
  },
  "language_info": {
   "codemirror_mode": {
    "name": "ipython",
    "version": 3
   },
   "file_extension": ".py",
   "mimetype": "text/x-python",
   "name": "python",
   "nbconvert_exporter": "python",
   "pygments_lexer": "ipython3",
   "version": "3.5.2"
  }
 },
 "nbformat": 4,
 "nbformat_minor": 1
}
