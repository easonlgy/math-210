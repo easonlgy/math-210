{
 "cells": [
  {
   "cell_type": "markdown",
   "metadata": {},
   "source": [
    "# Assignment 2"
   ]
  },
  {
   "cell_type": "markdown",
   "metadata": {},
   "source": [
    "## 1."
   ]
  },
  {
   "cell_type": "code",
   "execution_count": 1,
   "metadata": {
    "collapsed": false
   },
   "outputs": [],
   "source": [
    "def linear(start, stop, by):\n",
    "    if start < stop:\n",
    "        L = []\n",
    "        while 1:\n",
    "            next = start + len(L) * by\n",
    "            if by > 0 and next >= stop:\n",
    "                break\n",
    "            elif by < 0 and next <= stop:\n",
    "                break\n",
    "            L.append(next)\n",
    "        \n",
    "        return L\n",
    "    else:\n",
    "        print('Error: First argument must be lessthan the second argument')\n",
    "        return None"
   ]
  },
  {
   "cell_type": "code",
   "execution_count": 2,
   "metadata": {
    "collapsed": false
   },
   "outputs": [
    {
     "data": {
      "text/plain": [
       "[0, 2, 4, 6, 8]"
      ]
     },
     "execution_count": 2,
     "metadata": {},
     "output_type": "execute_result"
    }
   ],
   "source": [
    "linear(0,10,2)"
   ]
  },
  {
   "cell_type": "code",
   "execution_count": 3,
   "metadata": {
    "collapsed": false
   },
   "outputs": [
    {
     "data": {
      "text/plain": [
       "[3.0, 3.25, 3.5, 3.75]"
      ]
     },
     "execution_count": 3,
     "metadata": {},
     "output_type": "execute_result"
    }
   ],
   "source": [
    "linear(3,4,0.25)"
   ]
  },
  {
   "cell_type": "code",
   "execution_count": 4,
   "metadata": {
    "collapsed": false
   },
   "outputs": [
    {
     "data": {
      "text/plain": [
       "[-2.0, -0.5, 1.0, 2.5, 4.0, 5.5, 7.0, 8.5]"
      ]
     },
     "execution_count": 4,
     "metadata": {},
     "output_type": "execute_result"
    }
   ],
   "source": [
    "linear(-2,9,1.5)"
   ]
  },
  {
   "cell_type": "markdown",
   "metadata": {
    "collapsed": true
   },
   "source": [
    "# 2. "
   ]
  },
  {
   "cell_type": "code",
   "execution_count": 5,
   "metadata": {
    "collapsed": false
   },
   "outputs": [],
   "source": [
    "def squares_between(a,b):\n",
    "    K = [0]\n",
    "    L = [ ]\n",
    "    while 1:\n",
    "        next = (len(K)+len(L))**2\n",
    "        if next < a:\n",
    "            K.append(next)\n",
    "        elif next > a and next < b+1:\n",
    "            L.append(next)\n",
    "        else:\n",
    "            break\n",
    "            \n",
    "    return L"
   ]
  },
  {
   "cell_type": "code",
   "execution_count": 6,
   "metadata": {
    "collapsed": false
   },
   "outputs": [
    {
     "data": {
      "text/plain": [
       "[1, 4, 9]"
      ]
     },
     "execution_count": 6,
     "metadata": {},
     "output_type": "execute_result"
    }
   ],
   "source": [
    "squares_between(0,10)"
   ]
  },
  {
   "cell_type": "code",
   "execution_count": 7,
   "metadata": {
    "collapsed": false
   },
   "outputs": [
    {
     "data": {
      "text/plain": [
       "[64, 81, 100]"
      ]
     },
     "execution_count": 7,
     "metadata": {},
     "output_type": "execute_result"
    }
   ],
   "source": [
    "squares_between(50,100)"
   ]
  },
  {
   "cell_type": "code",
   "execution_count": 8,
   "metadata": {
    "collapsed": false
   },
   "outputs": [
    {
     "data": {
      "text/plain": [
       "[36, 49, 64, 81, 100, 121, 144]"
      ]
     },
     "execution_count": 8,
     "metadata": {},
     "output_type": "execute_result"
    }
   ],
   "source": [
    "squares_between(26.9,160.2)"
   ]
  },
  {
   "cell_type": "markdown",
   "metadata": {
    "collapsed": true
   },
   "source": [
    "## 3."
   ]
  },
  {
   "cell_type": "code",
   "execution_count": 10,
   "metadata": {
    "collapsed": false
   },
   "outputs": [
    {
     "ename": "SyntaxError",
     "evalue": "invalid syntax (<ipython-input-10-b0b56e0cbfa0>, line 14)",
     "output_type": "error",
     "traceback": [
      "\u001b[0;36m  File \u001b[0;32m\"<ipython-input-10-b0b56e0cbfa0>\"\u001b[0;36m, line \u001b[0;32m14\u001b[0m\n\u001b[0;31m    elif a <=1 or N < 1:\u001b[0m\n\u001b[0m       ^\u001b[0m\n\u001b[0;31mSyntaxError\u001b[0m\u001b[0;31m:\u001b[0m invalid syntax\n"
     ]
    }
   ],
   "source": [
    "def phi(a,N):\n",
    "    K = [1,2]\n",
    "    L = [ ]\n",
    "    if a > 1 and N >= 1:\n",
    "        if len(K) <= N:  \n",
    "            n = [1 + 2*(1/(((a*(len(K)))**3)-a*(len(K)))) for len(K) in (1,N)]            \n",
    "            K.append(n)\n",
    "            L.append(n)\n",
    "        else:\n",
    "            break\n",
    "    numsum = (sum(L))\n",
    "    print(numsum)\n",
    "\n",
    "    elif a <=1 or N < 1:\n",
    "        print('First argument must be greater than 1 and second argument must be greater than or equal to 1.')\n",
    "        return None\n",
    "\n",
    "    "
   ]
  },
  {
   "cell_type": "code",
   "execution_count": null,
   "metadata": {
    "collapsed": false
   },
   "outputs": [],
   "source": [
    "phi(2,1)"
   ]
  },
  {
   "cell_type": "code",
   "execution_count": 11,
   "metadata": {
    "collapsed": false
   },
   "outputs": [],
   "source": [
    "def phi(a,N):\n",
    "    if a > 1 and N >= 1:  \n",
    "        n = [1 + 2*(1/(((a*k)**3)-a*k)) for k in range(1,N+1)]            \n",
    "        return sum(n)\n",
    "\n",
    "    elif a <=1 or N < 1:\n",
    "        print('First argument must be greater than 1 and second argument must be greater than or equal to 1.')\n",
    "        return None\n"
   ]
  },
  {
   "cell_type": "code",
   "execution_count": 12,
   "metadata": {
    "collapsed": false
   },
   "outputs": [
    {
     "name": "stdout",
     "output_type": "stream",
     "text": [
      "First argument must be greater than 1 and second argument must be greater than or equal to 1.\n"
     ]
    }
   ],
   "source": [
    "phi(1,2)"
   ]
  },
  {
   "cell_type": "code",
   "execution_count": 13,
   "metadata": {
    "collapsed": false
   },
   "outputs": [],
   "source": [
    "x = phi(2,1)"
   ]
  },
  {
   "cell_type": "code",
   "execution_count": 14,
   "metadata": {
    "collapsed": false
   },
   "outputs": [
    {
     "data": {
      "text/plain": [
       "float"
      ]
     },
     "execution_count": 14,
     "metadata": {},
     "output_type": "execute_result"
    }
   ],
   "source": [
    "type(x)"
   ]
  },
  {
   "cell_type": "code",
   "execution_count": 15,
   "metadata": {
    "collapsed": false
   },
   "outputs": [
    {
     "data": {
      "text/plain": [
       "1.3333333333333333"
      ]
     },
     "execution_count": 15,
     "metadata": {},
     "output_type": "execute_result"
    }
   ],
   "source": [
    "x"
   ]
  },
  {
   "cell_type": "markdown",
   "metadata": {},
   "source": [
    "## 4."
   ]
  },
  {
   "cell_type": "code",
   "execution_count": 32,
   "metadata": {
    "collapsed": true
   },
   "outputs": [],
   "source": [
    "def eig(a,b,c,d):\n",
    "    # determinant = (a-lamda)*(d-lamda)-b*c =\n",
    "    #             = a*d + lamda**2 - (a+d)*lamda - b*c\n",
    "    #             = lamda**2 - (a+d)*lamda + a*d - b*c\n",
    "    discriminant = (a+d)**2 - 4*(a*d-b*c)\n",
    "    if discriminant > 0:\n",
    "        lamda_1 = ((a+d) + discriminant**(0.5))/2\n",
    "        lamda_2 = ((a+d) - discriminant**(0.5))/2\n",
    "        return sorted([lamda_1,lamda_2])\n",
    "    elif discriminant < 0:\n",
    "        lamda_1 = ((a+d) + discriminant**(0.5))/2\n",
    "        lamda_2 = ((a+d) - discriminant**(0.5))/2\n",
    "        return [lamda_1,lamda_2]\n",
    "    else:\n",
    "        lamda = (a+d)/2\n",
    "        return [lamda,lamda]\n",
    "    \n",
    "    "
   ]
  },
  {
   "cell_type": "code",
   "execution_count": 29,
   "metadata": {
    "collapsed": false
   },
   "outputs": [
    {
     "data": {
      "text/plain": [
       "[1.0, 1.0]"
      ]
     },
     "execution_count": 29,
     "metadata": {},
     "output_type": "execute_result"
    }
   ],
   "source": [
    "eig(1,0,0,1)"
   ]
  },
  {
   "cell_type": "code",
   "execution_count": 30,
   "metadata": {
    "collapsed": false
   },
   "outputs": [
    {
     "data": {
      "text/plain": [
       "[1.0, 14.0]"
      ]
     },
     "execution_count": 30,
     "metadata": {},
     "output_type": "execute_result"
    }
   ],
   "source": [
    "eig(2,4,3,13)"
   ]
  },
  {
   "cell_type": "code",
   "execution_count": 31,
   "metadata": {
    "collapsed": false
   },
   "outputs": [
    {
     "data": {
      "text/plain": [
       "[-2.0, -1.0]"
      ]
     },
     "execution_count": 31,
     "metadata": {},
     "output_type": "execute_result"
    }
   ],
   "source": [
    "eig(0,1,-2,-3)"
   ]
  },
  {
   "cell_type": "markdown",
   "metadata": {},
   "source": [
    "## 5."
   ]
  },
  {
   "cell_type": "code",
   "execution_count": 35,
   "metadata": {
    "collapsed": true
   },
   "outputs": [],
   "source": [
    "def max_eig(a,b,c,d):\n",
    "    # determinant = (a**2+b**2-lamda)*(c**2+d**2-lamda)-(a*c+b*d)**2\n",
    "    #             = (a*c)**2 + (a*d)**2 - lamda*a**2 + (b*c)**2 + (b*d)**2 -lamda*b**2 - lamda*c**2 - lamda*d**2 + lamda**2\n",
    "    #             - (a*c)**2 - (b*d)**2 - 2*a*b*c*d\n",
    "    #             = (a*d)**2 + (b*c)**2 - lamda*(a**2 + b**2 + c**2 + d**2) + lamda**2 - 2*a*b*c*d\n",
    "    #             = lamda**2 - (a**2 + b**2 + c**2 + d**2)*lamda + (a*d)**2 + (b*c)**2 - 2*a*b*c*d\n",
    "    discriminant = (a**2 + b**2 + c**2 + d**2)**2 - 4*((a*d)**2 + (b*c)**2 - 2*a*b*c*d)\n",
    "    if discriminant > 0:\n",
    "        lamda_1 = ((a**2 + b**2 + c**2 + d**2) + discriminant**(0.5))/2\n",
    "        lamda_2 = ((a**2 + b**2 + c**2 + d**2) - discriminant**(0.5))/2\n",
    "        return max([lamda_1,lamda_2])\n",
    "    elif discriminant < 0:\n",
    "        lamda_1 = ((a**2 + b**2 + c**2 + d**2) + discriminant**(0.5))/2\n",
    "        lamda_2 = ((a**2 + b**2 + c**2 + d**2) - discriminant**(0.5))/2\n",
    "        return max[lamda_1,lamda_2]\n",
    "    else:\n",
    "        lamda = (a**2 + b**2 + c**2 + d**2)/2\n",
    "        return lamda"
   ]
  },
  {
   "cell_type": "code",
   "execution_count": 36,
   "metadata": {
    "collapsed": false
   },
   "outputs": [
    {
     "data": {
      "text/plain": [
       "125.96824596572466"
      ]
     },
     "execution_count": 36,
     "metadata": {},
     "output_type": "execute_result"
    }
   ],
   "source": [
    "max_eig(4,5,6,7)"
   ]
  },
  {
   "cell_type": "markdown",
   "metadata": {},
   "source": [
    "## 6."
   ]
  },
  {
   "cell_type": "code",
   "execution_count": 43,
   "metadata": {
    "collapsed": false
   },
   "outputs": [],
   "source": [
    "def longest_string(list_of_strings):\n",
    "    S = max(list_of_strings, key=len)\n",
    "    print(len(S))\n",
    "    "
   ]
  },
  {
   "cell_type": "code",
   "execution_count": 44,
   "metadata": {
    "collapsed": false
   },
   "outputs": [
    {
     "name": "stdout",
     "output_type": "stream",
     "text": [
      "5\n"
     ]
    }
   ],
   "source": [
    "longest_string(['one','two','three'])"
   ]
  },
  {
   "cell_type": "code",
   "execution_count": 45,
   "metadata": {
    "collapsed": false
   },
   "outputs": [
    {
     "name": "stdout",
     "output_type": "stream",
     "text": [
      "7\n"
     ]
    }
   ],
   "source": [
    "longest_string(['Hello','Bonjour','Hola','Ciao'])"
   ]
  },
  {
   "cell_type": "code",
   "execution_count": null,
   "metadata": {
    "collapsed": true
   },
   "outputs": [],
   "source": []
  }
 ],
 "metadata": {
  "kernelspec": {
   "display_name": "Python 3",
   "language": "python",
   "name": "python3"
  },
  "language_info": {
   "codemirror_mode": {
    "name": "ipython",
    "version": 3
   },
   "file_extension": ".py",
   "mimetype": "text/x-python",
   "name": "python",
   "nbconvert_exporter": "python",
   "pygments_lexer": "ipython3",
   "version": "3.5.2"
  }
 },
 "nbformat": 4,
 "nbformat_minor": 1
}
