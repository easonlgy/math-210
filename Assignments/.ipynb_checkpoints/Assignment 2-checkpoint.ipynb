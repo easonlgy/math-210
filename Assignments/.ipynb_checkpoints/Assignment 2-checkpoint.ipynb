{
 "cells": [
  {
   "cell_type": "markdown",
   "metadata": {},
   "source": [
    "# Assignment 2\n",
    "\n",
    "## 1."
   ]
  },
  {
   "cell_type": "code",
   "execution_count": 1,
   "metadata": {
    "collapsed": true
   },
   "outputs": [],
   "source": [
    "def linear(start, stop, by):\n",
    "    \"compute a list of number beginning with start, incremented by the value by\"\n",
    "    if start < stop:\n",
    "        L = []\n",
    "        while 1:\n",
    "            next = start + len(L) * by\n",
    "            if by > 0 and next >= stop:\n",
    "                break\n",
    "            elif by < 0 and next <= stop:\n",
    "                break\n",
    "            L.append(next)\n",
    "        \n",
    "        return L\n",
    "    else:\n",
    "        print('Error: First argument must be lessthan the second argument')\n",
    "        return None"
   ]
  },
  {
   "cell_type": "markdown",
   "metadata": {},
   "source": [
    "## 2."
   ]
  },
  {
   "cell_type": "code",
   "execution_count": 2,
   "metadata": {
    "collapsed": true
   },
   "outputs": [],
   "source": [
    "def squares_between(a,b):\n",
    "    \"compute a list of number which are squares in the closed interval [a,b]\"\n",
    "    K = [0]\n",
    "    L = [ ]\n",
    "    while 1:\n",
    "        next = (len(K)+len(L))**2\n",
    "        if next < a:\n",
    "            K.append(next)\n",
    "        elif next > a and next < b+1:\n",
    "            L.append(next)\n",
    "        else:\n",
    "            break\n",
    "            \n",
    "    return L"
   ]
  },
  {
   "cell_type": "markdown",
   "metadata": {
    "collapsed": true
   },
   "source": [
    "## 3."
   ]
  },
  {
   "cell_type": "code",
   "execution_count": 3,
   "metadata": {
    "collapsed": true
   },
   "outputs": [],
   "source": [
    "def phi(a,N):\n",
    "    \"compute a certain function with value a and N\"\n",
    "    if a > 1 and N >= 1:  \n",
    "        n = [1 + 2*(1/(((a*k)**3)-a*k)) for k in range(1,N+1)]            \n",
    "        print(sum(n))\n",
    "\n",
    "    elif a <=1 or N < 1:\n",
    "        print('First argument must be greater than 1 and second argument must be greater than or equal to 1.')\n",
    "        return None"
   ]
  },
  {
   "cell_type": "markdown",
   "metadata": {
    "collapsed": true
   },
   "source": [
    "## 4."
   ]
  },
  {
   "cell_type": "code",
   "execution_count": 4,
   "metadata": {
    "collapsed": true
   },
   "outputs": [],
   "source": [
    "def eig(a,b,c,d):\n",
    "    \"compute the eigenvalues of certain matrix\"\n",
    "    # determinant = (a-lamda)*(d-lamda)-b*c =\n",
    "    #             = a*d + lamda**2 - (a+d)*lamda - b*c\n",
    "    #             = lamda**2 - (a+d)*lamda + a*d - b*c\n",
    "    discriminant = (a+d)**2 - 4*(a*d-b*c)\n",
    "    if discriminant > 0:\n",
    "        lamda_1 = ((a+d) + discriminant**(0.5))/2\n",
    "        lamda_2 = ((a+d) - discriminant**(0.5))/2\n",
    "        return sorted([lamda_1,lamda_2])\n",
    "    elif discriminant < 0:\n",
    "        lamda_1 = ((a+d) + discriminant**(0.5))/2\n",
    "        lamda_2 = ((a+d) - discriminant**(0.5))/2\n",
    "        return [lamda_1,lamda_2]\n",
    "    else:\n",
    "        lamda = (a+d)/2\n",
    "        return [lamda,lamda]"
   ]
  },
  {
   "cell_type": "markdown",
   "metadata": {},
   "source": [
    "## 5."
   ]
  },
  {
   "cell_type": "code",
   "execution_count": 5,
   "metadata": {
    "collapsed": true
   },
   "outputs": [],
   "source": [
    "def max_eig(a,b,c,d):\n",
    "    \"compute the max eigenvalue of the symmetric matrix\"\n",
    "    # determinant = (a**2+b**2-lamda)*(c**2+d**2-lamda)-(a*c+b*d)**2\n",
    "    #             = (a*c)**2 + (a*d)**2 - lamda*a**2 + (b*c)**2 + (b*d)**2 -lamda*b**2 - lamda*c**2 - lamda*d**2 + lamda**2\n",
    "    #             - (a*c)**2 - (b*d)**2 - 2*a*b*c*d\n",
    "    #             = (a*d)**2 + (b*c)**2 - lamda*(a**2 + b**2 + c**2 + d**2) + lamda**2 - 2*a*b*c*d\n",
    "    #             = lamda**2 - (a**2 + b**2 + c**2 + d**2)*lamda + (a*d)**2 + (b*c)**2 - 2*a*b*c*d\n",
    "    discriminant = (a**2 + b**2 + c**2 + d**2)**2 - 4*((a*d)**2 + (b*c)**2 - 2*a*b*c*d)\n",
    "    if discriminant > 0:\n",
    "        lamda_1 = ((a**2 + b**2 + c**2 + d**2) + discriminant**(0.5))/2\n",
    "        lamda_2 = ((a**2 + b**2 + c**2 + d**2) - discriminant**(0.5))/2\n",
    "        return max([lamda_1,lamda_2])\n",
    "    elif discriminant < 0:\n",
    "        lamda_1 = ((a**2 + b**2 + c**2 + d**2) + discriminant**(0.5))/2\n",
    "        lamda_2 = ((a**2 + b**2 + c**2 + d**2) - discriminant**(0.5))/2\n",
    "        return max[lamda_1,lamda_2]\n",
    "    else:\n",
    "        lamda = (a**2 + b**2 + c**2 + d**2)/2\n",
    "        return lamda"
   ]
  },
  {
   "cell_type": "markdown",
   "metadata": {},
   "source": [
    "## 6."
   ]
  },
  {
   "cell_type": "code",
   "execution_count": 6,
   "metadata": {
    "collapsed": true
   },
   "outputs": [],
   "source": [
    "def longest_string(list_of_strings):\n",
    "    \"compute the length of the longest string in a certain list\"\n",
    "    S = max(list_of_strings, key=len)\n",
    "    print(len(S))"
   ]
  }
 ],
 "metadata": {
  "kernelspec": {
   "display_name": "Python 3",
   "language": "python",
   "name": "python3"
  },
  "language_info": {
   "codemirror_mode": {
    "name": "ipython",
    "version": 3
   },
   "file_extension": ".py",
   "mimetype": "text/x-python",
   "name": "python",
   "nbconvert_exporter": "python",
   "pygments_lexer": "ipython3",
   "version": "3.5.2"
  }
 },
 "nbformat": 4,
 "nbformat_minor": 1
}
