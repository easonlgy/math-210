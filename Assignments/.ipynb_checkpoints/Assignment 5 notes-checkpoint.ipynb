{
 "cells": [
  {
   "cell_type": "markdown",
   "metadata": {
    "deletable": true,
    "editable": true
   },
   "source": [
    "# Assignment 5"
   ]
  },
  {
   "cell_type": "code",
   "execution_count": 9,
   "metadata": {
    "collapsed": true,
    "deletable": true,
    "editable": true
   },
   "outputs": [],
   "source": [
    "import numpy as np\n",
    "import matplotlib.pyplot as plt\n",
    "%matplotlib inline"
   ]
  },
  {
   "cell_type": "code",
   "execution_count": 10,
   "metadata": {
    "collapsed": false,
    "deletable": true,
    "editable": true
   },
   "outputs": [],
   "source": [
    "import scipy.integrate as spi"
   ]
  },
  {
   "cell_type": "code",
   "execution_count": 11,
   "metadata": {
    "collapsed": true,
    "deletable": true,
    "editable": true
   },
   "outputs": [],
   "source": [
    "from scipy.misc import factorial\n",
    "from scipy.misc import comb\n",
    "from scipy.misc import derivative"
   ]
  },
  {
   "cell_type": "markdown",
   "metadata": {
    "deletable": true,
    "editable": true
   },
   "source": [
    "## 1.\n",
    "\n",
    "### (a)\n",
    "\n",
    "$$\n",
    "\\int_0^{\\infty} \\frac{\\arctan(px)\\arctan(qx)}{x^2}dx = \\frac{\\pi}{2} \\ln \\left(\\frac{(p+q)^{p+q}}{p^p q^q}\\right) \\ \\ , \\ \\ p > 0 \\ , \\ q > 0\n",
    "$$"
   ]
  },
  {
   "cell_type": "markdown",
   "metadata": {
    "deletable": true,
    "editable": true
   },
   "source": [
    "### (b)"
   ]
  },
  {
   "cell_type": "code",
   "execution_count": 108,
   "metadata": {
    "collapsed": true,
    "deletable": true,
    "editable": true
   },
   "outputs": [],
   "source": [
    "def pq_integral(p,q):\n",
    "    if p <= 0 or q <= 0:\n",
    "        print('Error: one of p or q is less than 0')\n",
    "        return None\n",
    "    else:\n",
    "        def f(x):\n",
    "            return (np.arctan(p*x)*np.arctan(q*x))/x**2\n",
    "        I ,abserr = spi.quad(f,0,np.inf)\n",
    "        return I"
   ]
  },
  {
   "cell_type": "code",
   "execution_count": 109,
   "metadata": {
    "collapsed": false,
    "deletable": true,
    "editable": true
   },
   "outputs": [
    {
     "data": {
      "text/plain": [
       "2.177586090303602"
      ]
     },
     "execution_count": 109,
     "metadata": {},
     "output_type": "execute_result"
    }
   ],
   "source": [
    "pq_integral(1,1)"
   ]
  },
  {
   "cell_type": "code",
   "execution_count": 110,
   "metadata": {
    "collapsed": true,
    "deletable": true,
    "editable": true
   },
   "outputs": [],
   "source": [
    "def pq(p,q):\n",
    "    return np.pi/2 * np.log((p+q)**(p+q)/(p**p * q**q))"
   ]
  },
  {
   "cell_type": "code",
   "execution_count": 111,
   "metadata": {
    "collapsed": false,
    "deletable": true,
    "editable": true
   },
   "outputs": [
    {
     "data": {
      "text/plain": [
       "2.1775860903036022"
      ]
     },
     "execution_count": 111,
     "metadata": {},
     "output_type": "execute_result"
    }
   ],
   "source": [
    "pq(1,1)"
   ]
  },
  {
   "cell_type": "markdown",
   "metadata": {
    "deletable": true,
    "editable": true
   },
   "source": [
    "## 2. \n",
    "\n",
    "### (a)\n",
    "\n",
    "$$\n",
    "\\int_0^{\\infty} \\frac{\\ln x}{a^2 + b^2 x^2} dx= \\frac{\\pi}{2ab} \\ln \\left(\\frac{a}{b}\\right) \\ \\ , \\ ab > 0\n",
    "$$"
   ]
  },
  {
   "cell_type": "markdown",
   "metadata": {
    "deletable": true,
    "editable": true
   },
   "source": [
    "### (b)"
   ]
  },
  {
   "cell_type": "code",
   "execution_count": 112,
   "metadata": {
    "collapsed": false,
    "deletable": true,
    "editable": true
   },
   "outputs": [],
   "source": [
    "def ab_integral(a,b):\n",
    "    if a*b < 0:\n",
    "        print('Error: ab < 0')\n",
    "        return None\n",
    "    else:\n",
    "        def f(x):\n",
    "            return np.log(x)/(a**2+b**2 *x**2)\n",
    "        I, abserr = spi.quad(f,0,np.inf)\n",
    "        return I"
   ]
  },
  {
   "cell_type": "code",
   "execution_count": 113,
   "metadata": {
    "collapsed": false,
    "deletable": true,
    "editable": true
   },
   "outputs": [
    {
     "data": {
      "text/plain": [
       "0.36168922062080777"
      ]
     },
     "execution_count": 113,
     "metadata": {},
     "output_type": "execute_result"
    }
   ],
   "source": [
    "ab_integral(10,1)"
   ]
  },
  {
   "cell_type": "code",
   "execution_count": 114,
   "metadata": {
    "collapsed": true,
    "deletable": true,
    "editable": true
   },
   "outputs": [],
   "source": [
    "def ab(a,b):\n",
    "    return np.pi/(2*a*b) * np.log(a/b)"
   ]
  },
  {
   "cell_type": "code",
   "execution_count": 115,
   "metadata": {
    "collapsed": false,
    "deletable": true,
    "editable": true
   },
   "outputs": [
    {
     "data": {
      "text/plain": [
       "0.36168922062077324"
      ]
     },
     "execution_count": 115,
     "metadata": {},
     "output_type": "execute_result"
    }
   ],
   "source": [
    "ab(10,1)"
   ]
  },
  {
   "cell_type": "markdown",
   "metadata": {
    "deletable": true,
    "editable": true
   },
   "source": [
    "## 3."
   ]
  },
  {
   "cell_type": "code",
   "execution_count": 116,
   "metadata": {
    "collapsed": false,
    "deletable": true,
    "editable": true
   },
   "outputs": [],
   "source": [
    "def derivatives(f,a,n,h=0.001):\n",
    "    H = [ ]\n",
    "    m = 1\n",
    "    g = 0\n",
    "    while m <= n:\n",
    "        for k in range(0,m+1):\n",
    "            g = g + ((-1)**k * comb(m,k) * f(a + (m-2*k)*h))\n",
    "        gf = g * (1 / (2**m * h**m))\n",
    "        H.append(gf)\n",
    "        g = 0\n",
    "        m += 1\n",
    "    return np.array(H)"
   ]
  },
  {
   "cell_type": "code",
   "execution_count": 117,
   "metadata": {
    "collapsed": false,
    "deletable": true,
    "editable": true
   },
   "outputs": [
    {
     "data": {
      "text/plain": [
       "array([  4.000004  ,  12.000008  ,  24.00000013,  23.99997562])"
      ]
     },
     "execution_count": 117,
     "metadata": {},
     "output_type": "execute_result"
    }
   ],
   "source": [
    "def f(x):\n",
    "    return x**4\n",
    "derivatives(f,1,4)"
   ]
  },
  {
   "cell_type": "code",
   "execution_count": null,
   "metadata": {
    "collapsed": true,
    "deletable": true,
    "editable": true
   },
   "outputs": [],
   "source": [
    "comb?"
   ]
  },
  {
   "cell_type": "markdown",
   "metadata": {
    "deletable": true,
    "editable": true
   },
   "source": [
    "## 4."
   ]
  },
  {
   "cell_type": "code",
   "execution_count": 40,
   "metadata": {
    "collapsed": false,
    "deletable": true,
    "editable": true
   },
   "outputs": [],
   "source": [
    "def taylor(f,a,n,L):\n",
    "    \n",
    "    H = [ ]\n",
    "    m = 1\n",
    "    g = 0\n",
    "    while m <= n:\n",
    "        for k in range(0,m+1):\n",
    "            g = g + ((-1)**k * comb(m,k) * f(a + (m-2*k)*0.001))\n",
    "        gf = g * (1 / (2**m * 0.001**m))\n",
    "        H.append(gf)\n",
    "        g = 0\n",
    "        m += 1\n",
    "    #return np.array(H)\n",
    "    T = 0\n",
    "    for k in range(0,n+1):\n",
    "        x = np.linspace(a-L,a+L,1000)\n",
    "        T = T + ((H[n-1]/factorial(k)) * (x-a)**k)\n",
    "                \n",
    "    plt.plot(x,f(x),x,T),plt.xlim(a-L,a+L)"
   ]
  },
  {
   "cell_type": "code",
   "execution_count": 42,
   "metadata": {
    "collapsed": false,
    "deletable": true,
    "editable": true
   },
   "outputs": [
    {
     "data": {
      "image/png": "[encoded data removed]",
      "text/plain": [
       "<matplotlib.figure.Figure at 0x7f8490b050f0>"
      ]
     },
     "metadata": {},
     "output_type": "display_data"
    }
   ],
   "source": [
    "def f(x):\n",
    "    return x**3\n",
    "taylor(f,1,4,3)"
   ]
  },
  {
   "cell_type": "code",
   "execution_count": 43,
   "metadata": {
    "collapsed": false,
    "deletable": true,
    "editable": true
   },
   "outputs": [],
   "source": [
    "\n",
    "    \n",
    "def derivatives1(f,a,n,L,h=0.001):\n",
    "    H = [ ]\n",
    "    m = 1\n",
    "    g = 0\n",
    "    while m <= n:\n",
    "        for k in range(0,m+1):\n",
    "            g = g + ((-1)**k * comb(m,k) * f(a + (m-2*k)*h))\n",
    "        gf = g * (1 / (2**m * h**m))\n",
    "        H.append(gf)\n",
    "        g = 0\n",
    "        m += 1\n",
    "    #return np.array(H)\n",
    "   \n",
    "    T = 0\n",
    "    for k in range(0,n+1):\n",
    "        x = np.linspace(a-L,a+L,1000)\n",
    "        T = T + ((H[k-1]/factorial(k)) * (x-a)**k)\n",
    "                \n",
    "        #plt.plot(x,f(x))\n",
    "        plt.plot(x,T,x,f(x),'r.')\n",
    "        plt.show()"
   ]
  },
  {
   "cell_type": "code",
   "execution_count": null,
   "metadata": {
    "collapsed": false,
    "deletable": true,
    "editable": true
   },
   "outputs": [],
   "source": [
    "def f(x):\n",
    "    return np.cos(x)\n",
    "derivatives1(f,np.pi,4,1)"
   ]
  },
  {
   "cell_type": "code",
   "execution_count": null,
   "metadata": {
    "collapsed": false,
    "deletable": true,
    "editable": true
   },
   "outputs": [],
   "source": [
    "factorial(0)"
   ]
  },
  {
   "cell_type": "markdown",
   "metadata": {
    "collapsed": true,
    "deletable": true,
    "editable": true
   },
   "source": [
    "## 5."
   ]
  },
  {
   "cell_type": "code",
   "execution_count": 43,
   "metadata": {
    "collapsed": false,
    "deletable": true,
    "editable": true
   },
   "outputs": [],
   "source": [
    "def newton(f,x0,tolerance,max_iter):\n",
    "    xn = x0\n",
    "    n = 0\n",
    "    while n <= max_iter:\n",
    "        if derivative(f,xn,dx=0.001) == 0:\n",
    "            return None\n",
    "        elif abs(f(xn)) < tolerance:\n",
    "            return xn\n",
    "        else:\n",
    "            xn1 = xn - f(xn)/derivative(f,xn,dx=0.00001)\n",
    "            xn = xn1\n",
    "            n += 1\n",
    "            if n > max_iter:\n",
    "                return None"
   ]
  },
  {
   "cell_type": "code",
   "execution_count": 49,
   "metadata": {
    "collapsed": false,
    "deletable": true,
    "editable": true
   },
   "outputs": [
    {
     "data": {
      "text/plain": [
       "-1.3252003989515206"
      ]
     },
     "execution_count": 49,
     "metadata": {},
     "output_type": "execute_result"
    }
   ],
   "source": [
    "def f(x):\n",
    "    return x**3-x+1\n",
    "newton(f,-1,0.08,3)"
   ]
  },
  {
   "cell_type": "code",
   "execution_count": 5,
   "metadata": {
    "collapsed": false,
    "deletable": true,
    "editable": true
   },
   "outputs": [
    {
     "data": {
      "text/plain": [
       "2"
      ]
     },
     "execution_count": 5,
     "metadata": {},
     "output_type": "execute_result"
    }
   ],
   "source": [
    "def f(x):\n",
    "    return x**3 - 5\n",
    "newton(f,2,23,4)"
   ]
  },
  {
   "cell_type": "code",
   "execution_count": 8,
   "metadata": {
    "collapsed": false,
    "deletable": true,
    "editable": true
   },
   "outputs": [
    {
     "data": {
      "text/plain": [
       "1.8210174302544662"
      ]
     },
     "execution_count": 8,
     "metadata": {},
     "output_type": "execute_result"
    }
   ],
   "source": [
    "newton(f,10,6,10)"
   ]
  },
  {
   "cell_type": "code",
   "execution_count": null,
   "metadata": {
    "collapsed": true,
    "deletable": true,
    "editable": true
   },
   "outputs": [],
   "source": []
  }
 ],
 "metadata": {
  "kernelspec": {
   "display_name": "Python 3",
   "language": "python",
   "name": "python3"
  },
  "language_info": {
   "codemirror_mode": {
    "name": "ipython",
    "version": 3
   },
   "file_extension": ".py",
   "mimetype": "text/x-python",
   "name": "python",
   "nbconvert_exporter": "python",
   "pygments_lexer": "ipython3",
   "version": "3.5.2"
  }
 },
 "nbformat": 4,
 "nbformat_minor": 2
}
