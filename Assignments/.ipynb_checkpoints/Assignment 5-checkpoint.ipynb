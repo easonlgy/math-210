{
 "cells": [
  {
   "cell_type": "markdown",
   "metadata": {
    "deletable": true,
    "editable": true
   },
   "source": [
    "# Assignment 5"
   ]
  },
  {
   "cell_type": "code",
   "execution_count": 1,
   "metadata": {
    "collapsed": true,
    "deletable": true,
    "editable": true
   },
   "outputs": [],
   "source": [
    "import numpy as np\n",
    "import matplotlib.pyplot as plt\n",
    "%matplotlib inline"
   ]
  },
  {
   "cell_type": "code",
   "execution_count": 2,
   "metadata": {
    "collapsed": true,
    "deletable": true,
    "editable": true
   },
   "outputs": [],
   "source": [
    "import scipy.integrate as spi"
   ]
  },
  {
   "cell_type": "code",
   "execution_count": 3,
   "metadata": {
    "collapsed": true,
    "deletable": true,
    "editable": true
   },
   "outputs": [],
   "source": [
    "from scipy.misc import factorial\n",
    "from scipy.misc import comb\n",
    "from scipy.misc import derivative"
   ]
  },
  {
   "cell_type": "markdown",
   "metadata": {
    "deletable": true,
    "editable": true
   },
   "source": [
    "## 1.\n",
    "\n",
    "### (a)\n",
    "\n",
    "$$\n",
    "\\int_0^{\\infty} \\frac{\\arctan(px)\\arctan(qx)}{x^2}dx = \\frac{\\pi}{2} \\ln \\left(\\frac{(p+q)^{p+q}}{p^p q^q}\\right) \\ \\ , \\ \\ p > 0 \\ , \\ q > 0\n",
    "$$"
   ]
  },
  {
   "cell_type": "markdown",
   "metadata": {
    "deletable": true,
    "editable": true
   },
   "source": [
    "### (b)"
   ]
  },
  {
   "cell_type": "code",
   "execution_count": 5,
   "metadata": {
    "collapsed": true,
    "deletable": true,
    "editable": true
   },
   "outputs": [],
   "source": [
    "def pq_integral(p,q):\n",
    "    if p <= 0 or q <= 0:\n",
    "        print('Error: one of p or q is less than 0')\n",
    "        return None\n",
    "    else:\n",
    "        def f(x):\n",
    "            return (np.arctan(p*x)*np.arctan(q*x))/x**2\n",
    "        I ,abserr = spi.quad(f,0,np.inf)\n",
    "        return I"
   ]
  },
  {
   "cell_type": "markdown",
   "metadata": {
    "deletable": true,
    "editable": true
   },
   "source": [
    "## 2. \n",
    "\n",
    "### (a)\n",
    "\n",
    "$$\n",
    "\\int_0^{\\infty} \\frac{\\ln x}{a^2 + b^2 x^2}dx = \\frac{\\pi}{2ab} \\ln \\left(\\frac{a}{b}\\right) \\ \\ , \\ ab > 0\n",
    "$$"
   ]
  },
  {
   "cell_type": "markdown",
   "metadata": {
    "deletable": true,
    "editable": true
   },
   "source": [
    "### (b)"
   ]
  },
  {
   "cell_type": "code",
   "execution_count": 6,
   "metadata": {
    "collapsed": true,
    "deletable": true,
    "editable": true
   },
   "outputs": [],
   "source": [
    "def ab_integral(a,b):\n",
    "    if a*b < 0:\n",
    "        print('Error: ab < 0')\n",
    "        return None\n",
    "    else:\n",
    "        def f(x):\n",
    "            return np.log(x)/(a**2+b**2 *x**2)\n",
    "        I, abserr = spi.quad(f,0,np.inf)\n",
    "        return I"
   ]
  },
  {
   "cell_type": "markdown",
   "metadata": {
    "deletable": true,
    "editable": true
   },
   "source": [
    "## 3."
   ]
  },
  {
   "cell_type": "code",
   "execution_count": 7,
   "metadata": {
    "collapsed": true,
    "deletable": true,
    "editable": true
   },
   "outputs": [],
   "source": [
    "def derivatives(f,a,n,h=0.001):\n",
    "    H = [ ]\n",
    "    m = 1\n",
    "    g = 0\n",
    "    while m <= n:\n",
    "        for k in range(0,m+1):\n",
    "            g = g + ((-1)**k * comb(m,k) * f(a + (m-2*k)*h))\n",
    "        gf = g * (1 / (2**m * h**m))\n",
    "        H.append(gf)\n",
    "        g = 0\n",
    "        m += 1\n",
    "    return np.array(H)"
   ]
  },
  {
   "cell_type": "markdown",
   "metadata": {
    "deletable": true,
    "editable": true
   },
   "source": [
    "## 4."
   ]
  },
  {
   "cell_type": "code",
   "execution_count": 8,
   "metadata": {
    "collapsed": true,
    "deletable": true,
    "editable": true
   },
   "outputs": [],
   "source": [
    "def taylor(f,a,n,L):\n",
    "    \n",
    "    H = [ ]\n",
    "    m = 1\n",
    "    g = 0\n",
    "    while m <= n:\n",
    "        for k in range(0,m+1):\n",
    "            g = g + ((-1)**k * comb(m,k) * f(a + (m-2*k)*0.001))\n",
    "        gf = g * (1 / (2**m * 0.001**m))\n",
    "        H.append(gf)\n",
    "        g = 0\n",
    "        m += 1\n",
    "    #return np.array(H)\n",
    "    T = 0\n",
    "    for k in range(0,n+1):\n",
    "        x = np.linspace(a-L,a+L,1000)\n",
    "        T = T + ((H[n-1]/factorial(k)) * (x-a)**k)\n",
    "                \n",
    "    plt.plot(x,f(x),x,T),plt.xlim(a-L,a+L)"
   ]
  },
  {
   "cell_type": "markdown",
   "metadata": {
    "deletable": true,
    "editable": true
   },
   "source": [
    "## 5."
   ]
  },
  {
   "cell_type": "code",
   "execution_count": 9,
   "metadata": {
    "collapsed": true,
    "deletable": true,
    "editable": true
   },
   "outputs": [],
   "source": [
    "def newton(f,x0,tolerance,max_iter):\n",
    "    xn = x0\n",
    "    n = 0\n",
    "    while n <= max_iter:\n",
    "        if derivative(f,xn,dx=0.001) == 0:\n",
    "            return None\n",
    "        elif abs(f(xn)) < tolerance:\n",
    "            return xn\n",
    "        else:\n",
    "            xn1 = xn - f(xn)/derivative(f,xn,dx=0.00001)\n",
    "            xn = xn1\n",
    "            n += 1\n",
    "            if n > max_iter:\n",
    "                return None"
   ]
  }
 ],
 "metadata": {
  "kernelspec": {
   "display_name": "Python 3",
   "language": "python",
   "name": "python3"
  },
  "language_info": {
   "codemirror_mode": {
    "name": "ipython",
    "version": 3
   },
   "file_extension": ".py",
   "mimetype": "text/x-python",
   "name": "python",
   "nbconvert_exporter": "python",
   "pygments_lexer": "ipython3",
   "version": "3.5.2"
  }
 },
 "nbformat": 4,
 "nbformat_minor": 2
}
