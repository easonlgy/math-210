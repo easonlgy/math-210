{
 "cells": [
  {
   "cell_type": "markdown",
   "metadata": {},
   "source": [
    "# MATH 210 Assignment 1"
   ]
  },
  {
   "cell_type": "markdown",
   "metadata": {},
   "source": [
    "## 1. \n",
    "My favorite city is **Fuzhou**, the provincial capital of Fujian province, located in the southeast of China.\n",
    "![Fuzhou](http://www.chinainvestigator.com/components/com_rsmediagallery/assets/gallery/2248x627/c021047dc288e881f186cea192ceb28e.jpg)\n",
    "(Image courtesy of [China Investigator](http://www.chinainvestigator.com)) \n",
    "![location of Fuzhou](http://www.worldatlas.com/img/locator/city/091/3491-fuzhou-locator-map.jpg)\n",
    "(Image courtesy of [World Atlas](http://www.worldatlas.com))\n",
    "\n",
    "Fuzhou is the biggest city in Fujian province and it is also a historical and developed city in China since hundreds year ago, it was one of the earliest port opening to foriegn countries. You may hear that the heavy air pollution in China this decades just as The Great Smog of 1952 in London. However, Fuzhou as a provincial and developing city, the air quality is always top three in China because Fujian province has the highest forest covered rate in China. And not dramatically, some people specially travel to Fuzhou just for inhaling fresh air.\n",
    "\n",
    "One of nickname for Fuzhou is *three mountains* and the three mountains are:\n",
    "* Yu Mountain    [Yu Mountain Website](http://www.fzyushan.com/)\n",
    "* Ping Mountain *(The altitute of this mountain is just 62m so people live here just like everywhere else in the city. And the most famous building is the one on the top of the mountain, called Zhenhai Building)*\n",
    "* Wu Mountain    *(This on is also an open place to everyone now and no ticket needed to have a tour)*\n",
    "\n",
    "And also, Fuzhou is famous for its uncountable amazing snack and street food.\n",
    "![snack and steet food](https://s-media-cache-ak0.pinimg.com/236x/bc/a7/a5/bca7a5697df9c8f17ec883be8bdd6a60.jpg)\n",
    "\n",
    "It just shows nine kinds of snacks or street food in the picture above, but it includes one the most famous and delicious one **fish ball**, which in the lower right corner of the picture. You may see fish ball all over the world, but what makes the Fuzhou fish ball so special? Since the skin(outside part) and the stuffing are both made of fishes(usually sharks). And how delicious the fish ball is? We used fish ball as the first ten food to treat Prime Minister Li when he visited Fuzhou last year, and he could not stop eating it. \n",
    "\n",
    "But in all, I love this city so much just because it is my **hometown**. I was born and raised in this city and I know everything about Fuzhou just as the back of my hand. People here are kind, friendly and full of passion. Hope you can come to my hometown one day and I am sure you will fall in love with the city. You can travel by Air Canada or China Eastern Air to Shanghai first then connects to Fuzhou, it is the most convenience way."
   ]
  },
  {
   "cell_type": "markdown",
   "metadata": {},
   "source": [
    "## 2. \n",
    "My favorite courses in UBC:\n",
    "* First Year\n",
    " * [MATH 184 Differential Calculus for Social Science and Commerce](https://courses.students.ubc.ca/cs/main?pname=subjarea&tname=subjareas&req=3&dept=MATH&course=184)\n",
    " * [PHIL 120 Introduction to Critical Thinking](https://courses.students.ubc.ca/cs/main?pname=subjarea&tname=subjareas&req=3&dept=PHIL&course=120)\n",
    "* Second Year\n",
    " * [MATH 215 Elementary Differential Equations I](https://courses.students.ubc.ca/cs/main?pname=subjarea&tname=subjareas&req=3&dept=MATH&course=215)\n",
    " * [ECON 221 Introduction to Strategic Thinking](https://courses.students.ubc.ca/cs/main?pname=subjarea&tname=subjareas&req=3&dept=ECON&course=221)\n",
    "* Third Year\n",
    " * [MATH 210 Introduction to Mathematical Computing](https://courses.students.ubc.ca/cs/main?pname=subjarea&tname=subjareas&req=3&dept=MATH&course=210)\n",
    " * [MATH 340 Introduction to Linear Programming](https://courses.students.ubc.ca/cs/main?pname=subjarea&tname=subjareas&req=3&dept=MATH&course=340)\n",
    " * [CHIN 461 Early Classical Chinese Poetry (to Han)](https://courses.students.ubc.ca/cs/main?pname=subjarea&tname=subjareas&req=3&dept=CHIN&course=461)\n",
    " * [ECON 345 Money and Banking](https://courses.students.ubc.ca/cs/main?pname=subjarea&tname=subjareas&req=3&dept=ECON&course=345)\n",
    " "
   ]
  },
  {
   "cell_type": "markdown",
   "metadata": {},
   "source": [
    "## 3.\n",
    "$$\n",
    "\\begin{bmatrix} 5 & 2 & 1 \\\\ 3 & 7 & 5 \\\\ 2 & 0 & 4 \\end{bmatrix}\n",
    "\\begin{bmatrix} x_1 \\\\ x_2 \\\\ x_3 \\end{bmatrix}\n",
    "= \\begin{bmatrix} 0 \\\\ 1 \\\\ 3 \\end{bmatrix}\n",
    "$$"
   ]
  },
  {
   "cell_type": "markdown",
   "metadata": {},
   "source": [
    "## 4.\n",
    "$$\n",
    "\\oint_{\\partial \\Sigma} {\\mathbf {E}} \\cdot {\\partial \\boldsymbol \\ell} = - {\\frac {d}{\\partial t}} {\\int \\hspace{-2mm} \\int_\\Sigma} {\\mathbf {B}} \\cdot {\\partial \\mathbf {S}}\n",
    "$$"
   ]
  },
  {
   "cell_type": "markdown",
   "metadata": {},
   "source": [
    "## 5.\n",
    "$$\n",
    "\\frac {\\partial V}{\\partial t} +\n",
    "\\frac {1}{2} \\sigma^2 S^2 \\frac {\\partial^2 V}{\\partial S^2} +\n",
    "rS \\frac {\\partial V}{\\partial S} -\n",
    "rV\n",
    "= 0\n",
    "$$"
   ]
  },
  {
   "cell_type": "markdown",
   "metadata": {},
   "source": [
    "## 6. \n",
    "An interesting math equation is actually a set of two equations:\n",
    "$$\n",
    "x = 16 sin^3 (t)\n",
    "$$\n",
    "$$\n",
    "y = 13 cos (t) - 5 cos (2t) - 2 cos (3t) - cos (4t)\n",
    "$$\n",
    "or a similar shape with different equation:\n",
    "$$\n",
    "r = \\frac {sin (t) \\sqrt {|cos (t)|}}{sin (t) + \\frac {7}{5}} - 2sin (t) + 2\n",
    "$$\n",
    "The first set of equations and the second equation are both the heart-equation. I think it is an interesting and lovely equation. I did not learn it in class but my high school math teacher mentioned it once in class and last year he used it to propose to his wife and she said yes!"
   ]
  }
 ],
 "metadata": {
  "kernelspec": {
   "display_name": "Python 3",
   "language": "python",
   "name": "python3"
  },
  "language_info": {
   "codemirror_mode": {
    "name": "ipython",
    "version": 3
   },
   "file_extension": ".py",
   "mimetype": "text/x-python",
   "name": "python",
   "nbconvert_exporter": "python",
   "pygments_lexer": "ipython3",
   "version": "3.5.2"
  }
 },
 "nbformat": 4,
 "nbformat_minor": 1
}
